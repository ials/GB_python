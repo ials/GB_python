{
  "nbformat": 4,
  "nbformat_minor": 0,
  "metadata": {
    "colab": {
      "name": "05 - Street Network Analysis - solution to the exercises.ipynb",
      "provenance": [],
      "collapsed_sections": []
    },
    "kernelspec": {
      "name": "python3",
      "display_name": "Python 3"
    }
  },
  "cells": [
    {
      "cell_type": "markdown",
      "metadata": {
        "id": "jE73p1ppMyD_"
      },
      "source": [
        "# Setup"
      ]
    },
    {
      "cell_type": "code",
      "metadata": {
        "id": "ZBVc1nksM9q4",
        "outputId": "fc1743fb-042b-43b2-8593-5667782682f4",
        "colab": {
          "base_uri": "https://localhost:8080/"
        }
      },
      "source": [
        "try:\n",
        "  import rtree\n",
        "except ModuleNotFoundError as e:\n",
        "  !apt-get install libspatialindex-dev\n",
        "  !pip install rtree\n",
        "  import rtree"
      ],
      "execution_count": 1,
      "outputs": [
        {
          "output_type": "stream",
          "text": [
            "Reading package lists... Done\n",
            "Building dependency tree       \n",
            "Reading state information... Done\n",
            "The following additional packages will be installed:\n",
            "  libspatialindex-c4v5 libspatialindex4v5\n",
            "The following NEW packages will be installed:\n",
            "  libspatialindex-c4v5 libspatialindex-dev libspatialindex4v5\n",
            "0 upgraded, 3 newly installed, 0 to remove and 11 not upgraded.\n",
            "Need to get 555 kB of archives.\n",
            "After this operation, 3,308 kB of additional disk space will be used.\n",
            "Get:1 http://archive.ubuntu.com/ubuntu bionic/universe amd64 libspatialindex4v5 amd64 1.8.5-5 [219 kB]\n",
            "Get:2 http://archive.ubuntu.com/ubuntu bionic/universe amd64 libspatialindex-c4v5 amd64 1.8.5-5 [51.7 kB]\n",
            "Get:3 http://archive.ubuntu.com/ubuntu bionic/universe amd64 libspatialindex-dev amd64 1.8.5-5 [285 kB]\n",
            "Fetched 555 kB in 1s (716 kB/s)\n",
            "Selecting previously unselected package libspatialindex4v5:amd64.\n",
            "(Reading database ... 144628 files and directories currently installed.)\n",
            "Preparing to unpack .../libspatialindex4v5_1.8.5-5_amd64.deb ...\n",
            "Unpacking libspatialindex4v5:amd64 (1.8.5-5) ...\n",
            "Selecting previously unselected package libspatialindex-c4v5:amd64.\n",
            "Preparing to unpack .../libspatialindex-c4v5_1.8.5-5_amd64.deb ...\n",
            "Unpacking libspatialindex-c4v5:amd64 (1.8.5-5) ...\n",
            "Selecting previously unselected package libspatialindex-dev:amd64.\n",
            "Preparing to unpack .../libspatialindex-dev_1.8.5-5_amd64.deb ...\n",
            "Unpacking libspatialindex-dev:amd64 (1.8.5-5) ...\n",
            "Setting up libspatialindex4v5:amd64 (1.8.5-5) ...\n",
            "Setting up libspatialindex-c4v5:amd64 (1.8.5-5) ...\n",
            "Setting up libspatialindex-dev:amd64 (1.8.5-5) ...\n",
            "Processing triggers for libc-bin (2.27-3ubuntu1.2) ...\n",
            "/sbin/ldconfig.real: /usr/local/lib/python3.6/dist-packages/ideep4py/lib/libmkldnn.so.0 is not a symbolic link\n",
            "\n",
            "Collecting rtree\n",
            "\u001b[?25l  Downloading https://files.pythonhosted.org/packages/56/6f/f1e91001d5ad9fa9bed65875152f5a1c7955c5763168cae309546e6e9fda/Rtree-0.9.4.tar.gz (62kB)\n",
            "\u001b[K     |████████████████████████████████| 71kB 2.1MB/s \n",
            "\u001b[?25hRequirement already satisfied: setuptools in /usr/local/lib/python3.6/dist-packages (from rtree) (50.3.2)\n",
            "Building wheels for collected packages: rtree\n",
            "  Building wheel for rtree (setup.py) ... \u001b[?25l\u001b[?25hdone\n",
            "  Created wheel for rtree: filename=Rtree-0.9.4-cp36-none-any.whl size=21768 sha256=5bcfb917215edd2580a8d162dca32e903571a926208666e678b3b4f76a40d2bb\n",
            "  Stored in directory: /root/.cache/pip/wheels/ff/20/c5/0004ef7acb96745ec99be960053902b0b414a2aa2dcad5834e\n",
            "Successfully built rtree\n",
            "Installing collected packages: rtree\n",
            "Successfully installed rtree-0.9.4\n"
          ],
          "name": "stdout"
        }
      ]
    },
    {
      "cell_type": "code",
      "metadata": {
        "id": "SDdDNmtuMt0w",
        "outputId": "f9efac20-111a-448a-e1f7-a090a2fa4bca",
        "colab": {
          "base_uri": "https://localhost:8080/",
          "height": 1000
        }
      },
      "source": [
        "!pip install osmnx"
      ],
      "execution_count": 2,
      "outputs": [
        {
          "output_type": "stream",
          "text": [
            "Collecting osmnx\n",
            "\u001b[?25l  Downloading https://files.pythonhosted.org/packages/ed/91/ad30e3ed4d16140f975f05adc13c1ca0146d61438dfabe01bf66025a44e5/osmnx-0.16.1-py2.py3-none-any.whl (87kB)\n",
            "\r\u001b[K     |███▊                            | 10kB 7.5MB/s eta 0:00:01\r\u001b[K     |███████▌                        | 20kB 1.8MB/s eta 0:00:01\r\u001b[K     |███████████▏                    | 30kB 2.2MB/s eta 0:00:01\r\u001b[K     |███████████████                 | 40kB 2.4MB/s eta 0:00:01\r\u001b[K     |██████████████████▊             | 51kB 2.0MB/s eta 0:00:01\r\u001b[K     |██████████████████████▍         | 61kB 2.3MB/s eta 0:00:01\r\u001b[K     |██████████████████████████▏     | 71kB 2.5MB/s eta 0:00:01\r\u001b[K     |██████████████████████████████  | 81kB 2.7MB/s eta 0:00:01\r\u001b[K     |████████████████████████████████| 92kB 2.4MB/s \n",
            "\u001b[?25hRequirement already satisfied: pandas>=1.1 in /usr/local/lib/python3.6/dist-packages (from osmnx) (1.1.3)\n",
            "Collecting geopandas>=0.8\n",
            "\u001b[?25l  Downloading https://files.pythonhosted.org/packages/f7/a4/e66aafbefcbb717813bf3a355c8c4fc3ed04ea1dd7feb2920f2f4f868921/geopandas-0.8.1-py2.py3-none-any.whl (962kB)\n",
            "\u001b[K     |████████████████████████████████| 972kB 7.9MB/s \n",
            "\u001b[?25hRequirement already satisfied: descartes>=1.1 in /usr/local/lib/python3.6/dist-packages (from osmnx) (1.1.0)\n",
            "Requirement already satisfied: Shapely>=1.7 in /usr/local/lib/python3.6/dist-packages (from osmnx) (1.7.1)\n",
            "Collecting requests>=2.24\n",
            "\u001b[?25l  Downloading https://files.pythonhosted.org/packages/45/1e/0c169c6a5381e241ba7404532c16a21d86ab872c9bed8bdcd4c423954103/requests-2.24.0-py2.py3-none-any.whl (61kB)\n",
            "\u001b[K     |████████████████████████████████| 71kB 6.9MB/s \n",
            "\u001b[?25hCollecting pyproj>=2.6\n",
            "\u001b[?25l  Downloading https://files.pythonhosted.org/packages/e5/c3/071e080230ac4b6c64f1a2e2f9161c9737a2bc7b683d2c90b024825000c0/pyproj-2.6.1.post1-cp36-cp36m-manylinux2010_x86_64.whl (10.9MB)\n",
            "\u001b[K     |████████████████████████████████| 10.9MB 12.3MB/s \n",
            "\u001b[?25hCollecting matplotlib>=3.3\n",
            "\u001b[?25l  Downloading https://files.pythonhosted.org/packages/cd/d6/8c4dfb23151d5a494c66ebbfdb5c8c433b44ec07fae52da5939fcda0943f/matplotlib-3.3.2-cp36-cp36m-manylinux1_x86_64.whl (11.6MB)\n",
            "\u001b[K     |████████████████████████████████| 11.6MB 32.3MB/s \n",
            "\u001b[?25hRequirement already satisfied: Rtree>=0.9 in /usr/local/lib/python3.6/dist-packages (from osmnx) (0.9.4)\n",
            "Collecting numpy>=1.19\n",
            "\u001b[33m  WARNING: Retrying (Retry(total=4, connect=None, read=None, redirect=None, status=None)) after connection broken by 'ProtocolError('Connection aborted.', ConnectionResetError(104, 'Connection reset by peer'))': /packages/0e/f7/a7d7e0de99a7b43bd95aaddcf29e65b5a185ca389dd1329a53cc986edc38/numpy-1.19.3-cp36-cp36m-manylinux2010_x86_64.whl\u001b[0m\n",
            "\u001b[?25l  Downloading https://files.pythonhosted.org/packages/0e/f7/a7d7e0de99a7b43bd95aaddcf29e65b5a185ca389dd1329a53cc986edc38/numpy-1.19.3-cp36-cp36m-manylinux2010_x86_64.whl (14.9MB)\n",
            "\u001b[K     |████████████████████████████████| 14.9MB 315kB/s \n",
            "\u001b[?25hRequirement already satisfied: networkx>=2.5 in /usr/local/lib/python3.6/dist-packages (from osmnx) (2.5)\n",
            "Requirement already satisfied: pytz>=2017.2 in /usr/local/lib/python3.6/dist-packages (from pandas>=1.1->osmnx) (2018.9)\n",
            "Requirement already satisfied: python-dateutil>=2.7.3 in /usr/local/lib/python3.6/dist-packages (from pandas>=1.1->osmnx) (2.8.1)\n",
            "Collecting fiona\n",
            "\u001b[?25l  Downloading https://files.pythonhosted.org/packages/36/8b/e8b2c11bed5373c8e98edb85ce891b09aa1f4210fd451d0fb3696b7695a2/Fiona-1.8.17-cp36-cp36m-manylinux1_x86_64.whl (14.8MB)\n",
            "\u001b[K     |████████████████████████████████| 14.8MB 307kB/s \n",
            "\u001b[?25hRequirement already satisfied: chardet<4,>=3.0.2 in /usr/local/lib/python3.6/dist-packages (from requests>=2.24->osmnx) (3.0.4)\n",
            "Requirement already satisfied: idna<3,>=2.5 in /usr/local/lib/python3.6/dist-packages (from requests>=2.24->osmnx) (2.10)\n",
            "Requirement already satisfied: certifi>=2017.4.17 in /usr/local/lib/python3.6/dist-packages (from requests>=2.24->osmnx) (2020.6.20)\n",
            "Requirement already satisfied: urllib3!=1.25.0,!=1.25.1,<1.26,>=1.21.1 in /usr/local/lib/python3.6/dist-packages (from requests>=2.24->osmnx) (1.24.3)\n",
            "Requirement already satisfied: pyparsing!=2.0.4,!=2.1.2,!=2.1.6,>=2.0.3 in /usr/local/lib/python3.6/dist-packages (from matplotlib>=3.3->osmnx) (2.4.7)\n",
            "Requirement already satisfied: pillow>=6.2.0 in /usr/local/lib/python3.6/dist-packages (from matplotlib>=3.3->osmnx) (7.0.0)\n",
            "Requirement already satisfied: cycler>=0.10 in /usr/local/lib/python3.6/dist-packages (from matplotlib>=3.3->osmnx) (0.10.0)\n",
            "Requirement already satisfied: kiwisolver>=1.0.1 in /usr/local/lib/python3.6/dist-packages (from matplotlib>=3.3->osmnx) (1.2.0)\n",
            "Requirement already satisfied: setuptools in /usr/local/lib/python3.6/dist-packages (from Rtree>=0.9->osmnx) (50.3.2)\n",
            "Requirement already satisfied: decorator>=4.3.0 in /usr/local/lib/python3.6/dist-packages (from networkx>=2.5->osmnx) (4.4.2)\n",
            "Requirement already satisfied: six>=1.5 in /usr/local/lib/python3.6/dist-packages (from python-dateutil>=2.7.3->pandas>=1.1->osmnx) (1.15.0)\n",
            "Requirement already satisfied: attrs>=17 in /usr/local/lib/python3.6/dist-packages (from fiona->geopandas>=0.8->osmnx) (20.2.0)\n",
            "Collecting cligj>=0.5\n",
            "  Downloading https://files.pythonhosted.org/packages/ba/06/e3440b1f2dc802d35f329f299ba96153e9fcbfdef75e17f4b61f79430c6a/cligj-0.7.0-py3-none-any.whl\n",
            "Requirement already satisfied: click<8,>=4.0 in /usr/local/lib/python3.6/dist-packages (from fiona->geopandas>=0.8->osmnx) (7.1.2)\n",
            "Collecting munch\n",
            "  Downloading https://files.pythonhosted.org/packages/cc/ab/85d8da5c9a45e072301beb37ad7f833cd344e04c817d97e0cc75681d248f/munch-2.5.0-py2.py3-none-any.whl\n",
            "Collecting click-plugins>=1.0\n",
            "  Downloading https://files.pythonhosted.org/packages/e9/da/824b92d9942f4e472702488857914bdd50f73021efea15b4cad9aca8ecef/click_plugins-1.1.1-py2.py3-none-any.whl\n",
            "\u001b[31mERROR: tensorflow 2.3.0 has requirement numpy<1.19.0,>=1.16.0, but you'll have numpy 1.19.3 which is incompatible.\u001b[0m\n",
            "\u001b[31mERROR: google-colab 1.0.0 has requirement requests~=2.23.0, but you'll have requests 2.24.0 which is incompatible.\u001b[0m\n",
            "\u001b[31mERROR: datascience 0.10.6 has requirement folium==0.2.1, but you'll have folium 0.8.3 which is incompatible.\u001b[0m\n",
            "\u001b[31mERROR: albumentations 0.1.12 has requirement imgaug<0.2.7,>=0.2.5, but you'll have imgaug 0.2.9 which is incompatible.\u001b[0m\n",
            "Installing collected packages: pyproj, cligj, munch, click-plugins, fiona, geopandas, requests, numpy, matplotlib, osmnx\n",
            "  Found existing installation: requests 2.23.0\n",
            "    Uninstalling requests-2.23.0:\n",
            "      Successfully uninstalled requests-2.23.0\n",
            "  Found existing installation: numpy 1.18.5\n",
            "    Uninstalling numpy-1.18.5:\n",
            "      Successfully uninstalled numpy-1.18.5\n",
            "  Found existing installation: matplotlib 3.2.2\n",
            "    Uninstalling matplotlib-3.2.2:\n",
            "      Successfully uninstalled matplotlib-3.2.2\n",
            "Successfully installed click-plugins-1.1.1 cligj-0.7.0 fiona-1.8.17 geopandas-0.8.1 matplotlib-3.3.2 munch-2.5.0 numpy-1.19.3 osmnx-0.16.1 pyproj-2.6.1.post1 requests-2.24.0\n"
          ],
          "name": "stdout"
        },
        {
          "output_type": "display_data",
          "data": {
            "application/vnd.colab-display-data+json": {
              "pip_warning": {
                "packages": [
                  "matplotlib",
                  "mpl_toolkits",
                  "numpy"
                ]
              }
            }
          },
          "metadata": {
            "tags": []
          }
        }
      ]
    },
    {
      "cell_type": "markdown",
      "metadata": {
        "id": "rFMSrTsAM3cg"
      },
      "source": [
        "## Exercises\n",
        "- identify the shortest path by walk to reach the Castle of Trento from the main train station\n",
        "- identify how many bars you can reach by walking in 5 minutes from the main train station of Trento"
      ]
    },
    {
      "cell_type": "markdown",
      "metadata": {
        "id": "lzVZm5iYNOjU"
      },
      "source": [
        "# identify the shortest path by walk to reach the Castle of Trento from the main train station\n",
        "- where is the castle in Trento\n",
        "- where is the main train station"
      ]
    },
    {
      "cell_type": "code",
      "metadata": {
        "id": "npCX_J_QNLPR",
        "outputId": "8ad67bf1-ccf6-43b5-96fc-86069abe36bb",
        "colab": {
          "base_uri": "https://localhost:8080/"
        }
      },
      "source": [
        "!pip install geopy"
      ],
      "execution_count": 1,
      "outputs": [
        {
          "output_type": "stream",
          "text": [
            "Requirement already satisfied: geopy in /usr/local/lib/python3.6/dist-packages (1.17.0)\n",
            "Requirement already satisfied: geographiclib<2,>=1.49 in /usr/local/lib/python3.6/dist-packages (from geopy) (1.50)\n"
          ],
          "name": "stdout"
        }
      ]
    },
    {
      "cell_type": "markdown",
      "metadata": {
        "id": "wyHQc1BnNYc1"
      },
      "source": [
        "## where is the castle in Trento\n",
        "THe name of the castle of Trento is *Castello del Buonconsiglio*\n",
        "\n",
        "https://en.wikipedia.org/wiki/Buonconsiglio_Castle\n",
        "\n"
      ]
    },
    {
      "cell_type": "code",
      "metadata": {
        "id": "EPqiGXtUN1V5"
      },
      "source": [
        "from geopy.geocoders import Nominatim"
      ],
      "execution_count": 2,
      "outputs": []
    },
    {
      "cell_type": "code",
      "metadata": {
        "id": "s4_aLhUoN700"
      },
      "source": [
        "geolocator = Nominatim(user_agent=\"geospatial course\")\n",
        "location = geolocator.geocode(\"Castello del Buonconsiglio\")"
      ],
      "execution_count": 3,
      "outputs": []
    },
    {
      "cell_type": "code",
      "metadata": {
        "id": "Ub8Kk7iROIRJ"
      },
      "source": [
        "point_castle =  (location.latitude, location.longitude)"
      ],
      "execution_count": 4,
      "outputs": []
    },
    {
      "cell_type": "markdown",
      "metadata": {
        "id": "kG4TwJrnQZfz"
      },
      "source": [
        "## where is the main train station in Trento\n",
        "\n",
        "https://en.wikipedia.org/wiki/Trento_railway_station"
      ]
    },
    {
      "cell_type": "code",
      "metadata": {
        "id": "a7g5-FaMOhH-"
      },
      "source": [
        "location = geolocator.geocode(\"Trento stazione fs\")"
      ],
      "execution_count": 5,
      "outputs": []
    },
    {
      "cell_type": "code",
      "metadata": {
        "id": "qp-12M9nQvcF"
      },
      "source": [
        "point_train_station =  (location.latitude, location.longitude)"
      ],
      "execution_count": 6,
      "outputs": []
    },
    {
      "cell_type": "markdown",
      "metadata": {
        "id": "vNKg70llREoT"
      },
      "source": [
        "## create the streets walking graph"
      ]
    },
    {
      "cell_type": "code",
      "metadata": {
        "id": "Sk5UaFk-RYA3"
      },
      "source": [
        "import osmnx as ox"
      ],
      "execution_count": 7,
      "outputs": []
    },
    {
      "cell_type": "code",
      "metadata": {
        "id": "ejKSWX-JRMnT"
      },
      "source": [
        "G = ox.graph_from_place(\"Trento, Italy\", network_type='walk')"
      ],
      "execution_count": 8,
      "outputs": []
    },
    {
      "cell_type": "code",
      "metadata": {
        "id": "w6l8OjHKRdbk",
        "outputId": "c024fb43-a172-4bbe-d272-4ba8a3e38739",
        "colab": {
          "base_uri": "https://localhost:8080/",
          "height": 466
        }
      },
      "source": [
        "fig, ax = ox.plot_graph(G)"
      ],
      "execution_count": 9,
      "outputs": [
        {
          "output_type": "display_data",
          "data": {
            "image/png": "[encoded data removed]",
            "text/plain": [
              "<Figure size 576x576 with 1 Axes>"
            ]
          },
          "metadata": {
            "tags": []
          }
        }
      ]
    },
    {
      "cell_type": "markdown",
      "metadata": {
        "id": "4gseT4udRjP8"
      },
      "source": [
        "## identify the shortest path\n",
        "\n",
        "the points must connetected to the graph"
      ]
    },
    {
      "cell_type": "code",
      "metadata": {
        "id": "zr3ULBvMRk5W"
      },
      "source": [
        "point_nearest_train_station= ox.get_nearest_node(G, point_train_station)\n",
        "point_nearest_castle = ox.get_nearest_node(G, point_castle)"
      ],
      "execution_count": 10,
      "outputs": []
    },
    {
      "cell_type": "code",
      "metadata": {
        "id": "81W9P8JeSFt7"
      },
      "source": [
        "G = ox.add_edge_speeds(G)\n",
        "G = ox.add_edge_travel_times(G)"
      ],
      "execution_count": 12,
      "outputs": []
    },
    {
      "cell_type": "markdown",
      "metadata": {
        "id": "Nk9J9uksSMMX"
      },
      "source": [
        "### calculate the shortest path ;)"
      ]
    },
    {
      "cell_type": "code",
      "metadata": {
        "id": "rP7Z0ZzRSK54"
      },
      "source": [
        "route = ox.shortest_path(G, point_nearest_train_station, point_nearest_castle, weight='travel_time')"
      ],
      "execution_count": 13,
      "outputs": []
    },
    {
      "cell_type": "markdown",
      "metadata": {
        "id": "iE4MCV5GSgCw"
      },
      "source": [
        "### show it on the map \n",
        "\n"
      ]
    },
    {
      "cell_type": "code",
      "metadata": {
        "id": "xKzgzfnASWpl",
        "outputId": "d09f8c8a-d91b-4463-c1b2-7e6c5308e645",
        "colab": {
          "base_uri": "https://localhost:8080/",
          "height": 904
        }
      },
      "source": [
        "ox.plot_route_folium(G,route,popup_attribute='name',tiles='OpenStreetMap')"
      ],
      "execution_count": null,
      "outputs": [
        {
          "output_type": "execute_result",
          "data": {
            "text/html": [
              "<div style=\"width:100%;\"><div style=\"position:relative;width:100%;height:0;padding-bottom:60%;\"><span style=\"color:#565656\">Make this Notebook Trusted to load map: File -> Trust Notebook</span><iframe src=\"about:blank\" style=\"position:absolute;width:100%;height:100%;left:0;top:0;border:none !important;\" data-html=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 onload=\"this.contentDocument.open();this.contentDocument.write(atob(this.getAttribute('data-html')));this.contentDocument.close();\" allowfullscreen webkitallowfullscreen mozallowfullscreen></iframe></div></div>"
            ],
            "text/plain": [
              "<folium.folium.Map at 0x7f761bd41588>"
            ]
          },
          "metadata": {
            "tags": []
          },
          "execution_count": 93
        }
      ]
    },
    {
      "cell_type": "code",
      "metadata": {
        "id": "irGwK7Y-4TLO",
        "outputId": "a93031e9-75ed-45c8-d88a-ee08e4079b97",
        "colab": {
          "base_uri": "https://localhost:8080/"
        }
      },
      "source": [
        "route"
      ],
      "execution_count": 14,
      "outputs": [
        {
          "output_type": "execute_result",
          "data": {
            "text/plain": [
              "[2591984564,\n",
              " 885670129,\n",
              " 923132120,\n",
              " 864509648,\n",
              " 1271504829,\n",
              " 864509624,\n",
              " 864509653,\n",
              " 923131626,\n",
              " 256547302,\n",
              " 939851099,\n",
              " 977894450,\n",
              " 257030408,\n",
              " 248794958,\n",
              " 880590599,\n",
              " 2344153496,\n",
              " 2653965264,\n",
              " 2496642274,\n",
              " 270648222,\n",
              " 1000099724,\n",
              " 1638162381,\n",
              " 889555458,\n",
              " 266157700,\n",
              " 889555393,\n",
              " 983735557,\n",
              " 998662078,\n",
              " 998661855,\n",
              " 983735435,\n",
              " 983735662,\n",
              " 983735513,\n",
              " 955281037,\n",
              " 1252285107,\n",
              " 1252285133,\n",
              " 2889611593,\n",
              " 6036162196,\n",
              " 6036162193,\n",
              " 858341167,\n",
              " 858341204]"
            ]
          },
          "metadata": {
            "tags": []
          },
          "execution_count": 14
        }
      ]
    },
    {
      "cell_type": "code",
      "metadata": {
        "id": "WDchwFUV02Dp",
        "outputId": "8cc525d2-5648-4f42-8046-dd62936e215b",
        "colab": {
          "base_uri": "https://localhost:8080/"
        }
      },
      "source": [
        "G.nodes[2591984564]"
      ],
      "execution_count": 15,
      "outputs": [
        {
          "output_type": "execute_result",
          "data": {
            "text/plain": [
              "{'osmid': 2591984564, 'x': 11.1195324, 'y': 46.0720446}"
            ]
          },
          "metadata": {
            "tags": []
          },
          "execution_count": 15
        }
      ]
    },
    {
      "cell_type": "code",
      "metadata": {
        "id": "fKgC2kBf4cL9",
        "outputId": "4a912a53-ff51-4461-e82e-717737f3533b",
        "colab": {
          "base_uri": "https://localhost:8080/"
        }
      },
      "source": [
        "G.nodes[2591984564]['x']"
      ],
      "execution_count": 16,
      "outputs": [
        {
          "output_type": "execute_result",
          "data": {
            "text/plain": [
              "11.1195324"
            ]
          },
          "metadata": {
            "tags": []
          },
          "execution_count": 16
        }
      ]
    },
    {
      "cell_type": "code",
      "metadata": {
        "id": "cbFs8cWi1LdB"
      },
      "source": [
        "from shapely.geometry import Point,LineString"
      ],
      "execution_count": 17,
      "outputs": []
    },
    {
      "cell_type": "code",
      "metadata": {
        "id": "Be4BQG6g4M75"
      },
      "source": [
        "points = []\n",
        "for idnode in route:\n",
        "  lon = G.nodes[idnode]['x']\n",
        "  lat = G.nodes[idnode]['y']\n",
        "  point = Point(lon,lat)\n",
        "  points.append(point)"
      ],
      "execution_count": 18,
      "outputs": []
    },
    {
      "cell_type": "code",
      "metadata": {
        "id": "At1Emunj45dP"
      },
      "source": [
        "path = LineString(points)"
      ],
      "execution_count": 19,
      "outputs": []
    },
    {
      "cell_type": "code",
      "metadata": {
        "id": "REJNyP3y4-rB",
        "outputId": "ec6f4a29-6c7d-4eba-bf50-6bc4a0107959",
        "colab": {
          "base_uri": "https://localhost:8080/",
          "height": 121
        }
      },
      "source": [
        "path"
      ],
      "execution_count": 20,
      "outputs": [
        {
          "output_type": "execute_result",
          "data": {
            "text/plain": [
              "<shapely.geometry.linestring.LineString at 0x7f48eeb82390>"
            ],
            "image/svg+xml": "<svg xmlns=\"http://www.w3.org/2000/svg\" xmlns:xlink=\"http://www.w3.org/1999/xlink\" width=\"100.0\" height=\"100.0\" viewBox=\"11.119236748 46.070812448 0.007982604000000393 0.0029809039999975084\" preserveAspectRatio=\"xMinYMin meet\"><g transform=\"matrix(1,0,0,-1,0,92.1446058)\"><polyline fill=\"none\" stroke=\"#66cc99\" stroke-width=\"0.00015965208000000785\" points=\"11.1195324,46.0720446 11.119568,46.072033 11.1196816,46.0721919 11.1197867,46.0723393 11.1198453,46.0723481 11.1198995,46.0723563 11.1200679,46.0724764 11.1201251,46.0725837 11.1201909,46.0726872 11.1202441,46.0727605 11.1202688,46.0727937 11.1208355,46.0734944 11.1208969,46.0734977 11.121161,46.0734084 11.1216104,46.0732579 11.1216815,46.0732341 11.1220971,46.0730957 11.1222339,46.0730504 11.1223109,46.0730255 11.1232161,46.0727391 11.123718,46.0725804 11.1238046,46.0725517 11.1239693,46.0725009 11.1241238,46.0724507 11.1244211,46.0722531 11.1246289,46.0721793 11.1247852,46.0721387 11.1251709,46.0720604 11.1256883,46.0719716 11.1257309,46.0718342 11.1260634,46.0716115 11.1262125,46.0716537 11.12632,46.0714926 11.1265677,46.07145 11.1265947,46.0714055 11.1267754,46.0711081 11.1269237,46.071152\" opacity=\"0.8\" /></g></svg>"
          },
          "metadata": {
            "tags": []
          },
          "execution_count": 20
        }
      ]
    },
    {
      "cell_type": "code",
      "metadata": {
        "id": "_7p0RzKA5mpG"
      },
      "source": [
        "import geopandas as gpd"
      ],
      "execution_count": 21,
      "outputs": []
    },
    {
      "cell_type": "code",
      "metadata": {
        "id": "Z3ebzACI5PZz"
      },
      "source": [
        "data = {'name': ['from train station to the castle'], 'geometry': [path]}"
      ],
      "execution_count": 23,
      "outputs": []
    },
    {
      "cell_type": "code",
      "metadata": {
        "id": "U0qrBPLE5e-p"
      },
      "source": [
        "gdf_path = gpd.GeoDataFrame(data,crs=\"EPSG:4326\") "
      ],
      "execution_count": 24,
      "outputs": []
    },
    {
      "cell_type": "code",
      "metadata": {
        "id": "3l260GAQ5wFq",
        "outputId": "249331a5-8d4b-49c2-b13d-f7c3072c6eca",
        "colab": {
          "base_uri": "https://localhost:8080/"
        }
      },
      "source": [
        "gdf_path.crs"
      ],
      "execution_count": 25,
      "outputs": [
        {
          "output_type": "execute_result",
          "data": {
            "text/plain": [
              "<Geographic 2D CRS: EPSG:4326>\n",
              "Name: WGS 84\n",
              "Axis Info [ellipsoidal]:\n",
              "- Lat[north]: Geodetic latitude (degree)\n",
              "- Lon[east]: Geodetic longitude (degree)\n",
              "Area of Use:\n",
              "- name: World\n",
              "- bounds: (-180.0, -90.0, 180.0, 90.0)\n",
              "Datum: World Geodetic System 1984\n",
              "- Ellipsoid: WGS 84\n",
              "- Prime Meridian: Greenwich"
            ]
          },
          "metadata": {
            "tags": []
          },
          "execution_count": 25
        }
      ]
    },
    {
      "cell_type": "code",
      "metadata": {
        "id": "LGCvcco46A5K",
        "outputId": "16dcaafc-bde0-496a-a997-8bd4dbe10580",
        "colab": {
          "base_uri": "https://localhost:8080/",
          "height": 81
        }
      },
      "source": [
        "gdf_path"
      ],
      "execution_count": 26,
      "outputs": [
        {
          "output_type": "execute_result",
          "data": {
            "text/html": [
              "<div>\n",
              "<style scoped>\n",
              "    .dataframe tbody tr th:only-of-type {\n",
              "        vertical-align: middle;\n",
              "    }\n",
              "\n",
              "    .dataframe tbody tr th {\n",
              "        vertical-align: top;\n",
              "    }\n",
              "\n",
              "    .dataframe thead th {\n",
              "        text-align: right;\n",
              "    }\n",
              "</style>\n",
              "<table border=\"1\" class=\"dataframe\">\n",
              "  <thead>\n",
              "    <tr style=\"text-align: right;\">\n",
              "      <th></th>\n",
              "      <th>name</th>\n",
              "      <th>geometry</th>\n",
              "    </tr>\n",
              "  </thead>\n",
              "  <tbody>\n",
              "    <tr>\n",
              "      <th>0</th>\n",
              "      <td>from train station to the castle</td>\n",
              "      <td>LINESTRING (11.11953 46.07204, 11.11957 46.072...</td>\n",
              "    </tr>\n",
              "  </tbody>\n",
              "</table>\n",
              "</div>"
            ],
            "text/plain": [
              "                               name                                           geometry\n",
              "0  from train station to the castle  LINESTRING (11.11953 46.07204, 11.11957 46.072..."
            ]
          },
          "metadata": {
            "tags": []
          },
          "execution_count": 26
        }
      ]
    },
    {
      "cell_type": "code",
      "metadata": {
        "id": "jpfeEPkU5jdk",
        "outputId": "d55c4d45-c44c-40a1-f88c-5bab9d6f4b5a",
        "colab": {
          "base_uri": "https://localhost:8080/",
          "height": 232
        }
      },
      "source": [
        "gdf_path.plot()"
      ],
      "execution_count": 27,
      "outputs": [
        {
          "output_type": "execute_result",
          "data": {
            "text/plain": [
              "<AxesSubplot:>"
            ]
          },
          "metadata": {
            "tags": []
          },
          "execution_count": 27
        },
        {
          "output_type": "display_data",
          "data": {
            "image/png": "[encoded data removed]",
            "text/plain": [
              "<Figure size 432x288 with 1 Axes>"
            ]
          },
          "metadata": {
            "tags": [],
            "needs_background": "light"
          }
        }
      ]
    },
    {
      "cell_type": "code",
      "metadata": {
        "id": "yR5ZkkWn6DCg"
      },
      "source": [
        "gdf_path.to_file(\"path_trainstation2castle_trento.geojson\", driver=\"GeoJSON\")"
      ],
      "execution_count": 28,
      "outputs": []
    },
    {
      "cell_type": "code",
      "metadata": {
        "id": "B4zljpA06eym"
      },
      "source": [
        "#from google.colab import files\n",
        "#files.download(\"path_trainstation2castle_trento.geojson\")"
      ],
      "execution_count": null,
      "outputs": []
    },
    {
      "cell_type": "markdown",
      "metadata": {
        "id": "gHqw4NUIZ_rD"
      },
      "source": [
        "# identify how many bars you can reach by walking in 5 minutes from the main train station of Trento\n",
        "- download all the *amenity==bar* from OpenStreetMap\n",
        "- identify the point of the train station\n",
        "- calculate the distance of each bar from the train station in walking travel time distance "
      ]
    },
    {
      "cell_type": "markdown",
      "metadata": {
        "id": "eVYJQ9JVapUs"
      },
      "source": [
        "## download all the amenity=bar from OpenStreetMap"
      ]
    },
    {
      "cell_type": "markdown",
      "metadata": {
        "id": "GjNgAzbbb9x6"
      },
      "source": [
        "with osmnx"
      ]
    },
    {
      "cell_type": "code",
      "metadata": {
        "id": "1qzwV5whdXs2",
        "outputId": "c34e1680-02c3-447c-ab7c-4d92c2cae036",
        "colab": {
          "base_uri": "https://localhost:8080/"
        }
      },
      "source": [
        "point_train_station"
      ],
      "execution_count": 29,
      "outputs": [
        {
          "output_type": "execute_result",
          "data": {
            "text/plain": [
              "(46.0722416, 11.1193186)"
            ]
          },
          "metadata": {
            "tags": []
          },
          "execution_count": 29
        }
      ]
    },
    {
      "cell_type": "code",
      "metadata": {
        "id": "qi0xwt98bUDE"
      },
      "source": [
        "tags = {'amenity': ['bar','cafe']}"
      ],
      "execution_count": 30,
      "outputs": []
    },
    {
      "cell_type": "code",
      "metadata": {
        "id": "zjqRr67OaY_S"
      },
      "source": [
        "trento_bars = ox.geometries_from_place(\"Trento\",tags)"
      ],
      "execution_count": 31,
      "outputs": []
    },
    {
      "cell_type": "code",
      "metadata": {
        "id": "ez4BHx1uZZ0m",
        "outputId": "5f3ff130-d911-46de-daf9-03956de616e1",
        "colab": {
          "base_uri": "https://localhost:8080/"
        }
      },
      "source": [
        "trento_bars.shape"
      ],
      "execution_count": 32,
      "outputs": [
        {
          "output_type": "execute_result",
          "data": {
            "text/plain": [
              "(260, 71)"
            ]
          },
          "metadata": {
            "tags": []
          },
          "execution_count": 32
        }
      ]
    },
    {
      "cell_type": "markdown",
      "metadata": {
        "id": "il5hgfZMluKk"
      },
      "source": [
        "## check the bar nearest by distance to the train stations"
      ]
    },
    {
      "cell_type": "code",
      "metadata": {
        "id": "bqI06yO6dPe5",
        "outputId": "e4e3a41a-48ff-4e37-b911-4fc385b6d568",
        "colab": {
          "base_uri": "https://localhost:8080/"
        }
      },
      "source": [
        "trento_bars.geometry.type.unique()"
      ],
      "execution_count": 33,
      "outputs": [
        {
          "output_type": "execute_result",
          "data": {
            "text/plain": [
              "array(['Point', 'Polygon'], dtype=object)"
            ]
          },
          "metadata": {
            "tags": []
          },
          "execution_count": 33
        }
      ]
    },
    {
      "cell_type": "code",
      "metadata": {
        "id": "96iibHBVvoKJ",
        "outputId": "8126c00f-48f1-4855-ff1f-4cc7209f77c3",
        "colab": {
          "base_uri": "https://localhost:8080/",
          "height": 965
        }
      },
      "source": [
        "trento_bars"
      ],
      "execution_count": 34,
      "outputs": [
        {
          "output_type": "execute_result",
          "data": {
            "text/html": [
              "<div>\n",
              "<style scoped>\n",
              "    .dataframe tbody tr th:only-of-type {\n",
              "        vertical-align: middle;\n",
              "    }\n",
              "\n",
              "    .dataframe tbody tr th {\n",
              "        vertical-align: top;\n",
              "    }\n",
              "\n",
              "    .dataframe thead th {\n",
              "        text-align: right;\n",
              "    }\n",
              "</style>\n",
              "<table border=\"1\" class=\"dataframe\">\n",
              "  <thead>\n",
              "    <tr style=\"text-align: right;\">\n",
              "      <th></th>\n",
              "      <th>unique_id</th>\n",
              "      <th>osmid</th>\n",
              "      <th>element_type</th>\n",
              "      <th>addr:city</th>\n",
              "      <th>addr:housenumber</th>\n",
              "      <th>addr:postcode</th>\n",
              "      <th>addr:street</th>\n",
              "      <th>amenity</th>\n",
              "      <th>name</th>\n",
              "      <th>geometry</th>\n",
              "      <th>addr:country</th>\n",
              "      <th>contact:phone</th>\n",
              "      <th>operator</th>\n",
              "      <th>outdoor_seating</th>\n",
              "      <th>ref:vatin</th>\n",
              "      <th>contact:email</th>\n",
              "      <th>wheelchair</th>\n",
              "      <th>fixme</th>\n",
              "      <th>opening_hours</th>\n",
              "      <th>brewery</th>\n",
              "      <th>contact:website</th>\n",
              "      <th>cost:coffee</th>\n",
              "      <th>smoking</th>\n",
              "      <th>source</th>\n",
              "      <th>created_by</th>\n",
              "      <th>addr:number</th>\n",
              "      <th>shop</th>\n",
              "      <th>phone</th>\n",
              "      <th>internet_access</th>\n",
              "      <th>internet_access:fee</th>\n",
              "      <th>surveillance</th>\n",
              "      <th>contact:facebook</th>\n",
              "      <th>contact:tripadvisor</th>\n",
              "      <th>cuisine</th>\n",
              "      <th>contact:mobile</th>\n",
              "      <th>note</th>\n",
              "      <th>website</th>\n",
              "      <th>toilets:wheelchair</th>\n",
              "      <th>alt_name</th>\n",
              "      <th>contact:company</th>\n",
              "      <th>ref:vat_in</th>\n",
              "      <th>contact:name</th>\n",
              "      <th>contact:fax</th>\n",
              "      <th>email</th>\n",
              "      <th>fax</th>\n",
              "      <th>level</th>\n",
              "      <th>wifi</th>\n",
              "      <th>addr:housename</th>\n",
              "      <th>layer</th>\n",
              "      <th>name:en</th>\n",
              "      <th>name:it</th>\n",
              "      <th>diet:vegan</th>\n",
              "      <th>diet:vegetarian</th>\n",
              "      <th>ref:VATIN</th>\n",
              "      <th>ref:vatin_1</th>\n",
              "      <th>entrance</th>\n",
              "      <th>air_conditioning</th>\n",
              "      <th>payment:cash</th>\n",
              "      <th>payment:debit_cards</th>\n",
              "      <th>description</th>\n",
              "      <th>payment:bancomat</th>\n",
              "      <th>payment:coins</th>\n",
              "      <th>payment:notes</th>\n",
              "      <th>operator:addr:city</th>\n",
              "      <th>operator:addr:housenumber</th>\n",
              "      <th>operator:addr:postcode</th>\n",
              "      <th>operator:addr:street</th>\n",
              "      <th>ref:rea</th>\n",
              "      <th>sells:tobacco</th>\n",
              "      <th>nodes</th>\n",
              "      <th>building</th>\n",
              "    </tr>\n",
              "  </thead>\n",
              "  <tbody>\n",
              "    <tr>\n",
              "      <th>0</th>\n",
              "      <td>node/267578018</td>\n",
              "      <td>267578018</td>\n",
              "      <td>node</td>\n",
              "      <td>Trento</td>\n",
              "      <td>92/1</td>\n",
              "      <td>38123</td>\n",
              "      <td>Via Alcide Degasperi</td>\n",
              "      <td>cafe</td>\n",
              "      <td>Prestige Cafè</td>\n",
              "      <td>POINT (11.12420 46.04979)</td>\n",
              "      <td>NaN</td>\n",
              "      <td>NaN</td>\n",
              "      <td>NaN</td>\n",
              "      <td>NaN</td>\n",
              "      <td>NaN</td>\n",
              "      <td>NaN</td>\n",
              "      <td>NaN</td>\n",
              "      <td>NaN</td>\n",
              "      <td>NaN</td>\n",
              "      <td>NaN</td>\n",
              "      <td>NaN</td>\n",
              "      <td>NaN</td>\n",
              "      <td>NaN</td>\n",
              "      <td>NaN</td>\n",
              "      <td>NaN</td>\n",
              "      <td>NaN</td>\n",
              "      <td>NaN</td>\n",
              "      <td>NaN</td>\n",
              "      <td>NaN</td>\n",
              "      <td>NaN</td>\n",
              "      <td>NaN</td>\n",
              "      <td>NaN</td>\n",
              "      <td>NaN</td>\n",
              "      <td>NaN</td>\n",
              "      <td>NaN</td>\n",
              "      <td>NaN</td>\n",
              "      <td>NaN</td>\n",
              "      <td>NaN</td>\n",
              "      <td>NaN</td>\n",
              "      <td>NaN</td>\n",
              "      <td>NaN</td>\n",
              "      <td>NaN</td>\n",
              "      <td>NaN</td>\n",
              "      <td>NaN</td>\n",
              "      <td>NaN</td>\n",
              "      <td>NaN</td>\n",
              "      <td>NaN</td>\n",
              "      <td>NaN</td>\n",
              "      <td>NaN</td>\n",
              "      <td>NaN</td>\n",
              "      <td>NaN</td>\n",
              "      <td>NaN</td>\n",
              "      <td>NaN</td>\n",
              "      <td>NaN</td>\n",
              "      <td>NaN</td>\n",
              "      <td>NaN</td>\n",
              "      <td>NaN</td>\n",
              "      <td>NaN</td>\n",
              "      <td>NaN</td>\n",
              "      <td>NaN</td>\n",
              "      <td>NaN</td>\n",
              "      <td>NaN</td>\n",
              "      <td>NaN</td>\n",
              "      <td>NaN</td>\n",
              "      <td>NaN</td>\n",
              "      <td>NaN</td>\n",
              "      <td>NaN</td>\n",
              "      <td>NaN</td>\n",
              "      <td>NaN</td>\n",
              "      <td>NaN</td>\n",
              "      <td>NaN</td>\n",
              "    </tr>\n",
              "    <tr>\n",
              "      <th>1</th>\n",
              "      <td>node/268401562</td>\n",
              "      <td>268401562</td>\n",
              "      <td>node</td>\n",
              "      <td>Trento</td>\n",
              "      <td>40</td>\n",
              "      <td>38122</td>\n",
              "      <td>Piazza del Duomo</td>\n",
              "      <td>cafe</td>\n",
              "      <td>Caffè Portici</td>\n",
              "      <td>POINT (11.12101 46.06773)</td>\n",
              "      <td>IT</td>\n",
              "      <td>+39 0461 092622</td>\n",
              "      <td>Filippo Aldo</td>\n",
              "      <td>yes</td>\n",
              "      <td>IT01452730227</td>\n",
              "      <td>NaN</td>\n",
              "      <td>NaN</td>\n",
              "      <td>NaN</td>\n",
              "      <td>NaN</td>\n",
              "      <td>NaN</td>\n",
              "      <td>NaN</td>\n",
              "      <td>NaN</td>\n",
              "      <td>NaN</td>\n",
              "      <td>NaN</td>\n",
              "      <td>NaN</td>\n",
              "      <td>NaN</td>\n",
              "      <td>NaN</td>\n",
              "      <td>NaN</td>\n",
              "      <td>NaN</td>\n",
              "      <td>NaN</td>\n",
              "      <td>NaN</td>\n",
              "      <td>NaN</td>\n",
              "      <td>NaN</td>\n",
              "      <td>NaN</td>\n",
              "      <td>NaN</td>\n",
              "      <td>NaN</td>\n",
              "      <td>NaN</td>\n",
              "      <td>NaN</td>\n",
              "      <td>NaN</td>\n",
              "      <td>NaN</td>\n",
              "      <td>NaN</td>\n",
              "      <td>NaN</td>\n",
              "      <td>NaN</td>\n",
              "      <td>NaN</td>\n",
              "      <td>NaN</td>\n",
              "      <td>NaN</td>\n",
              "      <td>NaN</td>\n",
              "      <td>NaN</td>\n",
              "      <td>NaN</td>\n",
              "      <td>NaN</td>\n",
              "      <td>NaN</td>\n",
              "      <td>NaN</td>\n",
              "      <td>NaN</td>\n",
              "      <td>NaN</td>\n",
              "      <td>NaN</td>\n",
              "      <td>NaN</td>\n",
              "      <td>NaN</td>\n",
              "      <td>NaN</td>\n",
              "      <td>NaN</td>\n",
              "      <td>NaN</td>\n",
              "      <td>NaN</td>\n",
              "      <td>NaN</td>\n",
              "      <td>NaN</td>\n",
              "      <td>NaN</td>\n",
              "      <td>NaN</td>\n",
              "      <td>NaN</td>\n",
              "      <td>NaN</td>\n",
              "      <td>NaN</td>\n",
              "      <td>NaN</td>\n",
              "      <td>NaN</td>\n",
              "      <td>NaN</td>\n",
              "    </tr>\n",
              "    <tr>\n",
              "      <th>2</th>\n",
              "      <td>node/268401567</td>\n",
              "      <td>268401567</td>\n",
              "      <td>node</td>\n",
              "      <td>Trento</td>\n",
              "      <td>1</td>\n",
              "      <td>38122</td>\n",
              "      <td>Piazza Mario Pasi</td>\n",
              "      <td>cafe</td>\n",
              "      <td>Bar Pasi</td>\n",
              "      <td>POINT (11.12207 46.06775)</td>\n",
              "      <td>IT</td>\n",
              "      <td>+39 0461 982301</td>\n",
              "      <td>Botto W. s.n.c.</td>\n",
              "      <td>yes</td>\n",
              "      <td>IT01311240228</td>\n",
              "      <td>barpasi.tn@gmail.com</td>\n",
              "      <td>limited</td>\n",
              "      <td>NaN</td>\n",
              "      <td>NaN</td>\n",
              "      <td>NaN</td>\n",
              "      <td>NaN</td>\n",
              "      <td>NaN</td>\n",
              "      <td>NaN</td>\n",
              "      <td>NaN</td>\n",
              "      <td>NaN</td>\n",
              "      <td>NaN</td>\n",
              "      <td>NaN</td>\n",
              "      <td>NaN</td>\n",
              "      <td>NaN</td>\n",
              "      <td>NaN</td>\n",
              "      <td>NaN</td>\n",
              "      <td>NaN</td>\n",
              "      <td>NaN</td>\n",
              "      <td>NaN</td>\n",
              "      <td>NaN</td>\n",
              "      <td>NaN</td>\n",
              "      <td>NaN</td>\n",
              "      <td>NaN</td>\n",
              "      <td>NaN</td>\n",
              "      <td>NaN</td>\n",
              "      <td>NaN</td>\n",
              "      <td>NaN</td>\n",
              "      <td>NaN</td>\n",
              "      <td>NaN</td>\n",
              "      <td>NaN</td>\n",
              "      <td>NaN</td>\n",
              "      <td>NaN</td>\n",
              "      <td>NaN</td>\n",
              "      <td>NaN</td>\n",
              "      <td>NaN</td>\n",
              "      <td>NaN</td>\n",
              "      <td>NaN</td>\n",
              "      <td>NaN</td>\n",
              "      <td>NaN</td>\n",
              "      <td>NaN</td>\n",
              "      <td>NaN</td>\n",
              "      <td>NaN</td>\n",
              "      <td>NaN</td>\n",
              "      <td>NaN</td>\n",
              "      <td>NaN</td>\n",
              "      <td>NaN</td>\n",
              "      <td>NaN</td>\n",
              "      <td>NaN</td>\n",
              "      <td>NaN</td>\n",
              "      <td>NaN</td>\n",
              "      <td>NaN</td>\n",
              "      <td>NaN</td>\n",
              "      <td>NaN</td>\n",
              "      <td>NaN</td>\n",
              "      <td>NaN</td>\n",
              "      <td>NaN</td>\n",
              "    </tr>\n",
              "    <tr>\n",
              "      <th>3</th>\n",
              "      <td>node/268430906</td>\n",
              "      <td>268430906</td>\n",
              "      <td>node</td>\n",
              "      <td>NaN</td>\n",
              "      <td>NaN</td>\n",
              "      <td>NaN</td>\n",
              "      <td>NaN</td>\n",
              "      <td>cafe</td>\n",
              "      <td>Johnny Bar</td>\n",
              "      <td>POINT (11.12564 46.06727)</td>\n",
              "      <td>NaN</td>\n",
              "      <td>NaN</td>\n",
              "      <td>NaN</td>\n",
              "      <td>yes</td>\n",
              "      <td>NaN</td>\n",
              "      <td>NaN</td>\n",
              "      <td>limited</td>\n",
              "      <td>orario chiusura sabato</td>\n",
              "      <td>Mo-Fr 07:00-21:00; Sa 07:00-12:00</td>\n",
              "      <td>NaN</td>\n",
              "      <td>NaN</td>\n",
              "      <td>NaN</td>\n",
              "      <td>NaN</td>\n",
              "      <td>NaN</td>\n",
              "      <td>NaN</td>\n",
              "      <td>NaN</td>\n",
              "      <td>NaN</td>\n",
              "      <td>NaN</td>\n",
              "      <td>NaN</td>\n",
              "      <td>NaN</td>\n",
              "      <td>NaN</td>\n",
              "      <td>NaN</td>\n",
              "      <td>NaN</td>\n",
              "      <td>NaN</td>\n",
              "      <td>NaN</td>\n",
              "      <td>NaN</td>\n",
              "      <td>NaN</td>\n",
              "      <td>NaN</td>\n",
              "      <td>NaN</td>\n",
              "      <td>NaN</td>\n",
              "      <td>NaN</td>\n",
              "      <td>NaN</td>\n",
              "      <td>NaN</td>\n",
              "      <td>NaN</td>\n",
              "      <td>NaN</td>\n",
              "      <td>NaN</td>\n",
              "      <td>NaN</td>\n",
              "      <td>NaN</td>\n",
              "      <td>NaN</td>\n",
              "      <td>NaN</td>\n",
              "      <td>NaN</td>\n",
              "      <td>NaN</td>\n",
              "      <td>NaN</td>\n",
              "      <td>NaN</td>\n",
              "      <td>NaN</td>\n",
              "      <td>NaN</td>\n",
              "      <td>NaN</td>\n",
              "      <td>NaN</td>\n",
              "      <td>NaN</td>\n",
              "      <td>NaN</td>\n",
              "      <td>NaN</td>\n",
              "      <td>NaN</td>\n",
              "      <td>NaN</td>\n",
              "      <td>NaN</td>\n",
              "      <td>NaN</td>\n",
              "      <td>NaN</td>\n",
              "      <td>NaN</td>\n",
              "      <td>NaN</td>\n",
              "      <td>NaN</td>\n",
              "      <td>NaN</td>\n",
              "      <td>NaN</td>\n",
              "    </tr>\n",
              "    <tr>\n",
              "      <th>4</th>\n",
              "      <td>node/268430908</td>\n",
              "      <td>268430908</td>\n",
              "      <td>node</td>\n",
              "      <td>Trento</td>\n",
              "      <td>29</td>\n",
              "      <td>38122</td>\n",
              "      <td>Via Calepina</td>\n",
              "      <td>cafe</td>\n",
              "      <td>Jo Bar</td>\n",
              "      <td>POINT (11.12426 46.06711)</td>\n",
              "      <td>IT</td>\n",
              "      <td>NaN</td>\n",
              "      <td>NaN</td>\n",
              "      <td>yes</td>\n",
              "      <td>NaN</td>\n",
              "      <td>NaN</td>\n",
              "      <td>limited</td>\n",
              "      <td>NaN</td>\n",
              "      <td>Mo-Sa 07:00-20:00</td>\n",
              "      <td>NaN</td>\n",
              "      <td>NaN</td>\n",
              "      <td>NaN</td>\n",
              "      <td>NaN</td>\n",
              "      <td>NaN</td>\n",
              "      <td>NaN</td>\n",
              "      <td>NaN</td>\n",
              "      <td>NaN</td>\n",
              "      <td>NaN</td>\n",
              "      <td>NaN</td>\n",
              "      <td>NaN</td>\n",
              "      <td>NaN</td>\n",
              "      <td>NaN</td>\n",
              "      <td>NaN</td>\n",
              "      <td>NaN</td>\n",
              "      <td>NaN</td>\n",
              "      <td>NaN</td>\n",
              "      <td>NaN</td>\n",
              "      <td>NaN</td>\n",
              "      <td>NaN</td>\n",
              "      <td>NaN</td>\n",
              "      <td>NaN</td>\n",
              "      <td>NaN</td>\n",
              "      <td>NaN</td>\n",
              "      <td>NaN</td>\n",
              "      <td>NaN</td>\n",
              "      <td>NaN</td>\n",
              "      <td>NaN</td>\n",
              "      <td>NaN</td>\n",
              "      <td>NaN</td>\n",
              "      <td>NaN</td>\n",
              "      <td>NaN</td>\n",
              "      <td>NaN</td>\n",
              "      <td>NaN</td>\n",
              "      <td>NaN</td>\n",
              "      <td>NaN</td>\n",
              "      <td>NaN</td>\n",
              "      <td>NaN</td>\n",
              "      <td>NaN</td>\n",
              "      <td>NaN</td>\n",
              "      <td>NaN</td>\n",
              "      <td>NaN</td>\n",
              "      <td>NaN</td>\n",
              "      <td>NaN</td>\n",
              "      <td>NaN</td>\n",
              "      <td>NaN</td>\n",
              "      <td>NaN</td>\n",
              "      <td>NaN</td>\n",
              "      <td>NaN</td>\n",
              "      <td>NaN</td>\n",
              "      <td>NaN</td>\n",
              "      <td>NaN</td>\n",
              "    </tr>\n",
              "    <tr>\n",
              "      <th>...</th>\n",
              "      <td>...</td>\n",
              "      <td>...</td>\n",
              "      <td>...</td>\n",
              "      <td>...</td>\n",
              "      <td>...</td>\n",
              "      <td>...</td>\n",
              "      <td>...</td>\n",
              "      <td>...</td>\n",
              "      <td>...</td>\n",
              "      <td>...</td>\n",
              "      <td>...</td>\n",
              "      <td>...</td>\n",
              "      <td>...</td>\n",
              "      <td>...</td>\n",
              "      <td>...</td>\n",
              "      <td>...</td>\n",
              "      <td>...</td>\n",
              "      <td>...</td>\n",
              "      <td>...</td>\n",
              "      <td>...</td>\n",
              "      <td>...</td>\n",
              "      <td>...</td>\n",
              "      <td>...</td>\n",
              "      <td>...</td>\n",
              "      <td>...</td>\n",
              "      <td>...</td>\n",
              "      <td>...</td>\n",
              "      <td>...</td>\n",
              "      <td>...</td>\n",
              "      <td>...</td>\n",
              "      <td>...</td>\n",
              "      <td>...</td>\n",
              "      <td>...</td>\n",
              "      <td>...</td>\n",
              "      <td>...</td>\n",
              "      <td>...</td>\n",
              "      <td>...</td>\n",
              "      <td>...</td>\n",
              "      <td>...</td>\n",
              "      <td>...</td>\n",
              "      <td>...</td>\n",
              "      <td>...</td>\n",
              "      <td>...</td>\n",
              "      <td>...</td>\n",
              "      <td>...</td>\n",
              "      <td>...</td>\n",
              "      <td>...</td>\n",
              "      <td>...</td>\n",
              "      <td>...</td>\n",
              "      <td>...</td>\n",
              "      <td>...</td>\n",
              "      <td>...</td>\n",
              "      <td>...</td>\n",
              "      <td>...</td>\n",
              "      <td>...</td>\n",
              "      <td>...</td>\n",
              "      <td>...</td>\n",
              "      <td>...</td>\n",
              "      <td>...</td>\n",
              "      <td>...</td>\n",
              "      <td>...</td>\n",
              "      <td>...</td>\n",
              "      <td>...</td>\n",
              "      <td>...</td>\n",
              "      <td>...</td>\n",
              "      <td>...</td>\n",
              "      <td>...</td>\n",
              "      <td>...</td>\n",
              "      <td>...</td>\n",
              "      <td>...</td>\n",
              "      <td>...</td>\n",
              "    </tr>\n",
              "    <tr>\n",
              "      <th>255</th>\n",
              "      <td>way/78363327</td>\n",
              "      <td>78363327</td>\n",
              "      <td>way</td>\n",
              "      <td>NaN</td>\n",
              "      <td>NaN</td>\n",
              "      <td>NaN</td>\n",
              "      <td>NaN</td>\n",
              "      <td>cafe</td>\n",
              "      <td>Max und Moritz</td>\n",
              "      <td>POLYGON ((11.15457 46.06615, 11.15459 46.06619...</td>\n",
              "      <td>NaN</td>\n",
              "      <td>NaN</td>\n",
              "      <td>NaN</td>\n",
              "      <td>NaN</td>\n",
              "      <td>NaN</td>\n",
              "      <td>NaN</td>\n",
              "      <td>no</td>\n",
              "      <td>NaN</td>\n",
              "      <td>NaN</td>\n",
              "      <td>NaN</td>\n",
              "      <td>NaN</td>\n",
              "      <td>NaN</td>\n",
              "      <td>NaN</td>\n",
              "      <td>NaN</td>\n",
              "      <td>NaN</td>\n",
              "      <td>NaN</td>\n",
              "      <td>NaN</td>\n",
              "      <td>NaN</td>\n",
              "      <td>NaN</td>\n",
              "      <td>NaN</td>\n",
              "      <td>NaN</td>\n",
              "      <td>NaN</td>\n",
              "      <td>NaN</td>\n",
              "      <td>NaN</td>\n",
              "      <td>NaN</td>\n",
              "      <td>NaN</td>\n",
              "      <td>NaN</td>\n",
              "      <td>NaN</td>\n",
              "      <td>NaN</td>\n",
              "      <td>NaN</td>\n",
              "      <td>NaN</td>\n",
              "      <td>NaN</td>\n",
              "      <td>NaN</td>\n",
              "      <td>NaN</td>\n",
              "      <td>NaN</td>\n",
              "      <td>NaN</td>\n",
              "      <td>NaN</td>\n",
              "      <td>NaN</td>\n",
              "      <td>NaN</td>\n",
              "      <td>NaN</td>\n",
              "      <td>NaN</td>\n",
              "      <td>NaN</td>\n",
              "      <td>NaN</td>\n",
              "      <td>NaN</td>\n",
              "      <td>NaN</td>\n",
              "      <td>NaN</td>\n",
              "      <td>NaN</td>\n",
              "      <td>NaN</td>\n",
              "      <td>NaN</td>\n",
              "      <td>NaN</td>\n",
              "      <td>NaN</td>\n",
              "      <td>NaN</td>\n",
              "      <td>NaN</td>\n",
              "      <td>NaN</td>\n",
              "      <td>NaN</td>\n",
              "      <td>NaN</td>\n",
              "      <td>NaN</td>\n",
              "      <td>NaN</td>\n",
              "      <td>NaN</td>\n",
              "      <td>[919900147, 919898571, 919897168, 919823719, 9...</td>\n",
              "      <td>yes</td>\n",
              "    </tr>\n",
              "    <tr>\n",
              "      <th>256</th>\n",
              "      <td>way/116029569</td>\n",
              "      <td>116029569</td>\n",
              "      <td>way</td>\n",
              "      <td>NaN</td>\n",
              "      <td>NaN</td>\n",
              "      <td>NaN</td>\n",
              "      <td>NaN</td>\n",
              "      <td>bar</td>\n",
              "      <td>Terrazza Tridente</td>\n",
              "      <td>POLYGON ((11.11916 46.08627, 11.11926 46.08628...</td>\n",
              "      <td>NaN</td>\n",
              "      <td>+39 0461 1823397</td>\n",
              "      <td>Santellina SNC di Lopez &amp; C.</td>\n",
              "      <td>yes</td>\n",
              "      <td>IT01841040221</td>\n",
              "      <td>NaN</td>\n",
              "      <td>NaN</td>\n",
              "      <td>NaN</td>\n",
              "      <td>NaN</td>\n",
              "      <td>NaN</td>\n",
              "      <td>NaN</td>\n",
              "      <td>NaN</td>\n",
              "      <td>NaN</td>\n",
              "      <td>NaN</td>\n",
              "      <td>NaN</td>\n",
              "      <td>NaN</td>\n",
              "      <td>NaN</td>\n",
              "      <td>NaN</td>\n",
              "      <td>NaN</td>\n",
              "      <td>NaN</td>\n",
              "      <td>NaN</td>\n",
              "      <td>NaN</td>\n",
              "      <td>NaN</td>\n",
              "      <td>NaN</td>\n",
              "      <td>NaN</td>\n",
              "      <td>NaN</td>\n",
              "      <td>NaN</td>\n",
              "      <td>NaN</td>\n",
              "      <td>NaN</td>\n",
              "      <td>NaN</td>\n",
              "      <td>NaN</td>\n",
              "      <td>NaN</td>\n",
              "      <td>NaN</td>\n",
              "      <td>NaN</td>\n",
              "      <td>NaN</td>\n",
              "      <td>NaN</td>\n",
              "      <td>NaN</td>\n",
              "      <td>NaN</td>\n",
              "      <td>NaN</td>\n",
              "      <td>NaN</td>\n",
              "      <td>NaN</td>\n",
              "      <td>NaN</td>\n",
              "      <td>NaN</td>\n",
              "      <td>NaN</td>\n",
              "      <td>NaN</td>\n",
              "      <td>NaN</td>\n",
              "      <td>NaN</td>\n",
              "      <td>NaN</td>\n",
              "      <td>NaN</td>\n",
              "      <td>NaN</td>\n",
              "      <td>NaN</td>\n",
              "      <td>NaN</td>\n",
              "      <td>NaN</td>\n",
              "      <td>NaN</td>\n",
              "      <td>NaN</td>\n",
              "      <td>NaN</td>\n",
              "      <td>NaN</td>\n",
              "      <td>NaN</td>\n",
              "      <td>NaN</td>\n",
              "      <td>[1309442301, 1309442345, 1309442292, 130944231...</td>\n",
              "      <td>yes</td>\n",
              "    </tr>\n",
              "    <tr>\n",
              "      <th>257</th>\n",
              "      <td>way/137046871</td>\n",
              "      <td>137046871</td>\n",
              "      <td>way</td>\n",
              "      <td>NaN</td>\n",
              "      <td>NaN</td>\n",
              "      <td>NaN</td>\n",
              "      <td>NaN</td>\n",
              "      <td>bar</td>\n",
              "      <td>NaN</td>\n",
              "      <td>POLYGON ((11.15135 46.04644, 11.15137 46.04632...</td>\n",
              "      <td>NaN</td>\n",
              "      <td>NaN</td>\n",
              "      <td>NaN</td>\n",
              "      <td>NaN</td>\n",
              "      <td>NaN</td>\n",
              "      <td>NaN</td>\n",
              "      <td>NaN</td>\n",
              "      <td>NaN</td>\n",
              "      <td>NaN</td>\n",
              "      <td>NaN</td>\n",
              "      <td>NaN</td>\n",
              "      <td>NaN</td>\n",
              "      <td>NaN</td>\n",
              "      <td>NaN</td>\n",
              "      <td>NaN</td>\n",
              "      <td>NaN</td>\n",
              "      <td>NaN</td>\n",
              "      <td>NaN</td>\n",
              "      <td>NaN</td>\n",
              "      <td>NaN</td>\n",
              "      <td>NaN</td>\n",
              "      <td>NaN</td>\n",
              "      <td>NaN</td>\n",
              "      <td>NaN</td>\n",
              "      <td>NaN</td>\n",
              "      <td>NaN</td>\n",
              "      <td>NaN</td>\n",
              "      <td>NaN</td>\n",
              "      <td>NaN</td>\n",
              "      <td>NaN</td>\n",
              "      <td>NaN</td>\n",
              "      <td>NaN</td>\n",
              "      <td>NaN</td>\n",
              "      <td>NaN</td>\n",
              "      <td>NaN</td>\n",
              "      <td>NaN</td>\n",
              "      <td>NaN</td>\n",
              "      <td>NaN</td>\n",
              "      <td>NaN</td>\n",
              "      <td>NaN</td>\n",
              "      <td>NaN</td>\n",
              "      <td>NaN</td>\n",
              "      <td>NaN</td>\n",
              "      <td>NaN</td>\n",
              "      <td>NaN</td>\n",
              "      <td>NaN</td>\n",
              "      <td>NaN</td>\n",
              "      <td>NaN</td>\n",
              "      <td>NaN</td>\n",
              "      <td>NaN</td>\n",
              "      <td>NaN</td>\n",
              "      <td>NaN</td>\n",
              "      <td>NaN</td>\n",
              "      <td>NaN</td>\n",
              "      <td>NaN</td>\n",
              "      <td>NaN</td>\n",
              "      <td>NaN</td>\n",
              "      <td>NaN</td>\n",
              "      <td>NaN</td>\n",
              "      <td>[1503407124, 1503407093, 1503407015, 150340710...</td>\n",
              "      <td>yes</td>\n",
              "    </tr>\n",
              "    <tr>\n",
              "      <th>258</th>\n",
              "      <td>way/147695036</td>\n",
              "      <td>147695036</td>\n",
              "      <td>way</td>\n",
              "      <td>Trento</td>\n",
              "      <td>10</td>\n",
              "      <td>38122</td>\n",
              "      <td>Via Vittorio Veneto</td>\n",
              "      <td>cafe</td>\n",
              "      <td>Caffè Ristretto</td>\n",
              "      <td>POLYGON ((11.11786 46.05747, 11.11787 46.05736...</td>\n",
              "      <td>IT</td>\n",
              "      <td>NaN</td>\n",
              "      <td>NaN</td>\n",
              "      <td>NaN</td>\n",
              "      <td>NaN</td>\n",
              "      <td>NaN</td>\n",
              "      <td>NaN</td>\n",
              "      <td>NaN</td>\n",
              "      <td>NaN</td>\n",
              "      <td>NaN</td>\n",
              "      <td>NaN</td>\n",
              "      <td>NaN</td>\n",
              "      <td>NaN</td>\n",
              "      <td>NaN</td>\n",
              "      <td>NaN</td>\n",
              "      <td>NaN</td>\n",
              "      <td>NaN</td>\n",
              "      <td>NaN</td>\n",
              "      <td>NaN</td>\n",
              "      <td>NaN</td>\n",
              "      <td>NaN</td>\n",
              "      <td>NaN</td>\n",
              "      <td>NaN</td>\n",
              "      <td>NaN</td>\n",
              "      <td>NaN</td>\n",
              "      <td>NaN</td>\n",
              "      <td>NaN</td>\n",
              "      <td>NaN</td>\n",
              "      <td>NaN</td>\n",
              "      <td>NaN</td>\n",
              "      <td>NaN</td>\n",
              "      <td>NaN</td>\n",
              "      <td>NaN</td>\n",
              "      <td>NaN</td>\n",
              "      <td>NaN</td>\n",
              "      <td>NaN</td>\n",
              "      <td>NaN</td>\n",
              "      <td>NaN</td>\n",
              "      <td>NaN</td>\n",
              "      <td>NaN</td>\n",
              "      <td>NaN</td>\n",
              "      <td>NaN</td>\n",
              "      <td>NaN</td>\n",
              "      <td>NaN</td>\n",
              "      <td>NaN</td>\n",
              "      <td>NaN</td>\n",
              "      <td>NaN</td>\n",
              "      <td>NaN</td>\n",
              "      <td>NaN</td>\n",
              "      <td>NaN</td>\n",
              "      <td>NaN</td>\n",
              "      <td>NaN</td>\n",
              "      <td>NaN</td>\n",
              "      <td>NaN</td>\n",
              "      <td>NaN</td>\n",
              "      <td>NaN</td>\n",
              "      <td>NaN</td>\n",
              "      <td>NaN</td>\n",
              "      <td>NaN</td>\n",
              "      <td>[1608972472, 1608972468, 1848898620, 160897246...</td>\n",
              "      <td>yes</td>\n",
              "    </tr>\n",
              "    <tr>\n",
              "      <th>259</th>\n",
              "      <td>way/177032866</td>\n",
              "      <td>177032866</td>\n",
              "      <td>way</td>\n",
              "      <td>Candriai</td>\n",
              "      <td>15</td>\n",
              "      <td>38123</td>\n",
              "      <td>Strada del Pra del Bòter</td>\n",
              "      <td>cafe</td>\n",
              "      <td>Pra del Bóter</td>\n",
              "      <td>POLYGON ((11.07647 46.06612, 11.07668 46.06609...</td>\n",
              "      <td>NaN</td>\n",
              "      <td>NaN</td>\n",
              "      <td>Lusardi Valentina</td>\n",
              "      <td>NaN</td>\n",
              "      <td>NaN</td>\n",
              "      <td>NaN</td>\n",
              "      <td>NaN</td>\n",
              "      <td>NaN</td>\n",
              "      <td>NaN</td>\n",
              "      <td>NaN</td>\n",
              "      <td>NaN</td>\n",
              "      <td>NaN</td>\n",
              "      <td>NaN</td>\n",
              "      <td>NaN</td>\n",
              "      <td>NaN</td>\n",
              "      <td>NaN</td>\n",
              "      <td>NaN</td>\n",
              "      <td>NaN</td>\n",
              "      <td>NaN</td>\n",
              "      <td>NaN</td>\n",
              "      <td>NaN</td>\n",
              "      <td>NaN</td>\n",
              "      <td>NaN</td>\n",
              "      <td>NaN</td>\n",
              "      <td>NaN</td>\n",
              "      <td>NaN</td>\n",
              "      <td>NaN</td>\n",
              "      <td>NaN</td>\n",
              "      <td>NaN</td>\n",
              "      <td>NaN</td>\n",
              "      <td>IT02291850226</td>\n",
              "      <td>NaN</td>\n",
              "      <td>NaN</td>\n",
              "      <td>NaN</td>\n",
              "      <td>NaN</td>\n",
              "      <td>NaN</td>\n",
              "      <td>NaN</td>\n",
              "      <td>NaN</td>\n",
              "      <td>NaN</td>\n",
              "      <td>NaN</td>\n",
              "      <td>NaN</td>\n",
              "      <td>NaN</td>\n",
              "      <td>NaN</td>\n",
              "      <td>NaN</td>\n",
              "      <td>NaN</td>\n",
              "      <td>NaN</td>\n",
              "      <td>NaN</td>\n",
              "      <td>NaN</td>\n",
              "      <td>NaN</td>\n",
              "      <td>NaN</td>\n",
              "      <td>NaN</td>\n",
              "      <td>NaN</td>\n",
              "      <td>NaN</td>\n",
              "      <td>NaN</td>\n",
              "      <td>NaN</td>\n",
              "      <td>NaN</td>\n",
              "      <td>NaN</td>\n",
              "      <td>NaN</td>\n",
              "      <td>NaN</td>\n",
              "      <td>[1874998386, 1874998393, 1874998362, 187499835...</td>\n",
              "      <td>yes</td>\n",
              "    </tr>\n",
              "  </tbody>\n",
              "</table>\n",
              "<p>260 rows × 71 columns</p>\n",
              "</div>"
            ],
            "text/plain": [
              "          unique_id  ...  building\n",
              "0    node/267578018  ...       NaN\n",
              "1    node/268401562  ...       NaN\n",
              "2    node/268401567  ...       NaN\n",
              "3    node/268430906  ...       NaN\n",
              "4    node/268430908  ...       NaN\n",
              "..              ...  ...       ...\n",
              "255    way/78363327  ...       yes\n",
              "256   way/116029569  ...       yes\n",
              "257   way/137046871  ...       yes\n",
              "258   way/147695036  ...       yes\n",
              "259   way/177032866  ...       yes\n",
              "\n",
              "[260 rows x 71 columns]"
            ]
          },
          "metadata": {
            "tags": []
          },
          "execution_count": 34
        }
      ]
    },
    {
      "cell_type": "code",
      "metadata": {
        "id": "L0ssGJAqbeIM",
        "outputId": "50e7e496-fba9-406a-b465-55bd87a5da56",
        "colab": {
          "base_uri": "https://localhost:8080/"
        }
      },
      "source": [
        "trento_bars.geometry.type.value_counts()"
      ],
      "execution_count": 35,
      "outputs": [
        {
          "output_type": "execute_result",
          "data": {
            "text/plain": [
              "Point      251\n",
              "Polygon      9\n",
              "dtype: int64"
            ]
          },
          "metadata": {
            "tags": []
          },
          "execution_count": 35
        }
      ]
    },
    {
      "cell_type": "code",
      "metadata": {
        "id": "F3Ql8SQdi9dB"
      },
      "source": [
        "from shapely.ops import transform\n",
        "import pyproj"
      ],
      "execution_count": 37,
      "outputs": []
    },
    {
      "cell_type": "code",
      "metadata": {
        "id": "98-ibWQ-i-eG"
      },
      "source": [
        "wgs84 = pyproj.CRS('EPSG:4326')\n",
        "utm32n = pyproj.CRS('EPSG:32632')\n",
        "projection_transform = pyproj.Transformer.from_crs(wgs84, utm32n, always_xy=False).transform"
      ],
      "execution_count": 39,
      "outputs": []
    },
    {
      "cell_type": "code",
      "metadata": {
        "id": "8dtiOr3SjllN"
      },
      "source": [
        "shapely_point_train_station = Point(point_train_station)"
      ],
      "execution_count": 40,
      "outputs": []
    },
    {
      "cell_type": "code",
      "metadata": {
        "id": "-fr7CsihjqfB"
      },
      "source": [
        "point_train_station_utm32n = transform(projection_transform,shapely_point_train_station)"
      ],
      "execution_count": 41,
      "outputs": []
    },
    {
      "cell_type": "code",
      "metadata": {
        "id": "MXAEZ32Rj0iw",
        "outputId": "cc88fa8b-2cbd-410c-8eac-ab25b0bff48e",
        "colab": {
          "base_uri": "https://localhost:8080/",
          "height": 36
        }
      },
      "source": [
        "point_train_station_utm32n.wkt"
      ],
      "execution_count": 42,
      "outputs": [
        {
          "output_type": "execute_result",
          "data": {
            "application/vnd.google.colaboratory.intrinsic+json": {
              "type": "string"
            },
            "text/plain": [
              "'POINT (663888.6956006237 5104257.577081034)'"
            ]
          },
          "metadata": {
            "tags": []
          },
          "execution_count": 42
        }
      ]
    },
    {
      "cell_type": "code",
      "metadata": {
        "id": "HCKnyWPNdH5O",
        "outputId": "c620a8c2-35f2-43a4-96f3-7999135c8ff3",
        "colab": {
          "base_uri": "https://localhost:8080/"
        }
      },
      "source": [
        "trento_bars.geometry.to_crs(epsg=32632).representative_point().distance(point_train_station_utm32n)"
      ],
      "execution_count": 43,
      "outputs": [
        {
          "output_type": "execute_result",
          "data": {
            "text/plain": [
              "0      2524.142113\n",
              "1       518.512766\n",
              "2       542.515407\n",
              "3       737.889408\n",
              "4       686.542193\n",
              "          ...     \n",
              "255    2813.859928\n",
              "256    1554.211774\n",
              "257    3799.815530\n",
              "258    1653.311307\n",
              "259    3378.216513\n",
              "Length: 260, dtype: float64"
            ]
          },
          "metadata": {
            "tags": []
          },
          "execution_count": 43
        }
      ]
    },
    {
      "cell_type": "code",
      "metadata": {
        "id": "Ro_wJgKDi5dz"
      },
      "source": [
        "trento_bars['haversine_distance_to_train_station'] = trento_bars.geometry.to_crs(epsg=32632).representative_point().distance(point_train_station_utm32n)"
      ],
      "execution_count": 44,
      "outputs": []
    },
    {
      "cell_type": "code",
      "metadata": {
        "id": "frozz93MlB14",
        "outputId": "f75ed426-9b74-4292-a341-241e1faf0792",
        "colab": {
          "base_uri": "https://localhost:8080/",
          "height": 895
        }
      },
      "source": [
        "trento_bars.sort_values(by=['haversine_distance_to_train_station'])"
      ],
      "execution_count": 45,
      "outputs": [
        {
          "output_type": "execute_result",
          "data": {
            "text/html": [
              "<div>\n",
              "<style scoped>\n",
              "    .dataframe tbody tr th:only-of-type {\n",
              "        vertical-align: middle;\n",
              "    }\n",
              "\n",
              "    .dataframe tbody tr th {\n",
              "        vertical-align: top;\n",
              "    }\n",
              "\n",
              "    .dataframe thead th {\n",
              "        text-align: right;\n",
              "    }\n",
              "</style>\n",
              "<table border=\"1\" class=\"dataframe\">\n",
              "  <thead>\n",
              "    <tr style=\"text-align: right;\">\n",
              "      <th></th>\n",
              "      <th>unique_id</th>\n",
              "      <th>osmid</th>\n",
              "      <th>element_type</th>\n",
              "      <th>addr:city</th>\n",
              "      <th>addr:housenumber</th>\n",
              "      <th>addr:postcode</th>\n",
              "      <th>addr:street</th>\n",
              "      <th>amenity</th>\n",
              "      <th>name</th>\n",
              "      <th>geometry</th>\n",
              "      <th>addr:country</th>\n",
              "      <th>contact:phone</th>\n",
              "      <th>operator</th>\n",
              "      <th>outdoor_seating</th>\n",
              "      <th>ref:vatin</th>\n",
              "      <th>contact:email</th>\n",
              "      <th>wheelchair</th>\n",
              "      <th>fixme</th>\n",
              "      <th>opening_hours</th>\n",
              "      <th>brewery</th>\n",
              "      <th>contact:website</th>\n",
              "      <th>cost:coffee</th>\n",
              "      <th>smoking</th>\n",
              "      <th>source</th>\n",
              "      <th>created_by</th>\n",
              "      <th>addr:number</th>\n",
              "      <th>shop</th>\n",
              "      <th>phone</th>\n",
              "      <th>internet_access</th>\n",
              "      <th>internet_access:fee</th>\n",
              "      <th>surveillance</th>\n",
              "      <th>contact:facebook</th>\n",
              "      <th>contact:tripadvisor</th>\n",
              "      <th>cuisine</th>\n",
              "      <th>contact:mobile</th>\n",
              "      <th>note</th>\n",
              "      <th>website</th>\n",
              "      <th>toilets:wheelchair</th>\n",
              "      <th>alt_name</th>\n",
              "      <th>contact:company</th>\n",
              "      <th>ref:vat_in</th>\n",
              "      <th>contact:name</th>\n",
              "      <th>contact:fax</th>\n",
              "      <th>email</th>\n",
              "      <th>fax</th>\n",
              "      <th>level</th>\n",
              "      <th>wifi</th>\n",
              "      <th>addr:housename</th>\n",
              "      <th>layer</th>\n",
              "      <th>name:en</th>\n",
              "      <th>name:it</th>\n",
              "      <th>diet:vegan</th>\n",
              "      <th>diet:vegetarian</th>\n",
              "      <th>ref:VATIN</th>\n",
              "      <th>ref:vatin_1</th>\n",
              "      <th>entrance</th>\n",
              "      <th>air_conditioning</th>\n",
              "      <th>payment:cash</th>\n",
              "      <th>payment:debit_cards</th>\n",
              "      <th>description</th>\n",
              "      <th>payment:bancomat</th>\n",
              "      <th>payment:coins</th>\n",
              "      <th>payment:notes</th>\n",
              "      <th>operator:addr:city</th>\n",
              "      <th>operator:addr:housenumber</th>\n",
              "      <th>operator:addr:postcode</th>\n",
              "      <th>operator:addr:street</th>\n",
              "      <th>ref:rea</th>\n",
              "      <th>sells:tobacco</th>\n",
              "      <th>nodes</th>\n",
              "      <th>building</th>\n",
              "      <th>haversine_distance_to_train_station</th>\n",
              "    </tr>\n",
              "  </thead>\n",
              "  <tbody>\n",
              "    <tr>\n",
              "      <th>96</th>\n",
              "      <td>node/867377187</td>\n",
              "      <td>867377187</td>\n",
              "      <td>node</td>\n",
              "      <td>Trento</td>\n",
              "      <td>1</td>\n",
              "      <td>38122</td>\n",
              "      <td>Piazza Dante</td>\n",
              "      <td>bar</td>\n",
              "      <td>Bar Stazione Buffet Trento</td>\n",
              "      <td>POINT (11.11946 46.07250)</td>\n",
              "      <td>IT</td>\n",
              "      <td>NaN</td>\n",
              "      <td>Serenissima Ristorazione SPA</td>\n",
              "      <td>NaN</td>\n",
              "      <td>IT01617950249</td>\n",
              "      <td>NaN</td>\n",
              "      <td>NaN</td>\n",
              "      <td>NaN</td>\n",
              "      <td>NaN</td>\n",
              "      <td>NaN</td>\n",
              "      <td>NaN</td>\n",
              "      <td>NaN</td>\n",
              "      <td>NaN</td>\n",
              "      <td>NaN</td>\n",
              "      <td>NaN</td>\n",
              "      <td>NaN</td>\n",
              "      <td>NaN</td>\n",
              "      <td>NaN</td>\n",
              "      <td>NaN</td>\n",
              "      <td>NaN</td>\n",
              "      <td>NaN</td>\n",
              "      <td>NaN</td>\n",
              "      <td>NaN</td>\n",
              "      <td>NaN</td>\n",
              "      <td>NaN</td>\n",
              "      <td>NaN</td>\n",
              "      <td>NaN</td>\n",
              "      <td>NaN</td>\n",
              "      <td>NaN</td>\n",
              "      <td>NaN</td>\n",
              "      <td>NaN</td>\n",
              "      <td>NaN</td>\n",
              "      <td>NaN</td>\n",
              "      <td>NaN</td>\n",
              "      <td>NaN</td>\n",
              "      <td>NaN</td>\n",
              "      <td>NaN</td>\n",
              "      <td>NaN</td>\n",
              "      <td>NaN</td>\n",
              "      <td>NaN</td>\n",
              "      <td>NaN</td>\n",
              "      <td>NaN</td>\n",
              "      <td>NaN</td>\n",
              "      <td>NaN</td>\n",
              "      <td>NaN</td>\n",
              "      <td>NaN</td>\n",
              "      <td>NaN</td>\n",
              "      <td>NaN</td>\n",
              "      <td>NaN</td>\n",
              "      <td>NaN</td>\n",
              "      <td>NaN</td>\n",
              "      <td>NaN</td>\n",
              "      <td>NaN</td>\n",
              "      <td>NaN</td>\n",
              "      <td>NaN</td>\n",
              "      <td>NaN</td>\n",
              "      <td>NaN</td>\n",
              "      <td>NaN</td>\n",
              "      <td>NaN</td>\n",
              "      <td>NaN</td>\n",
              "      <td>NaN</td>\n",
              "      <td>31.018800</td>\n",
              "    </tr>\n",
              "    <tr>\n",
              "      <th>253</th>\n",
              "      <td>way/73089915</td>\n",
              "      <td>73089915</td>\n",
              "      <td>way</td>\n",
              "      <td>Trento</td>\n",
              "      <td>13</td>\n",
              "      <td>NaN</td>\n",
              "      <td>Piazza Dante</td>\n",
              "      <td>bar</td>\n",
              "      <td>Flora</td>\n",
              "      <td>POLYGON ((11.12028 46.07245, 11.12027 46.07241...</td>\n",
              "      <td>NaN</td>\n",
              "      <td>NaN</td>\n",
              "      <td>Sali e Tabacchi Riv. N° 23</td>\n",
              "      <td>NaN</td>\n",
              "      <td>NaN</td>\n",
              "      <td>NaN</td>\n",
              "      <td>NaN</td>\n",
              "      <td>NaN</td>\n",
              "      <td>Mo-Sa 06:00-21:00</td>\n",
              "      <td>NaN</td>\n",
              "      <td>NaN</td>\n",
              "      <td>NaN</td>\n",
              "      <td>NaN</td>\n",
              "      <td>NaN</td>\n",
              "      <td>NaN</td>\n",
              "      <td>NaN</td>\n",
              "      <td>tobacco</td>\n",
              "      <td>NaN</td>\n",
              "      <td>NaN</td>\n",
              "      <td>NaN</td>\n",
              "      <td>NaN</td>\n",
              "      <td>NaN</td>\n",
              "      <td>NaN</td>\n",
              "      <td>NaN</td>\n",
              "      <td>NaN</td>\n",
              "      <td>NaN</td>\n",
              "      <td>NaN</td>\n",
              "      <td>NaN</td>\n",
              "      <td>NaN</td>\n",
              "      <td>NaN</td>\n",
              "      <td>NaN</td>\n",
              "      <td>NaN</td>\n",
              "      <td>NaN</td>\n",
              "      <td>NaN</td>\n",
              "      <td>NaN</td>\n",
              "      <td>NaN</td>\n",
              "      <td>NaN</td>\n",
              "      <td>NaN</td>\n",
              "      <td>NaN</td>\n",
              "      <td>NaN</td>\n",
              "      <td>NaN</td>\n",
              "      <td>NaN</td>\n",
              "      <td>NaN</td>\n",
              "      <td>NaN</td>\n",
              "      <td>NaN</td>\n",
              "      <td>NaN</td>\n",
              "      <td>NaN</td>\n",
              "      <td>NaN</td>\n",
              "      <td>NaN</td>\n",
              "      <td>NaN</td>\n",
              "      <td>NaN</td>\n",
              "      <td>NaN</td>\n",
              "      <td>NaN</td>\n",
              "      <td>NaN</td>\n",
              "      <td>NaN</td>\n",
              "      <td>NaN</td>\n",
              "      <td>NaN</td>\n",
              "      <td>NaN</td>\n",
              "      <td>NaN</td>\n",
              "      <td>[867377189, 867377061, 867377184, 867377320, 8...</td>\n",
              "      <td>yes</td>\n",
              "      <td>79.059449</td>\n",
              "    </tr>\n",
              "    <tr>\n",
              "      <th>254</th>\n",
              "      <td>way/73293759</td>\n",
              "      <td>73293759</td>\n",
              "      <td>way</td>\n",
              "      <td>NaN</td>\n",
              "      <td>NaN</td>\n",
              "      <td>NaN</td>\n",
              "      <td>NaN</td>\n",
              "      <td>cafe</td>\n",
              "      <td>Bar Caffetteria Dogana</td>\n",
              "      <td>POLYGON ((11.12085 46.07342, 11.12075 46.07338...</td>\n",
              "      <td>NaN</td>\n",
              "      <td>NaN</td>\n",
              "      <td>NaN</td>\n",
              "      <td>NaN</td>\n",
              "      <td>NaN</td>\n",
              "      <td>NaN</td>\n",
              "      <td>NaN</td>\n",
              "      <td>NaN</td>\n",
              "      <td>NaN</td>\n",
              "      <td>NaN</td>\n",
              "      <td>NaN</td>\n",
              "      <td>NaN</td>\n",
              "      <td>NaN</td>\n",
              "      <td>NaN</td>\n",
              "      <td>NaN</td>\n",
              "      <td>NaN</td>\n",
              "      <td>NaN</td>\n",
              "      <td>NaN</td>\n",
              "      <td>NaN</td>\n",
              "      <td>NaN</td>\n",
              "      <td>NaN</td>\n",
              "      <td>NaN</td>\n",
              "      <td>NaN</td>\n",
              "      <td>NaN</td>\n",
              "      <td>NaN</td>\n",
              "      <td>NaN</td>\n",
              "      <td>NaN</td>\n",
              "      <td>NaN</td>\n",
              "      <td>NaN</td>\n",
              "      <td>NaN</td>\n",
              "      <td>NaN</td>\n",
              "      <td>NaN</td>\n",
              "      <td>NaN</td>\n",
              "      <td>NaN</td>\n",
              "      <td>NaN</td>\n",
              "      <td>NaN</td>\n",
              "      <td>NaN</td>\n",
              "      <td>NaN</td>\n",
              "      <td>NaN</td>\n",
              "      <td>NaN</td>\n",
              "      <td>NaN</td>\n",
              "      <td>NaN</td>\n",
              "      <td>NaN</td>\n",
              "      <td>NaN</td>\n",
              "      <td>NaN</td>\n",
              "      <td>NaN</td>\n",
              "      <td>NaN</td>\n",
              "      <td>NaN</td>\n",
              "      <td>NaN</td>\n",
              "      <td>NaN</td>\n",
              "      <td>NaN</td>\n",
              "      <td>NaN</td>\n",
              "      <td>NaN</td>\n",
              "      <td>NaN</td>\n",
              "      <td>NaN</td>\n",
              "      <td>NaN</td>\n",
              "      <td>NaN</td>\n",
              "      <td>NaN</td>\n",
              "      <td>NaN</td>\n",
              "      <td>[869314003, 869314081, 869313986, 869314147, 8...</td>\n",
              "      <td>yes</td>\n",
              "      <td>173.832806</td>\n",
              "    </tr>\n",
              "    <tr>\n",
              "      <th>97</th>\n",
              "      <td>node/867377209</td>\n",
              "      <td>867377209</td>\n",
              "      <td>node</td>\n",
              "      <td>Trento</td>\n",
              "      <td>2</td>\n",
              "      <td>38122</td>\n",
              "      <td>Via Dogana</td>\n",
              "      <td>bar</td>\n",
              "      <td>Bar Trento-Malé</td>\n",
              "      <td>POINT (11.12038 46.07375)</td>\n",
              "      <td>IT</td>\n",
              "      <td>+39 0461 239398</td>\n",
              "      <td>Caset Mariarita</td>\n",
              "      <td>NaN</td>\n",
              "      <td>IT01556070223</td>\n",
              "      <td>NaN</td>\n",
              "      <td>NaN</td>\n",
              "      <td>NaN</td>\n",
              "      <td>NaN</td>\n",
              "      <td>NaN</td>\n",
              "      <td>NaN</td>\n",
              "      <td>NaN</td>\n",
              "      <td>NaN</td>\n",
              "      <td>NaN</td>\n",
              "      <td>NaN</td>\n",
              "      <td>NaN</td>\n",
              "      <td>NaN</td>\n",
              "      <td>NaN</td>\n",
              "      <td>NaN</td>\n",
              "      <td>NaN</td>\n",
              "      <td>NaN</td>\n",
              "      <td>NaN</td>\n",
              "      <td>NaN</td>\n",
              "      <td>NaN</td>\n",
              "      <td>NaN</td>\n",
              "      <td>NaN</td>\n",
              "      <td>NaN</td>\n",
              "      <td>NaN</td>\n",
              "      <td>NaN</td>\n",
              "      <td>NaN</td>\n",
              "      <td>NaN</td>\n",
              "      <td>NaN</td>\n",
              "      <td>NaN</td>\n",
              "      <td>NaN</td>\n",
              "      <td>NaN</td>\n",
              "      <td>NaN</td>\n",
              "      <td>NaN</td>\n",
              "      <td>NaN</td>\n",
              "      <td>NaN</td>\n",
              "      <td>NaN</td>\n",
              "      <td>NaN</td>\n",
              "      <td>NaN</td>\n",
              "      <td>NaN</td>\n",
              "      <td>NaN</td>\n",
              "      <td>NaN</td>\n",
              "      <td>NaN</td>\n",
              "      <td>NaN</td>\n",
              "      <td>NaN</td>\n",
              "      <td>NaN</td>\n",
              "      <td>NaN</td>\n",
              "      <td>NaN</td>\n",
              "      <td>NaN</td>\n",
              "      <td>NaN</td>\n",
              "      <td>NaN</td>\n",
              "      <td>NaN</td>\n",
              "      <td>NaN</td>\n",
              "      <td>NaN</td>\n",
              "      <td>NaN</td>\n",
              "      <td>NaN</td>\n",
              "      <td>NaN</td>\n",
              "      <td>NaN</td>\n",
              "      <td>186.932583</td>\n",
              "    </tr>\n",
              "    <tr>\n",
              "      <th>231</th>\n",
              "      <td>node/4264239318</td>\n",
              "      <td>4264239318</td>\n",
              "      <td>node</td>\n",
              "      <td>Trento</td>\n",
              "      <td>30</td>\n",
              "      <td>38122</td>\n",
              "      <td>Piazza Dante</td>\n",
              "      <td>bar</td>\n",
              "      <td>Liber Café</td>\n",
              "      <td>POINT (11.12091 46.07086)</td>\n",
              "      <td>IT</td>\n",
              "      <td>NaN</td>\n",
              "      <td>NaN</td>\n",
              "      <td>yes</td>\n",
              "      <td>NaN</td>\n",
              "      <td>NaN</td>\n",
              "      <td>NaN</td>\n",
              "      <td>NaN</td>\n",
              "      <td>NaN</td>\n",
              "      <td>NaN</td>\n",
              "      <td>NaN</td>\n",
              "      <td>NaN</td>\n",
              "      <td>NaN</td>\n",
              "      <td>NaN</td>\n",
              "      <td>NaN</td>\n",
              "      <td>NaN</td>\n",
              "      <td>NaN</td>\n",
              "      <td>NaN</td>\n",
              "      <td>NaN</td>\n",
              "      <td>NaN</td>\n",
              "      <td>NaN</td>\n",
              "      <td>NaN</td>\n",
              "      <td>NaN</td>\n",
              "      <td>NaN</td>\n",
              "      <td>NaN</td>\n",
              "      <td>NaN</td>\n",
              "      <td>NaN</td>\n",
              "      <td>NaN</td>\n",
              "      <td>NaN</td>\n",
              "      <td>NaN</td>\n",
              "      <td>NaN</td>\n",
              "      <td>NaN</td>\n",
              "      <td>NaN</td>\n",
              "      <td>NaN</td>\n",
              "      <td>NaN</td>\n",
              "      <td>NaN</td>\n",
              "      <td>NaN</td>\n",
              "      <td>Palazzina Liberty</td>\n",
              "      <td>NaN</td>\n",
              "      <td>NaN</td>\n",
              "      <td>NaN</td>\n",
              "      <td>NaN</td>\n",
              "      <td>NaN</td>\n",
              "      <td>NaN</td>\n",
              "      <td>NaN</td>\n",
              "      <td>NaN</td>\n",
              "      <td>NaN</td>\n",
              "      <td>NaN</td>\n",
              "      <td>NaN</td>\n",
              "      <td>NaN</td>\n",
              "      <td>NaN</td>\n",
              "      <td>NaN</td>\n",
              "      <td>NaN</td>\n",
              "      <td>NaN</td>\n",
              "      <td>NaN</td>\n",
              "      <td>NaN</td>\n",
              "      <td>NaN</td>\n",
              "      <td>NaN</td>\n",
              "      <td>NaN</td>\n",
              "      <td>NaN</td>\n",
              "      <td>NaN</td>\n",
              "      <td>196.739151</td>\n",
              "    </tr>\n",
              "    <tr>\n",
              "      <th>...</th>\n",
              "      <td>...</td>\n",
              "      <td>...</td>\n",
              "      <td>...</td>\n",
              "      <td>...</td>\n",
              "      <td>...</td>\n",
              "      <td>...</td>\n",
              "      <td>...</td>\n",
              "      <td>...</td>\n",
              "      <td>...</td>\n",
              "      <td>...</td>\n",
              "      <td>...</td>\n",
              "      <td>...</td>\n",
              "      <td>...</td>\n",
              "      <td>...</td>\n",
              "      <td>...</td>\n",
              "      <td>...</td>\n",
              "      <td>...</td>\n",
              "      <td>...</td>\n",
              "      <td>...</td>\n",
              "      <td>...</td>\n",
              "      <td>...</td>\n",
              "      <td>...</td>\n",
              "      <td>...</td>\n",
              "      <td>...</td>\n",
              "      <td>...</td>\n",
              "      <td>...</td>\n",
              "      <td>...</td>\n",
              "      <td>...</td>\n",
              "      <td>...</td>\n",
              "      <td>...</td>\n",
              "      <td>...</td>\n",
              "      <td>...</td>\n",
              "      <td>...</td>\n",
              "      <td>...</td>\n",
              "      <td>...</td>\n",
              "      <td>...</td>\n",
              "      <td>...</td>\n",
              "      <td>...</td>\n",
              "      <td>...</td>\n",
              "      <td>...</td>\n",
              "      <td>...</td>\n",
              "      <td>...</td>\n",
              "      <td>...</td>\n",
              "      <td>...</td>\n",
              "      <td>...</td>\n",
              "      <td>...</td>\n",
              "      <td>...</td>\n",
              "      <td>...</td>\n",
              "      <td>...</td>\n",
              "      <td>...</td>\n",
              "      <td>...</td>\n",
              "      <td>...</td>\n",
              "      <td>...</td>\n",
              "      <td>...</td>\n",
              "      <td>...</td>\n",
              "      <td>...</td>\n",
              "      <td>...</td>\n",
              "      <td>...</td>\n",
              "      <td>...</td>\n",
              "      <td>...</td>\n",
              "      <td>...</td>\n",
              "      <td>...</td>\n",
              "      <td>...</td>\n",
              "      <td>...</td>\n",
              "      <td>...</td>\n",
              "      <td>...</td>\n",
              "      <td>...</td>\n",
              "      <td>...</td>\n",
              "      <td>...</td>\n",
              "      <td>...</td>\n",
              "      <td>...</td>\n",
              "      <td>...</td>\n",
              "    </tr>\n",
              "    <tr>\n",
              "      <th>244</th>\n",
              "      <td>node/6240265349</td>\n",
              "      <td>6240265349</td>\n",
              "      <td>node</td>\n",
              "      <td>NaN</td>\n",
              "      <td>NaN</td>\n",
              "      <td>NaN</td>\n",
              "      <td>NaN</td>\n",
              "      <td>bar</td>\n",
              "      <td>Bar Phoenix</td>\n",
              "      <td>POINT (11.13015 46.00744)</td>\n",
              "      <td>NaN</td>\n",
              "      <td>NaN</td>\n",
              "      <td>NaN</td>\n",
              "      <td>NaN</td>\n",
              "      <td>NaN</td>\n",
              "      <td>NaN</td>\n",
              "      <td>NaN</td>\n",
              "      <td>NaN</td>\n",
              "      <td>NaN</td>\n",
              "      <td>NaN</td>\n",
              "      <td>NaN</td>\n",
              "      <td>NaN</td>\n",
              "      <td>NaN</td>\n",
              "      <td>NaN</td>\n",
              "      <td>NaN</td>\n",
              "      <td>NaN</td>\n",
              "      <td>NaN</td>\n",
              "      <td>NaN</td>\n",
              "      <td>NaN</td>\n",
              "      <td>NaN</td>\n",
              "      <td>NaN</td>\n",
              "      <td>NaN</td>\n",
              "      <td>NaN</td>\n",
              "      <td>NaN</td>\n",
              "      <td>NaN</td>\n",
              "      <td>NaN</td>\n",
              "      <td>NaN</td>\n",
              "      <td>NaN</td>\n",
              "      <td>NaN</td>\n",
              "      <td>NaN</td>\n",
              "      <td>NaN</td>\n",
              "      <td>NaN</td>\n",
              "      <td>NaN</td>\n",
              "      <td>NaN</td>\n",
              "      <td>NaN</td>\n",
              "      <td>NaN</td>\n",
              "      <td>NaN</td>\n",
              "      <td>NaN</td>\n",
              "      <td>NaN</td>\n",
              "      <td>NaN</td>\n",
              "      <td>NaN</td>\n",
              "      <td>NaN</td>\n",
              "      <td>NaN</td>\n",
              "      <td>NaN</td>\n",
              "      <td>NaN</td>\n",
              "      <td>NaN</td>\n",
              "      <td>NaN</td>\n",
              "      <td>NaN</td>\n",
              "      <td>NaN</td>\n",
              "      <td>NaN</td>\n",
              "      <td>NaN</td>\n",
              "      <td>NaN</td>\n",
              "      <td>NaN</td>\n",
              "      <td>NaN</td>\n",
              "      <td>NaN</td>\n",
              "      <td>NaN</td>\n",
              "      <td>NaN</td>\n",
              "      <td>NaN</td>\n",
              "      <td>NaN</td>\n",
              "      <td>NaN</td>\n",
              "      <td>NaN</td>\n",
              "      <td>7251.284878</td>\n",
              "    </tr>\n",
              "    <tr>\n",
              "      <th>21</th>\n",
              "      <td>node/430543937</td>\n",
              "      <td>430543937</td>\n",
              "      <td>node</td>\n",
              "      <td>Trento</td>\n",
              "      <td>NaN</td>\n",
              "      <td>38123</td>\n",
              "      <td>Piazza Perini Quintilio</td>\n",
              "      <td>cafe</td>\n",
              "      <td>Bar Pasticceria \"Dolce Cuore\"</td>\n",
              "      <td>POINT (11.12858 46.00676)</td>\n",
              "      <td>IT</td>\n",
              "      <td>NaN</td>\n",
              "      <td>NaN</td>\n",
              "      <td>NaN</td>\n",
              "      <td>NaN</td>\n",
              "      <td>NaN</td>\n",
              "      <td>NaN</td>\n",
              "      <td>NaN</td>\n",
              "      <td>NaN</td>\n",
              "      <td>NaN</td>\n",
              "      <td>NaN</td>\n",
              "      <td>NaN</td>\n",
              "      <td>NaN</td>\n",
              "      <td>NaN</td>\n",
              "      <td>NaN</td>\n",
              "      <td>14</td>\n",
              "      <td>pastry</td>\n",
              "      <td>NaN</td>\n",
              "      <td>NaN</td>\n",
              "      <td>NaN</td>\n",
              "      <td>NaN</td>\n",
              "      <td>NaN</td>\n",
              "      <td>NaN</td>\n",
              "      <td>NaN</td>\n",
              "      <td>NaN</td>\n",
              "      <td>NaN</td>\n",
              "      <td>NaN</td>\n",
              "      <td>NaN</td>\n",
              "      <td>NaN</td>\n",
              "      <td>NaN</td>\n",
              "      <td>NaN</td>\n",
              "      <td>NaN</td>\n",
              "      <td>NaN</td>\n",
              "      <td>NaN</td>\n",
              "      <td>NaN</td>\n",
              "      <td>NaN</td>\n",
              "      <td>NaN</td>\n",
              "      <td>NaN</td>\n",
              "      <td>NaN</td>\n",
              "      <td>NaN</td>\n",
              "      <td>NaN</td>\n",
              "      <td>NaN</td>\n",
              "      <td>NaN</td>\n",
              "      <td>NaN</td>\n",
              "      <td>NaN</td>\n",
              "      <td>NaN</td>\n",
              "      <td>NaN</td>\n",
              "      <td>NaN</td>\n",
              "      <td>NaN</td>\n",
              "      <td>NaN</td>\n",
              "      <td>NaN</td>\n",
              "      <td>NaN</td>\n",
              "      <td>NaN</td>\n",
              "      <td>NaN</td>\n",
              "      <td>NaN</td>\n",
              "      <td>NaN</td>\n",
              "      <td>NaN</td>\n",
              "      <td>NaN</td>\n",
              "      <td>NaN</td>\n",
              "      <td>NaN</td>\n",
              "      <td>NaN</td>\n",
              "      <td>7313.387830</td>\n",
              "    </tr>\n",
              "    <tr>\n",
              "      <th>170</th>\n",
              "      <td>node/1685067432</td>\n",
              "      <td>1685067432</td>\n",
              "      <td>node</td>\n",
              "      <td>NaN</td>\n",
              "      <td>NaN</td>\n",
              "      <td>NaN</td>\n",
              "      <td>NaN</td>\n",
              "      <td>cafe</td>\n",
              "      <td>Snack Bar Flora</td>\n",
              "      <td>POINT (11.12751 46.00666)</td>\n",
              "      <td>NaN</td>\n",
              "      <td>NaN</td>\n",
              "      <td>NaN</td>\n",
              "      <td>NaN</td>\n",
              "      <td>NaN</td>\n",
              "      <td>NaN</td>\n",
              "      <td>NaN</td>\n",
              "      <td>NaN</td>\n",
              "      <td>NaN</td>\n",
              "      <td>NaN</td>\n",
              "      <td>NaN</td>\n",
              "      <td>NaN</td>\n",
              "      <td>NaN</td>\n",
              "      <td>NaN</td>\n",
              "      <td>NaN</td>\n",
              "      <td>NaN</td>\n",
              "      <td>NaN</td>\n",
              "      <td>NaN</td>\n",
              "      <td>NaN</td>\n",
              "      <td>NaN</td>\n",
              "      <td>NaN</td>\n",
              "      <td>NaN</td>\n",
              "      <td>NaN</td>\n",
              "      <td>NaN</td>\n",
              "      <td>NaN</td>\n",
              "      <td>NaN</td>\n",
              "      <td>NaN</td>\n",
              "      <td>NaN</td>\n",
              "      <td>NaN</td>\n",
              "      <td>NaN</td>\n",
              "      <td>NaN</td>\n",
              "      <td>NaN</td>\n",
              "      <td>NaN</td>\n",
              "      <td>NaN</td>\n",
              "      <td>NaN</td>\n",
              "      <td>NaN</td>\n",
              "      <td>NaN</td>\n",
              "      <td>NaN</td>\n",
              "      <td>NaN</td>\n",
              "      <td>NaN</td>\n",
              "      <td>NaN</td>\n",
              "      <td>NaN</td>\n",
              "      <td>NaN</td>\n",
              "      <td>NaN</td>\n",
              "      <td>NaN</td>\n",
              "      <td>NaN</td>\n",
              "      <td>NaN</td>\n",
              "      <td>NaN</td>\n",
              "      <td>NaN</td>\n",
              "      <td>NaN</td>\n",
              "      <td>NaN</td>\n",
              "      <td>NaN</td>\n",
              "      <td>NaN</td>\n",
              "      <td>NaN</td>\n",
              "      <td>NaN</td>\n",
              "      <td>NaN</td>\n",
              "      <td>NaN</td>\n",
              "      <td>NaN</td>\n",
              "      <td>NaN</td>\n",
              "      <td>NaN</td>\n",
              "      <td>NaN</td>\n",
              "      <td>7316.143517</td>\n",
              "    </tr>\n",
              "    <tr>\n",
              "      <th>149</th>\n",
              "      <td>node/1331576651</td>\n",
              "      <td>1331576651</td>\n",
              "      <td>node</td>\n",
              "      <td>NaN</td>\n",
              "      <td>NaN</td>\n",
              "      <td>NaN</td>\n",
              "      <td>NaN</td>\n",
              "      <td>cafe</td>\n",
              "      <td>Caffè Al Centro</td>\n",
              "      <td>POINT (11.12767 46.00666)</td>\n",
              "      <td>NaN</td>\n",
              "      <td>NaN</td>\n",
              "      <td>NaN</td>\n",
              "      <td>NaN</td>\n",
              "      <td>NaN</td>\n",
              "      <td>NaN</td>\n",
              "      <td>NaN</td>\n",
              "      <td>NaN</td>\n",
              "      <td>NaN</td>\n",
              "      <td>NaN</td>\n",
              "      <td>NaN</td>\n",
              "      <td>NaN</td>\n",
              "      <td>NaN</td>\n",
              "      <td>NaN</td>\n",
              "      <td>NaN</td>\n",
              "      <td>NaN</td>\n",
              "      <td>NaN</td>\n",
              "      <td>NaN</td>\n",
              "      <td>NaN</td>\n",
              "      <td>NaN</td>\n",
              "      <td>NaN</td>\n",
              "      <td>NaN</td>\n",
              "      <td>NaN</td>\n",
              "      <td>NaN</td>\n",
              "      <td>NaN</td>\n",
              "      <td>NaN</td>\n",
              "      <td>NaN</td>\n",
              "      <td>NaN</td>\n",
              "      <td>NaN</td>\n",
              "      <td>NaN</td>\n",
              "      <td>NaN</td>\n",
              "      <td>NaN</td>\n",
              "      <td>NaN</td>\n",
              "      <td>NaN</td>\n",
              "      <td>NaN</td>\n",
              "      <td>NaN</td>\n",
              "      <td>NaN</td>\n",
              "      <td>NaN</td>\n",
              "      <td>NaN</td>\n",
              "      <td>NaN</td>\n",
              "      <td>NaN</td>\n",
              "      <td>NaN</td>\n",
              "      <td>NaN</td>\n",
              "      <td>NaN</td>\n",
              "      <td>NaN</td>\n",
              "      <td>NaN</td>\n",
              "      <td>NaN</td>\n",
              "      <td>NaN</td>\n",
              "      <td>NaN</td>\n",
              "      <td>NaN</td>\n",
              "      <td>NaN</td>\n",
              "      <td>NaN</td>\n",
              "      <td>NaN</td>\n",
              "      <td>NaN</td>\n",
              "      <td>NaN</td>\n",
              "      <td>NaN</td>\n",
              "      <td>NaN</td>\n",
              "      <td>NaN</td>\n",
              "      <td>NaN</td>\n",
              "      <td>NaN</td>\n",
              "      <td>NaN</td>\n",
              "      <td>7317.322795</td>\n",
              "    </tr>\n",
              "    <tr>\n",
              "      <th>217</th>\n",
              "      <td>node/3134826456</td>\n",
              "      <td>3134826456</td>\n",
              "      <td>node</td>\n",
              "      <td>NaN</td>\n",
              "      <td>NaN</td>\n",
              "      <td>NaN</td>\n",
              "      <td>NaN</td>\n",
              "      <td>cafe</td>\n",
              "      <td>NaN</td>\n",
              "      <td>POINT (11.11880 46.13808)</td>\n",
              "      <td>NaN</td>\n",
              "      <td>NaN</td>\n",
              "      <td>NaN</td>\n",
              "      <td>NaN</td>\n",
              "      <td>NaN</td>\n",
              "      <td>NaN</td>\n",
              "      <td>NaN</td>\n",
              "      <td>NaN</td>\n",
              "      <td>NaN</td>\n",
              "      <td>NaN</td>\n",
              "      <td>NaN</td>\n",
              "      <td>NaN</td>\n",
              "      <td>NaN</td>\n",
              "      <td>NaN</td>\n",
              "      <td>NaN</td>\n",
              "      <td>NaN</td>\n",
              "      <td>NaN</td>\n",
              "      <td>NaN</td>\n",
              "      <td>NaN</td>\n",
              "      <td>NaN</td>\n",
              "      <td>NaN</td>\n",
              "      <td>NaN</td>\n",
              "      <td>NaN</td>\n",
              "      <td>NaN</td>\n",
              "      <td>NaN</td>\n",
              "      <td>NaN</td>\n",
              "      <td>NaN</td>\n",
              "      <td>NaN</td>\n",
              "      <td>NaN</td>\n",
              "      <td>NaN</td>\n",
              "      <td>NaN</td>\n",
              "      <td>NaN</td>\n",
              "      <td>NaN</td>\n",
              "      <td>NaN</td>\n",
              "      <td>NaN</td>\n",
              "      <td>NaN</td>\n",
              "      <td>NaN</td>\n",
              "      <td>NaN</td>\n",
              "      <td>NaN</td>\n",
              "      <td>NaN</td>\n",
              "      <td>NaN</td>\n",
              "      <td>NaN</td>\n",
              "      <td>NaN</td>\n",
              "      <td>NaN</td>\n",
              "      <td>NaN</td>\n",
              "      <td>NaN</td>\n",
              "      <td>NaN</td>\n",
              "      <td>NaN</td>\n",
              "      <td>NaN</td>\n",
              "      <td>NaN</td>\n",
              "      <td>NaN</td>\n",
              "      <td>NaN</td>\n",
              "      <td>NaN</td>\n",
              "      <td>NaN</td>\n",
              "      <td>NaN</td>\n",
              "      <td>NaN</td>\n",
              "      <td>NaN</td>\n",
              "      <td>NaN</td>\n",
              "      <td>NaN</td>\n",
              "      <td>NaN</td>\n",
              "      <td>NaN</td>\n",
              "      <td>7318.223560</td>\n",
              "    </tr>\n",
              "  </tbody>\n",
              "</table>\n",
              "<p>260 rows × 72 columns</p>\n",
              "</div>"
            ],
            "text/plain": [
              "           unique_id       osmid  ... building haversine_distance_to_train_station\n",
              "96    node/867377187   867377187  ...      NaN                           31.018800\n",
              "253     way/73089915    73089915  ...      yes                           79.059449\n",
              "254     way/73293759    73293759  ...      yes                          173.832806\n",
              "97    node/867377209   867377209  ...      NaN                          186.932583\n",
              "231  node/4264239318  4264239318  ...      NaN                          196.739151\n",
              "..               ...         ...  ...      ...                                 ...\n",
              "244  node/6240265349  6240265349  ...      NaN                         7251.284878\n",
              "21    node/430543937   430543937  ...      NaN                         7313.387830\n",
              "170  node/1685067432  1685067432  ...      NaN                         7316.143517\n",
              "149  node/1331576651  1331576651  ...      NaN                         7317.322795\n",
              "217  node/3134826456  3134826456  ...      NaN                         7318.223560\n",
              "\n",
              "[260 rows x 72 columns]"
            ]
          },
          "metadata": {
            "tags": []
          },
          "execution_count": 45
        }
      ]
    },
    {
      "cell_type": "code",
      "metadata": {
        "id": "_P1DM0wIkGpW",
        "outputId": "880e7502-5f39-46c1-f7a1-3b64c4b94d43",
        "colab": {
          "base_uri": "https://localhost:8080/",
          "height": 36
        }
      },
      "source": [
        "trento_bars[trento_bars.haversine_distance_to_train_station == trento_bars.haversine_distance_to_train_station.min()].name.values[0]"
      ],
      "execution_count": 46,
      "outputs": [
        {
          "output_type": "execute_result",
          "data": {
            "application/vnd.google.colaboratory.intrinsic+json": {
              "type": "string"
            },
            "text/plain": [
              "'Bar Stazione Buffet Trento'"
            ]
          },
          "metadata": {
            "tags": []
          },
          "execution_count": 46
        }
      ]
    },
    {
      "cell_type": "markdown",
      "metadata": {
        "id": "vM4m5Xkhl0b4"
      },
      "source": [
        "## find the distance of each bar to the train station\n"
      ]
    },
    {
      "cell_type": "code",
      "metadata": {
        "id": "HrbMeUGMl8sQ"
      },
      "source": [
        "point_nearest_train_station= ox.get_nearest_node(G, point_train_station)"
      ],
      "execution_count": 47,
      "outputs": []
    },
    {
      "cell_type": "markdown",
      "metadata": {
        "id": "qeyx0WFoSCht"
      },
      "source": [
        "### add the weights of speed and travel time\n",
        "\n",
        "\n",
        "check documentation [module-osmnx.speed](https://osmnx.readthedocs.io/en/stable/osmnx.html#module-osmnx.speed)\n",
        "\n",
        "If edge *maxspeed* attribute has *“mph”* in it, value will automatically be converted from miles per hour to km per hour. \n",
        "\n",
        "Any other speed units should be manually converted to km per hour prior to running this function, otherwise there could be unexpected results. \n",
        "\n",
        "If “mph” does not appear in the edge’s maxspeed attribute string, then function assumes kph, per OSM guidelines: \n",
        "\n",
        "https://wiki.openstreetmap.org/wiki/Map_Features/Units\n",
        "\n",
        "**hwy_speeds** *(dict)* \n",
        "\n",
        "*dict keys* = *OSM highway types and values* = typical  speeds (km per hour) to assign to edges of that highway type for any edges missing speed data. \n",
        "\n",
        "Any edges with highway type not in hwy_speeds will be assigned the mean preexisting speed value of all edges of that highway type.\n",
        "\n"
      ]
    },
    {
      "cell_type": "code",
      "metadata": {
        "id": "2GU1k8ifki2I"
      },
      "source": [
        "# we can assume 2km/h for each kind of street\n",
        "hwy_walking_speeds = {\n",
        "    'motorway ': 2,\n",
        "    'trunk': 2,\n",
        "    'primary': 2,\n",
        "    'secondary': 2,\n",
        "    'tertiary': 2,\n",
        "    'unclassified': 2,\n",
        "    'residential': 2,\n",
        "    'pedestrian': 2,\n",
        "    'living_street':2,\n",
        "    'steps':2,\n",
        "    'footway': 2,\n",
        "    'track':2}\n",
        "G = ox.add_edge_speeds(G,hwy_speeds=hwy_walking_speeds)\n"
      ],
      "execution_count": 49,
      "outputs": []
    },
    {
      "cell_type": "code",
      "metadata": {
        "id": "ItPlcN0eyKmS"
      },
      "source": [
        "G = ox.add_edge_travel_times(G)"
      ],
      "execution_count": 50,
      "outputs": []
    },
    {
      "cell_type": "code",
      "metadata": {
        "id": "0CkgqjXooo21",
        "outputId": "be5c17d7-6111-4d44-fb45-cdb755fd8e3b",
        "colab": {
          "base_uri": "https://localhost:8080/"
        }
      },
      "source": [
        "trento_bars.nearest_point_to_graph.apply(lambda to_point: ox.shortest_path(G, point_nearest_train_station, to_point))"
      ],
      "execution_count": 52,
      "outputs": [
        {
          "output_type": "execute_result",
          "data": {
            "text/plain": [
              "0      [2591984564, 885670129, 923131713, 864509575, ...\n",
              "1      [2591984564, 885670129, 923131713, 864509575, ...\n",
              "2      [2591984564, 885670129, 923131713, 864509575, ...\n",
              "3      [2591984564, 885670129, 923131713, 864509575, ...\n",
              "4      [2591984564, 885670129, 923131713, 864509575, ...\n",
              "                             ...                        \n",
              "255    [2591984564, 885670129, 923131713, 864509575, ...\n",
              "256    [2591984564, 885670129, 923132120, 864509648, ...\n",
              "257    [2591984564, 885670129, 923131713, 864509575, ...\n",
              "258    [2591984564, 885670129, 923131713, 864509575, ...\n",
              "259    [2591984564, 885670129, 923131713, 864509575, ...\n",
              "Name: nearest_point_to_graph, Length: 260, dtype: object"
            ]
          },
          "metadata": {
            "tags": []
          },
          "execution_count": 52
        }
      ]
    },
    {
      "cell_type": "code",
      "metadata": {
        "id": "IianI8PDmdRZ"
      },
      "source": [
        "trento_bars['nearest_point_to_graph'] = trento_bars.geometry.representative_point().apply(lambda point: ox.get_nearest_node(G, (point.y,point.x)))"
      ],
      "execution_count": 53,
      "outputs": []
    },
    {
      "cell_type": "markdown",
      "metadata": {
        "id": "cWwJguXNocr2"
      },
      "source": [
        "calculate the short path from the train station to each bar"
      ]
    },
    {
      "cell_type": "code",
      "metadata": {
        "id": "LPllPsa1oaUE"
      },
      "source": [
        "trento_bars['route_from_train_station'] = trento_bars.nearest_point_to_graph.apply(lambda to_point: ox.shortest_path(G, point_nearest_train_station, to_point))"
      ],
      "execution_count": 54,
      "outputs": []
    },
    {
      "cell_type": "markdown",
      "metadata": {
        "id": "foF891qqpF9q"
      },
      "source": [
        "create geometry of each path "
      ]
    },
    {
      "cell_type": "code",
      "metadata": {
        "id": "mT8rxFDkpRQe"
      },
      "source": [
        "def geometry_from_route(inG,route):\n",
        "  points = []\n",
        "  for idnode in route:\n",
        "    lon = inG.nodes[idnode]['x']\n",
        "    lat = inG.nodes[idnode]['y']\n",
        "    point = Point(lon,lat)\n",
        "    points.append(point)\n",
        "  return(LineString(points))"
      ],
      "execution_count": 55,
      "outputs": []
    },
    {
      "cell_type": "code",
      "metadata": {
        "id": "wI-HcLncpitF"
      },
      "source": [
        "trento_bars['linestring'] = trento_bars.route_from_train_station.apply(lambda route: geometry_from_route(G,route))"
      ],
      "execution_count": 56,
      "outputs": []
    },
    {
      "cell_type": "code",
      "metadata": {
        "id": "tIQBDc36scLK",
        "outputId": "38aded4a-6699-4ed9-93fc-1565ec8ecc70",
        "colab": {
          "base_uri": "https://localhost:8080/",
          "height": 282
        }
      },
      "source": [
        "trento_bars.plot()"
      ],
      "execution_count": 57,
      "outputs": [
        {
          "output_type": "execute_result",
          "data": {
            "text/plain": [
              "<AxesSubplot:>"
            ]
          },
          "metadata": {
            "tags": []
          },
          "execution_count": 57
        },
        {
          "output_type": "display_data",
          "data": {
            "image/png": "[encoded data removed]",
            "text/plain": [
              "<Figure size 432x288 with 1 Axes>"
            ]
          },
          "metadata": {
            "tags": [],
            "needs_background": "light"
          }
        }
      ]
    },
    {
      "cell_type": "code",
      "metadata": {
        "id": "fQ5AY2gGp5a_",
        "outputId": "09020190-a7f9-4af5-fc3e-ad99d67587ef",
        "colab": {
          "base_uri": "https://localhost:8080/",
          "height": 282
        }
      },
      "source": [
        "trento_bars.set_geometry('linestring').plot()"
      ],
      "execution_count": 58,
      "outputs": [
        {
          "output_type": "execute_result",
          "data": {
            "text/plain": [
              "<AxesSubplot:>"
            ]
          },
          "metadata": {
            "tags": []
          },
          "execution_count": 58
        },
        {
          "output_type": "display_data",
          "data": {
            "image/png": "[encoded data removed]",
            "text/plain": [
              "<Figure size 432x288 with 1 Axes>"
            ]
          },
          "metadata": {
            "tags": [],
            "needs_background": "light"
          }
        }
      ]
    },
    {
      "cell_type": "markdown",
      "metadata": {
        "id": "lG8_nFppt7m9"
      },
      "source": [
        "calculate time for each path"
      ]
    },
    {
      "cell_type": "code",
      "metadata": {
        "id": "R9jxYkXcuTN-"
      },
      "source": [
        "def travel_time_from_train_station(inG, route):\n",
        "  edge_times = ox.utils_graph.get_route_edge_attributes(inG, route, 'travel_time')\n",
        "  return (sum(edge_times))"
      ],
      "execution_count": 59,
      "outputs": []
    },
    {
      "cell_type": "code",
      "metadata": {
        "id": "h5HAfq_QE355"
      },
      "source": [
        "def leght_path_from_train_station(inG, route):\n",
        "  edge_lengths = ox.utils_graph.get_route_edge_attributes(inG, route, 'length')\n",
        "  return (sum(edge_lengths))"
      ],
      "execution_count": 60,
      "outputs": []
    },
    {
      "cell_type": "code",
      "metadata": {
        "id": "cyLlXhMUukjj"
      },
      "source": [
        "trento_bars['travel_time_from_train_station'] = trento_bars.route_from_train_station.apply(lambda route: travel_time_from_train_station(G,route))"
      ],
      "execution_count": 61,
      "outputs": []
    },
    {
      "cell_type": "code",
      "metadata": {
        "id": "-ljAJnVmHsLE"
      },
      "source": [
        "trento_bars['path_length_from_train_station'] = trento_bars.route_from_train_station.apply(lambda route: travel_time_from_train_station(G,route))"
      ],
      "execution_count": 62,
      "outputs": []
    },
    {
      "cell_type": "markdown",
      "metadata": {
        "id": "8jO_y9REvuhY"
      },
      "source": [
        "show the first 5 bars by harvesine distance"
      ]
    },
    {
      "cell_type": "code",
      "metadata": {
        "id": "zoze4x7zvM_W",
        "outputId": "5ee25bfe-67ae-4041-84cd-6cb76b03f063",
        "colab": {
          "base_uri": "https://localhost:8080/",
          "height": 206
        }
      },
      "source": [
        "trento_bars.sort_values(by=['haversine_distance_to_train_station']).head(5)[['name','haversine_distance_to_train_station']]"
      ],
      "execution_count": 63,
      "outputs": [
        {
          "output_type": "execute_result",
          "data": {
            "text/html": [
              "<div>\n",
              "<style scoped>\n",
              "    .dataframe tbody tr th:only-of-type {\n",
              "        vertical-align: middle;\n",
              "    }\n",
              "\n",
              "    .dataframe tbody tr th {\n",
              "        vertical-align: top;\n",
              "    }\n",
              "\n",
              "    .dataframe thead th {\n",
              "        text-align: right;\n",
              "    }\n",
              "</style>\n",
              "<table border=\"1\" class=\"dataframe\">\n",
              "  <thead>\n",
              "    <tr style=\"text-align: right;\">\n",
              "      <th></th>\n",
              "      <th>name</th>\n",
              "      <th>haversine_distance_to_train_station</th>\n",
              "    </tr>\n",
              "  </thead>\n",
              "  <tbody>\n",
              "    <tr>\n",
              "      <th>96</th>\n",
              "      <td>Bar Stazione Buffet Trento</td>\n",
              "      <td>31.018800</td>\n",
              "    </tr>\n",
              "    <tr>\n",
              "      <th>253</th>\n",
              "      <td>Flora</td>\n",
              "      <td>79.059449</td>\n",
              "    </tr>\n",
              "    <tr>\n",
              "      <th>254</th>\n",
              "      <td>Bar Caffetteria Dogana</td>\n",
              "      <td>173.832806</td>\n",
              "    </tr>\n",
              "    <tr>\n",
              "      <th>97</th>\n",
              "      <td>Bar Trento-Malé</td>\n",
              "      <td>186.932583</td>\n",
              "    </tr>\n",
              "    <tr>\n",
              "      <th>231</th>\n",
              "      <td>Liber Café</td>\n",
              "      <td>196.739151</td>\n",
              "    </tr>\n",
              "  </tbody>\n",
              "</table>\n",
              "</div>"
            ],
            "text/plain": [
              "                           name  haversine_distance_to_train_station\n",
              "96   Bar Stazione Buffet Trento                            31.018800\n",
              "253                       Flora                            79.059449\n",
              "254      Bar Caffetteria Dogana                           173.832806\n",
              "97              Bar Trento-Malé                           186.932583\n",
              "231                  Liber Café                           196.739151"
            ]
          },
          "metadata": {
            "tags": []
          },
          "execution_count": 63
        }
      ]
    },
    {
      "cell_type": "markdown",
      "metadata": {
        "id": "PM-cr4mIvz_z"
      },
      "source": [
        "show the first 5 bars by travel time distance (in seconds)"
      ]
    },
    {
      "cell_type": "code",
      "metadata": {
        "id": "4rjbDycBuuLB",
        "outputId": "1b28e9eb-e9f6-4e17-902e-76a963446b78",
        "colab": {
          "base_uri": "https://localhost:8080/",
          "height": 206
        }
      },
      "source": [
        "trento_bars.sort_values(by=['travel_time_from_train_station']).head(5)[['name','travel_time_from_train_station']]"
      ],
      "execution_count": 64,
      "outputs": [
        {
          "output_type": "execute_result",
          "data": {
            "text/html": [
              "<div>\n",
              "<style scoped>\n",
              "    .dataframe tbody tr th:only-of-type {\n",
              "        vertical-align: middle;\n",
              "    }\n",
              "\n",
              "    .dataframe tbody tr th {\n",
              "        vertical-align: top;\n",
              "    }\n",
              "\n",
              "    .dataframe thead th {\n",
              "        text-align: right;\n",
              "    }\n",
              "</style>\n",
              "<table border=\"1\" class=\"dataframe\">\n",
              "  <thead>\n",
              "    <tr style=\"text-align: right;\">\n",
              "      <th></th>\n",
              "      <th>name</th>\n",
              "      <th>travel_time_from_train_station</th>\n",
              "    </tr>\n",
              "  </thead>\n",
              "  <tbody>\n",
              "    <tr>\n",
              "      <th>96</th>\n",
              "      <td>Bar Stazione Buffet Trento</td>\n",
              "      <td>9.4</td>\n",
              "    </tr>\n",
              "    <tr>\n",
              "      <th>253</th>\n",
              "      <td>Flora</td>\n",
              "      <td>36.1</td>\n",
              "    </tr>\n",
              "    <tr>\n",
              "      <th>168</th>\n",
              "      <td>Giornale &amp; Caffè</td>\n",
              "      <td>181.4</td>\n",
              "    </tr>\n",
              "    <tr>\n",
              "      <th>80</th>\n",
              "      <td>Bar Buonconsiglio</td>\n",
              "      <td>271.3</td>\n",
              "    </tr>\n",
              "    <tr>\n",
              "      <th>48</th>\n",
              "      <td>Eurocafè</td>\n",
              "      <td>271.5</td>\n",
              "    </tr>\n",
              "  </tbody>\n",
              "</table>\n",
              "</div>"
            ],
            "text/plain": [
              "                           name  travel_time_from_train_station\n",
              "96   Bar Stazione Buffet Trento                             9.4\n",
              "253                       Flora                            36.1\n",
              "168            Giornale & Caffè                           181.4\n",
              "80            Bar Buonconsiglio                           271.3\n",
              "48                     Eurocafè                           271.5"
            ]
          },
          "metadata": {
            "tags": []
          },
          "execution_count": 64
        }
      ]
    },
    {
      "cell_type": "markdown",
      "metadata": {
        "id": "Hc7FDnURxVS-"
      },
      "source": [
        "## all the bar reachable in 5 minutes from the train station of Trento"
      ]
    },
    {
      "cell_type": "code",
      "metadata": {
        "id": "SGSslyU6z9pf"
      },
      "source": [
        "import datetime"
      ],
      "execution_count": 65,
      "outputs": []
    },
    {
      "cell_type": "code",
      "metadata": {
        "id": "XXRmGTnqxecI"
      },
      "source": [
        "five_minutes_in_seconds = 5*60"
      ],
      "execution_count": 66,
      "outputs": []
    },
    {
      "cell_type": "code",
      "metadata": {
        "id": "agZgoPEGzhQD",
        "outputId": "5c96bc57-c9a4-47e5-fbd0-f4779bc45a7d",
        "colab": {
          "base_uri": "https://localhost:8080/"
        }
      },
      "source": [
        "five_minutes_in_seconds"
      ],
      "execution_count": 68,
      "outputs": [
        {
          "output_type": "execute_result",
          "data": {
            "text/plain": [
              "300"
            ]
          },
          "metadata": {
            "tags": []
          },
          "execution_count": 68
        }
      ]
    },
    {
      "cell_type": "code",
      "metadata": {
        "id": "pyu0Xw-yxqpq"
      },
      "source": [
        "bars_five_minutes_from_train_station = trento_bars[trento_bars.travel_time_from_train_station <= five_minutes_in_seconds]"
      ],
      "execution_count": 70,
      "outputs": []
    },
    {
      "cell_type": "code",
      "metadata": {
        "id": "NfAlw7-IzQCA"
      },
      "source": [
        "bars_five_minutes_from_train_station = bars_five_minutes_from_train_station.sort_values(by=['travel_time_from_train_station'])"
      ],
      "execution_count": 71,
      "outputs": []
    },
    {
      "cell_type": "code",
      "metadata": {
        "id": "4JmNonMGzwVI",
        "outputId": "a7f215f2-5f7a-4820-f1ad-c9c4768c8d09",
        "colab": {
          "base_uri": "https://localhost:8080/",
          "height": 775
        }
      },
      "source": [
        "bars_five_minutes_from_train_station"
      ],
      "execution_count": 72,
      "outputs": [
        {
          "output_type": "execute_result",
          "data": {
            "text/html": [
              "<div>\n",
              "<style scoped>\n",
              "    .dataframe tbody tr th:only-of-type {\n",
              "        vertical-align: middle;\n",
              "    }\n",
              "\n",
              "    .dataframe tbody tr th {\n",
              "        vertical-align: top;\n",
              "    }\n",
              "\n",
              "    .dataframe thead th {\n",
              "        text-align: right;\n",
              "    }\n",
              "</style>\n",
              "<table border=\"1\" class=\"dataframe\">\n",
              "  <thead>\n",
              "    <tr style=\"text-align: right;\">\n",
              "      <th></th>\n",
              "      <th>unique_id</th>\n",
              "      <th>osmid</th>\n",
              "      <th>element_type</th>\n",
              "      <th>addr:city</th>\n",
              "      <th>addr:housenumber</th>\n",
              "      <th>addr:postcode</th>\n",
              "      <th>addr:street</th>\n",
              "      <th>amenity</th>\n",
              "      <th>name</th>\n",
              "      <th>geometry</th>\n",
              "      <th>addr:country</th>\n",
              "      <th>contact:phone</th>\n",
              "      <th>operator</th>\n",
              "      <th>outdoor_seating</th>\n",
              "      <th>ref:vatin</th>\n",
              "      <th>contact:email</th>\n",
              "      <th>wheelchair</th>\n",
              "      <th>fixme</th>\n",
              "      <th>opening_hours</th>\n",
              "      <th>brewery</th>\n",
              "      <th>contact:website</th>\n",
              "      <th>cost:coffee</th>\n",
              "      <th>smoking</th>\n",
              "      <th>source</th>\n",
              "      <th>created_by</th>\n",
              "      <th>addr:number</th>\n",
              "      <th>shop</th>\n",
              "      <th>phone</th>\n",
              "      <th>internet_access</th>\n",
              "      <th>internet_access:fee</th>\n",
              "      <th>surveillance</th>\n",
              "      <th>contact:facebook</th>\n",
              "      <th>contact:tripadvisor</th>\n",
              "      <th>cuisine</th>\n",
              "      <th>contact:mobile</th>\n",
              "      <th>note</th>\n",
              "      <th>website</th>\n",
              "      <th>toilets:wheelchair</th>\n",
              "      <th>alt_name</th>\n",
              "      <th>contact:company</th>\n",
              "      <th>ref:vat_in</th>\n",
              "      <th>contact:name</th>\n",
              "      <th>contact:fax</th>\n",
              "      <th>email</th>\n",
              "      <th>fax</th>\n",
              "      <th>level</th>\n",
              "      <th>wifi</th>\n",
              "      <th>addr:housename</th>\n",
              "      <th>layer</th>\n",
              "      <th>name:en</th>\n",
              "      <th>name:it</th>\n",
              "      <th>diet:vegan</th>\n",
              "      <th>diet:vegetarian</th>\n",
              "      <th>ref:VATIN</th>\n",
              "      <th>ref:vatin_1</th>\n",
              "      <th>entrance</th>\n",
              "      <th>air_conditioning</th>\n",
              "      <th>payment:cash</th>\n",
              "      <th>payment:debit_cards</th>\n",
              "      <th>description</th>\n",
              "      <th>payment:bancomat</th>\n",
              "      <th>payment:coins</th>\n",
              "      <th>payment:notes</th>\n",
              "      <th>operator:addr:city</th>\n",
              "      <th>operator:addr:housenumber</th>\n",
              "      <th>operator:addr:postcode</th>\n",
              "      <th>operator:addr:street</th>\n",
              "      <th>ref:rea</th>\n",
              "      <th>sells:tobacco</th>\n",
              "      <th>nodes</th>\n",
              "      <th>building</th>\n",
              "      <th>haversine_distance_to_train_station</th>\n",
              "      <th>nearest_point_to_graph</th>\n",
              "      <th>route_from_train_station</th>\n",
              "      <th>linestring</th>\n",
              "      <th>travel_time_from_train_station</th>\n",
              "      <th>path_length_from_train_station</th>\n",
              "    </tr>\n",
              "  </thead>\n",
              "  <tbody>\n",
              "    <tr>\n",
              "      <th>96</th>\n",
              "      <td>node/867377187</td>\n",
              "      <td>867377187</td>\n",
              "      <td>node</td>\n",
              "      <td>Trento</td>\n",
              "      <td>1</td>\n",
              "      <td>38122</td>\n",
              "      <td>Piazza Dante</td>\n",
              "      <td>bar</td>\n",
              "      <td>Bar Stazione Buffet Trento</td>\n",
              "      <td>POINT (11.11946 46.07250)</td>\n",
              "      <td>IT</td>\n",
              "      <td>NaN</td>\n",
              "      <td>Serenissima Ristorazione SPA</td>\n",
              "      <td>NaN</td>\n",
              "      <td>IT01617950249</td>\n",
              "      <td>NaN</td>\n",
              "      <td>NaN</td>\n",
              "      <td>NaN</td>\n",
              "      <td>NaN</td>\n",
              "      <td>NaN</td>\n",
              "      <td>NaN</td>\n",
              "      <td>NaN</td>\n",
              "      <td>NaN</td>\n",
              "      <td>NaN</td>\n",
              "      <td>NaN</td>\n",
              "      <td>NaN</td>\n",
              "      <td>NaN</td>\n",
              "      <td>NaN</td>\n",
              "      <td>NaN</td>\n",
              "      <td>NaN</td>\n",
              "      <td>NaN</td>\n",
              "      <td>NaN</td>\n",
              "      <td>NaN</td>\n",
              "      <td>NaN</td>\n",
              "      <td>NaN</td>\n",
              "      <td>NaN</td>\n",
              "      <td>NaN</td>\n",
              "      <td>NaN</td>\n",
              "      <td>NaN</td>\n",
              "      <td>NaN</td>\n",
              "      <td>NaN</td>\n",
              "      <td>NaN</td>\n",
              "      <td>NaN</td>\n",
              "      <td>NaN</td>\n",
              "      <td>NaN</td>\n",
              "      <td>NaN</td>\n",
              "      <td>NaN</td>\n",
              "      <td>NaN</td>\n",
              "      <td>NaN</td>\n",
              "      <td>NaN</td>\n",
              "      <td>NaN</td>\n",
              "      <td>NaN</td>\n",
              "      <td>NaN</td>\n",
              "      <td>NaN</td>\n",
              "      <td>NaN</td>\n",
              "      <td>NaN</td>\n",
              "      <td>NaN</td>\n",
              "      <td>NaN</td>\n",
              "      <td>NaN</td>\n",
              "      <td>NaN</td>\n",
              "      <td>NaN</td>\n",
              "      <td>NaN</td>\n",
              "      <td>NaN</td>\n",
              "      <td>NaN</td>\n",
              "      <td>NaN</td>\n",
              "      <td>NaN</td>\n",
              "      <td>NaN</td>\n",
              "      <td>NaN</td>\n",
              "      <td>NaN</td>\n",
              "      <td>NaN</td>\n",
              "      <td>NaN</td>\n",
              "      <td>31.018800</td>\n",
              "      <td>864509648</td>\n",
              "      <td>[2591984564, 885670129, 923132120, 864509648]</td>\n",
              "      <td>LINESTRING (11.1195324 46.0720446, 11.119568 4...</td>\n",
              "      <td>9.4</td>\n",
              "      <td>9.4</td>\n",
              "    </tr>\n",
              "    <tr>\n",
              "      <th>253</th>\n",
              "      <td>way/73089915</td>\n",
              "      <td>73089915</td>\n",
              "      <td>way</td>\n",
              "      <td>Trento</td>\n",
              "      <td>13</td>\n",
              "      <td>NaN</td>\n",
              "      <td>Piazza Dante</td>\n",
              "      <td>bar</td>\n",
              "      <td>Flora</td>\n",
              "      <td>POLYGON ((11.12028 46.07245, 11.12027 46.07241...</td>\n",
              "      <td>NaN</td>\n",
              "      <td>NaN</td>\n",
              "      <td>Sali e Tabacchi Riv. N° 23</td>\n",
              "      <td>NaN</td>\n",
              "      <td>NaN</td>\n",
              "      <td>NaN</td>\n",
              "      <td>NaN</td>\n",
              "      <td>NaN</td>\n",
              "      <td>Mo-Sa 06:00-21:00</td>\n",
              "      <td>NaN</td>\n",
              "      <td>NaN</td>\n",
              "      <td>NaN</td>\n",
              "      <td>NaN</td>\n",
              "      <td>NaN</td>\n",
              "      <td>NaN</td>\n",
              "      <td>NaN</td>\n",
              "      <td>tobacco</td>\n",
              "      <td>NaN</td>\n",
              "      <td>NaN</td>\n",
              "      <td>NaN</td>\n",
              "      <td>NaN</td>\n",
              "      <td>NaN</td>\n",
              "      <td>NaN</td>\n",
              "      <td>NaN</td>\n",
              "      <td>NaN</td>\n",
              "      <td>NaN</td>\n",
              "      <td>NaN</td>\n",
              "      <td>NaN</td>\n",
              "      <td>NaN</td>\n",
              "      <td>NaN</td>\n",
              "      <td>NaN</td>\n",
              "      <td>NaN</td>\n",
              "      <td>NaN</td>\n",
              "      <td>NaN</td>\n",
              "      <td>NaN</td>\n",
              "      <td>NaN</td>\n",
              "      <td>NaN</td>\n",
              "      <td>NaN</td>\n",
              "      <td>NaN</td>\n",
              "      <td>NaN</td>\n",
              "      <td>NaN</td>\n",
              "      <td>NaN</td>\n",
              "      <td>NaN</td>\n",
              "      <td>NaN</td>\n",
              "      <td>NaN</td>\n",
              "      <td>NaN</td>\n",
              "      <td>NaN</td>\n",
              "      <td>NaN</td>\n",
              "      <td>NaN</td>\n",
              "      <td>NaN</td>\n",
              "      <td>NaN</td>\n",
              "      <td>NaN</td>\n",
              "      <td>NaN</td>\n",
              "      <td>NaN</td>\n",
              "      <td>NaN</td>\n",
              "      <td>NaN</td>\n",
              "      <td>NaN</td>\n",
              "      <td>NaN</td>\n",
              "      <td>NaN</td>\n",
              "      <td>[867377189, 867377061, 867377184, 867377320, 8...</td>\n",
              "      <td>yes</td>\n",
              "      <td>79.059449</td>\n",
              "      <td>963740221</td>\n",
              "      <td>[2591984564, 885670129, 1271504902, 877620756,...</td>\n",
              "      <td>LINESTRING (11.1195324 46.0720446, 11.119568 4...</td>\n",
              "      <td>36.1</td>\n",
              "      <td>36.1</td>\n",
              "    </tr>\n",
              "    <tr>\n",
              "      <th>168</th>\n",
              "      <td>node/1662768545</td>\n",
              "      <td>1662768545</td>\n",
              "      <td>node</td>\n",
              "      <td>Trento</td>\n",
              "      <td>29/1</td>\n",
              "      <td>38122</td>\n",
              "      <td>Via Clementino Vannetti</td>\n",
              "      <td>bar</td>\n",
              "      <td>Giornale &amp; Caffè</td>\n",
              "      <td>POINT (11.12208 46.07266)</td>\n",
              "      <td>IT</td>\n",
              "      <td>NaN</td>\n",
              "      <td>NaN</td>\n",
              "      <td>NaN</td>\n",
              "      <td>NaN</td>\n",
              "      <td>NaN</td>\n",
              "      <td>NaN</td>\n",
              "      <td>NaN</td>\n",
              "      <td>NaN</td>\n",
              "      <td>NaN</td>\n",
              "      <td>NaN</td>\n",
              "      <td>NaN</td>\n",
              "      <td>NaN</td>\n",
              "      <td>NaN</td>\n",
              "      <td>NaN</td>\n",
              "      <td>NaN</td>\n",
              "      <td>NaN</td>\n",
              "      <td>NaN</td>\n",
              "      <td>NaN</td>\n",
              "      <td>NaN</td>\n",
              "      <td>NaN</td>\n",
              "      <td>NaN</td>\n",
              "      <td>NaN</td>\n",
              "      <td>NaN</td>\n",
              "      <td>NaN</td>\n",
              "      <td>NaN</td>\n",
              "      <td>NaN</td>\n",
              "      <td>NaN</td>\n",
              "      <td>NaN</td>\n",
              "      <td>NaN</td>\n",
              "      <td>NaN</td>\n",
              "      <td>NaN</td>\n",
              "      <td>NaN</td>\n",
              "      <td>NaN</td>\n",
              "      <td>NaN</td>\n",
              "      <td>NaN</td>\n",
              "      <td>NaN</td>\n",
              "      <td>NaN</td>\n",
              "      <td>NaN</td>\n",
              "      <td>NaN</td>\n",
              "      <td>NaN</td>\n",
              "      <td>NaN</td>\n",
              "      <td>NaN</td>\n",
              "      <td>NaN</td>\n",
              "      <td>NaN</td>\n",
              "      <td>NaN</td>\n",
              "      <td>NaN</td>\n",
              "      <td>NaN</td>\n",
              "      <td>NaN</td>\n",
              "      <td>NaN</td>\n",
              "      <td>NaN</td>\n",
              "      <td>NaN</td>\n",
              "      <td>NaN</td>\n",
              "      <td>NaN</td>\n",
              "      <td>NaN</td>\n",
              "      <td>NaN</td>\n",
              "      <td>NaN</td>\n",
              "      <td>NaN</td>\n",
              "      <td>NaN</td>\n",
              "      <td>NaN</td>\n",
              "      <td>NaN</td>\n",
              "      <td>218.432987</td>\n",
              "      <td>975288587</td>\n",
              "      <td>[2591984564, 885670129, 1271504902, 877620756,...</td>\n",
              "      <td>LINESTRING (11.1195324 46.0720446, 11.119568 4...</td>\n",
              "      <td>181.4</td>\n",
              "      <td>181.4</td>\n",
              "    </tr>\n",
              "    <tr>\n",
              "      <th>80</th>\n",
              "      <td>node/660602730</td>\n",
              "      <td>660602730</td>\n",
              "      <td>node</td>\n",
              "      <td>Trento</td>\n",
              "      <td>10/A</td>\n",
              "      <td>38122</td>\n",
              "      <td>Via Gian Domenico Romagnosi</td>\n",
              "      <td>bar</td>\n",
              "      <td>Bar Buonconsiglio</td>\n",
              "      <td>POINT (11.12227 46.07293)</td>\n",
              "      <td>IT</td>\n",
              "      <td>NaN</td>\n",
              "      <td>NaN</td>\n",
              "      <td>NaN</td>\n",
              "      <td>NaN</td>\n",
              "      <td>NaN</td>\n",
              "      <td>NaN</td>\n",
              "      <td>NaN</td>\n",
              "      <td>NaN</td>\n",
              "      <td>NaN</td>\n",
              "      <td>NaN</td>\n",
              "      <td>NaN</td>\n",
              "      <td>NaN</td>\n",
              "      <td>NaN</td>\n",
              "      <td>NaN</td>\n",
              "      <td>NaN</td>\n",
              "      <td>NaN</td>\n",
              "      <td>NaN</td>\n",
              "      <td>NaN</td>\n",
              "      <td>NaN</td>\n",
              "      <td>NaN</td>\n",
              "      <td>NaN</td>\n",
              "      <td>NaN</td>\n",
              "      <td>NaN</td>\n",
              "      <td>NaN</td>\n",
              "      <td>NaN</td>\n",
              "      <td>NaN</td>\n",
              "      <td>NaN</td>\n",
              "      <td>NaN</td>\n",
              "      <td>NaN</td>\n",
              "      <td>NaN</td>\n",
              "      <td>NaN</td>\n",
              "      <td>NaN</td>\n",
              "      <td>NaN</td>\n",
              "      <td>NaN</td>\n",
              "      <td>NaN</td>\n",
              "      <td>NaN</td>\n",
              "      <td>NaN</td>\n",
              "      <td>NaN</td>\n",
              "      <td>NaN</td>\n",
              "      <td>NaN</td>\n",
              "      <td>NaN</td>\n",
              "      <td>NaN</td>\n",
              "      <td>NaN</td>\n",
              "      <td>NaN</td>\n",
              "      <td>NaN</td>\n",
              "      <td>NaN</td>\n",
              "      <td>NaN</td>\n",
              "      <td>NaN</td>\n",
              "      <td>NaN</td>\n",
              "      <td>NaN</td>\n",
              "      <td>NaN</td>\n",
              "      <td>NaN</td>\n",
              "      <td>NaN</td>\n",
              "      <td>NaN</td>\n",
              "      <td>NaN</td>\n",
              "      <td>NaN</td>\n",
              "      <td>NaN</td>\n",
              "      <td>NaN</td>\n",
              "      <td>NaN</td>\n",
              "      <td>NaN</td>\n",
              "      <td>241.091528</td>\n",
              "      <td>1492679756</td>\n",
              "      <td>[2591984564, 885670129, 1271504902, 877620756,...</td>\n",
              "      <td>LINESTRING (11.1195324 46.0720446, 11.119568 4...</td>\n",
              "      <td>271.3</td>\n",
              "      <td>271.3</td>\n",
              "    </tr>\n",
              "    <tr>\n",
              "      <th>48</th>\n",
              "      <td>node/475083135</td>\n",
              "      <td>475083135</td>\n",
              "      <td>node</td>\n",
              "      <td>Trento</td>\n",
              "      <td>27</td>\n",
              "      <td>38122</td>\n",
              "      <td>Via Giovanni Segantini</td>\n",
              "      <td>bar</td>\n",
              "      <td>Eurocafè</td>\n",
              "      <td>POINT (11.12211 46.07476)</td>\n",
              "      <td>IT</td>\n",
              "      <td>NaN</td>\n",
              "      <td>M. Agostino &amp; C.</td>\n",
              "      <td>NaN</td>\n",
              "      <td>IT02095270225</td>\n",
              "      <td>NaN</td>\n",
              "      <td>NaN</td>\n",
              "      <td>NaN</td>\n",
              "      <td>NaN</td>\n",
              "      <td>NaN</td>\n",
              "      <td>NaN</td>\n",
              "      <td>NaN</td>\n",
              "      <td>NaN</td>\n",
              "      <td>NaN</td>\n",
              "      <td>NaN</td>\n",
              "      <td>NaN</td>\n",
              "      <td>NaN</td>\n",
              "      <td>NaN</td>\n",
              "      <td>NaN</td>\n",
              "      <td>NaN</td>\n",
              "      <td>NaN</td>\n",
              "      <td>NaN</td>\n",
              "      <td>NaN</td>\n",
              "      <td>NaN</td>\n",
              "      <td>NaN</td>\n",
              "      <td>NaN</td>\n",
              "      <td>NaN</td>\n",
              "      <td>NaN</td>\n",
              "      <td>NaN</td>\n",
              "      <td>NaN</td>\n",
              "      <td>NaN</td>\n",
              "      <td>NaN</td>\n",
              "      <td>NaN</td>\n",
              "      <td>NaN</td>\n",
              "      <td>NaN</td>\n",
              "      <td>NaN</td>\n",
              "      <td>NaN</td>\n",
              "      <td>NaN</td>\n",
              "      <td>NaN</td>\n",
              "      <td>NaN</td>\n",
              "      <td>NaN</td>\n",
              "      <td>NaN</td>\n",
              "      <td>NaN</td>\n",
              "      <td>NaN</td>\n",
              "      <td>NaN</td>\n",
              "      <td>NaN</td>\n",
              "      <td>NaN</td>\n",
              "      <td>NaN</td>\n",
              "      <td>NaN</td>\n",
              "      <td>NaN</td>\n",
              "      <td>NaN</td>\n",
              "      <td>NaN</td>\n",
              "      <td>NaN</td>\n",
              "      <td>NaN</td>\n",
              "      <td>NaN</td>\n",
              "      <td>NaN</td>\n",
              "      <td>NaN</td>\n",
              "      <td>NaN</td>\n",
              "      <td>NaN</td>\n",
              "      <td>NaN</td>\n",
              "      <td>NaN</td>\n",
              "      <td>353.602740</td>\n",
              "      <td>2316205227</td>\n",
              "      <td>[2591984564, 885670129, 923132120, 864509648, ...</td>\n",
              "      <td>LINESTRING (11.1195324 46.0720446, 11.119568 4...</td>\n",
              "      <td>271.5</td>\n",
              "      <td>271.5</td>\n",
              "    </tr>\n",
              "    <tr>\n",
              "      <th>143</th>\n",
              "      <td>node/1293893598</td>\n",
              "      <td>1293893598</td>\n",
              "      <td>node</td>\n",
              "      <td>Trento</td>\n",
              "      <td>20</td>\n",
              "      <td>38122</td>\n",
              "      <td>Via Torre Verde</td>\n",
              "      <td>bar</td>\n",
              "      <td>BarConad</td>\n",
              "      <td>POINT (11.12306 46.07070)</td>\n",
              "      <td>IT</td>\n",
              "      <td>NaN</td>\n",
              "      <td>NaN</td>\n",
              "      <td>NaN</td>\n",
              "      <td>NaN</td>\n",
              "      <td>NaN</td>\n",
              "      <td>NaN</td>\n",
              "      <td>NaN</td>\n",
              "      <td>NaN</td>\n",
              "      <td>NaN</td>\n",
              "      <td>NaN</td>\n",
              "      <td>NaN</td>\n",
              "      <td>NaN</td>\n",
              "      <td>NaN</td>\n",
              "      <td>NaN</td>\n",
              "      <td>NaN</td>\n",
              "      <td>NaN</td>\n",
              "      <td>NaN</td>\n",
              "      <td>NaN</td>\n",
              "      <td>NaN</td>\n",
              "      <td>NaN</td>\n",
              "      <td>NaN</td>\n",
              "      <td>NaN</td>\n",
              "      <td>sandwich;breakfast;coffee_shop</td>\n",
              "      <td>NaN</td>\n",
              "      <td>NaN</td>\n",
              "      <td>NaN</td>\n",
              "      <td>NaN</td>\n",
              "      <td>NaN</td>\n",
              "      <td>NaN</td>\n",
              "      <td>NaN</td>\n",
              "      <td>NaN</td>\n",
              "      <td>NaN</td>\n",
              "      <td>NaN</td>\n",
              "      <td>NaN</td>\n",
              "      <td>NaN</td>\n",
              "      <td>NaN</td>\n",
              "      <td>NaN</td>\n",
              "      <td>NaN</td>\n",
              "      <td>BarConaf</td>\n",
              "      <td>BarConad</td>\n",
              "      <td>NaN</td>\n",
              "      <td>NaN</td>\n",
              "      <td>NaN</td>\n",
              "      <td>NaN</td>\n",
              "      <td>NaN</td>\n",
              "      <td>NaN</td>\n",
              "      <td>NaN</td>\n",
              "      <td>NaN</td>\n",
              "      <td>NaN</td>\n",
              "      <td>NaN</td>\n",
              "      <td>NaN</td>\n",
              "      <td>NaN</td>\n",
              "      <td>NaN</td>\n",
              "      <td>NaN</td>\n",
              "      <td>NaN</td>\n",
              "      <td>NaN</td>\n",
              "      <td>NaN</td>\n",
              "      <td>NaN</td>\n",
              "      <td>NaN</td>\n",
              "      <td>NaN</td>\n",
              "      <td>335.913643</td>\n",
              "      <td>1271504832</td>\n",
              "      <td>[2591984564, 885670129, 1271504902, 877620756,...</td>\n",
              "      <td>LINESTRING (11.1195324 46.0720446, 11.119568 4...</td>\n",
              "      <td>284.7</td>\n",
              "      <td>284.7</td>\n",
              "    </tr>\n",
              "    <tr>\n",
              "      <th>254</th>\n",
              "      <td>way/73293759</td>\n",
              "      <td>73293759</td>\n",
              "      <td>way</td>\n",
              "      <td>NaN</td>\n",
              "      <td>NaN</td>\n",
              "      <td>NaN</td>\n",
              "      <td>NaN</td>\n",
              "      <td>cafe</td>\n",
              "      <td>Bar Caffetteria Dogana</td>\n",
              "      <td>POLYGON ((11.12085 46.07342, 11.12075 46.07338...</td>\n",
              "      <td>NaN</td>\n",
              "      <td>NaN</td>\n",
              "      <td>NaN</td>\n",
              "      <td>NaN</td>\n",
              "      <td>NaN</td>\n",
              "      <td>NaN</td>\n",
              "      <td>NaN</td>\n",
              "      <td>NaN</td>\n",
              "      <td>NaN</td>\n",
              "      <td>NaN</td>\n",
              "      <td>NaN</td>\n",
              "      <td>NaN</td>\n",
              "      <td>NaN</td>\n",
              "      <td>NaN</td>\n",
              "      <td>NaN</td>\n",
              "      <td>NaN</td>\n",
              "      <td>NaN</td>\n",
              "      <td>NaN</td>\n",
              "      <td>NaN</td>\n",
              "      <td>NaN</td>\n",
              "      <td>NaN</td>\n",
              "      <td>NaN</td>\n",
              "      <td>NaN</td>\n",
              "      <td>NaN</td>\n",
              "      <td>NaN</td>\n",
              "      <td>NaN</td>\n",
              "      <td>NaN</td>\n",
              "      <td>NaN</td>\n",
              "      <td>NaN</td>\n",
              "      <td>NaN</td>\n",
              "      <td>NaN</td>\n",
              "      <td>NaN</td>\n",
              "      <td>NaN</td>\n",
              "      <td>NaN</td>\n",
              "      <td>NaN</td>\n",
              "      <td>NaN</td>\n",
              "      <td>NaN</td>\n",
              "      <td>NaN</td>\n",
              "      <td>NaN</td>\n",
              "      <td>NaN</td>\n",
              "      <td>NaN</td>\n",
              "      <td>NaN</td>\n",
              "      <td>NaN</td>\n",
              "      <td>NaN</td>\n",
              "      <td>NaN</td>\n",
              "      <td>NaN</td>\n",
              "      <td>NaN</td>\n",
              "      <td>NaN</td>\n",
              "      <td>NaN</td>\n",
              "      <td>NaN</td>\n",
              "      <td>NaN</td>\n",
              "      <td>NaN</td>\n",
              "      <td>NaN</td>\n",
              "      <td>NaN</td>\n",
              "      <td>NaN</td>\n",
              "      <td>NaN</td>\n",
              "      <td>NaN</td>\n",
              "      <td>NaN</td>\n",
              "      <td>NaN</td>\n",
              "      <td>[869314003, 869314081, 869313986, 869314147, 8...</td>\n",
              "      <td>yes</td>\n",
              "      <td>173.832806</td>\n",
              "      <td>1271504851</td>\n",
              "      <td>[2591984564, 885670129, 923132120, 864509648, ...</td>\n",
              "      <td>LINESTRING (11.1195324 46.0720446, 11.119568 4...</td>\n",
              "      <td>284.9</td>\n",
              "      <td>284.9</td>\n",
              "    </tr>\n",
              "  </tbody>\n",
              "</table>\n",
              "</div>"
            ],
            "text/plain": [
              "           unique_id  ...  path_length_from_train_station\n",
              "96    node/867377187  ...                             9.4\n",
              "253     way/73089915  ...                            36.1\n",
              "168  node/1662768545  ...                           181.4\n",
              "80    node/660602730  ...                           271.3\n",
              "48    node/475083135  ...                           271.5\n",
              "143  node/1293893598  ...                           284.7\n",
              "254     way/73293759  ...                           284.9\n",
              "\n",
              "[7 rows x 77 columns]"
            ]
          },
          "metadata": {
            "tags": []
          },
          "execution_count": 72
        }
      ]
    },
    {
      "cell_type": "code",
      "metadata": {
        "id": "eU8ycd8S7txE"
      },
      "source": [
        "maps = []\n",
        "texts = []\n",
        "for index, row in bars_five_minutes_from_train_station.iterrows():\n",
        "    name = row['name']\n",
        "    travel_time_from_train_station = row['travel_time_from_train_station']\n",
        "    minutes = str(datetime.timedelta(seconds=travel_time_from_train_station))\n",
        "    distance = row['path_length_from_train_station']\n",
        "    route = row['route_from_train_station']\n",
        "    text = \"the bar %s is %s meters from the train station and it's reachable in %s minutes\" % (name, str(round(distance)), minutes[3:7])\n",
        "    texts.append(text)\n",
        "    maps.append(ox.plot_route_folium(G,route,popup_attribute='name',tiles='OpenStreetMap'))"
      ],
      "execution_count": 76,
      "outputs": []
    },
    {
      "cell_type": "code",
      "metadata": {
        "id": "hqrDqhI_cIPS",
        "outputId": "1a436218-f768-4ac3-eb98-1ef2301d77aa",
        "colab": {
          "base_uri": "https://localhost:8080/"
        }
      },
      "source": [
        "len(maps)"
      ],
      "execution_count": 77,
      "outputs": [
        {
          "output_type": "execute_result",
          "data": {
            "text/plain": [
              "7"
            ]
          },
          "metadata": {
            "tags": []
          },
          "execution_count": 77
        }
      ]
    },
    {
      "cell_type": "code",
      "metadata": {
        "id": "Ns6hDT_HOu2U",
        "outputId": "62f18377-0dba-41a4-897f-2e93dda65445",
        "colab": {
          "base_uri": "https://localhost:8080/",
          "height": 36
        }
      },
      "source": [
        "texts[0]"
      ],
      "execution_count": 78,
      "outputs": [
        {
          "output_type": "execute_result",
          "data": {
            "application/vnd.google.colaboratory.intrinsic+json": {
              "type": "string"
            },
            "text/plain": [
              "\"the bar Bar Stazione Buffet Trento is 9 meters from the train station and it's reachable in 0:09 minutes\""
            ]
          },
          "metadata": {
            "tags": []
          },
          "execution_count": 78
        }
      ]
    },
    {
      "cell_type": "code",
      "metadata": {
        "id": "-B6B1svQOFgb",
        "outputId": "5dbcda47-cd9a-4735-b387-0732cc517eeb",
        "colab": {
          "base_uri": "https://localhost:8080/",
          "height": 904
        }
      },
      "source": [
        "maps[0]"
      ],
      "execution_count": 79,
      "outputs": [
        {
          "output_type": "execute_result",
          "data": {
            "text/html": [
              "<div style=\"width:100%;\"><div style=\"position:relative;width:100%;height:0;padding-bottom:60%;\"><span style=\"color:#565656\">Make this Notebook Trusted to load map: File -> Trust Notebook</span><iframe src=\"about:blank\" style=\"position:absolute;width:100%;height:100%;left:0;top:0;border:none !important;\" data-html=PCFET0NUWVBFIGh0bWw+CjxoZWFkPiAgICAKICAgIDxtZXRhIGh0dHAtZXF1aXY9ImNvbnRlbnQtdHlwZSIgY29udGVudD0idGV4dC9odG1sOyBjaGFyc2V0PVVURi04IiAvPgogICAgPHNjcmlwdD5MX1BSRUZFUl9DQU5WQVM9ZmFsc2U7IExfTk9fVE9VQ0g9ZmFsc2U7IExfRElTQUJMRV8zRD1mYWxzZTs8L3NjcmlwdD4KICAgIDxzY3JpcHQgc3JjPSJodHRwczovL2Nkbi5qc2RlbGl2ci5uZXQvbnBtL2xlYWZsZXRAMS40LjAvZGlzdC9sZWFmbGV0LmpzIj48L3NjcmlwdD4KICAgIDxzY3JpcHQgc3JjPSJodHRwczovL2NvZGUuanF1ZXJ5LmNvbS9qcXVlcnktMS4xMi40Lm1pbi5qcyI+PC9zY3JpcHQ+CiAgICA8c2NyaXB0IHNyYz0iaHR0cHM6Ly9tYXhjZG4uYm9vdHN0cmFwY2RuLmNvbS9ib290c3RyYXAvMy4yLjAvanMvYm9vdHN0cmFwLm1pbi5qcyI+PC9zY3JpcHQ+CiAgICA8c2NyaXB0IHNyYz0iaHR0cHM6Ly9jZG5qcy5jbG91ZGZsYXJlLmNvbS9hamF4L2xpYnMvTGVhZmxldC5hd2Vzb21lLW1hcmtlcnMvMi4wLjIvbGVhZmxldC5hd2Vzb21lLW1hcmtlcnMuanMiPjwvc2NyaXB0PgogICAgPGxpbmsgcmVsPSJzdHlsZXNoZWV0IiBocmVmPSJodHRwczovL2Nkbi5qc2RlbGl2ci5uZXQvbnBtL2xlYWZsZXRAMS40LjAvZGlzdC9sZWFmbGV0LmNzcyIvPgogICAgPGxpbmsgcmVsPSJzdHlsZXNoZWV0IiBocmVmPSJodHRwczovL21heGNkbi5ib290c3RyYXBjZG4uY29tL2Jvb3RzdHJhcC8zLjIuMC9jc3MvYm9vdHN0cmFwLm1pbi5jc3MiLz4KICAgIDxsaW5rIHJlbD0ic3R5bGVzaGVldCIgaHJlZj0iaHR0cHM6Ly9tYXhjZG4uYm9vdHN0cmFwY2RuLmNvbS9ib290c3RyYXAvMy4yLjAvY3NzL2Jvb3RzdHJhcC10aGVtZS5taW4uY3NzIi8+CiAgICA8bGluayByZWw9InN0eWxlc2hlZXQiIGhyZWY9Imh0dHBzOi8vbWF4Y2RuLmJvb3RzdHJhcGNkbi5jb20vZm9udC1hd2Vzb21lLzQuNi4zL2Nzcy9mb250LWF3ZXNvbWUubWluLmNzcyIvPgogICAgPGxpbmsgcmVsPSJzdHlsZXNoZWV0IiBocmVmPSJodHRwczovL2NkbmpzLmNsb3VkZmxhcmUuY29tL2FqYXgvbGlicy9MZWFmbGV0LmF3ZXNvbWUtbWFya2Vycy8yLjAuMi9sZWFmbGV0LmF3ZXNvbWUtbWFya2Vycy5jc3MiLz4KICAgIDxsaW5rIHJlbD0ic3R5bGVzaGVldCIgaHJlZj0iaHR0cHM6Ly9yYXdjZG4uZ2l0aGFjay5jb20vcHl0aG9uLXZpc3VhbGl6YXRpb24vZm9saXVtL21hc3Rlci9mb2xpdW0vdGVtcGxhdGVzL2xlYWZsZXQuYXdlc29tZS5yb3RhdGUuY3NzIi8+CiAgICA8c3R5bGU+aHRtbCwgYm9keSB7d2lkdGg6IDEwMCU7aGVpZ2h0OiAxMDAlO21hcmdpbjogMDtwYWRkaW5nOiAwO308L3N0eWxlPgogICAgPHN0eWxlPiNtYXAge3Bvc2l0aW9uOmFic29sdXRlO3RvcDowO2JvdHRvbTowO3JpZ2h0OjA7bGVmdDowO308L3N0eWxlPgogICAgCiAgICA8bWV0YSBuYW1lPSJ2aWV3cG9ydCIgY29udGVudD0id2lkdGg9ZGV2aWNlLXdpZHRoLAogICAgICAgIGluaXRpYWwtc2NhbGU9MS4wLCBtYXhpbXVtLXNjYWxlPTEuMCwgdXNlci1zY2FsYWJsZT1ubyIgLz4KICAgIDxzdHlsZT4jbWFwXzU0Y2M3OGJiYTgwYTRiMDJhOGY5MWE2ODI5ZTM5MDBjIHsKICAgICAgICBwb3NpdGlvbjogcmVsYXRpdmU7CiAgICAgICAgd2lkdGg6IDEwMC4wJTsKICAgICAgICBoZWlnaHQ6IDEwMC4wJTsKICAgICAgICBsZWZ0OiAwLjAlOwogICAgICAgIHRvcDogMC4wJTsKICAgICAgICB9CiAgICA8L3N0eWxlPgo8L2hlYWQ+Cjxib2R5PiAgICAKICAgIAogICAgPGRpdiBjbGFzcz0iZm9saXVtLW1hcCIgaWQ9Im1hcF81NGNjNzhiYmE4MGE0YjAyYThmOTFhNjgyOWUzOTAwYyIgPjwvZGl2Pgo8L2JvZHk+CjxzY3JpcHQ+ICAgIAogICAgCiAgICAKICAgICAgICB2YXIgYm91bmRzID0gbnVsbDsKICAgIAoKICAgIHZhciBtYXBfNTRjYzc4YmJhODBhNGIwMmE4ZjkxYTY4MjllMzkwMGMgPSBMLm1hcCgKICAgICAgICAnbWFwXzU0Y2M3OGJiYTgwYTRiMDJhOGY5MWE2ODI5ZTM5MDBjJywgewogICAgICAgIGNlbnRlcjogWzQ2LjA3MjE3Mjc4NjMxNzE1LCAxMS4xMTk2NjU4ODg2NDg3Ml0sCiAgICAgICAgem9vbTogMSwKICAgICAgICBtYXhCb3VuZHM6IGJvdW5kcywKICAgICAgICBsYXllcnM6IFtdLAogICAgICAgIHdvcmxkQ29weUp1bXA6IGZhbHNlLAogICAgICAgIGNyczogTC5DUlMuRVBTRzM4NTcsCiAgICAgICAgem9vbUNvbnRyb2w6IHRydWUsCiAgICAgICAgfSk7CgoKICAgIAogICAgdmFyIHRpbGVfbGF5ZXJfNTMzYjMzNTg1MDAyNDc2ZmI5ZGI1NTU5Njg2MTY1YTggPSBMLnRpbGVMYXllcigKICAgICAgICAnaHR0cHM6Ly97c30udGlsZS5vcGVuc3RyZWV0bWFwLm9yZy97en0ve3h9L3t5fS5wbmcnLAogICAgICAgIHsKICAgICAgICAiYXR0cmlidXRpb24iOiBudWxsLAogICAgICAgICJkZXRlY3RSZXRpbmEiOiBmYWxzZSwKICAgICAgICAibWF4TmF0aXZlWm9vbSI6IDE4LAogICAgICAgICJtYXhab29tIjogMTgsCiAgICAgICAgIm1pblpvb20iOiAwLAogICAgICAgICJub1dyYXAiOiBmYWxzZSwKICAgICAgICAib3BhY2l0eSI6IDEsCiAgICAgICAgInN1YmRvbWFpbnMiOiAiYWJjIiwKICAgICAgICAidG1zIjogZmFsc2UKfSkuYWRkVG8obWFwXzU0Y2M3OGJiYTgwYTRiMDJhOGY5MWE2ODI5ZTM5MDBjKTsKICAgIAogICAgICAgICAgICAgICAgdmFyIHBvbHlfbGluZV9mMjY4ZmE0NTdlMGM0Njk1OGEyOGI1YWZjZTYyMzk2YiA9IEwucG9seWxpbmUoCiAgICAgICAgICAgICAgICAgICAgW1s0Ni4wNzIwNDQ2LCAxMS4xMTk1MzI0XSwgWzQ2LjA3MjAzMywgMTEuMTE5NTY4XV0sCiAgICAgICAgICAgICAgICAgICAgewogICJidWJibGluZ01vdXNlRXZlbnRzIjogdHJ1ZSwKICAiY29sb3IiOiAiI2NjMDAwMCIsCiAgImRhc2hBcnJheSI6IG51bGwsCiAgImRhc2hPZmZzZXQiOiBudWxsLAogICJmaWxsIjogZmFsc2UsCiAgImZpbGxDb2xvciI6ICIjY2MwMDAwIiwKICAiZmlsbE9wYWNpdHkiOiAwLjIsCiAgImZpbGxSdWxlIjogImV2ZW5vZGQiLAogICJsaW5lQ2FwIjogInJvdW5kIiwKICAibGluZUpvaW4iOiAicm91bmQiLAogICJub0NsaXAiOiBmYWxzZSwKICAib3BhY2l0eSI6IDEsCiAgInNtb290aEZhY3RvciI6IDEuMCwKICAic3Ryb2tlIjogdHJ1ZSwKICAid2VpZ2h0IjogNQp9CiAgICAgICAgICAgICAgICAgICAgKQogICAgICAgICAgICAgICAgICAgIC5hZGRUbyhtYXBfNTRjYzc4YmJhODBhNGIwMmE4ZjkxYTY4MjllMzkwMGMpOwogICAgICAgICAgICAKICAgIAogICAgICAgICAgICB2YXIgcG9wdXBfMzkzOTBiZGY3YmVmNDcyYzg2ODMyMDAyMGM2OGE3M2UgPSBMLnBvcHVwKHttYXhXaWR0aDogJzEwMCUnCiAgICAgICAgICAgIAogICAgICAgICAgICB9KTsKCiAgICAgICAgICAgIAogICAgICAgICAgICAgICAgdmFyIGh0bWxfMTgyNWU4ZTVhYzE4NGU5YmFlNjIwYjM2YmFlM2ZmOGIgPSAkKGA8ZGl2IGlkPSJodG1sXzE4MjVlOGU1YWMxODRlOWJhZTYyMGIzNmJhZTNmZjhiIiBzdHlsZT0id2lkdGg6IDEwMC4wJTsgaGVpZ2h0OiAxMDAuMCU7Ij5OYU48L2Rpdj5gKVswXTsKICAgICAgICAgICAgICAgIHBvcHVwXzM5MzkwYmRmN2JlZjQ3MmM4NjgzMjAwMjBjNjhhNzNlLnNldENvbnRlbnQoaHRtbF8xODI1ZThlNWFjMTg0ZTliYWU2MjBiMzZiYWUzZmY4Yik7CiAgICAgICAgICAgIAoKICAgICAgICAgICAgcG9seV9saW5lX2YyNjhmYTQ1N2UwYzQ2OTU4YTI4YjVhZmNlNjIzOTZiLmJpbmRQb3B1cChwb3B1cF8zOTM5MGJkZjdiZWY0NzJjODY4MzIwMDIwYzY4YTczZSkKICAgICAgICAgICAgOwoKICAgICAgICAgICAgCiAgICAgICAgCiAgICAKICAgICAgICAgICAgICAgIHZhciBwb2x5X2xpbmVfYzVmYmZiZjhjYjI4NDcxYmJmMDJiNWEzZWQ1M2IzMTAgPSBMLnBvbHlsaW5lKAogICAgICAgICAgICAgICAgICAgIFtbNDYuMDcyMDMzLCAxMS4xMTk1NjhdLCBbNDYuMDcyMTkxOSwgMTEuMTE5NjgxNl1dLAogICAgICAgICAgICAgICAgICAgIHsKICAiYnViYmxpbmdNb3VzZUV2ZW50cyI6IHRydWUsCiAgImNvbG9yIjogIiNjYzAwMDAiLAogICJkYXNoQXJyYXkiOiBudWxsLAogICJkYXNoT2Zmc2V0IjogbnVsbCwKICAiZmlsbCI6IGZhbHNlLAogICJmaWxsQ29sb3IiOiAiI2NjMDAwMCIsCiAgImZpbGxPcGFjaXR5IjogMC4yLAogICJmaWxsUnVsZSI6ICJldmVub2RkIiwKICAibGluZUNhcCI6ICJyb3VuZCIsCiAgImxpbmVKb2luIjogInJvdW5kIiwKICAibm9DbGlwIjogZmFsc2UsCiAgIm9wYWNpdHkiOiAxLAogICJzbW9vdGhGYWN0b3IiOiAxLjAsCiAgInN0cm9rZSI6IHRydWUsCiAgIndlaWdodCI6IDUKfQogICAgICAgICAgICAgICAgICAgICkKICAgICAgICAgICAgICAgICAgICAuYWRkVG8obWFwXzU0Y2M3OGJiYTgwYTRiMDJhOGY5MWE2ODI5ZTM5MDBjKTsKICAgICAgICAgICAgCiAgICAKICAgICAgICAgICAgdmFyIHBvcHVwXzZlODM3YTkyNDkzZDQyNjM5OGQ1MGYyNmZjODlmNGE3ID0gTC5wb3B1cCh7bWF4V2lkdGg6ICcxMDAlJwogICAgICAgICAgICAKICAgICAgICAgICAgfSk7CgogICAgICAgICAgICAKICAgICAgICAgICAgICAgIHZhciBodG1sXzUxZDZjZDFjZWJjNDQxMTVhZGIwMTE4MTMyZWQ3NjllID0gJChgPGRpdiBpZD0iaHRtbF81MWQ2Y2QxY2ViYzQ0MTE1YWRiMDExODEzMmVkNzY5ZSIgc3R5bGU9IndpZHRoOiAxMDAuMCU7IGhlaWdodDogMTAwLjAlOyI+IlBpYXp6YSBEYW50ZSI8L2Rpdj5gKVswXTsKICAgICAgICAgICAgICAgIHBvcHVwXzZlODM3YTkyNDkzZDQyNjM5OGQ1MGYyNmZjODlmNGE3LnNldENvbnRlbnQoaHRtbF81MWQ2Y2QxY2ViYzQ0MTE1YWRiMDExODEzMmVkNzY5ZSk7CiAgICAgICAgICAgIAoKICAgICAgICAgICAgcG9seV9saW5lX2M1ZmJmYmY4Y2IyODQ3MWJiZjAyYjVhM2VkNTNiMzEwLmJpbmRQb3B1cChwb3B1cF82ZTgzN2E5MjQ5M2Q0MjYzOThkNTBmMjZmYzg5ZjRhNykKICAgICAgICAgICAgOwoKICAgICAgICAgICAgCiAgICAgICAgCiAgICAKICAgICAgICAgICAgICAgIHZhciBwb2x5X2xpbmVfOWVmYWU3MDhjNTg5NDgwNmI1NGNkYTAzY2U1ODY2MDUgPSBMLnBvbHlsaW5lKAogICAgICAgICAgICAgICAgICAgIFtbNDYuMDcyMTkxOSwgMTEuMTE5NjgxNl0sIFs0Ni4wNzIzMzkzLCAxMS4xMTk3ODY3XV0sCiAgICAgICAgICAgICAgICAgICAgewogICJidWJibGluZ01vdXNlRXZlbnRzIjogdHJ1ZSwKICAiY29sb3IiOiAiI2NjMDAwMCIsCiAgImRhc2hBcnJheSI6IG51bGwsCiAgImRhc2hPZmZzZXQiOiBudWxsLAogICJmaWxsIjogZmFsc2UsCiAgImZpbGxDb2xvciI6ICIjY2MwMDAwIiwKICAiZmlsbE9wYWNpdHkiOiAwLjIsCiAgImZpbGxSdWxlIjogImV2ZW5vZGQiLAogICJsaW5lQ2FwIjogInJvdW5kIiwKICAibGluZUpvaW4iOiAicm91bmQiLAogICJub0NsaXAiOiBmYWxzZSwKICAib3BhY2l0eSI6IDEsCiAgInNtb290aEZhY3RvciI6IDEuMCwKICAic3Ryb2tlIjogdHJ1ZSwKICAid2VpZ2h0IjogNQp9CiAgICAgICAgICAgICAgICAgICAgKQogICAgICAgICAgICAgICAgICAgIC5hZGRUbyhtYXBfNTRjYzc4YmJhODBhNGIwMmE4ZjkxYTY4MjllMzkwMGMpOwogICAgICAgICAgICAKICAgIAogICAgICAgICAgICB2YXIgcG9wdXBfNjZhNTk2OTE1ZWNjNGUyZDk2ZmQzYTUxZGY0YTE2NjUgPSBMLnBvcHVwKHttYXhXaWR0aDogJzEwMCUnCiAgICAgICAgICAgIAogICAgICAgICAgICB9KTsKCiAgICAgICAgICAgIAogICAgICAgICAgICAgICAgdmFyIGh0bWxfZDZmZWM5NjBmMmVhNDdhNWFjNjAzNDNlMWY3ZDM1ZTIgPSAkKGA8ZGl2IGlkPSJodG1sX2Q2ZmVjOTYwZjJlYTQ3YTVhYzYwMzQzZTFmN2QzNWUyIiBzdHlsZT0id2lkdGg6IDEwMC4wJTsgaGVpZ2h0OiAxMDAuMCU7Ij4iUGlhenphIERhbnRlIjwvZGl2PmApWzBdOwogICAgICAgICAgICAgICAgcG9wdXBfNjZhNTk2OTE1ZWNjNGUyZDk2ZmQzYTUxZGY0YTE2NjUuc2V0Q29udGVudChodG1sX2Q2ZmVjOTYwZjJlYTQ3YTVhYzYwMzQzZTFmN2QzNWUyKTsKICAgICAgICAgICAgCgogICAgICAgICAgICBwb2x5X2xpbmVfOWVmYWU3MDhjNTg5NDgwNmI1NGNkYTAzY2U1ODY2MDUuYmluZFBvcHVwKHBvcHVwXzY2YTU5NjkxNWVjYzRlMmQ5NmZkM2E1MWRmNGExNjY1KQogICAgICAgICAgICA7CgogICAgICAgICAgICAKICAgICAgICAKICAgIAogICAgICAgICAgICAgICAgCgogICAgICAgICAgICAgICAgbWFwXzU0Y2M3OGJiYTgwYTRiMDJhOGY5MWE2ODI5ZTM5MDBjLmZpdEJvdW5kcygKICAgICAgICAgICAgICAgICAgICBbWzQ2LjA3MjAzMywgMTEuMTE5NTMyNF0sIFs0Ni4wNzIzMzkzLCAxMS4xMTk3ODY3XV0sCiAgICAgICAgICAgICAgICAgICAge30KICAgICAgICAgICAgICAgICAgICApOwogICAgICAgICAgICAKPC9zY3JpcHQ+ onload=\"this.contentDocument.open();this.contentDocument.write(atob(this.getAttribute('data-html')));this.contentDocument.close();\" allowfullscreen webkitallowfullscreen mozallowfullscreen></iframe></div></div>"
            ],
            "text/plain": [
              "<folium.folium.Map at 0x7f48e7a8a828>"
            ]
          },
          "metadata": {
            "tags": []
          },
          "execution_count": 79
        }
      ]
    },
    {
      "cell_type": "code",
      "metadata": {
        "id": "y2DZx3ubcR8f",
        "outputId": "6f04c2a0-302b-4c51-ae15-969308a1c3b6",
        "colab": {
          "base_uri": "https://localhost:8080/",
          "height": 36
        }
      },
      "source": [
        "texts[1]"
      ],
      "execution_count": 80,
      "outputs": [
        {
          "output_type": "execute_result",
          "data": {
            "application/vnd.google.colaboratory.intrinsic+json": {
              "type": "string"
            },
            "text/plain": [
              "\"the bar Flora is 36 meters from the train station and it's reachable in 0:36 minutes\""
            ]
          },
          "metadata": {
            "tags": []
          },
          "execution_count": 80
        }
      ]
    },
    {
      "cell_type": "code",
      "metadata": {
        "id": "mySgKcblOOJ7",
        "outputId": "50ca4509-d459-48b2-b61b-48ace01da28c",
        "colab": {
          "base_uri": "https://localhost:8080/",
          "height": 904
        }
      },
      "source": [
        "maps[1]"
      ],
      "execution_count": 81,
      "outputs": [
        {
          "output_type": "execute_result",
          "data": {
            "text/html": [
              "<div style=\"width:100%;\"><div style=\"position:relative;width:100%;height:0;padding-bottom:60%;\"><span style=\"color:#565656\">Make this Notebook Trusted to load map: File -> Trust Notebook</span><iframe src=\"about:blank\" style=\"position:absolute;width:100%;height:100%;left:0;top:0;border:none !important;\" data-html=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 onload=\"this.contentDocument.open();this.contentDocument.write(atob(this.getAttribute('data-html')));this.contentDocument.close();\" allowfullscreen webkitallowfullscreen mozallowfullscreen></iframe></div></div>"
            ],
            "text/plain": [
              "<folium.folium.Map at 0x7f48e3a7be10>"
            ]
          },
          "metadata": {
            "tags": []
          },
          "execution_count": 81
        }
      ]
    },
    {
      "cell_type": "code",
      "metadata": {
        "id": "G-6a1LV6PNR7",
        "outputId": "8d56de60-7f0e-4910-ca2d-2462532ad4e1",
        "colab": {
          "base_uri": "https://localhost:8080/",
          "height": 36
        }
      },
      "source": [
        "texts[2]"
      ],
      "execution_count": 82,
      "outputs": [
        {
          "output_type": "execute_result",
          "data": {
            "application/vnd.google.colaboratory.intrinsic+json": {
              "type": "string"
            },
            "text/plain": [
              "\"the bar Giornale & Caffè is 181 meters from the train station and it's reachable in 3:01 minutes\""
            ]
          },
          "metadata": {
            "tags": []
          },
          "execution_count": 82
        }
      ]
    },
    {
      "cell_type": "code",
      "metadata": {
        "id": "E_98Np-MOPaB",
        "outputId": "79b43626-15d7-4499-999b-2015b21b7320",
        "colab": {
          "base_uri": "https://localhost:8080/",
          "height": 904
        }
      },
      "source": [
        "maps[2]"
      ],
      "execution_count": 83,
      "outputs": [
        {
          "output_type": "execute_result",
          "data": {
            "text/html": [
              "<div style=\"width:100%;\"><div style=\"position:relative;width:100%;height:0;padding-bottom:60%;\"><span style=\"color:#565656\">Make this Notebook Trusted to load map: File -> Trust Notebook</span><iframe src=\"about:blank\" style=\"position:absolute;width:100%;height:100%;left:0;top:0;border:none !important;\" data-html=PCFET0NUWVBFIGh0bWw+CjxoZWFkPiAgICAKICAgIDxtZXRhIGh0dHAtZXF1aXY9ImNvbnRlbnQtdHlwZSIgY29udGVudD0idGV4dC9odG1sOyBjaGFyc2V0PVVURi04IiAvPgogICAgPHNjcmlwdD5MX1BSRUZFUl9DQU5WQVM9ZmFsc2U7IExfTk9fVE9VQ0g9ZmFsc2U7IExfRElTQUJMRV8zRD1mYWxzZTs8L3NjcmlwdD4KICAgIDxzY3JpcHQgc3JjPSJodHRwczovL2Nkbi5qc2RlbGl2ci5uZXQvbnBtL2xlYWZsZXRAMS40LjAvZGlzdC9sZWFmbGV0LmpzIj48L3NjcmlwdD4KICAgIDxzY3JpcHQgc3JjPSJodHRwczovL2NvZGUuanF1ZXJ5LmNvbS9qcXVlcnktMS4xMi40Lm1pbi5qcyI+PC9zY3JpcHQ+CiAgICA8c2NyaXB0IHNyYz0iaHR0cHM6Ly9tYXhjZG4uYm9vdHN0cmFwY2RuLmNvbS9ib290c3RyYXAvMy4yLjAvanMvYm9vdHN0cmFwLm1pbi5qcyI+PC9zY3JpcHQ+CiAgICA8c2NyaXB0IHNyYz0iaHR0cHM6Ly9jZG5qcy5jbG91ZGZsYXJlLmNvbS9hamF4L2xpYnMvTGVhZmxldC5hd2Vzb21lLW1hcmtlcnMvMi4wLjIvbGVhZmxldC5hd2Vzb21lLW1hcmtlcnMuanMiPjwvc2NyaXB0PgogICAgPGxpbmsgcmVsPSJzdHlsZXNoZWV0IiBocmVmPSJodHRwczovL2Nkbi5qc2RlbGl2ci5uZXQvbnBtL2xlYWZsZXRAMS40LjAvZGlzdC9sZWFmbGV0LmNzcyIvPgogICAgPGxpbmsgcmVsPSJzdHlsZXNoZWV0IiBocmVmPSJodHRwczovL21heGNkbi5ib290c3RyYXBjZG4uY29tL2Jvb3RzdHJhcC8zLjIuMC9jc3MvYm9vdHN0cmFwLm1pbi5jc3MiLz4KICAgIDxsaW5rIHJlbD0ic3R5bGVzaGVldCIgaHJlZj0iaHR0cHM6Ly9tYXhjZG4uYm9vdHN0cmFwY2RuLmNvbS9ib290c3RyYXAvMy4yLjAvY3NzL2Jvb3RzdHJhcC10aGVtZS5taW4uY3NzIi8+CiAgICA8bGluayByZWw9InN0eWxlc2hlZXQiIGhyZWY9Imh0dHBzOi8vbWF4Y2RuLmJvb3RzdHJhcGNkbi5jb20vZm9udC1hd2Vzb21lLzQuNi4zL2Nzcy9mb250LWF3ZXNvbWUubWluLmNzcyIvPgogICAgPGxpbmsgcmVsPSJzdHlsZXNoZWV0IiBocmVmPSJodHRwczovL2NkbmpzLmNsb3VkZmxhcmUuY29tL2FqYXgvbGlicy9MZWFmbGV0LmF3ZXNvbWUtbWFya2Vycy8yLjAuMi9sZWFmbGV0LmF3ZXNvbWUtbWFya2Vycy5jc3MiLz4KICAgIDxsaW5rIHJlbD0ic3R5bGVzaGVldCIgaHJlZj0iaHR0cHM6Ly9yYXdjZG4uZ2l0aGFjay5jb20vcHl0aG9uLXZpc3VhbGl6YXRpb24vZm9saXVtL21hc3Rlci9mb2xpdW0vdGVtcGxhdGVzL2xlYWZsZXQuYXdlc29tZS5yb3RhdGUuY3NzIi8+CiAgICA8c3R5bGU+aHRtbCwgYm9keSB7d2lkdGg6IDEwMCU7aGVpZ2h0OiAxMDAlO21hcmdpbjogMDtwYWRkaW5nOiAwO308L3N0eWxlPgogICAgPHN0eWxlPiNtYXAge3Bvc2l0aW9uOmFic29sdXRlO3RvcDowO2JvdHRvbTowO3JpZ2h0OjA7bGVmdDowO308L3N0eWxlPgogICAgCiAgICA8bWV0YSBuYW1lPSJ2aWV3cG9ydCIgY29udGVudD0id2lkdGg9ZGV2aWNlLXdpZHRoLAogICAgICAgIGluaXRpYWwtc2NhbGU9MS4wLCBtYXhpbXVtLXNjYWxlPTEuMCwgdXNlci1zY2FsYWJsZT1ubyIgLz4KICAgIDxzdHlsZT4jbWFwX2U1MDVlNGUzYmU3ZDQzYzNhN2MzNWFhOTdmMDdmODZiIHsKICAgICAgICBwb3NpdGlvbjogcmVsYXRpdmU7CiAgICAgICAgd2lkdGg6IDEwMC4wJTsKICAgICAgICBoZWlnaHQ6IDEwMC4wJTsKICAgICAgICBsZWZ0OiAwLjAlOwogICAgICAgIHRvcDogMC4wJTsKICAgICAgICB9CiAgICA8L3N0eWxlPgo8L2hlYWQ+Cjxib2R5PiAgICAKICAgIAogICAgPGRpdiBjbGFzcz0iZm9saXVtLW1hcCIgaWQ9Im1hcF9lNTA1ZTRlM2JlN2Q0M2MzYTdjMzVhYTk3ZjA3Zjg2YiIgPjwvZGl2Pgo8L2JvZHk+CjxzY3JpcHQ+ICAgIAogICAgCiAgICAKICAgICAgICB2YXIgYm91bmRzID0gbnVsbDsKICAgIAoKICAgIHZhciBtYXBfZTUwNWU0ZTNiZTdkNDNjM2E3YzM1YWE5N2YwN2Y4NmIgPSBMLm1hcCgKICAgICAgICAnbWFwX2U1MDVlNGUzYmU3ZDQzYzNhN2MzNWFhOTdmMDdmODZiJywgewogICAgICAgIGNlbnRlcjogWzQ2LjA3MjIyMzYyOTYzMjA4NCwgMTEuMTIwNzkzMTkwOTU3MzldLAogICAgICAgIHpvb206IDEsCiAgICAgICAgbWF4Qm91bmRzOiBib3VuZHMsCiAgICAgICAgbGF5ZXJzOiBbXSwKICAgICAgICB3b3JsZENvcHlKdW1wOiBmYWxzZSwKICAgICAgICBjcnM6IEwuQ1JTLkVQU0czODU3LAogICAgICAgIHpvb21Db250cm9sOiB0cnVlLAogICAgICAgIH0pOwoKCiAgICAKICAgIHZhciB0aWxlX2xheWVyX2ExOWQxMzlhZTkyYTQ3ZjA5YTY4MGE5YTM3OWRkNzIzID0gTC50aWxlTGF5ZXIoCiAgICAgICAgJ2h0dHBzOi8ve3N9LnRpbGUub3BlbnN0cmVldG1hcC5vcmcve3p9L3t4fS97eX0ucG5nJywKICAgICAgICB7CiAgICAgICAgImF0dHJpYnV0aW9uIjogbnVsbCwKICAgICAgICAiZGV0ZWN0UmV0aW5hIjogZmFsc2UsCiAgICAgICAgIm1heE5hdGl2ZVpvb20iOiAxOCwKICAgICAgICAibWF4Wm9vbSI6IDE4LAogICAgICAgICJtaW5ab29tIjogMCwKICAgICAgICAibm9XcmFwIjogZmFsc2UsCiAgICAgICAgIm9wYWNpdHkiOiAxLAogICAgICAgICJzdWJkb21haW5zIjogImFiYyIsCiAgICAgICAgInRtcyI6IGZhbHNlCn0pLmFkZFRvKG1hcF9lNTA1ZTRlM2JlN2Q0M2MzYTdjMzVhYTk3ZjA3Zjg2Yik7CiAgICAKICAgICAgICAgICAgICAgIHZhciBwb2x5X2xpbmVfYWIzMWI5Y2I2YzA3NDdlMTliNTE3ZDc0OGQ0NjU0MjEgPSBMLnBvbHlsaW5lKAogICAgICAgICAgICAgICAgICAgIFtbNDYuMDcyMDQ0NiwgMTEuMTE5NTMyNF0sIFs0Ni4wNzIwMzMsIDExLjExOTU2OF1dLAogICAgICAgICAgICAgICAgICAgIHsKICAiYnViYmxpbmdNb3VzZUV2ZW50cyI6IHRydWUsCiAgImNvbG9yIjogIiNjYzAwMDAiLAogICJkYXNoQXJyYXkiOiBudWxsLAogICJkYXNoT2Zmc2V0IjogbnVsbCwKICAiZmlsbCI6IGZhbHNlLAogICJmaWxsQ29sb3IiOiAiI2NjMDAwMCIsCiAgImZpbGxPcGFjaXR5IjogMC4yLAogICJmaWxsUnVsZSI6ICJldmVub2RkIiwKICAibGluZUNhcCI6ICJyb3VuZCIsCiAgImxpbmVKb2luIjogInJvdW5kIiwKICAibm9DbGlwIjogZmFsc2UsCiAgIm9wYWNpdHkiOiAxLAogICJzbW9vdGhGYWN0b3IiOiAxLjAsCiAgInN0cm9rZSI6IHRydWUsCiAgIndlaWdodCI6IDUKfQogICAgICAgICAgICAgICAgICAgICkKICAgICAgICAgICAgICAgICAgICAuYWRkVG8obWFwX2U1MDVlNGUzYmU3ZDQzYzNhN2MzNWFhOTdmMDdmODZiKTsKICAgICAgICAgICAgCiAgICAKICAgICAgICAgICAgdmFyIHBvcHVwX2I4MGMwOWQyMzNhZjQ3MmU5ZjM0MmJlMzJmYjdjYjdmID0gTC5wb3B1cCh7bWF4V2lkdGg6ICcxMDAlJwogICAgICAgICAgICAKICAgICAgICAgICAgfSk7CgogICAgICAgICAgICAKICAgICAgICAgICAgICAgIHZhciBodG1sXzVlMTQyNzNkYjg4YTQ2ODFhYzliMWI5YmJkMmU2OTU0ID0gJChgPGRpdiBpZD0iaHRtbF81ZTE0MjczZGI4OGE0NjgxYWM5YjFiOWJiZDJlNjk1NCIgc3R5bGU9IndpZHRoOiAxMDAuMCU7IGhlaWdodDogMTAwLjAlOyI+TmFOPC9kaXY+YClbMF07CiAgICAgICAgICAgICAgICBwb3B1cF9iODBjMDlkMjMzYWY0NzJlOWYzNDJiZTMyZmI3Y2I3Zi5zZXRDb250ZW50KGh0bWxfNWUxNDI3M2RiODhhNDY4MWFjOWIxYjliYmQyZTY5NTQpOwogICAgICAgICAgICAKCiAgICAgICAgICAgIHBvbHlfbGluZV9hYjMxYjljYjZjMDc0N2UxOWI1MTdkNzQ4ZDQ2NTQyMS5iaW5kUG9wdXAocG9wdXBfYjgwYzA5ZDIzM2FmNDcyZTlmMzQyYmUzMmZiN2NiN2YpCiAgICAgICAgICAgIDsKCiAgICAgICAgICAgIAogICAgICAgIAogICAgCiAgICAgICAgICAgICAgICB2YXIgcG9seV9saW5lX2JiZjE5MDgwMWRlYzQ0YzJhM2ViZTZlZmE3NjI5NTA0ID0gTC5wb2x5bGluZSgKICAgICAgICAgICAgICAgICAgICBbWzQ2LjA3MjAzMywgMTEuMTE5NTY4XSwgWzQ2LjA3MjAwNzEsIDExLjExOTY1MjhdXSwKICAgICAgICAgICAgICAgICAgICB7CiAgImJ1YmJsaW5nTW91c2VFdmVudHMiOiB0cnVlLAogICJjb2xvciI6ICIjY2MwMDAwIiwKICAiZGFzaEFycmF5IjogbnVsbCwKICAiZGFzaE9mZnNldCI6IG51bGwsCiAgImZpbGwiOiBmYWxzZSwKICAiZmlsbENvbG9yIjogIiNjYzAwMDAiLAogICJmaWxsT3BhY2l0eSI6IDAuMiwKICAiZmlsbFJ1bGUiOiAiZXZlbm9kZCIsCiAgImxpbmVDYXAiOiAicm91bmQiLAogICJsaW5lSm9pbiI6ICJyb3VuZCIsCiAgIm5vQ2xpcCI6IGZhbHNlLAogICJvcGFjaXR5IjogMSwKICAic21vb3RoRmFjdG9yIjogMS4wLAogICJzdHJva2UiOiB0cnVlLAogICJ3ZWlnaHQiOiA1Cn0KICAgICAgICAgICAgICAgICAgICApCiAgICAgICAgICAgICAgICAgICAgLmFkZFRvKG1hcF9lNTA1ZTRlM2JlN2Q0M2MzYTdjMzVhYTk3ZjA3Zjg2Yik7CiAgICAgICAgICAgIAogICAgCiAgICAgICAgICAgIHZhciBwb3B1cF82Zjg2Y2M2MTM1YWY0Y2M1OWExOWU1MjMzMzJlMzdjMyA9IEwucG9wdXAoe21heFdpZHRoOiAnMTAwJScKICAgICAgICAgICAgCiAgICAgICAgICAgIH0pOwoKICAgICAgICAgICAgCiAgICAgICAgICAgICAgICB2YXIgaHRtbF8yMWQ5YTU5MTU5YTI0YTE1YjZiOThhNzM0MjcxN2JjMyA9ICQoYDxkaXYgaWQ9Imh0bWxfMjFkOWE1OTE1OWEyNGExNWI2Yjk4YTczNDI3MTdiYzMiIHN0eWxlPSJ3aWR0aDogMTAwLjAlOyBoZWlnaHQ6IDEwMC4wJTsiPk5hTjwvZGl2PmApWzBdOwogICAgICAgICAgICAgICAgcG9wdXBfNmY4NmNjNjEzNWFmNGNjNTlhMTllNTIzMzMyZTM3YzMuc2V0Q29udGVudChodG1sXzIxZDlhNTkxNTlhMjRhMTViNmI5OGE3MzQyNzE3YmMzKTsKICAgICAgICAgICAgCgogICAgICAgICAgICBwb2x5X2xpbmVfYmJmMTkwODAxZGVjNDRjMmEzZWJlNmVmYTc2Mjk1MDQuYmluZFBvcHVwKHBvcHVwXzZmODZjYzYxMzVhZjRjYzU5YTE5ZTUyMzMzMmUzN2MzKQogICAgICAgICAgICA7CgogICAgICAgICAgICAKICAgICAgICAKICAgIAogICAgICAgICAgICAgICAgdmFyIHBvbHlfbGluZV9hYjBmYWFjMzEyYzY0YTJkODMyMDJjMGJjZDRhY2ZjYyA9IEwucG9seWxpbmUoCiAgICAgICAgICAgICAgICAgICAgW1s0Ni4wNzIwMDcxLCAxMS4xMTk2NTI4XSwgWzQ2LjA3MTk4ODYsIDExLjExOTcxNF1dLAogICAgICAgICAgICAgICAgICAgIHsKICAiYnViYmxpbmdNb3VzZUV2ZW50cyI6IHRydWUsCiAgImNvbG9yIjogIiNjYzAwMDAiLAogICJkYXNoQXJyYXkiOiBudWxsLAogICJkYXNoT2Zmc2V0IjogbnVsbCwKICAiZmlsbCI6IGZhbHNlLAogICJmaWxsQ29sb3IiOiAiI2NjMDAwMCIsCiAgImZpbGxPcGFjaXR5IjogMC4yLAogICJmaWxsUnVsZSI6ICJldmVub2RkIiwKICAibGluZUNhcCI6ICJyb3VuZCIsCiAgImxpbmVKb2luIjogInJvdW5kIiwKICAibm9DbGlwIjogZmFsc2UsCiAgIm9wYWNpdHkiOiAxLAogICJzbW9vdGhGYWN0b3IiOiAxLjAsCiAgInN0cm9rZSI6IHRydWUsCiAgIndlaWdodCI6IDUKfQogICAgICAgICAgICAgICAgICAgICkKICAgICAgICAgICAgICAgICAgICAuYWRkVG8obWFwX2U1MDVlNGUzYmU3ZDQzYzNhN2MzNWFhOTdmMDdmODZiKTsKICAgICAgICAgICAgCiAgICAKICAgICAgICAgICAgdmFyIHBvcHVwXzBkNjg5NGM3M2UzNDQ1ZTc5YjVjMzQ2MWY5YjA5ZDdhID0gTC5wb3B1cCh7bWF4V2lkdGg6ICcxMDAlJwogICAgICAgICAgICAKICAgICAgICAgICAgfSk7CgogICAgICAgICAgICAKICAgICAgICAgICAgICAgIHZhciBodG1sXzNmNzU1OTQ5MmEyNTRjMDJiNjY1MDAwOTc3MjkxMGI4ID0gJChgPGRpdiBpZD0iaHRtbF8zZjc1NTk0OTJhMjU0YzAyYjY2NTAwMDk3NzI5MTBiOCIgc3R5bGU9IndpZHRoOiAxMDAuMCU7IGhlaWdodDogMTAwLjAlOyI+TmFOPC9kaXY+YClbMF07CiAgICAgICAgICAgICAgICBwb3B1cF8wZDY4OTRjNzNlMzQ0NWU3OWI1YzM0NjFmOWIwOWQ3YS5zZXRDb250ZW50KGh0bWxfM2Y3NTU5NDkyYTI1NGMwMmI2NjUwMDA5NzcyOTEwYjgpOwogICAgICAgICAgICAKCiAgICAgICAgICAgIHBvbHlfbGluZV9hYjBmYWFjMzEyYzY0YTJkODMyMDJjMGJjZDRhY2ZjYy5iaW5kUG9wdXAocG9wdXBfMGQ2ODk0YzczZTM0NDVlNzliNWMzNDYxZjliMDlkN2EpCiAgICAgICAgICAgIDsKCiAgICAgICAgICAgIAogICAgICAgIAogICAgCiAgICAgICAgICAgICAgICB2YXIgcG9seV9saW5lXzRjNzRjOTU5ZDMyZDRhYzdiNDk5ZDhhYThlZGZlNDgzID0gTC5wb2x5bGluZSgKICAgICAgICAgICAgICAgICAgICBbWzQ2LjA3MTk4ODYsIDExLjExOTcxNF0sIFs0Ni4wNzIyNzg2LCAxMS4xMTk5MDcyXV0sCiAgICAgICAgICAgICAgICAgICAgewogICJidWJibGluZ01vdXNlRXZlbnRzIjogdHJ1ZSwKICAiY29sb3IiOiAiI2NjMDAwMCIsCiAgImRhc2hBcnJheSI6IG51bGwsCiAgImRhc2hPZmZzZXQiOiBudWxsLAogICJmaWxsIjogZmFsc2UsCiAgImZpbGxDb2xvciI6ICIjY2MwMDAwIiwKICAiZmlsbE9wYWNpdHkiOiAwLjIsCiAgImZpbGxSdWxlIjogImV2ZW5vZGQiLAogICJsaW5lQ2FwIjogInJvdW5kIiwKICAibGluZUpvaW4iOiAicm91bmQiLAogICJub0NsaXAiOiBmYWxzZSwKICAib3BhY2l0eSI6IDEsCiAgInNtb290aEZhY3RvciI6IDEuMCwKICAic3Ryb2tlIjogdHJ1ZSwKICAid2VpZ2h0IjogNQp9CiAgICAgICAgICAgICAgICAgICAgKQogICAgICAgICAgICAgICAgICAgIC5hZGRUbyhtYXBfZTUwNWU0ZTNiZTdkNDNjM2E3YzM1YWE5N2YwN2Y4NmIpOwogICAgICAgICAgICAKICAgIAogICAgICAgICAgICB2YXIgcG9wdXBfMjdmNTFkOWY5NWQyNGU3ZWJlM2YyYzlkZWE1MzUwYjkgPSBMLnBvcHVwKHttYXhXaWR0aDogJzEwMCUnCiAgICAgICAgICAgIAogICAgICAgICAgICB9KTsKCiAgICAgICAgICAgIAogICAgICAgICAgICAgICAgdmFyIGh0bWxfZWQxNWE2MTM3N2Q1NGMzYWEwOGQxYmMxY2NjNDdhNzUgPSAkKGA8ZGl2IGlkPSJodG1sX2VkMTVhNjEzNzdkNTRjM2FhMDhkMWJjMWNjYzQ3YTc1IiBzdHlsZT0id2lkdGg6IDEwMC4wJTsgaGVpZ2h0OiAxMDAuMCU7Ij4iUGlhenphIERhbnRlIEFsaWdoaWVyaSI8L2Rpdj5gKVswXTsKICAgICAgICAgICAgICAgIHBvcHVwXzI3ZjUxZDlmOTVkMjRlN2ViZTNmMmM5ZGVhNTM1MGI5LnNldENvbnRlbnQoaHRtbF9lZDE1YTYxMzc3ZDU0YzNhYTA4ZDFiYzFjY2M0N2E3NSk7CiAgICAgICAgICAgIAoKICAgICAgICAgICAgcG9seV9saW5lXzRjNzRjOTU5ZDMyZDRhYzdiNDk5ZDhhYThlZGZlNDgzLmJpbmRQb3B1cChwb3B1cF8yN2Y1MWQ5Zjk1ZDI0ZTdlYmUzZjJjOWRlYTUzNTBiOSkKICAgICAgICAgICAgOwoKICAgICAgICAgICAgCiAgICAgICAgCiAgICAKICAgICAgICAgICAgICAgIHZhciBwb2x5X2xpbmVfZmIyZGQxMmM4ZmE3NGM4MWE2M2ZiY2ZiNmU3MjgxNjkgPSBMLnBvbHlsaW5lKAogICAgICAgICAgICAgICAgICAgIFtbNDYuMDcyMjc4NiwgMTEuMTE5OTA3Ml0sIFs0Ni4wNzIzNjg3LCAxMS4xMjAwNTIzXV0sCiAgICAgICAgICAgICAgICAgICAgewogICJidWJibGluZ01vdXNlRXZlbnRzIjogdHJ1ZSwKICAiY29sb3IiOiAiI2NjMDAwMCIsCiAgImRhc2hBcnJheSI6IG51bGwsCiAgImRhc2hPZmZzZXQiOiBudWxsLAogICJmaWxsIjogZmFsc2UsCiAgImZpbGxDb2xvciI6ICIjY2MwMDAwIiwKICAiZmlsbE9wYWNpdHkiOiAwLjIsCiAgImZpbGxSdWxlIjogImV2ZW5vZGQiLAogICJsaW5lQ2FwIjogInJvdW5kIiwKICAibGluZUpvaW4iOiAicm91bmQiLAogICJub0NsaXAiOiBmYWxzZSwKICAib3BhY2l0eSI6IDEsCiAgInNtb290aEZhY3RvciI6IDEuMCwKICAic3Ryb2tlIjogdHJ1ZSwKICAid2VpZ2h0IjogNQp9CiAgICAgICAgICAgICAgICAgICAgKQogICAgICAgICAgICAgICAgICAgIC5hZGRUbyhtYXBfZTUwNWU0ZTNiZTdkNDNjM2E3YzM1YWE5N2YwN2Y4NmIpOwogICAgICAgICAgICAKICAgIAogICAgICAgICAgICB2YXIgcG9wdXBfMjIwYzI3YjUzNDVlNDYwYThmNTQxMGM5Yzk4MjE1MjkgPSBMLnBvcHVwKHttYXhXaWR0aDogJzEwMCUnCiAgICAgICAgICAgIAogICAgICAgICAgICB9KTsKCiAgICAgICAgICAgIAogICAgICAgICAgICAgICAgdmFyIGh0bWxfYjllOTY5MjgxM2M2NDU1ZTkyY2JlOTVjODgxZWY3NjggPSAkKGA8ZGl2IGlkPSJodG1sX2I5ZTk2OTI4MTNjNjQ1NWU5MmNiZTk1Yzg4MWVmNzY4IiBzdHlsZT0id2lkdGg6IDEwMC4wJTsgaGVpZ2h0OiAxMDAuMCU7Ij4iUGlhenphIERhbnRlIEFsaWdoaWVyaSI8L2Rpdj5gKVswXTsKICAgICAgICAgICAgICAgIHBvcHVwXzIyMGMyN2I1MzQ1ZTQ2MGE4ZjU0MTBjOWM5ODIxNTI5LnNldENvbnRlbnQoaHRtbF9iOWU5NjkyODEzYzY0NTVlOTJjYmU5NWM4ODFlZjc2OCk7CiAgICAgICAgICAgIAoKICAgICAgICAgICAgcG9seV9saW5lX2ZiMmRkMTJjOGZhNzRjODFhNjNmYmNmYjZlNzI4MTY5LmJpbmRQb3B1cChwb3B1cF8yMjBjMjdiNTM0NWU0NjBhOGY1NDEwYzljOTgyMTUyOSkKICAgICAgICAgICAgOwoKICAgICAgICAgICAgCiAgICAgICAgCiAgICAKICAgICAgICAgICAgICAgIHZhciBwb2x5X2xpbmVfM2I2NWJjNzg3N2ExNDg5M2FmNzk5MGY5YTY2YWIxZDkgPSBMLnBvbHlsaW5lKAogICAgICAgICAgICAgICAgICAgIFtbNDYuMDcyMzY4NywgMTEuMTIwMDUyM10sIFs0Ni4wNzIzNTQ4LCAxMS4xMjAyMDY5XV0sCiAgICAgICAgICAgICAgICAgICAgewogICJidWJibGluZ01vdXNlRXZlbnRzIjogdHJ1ZSwKICAiY29sb3IiOiAiI2NjMDAwMCIsCiAgImRhc2hBcnJheSI6IG51bGwsCiAgImRhc2hPZmZzZXQiOiBudWxsLAogICJmaWxsIjogZmFsc2UsCiAgImZpbGxDb2xvciI6ICIjY2MwMDAwIiwKICAiZmlsbE9wYWNpdHkiOiAwLjIsCiAgImZpbGxSdWxlIjogImV2ZW5vZGQiLAogICJsaW5lQ2FwIjogInJvdW5kIiwKICAibGluZUpvaW4iOiAicm91bmQiLAogICJub0NsaXAiOiBmYWxzZSwKICAib3BhY2l0eSI6IDEsCiAgInNtb290aEZhY3RvciI6IDEuMCwKICAic3Ryb2tlIjogdHJ1ZSwKICAid2VpZ2h0IjogNQp9CiAgICAgICAgICAgICAgICAgICAgKQogICAgICAgICAgICAgICAgICAgIC5hZGRUbyhtYXBfZTUwNWU0ZTNiZTdkNDNjM2E3YzM1YWE5N2YwN2Y4NmIpOwogICAgICAgICAgICAKICAgIAogICAgICAgICAgICB2YXIgcG9wdXBfNzhhYWQ0OGJjY2M1NGZiYThkNmVkOWE5ZGUxM2UyNjggPSBMLnBvcHVwKHttYXhXaWR0aDogJzEwMCUnCiAgICAgICAgICAgIAogICAgICAgICAgICB9KTsKCiAgICAgICAgICAgIAogICAgICAgICAgICAgICAgdmFyIGh0bWxfZDM0YTNhMmRlYTIyNDUwNGJlZjg1NjcxMGFlMzViMDEgPSAkKGA8ZGl2IGlkPSJodG1sX2QzNGEzYTJkZWEyMjQ1MDRiZWY4NTY3MTBhZTM1YjAxIiBzdHlsZT0id2lkdGg6IDEwMC4wJTsgaGVpZ2h0OiAxMDAuMCU7Ij4iUGlhenphIERhbnRlIjwvZGl2PmApWzBdOwogICAgICAgICAgICAgICAgcG9wdXBfNzhhYWQ0OGJjY2M1NGZiYThkNmVkOWE5ZGUxM2UyNjguc2V0Q29udGVudChodG1sX2QzNGEzYTJkZWEyMjQ1MDRiZWY4NTY3MTBhZTM1YjAxKTsKICAgICAgICAgICAgCgogICAgICAgICAgICBwb2x5X2xpbmVfM2I2NWJjNzg3N2ExNDg5M2FmNzk5MGY5YTY2YWIxZDkuYmluZFBvcHVwKHBvcHVwXzc4YWFkNDhiY2NjNTRmYmE4ZDZlZDlhOWRlMTNlMjY4KQogICAgICAgICAgICA7CgogICAgICAgICAgICAKICAgICAgICAKICAgIAogICAgICAgICAgICAgICAgdmFyIHBvbHlfbGluZV9hMjk3YmQ5YzhlMzk0ZDIyODljZGFmMTdhNDI0NzQyNiA9IEwucG9seWxpbmUoCiAgICAgICAgICAgICAgICAgICAgW1s0Ni4wNzIzNTQ4LCAxMS4xMjAyMDY5XSwgWzQ2LjA3MjM0MzUsIDExLjEyMDMzM11dLAogICAgICAgICAgICAgICAgICAgIHsKICAiYnViYmxpbmdNb3VzZUV2ZW50cyI6IHRydWUsCiAgImNvbG9yIjogIiNjYzAwMDAiLAogICJkYXNoQXJyYXkiOiBudWxsLAogICJkYXNoT2Zmc2V0IjogbnVsbCwKICAiZmlsbCI6IGZhbHNlLAogICJmaWxsQ29sb3IiOiAiI2NjMDAwMCIsCiAgImZpbGxPcGFjaXR5IjogMC4yLAogICJmaWxsUnVsZSI6ICJldmVub2RkIiwKICAibGluZUNhcCI6ICJyb3VuZCIsCiAgImxpbmVKb2luIjogInJvdW5kIiwKICAibm9DbGlwIjogZmFsc2UsCiAgIm9wYWNpdHkiOiAxLAogICJzbW9vdGhGYWN0b3IiOiAxLjAsCiAgInN0cm9rZSI6IHRydWUsCiAgIndlaWdodCI6IDUKfQogICAgICAgICAgICAgICAgICAgICkKICAgICAgICAgICAgICAgICAgICAuYWRkVG8obWFwX2U1MDVlNGUzYmU3ZDQzYzNhN2MzNWFhOTdmMDdmODZiKTsKICAgICAgICAgICAgCiAgICAKICAgICAgICAgICAgdmFyIHBvcHVwXzg3NjRkNjBmYjYwNTRkYmNhZGI2MzBmNTIyYWU1NWM3ID0gTC5wb3B1cCh7bWF4V2lkdGg6ICcxMDAlJwogICAgICAgICAgICAKICAgICAgICAgICAgfSk7CgogICAgICAgICAgICAKICAgICAgICAgICAgICAgIHZhciBodG1sX2VhM2JhNzRiZWMwNzQxN2JhMWFhYzAzNjU2YzNiMDQxID0gJChgPGRpdiBpZD0iaHRtbF9lYTNiYTc0YmVjMDc0MTdiYTFhYWMwMzY1NmMzYjA0MSIgc3R5bGU9IndpZHRoOiAxMDAuMCU7IGhlaWdodDogMTAwLjAlOyI+IlBpYXp6YSBEYW50ZSI8L2Rpdj5gKVswXTsKICAgICAgICAgICAgICAgIHBvcHVwXzg3NjRkNjBmYjYwNTRkYmNhZGI2MzBmNTIyYWU1NWM3LnNldENvbnRlbnQoaHRtbF9lYTNiYTc0YmVjMDc0MTdiYTFhYWMwMzY1NmMzYjA0MSk7CiAgICAgICAgICAgIAoKICAgICAgICAgICAgcG9seV9saW5lX2EyOTdiZDljOGUzOTRkMjI4OWNkYWYxN2E0MjQ3NDI2LmJpbmRQb3B1cChwb3B1cF84NzY0ZDYwZmI2MDU0ZGJjYWRiNjMwZjUyMmFlNTVjNykKICAgICAgICAgICAgOwoKICAgICAgICAgICAgCiAgICAgICAgCiAgICAKICAgICAgICAgICAgICAgIHZhciBwb2x5X2xpbmVfY2UwNWE2MTI5YmFjNDYwNDgxMWQyNzFmYTAxNThiYjQgPSBMLnBvbHlsaW5lKAogICAgICAgICAgICAgICAgICAgIFtbNDYuMDcyMzQzNSwgMTEuMTIwMzMzXSwgWzQ2LjA3MjEwNCwgMTEuMTIxMTU3Ml1dLAogICAgICAgICAgICAgICAgICAgIHsKICAiYnViYmxpbmdNb3VzZUV2ZW50cyI6IHRydWUsCiAgImNvbG9yIjogIiNjYzAwMDAiLAogICJkYXNoQXJyYXkiOiBudWxsLAogICJkYXNoT2Zmc2V0IjogbnVsbCwKICAiZmlsbCI6IGZhbHNlLAogICJmaWxsQ29sb3IiOiAiI2NjMDAwMCIsCiAgImZpbGxPcGFjaXR5IjogMC4yLAogICJmaWxsUnVsZSI6ICJldmVub2RkIiwKICAibGluZUNhcCI6ICJyb3VuZCIsCiAgImxpbmVKb2luIjogInJvdW5kIiwKICAibm9DbGlwIjogZmFsc2UsCiAgIm9wYWNpdHkiOiAxLAogICJzbW9vdGhGYWN0b3IiOiAxLjAsCiAgInN0cm9rZSI6IHRydWUsCiAgIndlaWdodCI6IDUKfQogICAgICAgICAgICAgICAgICAgICkKICAgICAgICAgICAgICAgICAgICAuYWRkVG8obWFwX2U1MDVlNGUzYmU3ZDQzYzNhN2MzNWFhOTdmMDdmODZiKTsKICAgICAgICAgICAgCiAgICAKICAgICAgICAgICAgdmFyIHBvcHVwXzc3N2IxMGE1MjdmOTQ2MDc5MTVjOWUyZGY0MjVkMjViID0gTC5wb3B1cCh7bWF4V2lkdGg6ICcxMDAlJwogICAgICAgICAgICAKICAgICAgICAgICAgfSk7CgogICAgICAgICAgICAKICAgICAgICAgICAgICAgIHZhciBodG1sX2JhOTAxM2U2N2FhNjQxMmRiNmVlYmVmYzNkZmFjOTkyID0gJChgPGRpdiBpZD0iaHRtbF9iYTkwMTNlNjdhYTY0MTJkYjZlZWJlZmMzZGZhYzk5MiIgc3R5bGU9IndpZHRoOiAxMDAuMCU7IGhlaWdodDogMTAwLjAlOyI+IlBpYXp6YSBEYW50ZSI8L2Rpdj5gKVswXTsKICAgICAgICAgICAgICAgIHBvcHVwXzc3N2IxMGE1MjdmOTQ2MDc5MTVjOWUyZGY0MjVkMjViLnNldENvbnRlbnQoaHRtbF9iYTkwMTNlNjdhYTY0MTJkYjZlZWJlZmMzZGZhYzk5Mik7CiAgICAgICAgICAgIAoKICAgICAgICAgICAgcG9seV9saW5lX2NlMDVhNjEyOWJhYzQ2MDQ4MTFkMjcxZmEwMTU4YmI0LmJpbmRQb3B1cChwb3B1cF83NzdiMTBhNTI3Zjk0NjA3OTE1YzllMmRmNDI1ZDI1YikKICAgICAgICAgICAgOwoKICAgICAgICAgICAgCiAgICAgICAgCiAgICAKICAgICAgICAgICAgICAgIHZhciBwb2x5X2xpbmVfNmI2ZjRjYjU1NGIyNDliYWIwNWI5OGQ4MGNhOTYxMzMgPSBMLnBvbHlsaW5lKAogICAgICAgICAgICAgICAgICAgIFtbNDYuMDcyMTA0LCAxMS4xMjExNTcyXSwgWzQ2LjA3MjAyODksIDExLjEyMTQxNThdLCBbNDYuMDcyMDI1MywgMTEuMTIxNTIyXV0sCiAgICAgICAgICAgICAgICAgICAgewogICJidWJibGluZ01vdXNlRXZlbnRzIjogdHJ1ZSwKICAiY29sb3IiOiAiI2NjMDAwMCIsCiAgImRhc2hBcnJheSI6IG51bGwsCiAgImRhc2hPZmZzZXQiOiBudWxsLAogICJmaWxsIjogZmFsc2UsCiAgImZpbGxDb2xvciI6ICIjY2MwMDAwIiwKICAiZmlsbE9wYWNpdHkiOiAwLjIsCiAgImZpbGxSdWxlIjogImV2ZW5vZGQiLAogICJsaW5lQ2FwIjogInJvdW5kIiwKICAibGluZUpvaW4iOiAicm91bmQiLAogICJub0NsaXAiOiBmYWxzZSwKICAib3BhY2l0eSI6IDEsCiAgInNtb290aEZhY3RvciI6IDEuMCwKICAic3Ryb2tlIjogdHJ1ZSwKICAid2VpZ2h0IjogNQp9CiAgICAgICAgICAgICAgICAgICAgKQogICAgICAgICAgICAgICAgICAgIC5hZGRUbyhtYXBfZTUwNWU0ZTNiZTdkNDNjM2E3YzM1YWE5N2YwN2Y4NmIpOwogICAgICAgICAgICAKICAgIAogICAgICAgICAgICB2YXIgcG9wdXBfOTI2YmY0MTE5ZTIxNGYzMWE5ZTQxYzEzOTk0MjQ0OTMgPSBMLnBvcHVwKHttYXhXaWR0aDogJzEwMCUnCiAgICAgICAgICAgIAogICAgICAgICAgICB9KTsKCiAgICAgICAgICAgIAogICAgICAgICAgICAgICAgdmFyIGh0bWxfNjFkMDNkYmVmY2FjNGQ0OTk4NDQ4M2U1YTQ2ODVhYjggPSAkKGA8ZGl2IGlkPSJodG1sXzYxZDAzZGJlZmNhYzRkNDk5ODQ0ODNlNWE0Njg1YWI4IiBzdHlsZT0id2lkdGg6IDEwMC4wJTsgaGVpZ2h0OiAxMDAuMCU7Ij4iUGlhenphIERhbnRlIjwvZGl2PmApWzBdOwogICAgICAgICAgICAgICAgcG9wdXBfOTI2YmY0MTE5ZTIxNGYzMWE5ZTQxYzEzOTk0MjQ0OTMuc2V0Q29udGVudChodG1sXzYxZDAzZGJlZmNhYzRkNDk5ODQ0ODNlNWE0Njg1YWI4KTsKICAgICAgICAgICAgCgogICAgICAgICAgICBwb2x5X2xpbmVfNmI2ZjRjYjU1NGIyNDliYWIwNWI5OGQ4MGNhOTYxMzMuYmluZFBvcHVwKHBvcHVwXzkyNmJmNDExOWUyMTRmMzFhOWU0MWMxMzk5NDI0NDkzKQogICAgICAgICAgICA7CgogICAgICAgICAgICAKICAgICAgICAKICAgIAogICAgICAgICAgICAgICAgdmFyIHBvbHlfbGluZV9lM2YyYWI3OWFlNTM0ZTZjOTkyOGZhMWJjMjgwZTkwMyA9IEwucG9seWxpbmUoCiAgICAgICAgICAgICAgICAgICAgW1s0Ni4wNzIwMjUzLCAxMS4xMjE1MjJdLCBbNDYuMDcyMDY3NywgMTEuMTIxNTUyNV1dLAogICAgICAgICAgICAgICAgICAgIHsKICAiYnViYmxpbmdNb3VzZUV2ZW50cyI6IHRydWUsCiAgImNvbG9yIjogIiNjYzAwMDAiLAogICJkYXNoQXJyYXkiOiBudWxsLAogICJkYXNoT2Zmc2V0IjogbnVsbCwKICAiZmlsbCI6IGZhbHNlLAogICJmaWxsQ29sb3IiOiAiI2NjMDAwMCIsCiAgImZpbGxPcGFjaXR5IjogMC4yLAogICJmaWxsUnVsZSI6ICJldmVub2RkIiwKICAibGluZUNhcCI6ICJyb3VuZCIsCiAgImxpbmVKb2luIjogInJvdW5kIiwKICAibm9DbGlwIjogZmFsc2UsCiAgIm9wYWNpdHkiOiAxLAogICJzbW9vdGhGYWN0b3IiOiAxLjAsCiAgInN0cm9rZSI6IHRydWUsCiAgIndlaWdodCI6IDUKfQogICAgICAgICAgICAgICAgICAgICkKICAgICAgICAgICAgICAgICAgICAuYWRkVG8obWFwX2U1MDVlNGUzYmU3ZDQzYzNhN2MzNWFhOTdmMDdmODZiKTsKICAgICAgICAgICAgCiAgICAKICAgICAgICAgICAgdmFyIHBvcHVwX2U3YjVkMzNmNjA0NjRlOGRhMzBhNDVmMjEwMjk3M2NjID0gTC5wb3B1cCh7bWF4V2lkdGg6ICcxMDAlJwogICAgICAgICAgICAKICAgICAgICAgICAgfSk7CgogICAgICAgICAgICAKICAgICAgICAgICAgICAgIHZhciBodG1sX2RkNzAwNDQwMzAwNjRmMjk4ZTM5ZTY0ODNmNjc0YmY5ID0gJChgPGRpdiBpZD0iaHRtbF9kZDcwMDQ0MDMwMDY0ZjI5OGUzOWU2NDgzZjY3NGJmOSIgc3R5bGU9IndpZHRoOiAxMDAuMCU7IGhlaWdodDogMTAwLjAlOyI+IlZpYSBDbGVtZW50aW5vIFZhbm5ldHRpIjwvZGl2PmApWzBdOwogICAgICAgICAgICAgICAgcG9wdXBfZTdiNWQzM2Y2MDQ2NGU4ZGEzMGE0NWYyMTAyOTczY2Muc2V0Q29udGVudChodG1sX2RkNzAwNDQwMzAwNjRmMjk4ZTM5ZTY0ODNmNjc0YmY5KTsKICAgICAgICAgICAgCgogICAgICAgICAgICBwb2x5X2xpbmVfZTNmMmFiNzlhZTUzNGU2Yzk5MjhmYTFiYzI4MGU5MDMuYmluZFBvcHVwKHBvcHVwX2U3YjVkMzNmNjA0NjRlOGRhMzBhNDVmMjEwMjk3M2NjKQogICAgICAgICAgICA7CgogICAgICAgICAgICAKICAgICAgICAKICAgIAogICAgICAgICAgICAgICAgdmFyIHBvbHlfbGluZV8wOTY1OTFiZDNkNDQ0NjE4OWFiYmQxZGNkZTVmOTIwYiA9IEwucG9seWxpbmUoCiAgICAgICAgICAgICAgICAgICAgW1s0Ni4wNzIwNjc3LCAxMS4xMjE1NTI1XSwgWzQ2LjA3MjUxMTcsIDExLjEyMTg3MjFdXSwKICAgICAgICAgICAgICAgICAgICB7CiAgImJ1YmJsaW5nTW91c2VFdmVudHMiOiB0cnVlLAogICJjb2xvciI6ICIjY2MwMDAwIiwKICAiZGFzaEFycmF5IjogbnVsbCwKICAiZGFzaE9mZnNldCI6IG51bGwsCiAgImZpbGwiOiBmYWxzZSwKICAiZmlsbENvbG9yIjogIiNjYzAwMDAiLAogICJmaWxsT3BhY2l0eSI6IDAuMiwKICAiZmlsbFJ1bGUiOiAiZXZlbm9kZCIsCiAgImxpbmVDYXAiOiAicm91bmQiLAogICJsaW5lSm9pbiI6ICJyb3VuZCIsCiAgIm5vQ2xpcCI6IGZhbHNlLAogICJvcGFjaXR5IjogMSwKICAic21vb3RoRmFjdG9yIjogMS4wLAogICJzdHJva2UiOiB0cnVlLAogICJ3ZWlnaHQiOiA1Cn0KICAgICAgICAgICAgICAgICAgICApCiAgICAgICAgICAgICAgICAgICAgLmFkZFRvKG1hcF9lNTA1ZTRlM2JlN2Q0M2MzYTdjMzVhYTk3ZjA3Zjg2Yik7CiAgICAgICAgICAgIAogICAgCiAgICAgICAgICAgIHZhciBwb3B1cF9hOWExNzFjYWNlNTI0M2I5ODAzMTRlMmI2NjNiZDQzNSA9IEwucG9wdXAoe21heFdpZHRoOiAnMTAwJScKICAgICAgICAgICAgCiAgICAgICAgICAgIH0pOwoKICAgICAgICAgICAgCiAgICAgICAgICAgICAgICB2YXIgaHRtbF9lZDRhZGE3NjMxMjU0MzQ1YWQxYTUwMzY3YmZiMTFhYyA9ICQoYDxkaXYgaWQ9Imh0bWxfZWQ0YWRhNzYzMTI1NDM0NWFkMWE1MDM2N2JmYjExYWMiIHN0eWxlPSJ3aWR0aDogMTAwLjAlOyBoZWlnaHQ6IDEwMC4wJTsiPiJWaWEgQ2xlbWVudGlubyBWYW5uZXR0aSI8L2Rpdj5gKVswXTsKICAgICAgICAgICAgICAgIHBvcHVwX2E5YTE3MWNhY2U1MjQzYjk4MDMxNGUyYjY2M2JkNDM1LnNldENvbnRlbnQoaHRtbF9lZDRhZGE3NjMxMjU0MzQ1YWQxYTUwMzY3YmZiMTFhYyk7CiAgICAgICAgICAgIAoKICAgICAgICAgICAgcG9seV9saW5lXzA5NjU5MWJkM2Q0NDQ2MTg5YWJiZDFkY2RlNWY5MjBiLmJpbmRQb3B1cChwb3B1cF9hOWExNzFjYWNlNTI0M2I5ODAzMTRlMmI2NjNiZDQzNSkKICAgICAgICAgICAgOwoKICAgICAgICAgICAgCiAgICAgICAgCiAgICAKICAgICAgICAgICAgICAgIHZhciBwb2x5X2xpbmVfZjFjODg3YzQzYmVmNDZkNmI3YWM3NGRkOWEyOTI3NTggPSBMLnBvbHlsaW5lKAogICAgICAgICAgICAgICAgICAgIFtbNDYuMDcyNTExNywgMTEuMTIxODcyMV0sIFs0Ni4wNzI2MzcsIDExLjEyMTk1NDRdXSwKICAgICAgICAgICAgICAgICAgICB7CiAgImJ1YmJsaW5nTW91c2VFdmVudHMiOiB0cnVlLAogICJjb2xvciI6ICIjY2MwMDAwIiwKICAiZGFzaEFycmF5IjogbnVsbCwKICAiZGFzaE9mZnNldCI6IG51bGwsCiAgImZpbGwiOiBmYWxzZSwKICAiZmlsbENvbG9yIjogIiNjYzAwMDAiLAogICJmaWxsT3BhY2l0eSI6IDAuMiwKICAiZmlsbFJ1bGUiOiAiZXZlbm9kZCIsCiAgImxpbmVDYXAiOiAicm91bmQiLAogICJsaW5lSm9pbiI6ICJyb3VuZCIsCiAgIm5vQ2xpcCI6IGZhbHNlLAogICJvcGFjaXR5IjogMSwKICAic21vb3RoRmFjdG9yIjogMS4wLAogICJzdHJva2UiOiB0cnVlLAogICJ3ZWlnaHQiOiA1Cn0KICAgICAgICAgICAgICAgICAgICApCiAgICAgICAgICAgICAgICAgICAgLmFkZFRvKG1hcF9lNTA1ZTRlM2JlN2Q0M2MzYTdjMzVhYTk3ZjA3Zjg2Yik7CiAgICAgICAgICAgIAogICAgCiAgICAgICAgICAgIHZhciBwb3B1cF8xMjUzYTRhZmEwMzM0MDM1OTRkZTNjZWE4NjUzZDVlNiA9IEwucG9wdXAoe21heFdpZHRoOiAnMTAwJScKICAgICAgICAgICAgCiAgICAgICAgICAgIH0pOwoKICAgICAgICAgICAgCiAgICAgICAgICAgICAgICB2YXIgaHRtbF82NDIxZjlmYzhkYzI0ZGVhYmFhZTdhNTQ4M2JiZjk3NiA9ICQoYDxkaXYgaWQ9Imh0bWxfNjQyMWY5ZmM4ZGMyNGRlYWJhYWU3YTU0ODNiYmY5NzYiIHN0eWxlPSJ3aWR0aDogMTAwLjAlOyBoZWlnaHQ6IDEwMC4wJTsiPiJWaWEgQ2xlbWVudGlubyBWYW5uZXR0aSI8L2Rpdj5gKVswXTsKICAgICAgICAgICAgICAgIHBvcHVwXzEyNTNhNGFmYTAzMzQwMzU5NGRlM2NlYTg2NTNkNWU2LnNldENvbnRlbnQoaHRtbF82NDIxZjlmYzhkYzI0ZGVhYmFhZTdhNTQ4M2JiZjk3Nik7CiAgICAgICAgICAgIAoKICAgICAgICAgICAgcG9seV9saW5lX2YxYzg4N2M0M2JlZjQ2ZDZiN2FjNzRkZDlhMjkyNzU4LmJpbmRQb3B1cChwb3B1cF8xMjUzYTRhZmEwMzM0MDM1OTRkZTNjZWE4NjUzZDVlNikKICAgICAgICAgICAgOwoKICAgICAgICAgICAgCiAgICAgICAgCiAgICAKICAgICAgICAgICAgICAgIAoKICAgICAgICAgICAgICAgIG1hcF9lNTA1ZTRlM2JlN2Q0M2MzYTdjMzVhYTk3ZjA3Zjg2Yi5maXRCb3VuZHMoCiAgICAgICAgICAgICAgICAgICAgW1s0Ni4wNzE5ODg2LCAxMS4xMTk1MzI0XSwgWzQ2LjA3MjYzNywgMTEuMTIxOTU0NF1dLAogICAgICAgICAgICAgICAgICAgIHt9CiAgICAgICAgICAgICAgICAgICAgKTsKICAgICAgICAgICAgCjwvc2NyaXB0Pg== onload=\"this.contentDocument.open();this.contentDocument.write(atob(this.getAttribute('data-html')));this.contentDocument.close();\" allowfullscreen webkitallowfullscreen mozallowfullscreen></iframe></div></div>"
            ],
            "text/plain": [
              "<folium.folium.Map at 0x7f48e3a78be0>"
            ]
          },
          "metadata": {
            "tags": []
          },
          "execution_count": 83
        }
      ]
    },
    {
      "cell_type": "code",
      "metadata": {
        "id": "UM0vQV4mCNQv",
        "outputId": "4b730e87-137d-4d13-e901-b13c076a19d1",
        "colab": {
          "base_uri": "https://localhost:8080/",
          "height": 36
        }
      },
      "source": [
        "texts[3]"
      ],
      "execution_count": 84,
      "outputs": [
        {
          "output_type": "execute_result",
          "data": {
            "application/vnd.google.colaboratory.intrinsic+json": {
              "type": "string"
            },
            "text/plain": [
              "\"the bar Bar Buonconsiglio is 271 meters from the train station and it's reachable in 4:31 minutes\""
            ]
          },
          "metadata": {
            "tags": []
          },
          "execution_count": 84
        }
      ]
    },
    {
      "cell_type": "code",
      "metadata": {
        "id": "Y-rzz5lMCJGp",
        "outputId": "15fe69bb-b989-4e45-e838-7c580a350f35",
        "colab": {
          "base_uri": "https://localhost:8080/",
          "height": 904
        }
      },
      "source": [
        "maps[3]"
      ],
      "execution_count": 85,
      "outputs": [
        {
          "output_type": "execute_result",
          "data": {
            "text/html": [
              "<div style=\"width:100%;\"><div style=\"position:relative;width:100%;height:0;padding-bottom:60%;\"><span style=\"color:#565656\">Make this Notebook Trusted to load map: File -> Trust Notebook</span><iframe src=\"about:blank\" style=\"position:absolute;width:100%;height:100%;left:0;top:0;border:none !important;\" data-html=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 onload=\"this.contentDocument.open();this.contentDocument.write(atob(this.getAttribute('data-html')));this.contentDocument.close();\" allowfullscreen webkitallowfullscreen mozallowfullscreen></iframe></div></div>"
            ],
            "text/plain": [
              "<folium.folium.Map at 0x7f48e7a97eb8>"
            ]
          },
          "metadata": {
            "tags": []
          },
          "execution_count": 85
        }
      ]
    },
    {
      "cell_type": "code",
      "metadata": {
        "id": "TRqPt--aCWgc",
        "outputId": "2336b950-cefe-4076-e947-6985c8a11611",
        "colab": {
          "base_uri": "https://localhost:8080/",
          "height": 36
        }
      },
      "source": [
        "texts[4]"
      ],
      "execution_count": 86,
      "outputs": [
        {
          "output_type": "execute_result",
          "data": {
            "application/vnd.google.colaboratory.intrinsic+json": {
              "type": "string"
            },
            "text/plain": [
              "\"the bar Eurocafè is 272 meters from the train station and it's reachable in 4:31 minutes\""
            ]
          },
          "metadata": {
            "tags": []
          },
          "execution_count": 86
        }
      ]
    },
    {
      "cell_type": "code",
      "metadata": {
        "id": "jjw9IJfBCYom",
        "outputId": "2af82b8c-3c25-411a-ad14-f89c06e747d7",
        "colab": {
          "base_uri": "https://localhost:8080/",
          "height": 904
        }
      },
      "source": [
        "maps[4]"
      ],
      "execution_count": 87,
      "outputs": [
        {
          "output_type": "execute_result",
          "data": {
            "text/html": [
              "<div style=\"width:100%;\"><div style=\"position:relative;width:100%;height:0;padding-bottom:60%;\"><span style=\"color:#565656\">Make this Notebook Trusted to load map: File -> Trust Notebook</span><iframe src=\"about:blank\" style=\"position:absolute;width:100%;height:100%;left:0;top:0;border:none !important;\" data-html=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 onload=\"this.contentDocument.open();this.contentDocument.write(atob(this.getAttribute('data-html')));this.contentDocument.close();\" allowfullscreen webkitallowfullscreen mozallowfullscreen></iframe></div></div>"
            ],
            "text/plain": [
              "<folium.folium.Map at 0x7f48e6fa4630>"
            ]
          },
          "metadata": {
            "tags": []
          },
          "execution_count": 87
        }
      ]
    },
    {
      "cell_type": "code",
      "metadata": {
        "id": "0SZf6Cm5CeFC",
        "outputId": "3ba960d1-8833-4609-dfe2-70db243395ee",
        "colab": {
          "base_uri": "https://localhost:8080/",
          "height": 36
        }
      },
      "source": [
        "texts[5]"
      ],
      "execution_count": 88,
      "outputs": [
        {
          "output_type": "execute_result",
          "data": {
            "application/vnd.google.colaboratory.intrinsic+json": {
              "type": "string"
            },
            "text/plain": [
              "\"the bar BarConad is 285 meters from the train station and it's reachable in 4:44 minutes\""
            ]
          },
          "metadata": {
            "tags": []
          },
          "execution_count": 88
        }
      ]
    },
    {
      "cell_type": "code",
      "metadata": {
        "id": "42JiCemOCf-5",
        "outputId": "87e3e20e-8953-4f3e-8df8-6757a0bb386a",
        "colab": {
          "base_uri": "https://localhost:8080/",
          "height": 904
        }
      },
      "source": [
        "maps[5]"
      ],
      "execution_count": 89,
      "outputs": [
        {
          "output_type": "execute_result",
          "data": {
            "text/html": [
              "<div style=\"width:100%;\"><div style=\"position:relative;width:100%;height:0;padding-bottom:60%;\"><span style=\"color:#565656\">Make this Notebook Trusted to load map: File -> Trust Notebook</span><iframe src=\"about:blank\" style=\"position:absolute;width:100%;height:100%;left:0;top:0;border:none !important;\" data-html=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 onload=\"this.contentDocument.open();this.contentDocument.write(atob(this.getAttribute('data-html')));this.contentDocument.close();\" allowfullscreen webkitallowfullscreen mozallowfullscreen></iframe></div></div>"
            ],
            "text/plain": [
              "<folium.folium.Map at 0x7f48e6f9a240>"
            ]
          },
          "metadata": {
            "tags": []
          },
          "execution_count": 89
        }
      ]
    },
    {
      "cell_type": "code",
      "metadata": {
        "id": "EXHAE86JchAY",
        "outputId": "9e004b1d-9f66-46bd-95a8-1e2e52dac0c3",
        "colab": {
          "base_uri": "https://localhost:8080/",
          "height": 36
        }
      },
      "source": [
        "texts[6]"
      ],
      "execution_count": 90,
      "outputs": [
        {
          "output_type": "execute_result",
          "data": {
            "application/vnd.google.colaboratory.intrinsic+json": {
              "type": "string"
            },
            "text/plain": [
              "\"the bar Bar Caffetteria Dogana is 285 meters from the train station and it's reachable in 4:44 minutes\""
            ]
          },
          "metadata": {
            "tags": []
          },
          "execution_count": 90
        }
      ]
    },
    {
      "cell_type": "code",
      "metadata": {
        "id": "Nwzgdwl4ci5J",
        "outputId": "69c8192a-1802-4aa5-97d7-b9042d2f0a2e",
        "colab": {
          "base_uri": "https://localhost:8080/",
          "height": 904
        }
      },
      "source": [
        "maps[6]"
      ],
      "execution_count": 91,
      "outputs": [
        {
          "output_type": "execute_result",
          "data": {
            "text/html": [
              "<div style=\"width:100%;\"><div style=\"position:relative;width:100%;height:0;padding-bottom:60%;\"><span style=\"color:#565656\">Make this Notebook Trusted to load map: File -> Trust Notebook</span><iframe src=\"about:blank\" style=\"position:absolute;width:100%;height:100%;left:0;top:0;border:none !important;\" data-html=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 onload=\"this.contentDocument.open();this.contentDocument.write(atob(this.getAttribute('data-html')));this.contentDocument.close();\" allowfullscreen webkitallowfullscreen mozallowfullscreen></iframe></div></div>"
            ],
            "text/plain": [
              "<folium.folium.Map at 0x7f48e3a55320>"
            ]
          },
          "metadata": {
            "tags": []
          },
          "execution_count": 91
        }
      ]
    },
    {
      "cell_type": "code",
      "metadata": {
        "id": "phYtDUCw_AFH"
      },
      "source": [
        "points = bars_five_minutes_from_train_station[['name','geometry','addr:street','addr:housenumber','addr:city', 'travel_time_from_train_station','path_length_from_train_station']].set_geometry(\"geometry\")"
      ],
      "execution_count": null,
      "outputs": []
    },
    {
      "cell_type": "code",
      "metadata": {
        "id": "pV7w5nw5Jrcs",
        "outputId": "cd40d257-774a-48b5-e563-ab2286661ea4",
        "colab": {
          "base_uri": "https://localhost:8080/",
          "height": 493
        }
      },
      "source": [
        "points"
      ],
      "execution_count": null,
      "outputs": [
        {
          "output_type": "execute_result",
          "data": {
            "text/html": [
              "<div>\n",
              "<style scoped>\n",
              "    .dataframe tbody tr th:only-of-type {\n",
              "        vertical-align: middle;\n",
              "    }\n",
              "\n",
              "    .dataframe tbody tr th {\n",
              "        vertical-align: top;\n",
              "    }\n",
              "\n",
              "    .dataframe thead th {\n",
              "        text-align: right;\n",
              "    }\n",
              "</style>\n",
              "<table border=\"1\" class=\"dataframe\">\n",
              "  <thead>\n",
              "    <tr style=\"text-align: right;\">\n",
              "      <th></th>\n",
              "      <th>name</th>\n",
              "      <th>geometry</th>\n",
              "      <th>addr:street</th>\n",
              "      <th>addr:housenumber</th>\n",
              "      <th>addr:city</th>\n",
              "      <th>travel_time_from_train_station</th>\n",
              "      <th>path_length_from_train_station</th>\n",
              "    </tr>\n",
              "  </thead>\n",
              "  <tbody>\n",
              "    <tr>\n",
              "      <th>96</th>\n",
              "      <td>Bar Stazione Buffet Trento</td>\n",
              "      <td>POINT (11.11946 46.07250)</td>\n",
              "      <td>Piazza Dante</td>\n",
              "      <td>1</td>\n",
              "      <td>Trento</td>\n",
              "      <td>4.2</td>\n",
              "      <td>4.2</td>\n",
              "    </tr>\n",
              "    <tr>\n",
              "      <th>253</th>\n",
              "      <td>Flora</td>\n",
              "      <td>POLYGON ((11.12028 46.07245, 11.12027 46.07241...</td>\n",
              "      <td>Piazza Dante</td>\n",
              "      <td>13</td>\n",
              "      <td>Trento</td>\n",
              "      <td>9.9</td>\n",
              "      <td>9.9</td>\n",
              "    </tr>\n",
              "    <tr>\n",
              "      <th>23</th>\n",
              "      <td>Gigi's Caffè</td>\n",
              "      <td>POINT (11.11970 46.06987)</td>\n",
              "      <td>Via Andrea Pozzo</td>\n",
              "      <td>24</td>\n",
              "      <td>Trento</td>\n",
              "      <td>21.5</td>\n",
              "      <td>21.5</td>\n",
              "    </tr>\n",
              "    <tr>\n",
              "      <th>254</th>\n",
              "      <td>Bar Caffetteria Dogana</td>\n",
              "      <td>POLYGON ((11.12085 46.07342, 11.12075 46.07338...</td>\n",
              "      <td>NaN</td>\n",
              "      <td>NaN</td>\n",
              "      <td>NaN</td>\n",
              "      <td>21.9</td>\n",
              "      <td>21.9</td>\n",
              "    </tr>\n",
              "    <tr>\n",
              "      <th>168</th>\n",
              "      <td>Giornale &amp; Caffè</td>\n",
              "      <td>POINT (11.12208 46.07266)</td>\n",
              "      <td>Via Clementino Vannetti</td>\n",
              "      <td>29/1</td>\n",
              "      <td>Trento</td>\n",
              "      <td>25.5</td>\n",
              "      <td>25.5</td>\n",
              "    </tr>\n",
              "    <tr>\n",
              "      <th>...</th>\n",
              "      <td>...</td>\n",
              "      <td>...</td>\n",
              "      <td>...</td>\n",
              "      <td>...</td>\n",
              "      <td>...</td>\n",
              "      <td>...</td>\n",
              "      <td>...</td>\n",
              "    </tr>\n",
              "    <tr>\n",
              "      <th>43</th>\n",
              "      <td>Bar Agip</td>\n",
              "      <td>POINT (11.11285 46.04254)</td>\n",
              "      <td>NaN</td>\n",
              "      <td>NaN</td>\n",
              "      <td>NaN</td>\n",
              "      <td>294.4</td>\n",
              "      <td>294.4</td>\n",
              "    </tr>\n",
              "    <tr>\n",
              "      <th>187</th>\n",
              "      <td>Bar Sorriso</td>\n",
              "      <td>POINT (11.10845 46.10373)</td>\n",
              "      <td>NaN</td>\n",
              "      <td>NaN</td>\n",
              "      <td>NaN</td>\n",
              "      <td>295.3</td>\n",
              "      <td>295.3</td>\n",
              "    </tr>\n",
              "    <tr>\n",
              "      <th>190</th>\n",
              "      <td>NaN</td>\n",
              "      <td>POINT (11.10822 46.10601)</td>\n",
              "      <td>NaN</td>\n",
              "      <td>NaN</td>\n",
              "      <td>NaN</td>\n",
              "      <td>295.4</td>\n",
              "      <td>295.4</td>\n",
              "    </tr>\n",
              "    <tr>\n",
              "      <th>196</th>\n",
              "      <td>Bar Povo 1</td>\n",
              "      <td>POINT (11.15021 46.06659)</td>\n",
              "      <td>NaN</td>\n",
              "      <td>NaN</td>\n",
              "      <td>NaN</td>\n",
              "      <td>297.2</td>\n",
              "      <td>297.2</td>\n",
              "    </tr>\n",
              "    <tr>\n",
              "      <th>247</th>\n",
              "      <td>Bar Milena</td>\n",
              "      <td>POINT (11.11124 46.10669)</td>\n",
              "      <td>NaN</td>\n",
              "      <td>NaN</td>\n",
              "      <td>NaN</td>\n",
              "      <td>299.1</td>\n",
              "      <td>299.1</td>\n",
              "    </tr>\n",
              "  </tbody>\n",
              "</table>\n",
              "<p>207 rows × 7 columns</p>\n",
              "</div>"
            ],
            "text/plain": [
              "                           name  ... path_length_from_train_station\n",
              "96   Bar Stazione Buffet Trento  ...                            4.2\n",
              "253                       Flora  ...                            9.9\n",
              "23                 Gigi's Caffè  ...                           21.5\n",
              "254      Bar Caffetteria Dogana  ...                           21.9\n",
              "168            Giornale & Caffè  ...                           25.5\n",
              "..                          ...  ...                            ...\n",
              "43                     Bar Agip  ...                          294.4\n",
              "187                 Bar Sorriso  ...                          295.3\n",
              "190                         NaN  ...                          295.4\n",
              "196                  Bar Povo 1  ...                          297.2\n",
              "247                  Bar Milena  ...                          299.1\n",
              "\n",
              "[207 rows x 7 columns]"
            ]
          },
          "metadata": {
            "tags": []
          },
          "execution_count": 129
        }
      ]
    },
    {
      "cell_type": "code",
      "metadata": {
        "id": "uT5Ron4oJ12V"
      },
      "source": [
        "points['geometry'] = points.geometry.representative_point()"
      ],
      "execution_count": null,
      "outputs": []
    },
    {
      "cell_type": "code",
      "metadata": {
        "id": "m1swBpxaK_01",
        "outputId": "21408dac-1e3a-42d0-ae69-5709128dbade",
        "colab": {
          "base_uri": "https://localhost:8080/",
          "height": 424
        }
      },
      "source": [
        "points"
      ],
      "execution_count": null,
      "outputs": [
        {
          "output_type": "execute_result",
          "data": {
            "text/html": [
              "<div>\n",
              "<style scoped>\n",
              "    .dataframe tbody tr th:only-of-type {\n",
              "        vertical-align: middle;\n",
              "    }\n",
              "\n",
              "    .dataframe tbody tr th {\n",
              "        vertical-align: top;\n",
              "    }\n",
              "\n",
              "    .dataframe thead th {\n",
              "        text-align: right;\n",
              "    }\n",
              "</style>\n",
              "<table border=\"1\" class=\"dataframe\">\n",
              "  <thead>\n",
              "    <tr style=\"text-align: right;\">\n",
              "      <th></th>\n",
              "      <th>name</th>\n",
              "      <th>geometry</th>\n",
              "      <th>addr:street</th>\n",
              "      <th>addr:housenumber</th>\n",
              "      <th>addr:city</th>\n",
              "      <th>travel_time_from_train_station</th>\n",
              "      <th>path_length_from_train_station</th>\n",
              "    </tr>\n",
              "  </thead>\n",
              "  <tbody>\n",
              "    <tr>\n",
              "      <th>96</th>\n",
              "      <td>Bar Stazione Buffet Trento</td>\n",
              "      <td>POINT (11.11946 46.07250)</td>\n",
              "      <td>Piazza Dante</td>\n",
              "      <td>1</td>\n",
              "      <td>Trento</td>\n",
              "      <td>4.2</td>\n",
              "      <td>4.2</td>\n",
              "    </tr>\n",
              "    <tr>\n",
              "      <th>253</th>\n",
              "      <td>Flora</td>\n",
              "      <td>POINT (11.12030 46.07243)</td>\n",
              "      <td>Piazza Dante</td>\n",
              "      <td>13</td>\n",
              "      <td>Trento</td>\n",
              "      <td>9.9</td>\n",
              "      <td>9.9</td>\n",
              "    </tr>\n",
              "    <tr>\n",
              "      <th>23</th>\n",
              "      <td>Gigi's Caffè</td>\n",
              "      <td>POINT (11.11970 46.06987)</td>\n",
              "      <td>Via Andrea Pozzo</td>\n",
              "      <td>24</td>\n",
              "      <td>Trento</td>\n",
              "      <td>21.5</td>\n",
              "      <td>21.5</td>\n",
              "    </tr>\n",
              "    <tr>\n",
              "      <th>254</th>\n",
              "      <td>Bar Caffetteria Dogana</td>\n",
              "      <td>POINT (11.12094 46.07333)</td>\n",
              "      <td>NaN</td>\n",
              "      <td>NaN</td>\n",
              "      <td>NaN</td>\n",
              "      <td>21.9</td>\n",
              "      <td>21.9</td>\n",
              "    </tr>\n",
              "    <tr>\n",
              "      <th>168</th>\n",
              "      <td>Giornale &amp; Caffè</td>\n",
              "      <td>POINT (11.12208 46.07266)</td>\n",
              "      <td>Via Clementino Vannetti</td>\n",
              "      <td>29/1</td>\n",
              "      <td>Trento</td>\n",
              "      <td>25.5</td>\n",
              "      <td>25.5</td>\n",
              "    </tr>\n",
              "    <tr>\n",
              "      <th>...</th>\n",
              "      <td>...</td>\n",
              "      <td>...</td>\n",
              "      <td>...</td>\n",
              "      <td>...</td>\n",
              "      <td>...</td>\n",
              "      <td>...</td>\n",
              "      <td>...</td>\n",
              "    </tr>\n",
              "    <tr>\n",
              "      <th>43</th>\n",
              "      <td>Bar Agip</td>\n",
              "      <td>POINT (11.11285 46.04254)</td>\n",
              "      <td>NaN</td>\n",
              "      <td>NaN</td>\n",
              "      <td>NaN</td>\n",
              "      <td>294.4</td>\n",
              "      <td>294.4</td>\n",
              "    </tr>\n",
              "    <tr>\n",
              "      <th>187</th>\n",
              "      <td>Bar Sorriso</td>\n",
              "      <td>POINT (11.10845 46.10373)</td>\n",
              "      <td>NaN</td>\n",
              "      <td>NaN</td>\n",
              "      <td>NaN</td>\n",
              "      <td>295.3</td>\n",
              "      <td>295.3</td>\n",
              "    </tr>\n",
              "    <tr>\n",
              "      <th>190</th>\n",
              "      <td>NaN</td>\n",
              "      <td>POINT (11.10822 46.10601)</td>\n",
              "      <td>NaN</td>\n",
              "      <td>NaN</td>\n",
              "      <td>NaN</td>\n",
              "      <td>295.4</td>\n",
              "      <td>295.4</td>\n",
              "    </tr>\n",
              "    <tr>\n",
              "      <th>196</th>\n",
              "      <td>Bar Povo 1</td>\n",
              "      <td>POINT (11.15021 46.06659)</td>\n",
              "      <td>NaN</td>\n",
              "      <td>NaN</td>\n",
              "      <td>NaN</td>\n",
              "      <td>297.2</td>\n",
              "      <td>297.2</td>\n",
              "    </tr>\n",
              "    <tr>\n",
              "      <th>247</th>\n",
              "      <td>Bar Milena</td>\n",
              "      <td>POINT (11.11124 46.10669)</td>\n",
              "      <td>NaN</td>\n",
              "      <td>NaN</td>\n",
              "      <td>NaN</td>\n",
              "      <td>299.1</td>\n",
              "      <td>299.1</td>\n",
              "    </tr>\n",
              "  </tbody>\n",
              "</table>\n",
              "<p>207 rows × 7 columns</p>\n",
              "</div>"
            ],
            "text/plain": [
              "                           name  ... path_length_from_train_station\n",
              "96   Bar Stazione Buffet Trento  ...                            4.2\n",
              "253                       Flora  ...                            9.9\n",
              "23                 Gigi's Caffè  ...                           21.5\n",
              "254      Bar Caffetteria Dogana  ...                           21.9\n",
              "168            Giornale & Caffè  ...                           25.5\n",
              "..                          ...  ...                            ...\n",
              "43                     Bar Agip  ...                          294.4\n",
              "187                 Bar Sorriso  ...                          295.3\n",
              "190                         NaN  ...                          295.4\n",
              "196                  Bar Povo 1  ...                          297.2\n",
              "247                  Bar Milena  ...                          299.1\n",
              "\n",
              "[207 rows x 7 columns]"
            ]
          },
          "metadata": {
            "tags": []
          },
          "execution_count": 131
        }
      ]
    },
    {
      "cell_type": "code",
      "metadata": {
        "id": "P3dnv_8rLfES"
      },
      "source": [
        "import folium"
      ],
      "execution_count": null,
      "outputs": []
    },
    {
      "cell_type": "code",
      "metadata": {
        "id": "29jIcx7iLiv7"
      },
      "source": [
        "y = points.geometry.unary_union.centroid.y\n",
        "x = points.geometry.unary_union.centroid.x\n",
        "geojson = points.to_json()"
      ],
      "execution_count": null,
      "outputs": []
    },
    {
      "cell_type": "code",
      "metadata": {
        "id": "ZPGB17pZLgl5",
        "outputId": "6a5349c5-703e-4f0b-85f5-66a0c9f527cd",
        "colab": {
          "base_uri": "https://localhost:8080/",
          "height": 904
        }
      },
      "source": [
        "map = folium.Map([y,x], zoom_start=16)\n",
        "folium.GeoJson(geojson).add_to(map)\n",
        "map\n"
      ],
      "execution_count": null,
      "outputs": [
        {
          "output_type": "execute_result",
          "data": {
            "text/html": [
              "<div style=\"width:100%;\"><div style=\"position:relative;width:100%;height:0;padding-bottom:60%;\"><span style=\"color:#565656\">Make this Notebook Trusted to load map: File -> Trust Notebook</span><iframe src=\"about:blank\" style=\"position:absolute;width:100%;height:100%;left:0;top:0;border:none !important;\" data-html=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 onload=\"this.contentDocument.open();this.contentDocument.write(atob(this.getAttribute('data-html')));this.contentDocument.close();\" allowfullscreen webkitallowfullscreen mozallowfullscreen></iframe></div></div>"
            ],
            "text/plain": [
              "<folium.folium.Map at 0x7f761c203860>"
            ]
          },
          "metadata": {
            "tags": []
          },
          "execution_count": 134
        }
      ]
    }
  ]
}