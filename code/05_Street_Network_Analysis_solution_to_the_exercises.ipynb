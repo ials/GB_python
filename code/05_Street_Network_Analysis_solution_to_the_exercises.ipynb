{
  "nbformat": 4,
  "nbformat_minor": 0,
  "metadata": {
    "colab": {
      "name": "05 - Street Network Analysis - solution to the exercises.ipynb",
      "provenance": [],
      "collapsed_sections": []
    },
    "kernelspec": {
      "name": "python3",
      "display_name": "Python 3"
    }
  },
  "cells": [
    {
      "cell_type": "markdown",
      "metadata": {
        "id": "jE73p1ppMyD_"
      },
      "source": [
        "# Setup"
      ]
    },
    {
      "cell_type": "code",
      "metadata": {
        "id": "ZBVc1nksM9q4",
        "outputId": "240e6a62-b375-447a-fe9e-d715837aa311",
        "colab": {
          "base_uri": "https://localhost:8080/"
        }
      },
      "source": [
        "try:\n",
        "  import rtree\n",
        "except ModuleNotFoundError as e:\n",
        "  !apt-get install libspatialindex-dev\n",
        "  !pip install rtree\n",
        "  import rtree"
      ],
      "execution_count": 1,
      "outputs": [
        {
          "output_type": "stream",
          "text": [
            "Reading package lists... Done\n",
            "Building dependency tree       \n",
            "Reading state information... Done\n",
            "The following additional packages will be installed:\n",
            "  libspatialindex-c4v5 libspatialindex4v5\n",
            "The following NEW packages will be installed:\n",
            "  libspatialindex-c4v5 libspatialindex-dev libspatialindex4v5\n",
            "0 upgraded, 3 newly installed, 0 to remove and 11 not upgraded.\n",
            "Need to get 555 kB of archives.\n",
            "After this operation, 3,308 kB of additional disk space will be used.\n",
            "Get:1 http://archive.ubuntu.com/ubuntu bionic/universe amd64 libspatialindex4v5 amd64 1.8.5-5 [219 kB]\n",
            "Get:2 http://archive.ubuntu.com/ubuntu bionic/universe amd64 libspatialindex-c4v5 amd64 1.8.5-5 [51.7 kB]\n",
            "Get:3 http://archive.ubuntu.com/ubuntu bionic/universe amd64 libspatialindex-dev amd64 1.8.5-5 [285 kB]\n",
            "Fetched 555 kB in 0s (3,036 kB/s)\n",
            "Selecting previously unselected package libspatialindex4v5:amd64.\n",
            "(Reading database ... 144628 files and directories currently installed.)\n",
            "Preparing to unpack .../libspatialindex4v5_1.8.5-5_amd64.deb ...\n",
            "Unpacking libspatialindex4v5:amd64 (1.8.5-5) ...\n",
            "Selecting previously unselected package libspatialindex-c4v5:amd64.\n",
            "Preparing to unpack .../libspatialindex-c4v5_1.8.5-5_amd64.deb ...\n",
            "Unpacking libspatialindex-c4v5:amd64 (1.8.5-5) ...\n",
            "Selecting previously unselected package libspatialindex-dev:amd64.\n",
            "Preparing to unpack .../libspatialindex-dev_1.8.5-5_amd64.deb ...\n",
            "Unpacking libspatialindex-dev:amd64 (1.8.5-5) ...\n",
            "Setting up libspatialindex4v5:amd64 (1.8.5-5) ...\n",
            "Setting up libspatialindex-c4v5:amd64 (1.8.5-5) ...\n",
            "Setting up libspatialindex-dev:amd64 (1.8.5-5) ...\n",
            "Processing triggers for libc-bin (2.27-3ubuntu1.2) ...\n",
            "/sbin/ldconfig.real: /usr/local/lib/python3.6/dist-packages/ideep4py/lib/libmkldnn.so.0 is not a symbolic link\n",
            "\n",
            "Collecting rtree\n",
            "\u001b[?25l  Downloading https://files.pythonhosted.org/packages/56/6f/f1e91001d5ad9fa9bed65875152f5a1c7955c5763168cae309546e6e9fda/Rtree-0.9.4.tar.gz (62kB)\n",
            "\u001b[K     |████████████████████████████████| 71kB 3.9MB/s \n",
            "\u001b[?25hRequirement already satisfied: setuptools in /usr/local/lib/python3.6/dist-packages (from rtree) (50.3.2)\n",
            "Building wheels for collected packages: rtree\n",
            "  Building wheel for rtree (setup.py) ... \u001b[?25l\u001b[?25hdone\n",
            "  Created wheel for rtree: filename=Rtree-0.9.4-cp36-none-any.whl size=21768 sha256=4d2dfbf77344b7580fb915f43fb762f542ae6921ed47260b0b4ef0f2c3bbea80\n",
            "  Stored in directory: /root/.cache/pip/wheels/ff/20/c5/0004ef7acb96745ec99be960053902b0b414a2aa2dcad5834e\n",
            "Successfully built rtree\n",
            "Installing collected packages: rtree\n",
            "Successfully installed rtree-0.9.4\n"
          ],
          "name": "stdout"
        }
      ]
    },
    {
      "cell_type": "code",
      "metadata": {
        "id": "SDdDNmtuMt0w",
        "outputId": "ac25a1de-3568-457b-a877-f6b24f1fca29",
        "colab": {
          "base_uri": "https://localhost:8080/"
        }
      },
      "source": [
        "!pip install osmnx"
      ],
      "execution_count": 1,
      "outputs": [
        {
          "output_type": "stream",
          "text": [
            "Requirement already satisfied: osmnx in /usr/local/lib/python3.6/dist-packages (0.16.1)\n",
            "Requirement already satisfied: matplotlib>=3.3 in /usr/local/lib/python3.6/dist-packages (from osmnx) (3.3.2)\n",
            "Requirement already satisfied: pyproj>=2.6 in /usr/local/lib/python3.6/dist-packages (from osmnx) (2.6.1.post1)\n",
            "Requirement already satisfied: pandas>=1.1 in /usr/local/lib/python3.6/dist-packages (from osmnx) (1.1.3)\n",
            "Requirement already satisfied: Shapely>=1.7 in /usr/local/lib/python3.6/dist-packages (from osmnx) (1.7.1)\n",
            "Requirement already satisfied: numpy>=1.19 in /usr/local/lib/python3.6/dist-packages (from osmnx) (1.19.3)\n",
            "Requirement already satisfied: Rtree>=0.9 in /usr/local/lib/python3.6/dist-packages (from osmnx) (0.9.4)\n",
            "Requirement already satisfied: descartes>=1.1 in /usr/local/lib/python3.6/dist-packages (from osmnx) (1.1.0)\n",
            "Requirement already satisfied: networkx>=2.5 in /usr/local/lib/python3.6/dist-packages (from osmnx) (2.5)\n",
            "Requirement already satisfied: geopandas>=0.8 in /usr/local/lib/python3.6/dist-packages (from osmnx) (0.8.1)\n",
            "Requirement already satisfied: requests>=2.24 in /usr/local/lib/python3.6/dist-packages (from osmnx) (2.24.0)\n",
            "Requirement already satisfied: cycler>=0.10 in /usr/local/lib/python3.6/dist-packages (from matplotlib>=3.3->osmnx) (0.10.0)\n",
            "Requirement already satisfied: kiwisolver>=1.0.1 in /usr/local/lib/python3.6/dist-packages (from matplotlib>=3.3->osmnx) (1.2.0)\n",
            "Requirement already satisfied: pyparsing!=2.0.4,!=2.1.2,!=2.1.6,>=2.0.3 in /usr/local/lib/python3.6/dist-packages (from matplotlib>=3.3->osmnx) (2.4.7)\n",
            "Requirement already satisfied: python-dateutil>=2.1 in /usr/local/lib/python3.6/dist-packages (from matplotlib>=3.3->osmnx) (2.8.1)\n",
            "Requirement already satisfied: certifi>=2020.06.20 in /usr/local/lib/python3.6/dist-packages (from matplotlib>=3.3->osmnx) (2020.6.20)\n",
            "Requirement already satisfied: pillow>=6.2.0 in /usr/local/lib/python3.6/dist-packages (from matplotlib>=3.3->osmnx) (7.0.0)\n",
            "Requirement already satisfied: pytz>=2017.2 in /usr/local/lib/python3.6/dist-packages (from pandas>=1.1->osmnx) (2018.9)\n",
            "Requirement already satisfied: setuptools in /usr/local/lib/python3.6/dist-packages (from Rtree>=0.9->osmnx) (50.3.2)\n",
            "Requirement already satisfied: decorator>=4.3.0 in /usr/local/lib/python3.6/dist-packages (from networkx>=2.5->osmnx) (4.4.2)\n",
            "Requirement already satisfied: fiona in /usr/local/lib/python3.6/dist-packages (from geopandas>=0.8->osmnx) (1.8.17)\n",
            "Requirement already satisfied: chardet<4,>=3.0.2 in /usr/local/lib/python3.6/dist-packages (from requests>=2.24->osmnx) (3.0.4)\n",
            "Requirement already satisfied: urllib3!=1.25.0,!=1.25.1,<1.26,>=1.21.1 in /usr/local/lib/python3.6/dist-packages (from requests>=2.24->osmnx) (1.24.3)\n",
            "Requirement already satisfied: idna<3,>=2.5 in /usr/local/lib/python3.6/dist-packages (from requests>=2.24->osmnx) (2.10)\n",
            "Requirement already satisfied: six in /usr/local/lib/python3.6/dist-packages (from cycler>=0.10->matplotlib>=3.3->osmnx) (1.15.0)\n",
            "Requirement already satisfied: munch in /usr/local/lib/python3.6/dist-packages (from fiona->geopandas>=0.8->osmnx) (2.5.0)\n",
            "Requirement already satisfied: cligj>=0.5 in /usr/local/lib/python3.6/dist-packages (from fiona->geopandas>=0.8->osmnx) (0.7.0)\n",
            "Requirement already satisfied: click<8,>=4.0 in /usr/local/lib/python3.6/dist-packages (from fiona->geopandas>=0.8->osmnx) (7.1.2)\n",
            "Requirement already satisfied: click-plugins>=1.0 in /usr/local/lib/python3.6/dist-packages (from fiona->geopandas>=0.8->osmnx) (1.1.1)\n",
            "Requirement already satisfied: attrs>=17 in /usr/local/lib/python3.6/dist-packages (from fiona->geopandas>=0.8->osmnx) (20.2.0)\n"
          ],
          "name": "stdout"
        }
      ]
    },
    {
      "cell_type": "markdown",
      "metadata": {
        "id": "rFMSrTsAM3cg"
      },
      "source": [
        "## Exercises\n",
        "- identify the shortest path by walk to reach the Castle of Trento from the main train station\n",
        "- identify how many bars you can reach by walking in 5 minutes from the main train station of Trento"
      ]
    },
    {
      "cell_type": "markdown",
      "metadata": {
        "id": "lzVZm5iYNOjU"
      },
      "source": [
        "# identify the shortest path by walk to reach the Castle of Trento from the main train station\n",
        "- where is the castle in Trento\n",
        "- where is the main train station"
      ]
    },
    {
      "cell_type": "markdown",
      "metadata": {
        "id": "wyHQc1BnNYc1"
      },
      "source": [
        "## where is the castle in Trento\n",
        "THe name of the castle of Trento is *Castello del Buonconsiglio*\n",
        "\n",
        "https://en.wikipedia.org/wiki/Buonconsiglio_Castle\n",
        "\n"
      ]
    },
    {
      "cell_type": "code",
      "metadata": {
        "id": "EPqiGXtUN1V5"
      },
      "source": [
        "from geopy.geocoders import Nominatim"
      ],
      "execution_count": 2,
      "outputs": []
    },
    {
      "cell_type": "code",
      "metadata": {
        "id": "s4_aLhUoN700"
      },
      "source": [
        "geolocator = Nominatim(user_agent=\"geospatial course\")\n",
        "location = geolocator.geocode(\"Castello del Buonconsiglio\")"
      ],
      "execution_count": 3,
      "outputs": []
    },
    {
      "cell_type": "code",
      "metadata": {
        "id": "Ub8Kk7iROIRJ"
      },
      "source": [
        "point_castle =  (location.latitude, location.longitude)"
      ],
      "execution_count": 4,
      "outputs": []
    },
    {
      "cell_type": "markdown",
      "metadata": {
        "id": "kG4TwJrnQZfz"
      },
      "source": [
        "## where is the main train station in Trento?\n",
        "\n",
        "https://en.wikipedia.org/wiki/Trento_railway_station"
      ]
    },
    {
      "cell_type": "code",
      "metadata": {
        "id": "a7g5-FaMOhH-"
      },
      "source": [
        "location = geolocator.geocode(\"Trento stazione fs\")"
      ],
      "execution_count": 5,
      "outputs": []
    },
    {
      "cell_type": "code",
      "metadata": {
        "id": "qp-12M9nQvcF"
      },
      "source": [
        "point_train_station =  (location.latitude, location.longitude)"
      ],
      "execution_count": 6,
      "outputs": []
    },
    {
      "cell_type": "markdown",
      "metadata": {
        "id": "vNKg70llREoT"
      },
      "source": [
        "## create the streets walking graph"
      ]
    },
    {
      "cell_type": "code",
      "metadata": {
        "id": "Sk5UaFk-RYA3"
      },
      "source": [
        "import osmnx as ox"
      ],
      "execution_count": 7,
      "outputs": []
    },
    {
      "cell_type": "code",
      "metadata": {
        "id": "ejKSWX-JRMnT"
      },
      "source": [
        "G = ox.graph_from_place(\"Trento, Italy\", network_type='walk')"
      ],
      "execution_count": 8,
      "outputs": []
    },
    {
      "cell_type": "code",
      "metadata": {
        "id": "w6l8OjHKRdbk",
        "outputId": "4be8b535-4b02-4041-90de-ddcb8d53ce15",
        "colab": {
          "base_uri": "https://localhost:8080/",
          "height": 466
        }
      },
      "source": [
        "fig, ax = ox.plot_graph(G)"
      ],
      "execution_count": 9,
      "outputs": [
        {
          "output_type": "display_data",
          "data": {
            "image/png": "[encoded data removed]",
            "text/plain": [
              "<Figure size 576x576 with 1 Axes>"
            ]
          },
          "metadata": {
            "tags": []
          }
        }
      ]
    },
    {
      "cell_type": "markdown",
      "metadata": {
        "id": "4gseT4udRjP8"
      },
      "source": [
        "## identify the shortest path\n",
        "\n",
        "the points must connetected to the graph"
      ]
    },
    {
      "cell_type": "code",
      "metadata": {
        "id": "zr3ULBvMRk5W"
      },
      "source": [
        "point_nearest_train_station= ox.get_nearest_node(G, point_train_station)\n",
        "point_nearest_castle = ox.get_nearest_node(G, point_castle)"
      ],
      "execution_count": 10,
      "outputs": []
    },
    {
      "cell_type": "markdown",
      "metadata": {
        "id": "Nk9J9uksSMMX"
      },
      "source": [
        "### calculate the shortest path ;)\n",
        "\n",
        "we use [K shortest path routing](https://en.wikipedia.org/wiki/K_shortest_path_routing) [implemented in OSMnx](k_shortest_paths)\n",
        "\n",
        "*k=1* we assume to use the first "
      ]
    },
    {
      "cell_type": "code",
      "metadata": {
        "id": "rP7Z0ZzRSK54"
      },
      "source": [
        "route = ox.k_shortest_paths(G, point_nearest_train_station, point_nearest_castle, k=1, weight='length')"
      ],
      "execution_count": 11,
      "outputs": []
    },
    {
      "cell_type": "code",
      "metadata": {
        "id": "DXJpFR4ixzYj"
      },
      "source": [
        "route = list(route)[0]"
      ],
      "execution_count": 12,
      "outputs": []
    },
    {
      "cell_type": "markdown",
      "metadata": {
        "id": "iE4MCV5GSgCw"
      },
      "source": [
        "### show it on the map \n",
        "\n"
      ]
    },
    {
      "cell_type": "code",
      "metadata": {
        "id": "xKzgzfnASWpl",
        "outputId": "c50903b2-9aa7-4981-85e1-35760e02b562",
        "colab": {
          "base_uri": "https://localhost:8080/",
          "height": 746
        }
      },
      "source": [
        "ox.plot_route_folium(G,route,popup_attribute='name',tiles='OpenStreetMap')"
      ],
      "execution_count": 13,
      "outputs": [
        {
          "output_type": "execute_result",
          "data": {
            "text/html": [
              "<div style=\"width:100%;\"><div style=\"position:relative;width:100%;height:0;padding-bottom:60%;\"><span style=\"color:#565656\">Make this Notebook Trusted to load map: File -> Trust Notebook</span><iframe src=\"about:blank\" style=\"position:absolute;width:100%;height:100%;left:0;top:0;border:none !important;\" data-html=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 onload=\"this.contentDocument.open();this.contentDocument.write(atob(this.getAttribute('data-html')));this.contentDocument.close();\" allowfullscreen webkitallowfullscreen mozallowfullscreen></iframe></div></div>"
            ],
            "text/plain": [
              "<folium.folium.Map at 0x7fe585bf75c0>"
            ]
          },
          "metadata": {
            "tags": []
          },
          "execution_count": 13
        }
      ]
    },
    {
      "cell_type": "markdown",
      "metadata": {
        "id": "EufxeLPdRlzB"
      },
      "source": [
        "*route* contains a list of nodes id of the Graph (*G*)"
      ]
    },
    {
      "cell_type": "code",
      "metadata": {
        "id": "irGwK7Y-4TLO",
        "outputId": "d5aa1ab1-8558-4deb-ab9b-69ae09895655",
        "colab": {
          "base_uri": "https://localhost:8080/"
        }
      },
      "source": [
        "route"
      ],
      "execution_count": 14,
      "outputs": [
        {
          "output_type": "execute_result",
          "data": {
            "text/plain": [
              "[2591984564,\n",
              " 885670129,\n",
              " 1271504902,\n",
              " 877620756,\n",
              " 256547316,\n",
              " 247792032,\n",
              " 1156723779,\n",
              " 939851139,\n",
              " 2390597889,\n",
              " 247792029,\n",
              " 1298727142,\n",
              " 959911004,\n",
              " 889555297,\n",
              " 892578959,\n",
              " 445811740,\n",
              " 889555354,\n",
              " 889555637,\n",
              " 1492679675,\n",
              " 1492679687,\n",
              " 1492679714,\n",
              " 1492679733,\n",
              " 888452709,\n",
              " 1492679729,\n",
              " 2477480071,\n",
              " 1271504889,\n",
              " 1755063751,\n",
              " 1252285137,\n",
              " 955281037,\n",
              " 1252285107,\n",
              " 1252285133,\n",
              " 2889611593,\n",
              " 6036162196,\n",
              " 6036162193,\n",
              " 858341167,\n",
              " 858341204]"
            ]
          },
          "metadata": {
            "tags": []
          },
          "execution_count": 14
        }
      ]
    },
    {
      "cell_type": "markdown",
      "metadata": {
        "id": "p7H3-JpGRvHe"
      },
      "source": [
        "for example *2591984564*"
      ]
    },
    {
      "cell_type": "code",
      "metadata": {
        "id": "WDchwFUV02Dp",
        "outputId": "c872b5f2-eda3-4994-9d6e-505b6bbe8116",
        "colab": {
          "base_uri": "https://localhost:8080/"
        }
      },
      "source": [
        "G.nodes[2591984564]"
      ],
      "execution_count": 15,
      "outputs": [
        {
          "output_type": "execute_result",
          "data": {
            "text/plain": [
              "{'osmid': 2591984564, 'x': 11.1195324, 'y': 46.0720446}"
            ]
          },
          "metadata": {
            "tags": []
          },
          "execution_count": 15
        }
      ]
    },
    {
      "cell_type": "code",
      "metadata": {
        "id": "fKgC2kBf4cL9",
        "outputId": "bb5a7336-36b8-469f-d872-d611d026c3f8",
        "colab": {
          "base_uri": "https://localhost:8080/"
        }
      },
      "source": [
        "G.nodes[2591984564]['x']"
      ],
      "execution_count": 16,
      "outputs": [
        {
          "output_type": "execute_result",
          "data": {
            "text/plain": [
              "11.1195324"
            ]
          },
          "metadata": {
            "tags": []
          },
          "execution_count": 16
        }
      ]
    },
    {
      "cell_type": "markdown",
      "metadata": {
        "id": "aQ9pnPpPR3Cn"
      },
      "source": [
        "how obtain a LineString of from these ids"
      ]
    },
    {
      "cell_type": "code",
      "metadata": {
        "id": "cbFs8cWi1LdB"
      },
      "source": [
        "from shapely.geometry import Point,LineString"
      ],
      "execution_count": 17,
      "outputs": []
    },
    {
      "cell_type": "code",
      "metadata": {
        "id": "Be4BQG6g4M75"
      },
      "source": [
        "points = []\n",
        "for idnode in route:\n",
        "  lon = G.nodes[idnode]['x']\n",
        "  lat = G.nodes[idnode]['y']\n",
        "  point = Point(lon,lat)\n",
        "  points.append(point)"
      ],
      "execution_count": 18,
      "outputs": []
    },
    {
      "cell_type": "code",
      "metadata": {
        "id": "At1Emunj45dP"
      },
      "source": [
        "path = LineString(points)"
      ],
      "execution_count": 19,
      "outputs": []
    },
    {
      "cell_type": "code",
      "metadata": {
        "id": "REJNyP3y4-rB",
        "outputId": "8324abb7-765e-4e2d-9bf8-f4a1d9925379",
        "colab": {
          "base_uri": "https://localhost:8080/",
          "height": 121
        }
      },
      "source": [
        "path"
      ],
      "execution_count": 20,
      "outputs": [
        {
          "output_type": "execute_result",
          "data": {
            "text/plain": [
              "<shapely.geometry.linestring.LineString at 0x7fe57f80e0b8>"
            ],
            "image/svg+xml": "<svg xmlns=\"http://www.w3.org/2000/svg\" xmlns:xlink=\"http://www.w3.org/1999/xlink\" width=\"100.0\" height=\"100.0\" viewBox=\"11.119236748 46.070812448 0.007982604000000393 0.001851903999998683\" preserveAspectRatio=\"xMinYMin meet\"><g transform=\"matrix(1,0,0,-1,0,92.1434768)\"><polyline fill=\"none\" stroke=\"#66cc99\" stroke-width=\"0.00015965208000000785\" points=\"11.1195324,46.0720446 11.119568,46.072033 11.1196528,46.0720071 11.119714,46.0719886 11.1199072,46.0722786 11.1200523,46.0723687 11.1202069,46.0723548 11.120333,46.0723435 11.1211572,46.072104 11.121522,46.0720253 11.1216036,46.0719997 11.122157,46.0718194 11.1227893,46.071621 11.1229236,46.0715789 11.1230127,46.0715521 11.1236454,46.0713473 11.1238687,46.0712638 11.123933,46.0712932 11.1243025,46.0716139 11.1244219,46.0717352 11.1246655,46.072085 11.1247413,46.0720613 11.1247973,46.0720435 11.125099,46.071994 11.1251285,46.071987 11.1251717,46.0719774 11.1256588,46.0718314 11.1257309,46.0718342 11.1260634,46.0716115 11.1262125,46.0716537 11.12632,46.0714926 11.1265677,46.07145 11.1265947,46.0714055 11.1267754,46.0711081 11.1269237,46.071152\" opacity=\"0.8\" /></g></svg>"
          },
          "metadata": {
            "tags": []
          },
          "execution_count": 20
        }
      ]
    },
    {
      "cell_type": "markdown",
      "metadata": {
        "id": "GZZplrXaR-f_"
      },
      "source": [
        ".. and manage it in geopandas"
      ]
    },
    {
      "cell_type": "code",
      "metadata": {
        "id": "_7p0RzKA5mpG"
      },
      "source": [
        "import geopandas as gpd"
      ],
      "execution_count": 21,
      "outputs": []
    },
    {
      "cell_type": "code",
      "metadata": {
        "id": "Z3ebzACI5PZz"
      },
      "source": [
        "data = {'name': ['from train station to the castle'], 'geometry': [path]}"
      ],
      "execution_count": 22,
      "outputs": []
    },
    {
      "cell_type": "code",
      "metadata": {
        "id": "U0qrBPLE5e-p"
      },
      "source": [
        "gdf_path = gpd.GeoDataFrame(data,crs=\"EPSG:4326\") "
      ],
      "execution_count": 23,
      "outputs": []
    },
    {
      "cell_type": "code",
      "metadata": {
        "id": "3l260GAQ5wFq",
        "outputId": "1eda549a-a8f8-44f3-baa0-c440895f49f5",
        "colab": {
          "base_uri": "https://localhost:8080/"
        }
      },
      "source": [
        "gdf_path.crs"
      ],
      "execution_count": 24,
      "outputs": [
        {
          "output_type": "execute_result",
          "data": {
            "text/plain": [
              "<Geographic 2D CRS: EPSG:4326>\n",
              "Name: WGS 84\n",
              "Axis Info [ellipsoidal]:\n",
              "- Lat[north]: Geodetic latitude (degree)\n",
              "- Lon[east]: Geodetic longitude (degree)\n",
              "Area of Use:\n",
              "- name: World\n",
              "- bounds: (-180.0, -90.0, 180.0, 90.0)\n",
              "Datum: World Geodetic System 1984\n",
              "- Ellipsoid: WGS 84\n",
              "- Prime Meridian: Greenwich"
            ]
          },
          "metadata": {
            "tags": []
          },
          "execution_count": 24
        }
      ]
    },
    {
      "cell_type": "code",
      "metadata": {
        "id": "LGCvcco46A5K",
        "outputId": "8c2cf33d-c385-4fde-fa9b-f79116806869",
        "colab": {
          "base_uri": "https://localhost:8080/",
          "height": 81
        }
      },
      "source": [
        "gdf_path"
      ],
      "execution_count": 25,
      "outputs": [
        {
          "output_type": "execute_result",
          "data": {
            "text/html": [
              "<div>\n",
              "<style scoped>\n",
              "    .dataframe tbody tr th:only-of-type {\n",
              "        vertical-align: middle;\n",
              "    }\n",
              "\n",
              "    .dataframe tbody tr th {\n",
              "        vertical-align: top;\n",
              "    }\n",
              "\n",
              "    .dataframe thead th {\n",
              "        text-align: right;\n",
              "    }\n",
              "</style>\n",
              "<table border=\"1\" class=\"dataframe\">\n",
              "  <thead>\n",
              "    <tr style=\"text-align: right;\">\n",
              "      <th></th>\n",
              "      <th>name</th>\n",
              "      <th>geometry</th>\n",
              "    </tr>\n",
              "  </thead>\n",
              "  <tbody>\n",
              "    <tr>\n",
              "      <th>0</th>\n",
              "      <td>from train station to the castle</td>\n",
              "      <td>LINESTRING (11.11953 46.07204, 11.11957 46.072...</td>\n",
              "    </tr>\n",
              "  </tbody>\n",
              "</table>\n",
              "</div>"
            ],
            "text/plain": [
              "                               name                                           geometry\n",
              "0  from train station to the castle  LINESTRING (11.11953 46.07204, 11.11957 46.072..."
            ]
          },
          "metadata": {
            "tags": []
          },
          "execution_count": 25
        }
      ]
    },
    {
      "cell_type": "code",
      "metadata": {
        "id": "jpfeEPkU5jdk",
        "outputId": "eb1ea948-5a01-4c2e-faf9-c035fc42e4c8",
        "colab": {
          "base_uri": "https://localhost:8080/",
          "height": 159
        }
      },
      "source": [
        "gdf_path.plot()"
      ],
      "execution_count": 26,
      "outputs": [
        {
          "output_type": "execute_result",
          "data": {
            "text/plain": [
              "<AxesSubplot:>"
            ]
          },
          "metadata": {
            "tags": []
          },
          "execution_count": 26
        },
        {
          "output_type": "display_data",
          "data": {
            "image/png": "[encoded data removed]",
            "text/plain": [
              "<Figure size 432x288 with 1 Axes>"
            ]
          },
          "metadata": {
            "tags": [],
            "needs_background": "light"
          }
        }
      ]
    },
    {
      "cell_type": "code",
      "metadata": {
        "id": "yR5ZkkWn6DCg"
      },
      "source": [
        "gdf_path.to_file(\"path_trainstation2castle_trento.geojson\", driver=\"GeoJSON\")"
      ],
      "execution_count": 27,
      "outputs": []
    },
    {
      "cell_type": "code",
      "metadata": {
        "id": "B4zljpA06eym"
      },
      "source": [
        "#uncomment if you are using Colab\n",
        "#from google.colab import files\n",
        "#files.download(\"path_trainstation2castle_trento.geojson\")"
      ],
      "execution_count": 28,
      "outputs": []
    },
    {
      "cell_type": "markdown",
      "metadata": {
        "id": "gHqw4NUIZ_rD"
      },
      "source": [
        "# identify how many bars you can reach by walking in 5 minutes from the main train station of Trento\n",
        "\n",
        "OpenStreetMap distingues between [bar](https://wiki.openstreetmap.org/wiki/Tag:amenity%3Dbar) and [cafe](https://wiki.openstreetmap.org/wiki/Tag:amenity%3Dcafe).<br/>\n",
        "In Italy the difference is minimal, so we have to extract the data from both sources\n",
        "\n",
        "The steps are:\n",
        "\n",
        "- download all the *amenity=bar* and *amenity=cafe* from OpenStreetMap\n",
        "- identify the point of the train station\n",
        "- calculate the distance of each bar from the train station in walking travel time distance "
      ]
    },
    {
      "cell_type": "markdown",
      "metadata": {
        "id": "eVYJQ9JVapUs"
      },
      "source": [
        "## download all the amenity=bar  and amenity=cafe from OpenStreetMap"
      ]
    },
    {
      "cell_type": "markdown",
      "metadata": {
        "id": "GjNgAzbbb9x6"
      },
      "source": [
        "with osmnx"
      ]
    },
    {
      "cell_type": "code",
      "metadata": {
        "id": "qi0xwt98bUDE"
      },
      "source": [
        "tags = {'amenity': ['bar','cafe']}"
      ],
      "execution_count": 29,
      "outputs": []
    },
    {
      "cell_type": "code",
      "metadata": {
        "id": "zjqRr67OaY_S"
      },
      "source": [
        "trento_bars = ox.geometries_from_place(\"Trento\",tags)"
      ],
      "execution_count": 30,
      "outputs": []
    },
    {
      "cell_type": "code",
      "metadata": {
        "id": "ez4BHx1uZZ0m",
        "outputId": "9ea24cc5-c011-4fb0-fa64-a169273066f8",
        "colab": {
          "base_uri": "https://localhost:8080/"
        }
      },
      "source": [
        "trento_bars.shape"
      ],
      "execution_count": 31,
      "outputs": [
        {
          "output_type": "execute_result",
          "data": {
            "text/plain": [
              "(260, 71)"
            ]
          },
          "metadata": {
            "tags": []
          },
          "execution_count": 31
        }
      ]
    },
    {
      "cell_type": "code",
      "metadata": {
        "id": "8hicpExBS1Zq",
        "outputId": "91164cb8-5271-4d8a-901d-fa4e1c2793f9",
        "colab": {
          "base_uri": "https://localhost:8080/"
        }
      },
      "source": [
        "print(\"In OpenStreetMap, for the city or Trento, there are a total of %s of tags with amenity=bar and amenity=cafe\" % str(trento_bars.shape[0]))"
      ],
      "execution_count": 32,
      "outputs": [
        {
          "output_type": "stream",
          "text": [
            "In OpenStreetMap, for the city or Trento, there are a total of 260 of tags with amenity=bar and amenity=cafe\n"
          ],
          "name": "stdout"
        }
      ]
    },
    {
      "cell_type": "markdown",
      "metadata": {
        "id": "myyAi84ASxB-"
      },
      "source": [
        "the total is"
      ]
    },
    {
      "cell_type": "markdown",
      "metadata": {
        "id": "il5hgfZMluKk"
      },
      "source": [
        "## check the bar nearest by distance to the train stations\n",
        "\n",
        "identify the linear distance (no street network)"
      ]
    },
    {
      "cell_type": "markdown",
      "metadata": {
        "id": "kpQBvpd_U_nS"
      },
      "source": [
        "transform the coordinates of the train station from degrees (WGS84 - EPSG:4326) to meters (UTM 32N - EPSG:32632) to calculate the distance"
      ]
    },
    {
      "cell_type": "code",
      "metadata": {
        "id": "F3Ql8SQdi9dB"
      },
      "source": [
        "from shapely.ops import transform\n",
        "import pyproj"
      ],
      "execution_count": 33,
      "outputs": []
    },
    {
      "cell_type": "code",
      "metadata": {
        "id": "98-ibWQ-i-eG"
      },
      "source": [
        "wgs84 = pyproj.CRS('EPSG:4326')\n",
        "utm32n = pyproj.CRS('EPSG:32632')\n",
        "projection_transform = pyproj.Transformer.from_crs(wgs84, utm32n, always_xy=False).transform"
      ],
      "execution_count": 34,
      "outputs": []
    },
    {
      "cell_type": "code",
      "metadata": {
        "id": "8dtiOr3SjllN"
      },
      "source": [
        "shapely_point_train_station = Point(point_train_station)"
      ],
      "execution_count": 35,
      "outputs": []
    },
    {
      "cell_type": "code",
      "metadata": {
        "id": "-fr7CsihjqfB"
      },
      "source": [
        "point_train_station_utm32n = transform(projection_transform,shapely_point_train_station)"
      ],
      "execution_count": 36,
      "outputs": []
    },
    {
      "cell_type": "markdown",
      "metadata": {
        "id": "oc885jaVVam6"
      },
      "source": [
        "and now we have the new point in epsg:32632"
      ]
    },
    {
      "cell_type": "code",
      "metadata": {
        "id": "MXAEZ32Rj0iw",
        "outputId": "89140027-dbef-4439-b80d-e131c002da25",
        "colab": {
          "base_uri": "https://localhost:8080/",
          "height": 36
        }
      },
      "source": [
        "point_train_station_utm32n.wkt"
      ],
      "execution_count": 37,
      "outputs": [
        {
          "output_type": "execute_result",
          "data": {
            "application/vnd.google.colaboratory.intrinsic+json": {
              "type": "string"
            },
            "text/plain": [
              "'POINT (663888.6956006237 5104257.577081034)'"
            ]
          },
          "metadata": {
            "tags": []
          },
          "execution_count": 37
        }
      ]
    },
    {
      "cell_type": "markdown",
      "metadata": {
        "id": "E6_sQ9NuVsIu"
      },
      "source": [
        "we want calculate the distance point to point so we need to know the type of geometry in our geodataframe (*trento_bars*)"
      ]
    },
    {
      "cell_type": "code",
      "metadata": {
        "id": "bqI06yO6dPe5",
        "outputId": "0eb87f79-9391-4aa8-e656-508c1f883a57",
        "colab": {
          "base_uri": "https://localhost:8080/"
        }
      },
      "source": [
        "trento_bars.geometry.type.unique()"
      ],
      "execution_count": 38,
      "outputs": [
        {
          "output_type": "execute_result",
          "data": {
            "text/plain": [
              "array(['Point', 'Polygon'], dtype=object)"
            ]
          },
          "metadata": {
            "tags": []
          },
          "execution_count": 38
        }
      ]
    },
    {
      "cell_type": "code",
      "metadata": {
        "id": "L0ssGJAqbeIM",
        "outputId": "b9a68e2a-01a5-4027-d9ce-d106099211a8",
        "colab": {
          "base_uri": "https://localhost:8080/"
        }
      },
      "source": [
        "trento_bars.geometry.type.value_counts()"
      ],
      "execution_count": 39,
      "outputs": [
        {
          "output_type": "execute_result",
          "data": {
            "text/plain": [
              "Point      251\n",
              "Polygon      9\n",
              "dtype: int64"
            ]
          },
          "metadata": {
            "tags": []
          },
          "execution_count": 39
        }
      ]
    },
    {
      "cell_type": "markdown",
      "metadata": {
        "id": "Y9-8mwq6V4ei"
      },
      "source": [
        "we can calculate the distance to the point of the train station to a representative point of each geometry (so we transform the polygons in points)\n",
        "\n",
        "Are the distances are calculated in meters (UTM 32N)"
      ]
    },
    {
      "cell_type": "code",
      "metadata": {
        "id": "HCKnyWPNdH5O",
        "outputId": "7488869a-dfce-45db-e50e-467bb974a6be",
        "colab": {
          "base_uri": "https://localhost:8080/"
        }
      },
      "source": [
        "trento_bars.geometry.to_crs(epsg=32632).representative_point().distance(point_train_station_utm32n)"
      ],
      "execution_count": 40,
      "outputs": [
        {
          "output_type": "execute_result",
          "data": {
            "text/plain": [
              "0      2524.142113\n",
              "1       518.512766\n",
              "2       542.515407\n",
              "3       737.889408\n",
              "4       686.542193\n",
              "          ...     \n",
              "255    2813.859928\n",
              "256    1554.211774\n",
              "257    3799.815530\n",
              "258    1653.311307\n",
              "259    3378.216513\n",
              "Length: 260, dtype: float64"
            ]
          },
          "metadata": {
            "tags": []
          },
          "execution_count": 40
        }
      ]
    },
    {
      "cell_type": "markdown",
      "metadata": {
        "id": "LPFjyiIGWIpt"
      },
      "source": [
        "... we store the answers in a new column"
      ]
    },
    {
      "cell_type": "code",
      "metadata": {
        "id": "Ro_wJgKDi5dz"
      },
      "source": [
        "trento_bars['haversine_distance_to_train_station'] = trento_bars.geometry.to_crs(epsg=32632).representative_point().distance(point_train_station_utm32n)"
      ],
      "execution_count": 41,
      "outputs": []
    },
    {
      "cell_type": "code",
      "metadata": {
        "id": "frozz93MlB14",
        "outputId": "aa328030-7321-45cd-b0e0-3d6434531d1d",
        "colab": {
          "base_uri": "https://localhost:8080/",
          "height": 487
        }
      },
      "source": [
        "trento_bars.sort_values(by=['haversine_distance_to_train_station']).head(5)"
      ],
      "execution_count": 42,
      "outputs": [
        {
          "output_type": "execute_result",
          "data": {
            "text/html": [
              "<div>\n",
              "<style scoped>\n",
              "    .dataframe tbody tr th:only-of-type {\n",
              "        vertical-align: middle;\n",
              "    }\n",
              "\n",
              "    .dataframe tbody tr th {\n",
              "        vertical-align: top;\n",
              "    }\n",
              "\n",
              "    .dataframe thead th {\n",
              "        text-align: right;\n",
              "    }\n",
              "</style>\n",
              "<table border=\"1\" class=\"dataframe\">\n",
              "  <thead>\n",
              "    <tr style=\"text-align: right;\">\n",
              "      <th></th>\n",
              "      <th>unique_id</th>\n",
              "      <th>osmid</th>\n",
              "      <th>element_type</th>\n",
              "      <th>addr:city</th>\n",
              "      <th>addr:housenumber</th>\n",
              "      <th>addr:postcode</th>\n",
              "      <th>addr:street</th>\n",
              "      <th>amenity</th>\n",
              "      <th>name</th>\n",
              "      <th>geometry</th>\n",
              "      <th>addr:country</th>\n",
              "      <th>contact:phone</th>\n",
              "      <th>operator</th>\n",
              "      <th>outdoor_seating</th>\n",
              "      <th>ref:vatin</th>\n",
              "      <th>contact:email</th>\n",
              "      <th>wheelchair</th>\n",
              "      <th>fixme</th>\n",
              "      <th>opening_hours</th>\n",
              "      <th>brewery</th>\n",
              "      <th>contact:website</th>\n",
              "      <th>cost:coffee</th>\n",
              "      <th>smoking</th>\n",
              "      <th>source</th>\n",
              "      <th>created_by</th>\n",
              "      <th>addr:number</th>\n",
              "      <th>shop</th>\n",
              "      <th>phone</th>\n",
              "      <th>internet_access</th>\n",
              "      <th>internet_access:fee</th>\n",
              "      <th>surveillance</th>\n",
              "      <th>contact:facebook</th>\n",
              "      <th>contact:tripadvisor</th>\n",
              "      <th>cuisine</th>\n",
              "      <th>contact:mobile</th>\n",
              "      <th>note</th>\n",
              "      <th>website</th>\n",
              "      <th>toilets:wheelchair</th>\n",
              "      <th>alt_name</th>\n",
              "      <th>contact:company</th>\n",
              "      <th>ref:vat_in</th>\n",
              "      <th>contact:name</th>\n",
              "      <th>contact:fax</th>\n",
              "      <th>email</th>\n",
              "      <th>fax</th>\n",
              "      <th>level</th>\n",
              "      <th>wifi</th>\n",
              "      <th>addr:housename</th>\n",
              "      <th>layer</th>\n",
              "      <th>name:en</th>\n",
              "      <th>name:it</th>\n",
              "      <th>diet:vegan</th>\n",
              "      <th>diet:vegetarian</th>\n",
              "      <th>ref:VATIN</th>\n",
              "      <th>ref:vatin_1</th>\n",
              "      <th>entrance</th>\n",
              "      <th>air_conditioning</th>\n",
              "      <th>payment:cash</th>\n",
              "      <th>payment:debit_cards</th>\n",
              "      <th>description</th>\n",
              "      <th>payment:bancomat</th>\n",
              "      <th>payment:coins</th>\n",
              "      <th>payment:notes</th>\n",
              "      <th>operator:addr:city</th>\n",
              "      <th>operator:addr:housenumber</th>\n",
              "      <th>operator:addr:postcode</th>\n",
              "      <th>operator:addr:street</th>\n",
              "      <th>ref:rea</th>\n",
              "      <th>sells:tobacco</th>\n",
              "      <th>nodes</th>\n",
              "      <th>building</th>\n",
              "      <th>haversine_distance_to_train_station</th>\n",
              "    </tr>\n",
              "  </thead>\n",
              "  <tbody>\n",
              "    <tr>\n",
              "      <th>96</th>\n",
              "      <td>node/867377187</td>\n",
              "      <td>867377187</td>\n",
              "      <td>node</td>\n",
              "      <td>Trento</td>\n",
              "      <td>1</td>\n",
              "      <td>38122</td>\n",
              "      <td>Piazza Dante</td>\n",
              "      <td>bar</td>\n",
              "      <td>Bar Stazione Buffet Trento</td>\n",
              "      <td>POINT (11.11946 46.07250)</td>\n",
              "      <td>IT</td>\n",
              "      <td>NaN</td>\n",
              "      <td>Serenissima Ristorazione SPA</td>\n",
              "      <td>NaN</td>\n",
              "      <td>IT01617950249</td>\n",
              "      <td>NaN</td>\n",
              "      <td>NaN</td>\n",
              "      <td>NaN</td>\n",
              "      <td>NaN</td>\n",
              "      <td>NaN</td>\n",
              "      <td>NaN</td>\n",
              "      <td>NaN</td>\n",
              "      <td>NaN</td>\n",
              "      <td>NaN</td>\n",
              "      <td>NaN</td>\n",
              "      <td>NaN</td>\n",
              "      <td>NaN</td>\n",
              "      <td>NaN</td>\n",
              "      <td>NaN</td>\n",
              "      <td>NaN</td>\n",
              "      <td>NaN</td>\n",
              "      <td>NaN</td>\n",
              "      <td>NaN</td>\n",
              "      <td>NaN</td>\n",
              "      <td>NaN</td>\n",
              "      <td>NaN</td>\n",
              "      <td>NaN</td>\n",
              "      <td>NaN</td>\n",
              "      <td>NaN</td>\n",
              "      <td>NaN</td>\n",
              "      <td>NaN</td>\n",
              "      <td>NaN</td>\n",
              "      <td>NaN</td>\n",
              "      <td>NaN</td>\n",
              "      <td>NaN</td>\n",
              "      <td>NaN</td>\n",
              "      <td>NaN</td>\n",
              "      <td>NaN</td>\n",
              "      <td>NaN</td>\n",
              "      <td>NaN</td>\n",
              "      <td>NaN</td>\n",
              "      <td>NaN</td>\n",
              "      <td>NaN</td>\n",
              "      <td>NaN</td>\n",
              "      <td>NaN</td>\n",
              "      <td>NaN</td>\n",
              "      <td>NaN</td>\n",
              "      <td>NaN</td>\n",
              "      <td>NaN</td>\n",
              "      <td>NaN</td>\n",
              "      <td>NaN</td>\n",
              "      <td>NaN</td>\n",
              "      <td>NaN</td>\n",
              "      <td>NaN</td>\n",
              "      <td>NaN</td>\n",
              "      <td>NaN</td>\n",
              "      <td>NaN</td>\n",
              "      <td>NaN</td>\n",
              "      <td>NaN</td>\n",
              "      <td>NaN</td>\n",
              "      <td>NaN</td>\n",
              "      <td>31.018800</td>\n",
              "    </tr>\n",
              "    <tr>\n",
              "      <th>253</th>\n",
              "      <td>way/73089915</td>\n",
              "      <td>73089915</td>\n",
              "      <td>way</td>\n",
              "      <td>Trento</td>\n",
              "      <td>13</td>\n",
              "      <td>NaN</td>\n",
              "      <td>Piazza Dante</td>\n",
              "      <td>bar</td>\n",
              "      <td>Flora</td>\n",
              "      <td>POLYGON ((11.12028 46.07245, 11.12027 46.07241...</td>\n",
              "      <td>NaN</td>\n",
              "      <td>NaN</td>\n",
              "      <td>Sali e Tabacchi Riv. N° 23</td>\n",
              "      <td>NaN</td>\n",
              "      <td>NaN</td>\n",
              "      <td>NaN</td>\n",
              "      <td>NaN</td>\n",
              "      <td>NaN</td>\n",
              "      <td>Mo-Sa 06:00-21:00</td>\n",
              "      <td>NaN</td>\n",
              "      <td>NaN</td>\n",
              "      <td>NaN</td>\n",
              "      <td>NaN</td>\n",
              "      <td>NaN</td>\n",
              "      <td>NaN</td>\n",
              "      <td>NaN</td>\n",
              "      <td>tobacco</td>\n",
              "      <td>NaN</td>\n",
              "      <td>NaN</td>\n",
              "      <td>NaN</td>\n",
              "      <td>NaN</td>\n",
              "      <td>NaN</td>\n",
              "      <td>NaN</td>\n",
              "      <td>NaN</td>\n",
              "      <td>NaN</td>\n",
              "      <td>NaN</td>\n",
              "      <td>NaN</td>\n",
              "      <td>NaN</td>\n",
              "      <td>NaN</td>\n",
              "      <td>NaN</td>\n",
              "      <td>NaN</td>\n",
              "      <td>NaN</td>\n",
              "      <td>NaN</td>\n",
              "      <td>NaN</td>\n",
              "      <td>NaN</td>\n",
              "      <td>NaN</td>\n",
              "      <td>NaN</td>\n",
              "      <td>NaN</td>\n",
              "      <td>NaN</td>\n",
              "      <td>NaN</td>\n",
              "      <td>NaN</td>\n",
              "      <td>NaN</td>\n",
              "      <td>NaN</td>\n",
              "      <td>NaN</td>\n",
              "      <td>NaN</td>\n",
              "      <td>NaN</td>\n",
              "      <td>NaN</td>\n",
              "      <td>NaN</td>\n",
              "      <td>NaN</td>\n",
              "      <td>NaN</td>\n",
              "      <td>NaN</td>\n",
              "      <td>NaN</td>\n",
              "      <td>NaN</td>\n",
              "      <td>NaN</td>\n",
              "      <td>NaN</td>\n",
              "      <td>NaN</td>\n",
              "      <td>NaN</td>\n",
              "      <td>NaN</td>\n",
              "      <td>NaN</td>\n",
              "      <td>[867377189, 867377061, 867377184, 867377320, 8...</td>\n",
              "      <td>yes</td>\n",
              "      <td>79.059449</td>\n",
              "    </tr>\n",
              "    <tr>\n",
              "      <th>254</th>\n",
              "      <td>way/73293759</td>\n",
              "      <td>73293759</td>\n",
              "      <td>way</td>\n",
              "      <td>NaN</td>\n",
              "      <td>NaN</td>\n",
              "      <td>NaN</td>\n",
              "      <td>NaN</td>\n",
              "      <td>cafe</td>\n",
              "      <td>Bar Caffetteria Dogana</td>\n",
              "      <td>POLYGON ((11.12085 46.07342, 11.12075 46.07338...</td>\n",
              "      <td>NaN</td>\n",
              "      <td>NaN</td>\n",
              "      <td>NaN</td>\n",
              "      <td>NaN</td>\n",
              "      <td>NaN</td>\n",
              "      <td>NaN</td>\n",
              "      <td>NaN</td>\n",
              "      <td>NaN</td>\n",
              "      <td>NaN</td>\n",
              "      <td>NaN</td>\n",
              "      <td>NaN</td>\n",
              "      <td>NaN</td>\n",
              "      <td>NaN</td>\n",
              "      <td>NaN</td>\n",
              "      <td>NaN</td>\n",
              "      <td>NaN</td>\n",
              "      <td>NaN</td>\n",
              "      <td>NaN</td>\n",
              "      <td>NaN</td>\n",
              "      <td>NaN</td>\n",
              "      <td>NaN</td>\n",
              "      <td>NaN</td>\n",
              "      <td>NaN</td>\n",
              "      <td>NaN</td>\n",
              "      <td>NaN</td>\n",
              "      <td>NaN</td>\n",
              "      <td>NaN</td>\n",
              "      <td>NaN</td>\n",
              "      <td>NaN</td>\n",
              "      <td>NaN</td>\n",
              "      <td>NaN</td>\n",
              "      <td>NaN</td>\n",
              "      <td>NaN</td>\n",
              "      <td>NaN</td>\n",
              "      <td>NaN</td>\n",
              "      <td>NaN</td>\n",
              "      <td>NaN</td>\n",
              "      <td>NaN</td>\n",
              "      <td>NaN</td>\n",
              "      <td>NaN</td>\n",
              "      <td>NaN</td>\n",
              "      <td>NaN</td>\n",
              "      <td>NaN</td>\n",
              "      <td>NaN</td>\n",
              "      <td>NaN</td>\n",
              "      <td>NaN</td>\n",
              "      <td>NaN</td>\n",
              "      <td>NaN</td>\n",
              "      <td>NaN</td>\n",
              "      <td>NaN</td>\n",
              "      <td>NaN</td>\n",
              "      <td>NaN</td>\n",
              "      <td>NaN</td>\n",
              "      <td>NaN</td>\n",
              "      <td>NaN</td>\n",
              "      <td>NaN</td>\n",
              "      <td>NaN</td>\n",
              "      <td>NaN</td>\n",
              "      <td>NaN</td>\n",
              "      <td>[869314003, 869314081, 869313986, 869314147, 8...</td>\n",
              "      <td>yes</td>\n",
              "      <td>173.832806</td>\n",
              "    </tr>\n",
              "    <tr>\n",
              "      <th>97</th>\n",
              "      <td>node/867377209</td>\n",
              "      <td>867377209</td>\n",
              "      <td>node</td>\n",
              "      <td>Trento</td>\n",
              "      <td>2</td>\n",
              "      <td>38122</td>\n",
              "      <td>Via Dogana</td>\n",
              "      <td>bar</td>\n",
              "      <td>Bar Trento-Malé</td>\n",
              "      <td>POINT (11.12038 46.07375)</td>\n",
              "      <td>IT</td>\n",
              "      <td>+39 0461 239398</td>\n",
              "      <td>Caset Mariarita</td>\n",
              "      <td>NaN</td>\n",
              "      <td>IT01556070223</td>\n",
              "      <td>NaN</td>\n",
              "      <td>NaN</td>\n",
              "      <td>NaN</td>\n",
              "      <td>NaN</td>\n",
              "      <td>NaN</td>\n",
              "      <td>NaN</td>\n",
              "      <td>NaN</td>\n",
              "      <td>NaN</td>\n",
              "      <td>NaN</td>\n",
              "      <td>NaN</td>\n",
              "      <td>NaN</td>\n",
              "      <td>NaN</td>\n",
              "      <td>NaN</td>\n",
              "      <td>NaN</td>\n",
              "      <td>NaN</td>\n",
              "      <td>NaN</td>\n",
              "      <td>NaN</td>\n",
              "      <td>NaN</td>\n",
              "      <td>NaN</td>\n",
              "      <td>NaN</td>\n",
              "      <td>NaN</td>\n",
              "      <td>NaN</td>\n",
              "      <td>NaN</td>\n",
              "      <td>NaN</td>\n",
              "      <td>NaN</td>\n",
              "      <td>NaN</td>\n",
              "      <td>NaN</td>\n",
              "      <td>NaN</td>\n",
              "      <td>NaN</td>\n",
              "      <td>NaN</td>\n",
              "      <td>NaN</td>\n",
              "      <td>NaN</td>\n",
              "      <td>NaN</td>\n",
              "      <td>NaN</td>\n",
              "      <td>NaN</td>\n",
              "      <td>NaN</td>\n",
              "      <td>NaN</td>\n",
              "      <td>NaN</td>\n",
              "      <td>NaN</td>\n",
              "      <td>NaN</td>\n",
              "      <td>NaN</td>\n",
              "      <td>NaN</td>\n",
              "      <td>NaN</td>\n",
              "      <td>NaN</td>\n",
              "      <td>NaN</td>\n",
              "      <td>NaN</td>\n",
              "      <td>NaN</td>\n",
              "      <td>NaN</td>\n",
              "      <td>NaN</td>\n",
              "      <td>NaN</td>\n",
              "      <td>NaN</td>\n",
              "      <td>NaN</td>\n",
              "      <td>NaN</td>\n",
              "      <td>NaN</td>\n",
              "      <td>NaN</td>\n",
              "      <td>NaN</td>\n",
              "      <td>186.932583</td>\n",
              "    </tr>\n",
              "    <tr>\n",
              "      <th>231</th>\n",
              "      <td>node/4264239318</td>\n",
              "      <td>4264239318</td>\n",
              "      <td>node</td>\n",
              "      <td>Trento</td>\n",
              "      <td>30</td>\n",
              "      <td>38122</td>\n",
              "      <td>Piazza Dante</td>\n",
              "      <td>bar</td>\n",
              "      <td>Liber Café</td>\n",
              "      <td>POINT (11.12091 46.07086)</td>\n",
              "      <td>IT</td>\n",
              "      <td>NaN</td>\n",
              "      <td>NaN</td>\n",
              "      <td>yes</td>\n",
              "      <td>NaN</td>\n",
              "      <td>NaN</td>\n",
              "      <td>NaN</td>\n",
              "      <td>NaN</td>\n",
              "      <td>NaN</td>\n",
              "      <td>NaN</td>\n",
              "      <td>NaN</td>\n",
              "      <td>NaN</td>\n",
              "      <td>NaN</td>\n",
              "      <td>NaN</td>\n",
              "      <td>NaN</td>\n",
              "      <td>NaN</td>\n",
              "      <td>NaN</td>\n",
              "      <td>NaN</td>\n",
              "      <td>NaN</td>\n",
              "      <td>NaN</td>\n",
              "      <td>NaN</td>\n",
              "      <td>NaN</td>\n",
              "      <td>NaN</td>\n",
              "      <td>NaN</td>\n",
              "      <td>NaN</td>\n",
              "      <td>NaN</td>\n",
              "      <td>NaN</td>\n",
              "      <td>NaN</td>\n",
              "      <td>NaN</td>\n",
              "      <td>NaN</td>\n",
              "      <td>NaN</td>\n",
              "      <td>NaN</td>\n",
              "      <td>NaN</td>\n",
              "      <td>NaN</td>\n",
              "      <td>NaN</td>\n",
              "      <td>NaN</td>\n",
              "      <td>NaN</td>\n",
              "      <td>Palazzina Liberty</td>\n",
              "      <td>NaN</td>\n",
              "      <td>NaN</td>\n",
              "      <td>NaN</td>\n",
              "      <td>NaN</td>\n",
              "      <td>NaN</td>\n",
              "      <td>NaN</td>\n",
              "      <td>NaN</td>\n",
              "      <td>NaN</td>\n",
              "      <td>NaN</td>\n",
              "      <td>NaN</td>\n",
              "      <td>NaN</td>\n",
              "      <td>NaN</td>\n",
              "      <td>NaN</td>\n",
              "      <td>NaN</td>\n",
              "      <td>NaN</td>\n",
              "      <td>NaN</td>\n",
              "      <td>NaN</td>\n",
              "      <td>NaN</td>\n",
              "      <td>NaN</td>\n",
              "      <td>NaN</td>\n",
              "      <td>NaN</td>\n",
              "      <td>NaN</td>\n",
              "      <td>NaN</td>\n",
              "      <td>196.739151</td>\n",
              "    </tr>\n",
              "  </tbody>\n",
              "</table>\n",
              "</div>"
            ],
            "text/plain": [
              "           unique_id       osmid  ... building haversine_distance_to_train_station\n",
              "96    node/867377187   867377187  ...      NaN                           31.018800\n",
              "253     way/73089915    73089915  ...      yes                           79.059449\n",
              "254     way/73293759    73293759  ...      yes                          173.832806\n",
              "97    node/867377209   867377209  ...      NaN                          186.932583\n",
              "231  node/4264239318  4264239318  ...      NaN                          196.739151\n",
              "\n",
              "[5 rows x 72 columns]"
            ]
          },
          "metadata": {
            "tags": []
          },
          "execution_count": 42
        }
      ]
    },
    {
      "cell_type": "markdown",
      "metadata": {
        "id": "o56Xm2amWZV8"
      },
      "source": [
        "indentify the nearest point (in linear distance) close to the point of the train station "
      ]
    },
    {
      "cell_type": "code",
      "metadata": {
        "id": "_P1DM0wIkGpW",
        "outputId": "8cad4f80-b1ea-4607-89fe-83d78946b26a",
        "colab": {
          "base_uri": "https://localhost:8080/",
          "height": 36
        }
      },
      "source": [
        "trento_bars[trento_bars.haversine_distance_to_train_station == trento_bars.haversine_distance_to_train_station.min()].name.values[0]"
      ],
      "execution_count": 43,
      "outputs": [
        {
          "output_type": "execute_result",
          "data": {
            "application/vnd.google.colaboratory.intrinsic+json": {
              "type": "string"
            },
            "text/plain": [
              "'Bar Stazione Buffet Trento'"
            ]
          },
          "metadata": {
            "tags": []
          },
          "execution_count": 43
        }
      ]
    },
    {
      "cell_type": "markdown",
      "metadata": {
        "id": "vM4m5Xkhl0b4"
      },
      "source": [
        "## find the distance of each bar to the train station\n"
      ]
    },
    {
      "cell_type": "markdown",
      "metadata": {
        "id": "qeyx0WFoSCht"
      },
      "source": [
        "## add the weights of speed and travel time\n",
        "\n",
        "\n",
        "check documentation [module-osmnx.speed](https://osmnx.readthedocs.io/en/stable/osmnx.html#module-osmnx.speed)\n",
        "\n",
        "---\n",
        "\n",
        "If edge *maxspeed* attribute has *“mph”* in it, value will automatically be converted from miles per hour to km per hour. \n",
        "\n",
        "Any other speed units should be manually converted to km per hour prior to running this function, otherwise there could be unexpected results. \n",
        "\n",
        "If “mph” does not appear in the edge’s maxspeed attribute string, then function assumes kph, per OSM guidelines: \n",
        "\n",
        "https://wiki.openstreetmap.org/wiki/Map_Features/Units\n",
        "\n",
        "**hwy_speeds** *(dict)* \n",
        "\n",
        "*dict keys* = *OSM highway types and values* = typical  speeds (km per hour) to assign to edges of that highway type for any edges missing speed data. \n",
        "\n",
        "Any edges with highway type not in hwy_speeds will be assigned the mean preexisting speed value of all edges of that highway type.\n",
        "\n",
        "---\n",
        "\n",
        "we can assume from 2.5 to 3.5 km/h of speed where roads designed for pedestrians are faster than those designed only for cars\n",
        "\n"
      ]
    },
    {
      "cell_type": "code",
      "metadata": {
        "id": "2GU1k8ifki2I"
      },
      "source": [
        "hwy_walking_speeds = {\n",
        "    'motorway ': 0.5,\n",
        "    'trunk': 0.5,\n",
        "    'primary': 0.5,\n",
        "    'secondary': 0.5,\n",
        "    'tertiary': 0.5,\n",
        "    'unclassified': 3.5,\n",
        "    'residential': 3.5,\n",
        "    'service': 3.5,\n",
        "    'crossing': 3.5,\n",
        "    'pedestrian': 3.5,\n",
        "    'living_street':3.5,\n",
        "    'steps':3.5,\n",
        "    'footway': 3.5,\n",
        "    'track':3.5}\n",
        "G = ox.add_edge_speeds(G,hwy_speeds=hwy_walking_speeds)\n",
        "G = ox.add_edge_travel_times(G)"
      ],
      "execution_count": 44,
      "outputs": []
    },
    {
      "cell_type": "code",
      "metadata": {
        "id": "HrbMeUGMl8sQ"
      },
      "source": [
        "point_nearest_train_station= ox.get_nearest_node(G, point_train_station)"
      ],
      "execution_count": 45,
      "outputs": []
    },
    {
      "cell_type": "markdown",
      "metadata": {
        "id": "-bXi-gzcXGB3"
      },
      "source": [
        "we identify a nearest point of each representative point of each location we have to reach"
      ]
    },
    {
      "cell_type": "code",
      "metadata": {
        "id": "IianI8PDmdRZ"
      },
      "source": [
        "trento_bars['nearest_point_to_graph'] = trento_bars.geometry.representative_point().apply(lambda point: ox.get_nearest_node(G, (point.y,point.x)))"
      ],
      "execution_count": 46,
      "outputs": []
    },
    {
      "cell_type": "markdown",
      "metadata": {
        "id": "cWwJguXNocr2"
      },
      "source": [
        "calculate the short path from the train station to each location"
      ]
    },
    {
      "cell_type": "code",
      "metadata": {
        "id": "LPllPsa1oaUE"
      },
      "source": [
        "trento_bars['route_from_train_station'] = trento_bars.nearest_point_to_graph.apply(lambda to_point: ox.shortest_path(G, point_nearest_train_station, to_point))"
      ],
      "execution_count": 47,
      "outputs": []
    },
    {
      "cell_type": "markdown",
      "metadata": {
        "id": "foF891qqpF9q"
      },
      "source": [
        "create geometry of each path "
      ]
    },
    {
      "cell_type": "code",
      "metadata": {
        "id": "mT8rxFDkpRQe"
      },
      "source": [
        "# this define the function to create the linestring from the id nodes of the graph\n",
        "def geometry_from_route(inG,route):\n",
        "  points = []\n",
        "  for idnode in route:\n",
        "    lon = inG.nodes[idnode]['x']\n",
        "    lat = inG.nodes[idnode]['y']\n",
        "    point = Point(lon,lat)\n",
        "    points.append(point)\n",
        "  return(LineString(points))"
      ],
      "execution_count": 48,
      "outputs": []
    },
    {
      "cell_type": "code",
      "metadata": {
        "id": "wI-HcLncpitF"
      },
      "source": [
        "trento_bars['linestring'] = trento_bars.route_from_train_station.apply(lambda route: geometry_from_route(G,route))"
      ],
      "execution_count": 49,
      "outputs": []
    },
    {
      "cell_type": "markdown",
      "metadata": {
        "id": "r8VsJ1bjXcba"
      },
      "source": [
        "Show all the locations\n",
        "\n"
      ]
    },
    {
      "cell_type": "code",
      "metadata": {
        "id": "tIQBDc36scLK",
        "outputId": "f4e19bfa-839b-437e-e170-fd8746e5af58",
        "colab": {
          "base_uri": "https://localhost:8080/",
          "height": 283
        }
      },
      "source": [
        "trento_bars.plot()"
      ],
      "execution_count": 50,
      "outputs": [
        {
          "output_type": "execute_result",
          "data": {
            "text/plain": [
              "<AxesSubplot:>"
            ]
          },
          "metadata": {
            "tags": []
          },
          "execution_count": 50
        },
        {
          "output_type": "display_data",
          "data": {
            "image/png": "[encoded data removed]",
            "text/plain": [
              "<Figure size 432x288 with 1 Axes>"
            ]
          },
          "metadata": {
            "tags": [],
            "needs_background": "light"
          }
        }
      ]
    },
    {
      "cell_type": "markdown",
      "metadata": {
        "id": "GYenQeAKXlYU"
      },
      "source": [
        "Show all the paths from the train station to each location"
      ]
    },
    {
      "cell_type": "code",
      "metadata": {
        "id": "fQ5AY2gGp5a_",
        "outputId": "462eefd4-c2d7-4bef-b010-a102b99dd1d2",
        "colab": {
          "base_uri": "https://localhost:8080/",
          "height": 283
        }
      },
      "source": [
        "trento_bars.set_geometry('linestring').plot()"
      ],
      "execution_count": 51,
      "outputs": [
        {
          "output_type": "execute_result",
          "data": {
            "text/plain": [
              "<AxesSubplot:>"
            ]
          },
          "metadata": {
            "tags": []
          },
          "execution_count": 51
        },
        {
          "output_type": "display_data",
          "data": {
            "image/png": "[encoded data removed]",
            "text/plain": [
              "<Figure size 432x288 with 1 Axes>"
            ]
          },
          "metadata": {
            "tags": [],
            "needs_background": "light"
          }
        }
      ]
    },
    {
      "cell_type": "markdown",
      "metadata": {
        "id": "lG8_nFppt7m9"
      },
      "source": [
        "calculate time for each path"
      ]
    },
    {
      "cell_type": "code",
      "metadata": {
        "id": "R9jxYkXcuTN-"
      },
      "source": [
        "def travel_time_from_train_station(inG, route):\n",
        "  edge_times = ox.utils_graph.get_route_edge_attributes(inG, route, 'travel_time')\n",
        "  return (sum(edge_times))"
      ],
      "execution_count": 52,
      "outputs": []
    },
    {
      "cell_type": "code",
      "metadata": {
        "id": "cyLlXhMUukjj"
      },
      "source": [
        "trento_bars['travel_time_from_train_station'] = trento_bars.route_from_train_station.apply(lambda route: travel_time_from_train_station(G,route))"
      ],
      "execution_count": 53,
      "outputs": []
    },
    {
      "cell_type": "markdown",
      "metadata": {
        "id": "3SRP2LkdX26P"
      },
      "source": [
        "and the length for each"
      ]
    },
    {
      "cell_type": "code",
      "metadata": {
        "id": "h5HAfq_QE355"
      },
      "source": [
        "def lenght_path_from_train_station(inG, route):\n",
        "  edge_lengths = ox.utils_graph.get_route_edge_attributes(inG, route, 'length')\n",
        "  return (sum(edge_lengths))"
      ],
      "execution_count": 54,
      "outputs": []
    },
    {
      "cell_type": "code",
      "metadata": {
        "id": "qHVWQXD0YH6m"
      },
      "source": [
        "trento_bars['path_lenght_from_train_station'] = trento_bars.route_from_train_station.apply(lambda route: lenght_path_from_train_station(G,route))"
      ],
      "execution_count": 55,
      "outputs": []
    },
    {
      "cell_type": "markdown",
      "metadata": {
        "id": "8jO_y9REvuhY"
      },
      "source": [
        "show the first 5 bars by harvesine distance"
      ]
    },
    {
      "cell_type": "code",
      "metadata": {
        "id": "zoze4x7zvM_W",
        "outputId": "bed02675-7ba5-4732-c694-2c20ea4295ec",
        "colab": {
          "base_uri": "https://localhost:8080/",
          "height": 206
        }
      },
      "source": [
        "trento_bars.sort_values(by=['haversine_distance_to_train_station']).head(5)[['name','haversine_distance_to_train_station']]"
      ],
      "execution_count": 56,
      "outputs": [
        {
          "output_type": "execute_result",
          "data": {
            "text/html": [
              "<div>\n",
              "<style scoped>\n",
              "    .dataframe tbody tr th:only-of-type {\n",
              "        vertical-align: middle;\n",
              "    }\n",
              "\n",
              "    .dataframe tbody tr th {\n",
              "        vertical-align: top;\n",
              "    }\n",
              "\n",
              "    .dataframe thead th {\n",
              "        text-align: right;\n",
              "    }\n",
              "</style>\n",
              "<table border=\"1\" class=\"dataframe\">\n",
              "  <thead>\n",
              "    <tr style=\"text-align: right;\">\n",
              "      <th></th>\n",
              "      <th>name</th>\n",
              "      <th>haversine_distance_to_train_station</th>\n",
              "    </tr>\n",
              "  </thead>\n",
              "  <tbody>\n",
              "    <tr>\n",
              "      <th>96</th>\n",
              "      <td>Bar Stazione Buffet Trento</td>\n",
              "      <td>31.018800</td>\n",
              "    </tr>\n",
              "    <tr>\n",
              "      <th>253</th>\n",
              "      <td>Flora</td>\n",
              "      <td>79.059449</td>\n",
              "    </tr>\n",
              "    <tr>\n",
              "      <th>254</th>\n",
              "      <td>Bar Caffetteria Dogana</td>\n",
              "      <td>173.832806</td>\n",
              "    </tr>\n",
              "    <tr>\n",
              "      <th>97</th>\n",
              "      <td>Bar Trento-Malé</td>\n",
              "      <td>186.932583</td>\n",
              "    </tr>\n",
              "    <tr>\n",
              "      <th>231</th>\n",
              "      <td>Liber Café</td>\n",
              "      <td>196.739151</td>\n",
              "    </tr>\n",
              "  </tbody>\n",
              "</table>\n",
              "</div>"
            ],
            "text/plain": [
              "                           name  haversine_distance_to_train_station\n",
              "96   Bar Stazione Buffet Trento                            31.018800\n",
              "253                       Flora                            79.059449\n",
              "254      Bar Caffetteria Dogana                           173.832806\n",
              "97              Bar Trento-Malé                           186.932583\n",
              "231                  Liber Café                           196.739151"
            ]
          },
          "metadata": {
            "tags": []
          },
          "execution_count": 56
        }
      ]
    },
    {
      "cell_type": "markdown",
      "metadata": {
        "id": "PM-cr4mIvz_z"
      },
      "source": [
        "show the first 5 bars by travel time distance (in seconds)"
      ]
    },
    {
      "cell_type": "code",
      "metadata": {
        "id": "4rjbDycBuuLB",
        "outputId": "f184041e-e667-4f2e-f898-982565c31d45",
        "colab": {
          "base_uri": "https://localhost:8080/",
          "height": 363
        }
      },
      "source": [
        "trento_bars.sort_values(by=['travel_time_from_train_station']).head(10)[['name','travel_time_from_train_station']]"
      ],
      "execution_count": 57,
      "outputs": [
        {
          "output_type": "execute_result",
          "data": {
            "text/html": [
              "<div>\n",
              "<style scoped>\n",
              "    .dataframe tbody tr th:only-of-type {\n",
              "        vertical-align: middle;\n",
              "    }\n",
              "\n",
              "    .dataframe tbody tr th {\n",
              "        vertical-align: top;\n",
              "    }\n",
              "\n",
              "    .dataframe thead th {\n",
              "        text-align: right;\n",
              "    }\n",
              "</style>\n",
              "<table border=\"1\" class=\"dataframe\">\n",
              "  <thead>\n",
              "    <tr style=\"text-align: right;\">\n",
              "      <th></th>\n",
              "      <th>name</th>\n",
              "      <th>travel_time_from_train_station</th>\n",
              "    </tr>\n",
              "  </thead>\n",
              "  <tbody>\n",
              "    <tr>\n",
              "      <th>96</th>\n",
              "      <td>Bar Stazione Buffet Trento</td>\n",
              "      <td>42.2</td>\n",
              "    </tr>\n",
              "    <tr>\n",
              "      <th>253</th>\n",
              "      <td>Flora</td>\n",
              "      <td>101.4</td>\n",
              "    </tr>\n",
              "    <tr>\n",
              "      <th>97</th>\n",
              "      <td>Bar Trento-Malé</td>\n",
              "      <td>264.7</td>\n",
              "    </tr>\n",
              "    <tr>\n",
              "      <th>168</th>\n",
              "      <td>Giornale &amp; Caffè</td>\n",
              "      <td>269.8</td>\n",
              "    </tr>\n",
              "    <tr>\n",
              "      <th>80</th>\n",
              "      <td>Bar Buonconsiglio</td>\n",
              "      <td>321.1</td>\n",
              "    </tr>\n",
              "    <tr>\n",
              "      <th>107</th>\n",
              "      <td>Bar Torre Vanga</td>\n",
              "      <td>377.0</td>\n",
              "    </tr>\n",
              "    <tr>\n",
              "      <th>254</th>\n",
              "      <td>Bar Caffetteria Dogana</td>\n",
              "      <td>383.4</td>\n",
              "    </tr>\n",
              "    <tr>\n",
              "      <th>138</th>\n",
              "      <td>Caffè Al Tempo Perso</td>\n",
              "      <td>408.6</td>\n",
              "    </tr>\n",
              "    <tr>\n",
              "      <th>143</th>\n",
              "      <td>BarConad</td>\n",
              "      <td>419.7</td>\n",
              "    </tr>\n",
              "    <tr>\n",
              "      <th>32</th>\n",
              "      <td>ENI</td>\n",
              "      <td>441.4</td>\n",
              "    </tr>\n",
              "  </tbody>\n",
              "</table>\n",
              "</div>"
            ],
            "text/plain": [
              "                           name  travel_time_from_train_station\n",
              "96   Bar Stazione Buffet Trento                            42.2\n",
              "253                       Flora                           101.4\n",
              "97              Bar Trento-Malé                           264.7\n",
              "168            Giornale & Caffè                           269.8\n",
              "80            Bar Buonconsiglio                           321.1\n",
              "107             Bar Torre Vanga                           377.0\n",
              "254      Bar Caffetteria Dogana                           383.4\n",
              "138        Caffè Al Tempo Perso                           408.6\n",
              "143                    BarConad                           419.7\n",
              "32                          ENI                           441.4"
            ]
          },
          "metadata": {
            "tags": []
          },
          "execution_count": 57
        }
      ]
    },
    {
      "cell_type": "markdown",
      "metadata": {
        "id": "Hc7FDnURxVS-"
      },
      "source": [
        "## all the bar reachable in 5 minutes from the train station of Trento"
      ]
    },
    {
      "cell_type": "code",
      "metadata": {
        "id": "XXRmGTnqxecI"
      },
      "source": [
        "five_minutes_in_seconds = 5*60"
      ],
      "execution_count": 58,
      "outputs": []
    },
    {
      "cell_type": "code",
      "metadata": {
        "id": "agZgoPEGzhQD",
        "outputId": "ed19c1e5-3837-463a-abf3-e01324540454",
        "colab": {
          "base_uri": "https://localhost:8080/"
        }
      },
      "source": [
        "five_minutes_in_seconds"
      ],
      "execution_count": 59,
      "outputs": [
        {
          "output_type": "execute_result",
          "data": {
            "text/plain": [
              "300"
            ]
          },
          "metadata": {
            "tags": []
          },
          "execution_count": 59
        }
      ]
    },
    {
      "cell_type": "code",
      "metadata": {
        "id": "pyu0Xw-yxqpq"
      },
      "source": [
        "bars_five_minutes_from_train_station = trento_bars[trento_bars.travel_time_from_train_station <= five_minutes_in_seconds]"
      ],
      "execution_count": 60,
      "outputs": []
    },
    {
      "cell_type": "code",
      "metadata": {
        "id": "NfAlw7-IzQCA"
      },
      "source": [
        "bars_five_minutes_from_train_station = bars_five_minutes_from_train_station.sort_values(by=['travel_time_from_train_station'])"
      ],
      "execution_count": 61,
      "outputs": []
    },
    {
      "cell_type": "code",
      "metadata": {
        "id": "4JmNonMGzwVI",
        "outputId": "66738750-3723-4ebf-ce5b-2e0f15aff23d",
        "colab": {
          "base_uri": "https://localhost:8080/",
          "height": 473
        }
      },
      "source": [
        "bars_five_minutes_from_train_station"
      ],
      "execution_count": 62,
      "outputs": [
        {
          "output_type": "execute_result",
          "data": {
            "text/html": [
              "<div>\n",
              "<style scoped>\n",
              "    .dataframe tbody tr th:only-of-type {\n",
              "        vertical-align: middle;\n",
              "    }\n",
              "\n",
              "    .dataframe tbody tr th {\n",
              "        vertical-align: top;\n",
              "    }\n",
              "\n",
              "    .dataframe thead th {\n",
              "        text-align: right;\n",
              "    }\n",
              "</style>\n",
              "<table border=\"1\" class=\"dataframe\">\n",
              "  <thead>\n",
              "    <tr style=\"text-align: right;\">\n",
              "      <th></th>\n",
              "      <th>unique_id</th>\n",
              "      <th>osmid</th>\n",
              "      <th>element_type</th>\n",
              "      <th>addr:city</th>\n",
              "      <th>addr:housenumber</th>\n",
              "      <th>addr:postcode</th>\n",
              "      <th>addr:street</th>\n",
              "      <th>amenity</th>\n",
              "      <th>name</th>\n",
              "      <th>geometry</th>\n",
              "      <th>addr:country</th>\n",
              "      <th>contact:phone</th>\n",
              "      <th>operator</th>\n",
              "      <th>outdoor_seating</th>\n",
              "      <th>ref:vatin</th>\n",
              "      <th>contact:email</th>\n",
              "      <th>wheelchair</th>\n",
              "      <th>fixme</th>\n",
              "      <th>opening_hours</th>\n",
              "      <th>brewery</th>\n",
              "      <th>contact:website</th>\n",
              "      <th>cost:coffee</th>\n",
              "      <th>smoking</th>\n",
              "      <th>source</th>\n",
              "      <th>created_by</th>\n",
              "      <th>addr:number</th>\n",
              "      <th>shop</th>\n",
              "      <th>phone</th>\n",
              "      <th>internet_access</th>\n",
              "      <th>internet_access:fee</th>\n",
              "      <th>surveillance</th>\n",
              "      <th>contact:facebook</th>\n",
              "      <th>contact:tripadvisor</th>\n",
              "      <th>cuisine</th>\n",
              "      <th>contact:mobile</th>\n",
              "      <th>note</th>\n",
              "      <th>website</th>\n",
              "      <th>toilets:wheelchair</th>\n",
              "      <th>alt_name</th>\n",
              "      <th>contact:company</th>\n",
              "      <th>ref:vat_in</th>\n",
              "      <th>contact:name</th>\n",
              "      <th>contact:fax</th>\n",
              "      <th>email</th>\n",
              "      <th>fax</th>\n",
              "      <th>level</th>\n",
              "      <th>wifi</th>\n",
              "      <th>addr:housename</th>\n",
              "      <th>layer</th>\n",
              "      <th>name:en</th>\n",
              "      <th>name:it</th>\n",
              "      <th>diet:vegan</th>\n",
              "      <th>diet:vegetarian</th>\n",
              "      <th>ref:VATIN</th>\n",
              "      <th>ref:vatin_1</th>\n",
              "      <th>entrance</th>\n",
              "      <th>air_conditioning</th>\n",
              "      <th>payment:cash</th>\n",
              "      <th>payment:debit_cards</th>\n",
              "      <th>description</th>\n",
              "      <th>payment:bancomat</th>\n",
              "      <th>payment:coins</th>\n",
              "      <th>payment:notes</th>\n",
              "      <th>operator:addr:city</th>\n",
              "      <th>operator:addr:housenumber</th>\n",
              "      <th>operator:addr:postcode</th>\n",
              "      <th>operator:addr:street</th>\n",
              "      <th>ref:rea</th>\n",
              "      <th>sells:tobacco</th>\n",
              "      <th>nodes</th>\n",
              "      <th>building</th>\n",
              "      <th>haversine_distance_to_train_station</th>\n",
              "      <th>nearest_point_to_graph</th>\n",
              "      <th>route_from_train_station</th>\n",
              "      <th>linestring</th>\n",
              "      <th>travel_time_from_train_station</th>\n",
              "      <th>path_lenght_from_train_station</th>\n",
              "    </tr>\n",
              "  </thead>\n",
              "  <tbody>\n",
              "    <tr>\n",
              "      <th>96</th>\n",
              "      <td>node/867377187</td>\n",
              "      <td>867377187</td>\n",
              "      <td>node</td>\n",
              "      <td>Trento</td>\n",
              "      <td>1</td>\n",
              "      <td>38122</td>\n",
              "      <td>Piazza Dante</td>\n",
              "      <td>bar</td>\n",
              "      <td>Bar Stazione Buffet Trento</td>\n",
              "      <td>POINT (11.11946 46.07250)</td>\n",
              "      <td>IT</td>\n",
              "      <td>NaN</td>\n",
              "      <td>Serenissima Ristorazione SPA</td>\n",
              "      <td>NaN</td>\n",
              "      <td>IT01617950249</td>\n",
              "      <td>NaN</td>\n",
              "      <td>NaN</td>\n",
              "      <td>NaN</td>\n",
              "      <td>NaN</td>\n",
              "      <td>NaN</td>\n",
              "      <td>NaN</td>\n",
              "      <td>NaN</td>\n",
              "      <td>NaN</td>\n",
              "      <td>NaN</td>\n",
              "      <td>NaN</td>\n",
              "      <td>NaN</td>\n",
              "      <td>NaN</td>\n",
              "      <td>NaN</td>\n",
              "      <td>NaN</td>\n",
              "      <td>NaN</td>\n",
              "      <td>NaN</td>\n",
              "      <td>NaN</td>\n",
              "      <td>NaN</td>\n",
              "      <td>NaN</td>\n",
              "      <td>NaN</td>\n",
              "      <td>NaN</td>\n",
              "      <td>NaN</td>\n",
              "      <td>NaN</td>\n",
              "      <td>NaN</td>\n",
              "      <td>NaN</td>\n",
              "      <td>NaN</td>\n",
              "      <td>NaN</td>\n",
              "      <td>NaN</td>\n",
              "      <td>NaN</td>\n",
              "      <td>NaN</td>\n",
              "      <td>NaN</td>\n",
              "      <td>NaN</td>\n",
              "      <td>NaN</td>\n",
              "      <td>NaN</td>\n",
              "      <td>NaN</td>\n",
              "      <td>NaN</td>\n",
              "      <td>NaN</td>\n",
              "      <td>NaN</td>\n",
              "      <td>NaN</td>\n",
              "      <td>NaN</td>\n",
              "      <td>NaN</td>\n",
              "      <td>NaN</td>\n",
              "      <td>NaN</td>\n",
              "      <td>NaN</td>\n",
              "      <td>NaN</td>\n",
              "      <td>NaN</td>\n",
              "      <td>NaN</td>\n",
              "      <td>NaN</td>\n",
              "      <td>NaN</td>\n",
              "      <td>NaN</td>\n",
              "      <td>NaN</td>\n",
              "      <td>NaN</td>\n",
              "      <td>NaN</td>\n",
              "      <td>NaN</td>\n",
              "      <td>NaN</td>\n",
              "      <td>NaN</td>\n",
              "      <td>31.018800</td>\n",
              "      <td>864509648</td>\n",
              "      <td>[2591984564, 885670129, 923132120, 864509648]</td>\n",
              "      <td>LINESTRING (11.1195324 46.0720446, 11.119568 4...</td>\n",
              "      <td>42.2</td>\n",
              "      <td>41.043</td>\n",
              "    </tr>\n",
              "    <tr>\n",
              "      <th>253</th>\n",
              "      <td>way/73089915</td>\n",
              "      <td>73089915</td>\n",
              "      <td>way</td>\n",
              "      <td>Trento</td>\n",
              "      <td>13</td>\n",
              "      <td>NaN</td>\n",
              "      <td>Piazza Dante</td>\n",
              "      <td>bar</td>\n",
              "      <td>Flora</td>\n",
              "      <td>POLYGON ((11.12028 46.07245, 11.12027 46.07241...</td>\n",
              "      <td>NaN</td>\n",
              "      <td>NaN</td>\n",
              "      <td>Sali e Tabacchi Riv. N° 23</td>\n",
              "      <td>NaN</td>\n",
              "      <td>NaN</td>\n",
              "      <td>NaN</td>\n",
              "      <td>NaN</td>\n",
              "      <td>NaN</td>\n",
              "      <td>Mo-Sa 06:00-21:00</td>\n",
              "      <td>NaN</td>\n",
              "      <td>NaN</td>\n",
              "      <td>NaN</td>\n",
              "      <td>NaN</td>\n",
              "      <td>NaN</td>\n",
              "      <td>NaN</td>\n",
              "      <td>NaN</td>\n",
              "      <td>tobacco</td>\n",
              "      <td>NaN</td>\n",
              "      <td>NaN</td>\n",
              "      <td>NaN</td>\n",
              "      <td>NaN</td>\n",
              "      <td>NaN</td>\n",
              "      <td>NaN</td>\n",
              "      <td>NaN</td>\n",
              "      <td>NaN</td>\n",
              "      <td>NaN</td>\n",
              "      <td>NaN</td>\n",
              "      <td>NaN</td>\n",
              "      <td>NaN</td>\n",
              "      <td>NaN</td>\n",
              "      <td>NaN</td>\n",
              "      <td>NaN</td>\n",
              "      <td>NaN</td>\n",
              "      <td>NaN</td>\n",
              "      <td>NaN</td>\n",
              "      <td>NaN</td>\n",
              "      <td>NaN</td>\n",
              "      <td>NaN</td>\n",
              "      <td>NaN</td>\n",
              "      <td>NaN</td>\n",
              "      <td>NaN</td>\n",
              "      <td>NaN</td>\n",
              "      <td>NaN</td>\n",
              "      <td>NaN</td>\n",
              "      <td>NaN</td>\n",
              "      <td>NaN</td>\n",
              "      <td>NaN</td>\n",
              "      <td>NaN</td>\n",
              "      <td>NaN</td>\n",
              "      <td>NaN</td>\n",
              "      <td>NaN</td>\n",
              "      <td>NaN</td>\n",
              "      <td>NaN</td>\n",
              "      <td>NaN</td>\n",
              "      <td>NaN</td>\n",
              "      <td>NaN</td>\n",
              "      <td>NaN</td>\n",
              "      <td>NaN</td>\n",
              "      <td>NaN</td>\n",
              "      <td>[867377189, 867377061, 867377184, 867377320, 8...</td>\n",
              "      <td>yes</td>\n",
              "      <td>79.059449</td>\n",
              "      <td>963740221</td>\n",
              "      <td>[2591984564, 885670129, 1271504902, 877620756,...</td>\n",
              "      <td>LINESTRING (11.1195324 46.0720446, 11.119568 4...</td>\n",
              "      <td>101.4</td>\n",
              "      <td>98.542</td>\n",
              "    </tr>\n",
              "    <tr>\n",
              "      <th>97</th>\n",
              "      <td>node/867377209</td>\n",
              "      <td>867377209</td>\n",
              "      <td>node</td>\n",
              "      <td>Trento</td>\n",
              "      <td>2</td>\n",
              "      <td>38122</td>\n",
              "      <td>Via Dogana</td>\n",
              "      <td>bar</td>\n",
              "      <td>Bar Trento-Malé</td>\n",
              "      <td>POINT (11.12038 46.07375)</td>\n",
              "      <td>IT</td>\n",
              "      <td>+39 0461 239398</td>\n",
              "      <td>Caset Mariarita</td>\n",
              "      <td>NaN</td>\n",
              "      <td>IT01556070223</td>\n",
              "      <td>NaN</td>\n",
              "      <td>NaN</td>\n",
              "      <td>NaN</td>\n",
              "      <td>NaN</td>\n",
              "      <td>NaN</td>\n",
              "      <td>NaN</td>\n",
              "      <td>NaN</td>\n",
              "      <td>NaN</td>\n",
              "      <td>NaN</td>\n",
              "      <td>NaN</td>\n",
              "      <td>NaN</td>\n",
              "      <td>NaN</td>\n",
              "      <td>NaN</td>\n",
              "      <td>NaN</td>\n",
              "      <td>NaN</td>\n",
              "      <td>NaN</td>\n",
              "      <td>NaN</td>\n",
              "      <td>NaN</td>\n",
              "      <td>NaN</td>\n",
              "      <td>NaN</td>\n",
              "      <td>NaN</td>\n",
              "      <td>NaN</td>\n",
              "      <td>NaN</td>\n",
              "      <td>NaN</td>\n",
              "      <td>NaN</td>\n",
              "      <td>NaN</td>\n",
              "      <td>NaN</td>\n",
              "      <td>NaN</td>\n",
              "      <td>NaN</td>\n",
              "      <td>NaN</td>\n",
              "      <td>NaN</td>\n",
              "      <td>NaN</td>\n",
              "      <td>NaN</td>\n",
              "      <td>NaN</td>\n",
              "      <td>NaN</td>\n",
              "      <td>NaN</td>\n",
              "      <td>NaN</td>\n",
              "      <td>NaN</td>\n",
              "      <td>NaN</td>\n",
              "      <td>NaN</td>\n",
              "      <td>NaN</td>\n",
              "      <td>NaN</td>\n",
              "      <td>NaN</td>\n",
              "      <td>NaN</td>\n",
              "      <td>NaN</td>\n",
              "      <td>NaN</td>\n",
              "      <td>NaN</td>\n",
              "      <td>NaN</td>\n",
              "      <td>NaN</td>\n",
              "      <td>NaN</td>\n",
              "      <td>NaN</td>\n",
              "      <td>NaN</td>\n",
              "      <td>NaN</td>\n",
              "      <td>NaN</td>\n",
              "      <td>NaN</td>\n",
              "      <td>NaN</td>\n",
              "      <td>186.932583</td>\n",
              "      <td>941909429</td>\n",
              "      <td>[2591984564, 885670129, 923132120, 864509648, ...</td>\n",
              "      <td>LINESTRING (11.1195324 46.0720446, 11.119568 4...</td>\n",
              "      <td>264.7</td>\n",
              "      <td>257.270</td>\n",
              "    </tr>\n",
              "    <tr>\n",
              "      <th>168</th>\n",
              "      <td>node/1662768545</td>\n",
              "      <td>1662768545</td>\n",
              "      <td>node</td>\n",
              "      <td>Trento</td>\n",
              "      <td>29/1</td>\n",
              "      <td>38122</td>\n",
              "      <td>Via Clementino Vannetti</td>\n",
              "      <td>bar</td>\n",
              "      <td>Giornale &amp; Caffè</td>\n",
              "      <td>POINT (11.12208 46.07266)</td>\n",
              "      <td>IT</td>\n",
              "      <td>NaN</td>\n",
              "      <td>NaN</td>\n",
              "      <td>NaN</td>\n",
              "      <td>NaN</td>\n",
              "      <td>NaN</td>\n",
              "      <td>NaN</td>\n",
              "      <td>NaN</td>\n",
              "      <td>NaN</td>\n",
              "      <td>NaN</td>\n",
              "      <td>NaN</td>\n",
              "      <td>NaN</td>\n",
              "      <td>NaN</td>\n",
              "      <td>NaN</td>\n",
              "      <td>NaN</td>\n",
              "      <td>NaN</td>\n",
              "      <td>NaN</td>\n",
              "      <td>NaN</td>\n",
              "      <td>NaN</td>\n",
              "      <td>NaN</td>\n",
              "      <td>NaN</td>\n",
              "      <td>NaN</td>\n",
              "      <td>NaN</td>\n",
              "      <td>NaN</td>\n",
              "      <td>NaN</td>\n",
              "      <td>NaN</td>\n",
              "      <td>NaN</td>\n",
              "      <td>NaN</td>\n",
              "      <td>NaN</td>\n",
              "      <td>NaN</td>\n",
              "      <td>NaN</td>\n",
              "      <td>NaN</td>\n",
              "      <td>NaN</td>\n",
              "      <td>NaN</td>\n",
              "      <td>NaN</td>\n",
              "      <td>NaN</td>\n",
              "      <td>NaN</td>\n",
              "      <td>NaN</td>\n",
              "      <td>NaN</td>\n",
              "      <td>NaN</td>\n",
              "      <td>NaN</td>\n",
              "      <td>NaN</td>\n",
              "      <td>NaN</td>\n",
              "      <td>NaN</td>\n",
              "      <td>NaN</td>\n",
              "      <td>NaN</td>\n",
              "      <td>NaN</td>\n",
              "      <td>NaN</td>\n",
              "      <td>NaN</td>\n",
              "      <td>NaN</td>\n",
              "      <td>NaN</td>\n",
              "      <td>NaN</td>\n",
              "      <td>NaN</td>\n",
              "      <td>NaN</td>\n",
              "      <td>NaN</td>\n",
              "      <td>NaN</td>\n",
              "      <td>NaN</td>\n",
              "      <td>NaN</td>\n",
              "      <td>NaN</td>\n",
              "      <td>NaN</td>\n",
              "      <td>NaN</td>\n",
              "      <td>218.432987</td>\n",
              "      <td>975288587</td>\n",
              "      <td>[2591984564, 885670129, 1271504902, 877620756,...</td>\n",
              "      <td>LINESTRING (11.1195324 46.0720446, 11.119568 4...</td>\n",
              "      <td>269.8</td>\n",
              "      <td>262.236</td>\n",
              "    </tr>\n",
              "  </tbody>\n",
              "</table>\n",
              "</div>"
            ],
            "text/plain": [
              "           unique_id  ...  path_lenght_from_train_station\n",
              "96    node/867377187  ...                          41.043\n",
              "253     way/73089915  ...                          98.542\n",
              "97    node/867377209  ...                         257.270\n",
              "168  node/1662768545  ...                         262.236\n",
              "\n",
              "[4 rows x 77 columns]"
            ]
          },
          "metadata": {
            "tags": []
          },
          "execution_count": 62
        }
      ]
    },
    {
      "cell_type": "code",
      "metadata": {
        "id": "SGSslyU6z9pf"
      },
      "source": [
        "import datetime"
      ],
      "execution_count": 63,
      "outputs": []
    },
    {
      "cell_type": "code",
      "metadata": {
        "id": "eU8ycd8S7txE"
      },
      "source": [
        "maps = []\n",
        "texts = []\n",
        "for index, row in bars_five_minutes_from_train_station.iterrows():\n",
        "    name = row['name']\n",
        "    travel_time_from_train_station = row['travel_time_from_train_station']\n",
        "    minutes = str(datetime.timedelta(seconds=travel_time_from_train_station))\n",
        "    distance = row['path_lenght_from_train_station']\n",
        "    route = row['route_from_train_station']\n",
        "    text = \"the bar %s is %s meters from the train station and it's reachable in %s minutes\" % (name, str(round(distance)), minutes[3:7])\n",
        "    texts.append(text)\n",
        "    maps.append(ox.plot_route_folium(G,route,popup_attribute='name',tiles='OpenStreetMap'))"
      ],
      "execution_count": 66,
      "outputs": []
    },
    {
      "cell_type": "code",
      "metadata": {
        "id": "hqrDqhI_cIPS",
        "outputId": "66c9487f-b2b0-4732-8f35-87178c12d28a",
        "colab": {
          "base_uri": "https://localhost:8080/"
        }
      },
      "source": [
        "len(maps)"
      ],
      "execution_count": 67,
      "outputs": [
        {
          "output_type": "execute_result",
          "data": {
            "text/plain": [
              "4"
            ]
          },
          "metadata": {
            "tags": []
          },
          "execution_count": 67
        }
      ]
    },
    {
      "cell_type": "code",
      "metadata": {
        "id": "Ns6hDT_HOu2U",
        "outputId": "4a0b490c-4026-4aba-c7f0-03075d42f07d",
        "colab": {
          "base_uri": "https://localhost:8080/",
          "height": 36
        }
      },
      "source": [
        "texts[0]"
      ],
      "execution_count": 68,
      "outputs": [
        {
          "output_type": "execute_result",
          "data": {
            "application/vnd.google.colaboratory.intrinsic+json": {
              "type": "string"
            },
            "text/plain": [
              "\"the bar Bar Stazione Buffet Trento is 41 meters from the train station and it's reachable in 0:42 minutes\""
            ]
          },
          "metadata": {
            "tags": []
          },
          "execution_count": 68
        }
      ]
    },
    {
      "cell_type": "code",
      "metadata": {
        "id": "y2DZx3ubcR8f",
        "outputId": "4cbf8456-7c5c-42a6-9064-df1e28c0be2b",
        "colab": {
          "base_uri": "https://localhost:8080/",
          "height": 36
        }
      },
      "source": [
        "texts[1]"
      ],
      "execution_count": 70,
      "outputs": [
        {
          "output_type": "execute_result",
          "data": {
            "application/vnd.google.colaboratory.intrinsic+json": {
              "type": "string"
            },
            "text/plain": [
              "\"the bar Flora is 99 meters from the train station and it's reachable in 1:41 minutes\""
            ]
          },
          "metadata": {
            "tags": []
          },
          "execution_count": 70
        }
      ]
    },
    {
      "cell_type": "code",
      "metadata": {
        "id": "mySgKcblOOJ7",
        "outputId": "d58854b1-874b-4534-8915-92fb25689009",
        "colab": {
          "base_uri": "https://localhost:8080/",
          "height": 746
        }
      },
      "source": [
        "maps[1]"
      ],
      "execution_count": 71,
      "outputs": [
        {
          "output_type": "execute_result",
          "data": {
            "text/html": [
              "<div style=\"width:100%;\"><div style=\"position:relative;width:100%;height:0;padding-bottom:60%;\"><span style=\"color:#565656\">Make this Notebook Trusted to load map: File -> Trust Notebook</span><iframe src=\"about:blank\" style=\"position:absolute;width:100%;height:100%;left:0;top:0;border:none !important;\" data-html=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 onload=\"this.contentDocument.open();this.contentDocument.write(atob(this.getAttribute('data-html')));this.contentDocument.close();\" allowfullscreen webkitallowfullscreen mozallowfullscreen></iframe></div></div>"
            ],
            "text/plain": [
              "<folium.folium.Map at 0x7fe57efc3518>"
            ]
          },
          "metadata": {
            "tags": []
          },
          "execution_count": 71
        }
      ]
    },
    {
      "cell_type": "code",
      "metadata": {
        "id": "G-6a1LV6PNR7",
        "outputId": "bfe3426f-4e57-4648-c148-d755e5afdf26",
        "colab": {
          "base_uri": "https://localhost:8080/",
          "height": 36
        }
      },
      "source": [
        "texts[2]"
      ],
      "execution_count": 72,
      "outputs": [
        {
          "output_type": "execute_result",
          "data": {
            "application/vnd.google.colaboratory.intrinsic+json": {
              "type": "string"
            },
            "text/plain": [
              "\"the bar Bar Trento-Malé is 257 meters from the train station and it's reachable in 4:24 minutes\""
            ]
          },
          "metadata": {
            "tags": []
          },
          "execution_count": 72
        }
      ]
    },
    {
      "cell_type": "code",
      "metadata": {
        "id": "E_98Np-MOPaB",
        "outputId": "1e50f413-5f39-4044-be88-5460538991cb",
        "colab": {
          "base_uri": "https://localhost:8080/",
          "height": 746
        }
      },
      "source": [
        "maps[2]"
      ],
      "execution_count": 74,
      "outputs": [
        {
          "output_type": "execute_result",
          "data": {
            "text/html": [
              "<div style=\"width:100%;\"><div style=\"position:relative;width:100%;height:0;padding-bottom:60%;\"><span style=\"color:#565656\">Make this Notebook Trusted to load map: File -> Trust Notebook</span><iframe src=\"about:blank\" style=\"position:absolute;width:100%;height:100%;left:0;top:0;border:none !important;\" data-html=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 onload=\"this.contentDocument.open();this.contentDocument.write(atob(this.getAttribute('data-html')));this.contentDocument.close();\" allowfullscreen webkitallowfullscreen mozallowfullscreen></iframe></div></div>"
            ],
            "text/plain": [
              "<folium.folium.Map at 0x7fe57efc12e8>"
            ]
          },
          "metadata": {
            "tags": []
          },
          "execution_count": 74
        }
      ]
    },
    {
      "cell_type": "code",
      "metadata": {
        "id": "UM0vQV4mCNQv",
        "outputId": "65e1c3e0-e0b1-426f-d619-d9405c30b635",
        "colab": {
          "base_uri": "https://localhost:8080/",
          "height": 36
        }
      },
      "source": [
        "texts[3]"
      ],
      "execution_count": 75,
      "outputs": [
        {
          "output_type": "execute_result",
          "data": {
            "application/vnd.google.colaboratory.intrinsic+json": {
              "type": "string"
            },
            "text/plain": [
              "\"the bar Giornale & Caffè is 262 meters from the train station and it's reachable in 4:29 minutes\""
            ]
          },
          "metadata": {
            "tags": []
          },
          "execution_count": 75
        }
      ]
    },
    {
      "cell_type": "code",
      "metadata": {
        "id": "Y-rzz5lMCJGp",
        "outputId": "3c807e11-b4fc-4b9c-c9dc-546ad08961aa",
        "colab": {
          "base_uri": "https://localhost:8080/",
          "height": 746
        }
      },
      "source": [
        "maps[3]"
      ],
      "execution_count": 76,
      "outputs": [
        {
          "output_type": "execute_result",
          "data": {
            "text/html": [
              "<div style=\"width:100%;\"><div style=\"position:relative;width:100%;height:0;padding-bottom:60%;\"><span style=\"color:#565656\">Make this Notebook Trusted to load map: File -> Trust Notebook</span><iframe src=\"about:blank\" style=\"position:absolute;width:100%;height:100%;left:0;top:0;border:none !important;\" data-html=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 onload=\"this.contentDocument.open();this.contentDocument.write(atob(this.getAttribute('data-html')));this.contentDocument.close();\" allowfullscreen webkitallowfullscreen mozallowfullscreen></iframe></div></div>"
            ],
            "text/plain": [
              "<folium.folium.Map at 0x7fe57e923a58>"
            ]
          },
          "metadata": {
            "tags": []
          },
          "execution_count": 76
        }
      ]
    },
    {
      "cell_type": "markdown",
      "metadata": {
        "id": "Q6A61WqMdVJ3"
      },
      "source": [
        "and if you want share the dataset created you can create a geodaframe to select the columns that you want to share\n",
        "\n"
      ]
    },
    {
      "cell_type": "code",
      "metadata": {
        "id": "phYtDUCw_AFH"
      },
      "source": [
        "points = bars_five_minutes_from_train_station[['name','geometry','addr:street','addr:housenumber','addr:city', 'travel_time_from_train_station','path_lenght_from_train_station']].set_geometry(\"geometry\")"
      ],
      "execution_count": 78,
      "outputs": []
    },
    {
      "cell_type": "code",
      "metadata": {
        "id": "pV7w5nw5Jrcs",
        "outputId": "ec486ef3-c443-45db-a3fe-761d1d11eae0",
        "colab": {
          "base_uri": "https://localhost:8080/",
          "height": 262
        }
      },
      "source": [
        "points"
      ],
      "execution_count": 79,
      "outputs": [
        {
          "output_type": "execute_result",
          "data": {
            "text/html": [
              "<div>\n",
              "<style scoped>\n",
              "    .dataframe tbody tr th:only-of-type {\n",
              "        vertical-align: middle;\n",
              "    }\n",
              "\n",
              "    .dataframe tbody tr th {\n",
              "        vertical-align: top;\n",
              "    }\n",
              "\n",
              "    .dataframe thead th {\n",
              "        text-align: right;\n",
              "    }\n",
              "</style>\n",
              "<table border=\"1\" class=\"dataframe\">\n",
              "  <thead>\n",
              "    <tr style=\"text-align: right;\">\n",
              "      <th></th>\n",
              "      <th>name</th>\n",
              "      <th>geometry</th>\n",
              "      <th>addr:street</th>\n",
              "      <th>addr:housenumber</th>\n",
              "      <th>addr:city</th>\n",
              "      <th>travel_time_from_train_station</th>\n",
              "      <th>path_lenght_from_train_station</th>\n",
              "    </tr>\n",
              "  </thead>\n",
              "  <tbody>\n",
              "    <tr>\n",
              "      <th>96</th>\n",
              "      <td>Bar Stazione Buffet Trento</td>\n",
              "      <td>POINT (11.11946 46.07250)</td>\n",
              "      <td>Piazza Dante</td>\n",
              "      <td>1</td>\n",
              "      <td>Trento</td>\n",
              "      <td>42.2</td>\n",
              "      <td>41.043</td>\n",
              "    </tr>\n",
              "    <tr>\n",
              "      <th>253</th>\n",
              "      <td>Flora</td>\n",
              "      <td>POLYGON ((11.12028 46.07245, 11.12027 46.07241...</td>\n",
              "      <td>Piazza Dante</td>\n",
              "      <td>13</td>\n",
              "      <td>Trento</td>\n",
              "      <td>101.4</td>\n",
              "      <td>98.542</td>\n",
              "    </tr>\n",
              "    <tr>\n",
              "      <th>97</th>\n",
              "      <td>Bar Trento-Malé</td>\n",
              "      <td>POINT (11.12038 46.07375)</td>\n",
              "      <td>Via Dogana</td>\n",
              "      <td>2</td>\n",
              "      <td>Trento</td>\n",
              "      <td>264.7</td>\n",
              "      <td>257.270</td>\n",
              "    </tr>\n",
              "    <tr>\n",
              "      <th>168</th>\n",
              "      <td>Giornale &amp; Caffè</td>\n",
              "      <td>POINT (11.12208 46.07266)</td>\n",
              "      <td>Via Clementino Vannetti</td>\n",
              "      <td>29/1</td>\n",
              "      <td>Trento</td>\n",
              "      <td>269.8</td>\n",
              "      <td>262.236</td>\n",
              "    </tr>\n",
              "  </tbody>\n",
              "</table>\n",
              "</div>"
            ],
            "text/plain": [
              "                           name  ... path_lenght_from_train_station\n",
              "96   Bar Stazione Buffet Trento  ...                         41.043\n",
              "253                       Flora  ...                         98.542\n",
              "97              Bar Trento-Malé  ...                        257.270\n",
              "168            Giornale & Caffè  ...                        262.236\n",
              "\n",
              "[4 rows x 7 columns]"
            ]
          },
          "metadata": {
            "tags": []
          },
          "execution_count": 79
        }
      ]
    },
    {
      "cell_type": "code",
      "metadata": {
        "id": "uT5Ron4oJ12V"
      },
      "source": [
        "points['geometry'] = points.geometry.representative_point()"
      ],
      "execution_count": 80,
      "outputs": []
    },
    {
      "cell_type": "code",
      "metadata": {
        "id": "m1swBpxaK_01",
        "outputId": "47365ca8-ce30-487a-af1d-4a4cc18999ae",
        "colab": {
          "base_uri": "https://localhost:8080/",
          "height": 244
        }
      },
      "source": [
        "points"
      ],
      "execution_count": 81,
      "outputs": [
        {
          "output_type": "execute_result",
          "data": {
            "text/html": [
              "<div>\n",
              "<style scoped>\n",
              "    .dataframe tbody tr th:only-of-type {\n",
              "        vertical-align: middle;\n",
              "    }\n",
              "\n",
              "    .dataframe tbody tr th {\n",
              "        vertical-align: top;\n",
              "    }\n",
              "\n",
              "    .dataframe thead th {\n",
              "        text-align: right;\n",
              "    }\n",
              "</style>\n",
              "<table border=\"1\" class=\"dataframe\">\n",
              "  <thead>\n",
              "    <tr style=\"text-align: right;\">\n",
              "      <th></th>\n",
              "      <th>name</th>\n",
              "      <th>geometry</th>\n",
              "      <th>addr:street</th>\n",
              "      <th>addr:housenumber</th>\n",
              "      <th>addr:city</th>\n",
              "      <th>travel_time_from_train_station</th>\n",
              "      <th>path_lenght_from_train_station</th>\n",
              "    </tr>\n",
              "  </thead>\n",
              "  <tbody>\n",
              "    <tr>\n",
              "      <th>96</th>\n",
              "      <td>Bar Stazione Buffet Trento</td>\n",
              "      <td>POINT (11.11946 46.07250)</td>\n",
              "      <td>Piazza Dante</td>\n",
              "      <td>1</td>\n",
              "      <td>Trento</td>\n",
              "      <td>42.2</td>\n",
              "      <td>41.043</td>\n",
              "    </tr>\n",
              "    <tr>\n",
              "      <th>253</th>\n",
              "      <td>Flora</td>\n",
              "      <td>POINT (11.12030 46.07243)</td>\n",
              "      <td>Piazza Dante</td>\n",
              "      <td>13</td>\n",
              "      <td>Trento</td>\n",
              "      <td>101.4</td>\n",
              "      <td>98.542</td>\n",
              "    </tr>\n",
              "    <tr>\n",
              "      <th>97</th>\n",
              "      <td>Bar Trento-Malé</td>\n",
              "      <td>POINT (11.12038 46.07375)</td>\n",
              "      <td>Via Dogana</td>\n",
              "      <td>2</td>\n",
              "      <td>Trento</td>\n",
              "      <td>264.7</td>\n",
              "      <td>257.270</td>\n",
              "    </tr>\n",
              "    <tr>\n",
              "      <th>168</th>\n",
              "      <td>Giornale &amp; Caffè</td>\n",
              "      <td>POINT (11.12208 46.07266)</td>\n",
              "      <td>Via Clementino Vannetti</td>\n",
              "      <td>29/1</td>\n",
              "      <td>Trento</td>\n",
              "      <td>269.8</td>\n",
              "      <td>262.236</td>\n",
              "    </tr>\n",
              "  </tbody>\n",
              "</table>\n",
              "</div>"
            ],
            "text/plain": [
              "                           name  ... path_lenght_from_train_station\n",
              "96   Bar Stazione Buffet Trento  ...                         41.043\n",
              "253                       Flora  ...                         98.542\n",
              "97              Bar Trento-Malé  ...                        257.270\n",
              "168            Giornale & Caffè  ...                        262.236\n",
              "\n",
              "[4 rows x 7 columns]"
            ]
          },
          "metadata": {
            "tags": []
          },
          "execution_count": 81
        }
      ]
    },
    {
      "cell_type": "markdown",
      "metadata": {
        "id": "U-dcaX89d-jx"
      },
      "source": [
        "show the all the points on a map"
      ]
    },
    {
      "cell_type": "code",
      "metadata": {
        "id": "P3dnv_8rLfES"
      },
      "source": [
        "import folium"
      ],
      "execution_count": 84,
      "outputs": []
    },
    {
      "cell_type": "code",
      "metadata": {
        "id": "29jIcx7iLiv7"
      },
      "source": [
        "y = points.geometry.unary_union.centroid.y\n",
        "x = points.geometry.unary_union.centroid.x\n",
        "geojson = points.to_json()"
      ],
      "execution_count": 85,
      "outputs": []
    },
    {
      "cell_type": "code",
      "metadata": {
        "id": "ZPGB17pZLgl5",
        "outputId": "af37f851-a15f-4b17-c53c-af7cee1e9baf",
        "colab": {
          "base_uri": "https://localhost:8080/",
          "height": 746
        }
      },
      "source": [
        "map = folium.Map([y,x], zoom_start=16)\n",
        "folium.GeoJson(geojson).add_to(map)\n",
        "map\n"
      ],
      "execution_count": 86,
      "outputs": [
        {
          "output_type": "execute_result",
          "data": {
            "text/html": [
              "<div style=\"width:100%;\"><div style=\"position:relative;width:100%;height:0;padding-bottom:60%;\"><span style=\"color:#565656\">Make this Notebook Trusted to load map: File -> Trust Notebook</span><iframe src=\"about:blank\" style=\"position:absolute;width:100%;height:100%;left:0;top:0;border:none !important;\" data-html=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 onload=\"this.contentDocument.open();this.contentDocument.write(atob(this.getAttribute('data-html')));this.contentDocument.close();\" allowfullscreen webkitallowfullscreen mozallowfullscreen></iframe></div></div>"
            ],
            "text/plain": [
              "<folium.folium.Map at 0x7fe5861df5f8>"
            ]
          },
          "metadata": {
            "tags": []
          },
          "execution_count": 86
        }
      ]
    },
    {
      "cell_type": "markdown",
      "metadata": {
        "id": "xARZmp7rw-mx"
      },
      "source": [
        "... and create a json to distribute"
      ]
    },
    {
      "cell_type": "code",
      "metadata": {
        "id": "ZUlk2Eu09UM6"
      },
      "source": [
        "points.to_file(\"bar_5_min_to_train_station.geojson\",driver=\"GeoJSON\")"
      ],
      "execution_count": 94,
      "outputs": []
    }
  ]
}