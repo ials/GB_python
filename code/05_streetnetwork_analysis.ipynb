{
  "nbformat": 4,
  "nbformat_minor": 0,
  "metadata": {
    "colab": {
      "name": "05 - streetnetwork analysis",
      "provenance": [],
      "collapsed_sections": [
        "NHeg_tjJoqyF",
        "A2FRZNYj0TeJ"
      ]
    },
    "kernelspec": {
      "name": "python3",
      "display_name": "Python 3"
    }
  },
  "cells": [
    {
      "cell_type": "markdown",
      "metadata": {
        "id": "ttkhwFzffRrn"
      },
      "source": [
        "# Street network Analysis\n",
        "\n",
        "based on osnmx\n",
        "goals of the tutorial\n",
        "\n",
        "- basic concepts of network analysis\n",
        "- routing\n",
        "- bearing\n",
        "\n",
        "based on the open data of:\n",
        "- OpenStreetMap\n",
        "\n",
        "requirements\n",
        "- python knowledge\n",
        "- geopandas\n",
        "- openstreetmap\n",
        "\n",
        "status<br/>\n",
        "*“My Way”*\n",
        "\n",
        "\n",
        "\n",
        "note:<br/>\n",
        "you can also use pandana and the next integration of pyrosm with igraph"
      ]
    },
    {
      "cell_type": "markdown",
      "metadata": {
        "id": "C8Q-0qrYgbGb"
      },
      "source": [
        "---\n",
        "\n",
        "# Setup\n",
        "for this tutorial we will use [OSMnx](https://github.com/gboeing/osmnx) = (openstreetmap + [networkx](https://networkx.org/))\n",
        "\n",
        "Boeing, G. 2017. \"[OSMnx: New Methods for Acquiring, Constructing, Analyzing, and Visualizing Complex Street Networks.](https://geoffboeing.com/publications/osmnx-complex-street-networks/)\" *Computers, Environment and Urban Systems 65, 126-139. doi:10.1016/j.compenvurbsys.2017.05.004*\n",
        "\n",
        "OSMnx need [rtree](https://toblerity.org/rtree/) a python wrapper to [libspatialindex](https://libspatialindex.org/en/latest/)\n",
        "\n",
        "... we need to install libspatialindex if not exists on your OS.\n"
      ]
    },
    {
      "cell_type": "code",
      "metadata": {
        "id": "WiP87wjwPUSF",
        "outputId": "a69af87b-6081-47b4-c05b-cc75a888e904",
        "colab": {
          "base_uri": "https://localhost:8080/",
          "height": 714
        }
      },
      "source": [
        "try:\n",
        "  import rtree\n",
        "except ModuleNotFoundError as e:\n",
        "  !apt-get install libspatialindex-dev\n",
        "  !pip install rtree\n",
        "  import rtree\n"
      ],
      "execution_count": 1,
      "outputs": [
        {
          "output_type": "stream",
          "text": [
            "Reading package lists... Done\n",
            "Building dependency tree       \n",
            "Reading state information... Done\n",
            "The following additional packages will be installed:\n",
            "  libspatialindex-c4v5 libspatialindex4v5\n",
            "The following NEW packages will be installed:\n",
            "  libspatialindex-c4v5 libspatialindex-dev libspatialindex4v5\n",
            "0 upgraded, 3 newly installed, 0 to remove and 21 not upgraded.\n",
            "Need to get 555 kB of archives.\n",
            "After this operation, 3,308 kB of additional disk space will be used.\n",
            "Get:1 http://archive.ubuntu.com/ubuntu bionic/universe amd64 libspatialindex4v5 amd64 1.8.5-5 [219 kB]\n",
            "Get:2 http://archive.ubuntu.com/ubuntu bionic/universe amd64 libspatialindex-c4v5 amd64 1.8.5-5 [51.7 kB]\n",
            "Get:3 http://archive.ubuntu.com/ubuntu bionic/universe amd64 libspatialindex-dev amd64 1.8.5-5 [285 kB]\n",
            "Fetched 555 kB in 1s (688 kB/s)\n",
            "Selecting previously unselected package libspatialindex4v5:amd64.\n",
            "(Reading database ... 144611 files and directories currently installed.)\n",
            "Preparing to unpack .../libspatialindex4v5_1.8.5-5_amd64.deb ...\n",
            "Unpacking libspatialindex4v5:amd64 (1.8.5-5) ...\n",
            "Selecting previously unselected package libspatialindex-c4v5:amd64.\n",
            "Preparing to unpack .../libspatialindex-c4v5_1.8.5-5_amd64.deb ...\n",
            "Unpacking libspatialindex-c4v5:amd64 (1.8.5-5) ...\n",
            "Selecting previously unselected package libspatialindex-dev:amd64.\n",
            "Preparing to unpack .../libspatialindex-dev_1.8.5-5_amd64.deb ...\n",
            "Unpacking libspatialindex-dev:amd64 (1.8.5-5) ...\n",
            "Setting up libspatialindex4v5:amd64 (1.8.5-5) ...\n",
            "Setting up libspatialindex-c4v5:amd64 (1.8.5-5) ...\n",
            "Setting up libspatialindex-dev:amd64 (1.8.5-5) ...\n",
            "Processing triggers for libc-bin (2.27-3ubuntu1.2) ...\n",
            "/sbin/ldconfig.real: /usr/local/lib/python3.6/dist-packages/ideep4py/lib/libmkldnn.so.0 is not a symbolic link\n",
            "\n",
            "Collecting rtree\n",
            "\u001b[?25l  Downloading https://files.pythonhosted.org/packages/56/6f/f1e91001d5ad9fa9bed65875152f5a1c7955c5763168cae309546e6e9fda/Rtree-0.9.4.tar.gz (62kB)\n",
            "\u001b[K     |████████████████████████████████| 71kB 1.4MB/s \n",
            "\u001b[?25hRequirement already satisfied: setuptools in /usr/local/lib/python3.6/dist-packages (from rtree) (50.3.0)\n",
            "Building wheels for collected packages: rtree\n",
            "  Building wheel for rtree (setup.py) ... \u001b[?25l\u001b[?25hdone\n",
            "  Created wheel for rtree: filename=Rtree-0.9.4-cp36-none-any.whl size=21769 sha256=cd7e8702bc36f42191941c478c73c620085b41b7eb5e847a216f690f7d831c1a\n",
            "  Stored in directory: /root/.cache/pip/wheels/ff/20/c5/0004ef7acb96745ec99be960053902b0b414a2aa2dcad5834e\n",
            "Successfully built rtree\n",
            "Installing collected packages: rtree\n",
            "Successfully installed rtree-0.9.4\n"
          ],
          "name": "stdout"
        }
      ]
    },
    {
      "cell_type": "markdown",
      "metadata": {
        "id": "1t6Zquk1is-M"
      },
      "source": [
        "... and now we can install OSMnx"
      ]
    },
    {
      "cell_type": "code",
      "metadata": {
        "id": "FKYqs23OGRsV",
        "outputId": "a1c3c1e7-61ef-430a-df4a-3bd3d1542994",
        "colab": {
          "base_uri": "https://localhost:8080/",
          "height": 527
        }
      },
      "source": [
        "!pip install osmnx"
      ],
      "execution_count": 1,
      "outputs": [
        {
          "output_type": "stream",
          "text": [
            "Requirement already satisfied: osmnx in /usr/local/lib/python3.6/dist-packages (0.16.1)\n",
            "Requirement already satisfied: pandas>=1.1 in /usr/local/lib/python3.6/dist-packages (from osmnx) (1.1.2)\n",
            "Requirement already satisfied: pyproj>=2.6 in /usr/local/lib/python3.6/dist-packages (from osmnx) (2.6.1.post1)\n",
            "Requirement already satisfied: requests>=2.24 in /usr/local/lib/python3.6/dist-packages (from osmnx) (2.24.0)\n",
            "Requirement already satisfied: Rtree>=0.9 in /usr/local/lib/python3.6/dist-packages (from osmnx) (0.9.4)\n",
            "Requirement already satisfied: Shapely>=1.7 in /usr/local/lib/python3.6/dist-packages (from osmnx) (1.7.1)\n",
            "Requirement already satisfied: geopandas>=0.8 in /usr/local/lib/python3.6/dist-packages (from osmnx) (0.8.1)\n",
            "Requirement already satisfied: numpy>=1.19 in /usr/local/lib/python3.6/dist-packages (from osmnx) (1.19.2)\n",
            "Requirement already satisfied: descartes>=1.1 in /usr/local/lib/python3.6/dist-packages (from osmnx) (1.1.0)\n",
            "Requirement already satisfied: networkx>=2.5 in /usr/local/lib/python3.6/dist-packages (from osmnx) (2.5)\n",
            "Requirement already satisfied: matplotlib>=3.3 in /usr/local/lib/python3.6/dist-packages (from osmnx) (3.3.2)\n",
            "Requirement already satisfied: pytz>=2017.2 in /usr/local/lib/python3.6/dist-packages (from pandas>=1.1->osmnx) (2018.9)\n",
            "Requirement already satisfied: python-dateutil>=2.7.3 in /usr/local/lib/python3.6/dist-packages (from pandas>=1.1->osmnx) (2.8.1)\n",
            "Requirement already satisfied: urllib3!=1.25.0,!=1.25.1,<1.26,>=1.21.1 in /usr/local/lib/python3.6/dist-packages (from requests>=2.24->osmnx) (1.24.3)\n",
            "Requirement already satisfied: chardet<4,>=3.0.2 in /usr/local/lib/python3.6/dist-packages (from requests>=2.24->osmnx) (3.0.4)\n",
            "Requirement already satisfied: certifi>=2017.4.17 in /usr/local/lib/python3.6/dist-packages (from requests>=2.24->osmnx) (2020.6.20)\n",
            "Requirement already satisfied: idna<3,>=2.5 in /usr/local/lib/python3.6/dist-packages (from requests>=2.24->osmnx) (2.10)\n",
            "Requirement already satisfied: setuptools in /usr/local/lib/python3.6/dist-packages (from Rtree>=0.9->osmnx) (50.3.0)\n",
            "Requirement already satisfied: fiona in /usr/local/lib/python3.6/dist-packages (from geopandas>=0.8->osmnx) (1.8.17)\n",
            "Requirement already satisfied: decorator>=4.3.0 in /usr/local/lib/python3.6/dist-packages (from networkx>=2.5->osmnx) (4.4.2)\n",
            "Requirement already satisfied: cycler>=0.10 in /usr/local/lib/python3.6/dist-packages (from matplotlib>=3.3->osmnx) (0.10.0)\n",
            "Requirement already satisfied: pyparsing!=2.0.4,!=2.1.2,!=2.1.6,>=2.0.3 in /usr/local/lib/python3.6/dist-packages (from matplotlib>=3.3->osmnx) (2.4.7)\n",
            "Requirement already satisfied: pillow>=6.2.0 in /usr/local/lib/python3.6/dist-packages (from matplotlib>=3.3->osmnx) (7.0.0)\n",
            "Requirement already satisfied: kiwisolver>=1.0.1 in /usr/local/lib/python3.6/dist-packages (from matplotlib>=3.3->osmnx) (1.2.0)\n",
            "Requirement already satisfied: six>=1.5 in /usr/local/lib/python3.6/dist-packages (from python-dateutil>=2.7.3->pandas>=1.1->osmnx) (1.15.0)\n",
            "Requirement already satisfied: cligj>=0.5 in /usr/local/lib/python3.6/dist-packages (from fiona->geopandas>=0.8->osmnx) (0.7.0)\n",
            "Requirement already satisfied: click<8,>=4.0 in /usr/local/lib/python3.6/dist-packages (from fiona->geopandas>=0.8->osmnx) (7.1.2)\n",
            "Requirement already satisfied: attrs>=17 in /usr/local/lib/python3.6/dist-packages (from fiona->geopandas>=0.8->osmnx) (20.2.0)\n",
            "Requirement already satisfied: munch in /usr/local/lib/python3.6/dist-packages (from fiona->geopandas>=0.8->osmnx) (2.5.0)\n",
            "Requirement already satisfied: click-plugins>=1.0 in /usr/local/lib/python3.6/dist-packages (from fiona->geopandas>=0.8->osmnx) (1.1.1)\n"
          ],
          "name": "stdout"
        }
      ]
    },
    {
      "cell_type": "markdown",
      "metadata": {
        "id": "KxDaCXdgmYBw"
      },
      "source": [
        "Note: in the case of Colab you neet to restart the runtime (CTRL+M . ) and start from the next line (CTRL+F10)"
      ]
    },
    {
      "cell_type": "markdown",
      "metadata": {
        "id": "Y2GvVF2siy20"
      },
      "source": [
        "# Let’s start with OSMnx\n"
      ]
    },
    {
      "cell_type": "code",
      "metadata": {
        "id": "zmhd0mmjQKQl"
      },
      "source": [
        "import osmnx as ox"
      ],
      "execution_count": 2,
      "outputs": []
    },
    {
      "cell_type": "markdown",
      "metadata": {
        "id": "bndTwCe4jqxJ"
      },
      "source": [
        "## prepare the data"
      ]
    },
    {
      "cell_type": "markdown",
      "metadata": {
        "id": "5ZbL9HmEi8SX"
      },
      "source": [
        "... we can choose the same city used on the last tutorial \n",
        "\n",
        "[Mezzolombardo in Italy](https://www.openstreetmap.org/relation/46989#map=13/46.2067/11.1035)"
      ]
    },
    {
      "cell_type": "code",
      "metadata": {
        "id": "THWD9QKxQEQB"
      },
      "source": [
        "place_name = \"Mezzolombardo, Italy\""
      ],
      "execution_count": 3,
      "outputs": []
    },
    {
      "cell_type": "markdown",
      "metadata": {
        "id": "jIL94Y59jbmi"
      },
      "source": [
        ".. and we can extract all the streets where it's possible to drive\n",
        "\n",
        "OSMnx creates a overpass query to ask the data inside the area of name of the city and collect all the [highways](https://wiki.openstreetmap.org/wiki/Key:highway) where a car can move\n",
        "\n",
        "Eg.<br/>\n",
        "http://overpass-turbo.eu/s/Zid\n",
        "\n",
        "![](https://raw.githubusercontent.com/napo/geospatial_course_unitn/master/images/mezzolombardo_streets.png)"
      ]
    },
    {
      "cell_type": "code",
      "metadata": {
        "id": "At16FCWGQJCx"
      },
      "source": [
        "G = ox.graph_from_place(place_name, network_type='drive')"
      ],
      "execution_count": 4,
      "outputs": []
    },
    {
      "cell_type": "markdown",
      "metadata": {
        "id": "Dp5yhSyhn7aT"
      },
      "source": [
        "OSMnx transform the data from OpenStreetMap in [graph](https://networkx.org/documentation/stable/reference/introduction.html#graphs) for [networkx](https://networkx.org/)"
      ]
    },
    {
      "cell_type": "markdown",
      "metadata": {
        "id": "NHeg_tjJoqyF"
      },
      "source": [
        "# Graph Theory\n",
        "text from [wikipedia](https://en.wikipedia.org/wiki/Graph_theory)\n",
        "\n",
        "\n",
        "\n",
        "A graph is made up of **vertices** (also called *nodes* or *points*) which are connected by **edges** (also called *links* or *lines*)\n",
        "\n",
        "A distinction is made between undirected graphs, where edges link two vertices symmetrically, and directed graphs, where edges link two vertices asymmetrically;\n",
        "\n",
        "![](https://upload.wikimedia.org/wikipedia/commons/thumb/b/bf/Undirected.svg/267px-Undirected.svg.png)\n",
        "\n",
        "Example<br/>\n",
        "undirected graph with three nodes and three edges. \n",
        "\n",
        "![](https://upload.wikimedia.org/wikipedia/commons/thumb/a/a2/Directed.svg/267px-Directed.svg.png)\n",
        "\n",
        "Example<br/>\n",
        "a directed graph with three vertices and four directed edges<br/>(the double arrow represents an edge in each direction).\n"
      ]
    },
    {
      "cell_type": "markdown",
      "metadata": {
        "id": "O9cQsOR_sXBU"
      },
      "source": [
        "the type of graph generated by OSMnx is a MultiDiGraph: a directed graphs with self loops and parallel edges\n",
        "\n",
        "more information [here](https://networkx.org/documentation/stable/reference/classes/multidigraph.html)"
      ]
    },
    {
      "cell_type": "code",
      "metadata": {
        "id": "JG0psQ3Xn335",
        "outputId": "4608506d-d57d-4570-ee2b-3c9fc1579c75",
        "colab": {
          "base_uri": "https://localhost:8080/",
          "height": 0
        }
      },
      "source": [
        "type(G)"
      ],
      "execution_count": 5,
      "outputs": [
        {
          "output_type": "execute_result",
          "data": {
            "text/plain": [
              "networkx.classes.multidigraph.MultiDiGraph"
            ]
          },
          "metadata": {
            "tags": []
          },
          "execution_count": 5
        }
      ]
    },
    {
      "cell_type": "markdown",
      "metadata": {
        "id": "dmSkc2V31JW0"
      },
      "source": [
        "OSMnx converts the graph from latitude/longitude (WGS83) to the righe UTM coordinate reference system for the area selected"
      ]
    },
    {
      "cell_type": "code",
      "metadata": {
        "id": "Tp2RJa7Q1je3"
      },
      "source": [
        "G_proj = ox.project_graph(G)"
      ],
      "execution_count": 6,
      "outputs": []
    },
    {
      "cell_type": "markdown",
      "metadata": {
        "id": "naImI2vx1uI5"
      },
      "source": [
        "from osmnx you can create geodataframes (gdfs) from a netxworkx Graph"
      ]
    },
    {
      "cell_type": "code",
      "metadata": {
        "id": "uvZ_GuuB5tyn"
      },
      "source": [
        "gdfs = ox.graph_to_gdfs(G_proj)"
      ],
      "execution_count": 7,
      "outputs": []
    },
    {
      "cell_type": "code",
      "metadata": {
        "id": "JIkm4uWl5--4",
        "outputId": "02cbd5d3-7ca4-438d-cd06-466c636f4972",
        "colab": {
          "base_uri": "https://localhost:8080/",
          "height": 0
        }
      },
      "source": [
        "type(gdfs)"
      ],
      "execution_count": 8,
      "outputs": [
        {
          "output_type": "execute_result",
          "data": {
            "text/plain": [
              "tuple"
            ]
          },
          "metadata": {
            "tags": []
          },
          "execution_count": 8
        }
      ]
    },
    {
      "cell_type": "markdown",
      "metadata": {
        "id": "uw00012f6WGp"
      },
      "source": [
        "0 => nodes (points)<br/>\n",
        "1 => edges (lines)"
      ]
    },
    {
      "cell_type": "code",
      "metadata": {
        "id": "UwOING-B6IMi",
        "outputId": "4bfae74b-8f41-42a2-960b-e2f0660bbe71",
        "colab": {
          "base_uri": "https://localhost:8080/",
          "height": 0
        }
      },
      "source": [
        "type(gdfs[0])"
      ],
      "execution_count": 9,
      "outputs": [
        {
          "output_type": "execute_result",
          "data": {
            "text/plain": [
              "geopandas.geodataframe.GeoDataFrame"
            ]
          },
          "metadata": {
            "tags": []
          },
          "execution_count": 9
        }
      ]
    },
    {
      "cell_type": "code",
      "metadata": {
        "id": "_gsWAuLK6Nhs",
        "outputId": "6a10f457-5fe9-4b0f-fcce-3b6d7070edd5",
        "colab": {
          "base_uri": "https://localhost:8080/",
          "height": 0
        }
      },
      "source": [
        "gdfs[0].geometry.type.unique()"
      ],
      "execution_count": 10,
      "outputs": [
        {
          "output_type": "execute_result",
          "data": {
            "text/plain": [
              "array(['Point'], dtype=object)"
            ]
          },
          "metadata": {
            "tags": []
          },
          "execution_count": 10
        }
      ]
    },
    {
      "cell_type": "code",
      "metadata": {
        "id": "vQR0vxXB6GaY",
        "outputId": "9aa562d8-20c5-433b-baf3-e1322e2db718",
        "colab": {
          "base_uri": "https://localhost:8080/",
          "height": 0
        }
      },
      "source": [
        "gdfs[1].geometry.type.unique()"
      ],
      "execution_count": 11,
      "outputs": [
        {
          "output_type": "execute_result",
          "data": {
            "text/plain": [
              "array(['LineString'], dtype=object)"
            ]
          },
          "metadata": {
            "tags": []
          },
          "execution_count": 11
        }
      ]
    },
    {
      "cell_type": "markdown",
      "metadata": {
        "id": "nrUNCtq160P3"
      },
      "source": [
        "extract only the nodes (projected)\n"
      ]
    },
    {
      "cell_type": "code",
      "metadata": {
        "id": "iEBrfL9A1tYc"
      },
      "source": [
        "nodes_proj = ox.graph_to_gdfs(G_proj, edges=False)"
      ],
      "execution_count": 12,
      "outputs": []
    },
    {
      "cell_type": "code",
      "metadata": {
        "id": "ld_lGHGn2A-c",
        "outputId": "6a7ca93d-ab76-4c87-9c99-705e97f75e9b",
        "colab": {
          "base_uri": "https://localhost:8080/",
          "height": 0
        }
      },
      "source": [
        "type(nodes_proj)"
      ],
      "execution_count": 13,
      "outputs": [
        {
          "output_type": "execute_result",
          "data": {
            "text/plain": [
              "geopandas.geodataframe.GeoDataFrame"
            ]
          },
          "metadata": {
            "tags": []
          },
          "execution_count": 13
        }
      ]
    },
    {
      "cell_type": "code",
      "metadata": {
        "id": "Nn_s7N0d2Ds_",
        "outputId": "aa357640-f829-405e-d50e-6ac8deec91c6",
        "colab": {
          "base_uri": "https://localhost:8080/",
          "height": 0
        }
      },
      "source": [
        "nodes_proj.crs"
      ],
      "execution_count": 14,
      "outputs": [
        {
          "output_type": "execute_result",
          "data": {
            "text/plain": [
              "<Projected CRS: +proj=utm +zone=32 +ellps=WGS84 +datum=WGS84 +unit ...>\n",
              "Name: unknown\n",
              "Axis Info [cartesian]:\n",
              "- E[east]: Easting (metre)\n",
              "- N[north]: Northing (metre)\n",
              "Area of Use:\n",
              "- undefined\n",
              "Coordinate Operation:\n",
              "- name: UTM zone 32N\n",
              "- method: Transverse Mercator\n",
              "Datum: World Geodetic System 1984\n",
              "- Ellipsoid: WGS 84\n",
              "- Prime Meridian: Greenwich"
            ]
          },
          "metadata": {
            "tags": []
          },
          "execution_count": 14
        }
      ]
    },
    {
      "cell_type": "code",
      "metadata": {
        "id": "XPJT-jCA19PB",
        "outputId": "25327900-26c0-48a1-f013-88c3818dfddd",
        "colab": {
          "base_uri": "https://localhost:8080/",
          "height": 0
        }
      },
      "source": [
        "nodes_proj.plot()"
      ],
      "execution_count": 15,
      "outputs": [
        {
          "output_type": "execute_result",
          "data": {
            "text/plain": [
              "<AxesSubplot:>"
            ]
          },
          "metadata": {
            "tags": []
          },
          "execution_count": 15
        },
        {
          "output_type": "display_data",
          "data": {
            "image/png": "[encoded data removed]",
            "text/plain": [
              "<Figure size 432x288 with 1 Axes>"
            ]
          },
          "metadata": {
            "tags": [],
            "needs_background": "light"
          }
        }
      ]
    },
    {
      "cell_type": "code",
      "metadata": {
        "id": "WxYCR2-12QeK"
      },
      "source": [
        "lines_proj = ox.graph_to_gdfs(G_proj, nodes=False)"
      ],
      "execution_count": 16,
      "outputs": []
    },
    {
      "cell_type": "code",
      "metadata": {
        "id": "degGWPfv2W9e",
        "outputId": "6d12a0a4-b398-4091-9782-7d4953510ef7",
        "colab": {
          "base_uri": "https://localhost:8080/",
          "height": 0
        }
      },
      "source": [
        "lines_proj.plot()"
      ],
      "execution_count": 17,
      "outputs": [
        {
          "output_type": "execute_result",
          "data": {
            "text/plain": [
              "<AxesSubplot:>"
            ]
          },
          "metadata": {
            "tags": []
          },
          "execution_count": 17
        },
        {
          "output_type": "display_data",
          "data": {
            "image/png": "[encoded data removed]",
            "text/plain": [
              "<Figure size 432x288 with 1 Axes>"
            ]
          },
          "metadata": {
            "tags": [],
            "needs_background": "light"
          }
        }
      ]
    },
    {
      "cell_type": "markdown",
      "metadata": {
        "id": "iM5G7KhW21QO"
      },
      "source": [
        "... and we can use it as a normal geodaframe<br/>\n",
        "\n",
        "Eg:<br/>\n",
        "what sized area does our network cover in square meters?"
      ]
    },
    {
      "cell_type": "code",
      "metadata": {
        "id": "eg_vjmSDkUrn",
        "outputId": "9a261b20-1548-4844-ae42-d01f460ed5ca",
        "colab": {
          "base_uri": "https://localhost:8080/",
          "height": 0
        }
      },
      "source": [
        "graph_area_m = nodes_proj.unary_union.convex_hull.area\n",
        "graph_area_m"
      ],
      "execution_count": 18,
      "outputs": [
        {
          "output_type": "execute_result",
          "data": {
            "text/plain": [
              "7185574.137222286"
            ]
          },
          "metadata": {
            "tags": []
          },
          "execution_count": 18
        }
      ]
    },
    {
      "cell_type": "markdown",
      "metadata": {
        "id": "zS_kdss83GxN"
      },
      "source": [
        "with OSMnx we can extract some basic statistics "
      ]
    },
    {
      "cell_type": "code",
      "metadata": {
        "id": "qkQoJZ94kbiI",
        "outputId": "0e7a4ceb-fd4a-4416-def1-a65f14cb892e",
        "colab": {
          "base_uri": "https://localhost:8080/",
          "height": 0
        }
      },
      "source": [
        "ox.basic_stats(G_proj, area=graph_area_m, clean_intersects=True, circuity_dist='euclidean')"
      ],
      "execution_count": 19,
      "outputs": [
        {
          "output_type": "execute_result",
          "data": {
            "text/plain": [
              "{'circuity_avg': 1.064879568258031,\n",
              " 'clean_intersection_count': 122,\n",
              " 'clean_intersection_density_km': 16.978462356685295,\n",
              " 'edge_density_km': 9583.241044482424,\n",
              " 'edge_length_avg': 125.6589215328467,\n",
              " 'edge_length_total': 68861.08899999999,\n",
              " 'intersection_count': 193,\n",
              " 'intersection_density_km': 26.859370777379198,\n",
              " 'k_avg': 4.264591439688716,\n",
              " 'm': 548,\n",
              " 'n': 257,\n",
              " 'node_density_km': 35.76610512842722,\n",
              " 'self_loop_proportion': 0.0,\n",
              " 'street_density_km': 5705.753251868747,\n",
              " 'street_length_avg': 127.72309345794399,\n",
              " 'street_length_total': 40999.11300000002,\n",
              " 'street_segments_count': 321,\n",
              " 'streets_per_node_avg': 2.5486381322957197,\n",
              " 'streets_per_node_counts': {0: 0, 1: 64, 2: 1, 3: 179, 4: 13},\n",
              " 'streets_per_node_proportion': {0: 0.0,\n",
              "  1: 0.2490272373540856,\n",
              "  2: 0.0038910505836575876,\n",
              "  3: 0.6964980544747081,\n",
              "  4: 0.05058365758754864}}"
            ]
          },
          "metadata": {
            "tags": []
          },
          "execution_count": 19
        }
      ]
    },
    {
      "cell_type": "markdown",
      "metadata": {
        "id": "UVSjpGHT3Sx7"
      },
      "source": [
        ".. or simple plot directly the graph"
      ]
    },
    {
      "cell_type": "markdown",
      "metadata": {
        "id": "9OPw8PKu3YGh"
      },
      "source": [
        "or have more complex statitics based on the graph theory"
      ]
    },
    {
      "cell_type": "code",
      "metadata": {
        "id": "w2BT7FnVkkez",
        "outputId": "0c81825c-496e-4ecb-d5a0-6c9eaa810eb5",
        "colab": {
          "base_uri": "https://localhost:8080/",
          "height": 0
        }
      },
      "source": [
        "more_stats = ox.extended_stats(G, ecc=True, bc=True, cc=True)\n",
        "for key in sorted(more_stats.keys()):\n",
        "    print(key)"
      ],
      "execution_count": 20,
      "outputs": [
        {
          "output_type": "stream",
          "text": [
            "avg_neighbor_degree\n",
            "avg_neighbor_degree_avg\n",
            "avg_weighted_neighbor_degree\n",
            "avg_weighted_neighbor_degree_avg\n",
            "betweenness_centrality\n",
            "betweenness_centrality_avg\n",
            "center\n",
            "closeness_centrality\n",
            "closeness_centrality_avg\n",
            "clustering_coefficient\n",
            "clustering_coefficient_avg\n",
            "clustering_coefficient_weighted\n",
            "clustering_coefficient_weighted_avg\n",
            "degree_centrality\n",
            "degree_centrality_avg\n",
            "diameter\n",
            "eccentricity\n",
            "pagerank\n",
            "pagerank_max\n",
            "pagerank_max_node\n",
            "pagerank_min\n",
            "pagerank_min_node\n",
            "periphery\n",
            "radius\n"
          ],
          "name": "stdout"
        }
      ]
    },
    {
      "cell_type": "markdown",
      "metadata": {
        "id": "A2FRZNYj0TeJ"
      },
      "source": [
        "## Glossary of the terms used by the statistics\n",
        "\n",
        "For a complete list look the [networkx documentation](https://networkx.org/documentation/stable/)\n",
        "\n",
        "- **density**<br/>defines the density of a graph. The density is 0 for a graph without edges and 1 for a complete graph. The density of multigraphs can be higher than 1.\n",
        "- **center**<br/>is the set of points with eccentricity equal to radius.\n",
        "- **betwnees centrality**<br/>is the number of possible interactions between two non-adjacent points\n",
        "- **closeness centrality**<br/>is the average distance of a point from all the others\n",
        "- **clustering coefficient**<br/>the measure of the degree to which points in a graph tend to cluster together\n",
        "- **degree centrality**<br/>the number of lines incident upon a point \n",
        "- **eccentricity** <br/>the eccentricity of a point in a graph is defined as the length of a longest shortest path starting at that point\n",
        "- **diameter**<br/>the maximum eccentricity\n",
        "- **edge connectivity**<br/>\n",
        "is equal to the minimum number of edges that must be removed to disconnect a graph or render it trivial.\n",
        "- **node connectivity**<br/>\n",
        "is equal to the minimum number of points that must be removed to disconnect a graph or render it trivial.\n",
        "- **pagerank**<br/>\n",
        "computes a ranking of the nodes (points) in a graph based on the structure of the incoming links (lines). It was originally designed as an algorithm to rank web pages.\n",
        "**periphery**<br/>is the set of nodes with eccentricity equal to the diameter\n",
        "**radius**<br/>is the minimum eccentricity."
      ]
    },
    {
      "cell_type": "markdown",
      "metadata": {
        "id": "bOvabKfmkRES"
      },
      "source": [
        "... and we can plot the map"
      ]
    },
    {
      "cell_type": "code",
      "metadata": {
        "id": "m7rlu90kj36z",
        "outputId": "852bf021-2173-40c6-f37b-5eac73030d17",
        "colab": {
          "base_uri": "https://localhost:8080/",
          "height": 0
        }
      },
      "source": [
        "fig, ax = ox.plot_graph(G)"
      ],
      "execution_count": 21,
      "outputs": [
        {
          "output_type": "display_data",
          "data": {
            "image/png": "[encoded data removed]",
            "text/plain": [
              "<Figure size 576x576 with 1 Axes>"
            ]
          },
          "metadata": {
            "tags": []
          }
        }
      ]
    },
    {
      "cell_type": "code",
      "metadata": {
        "id": "rcNmsINr47CI"
      },
      "source": [
        "import networkx as nx"
      ],
      "execution_count": 22,
      "outputs": []
    },
    {
      "cell_type": "code",
      "metadata": {
        "id": "_k-Qsj_JknoA"
      },
      "source": [
        "# convert graph to line graph so edges become nodes and vice versa\n",
        "edge_centrality = nx.closeness_centrality(nx.line_graph(G))\n",
        "nx.set_edge_attributes(G, edge_centrality, 'edge_centrality')"
      ],
      "execution_count": 23,
      "outputs": []
    },
    {
      "cell_type": "code",
      "metadata": {
        "id": "f5CxW3_Hkyi1",
        "outputId": "c09830d0-0b0b-415a-cc3e-7c69b94a93f6",
        "colab": {
          "base_uri": "https://localhost:8080/",
          "height": 0
        }
      },
      "source": [
        "# color edges in original graph with closeness centralities from line graph\n",
        "ec = ox.plot.get_edge_colors_by_attr(G, 'edge_centrality', cmap='inferno')\n",
        "fig, ax = ox.plot_graph(G, edge_color=ec, edge_linewidth=2, node_size=0)"
      ],
      "execution_count": 24,
      "outputs": [
        {
          "output_type": "display_data",
          "data": {
            "image/png": "[encoded data removed]",
            "text/plain": [
              "<Figure size 576x576 with 1 Axes>"
            ]
          },
          "metadata": {
            "tags": []
          }
        }
      ]
    },
    {
      "cell_type": "markdown",
      "metadata": {
        "id": "rUhqJ9BQ9Lp6"
      },
      "source": [
        "# Find the shortest path between 2 points by minimizing travel time\n"
      ]
    },
    {
      "cell_type": "markdown",
      "metadata": {
        "id": "vD0FRjqi9eCO"
      },
      "source": [
        "## calculate the travel time for each edge"
      ]
    },
    {
      "cell_type": "markdown",
      "metadata": {
        "id": "H73lI5C5f_7f"
      },
      "source": [
        "### define the origin and destination\n",
        "\n",
        "... for exampe the highschool and the train stationg of Mezzolombardo\n"
      ]
    },
    {
      "cell_type": "markdown",
      "metadata": {
        "id": "gRBh6OXuVXjr"
      },
      "source": [
        "**highschool**\n",
        "\n",
        "https://www.openstreetmap.org/?mlat=46.21751&mlon=11.09344#map=17/46.21751/11.09344\n",
        "\n",
        "lat: 46.21751<br/>\n",
        "lon: 11.09344\n",
        "\n",
        "\n",
        "**train station**\n",
        "\n",
        "https://www.openstreetmap.org/?mlat=46.2133&mlon=11.0934#map=16/46.2133/11.0934\n",
        "\n",
        "lat: 46.2133<br/>\n",
        "lon: 11.0934\n",
        "\n",
        "\n",
        "\n"
      ]
    },
    {
      "cell_type": "markdown",
      "metadata": {
        "id": "DqsnF49zWGFv"
      },
      "source": [
        "### map matcher\n",
        "\n",
        "thes two points are NOT on the graph.\n",
        "\n",
        "We need to find the nodes nearest"
      ]
    },
    {
      "cell_type": "code",
      "metadata": {
        "id": "CsYbAwvUaG4j"
      },
      "source": [
        "point_school =  (46.21751, 11.09344)\n",
        "point_trainstation = (46.2133, 11.0934)"
      ],
      "execution_count": 25,
      "outputs": []
    },
    {
      "cell_type": "code",
      "metadata": {
        "id": "2GxNbeGhk-_X"
      },
      "source": [
        "point_nearest_school = ox.get_nearest_node(G, point_school)\n",
        "point_nearest_trainstation = ox.get_nearest_node(G, point_trainstation)"
      ],
      "execution_count": 26,
      "outputs": []
    },
    {
      "cell_type": "markdown",
      "metadata": {
        "id": "fwovP9D1g2QD"
      },
      "source": [
        "### calculate the time to walk over each edges"
      ]
    },
    {
      "cell_type": "code",
      "metadata": {
        "id": "lNXksVN1f5Jn"
      },
      "source": [
        "G = ox.graph_from_place(place_name, network_type='walk')"
      ],
      "execution_count": 27,
      "outputs": []
    },
    {
      "cell_type": "code",
      "metadata": {
        "id": "f8UV8aYCkzah"
      },
      "source": [
        "G = ox.add_edge_speeds(G)\n",
        "G = ox.add_edge_travel_times(G)"
      ],
      "execution_count": 28,
      "outputs": []
    },
    {
      "cell_type": "markdown",
      "metadata": {
        "id": "EicxLIf6g9fC"
      },
      "source": [
        "... geopandas investigation"
      ]
    },
    {
      "cell_type": "code",
      "metadata": {
        "id": "jvyLWvjr5Ggs"
      },
      "source": [
        "edges = ox.graph_to_gdfs(G,edges=True,nodes=False)"
      ],
      "execution_count": 29,
      "outputs": []
    },
    {
      "cell_type": "code",
      "metadata": {
        "id": "uJRVW3kY5bbv",
        "outputId": "15a69de4-f01e-4298-c56d-2e1539820ed9",
        "colab": {
          "base_uri": "https://localhost:8080/",
          "height": 244
        }
      },
      "source": [
        "edges.head(3)"
      ],
      "execution_count": 30,
      "outputs": [
        {
          "output_type": "execute_result",
          "data": {
            "text/html": [
              "<div>\n",
              "<style scoped>\n",
              "    .dataframe tbody tr th:only-of-type {\n",
              "        vertical-align: middle;\n",
              "    }\n",
              "\n",
              "    .dataframe tbody tr th {\n",
              "        vertical-align: top;\n",
              "    }\n",
              "\n",
              "    .dataframe thead th {\n",
              "        text-align: right;\n",
              "    }\n",
              "</style>\n",
              "<table border=\"1\" class=\"dataframe\">\n",
              "  <thead>\n",
              "    <tr style=\"text-align: right;\">\n",
              "      <th></th>\n",
              "      <th>osmid</th>\n",
              "      <th>ref</th>\n",
              "      <th>name</th>\n",
              "      <th>highway</th>\n",
              "      <th>maxspeed</th>\n",
              "      <th>oneway</th>\n",
              "      <th>length</th>\n",
              "      <th>speed_kph</th>\n",
              "      <th>travel_time</th>\n",
              "      <th>geometry</th>\n",
              "      <th>service</th>\n",
              "      <th>junction</th>\n",
              "      <th>bridge</th>\n",
              "      <th>access</th>\n",
              "      <th>tunnel</th>\n",
              "      <th>u</th>\n",
              "      <th>v</th>\n",
              "      <th>key</th>\n",
              "    </tr>\n",
              "  </thead>\n",
              "  <tbody>\n",
              "    <tr>\n",
              "      <th>0</th>\n",
              "      <td>30275775</td>\n",
              "      <td>SS43</td>\n",
              "      <td>Strada Statale della Val di Non</td>\n",
              "      <td>secondary</td>\n",
              "      <td>50</td>\n",
              "      <td>False</td>\n",
              "      <td>33.870</td>\n",
              "      <td>50.0</td>\n",
              "      <td>2.4</td>\n",
              "      <td>LINESTRING (11.10212 46.20870, 11.10256 46.20868)</td>\n",
              "      <td>NaN</td>\n",
              "      <td>NaN</td>\n",
              "      <td>NaN</td>\n",
              "      <td>NaN</td>\n",
              "      <td>NaN</td>\n",
              "      <td>82450966</td>\n",
              "      <td>1669326208</td>\n",
              "      <td>0</td>\n",
              "    </tr>\n",
              "    <tr>\n",
              "      <th>1</th>\n",
              "      <td>30275775</td>\n",
              "      <td>SS43</td>\n",
              "      <td>Strada Statale della Val di Non</td>\n",
              "      <td>secondary</td>\n",
              "      <td>50</td>\n",
              "      <td>False</td>\n",
              "      <td>72.163</td>\n",
              "      <td>50.0</td>\n",
              "      <td>5.2</td>\n",
              "      <td>LINESTRING (11.10212 46.20870, 11.10154 46.208...</td>\n",
              "      <td>NaN</td>\n",
              "      <td>NaN</td>\n",
              "      <td>NaN</td>\n",
              "      <td>NaN</td>\n",
              "      <td>NaN</td>\n",
              "      <td>82450966</td>\n",
              "      <td>268811327</td>\n",
              "      <td>0</td>\n",
              "    </tr>\n",
              "    <tr>\n",
              "      <th>2</th>\n",
              "      <td>34257473</td>\n",
              "      <td>NaN</td>\n",
              "      <td>NaN</td>\n",
              "      <td>service</td>\n",
              "      <td>NaN</td>\n",
              "      <td>False</td>\n",
              "      <td>14.375</td>\n",
              "      <td>24.3</td>\n",
              "      <td>2.1</td>\n",
              "      <td>LINESTRING (11.10212 46.20870, 11.10205 46.208...</td>\n",
              "      <td>parking_aisle</td>\n",
              "      <td>NaN</td>\n",
              "      <td>NaN</td>\n",
              "      <td>NaN</td>\n",
              "      <td>NaN</td>\n",
              "      <td>82450966</td>\n",
              "      <td>392889118</td>\n",
              "      <td>0</td>\n",
              "    </tr>\n",
              "  </tbody>\n",
              "</table>\n",
              "</div>"
            ],
            "text/plain": [
              "      osmid   ref                             name  ...         u           v  key\n",
              "0  30275775  SS43  Strada Statale della Val di Non  ...  82450966  1669326208    0\n",
              "1  30275775  SS43  Strada Statale della Val di Non  ...  82450966   268811327    0\n",
              "2  34257473   NaN                              NaN  ...  82450966   392889118    0\n",
              "\n",
              "[3 rows x 18 columns]"
            ]
          },
          "metadata": {
            "tags": []
          },
          "execution_count": 30
        }
      ]
    },
    {
      "cell_type": "code",
      "metadata": {
        "id": "uOeepUIoQn2m",
        "outputId": "c36cd6d7-9ef8-468a-dd5f-eab127cc0383",
        "colab": {
          "base_uri": "https://localhost:8080/",
          "height": 85
        }
      },
      "source": [
        "edges.columns"
      ],
      "execution_count": 31,
      "outputs": [
        {
          "output_type": "execute_result",
          "data": {
            "text/plain": [
              "Index(['osmid', 'ref', 'name', 'highway', 'maxspeed', 'oneway', 'length',\n",
              "       'speed_kph', 'travel_time', 'geometry', 'service', 'junction', 'bridge',\n",
              "       'access', 'tunnel', 'u', 'v', 'key'],\n",
              "      dtype='object')"
            ]
          },
          "metadata": {
            "tags": []
          },
          "execution_count": 31
        }
      ]
    },
    {
      "cell_type": "code",
      "metadata": {
        "id": "RtoyPw9lOIeZ",
        "outputId": "82ff87d4-6e19-4aff-a33d-e148f16c7e82",
        "colab": {
          "base_uri": "https://localhost:8080/",
          "height": 68
        }
      },
      "source": [
        "edges[edges.travel_time == edges.travel_time.max()].name"
      ],
      "execution_count": 32,
      "outputs": [
        {
          "output_type": "execute_result",
          "data": {
            "text/plain": [
              "2483    NaN\n",
              "2687    NaN\n",
              "Name: name, dtype: object"
            ]
          },
          "metadata": {
            "tags": []
          },
          "execution_count": 32
        }
      ]
    },
    {
      "cell_type": "code",
      "metadata": {
        "id": "bgBwYTj9QlQ_",
        "outputId": "0e16e273-1bfe-4dbc-a440-4c13873d9d27",
        "colab": {
          "base_uri": "https://localhost:8080/",
          "height": 68
        }
      },
      "source": [
        "edges[edges.travel_time == edges.travel_time.max()].osmid"
      ],
      "execution_count": 33,
      "outputs": [
        {
          "output_type": "execute_result",
          "data": {
            "text/plain": [
              "2483    660422718\n",
              "2687    660422718\n",
              "Name: osmid, dtype: object"
            ]
          },
          "metadata": {
            "tags": []
          },
          "execution_count": 33
        }
      ]
    },
    {
      "cell_type": "markdown",
      "metadata": {
        "id": "i2Y0nGG_Uv9k"
      },
      "source": [
        "https://www.openstreetmap.org/way/34004791"
      ]
    },
    {
      "cell_type": "markdown",
      "metadata": {
        "id": "1uJrvcZXWsQb"
      },
      "source": [
        "## find the shortest path between the trainstation and the school "
      ]
    },
    {
      "cell_type": "code",
      "metadata": {
        "id": "WsSF9_OalbkG"
      },
      "source": [
        "route = ox.shortest_path(G, point_nearest_trainstation, point_nearest_school, weight='travel_time')"
      ],
      "execution_count": 34,
      "outputs": []
    },
    {
      "cell_type": "code",
      "metadata": {
        "id": "AO0dBN_WXYPY",
        "outputId": "16228fc4-0979-4185-e6c4-46bbc66063a3",
        "colab": {
          "base_uri": "https://localhost:8080/",
          "height": 408
        }
      },
      "source": [
        "route"
      ],
      "execution_count": 35,
      "outputs": [
        {
          "output_type": "execute_result",
          "data": {
            "text/plain": [
              "[388416104,\n",
              " 885639428,\n",
              " 1305986901,\n",
              " 1305986871,\n",
              " 2274146551,\n",
              " 937561848,\n",
              " 861050486,\n",
              " 1168688867,\n",
              " 861049754,\n",
              " 388416092,\n",
              " 861049817,\n",
              " 1168688982,\n",
              " 276977978,\n",
              " 276977352,\n",
              " 276977351,\n",
              " 331259712,\n",
              " 1168689199,\n",
              " 1168688986,\n",
              " 331259708,\n",
              " 276977130,\n",
              " 973022445,\n",
              " 2249094490,\n",
              " 276977119]"
            ]
          },
          "metadata": {
            "tags": []
          },
          "execution_count": 35
        }
      ]
    },
    {
      "cell_type": "code",
      "metadata": {
        "id": "eIL5c3qNyleB",
        "outputId": "bdd2d7fb-61b5-4a95-c984-72eb6f348ed1",
        "colab": {
          "base_uri": "https://localhost:8080/",
          "height": 54
        }
      },
      "source": [
        "G[388416104]"
      ],
      "execution_count": 36,
      "outputs": [
        {
          "output_type": "execute_result",
          "data": {
            "text/plain": [
              "AdjacencyView({885639428: {0: {'osmid': 28881638, 'name': 'Via San Francesco', 'highway': 'residential', 'oneway': False, 'length': 3.771, 'speed_kph': 10.0, 'travel_time': 1.4}}, 388416101: {0: {'osmid': 80400799, 'oneway': False, 'name': 'Via San Francesco', 'highway': 'residential', 'length': 62.319, 'speed_kph': 10.0, 'travel_time': 22.4}}, 885639383: {0: {'osmid': 179318888, 'name': 'Via Arturo De Varda', 'highway': 'residential', 'oneway': False, 'length': 64.554, 'geometry': <shapely.geometry.linestring.LineString object at 0x7f4a338ab860>, 'speed_kph': 10.0, 'travel_time': 23.2}}})"
            ]
          },
          "metadata": {
            "tags": []
          },
          "execution_count": 36
        }
      ]
    },
    {
      "cell_type": "code",
      "metadata": {
        "id": "buiubnzsyxca",
        "outputId": "cab5c439-c607-4197-a646-3ab14d940b7d",
        "colab": {
          "base_uri": "https://localhost:8080/",
          "height": 1000
        }
      },
      "source": [
        "edges[edges.u.isin(route)]"
      ],
      "execution_count": 37,
      "outputs": [
        {
          "output_type": "execute_result",
          "data": {
            "text/html": [
              "<div>\n",
              "<style scoped>\n",
              "    .dataframe tbody tr th:only-of-type {\n",
              "        vertical-align: middle;\n",
              "    }\n",
              "\n",
              "    .dataframe tbody tr th {\n",
              "        vertical-align: top;\n",
              "    }\n",
              "\n",
              "    .dataframe thead th {\n",
              "        text-align: right;\n",
              "    }\n",
              "</style>\n",
              "<table border=\"1\" class=\"dataframe\">\n",
              "  <thead>\n",
              "    <tr style=\"text-align: right;\">\n",
              "      <th></th>\n",
              "      <th>osmid</th>\n",
              "      <th>ref</th>\n",
              "      <th>name</th>\n",
              "      <th>highway</th>\n",
              "      <th>maxspeed</th>\n",
              "      <th>oneway</th>\n",
              "      <th>length</th>\n",
              "      <th>speed_kph</th>\n",
              "      <th>travel_time</th>\n",
              "      <th>geometry</th>\n",
              "      <th>service</th>\n",
              "      <th>junction</th>\n",
              "      <th>bridge</th>\n",
              "      <th>access</th>\n",
              "      <th>tunnel</th>\n",
              "      <th>u</th>\n",
              "      <th>v</th>\n",
              "      <th>key</th>\n",
              "    </tr>\n",
              "  </thead>\n",
              "  <tbody>\n",
              "    <tr>\n",
              "      <th>108</th>\n",
              "      <td>42293674</td>\n",
              "      <td>NaN</td>\n",
              "      <td>NaN</td>\n",
              "      <td>residential</td>\n",
              "      <td>NaN</td>\n",
              "      <td>False</td>\n",
              "      <td>36.217</td>\n",
              "      <td>10.0</td>\n",
              "      <td>13.0</td>\n",
              "      <td>LINESTRING (11.09323 46.21839, 11.09359 46.21860)</td>\n",
              "      <td>NaN</td>\n",
              "      <td>NaN</td>\n",
              "      <td>NaN</td>\n",
              "      <td>NaN</td>\n",
              "      <td>NaN</td>\n",
              "      <td>276977119</td>\n",
              "      <td>527734693</td>\n",
              "      <td>0</td>\n",
              "    </tr>\n",
              "    <tr>\n",
              "      <th>109</th>\n",
              "      <td>25414040</td>\n",
              "      <td>NaN</td>\n",
              "      <td>Via Giorgio Perlasca</td>\n",
              "      <td>residential</td>\n",
              "      <td>NaN</td>\n",
              "      <td>False</td>\n",
              "      <td>34.547</td>\n",
              "      <td>10.0</td>\n",
              "      <td>12.4</td>\n",
              "      <td>LINESTRING (11.09323 46.21839, 11.09317 46.218...</td>\n",
              "      <td>NaN</td>\n",
              "      <td>NaN</td>\n",
              "      <td>NaN</td>\n",
              "      <td>NaN</td>\n",
              "      <td>NaN</td>\n",
              "      <td>276977119</td>\n",
              "      <td>2249094490</td>\n",
              "      <td>0</td>\n",
              "    </tr>\n",
              "    <tr>\n",
              "      <th>110</th>\n",
              "      <td>25414040</td>\n",
              "      <td>NaN</td>\n",
              "      <td>Via Giorgio Perlasca</td>\n",
              "      <td>residential</td>\n",
              "      <td>NaN</td>\n",
              "      <td>False</td>\n",
              "      <td>60.521</td>\n",
              "      <td>10.0</td>\n",
              "      <td>21.8</td>\n",
              "      <td>LINESTRING (11.09323 46.21839, 11.09320 46.218...</td>\n",
              "      <td>NaN</td>\n",
              "      <td>NaN</td>\n",
              "      <td>NaN</td>\n",
              "      <td>NaN</td>\n",
              "      <td>NaN</td>\n",
              "      <td>276977119</td>\n",
              "      <td>276977118</td>\n",
              "      <td>0</td>\n",
              "    </tr>\n",
              "    <tr>\n",
              "      <th>111</th>\n",
              "      <td>25414040</td>\n",
              "      <td>NaN</td>\n",
              "      <td>Via Giorgio Perlasca</td>\n",
              "      <td>residential</td>\n",
              "      <td>NaN</td>\n",
              "      <td>False</td>\n",
              "      <td>7.986</td>\n",
              "      <td>10.0</td>\n",
              "      <td>2.9</td>\n",
              "      <td>LINESTRING (11.09404 46.21657, 11.09405 46.21665)</td>\n",
              "      <td>NaN</td>\n",
              "      <td>NaN</td>\n",
              "      <td>NaN</td>\n",
              "      <td>NaN</td>\n",
              "      <td>NaN</td>\n",
              "      <td>276977130</td>\n",
              "      <td>973022445</td>\n",
              "      <td>0</td>\n",
              "    </tr>\n",
              "    <tr>\n",
              "      <th>112</th>\n",
              "      <td>26286316</td>\n",
              "      <td>NaN</td>\n",
              "      <td>Via Rotaliana</td>\n",
              "      <td>tertiary</td>\n",
              "      <td>NaN</td>\n",
              "      <td>False</td>\n",
              "      <td>12.492</td>\n",
              "      <td>52.0</td>\n",
              "      <td>0.9</td>\n",
              "      <td>LINESTRING (11.09404 46.21657, 11.09420 46.21657)</td>\n",
              "      <td>NaN</td>\n",
              "      <td>NaN</td>\n",
              "      <td>NaN</td>\n",
              "      <td>NaN</td>\n",
              "      <td>NaN</td>\n",
              "      <td>276977130</td>\n",
              "      <td>527734678</td>\n",
              "      <td>0</td>\n",
              "    </tr>\n",
              "    <tr>\n",
              "      <th>...</th>\n",
              "      <td>...</td>\n",
              "      <td>...</td>\n",
              "      <td>...</td>\n",
              "      <td>...</td>\n",
              "      <td>...</td>\n",
              "      <td>...</td>\n",
              "      <td>...</td>\n",
              "      <td>...</td>\n",
              "      <td>...</td>\n",
              "      <td>...</td>\n",
              "      <td>...</td>\n",
              "      <td>...</td>\n",
              "      <td>...</td>\n",
              "      <td>...</td>\n",
              "      <td>...</td>\n",
              "      <td>...</td>\n",
              "      <td>...</td>\n",
              "      <td>...</td>\n",
              "    </tr>\n",
              "    <tr>\n",
              "      <th>2431</th>\n",
              "      <td>25414040</td>\n",
              "      <td>NaN</td>\n",
              "      <td>Via Giorgio Perlasca</td>\n",
              "      <td>residential</td>\n",
              "      <td>NaN</td>\n",
              "      <td>False</td>\n",
              "      <td>34.547</td>\n",
              "      <td>10.0</td>\n",
              "      <td>12.4</td>\n",
              "      <td>LINESTRING (11.09315 46.21808, 11.09317 46.218...</td>\n",
              "      <td>NaN</td>\n",
              "      <td>NaN</td>\n",
              "      <td>NaN</td>\n",
              "      <td>NaN</td>\n",
              "      <td>NaN</td>\n",
              "      <td>2249094490</td>\n",
              "      <td>276977119</td>\n",
              "      <td>0</td>\n",
              "    </tr>\n",
              "    <tr>\n",
              "      <th>2463</th>\n",
              "      <td>80334024</td>\n",
              "      <td>NaN</td>\n",
              "      <td>NaN</td>\n",
              "      <td>service</td>\n",
              "      <td>NaN</td>\n",
              "      <td>False</td>\n",
              "      <td>5.819</td>\n",
              "      <td>24.3</td>\n",
              "      <td>0.9</td>\n",
              "      <td>LINESTRING (11.09250 46.21473, 11.09245 46.21477)</td>\n",
              "      <td>NaN</td>\n",
              "      <td>NaN</td>\n",
              "      <td>NaN</td>\n",
              "      <td>NaN</td>\n",
              "      <td>NaN</td>\n",
              "      <td>2274146551</td>\n",
              "      <td>937561848</td>\n",
              "      <td>0</td>\n",
              "    </tr>\n",
              "    <tr>\n",
              "      <th>2464</th>\n",
              "      <td>80334024</td>\n",
              "      <td>NaN</td>\n",
              "      <td>NaN</td>\n",
              "      <td>service</td>\n",
              "      <td>NaN</td>\n",
              "      <td>False</td>\n",
              "      <td>30.744</td>\n",
              "      <td>24.3</td>\n",
              "      <td>4.6</td>\n",
              "      <td>LINESTRING (11.09250 46.21473, 11.09254 46.214...</td>\n",
              "      <td>NaN</td>\n",
              "      <td>NaN</td>\n",
              "      <td>NaN</td>\n",
              "      <td>NaN</td>\n",
              "      <td>NaN</td>\n",
              "      <td>2274146551</td>\n",
              "      <td>937562241</td>\n",
              "      <td>0</td>\n",
              "    </tr>\n",
              "    <tr>\n",
              "      <th>2465</th>\n",
              "      <td>[115648606, 428490935]</td>\n",
              "      <td>NaN</td>\n",
              "      <td>NaN</td>\n",
              "      <td>footway</td>\n",
              "      <td>NaN</td>\n",
              "      <td>False</td>\n",
              "      <td>47.996</td>\n",
              "      <td>37.0</td>\n",
              "      <td>4.7</td>\n",
              "      <td>LINESTRING (11.09250 46.21473, 11.09247 46.214...</td>\n",
              "      <td>NaN</td>\n",
              "      <td>NaN</td>\n",
              "      <td>NaN</td>\n",
              "      <td>NaN</td>\n",
              "      <td>NaN</td>\n",
              "      <td>2274146551</td>\n",
              "      <td>1305986871</td>\n",
              "      <td>0</td>\n",
              "    </tr>\n",
              "    <tr>\n",
              "      <th>2466</th>\n",
              "      <td>[428490936, 140993491, 428490935]</td>\n",
              "      <td>NaN</td>\n",
              "      <td>NaN</td>\n",
              "      <td>footway</td>\n",
              "      <td>NaN</td>\n",
              "      <td>False</td>\n",
              "      <td>23.955</td>\n",
              "      <td>37.0</td>\n",
              "      <td>2.3</td>\n",
              "      <td>LINESTRING (11.09250 46.21473, 11.09253 46.214...</td>\n",
              "      <td>NaN</td>\n",
              "      <td>NaN</td>\n",
              "      <td>NaN</td>\n",
              "      <td>NaN</td>\n",
              "      <td>NaN</td>\n",
              "      <td>2274146551</td>\n",
              "      <td>861050486</td>\n",
              "      <td>0</td>\n",
              "    </tr>\n",
              "  </tbody>\n",
              "</table>\n",
              "<p>73 rows × 18 columns</p>\n",
              "</div>"
            ],
            "text/plain": [
              "                                  osmid  ref  ...           v key\n",
              "108                            42293674  NaN  ...   527734693   0\n",
              "109                            25414040  NaN  ...  2249094490   0\n",
              "110                            25414040  NaN  ...   276977118   0\n",
              "111                            25414040  NaN  ...   973022445   0\n",
              "112                            26286316  NaN  ...   527734678   0\n",
              "...                                 ...  ...  ...         ...  ..\n",
              "2431                           25414040  NaN  ...   276977119   0\n",
              "2463                           80334024  NaN  ...   937561848   0\n",
              "2464                           80334024  NaN  ...   937562241   0\n",
              "2465             [115648606, 428490935]  NaN  ...  1305986871   0\n",
              "2466  [428490936, 140993491, 428490935]  NaN  ...   861050486   0\n",
              "\n",
              "[73 rows x 18 columns]"
            ]
          },
          "metadata": {
            "tags": []
          },
          "execution_count": 37
        }
      ]
    },
    {
      "cell_type": "code",
      "metadata": {
        "id": "oq0qvzvaXG_l",
        "outputId": "1ce70f81-16dc-48b9-9edf-8e6cae2d04bf",
        "colab": {
          "base_uri": "https://localhost:8080/",
          "height": 904
        }
      },
      "source": [
        "ox.plot_route_folium(G,route,popup_attribute='name',tiles='OpenStreetMap')"
      ],
      "execution_count": 38,
      "outputs": [
        {
          "output_type": "execute_result",
          "data": {
            "text/html": [
              "<div style=\"width:100%;\"><div style=\"position:relative;width:100%;height:0;padding-bottom:60%;\"><span style=\"color:#565656\">Make this Notebook Trusted to load map: File -> Trust Notebook</span><iframe src=\"about:blank\" style=\"position:absolute;width:100%;height:100%;left:0;top:0;border:none !important;\" data-html=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 onload=\"this.contentDocument.open();this.contentDocument.write(atob(this.getAttribute('data-html')));this.contentDocument.close();\" allowfullscreen webkitallowfullscreen mozallowfullscreen></iframe></div></div>"
            ],
            "text/plain": [
              "<folium.folium.Map at 0x7f4a33bf77b8>"
            ]
          },
          "metadata": {
            "tags": []
          },
          "execution_count": 38
        }
      ]
    },
    {
      "cell_type": "markdown",
      "metadata": {
        "id": "BGweYa75cjsn"
      },
      "source": [
        "how long is our route in meters?"
      ]
    },
    {
      "cell_type": "code",
      "metadata": {
        "id": "tHM2ceW1lgj2",
        "outputId": "c23319d2-836d-4847-c696-05ff8eb3329c",
        "colab": {
          "base_uri": "https://localhost:8080/",
          "height": 34
        }
      },
      "source": [
        "edge_lengths = ox.utils_graph.get_route_edge_attributes(G, route, 'length')\n",
        "sum(edge_lengths)"
      ],
      "execution_count": 39,
      "outputs": [
        {
          "output_type": "execute_result",
          "data": {
            "text/plain": [
              "753.9340000000001"
            ]
          },
          "metadata": {
            "tags": []
          },
          "execution_count": 39
        }
      ]
    },
    {
      "cell_type": "markdown",
      "metadata": {
        "id": "dAIVWpaYxXeA"
      },
      "source": [
        "how many minutes does it take?"
      ]
    },
    {
      "cell_type": "code",
      "metadata": {
        "id": "3BFFbLtUxquS"
      },
      "source": [
        "import datetime"
      ],
      "execution_count": 40,
      "outputs": []
    },
    {
      "cell_type": "code",
      "metadata": {
        "id": "yAK5LtxHwryy"
      },
      "source": [
        "edge_times = ox.utils_graph.get_route_edge_attributes(G, route, 'travel_time')\n",
        "seconds = sum(edge_times)"
      ],
      "execution_count": 41,
      "outputs": []
    },
    {
      "cell_type": "code",
      "metadata": {
        "id": "KLtO9wbyxr3V",
        "outputId": "04467056-533c-4712-b723-0a5cc15a847c",
        "colab": {
          "base_uri": "https://localhost:8080/",
          "height": 35
        }
      },
      "source": [
        "str(datetime.timedelta(seconds=seconds))"
      ],
      "execution_count": 42,
      "outputs": [
        {
          "output_type": "execute_result",
          "data": {
            "application/vnd.google.colaboratory.intrinsic+json": {
              "type": "string"
            },
            "text/plain": [
              "'0:02:03.400000'"
            ]
          },
          "metadata": {
            "tags": []
          },
          "execution_count": 42
        }
      ]
    },
    {
      "cell_type": "markdown",
      "metadata": {
        "id": "EYF3Aoj5kknS"
      },
      "source": [
        "## calculate bearing\n",
        "\n",
        "Calculate the compass bearing from origin node to destination node for each edge in the directed graph then add each bearing as a new edge attribute. Bearing represents angle in degrees (clockwise) between north and the direction from the origin node to the destination node.\n",
        "<br/><br/>\n"
      ]
    },
    {
      "cell_type": "code",
      "metadata": {
        "id": "lc7vMLHBkvMs"
      },
      "source": [
        "import geopandas as gpd\n",
        "import folium"
      ],
      "execution_count": 43,
      "outputs": []
    },
    {
      "cell_type": "code",
      "metadata": {
        "id": "G-K2GyeonNfT"
      },
      "source": [
        "cols = ['city']\n",
        "names = [('Roma'),('Trento'),('Genova'),('Trieste')]\n",
        "cities = gpd.GeoDataFrame(names,columns=cols)\n",
        "geo_cities = gpd.tools.geocode(cities.city, provider=\"arcgis\")"
      ],
      "execution_count": 44,
      "outputs": []
    },
    {
      "cell_type": "code",
      "metadata": {
        "id": "W5Psk-yMnrXr",
        "outputId": "bdb0c805-0f58-4616-923b-194c6f9586d0",
        "colab": {
          "base_uri": "https://localhost:8080/",
          "height": 173
        }
      },
      "source": [
        "geo_cities"
      ],
      "execution_count": 45,
      "outputs": [
        {
          "output_type": "execute_result",
          "data": {
            "text/html": [
              "<div>\n",
              "<style scoped>\n",
              "    .dataframe tbody tr th:only-of-type {\n",
              "        vertical-align: middle;\n",
              "    }\n",
              "\n",
              "    .dataframe tbody tr th {\n",
              "        vertical-align: top;\n",
              "    }\n",
              "\n",
              "    .dataframe thead th {\n",
              "        text-align: right;\n",
              "    }\n",
              "</style>\n",
              "<table border=\"1\" class=\"dataframe\">\n",
              "  <thead>\n",
              "    <tr style=\"text-align: right;\">\n",
              "      <th></th>\n",
              "      <th>geometry</th>\n",
              "      <th>address</th>\n",
              "    </tr>\n",
              "  </thead>\n",
              "  <tbody>\n",
              "    <tr>\n",
              "      <th>0</th>\n",
              "      <td>POINT (12.49565 41.90322)</td>\n",
              "      <td>Roma</td>\n",
              "    </tr>\n",
              "    <tr>\n",
              "      <th>1</th>\n",
              "      <td>POINT (11.11926 46.07005)</td>\n",
              "      <td>Trento</td>\n",
              "    </tr>\n",
              "    <tr>\n",
              "      <th>2</th>\n",
              "      <td>POINT (8.93898 44.41039)</td>\n",
              "      <td>Genova</td>\n",
              "    </tr>\n",
              "    <tr>\n",
              "      <th>3</th>\n",
              "      <td>POINT (13.77269 45.65757)</td>\n",
              "      <td>Trieste</td>\n",
              "    </tr>\n",
              "  </tbody>\n",
              "</table>\n",
              "</div>"
            ],
            "text/plain": [
              "                    geometry  address\n",
              "0  POINT (12.49565 41.90322)     Roma\n",
              "1  POINT (11.11926 46.07005)   Trento\n",
              "2   POINT (8.93898 44.41039)   Genova\n",
              "3  POINT (13.77269 45.65757)  Trieste"
            ]
          },
          "metadata": {
            "tags": []
          },
          "execution_count": 45
        }
      ]
    },
    {
      "cell_type": "code",
      "metadata": {
        "id": "99WtFilDojiB"
      },
      "source": [
        "y = geo_cities.unary_union.centroid.y\n",
        "x = geo_cities.unary_union.centroid.x"
      ],
      "execution_count": 46,
      "outputs": []
    },
    {
      "cell_type": "code",
      "metadata": {
        "id": "aQFykKvzoZQ8"
      },
      "source": [
        "map = folium.Map([y,x], zoom_start=7,tiles='cartodbpositron')"
      ],
      "execution_count": 47,
      "outputs": []
    },
    {
      "cell_type": "code",
      "metadata": {
        "id": "cj0e82jzpSVg",
        "outputId": "9ec16bc3-e1cd-4b34-816d-7eac4baab104",
        "colab": {
          "base_uri": "https://localhost:8080/",
          "height": 34
        }
      },
      "source": [
        "folium.GeoJson(geo_cities.to_json()).add_to(map)"
      ],
      "execution_count": 48,
      "outputs": [
        {
          "output_type": "execute_result",
          "data": {
            "text/plain": [
              "<folium.features.GeoJson at 0x7f4a32dbbeb8>"
            ]
          },
          "metadata": {
            "tags": []
          },
          "execution_count": 48
        }
      ]
    },
    {
      "cell_type": "code",
      "metadata": {
        "id": "O7SqcgYjovle",
        "outputId": "49379a3d-cf51-41fb-e4c8-68e2e158ae3a",
        "colab": {
          "base_uri": "https://localhost:8080/",
          "height": 904
        }
      },
      "source": [
        "map"
      ],
      "execution_count": 49,
      "outputs": [
        {
          "output_type": "execute_result",
          "data": {
            "text/html": [
              "<div style=\"width:100%;\"><div style=\"position:relative;width:100%;height:0;padding-bottom:60%;\"><span style=\"color:#565656\">Make this Notebook Trusted to load map: File -> Trust Notebook</span><iframe src=\"about:blank\" style=\"position:absolute;width:100%;height:100%;left:0;top:0;border:none !important;\" data-html=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 onload=\"this.contentDocument.open();this.contentDocument.write(atob(this.getAttribute('data-html')));this.contentDocument.close();\" allowfullscreen webkitallowfullscreen mozallowfullscreen></iframe></div></div>"
            ],
            "text/plain": [
              "<folium.folium.Map at 0x7f4a33b08278>"
            ]
          },
          "metadata": {
            "tags": []
          },
          "execution_count": 49
        }
      ]
    },
    {
      "cell_type": "code",
      "metadata": {
        "id": "Nx-l1G5lp_bk"
      },
      "source": [
        "trento = geo_cities[geo_cities.address == 'Trento'].geometry"
      ],
      "execution_count": 50,
      "outputs": []
    },
    {
      "cell_type": "code",
      "metadata": {
        "id": "00UNeT51qmPf"
      },
      "source": [
        "trento_point = (trento.geometry.y.values[0],trento.geometry.x.values[0])"
      ],
      "execution_count": 51,
      "outputs": []
    },
    {
      "cell_type": "code",
      "metadata": {
        "id": "EUtwAeQsqwWz"
      },
      "source": [
        "roma_point = (geo_cities[geo_cities.address == 'Roma'].geometry.y.values[0], geo_cities[geo_cities.address == 'Roma'].geometry.x.values[0])\n",
        "genova_point = (geo_cities[geo_cities.address == 'Genova'].geometry.y.values[0], geo_cities[geo_cities.address == 'Genova'].geometry.x.values[0])\n",
        "trieste_point = (geo_cities[geo_cities.address == 'Trieste'].geometry.y.values[0], geo_cities[geo_cities.address == 'Trieste'].geometry.x.values[0])"
      ],
      "execution_count": 52,
      "outputs": []
    },
    {
      "cell_type": "markdown",
      "metadata": {
        "id": "0CXX7ICUtQxW"
      },
      "source": [
        "![](https://upload.wikimedia.org/wikipedia/commons/thumb/2/29/Compass_Card_B%2BW.svg/480px-Compass_Card_B%2BW.svg.png)"
      ]
    },
    {
      "cell_type": "code",
      "metadata": {
        "id": "SU3uYlCCkscj",
        "outputId": "5f407baa-ac90-475f-ee30-4a054078f11f",
        "colab": {
          "base_uri": "https://localhost:8080/",
          "height": 34
        }
      },
      "source": [
        "#Trento - Roma\n",
        "ox.bearing.get_bearing(trento_point,roma_point)"
      ],
      "execution_count": 53,
      "outputs": [
        {
          "output_type": "execute_result",
          "data": {
            "text/plain": [
              "166.14902805108795"
            ]
          },
          "metadata": {
            "tags": []
          },
          "execution_count": 53
        }
      ]
    },
    {
      "cell_type": "code",
      "metadata": {
        "id": "cDqo7_K3sGkH",
        "outputId": "bdf23fdf-793c-482f-ef23-c6600a9b8b95",
        "colab": {
          "base_uri": "https://localhost:8080/",
          "height": 34
        }
      },
      "source": [
        "#Trento - Trieste\n",
        "ox.bearing.get_bearing(trento_point,trieste_point)"
      ],
      "execution_count": 54,
      "outputs": [
        {
          "output_type": "execute_result",
          "data": {
            "text/plain": [
              "101.62950188064787"
            ]
          },
          "metadata": {
            "tags": []
          },
          "execution_count": 54
        }
      ]
    },
    {
      "cell_type": "code",
      "metadata": {
        "id": "TztqvE6ZtE0Y",
        "outputId": "4b675a17-297d-490a-d2bf-16ecfdd5c0cb",
        "colab": {
          "base_uri": "https://localhost:8080/",
          "height": 34
        }
      },
      "source": [
        "#Trento - Genova\n",
        "ox.bearing.get_bearing(trento_point,genova_point)"
      ],
      "execution_count": 55,
      "outputs": [
        {
          "output_type": "execute_result",
          "data": {
            "text/plain": [
              "223.5479896367596"
            ]
          },
          "metadata": {
            "tags": []
          },
          "execution_count": 55
        }
      ]
    },
    {
      "cell_type": "markdown",
      "metadata": {
        "id": "At7GiXjbtrrK"
      },
      "source": [
        "# Exercise\n",
        "- identify the shortest path by walk to reach the Castle of Trento from the main train stationg\n",
        "- identify how many bars you can reach by walking in 5 minutes from the main train station of Trento (tip: isochrones)"
      ]
    }
  ]
}