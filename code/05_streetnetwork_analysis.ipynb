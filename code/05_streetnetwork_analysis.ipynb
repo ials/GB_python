{
  "nbformat": 4,
  "nbformat_minor": 0,
  "metadata": {
    "colab": {
      "name": "05 - streetnetwork analysis",
      "provenance": [],
      "collapsed_sections": [
        "NHeg_tjJoqyF",
        "A2FRZNYj0TeJ"
      ]
    },
    "kernelspec": {
      "name": "python3",
      "display_name": "Python 3"
    }
  },
  "cells": [
    {
      "cell_type": "markdown",
      "metadata": {
        "id": "ttkhwFzffRrn"
      },
      "source": [
        "# Street Network Analysis\n",
        "\n",
        "based on osnmx\n",
        "goals of the tutorial\n",
        "\n",
        "- basic concepts of network analysis\n",
        "- routing\n",
        "- bearing\n",
        "\n",
        "based on the open data of:\n",
        "- OpenStreetMap\n",
        "\n",
        "requirements\n",
        "- python knowledge\n",
        "- geopandas\n",
        "- openstreetmap\n",
        "\n",
        "status<br/>\n",
        "*“My Way”*\n",
        "\n",
        "\n",
        "\n",
        "note:<br/>\n",
        "you can also use pandana and the next integration of pyrosm with igraph"
      ]
    },
    {
      "cell_type": "markdown",
      "metadata": {
        "id": "C8Q-0qrYgbGb"
      },
      "source": [
        "---\n",
        "\n",
        "# Setup\n",
        "for this tutorial we will use [OSMnx](https://github.com/gboeing/osmnx) = (openstreetmap + [networkx](https://networkx.org/))\n",
        "\n",
        "Boeing, G. 2017. \"[OSMnx: New Methods for Acquiring, Constructing, Analyzing, and Visualizing Complex Street Networks.](https://geoffboeing.com/publications/osmnx-complex-street-networks/)\" *Computers, Environment and Urban Systems 65, 126-139. doi:10.1016/j.compenvurbsys.2017.05.004*\n",
        "\n",
        "OSMnx need [rtree](https://toblerity.org/rtree/) a python wrapper to [libspatialindex](https://libspatialindex.org/en/latest/)\n",
        "\n",
        "... we need to install libspatialindex if not exists on your OS.\n"
      ]
    },
    {
      "cell_type": "code",
      "metadata": {
        "id": "WiP87wjwPUSF",
        "outputId": "04392ed9-8c47-487f-ff4e-5ea4e74c542a",
        "colab": {
          "base_uri": "https://localhost:8080/",
          "height": 729
        }
      },
      "source": [
        "try:\n",
        "  import rtree\n",
        "except ModuleNotFoundError as e:\n",
        "  !apt-get install libspatialindex-dev\n",
        "  !pip install rtree\n",
        "  import rtree\n"
      ],
      "execution_count": 1,
      "outputs": [
        {
          "output_type": "stream",
          "text": [
            "Reading package lists... Done\n",
            "Building dependency tree       \n",
            "Reading state information... Done\n",
            "The following additional packages will be installed:\n",
            "  libspatialindex-c4v5 libspatialindex4v5\n",
            "The following NEW packages will be installed:\n",
            "  libspatialindex-c4v5 libspatialindex-dev libspatialindex4v5\n",
            "0 upgraded, 3 newly installed, 0 to remove and 21 not upgraded.\n",
            "Need to get 555 kB of archives.\n",
            "After this operation, 3,308 kB of additional disk space will be used.\n",
            "Get:1 http://archive.ubuntu.com/ubuntu bionic/universe amd64 libspatialindex4v5 amd64 1.8.5-5 [219 kB]\n",
            "Get:2 http://archive.ubuntu.com/ubuntu bionic/universe amd64 libspatialindex-c4v5 amd64 1.8.5-5 [51.7 kB]\n",
            "Get:3 http://archive.ubuntu.com/ubuntu bionic/universe amd64 libspatialindex-dev amd64 1.8.5-5 [285 kB]\n",
            "Fetched 555 kB in 2s (258 kB/s)\n",
            "Selecting previously unselected package libspatialindex4v5:amd64.\n",
            "(Reading database ... 144611 files and directories currently installed.)\n",
            "Preparing to unpack .../libspatialindex4v5_1.8.5-5_amd64.deb ...\n",
            "Unpacking libspatialindex4v5:amd64 (1.8.5-5) ...\n",
            "Selecting previously unselected package libspatialindex-c4v5:amd64.\n",
            "Preparing to unpack .../libspatialindex-c4v5_1.8.5-5_amd64.deb ...\n",
            "Unpacking libspatialindex-c4v5:amd64 (1.8.5-5) ...\n",
            "Selecting previously unselected package libspatialindex-dev:amd64.\n",
            "Preparing to unpack .../libspatialindex-dev_1.8.5-5_amd64.deb ...\n",
            "Unpacking libspatialindex-dev:amd64 (1.8.5-5) ...\n",
            "Setting up libspatialindex4v5:amd64 (1.8.5-5) ...\n",
            "Setting up libspatialindex-c4v5:amd64 (1.8.5-5) ...\n",
            "Setting up libspatialindex-dev:amd64 (1.8.5-5) ...\n",
            "Processing triggers for libc-bin (2.27-3ubuntu1.2) ...\n",
            "/sbin/ldconfig.real: /usr/local/lib/python3.6/dist-packages/ideep4py/lib/libmkldnn.so.0 is not a symbolic link\n",
            "\n",
            "Collecting rtree\n",
            "\u001b[?25l  Downloading https://files.pythonhosted.org/packages/56/6f/f1e91001d5ad9fa9bed65875152f5a1c7955c5763168cae309546e6e9fda/Rtree-0.9.4.tar.gz (62kB)\n",
            "\u001b[K     |████████████████████████████████| 71kB 1.1MB/s \n",
            "\u001b[?25hRequirement already satisfied: setuptools in /usr/local/lib/python3.6/dist-packages (from rtree) (50.3.0)\n",
            "Building wheels for collected packages: rtree\n",
            "  Building wheel for rtree (setup.py) ... \u001b[?25l\u001b[?25hdone\n",
            "  Created wheel for rtree: filename=Rtree-0.9.4-cp36-none-any.whl size=21770 sha256=b619b818ac90325e9b1816ec15bf9fb9a1318d13716ba641b9b13fbc40fc24f7\n",
            "  Stored in directory: /root/.cache/pip/wheels/ff/20/c5/0004ef7acb96745ec99be960053902b0b414a2aa2dcad5834e\n",
            "Successfully built rtree\n",
            "Installing collected packages: rtree\n",
            "Successfully installed rtree-0.9.4\n"
          ],
          "name": "stdout"
        }
      ]
    },
    {
      "cell_type": "markdown",
      "metadata": {
        "id": "1t6Zquk1is-M"
      },
      "source": [
        "... and now we can install OSMnx"
      ]
    },
    {
      "cell_type": "code",
      "metadata": {
        "id": "FKYqs23OGRsV",
        "outputId": "576f262a-2a9b-4d4a-8ffd-3124de3a6487",
        "colab": {
          "base_uri": "https://localhost:8080/",
          "height": 1000
        }
      },
      "source": [
        "!pip install osmnx"
      ],
      "execution_count": 2,
      "outputs": [
        {
          "output_type": "stream",
          "text": [
            "Collecting osmnx\n",
            "\u001b[?25l  Downloading https://files.pythonhosted.org/packages/ed/91/ad30e3ed4d16140f975f05adc13c1ca0146d61438dfabe01bf66025a44e5/osmnx-0.16.1-py2.py3-none-any.whl (87kB)\n",
            "\r\u001b[K     |███▊                            | 10kB 17.8MB/s eta 0:00:01\r\u001b[K     |███████▌                        | 20kB 834kB/s eta 0:00:01\r\u001b[K     |███████████▏                    | 30kB 1.1MB/s eta 0:00:01\r\u001b[K     |███████████████                 | 40kB 1.3MB/s eta 0:00:01\r\u001b[K     |██████████████████▊             | 51kB 980kB/s eta 0:00:01\r\u001b[K     |██████████████████████▍         | 61kB 1.1MB/s eta 0:00:01\r\u001b[K     |██████████████████████████▏     | 71kB 1.2MB/s eta 0:00:01\r\u001b[K     |██████████████████████████████  | 81kB 1.3MB/s eta 0:00:01\r\u001b[K     |████████████████████████████████| 92kB 1.3MB/s \n",
            "\u001b[?25hRequirement already satisfied: networkx>=2.5 in /usr/local/lib/python3.6/dist-packages (from osmnx) (2.5)\n",
            "Collecting pyproj>=2.6\n",
            "\u001b[?25l  Downloading https://files.pythonhosted.org/packages/e5/c3/071e080230ac4b6c64f1a2e2f9161c9737a2bc7b683d2c90b024825000c0/pyproj-2.6.1.post1-cp36-cp36m-manylinux2010_x86_64.whl (10.9MB)\n",
            "\u001b[K     |████████████████████████████████| 10.9MB 358kB/s \n",
            "\u001b[?25hCollecting requests>=2.24\n",
            "\u001b[?25l  Downloading https://files.pythonhosted.org/packages/45/1e/0c169c6a5381e241ba7404532c16a21d86ab872c9bed8bdcd4c423954103/requests-2.24.0-py2.py3-none-any.whl (61kB)\n",
            "\u001b[K     |████████████████████████████████| 71kB 7.7MB/s \n",
            "\u001b[?25hCollecting geopandas>=0.8\n",
            "\u001b[?25l  Downloading https://files.pythonhosted.org/packages/f7/a4/e66aafbefcbb717813bf3a355c8c4fc3ed04ea1dd7feb2920f2f4f868921/geopandas-0.8.1-py2.py3-none-any.whl (962kB)\n",
            "\u001b[K     |████████████████████████████████| 972kB 39.9MB/s \n",
            "\u001b[?25hCollecting numpy>=1.19\n",
            "\u001b[?25l  Downloading https://files.pythonhosted.org/packages/63/97/af8a92864a04bfa48f1b5c9b1f8bf2ccb2847f24530026f26dd223de4ca0/numpy-1.19.2-cp36-cp36m-manylinux2010_x86_64.whl (14.5MB)\n",
            "\u001b[K     |████████████████████████████████| 14.5MB 310kB/s \n",
            "\u001b[?25hCollecting matplotlib>=3.3\n",
            "\u001b[?25l  Downloading https://files.pythonhosted.org/packages/cd/d6/8c4dfb23151d5a494c66ebbfdb5c8c433b44ec07fae52da5939fcda0943f/matplotlib-3.3.2-cp36-cp36m-manylinux1_x86_64.whl (11.6MB)\n",
            "\u001b[K     |████████████████████████████████| 11.6MB 164kB/s \n",
            "\u001b[?25hRequirement already satisfied: Rtree>=0.9 in /usr/local/lib/python3.6/dist-packages (from osmnx) (0.9.4)\n",
            "Requirement already satisfied: descartes>=1.1 in /usr/local/lib/python3.6/dist-packages (from osmnx) (1.1.0)\n",
            "Requirement already satisfied: pandas>=1.1 in /usr/local/lib/python3.6/dist-packages (from osmnx) (1.1.2)\n",
            "Requirement already satisfied: Shapely>=1.7 in /usr/local/lib/python3.6/dist-packages (from osmnx) (1.7.1)\n",
            "Requirement already satisfied: decorator>=4.3.0 in /usr/local/lib/python3.6/dist-packages (from networkx>=2.5->osmnx) (4.4.2)\n",
            "Requirement already satisfied: idna<3,>=2.5 in /usr/local/lib/python3.6/dist-packages (from requests>=2.24->osmnx) (2.10)\n",
            "Requirement already satisfied: chardet<4,>=3.0.2 in /usr/local/lib/python3.6/dist-packages (from requests>=2.24->osmnx) (3.0.4)\n",
            "Requirement already satisfied: urllib3!=1.25.0,!=1.25.1,<1.26,>=1.21.1 in /usr/local/lib/python3.6/dist-packages (from requests>=2.24->osmnx) (1.24.3)\n",
            "Requirement already satisfied: certifi>=2017.4.17 in /usr/local/lib/python3.6/dist-packages (from requests>=2.24->osmnx) (2020.6.20)\n",
            "Collecting fiona\n",
            "\u001b[?25l  Downloading https://files.pythonhosted.org/packages/36/8b/e8b2c11bed5373c8e98edb85ce891b09aa1f4210fd451d0fb3696b7695a2/Fiona-1.8.17-cp36-cp36m-manylinux1_x86_64.whl (14.8MB)\n",
            "\u001b[K     |████████████████████████████████| 14.8MB 318kB/s \n",
            "\u001b[?25hRequirement already satisfied: pyparsing!=2.0.4,!=2.1.2,!=2.1.6,>=2.0.3 in /usr/local/lib/python3.6/dist-packages (from matplotlib>=3.3->osmnx) (2.4.7)\n",
            "Requirement already satisfied: kiwisolver>=1.0.1 in /usr/local/lib/python3.6/dist-packages (from matplotlib>=3.3->osmnx) (1.2.0)\n",
            "Requirement already satisfied: cycler>=0.10 in /usr/local/lib/python3.6/dist-packages (from matplotlib>=3.3->osmnx) (0.10.0)\n",
            "Requirement already satisfied: python-dateutil>=2.1 in /usr/local/lib/python3.6/dist-packages (from matplotlib>=3.3->osmnx) (2.8.1)\n",
            "Requirement already satisfied: pillow>=6.2.0 in /usr/local/lib/python3.6/dist-packages (from matplotlib>=3.3->osmnx) (7.0.0)\n",
            "Requirement already satisfied: setuptools in /usr/local/lib/python3.6/dist-packages (from Rtree>=0.9->osmnx) (50.3.0)\n",
            "Requirement already satisfied: pytz>=2017.2 in /usr/local/lib/python3.6/dist-packages (from pandas>=1.1->osmnx) (2018.9)\n",
            "Collecting click-plugins>=1.0\n",
            "  Downloading https://files.pythonhosted.org/packages/e9/da/824b92d9942f4e472702488857914bdd50f73021efea15b4cad9aca8ecef/click_plugins-1.1.1-py2.py3-none-any.whl\n",
            "Requirement already satisfied: attrs>=17 in /usr/local/lib/python3.6/dist-packages (from fiona->geopandas>=0.8->osmnx) (20.2.0)\n",
            "Collecting cligj>=0.5\n",
            "  Downloading https://files.pythonhosted.org/packages/ba/06/e3440b1f2dc802d35f329f299ba96153e9fcbfdef75e17f4b61f79430c6a/cligj-0.7.0-py3-none-any.whl\n",
            "Requirement already satisfied: click<8,>=4.0 in /usr/local/lib/python3.6/dist-packages (from fiona->geopandas>=0.8->osmnx) (7.1.2)\n",
            "Collecting munch\n",
            "  Downloading https://files.pythonhosted.org/packages/cc/ab/85d8da5c9a45e072301beb37ad7f833cd344e04c817d97e0cc75681d248f/munch-2.5.0-py2.py3-none-any.whl\n",
            "Requirement already satisfied: six>=1.7 in /usr/local/lib/python3.6/dist-packages (from fiona->geopandas>=0.8->osmnx) (1.15.0)\n",
            "\u001b[31mERROR: tensorflow 2.3.0 has requirement numpy<1.19.0,>=1.16.0, but you'll have numpy 1.19.2 which is incompatible.\u001b[0m\n",
            "\u001b[31mERROR: google-colab 1.0.0 has requirement requests~=2.23.0, but you'll have requests 2.24.0 which is incompatible.\u001b[0m\n",
            "\u001b[31mERROR: datascience 0.10.6 has requirement folium==0.2.1, but you'll have folium 0.8.3 which is incompatible.\u001b[0m\n",
            "\u001b[31mERROR: albumentations 0.1.12 has requirement imgaug<0.2.7,>=0.2.5, but you'll have imgaug 0.2.9 which is incompatible.\u001b[0m\n",
            "Installing collected packages: pyproj, requests, click-plugins, cligj, munch, fiona, geopandas, numpy, matplotlib, osmnx\n",
            "  Found existing installation: requests 2.23.0\n",
            "    Uninstalling requests-2.23.0:\n",
            "      Successfully uninstalled requests-2.23.0\n",
            "  Found existing installation: numpy 1.18.5\n",
            "    Uninstalling numpy-1.18.5:\n",
            "      Successfully uninstalled numpy-1.18.5\n",
            "  Found existing installation: matplotlib 3.2.2\n",
            "    Uninstalling matplotlib-3.2.2:\n",
            "      Successfully uninstalled matplotlib-3.2.2\n",
            "Successfully installed click-plugins-1.1.1 cligj-0.7.0 fiona-1.8.17 geopandas-0.8.1 matplotlib-3.3.2 munch-2.5.0 numpy-1.19.2 osmnx-0.16.1 pyproj-2.6.1.post1 requests-2.24.0\n"
          ],
          "name": "stdout"
        },
        {
          "output_type": "display_data",
          "data": {
            "application/vnd.colab-display-data+json": {
              "pip_warning": {
                "packages": [
                  "matplotlib",
                  "mpl_toolkits",
                  "numpy"
                ]
              }
            }
          },
          "metadata": {
            "tags": []
          }
        }
      ]
    },
    {
      "cell_type": "markdown",
      "metadata": {
        "id": "KxDaCXdgmYBw"
      },
      "source": [
        "Note: in the case of Colab you neet to restart the runtime (CTRL+M . ) and start from the next line (CTRL+F10)"
      ]
    },
    {
      "cell_type": "markdown",
      "metadata": {
        "id": "Y2GvVF2siy20"
      },
      "source": [
        "# Let’s start with OSMnx\n"
      ]
    },
    {
      "cell_type": "code",
      "metadata": {
        "id": "zmhd0mmjQKQl"
      },
      "source": [
        "import osmnx as ox"
      ],
      "execution_count": 2,
      "outputs": []
    },
    {
      "cell_type": "markdown",
      "metadata": {
        "id": "bndTwCe4jqxJ"
      },
      "source": [
        "## prepare the data"
      ]
    },
    {
      "cell_type": "markdown",
      "metadata": {
        "id": "5ZbL9HmEi8SX"
      },
      "source": [
        "... we can choose the same city used on the last tutorial \n",
        "\n",
        "[Mezzolombardo in Italy](https://www.openstreetmap.org/relation/46989#map=13/46.2067/11.1035)"
      ]
    },
    {
      "cell_type": "code",
      "metadata": {
        "id": "THWD9QKxQEQB"
      },
      "source": [
        "place_name = \"Mezzolombardo, Italy\""
      ],
      "execution_count": 3,
      "outputs": []
    },
    {
      "cell_type": "markdown",
      "metadata": {
        "id": "jIL94Y59jbmi"
      },
      "source": [
        ".. and we can extract all the streets where it's possible to drive\n",
        "\n",
        "OSMnx creates a overpass query to ask the data inside the area of name of the city and collect all the [highways](https://wiki.openstreetmap.org/wiki/Key:highway) where a car can move\n",
        "\n",
        "Eg.<br/>\n",
        "http://overpass-turbo.eu/s/Zid\n",
        "\n",
        "![](https://raw.githubusercontent.com/napo/geospatial_course_unitn/master/images/mezzolombardo_streets.png)"
      ]
    },
    {
      "cell_type": "code",
      "metadata": {
        "id": "At16FCWGQJCx"
      },
      "source": [
        "G = ox.graph_from_place(place_name, network_type='drive')"
      ],
      "execution_count": 4,
      "outputs": []
    },
    {
      "cell_type": "markdown",
      "metadata": {
        "id": "Dp5yhSyhn7aT"
      },
      "source": [
        "OSMnx transform the data from OpenStreetMap in [graph](https://networkx.org/documentation/stable/reference/introduction.html#graphs) for [networkx](https://networkx.org/)"
      ]
    },
    {
      "cell_type": "markdown",
      "metadata": {
        "id": "NHeg_tjJoqyF"
      },
      "source": [
        "# Graph Theory\n",
        "text from [wikipedia](https://en.wikipedia.org/wiki/Graph_theory)\n",
        "\n",
        "\n",
        "\n",
        "A graph is made up of **vertices** (also called *nodes* or *points*) which are connected by **edges** (also called *links* or *lines*)\n",
        "\n",
        "A distinction is made between undirected graphs, where edges link two vertices symmetrically, and directed graphs, where edges link two vertices asymmetrically;\n",
        "\n",
        "![](https://upload.wikimedia.org/wikipedia/commons/thumb/b/bf/Undirected.svg/267px-Undirected.svg.png)\n",
        "\n",
        "Example<br/>\n",
        "undirected graph with three nodes and three edges. \n",
        "\n",
        "![](https://upload.wikimedia.org/wikipedia/commons/thumb/a/a2/Directed.svg/267px-Directed.svg.png)\n",
        "\n",
        "Example<br/>\n",
        "a directed graph with three vertices and four directed edges<br/>(the double arrow represents an edge in each direction).\n"
      ]
    },
    {
      "cell_type": "markdown",
      "metadata": {
        "id": "O9cQsOR_sXBU"
      },
      "source": [
        "the type of graph generated by OSMnx is a MultiDiGraph: a directed graphs with self loops and parallel edges\n",
        "\n",
        "more information [here](https://networkx.org/documentation/stable/reference/classes/multidigraph.html)"
      ]
    },
    {
      "cell_type": "code",
      "metadata": {
        "id": "JG0psQ3Xn335",
        "outputId": "6e18ea36-20f4-47df-aca0-f465183fa0ad",
        "colab": {
          "base_uri": "https://localhost:8080/",
          "height": 34
        }
      },
      "source": [
        "type(G)"
      ],
      "execution_count": 5,
      "outputs": [
        {
          "output_type": "execute_result",
          "data": {
            "text/plain": [
              "networkx.classes.multidigraph.MultiDiGraph"
            ]
          },
          "metadata": {
            "tags": []
          },
          "execution_count": 5
        }
      ]
    },
    {
      "cell_type": "markdown",
      "metadata": {
        "id": "dmSkc2V31JW0"
      },
      "source": [
        "OSMnx converts the graph from latitude/longitude (WGS83) to the right UTM coordinate reference system for the area selected"
      ]
    },
    {
      "cell_type": "code",
      "metadata": {
        "id": "Tp2RJa7Q1je3"
      },
      "source": [
        "G_proj = ox.project_graph(G)"
      ],
      "execution_count": 6,
      "outputs": []
    },
    {
      "cell_type": "markdown",
      "metadata": {
        "id": "naImI2vx1uI5"
      },
      "source": [
        "from osmnx you can create geodataframes (gdfs) from a netxworkx Graph"
      ]
    },
    {
      "cell_type": "code",
      "metadata": {
        "id": "uvZ_GuuB5tyn"
      },
      "source": [
        "gdfs = ox.graph_to_gdfs(G_proj)"
      ],
      "execution_count": 7,
      "outputs": []
    },
    {
      "cell_type": "code",
      "metadata": {
        "id": "JIkm4uWl5--4",
        "outputId": "668c0db3-4fbc-4e47-eb96-386534790e29",
        "colab": {
          "base_uri": "https://localhost:8080/",
          "height": 34
        }
      },
      "source": [
        "type(gdfs)"
      ],
      "execution_count": 8,
      "outputs": [
        {
          "output_type": "execute_result",
          "data": {
            "text/plain": [
              "tuple"
            ]
          },
          "metadata": {
            "tags": []
          },
          "execution_count": 8
        }
      ]
    },
    {
      "cell_type": "markdown",
      "metadata": {
        "id": "uw00012f6WGp"
      },
      "source": [
        "0 => nodes (points)<br/>\n",
        "1 => edges (lines)"
      ]
    },
    {
      "cell_type": "code",
      "metadata": {
        "id": "UwOING-B6IMi",
        "outputId": "c66ff923-e291-40cf-b4de-f002d2e93015",
        "colab": {
          "base_uri": "https://localhost:8080/",
          "height": 34
        }
      },
      "source": [
        "type(gdfs[0])"
      ],
      "execution_count": 9,
      "outputs": [
        {
          "output_type": "execute_result",
          "data": {
            "text/plain": [
              "geopandas.geodataframe.GeoDataFrame"
            ]
          },
          "metadata": {
            "tags": []
          },
          "execution_count": 9
        }
      ]
    },
    {
      "cell_type": "code",
      "metadata": {
        "id": "_gsWAuLK6Nhs",
        "outputId": "5111b471-d5b5-4c9b-fce9-8f821288b23c",
        "colab": {
          "base_uri": "https://localhost:8080/",
          "height": 34
        }
      },
      "source": [
        "gdfs[0].geometry.type.unique()"
      ],
      "execution_count": 10,
      "outputs": [
        {
          "output_type": "execute_result",
          "data": {
            "text/plain": [
              "array(['Point'], dtype=object)"
            ]
          },
          "metadata": {
            "tags": []
          },
          "execution_count": 10
        }
      ]
    },
    {
      "cell_type": "code",
      "metadata": {
        "id": "vQR0vxXB6GaY",
        "outputId": "874f2842-62e1-41e4-de98-9f7145e27946",
        "colab": {
          "base_uri": "https://localhost:8080/",
          "height": 34
        }
      },
      "source": [
        "gdfs[1].geometry.type.unique()"
      ],
      "execution_count": 11,
      "outputs": [
        {
          "output_type": "execute_result",
          "data": {
            "text/plain": [
              "array(['LineString'], dtype=object)"
            ]
          },
          "metadata": {
            "tags": []
          },
          "execution_count": 11
        }
      ]
    },
    {
      "cell_type": "markdown",
      "metadata": {
        "id": "nrUNCtq160P3"
      },
      "source": [
        "extract only the nodes (projected)\n"
      ]
    },
    {
      "cell_type": "code",
      "metadata": {
        "id": "iEBrfL9A1tYc"
      },
      "source": [
        "nodes_proj = ox.graph_to_gdfs(G_proj, edges=False, nodes=True)"
      ],
      "execution_count": 12,
      "outputs": []
    },
    {
      "cell_type": "code",
      "metadata": {
        "id": "ld_lGHGn2A-c",
        "outputId": "570c2ebc-1386-40c6-a2a5-328cfb6a4412",
        "colab": {
          "base_uri": "https://localhost:8080/",
          "height": 34
        }
      },
      "source": [
        "type(nodes_proj)"
      ],
      "execution_count": 13,
      "outputs": [
        {
          "output_type": "execute_result",
          "data": {
            "text/plain": [
              "geopandas.geodataframe.GeoDataFrame"
            ]
          },
          "metadata": {
            "tags": []
          },
          "execution_count": 13
        }
      ]
    },
    {
      "cell_type": "code",
      "metadata": {
        "id": "Nn_s7N0d2Ds_",
        "outputId": "3f790bd0-4f35-4710-acc6-c9f02a078741",
        "colab": {
          "base_uri": "https://localhost:8080/",
          "height": 243
        }
      },
      "source": [
        "nodes_proj.crs"
      ],
      "execution_count": 14,
      "outputs": [
        {
          "output_type": "execute_result",
          "data": {
            "text/plain": [
              "<Projected CRS: +proj=utm +zone=32 +ellps=WGS84 +datum=WGS84 +unit ...>\n",
              "Name: unknown\n",
              "Axis Info [cartesian]:\n",
              "- E[east]: Easting (metre)\n",
              "- N[north]: Northing (metre)\n",
              "Area of Use:\n",
              "- undefined\n",
              "Coordinate Operation:\n",
              "- name: UTM zone 32N\n",
              "- method: Transverse Mercator\n",
              "Datum: World Geodetic System 1984\n",
              "- Ellipsoid: WGS 84\n",
              "- Prime Meridian: Greenwich"
            ]
          },
          "metadata": {
            "tags": []
          },
          "execution_count": 14
        }
      ]
    },
    {
      "cell_type": "code",
      "metadata": {
        "id": "XPJT-jCA19PB",
        "outputId": "9e9e3a87-3dd7-40d4-a77e-eab77338f0e0",
        "colab": {
          "base_uri": "https://localhost:8080/",
          "height": 293
        }
      },
      "source": [
        "nodes_proj.plot()"
      ],
      "execution_count": 15,
      "outputs": [
        {
          "output_type": "execute_result",
          "data": {
            "text/plain": [
              "<AxesSubplot:>"
            ]
          },
          "metadata": {
            "tags": []
          },
          "execution_count": 15
        },
        {
          "output_type": "display_data",
          "data": {
            "image/png": "[encoded data removed]",
            "text/plain": [
              "<Figure size 432x288 with 1 Axes>"
            ]
          },
          "metadata": {
            "tags": [],
            "needs_background": "light"
          }
        }
      ]
    },
    {
      "cell_type": "code",
      "metadata": {
        "id": "WxYCR2-12QeK"
      },
      "source": [
        "lines_proj = ox.graph_to_gdfs(G_proj, nodes=False)"
      ],
      "execution_count": 16,
      "outputs": []
    },
    {
      "cell_type": "code",
      "metadata": {
        "id": "degGWPfv2W9e",
        "outputId": "1b9d8124-7130-4c65-c01d-dce2af51dbda",
        "colab": {
          "base_uri": "https://localhost:8080/",
          "height": 293
        }
      },
      "source": [
        "lines_proj.plot()"
      ],
      "execution_count": 17,
      "outputs": [
        {
          "output_type": "execute_result",
          "data": {
            "text/plain": [
              "<AxesSubplot:>"
            ]
          },
          "metadata": {
            "tags": []
          },
          "execution_count": 17
        },
        {
          "output_type": "display_data",
          "data": {
            "image/png": "[encoded data removed]",
            "text/plain": [
              "<Figure size 432x288 with 1 Axes>"
            ]
          },
          "metadata": {
            "tags": [],
            "needs_background": "light"
          }
        }
      ]
    },
    {
      "cell_type": "markdown",
      "metadata": {
        "id": "iM5G7KhW21QO"
      },
      "source": [
        "... and we can use it as a normal geodaframe<br/>\n",
        "\n",
        "Eg:<br/>\n",
        "what sized area does our network cover in square meters?"
      ]
    },
    {
      "cell_type": "code",
      "metadata": {
        "id": "U_OCI-exyAPd",
        "outputId": "69a079bb-4b44-4b82-9d1d-00f29fde5bcd",
        "colab": {
          "base_uri": "https://localhost:8080/",
          "height": 321
        }
      },
      "source": [
        "nodes_proj.unary_union.convex_hull"
      ],
      "execution_count": 18,
      "outputs": [
        {
          "output_type": "execute_result",
          "data": {
            "text/plain": [
              "<shapely.geometry.polygon.Polygon at 0x7f2538578240>"
            ],
            "image/svg+xml": "<svg xmlns=\"http://www.w3.org/2000/svg\" xmlns:xlink=\"http://www.w3.org/1999/xlink\" width=\"300\" height=\"300\" viewBox=\"659415.6237326092 5116691.027809308 4136.962154432316 5266.12482444942\" preserveAspectRatio=\"xMinYMin meet\"><g transform=\"matrix(1,0,0,-1,0,10238648.180443065)\"><path fill-rule=\"evenodd\" fill=\"#66cc99\" stroke=\"#555555\" stroke-width=\"35.1074988296628\" opacity=\"0.6\" d=\"M 661986.5355780862,5116886.069469472 L 659610.665392774,5121762.110973593 L 661167.7612024974,5121186.960161648 L 663357.5442268767,5119015.1057141395 L 662583.1635877092,5117443.931135447 L 661986.5355780862,5116886.069469472 z\" /></g></svg>"
          },
          "metadata": {
            "tags": []
          },
          "execution_count": 18
        }
      ]
    },
    {
      "cell_type": "code",
      "metadata": {
        "id": "eg_vjmSDkUrn",
        "outputId": "ef99305d-0360-4ef1-f857-9caf533c680f",
        "colab": {
          "base_uri": "https://localhost:8080/",
          "height": 34
        }
      },
      "source": [
        "graph_area_m = nodes_proj.unary_union.convex_hull.area\n",
        "graph_area_m"
      ],
      "execution_count": 19,
      "outputs": [
        {
          "output_type": "execute_result",
          "data": {
            "text/plain": [
              "7185574.137222286"
            ]
          },
          "metadata": {
            "tags": []
          },
          "execution_count": 19
        }
      ]
    },
    {
      "cell_type": "markdown",
      "metadata": {
        "id": "zS_kdss83GxN"
      },
      "source": [
        "with OSMnx we can extract some basic statistics "
      ]
    },
    {
      "cell_type": "code",
      "metadata": {
        "id": "qkQoJZ94kbiI",
        "outputId": "70c50343-5b42-4ba1-c2fc-5296821d3b15",
        "colab": {
          "base_uri": "https://localhost:8080/",
          "height": 434
        }
      },
      "source": [
        "ox.basic_stats(G_proj, area=graph_area_m, clean_intersects=True, circuity_dist='euclidean')"
      ],
      "execution_count": 20,
      "outputs": [
        {
          "output_type": "execute_result",
          "data": {
            "text/plain": [
              "{'circuity_avg': 1.064879568258031,\n",
              " 'clean_intersection_count': 122,\n",
              " 'clean_intersection_density_km': 16.978462356685295,\n",
              " 'edge_density_km': 9583.241044482424,\n",
              " 'edge_length_avg': 125.6589215328467,\n",
              " 'edge_length_total': 68861.08899999999,\n",
              " 'intersection_count': 193,\n",
              " 'intersection_density_km': 26.859370777379198,\n",
              " 'k_avg': 4.264591439688716,\n",
              " 'm': 548,\n",
              " 'n': 257,\n",
              " 'node_density_km': 35.76610512842722,\n",
              " 'self_loop_proportion': 0.0,\n",
              " 'street_density_km': 5705.753251868747,\n",
              " 'street_length_avg': 127.72309345794399,\n",
              " 'street_length_total': 40999.11300000002,\n",
              " 'street_segments_count': 321,\n",
              " 'streets_per_node_avg': 2.5486381322957197,\n",
              " 'streets_per_node_counts': {0: 0, 1: 64, 2: 1, 3: 179, 4: 13},\n",
              " 'streets_per_node_proportion': {0: 0.0,\n",
              "  1: 0.2490272373540856,\n",
              "  2: 0.0038910505836575876,\n",
              "  3: 0.6964980544747081,\n",
              "  4: 0.05058365758754864}}"
            ]
          },
          "metadata": {
            "tags": []
          },
          "execution_count": 20
        }
      ]
    },
    {
      "cell_type": "markdown",
      "metadata": {
        "id": "UVSjpGHT3Sx7"
      },
      "source": [
        ".. or simple plot directly the graph"
      ]
    },
    {
      "cell_type": "markdown",
      "metadata": {
        "id": "9OPw8PKu3YGh"
      },
      "source": [
        "or have more complex statitics based on the graph theory"
      ]
    },
    {
      "cell_type": "code",
      "metadata": {
        "id": "w2BT7FnVkkez",
        "outputId": "b4cd20ae-7e21-43ed-fea5-14a59e39ebef",
        "colab": {
          "base_uri": "https://localhost:8080/",
          "height": 434
        }
      },
      "source": [
        "more_stats = ox.extended_stats(G, ecc=True, bc=True, cc=True)\n",
        "for key in sorted(more_stats.keys()):\n",
        "    print(key)"
      ],
      "execution_count": 21,
      "outputs": [
        {
          "output_type": "stream",
          "text": [
            "avg_neighbor_degree\n",
            "avg_neighbor_degree_avg\n",
            "avg_weighted_neighbor_degree\n",
            "avg_weighted_neighbor_degree_avg\n",
            "betweenness_centrality\n",
            "betweenness_centrality_avg\n",
            "center\n",
            "closeness_centrality\n",
            "closeness_centrality_avg\n",
            "clustering_coefficient\n",
            "clustering_coefficient_avg\n",
            "clustering_coefficient_weighted\n",
            "clustering_coefficient_weighted_avg\n",
            "degree_centrality\n",
            "degree_centrality_avg\n",
            "diameter\n",
            "eccentricity\n",
            "pagerank\n",
            "pagerank_max\n",
            "pagerank_max_node\n",
            "pagerank_min\n",
            "pagerank_min_node\n",
            "periphery\n",
            "radius\n"
          ],
          "name": "stdout"
        }
      ]
    },
    {
      "cell_type": "markdown",
      "metadata": {
        "id": "A2FRZNYj0TeJ"
      },
      "source": [
        "## Glossary of the terms used by the statistics\n",
        "\n",
        "For a complete list look the [networkx documentation](https://networkx.org/documentation/stable/)\n",
        "\n",
        "- **density**<br/>defines the density of a graph. The density is 0 for a graph without edges and 1 for a complete graph. The density of multigraphs can be higher than 1.\n",
        "- **center**<br/>is the set of points with eccentricity equal to radius.\n",
        "- **betwnees centrality**<br/>is the number of possible interactions between two non-adjacent points\n",
        "- **closeness centrality**<br/>is the average distance of a point from all the others\n",
        "- **clustering coefficient**<br/>the measure of the degree to which points in a graph tend to cluster together\n",
        "- **degree centrality**<br/>the number of lines incident upon a point \n",
        "- **eccentricity** <br/>the eccentricity of a point in a graph is defined as the length of a longest shortest path starting at that point\n",
        "- **diameter**<br/>the maximum eccentricity\n",
        "- **edge connectivity**<br/>\n",
        "is equal to the minimum number of edges that must be removed to disconnect a graph or render it trivial.\n",
        "- **node connectivity**<br/>\n",
        "is equal to the minimum number of points that must be removed to disconnect a graph or render it trivial.\n",
        "- **pagerank**<br/>\n",
        "computes a ranking of the nodes (points) in a graph based on the structure of the incoming links (lines). It was originally designed as an algorithm to rank web pages.\n",
        "**periphery** <br/>is the set of nodes with eccentricity equal to the diameter\n",
        "**radius**<br/>is the minimum eccentricity."
      ]
    },
    {
      "cell_type": "markdown",
      "metadata": {
        "id": "bOvabKfmkRES"
      },
      "source": [
        "... and we can plot the map"
      ]
    },
    {
      "cell_type": "code",
      "metadata": {
        "id": "m7rlu90kj36z",
        "outputId": "3d9d581d-da0d-4c13-97a2-02646a0d0e44",
        "colab": {
          "base_uri": "https://localhost:8080/",
          "height": 466
        }
      },
      "source": [
        "fig, ax = ox.plot_graph(G)"
      ],
      "execution_count": 22,
      "outputs": [
        {
          "output_type": "display_data",
          "data": {
            "image/png": "[encoded data removed]",
            "text/plain": [
              "<Figure size 576x576 with 1 Axes>"
            ]
          },
          "metadata": {
            "tags": []
          }
        }
      ]
    },
    {
      "cell_type": "code",
      "metadata": {
        "id": "rcNmsINr47CI"
      },
      "source": [
        "import networkx as nx"
      ],
      "execution_count": 23,
      "outputs": []
    },
    {
      "cell_type": "code",
      "metadata": {
        "id": "_k-Qsj_JknoA"
      },
      "source": [
        "# convert graph to line graph so edges become nodes and vice versa\n",
        "edge_centrality = nx.closeness_centrality(nx.line_graph(G))\n",
        "nx.set_edge_attributes(G, edge_centrality, 'edge_centrality')"
      ],
      "execution_count": 24,
      "outputs": []
    },
    {
      "cell_type": "code",
      "metadata": {
        "id": "f5CxW3_Hkyi1",
        "outputId": "a06e00c3-e52a-4bf9-91ed-d4d3151cda21",
        "colab": {
          "base_uri": "https://localhost:8080/",
          "height": 466
        }
      },
      "source": [
        "# color edges in original graph with closeness centralities from line graph\n",
        "ec = ox.plot.get_edge_colors_by_attr(G, 'edge_centrality', cmap='inferno')\n",
        "fig, ax = ox.plot_graph(G, edge_color=ec, edge_linewidth=2, node_size=0)"
      ],
      "execution_count": 25,
      "outputs": [
        {
          "output_type": "display_data",
          "data": {
            "image/png": "[encoded data removed]",
            "text/plain": [
              "<Figure size 576x576 with 1 Axes>"
            ]
          },
          "metadata": {
            "tags": []
          }
        }
      ]
    },
    {
      "cell_type": "markdown",
      "metadata": {
        "id": "rUhqJ9BQ9Lp6"
      },
      "source": [
        "# Find the shortest path between 2 points by minimizing travel time\n"
      ]
    },
    {
      "cell_type": "markdown",
      "metadata": {
        "id": "vD0FRjqi9eCO"
      },
      "source": [
        "## calculate the travel time for each edge"
      ]
    },
    {
      "cell_type": "markdown",
      "metadata": {
        "id": "H73lI5C5f_7f"
      },
      "source": [
        "### define the origin and destination\n",
        "\n",
        "... for exampe the highschool and the train stationg of Mezzolombardo\n"
      ]
    },
    {
      "cell_type": "markdown",
      "metadata": {
        "id": "gRBh6OXuVXjr"
      },
      "source": [
        "**highschool**\n",
        "\n",
        "https://www.openstreetmap.org/?mlat=46.21751&mlon=11.09344#map=17/46.21751/11.09344\n",
        "\n",
        "lat: 46.21751<br/>\n",
        "lon: 11.09344\n",
        "\n",
        "\n",
        "**train station**\n",
        "\n",
        "https://www.openstreetmap.org/?mlat=46.2133&mlon=11.0934#map=16/46.2133/11.0934\n",
        "\n",
        "lat: 46.2133<br/>\n",
        "lon: 11.0934\n",
        "\n",
        "\n",
        "\n"
      ]
    },
    {
      "cell_type": "markdown",
      "metadata": {
        "id": "DqsnF49zWGFv"
      },
      "source": [
        "## find the node on the graph nearest on the point given\n",
        "\n",
        "thes two points are NOT on the graph.\n",
        "\n",
        "We need to find the nodes nearest"
      ]
    },
    {
      "cell_type": "code",
      "metadata": {
        "id": "CsYbAwvUaG4j"
      },
      "source": [
        "point_school =  (46.21751, 11.09344)\n",
        "point_trainstation = (46.2133, 11.0934)"
      ],
      "execution_count": 26,
      "outputs": []
    },
    {
      "cell_type": "code",
      "metadata": {
        "id": "2GxNbeGhk-_X"
      },
      "source": [
        "point_nearest_school = ox.get_nearest_node(G, point_school)\n",
        "point_nearest_trainstation = ox.get_nearest_node(G, point_trainstation)"
      ],
      "execution_count": 27,
      "outputs": []
    },
    {
      "cell_type": "markdown",
      "metadata": {
        "id": "fwovP9D1g2QD"
      },
      "source": [
        "### calculate the time to walk over each edges"
      ]
    },
    {
      "cell_type": "code",
      "metadata": {
        "id": "lNXksVN1f5Jn"
      },
      "source": [
        "G = ox.graph_from_place(place_name, network_type='walk')"
      ],
      "execution_count": 28,
      "outputs": []
    },
    {
      "cell_type": "markdown",
      "metadata": {
        "id": "ZZfQBIfBbbhg"
      },
      "source": [
        "plot the walkable street network"
      ]
    },
    {
      "cell_type": "code",
      "metadata": {
        "id": "N9AmZbRw18vp",
        "outputId": "1e57ff7c-bfce-4a58-f80a-97e9b4013ec5",
        "colab": {
          "base_uri": "https://localhost:8080/",
          "height": 466
        }
      },
      "source": [
        "fig, ax = ox.plot_graph(G)"
      ],
      "execution_count": 29,
      "outputs": [
        {
          "output_type": "display_data",
          "data": {
            "image/png": "[encoded data removed]",
            "text/plain": [
              "<Figure size 576x576 with 1 Axes>"
            ]
          },
          "metadata": {
            "tags": []
          }
        }
      ]
    },
    {
      "cell_type": "code",
      "metadata": {
        "id": "f8UV8aYCkzah"
      },
      "source": [
        "G = ox.add_edge_speeds(G)\n",
        "G = ox.add_edge_travel_times(G)"
      ],
      "execution_count": 30,
      "outputs": []
    },
    {
      "cell_type": "markdown",
      "metadata": {
        "id": "EicxLIf6g9fC"
      },
      "source": [
        "... geopandas investigation"
      ]
    },
    {
      "cell_type": "code",
      "metadata": {
        "id": "jvyLWvjr5Ggs"
      },
      "source": [
        "edges = ox.graph_to_gdfs(G,edges=True,nodes=False)"
      ],
      "execution_count": 31,
      "outputs": []
    },
    {
      "cell_type": "code",
      "metadata": {
        "id": "uJRVW3kY5bbv",
        "outputId": "176269b0-5167-4d19-8dab-205a6f92d5d1",
        "colab": {
          "base_uri": "https://localhost:8080/",
          "height": 248
        }
      },
      "source": [
        "edges.head(3)"
      ],
      "execution_count": 32,
      "outputs": [
        {
          "output_type": "execute_result",
          "data": {
            "text/html": [
              "<div>\n",
              "<style scoped>\n",
              "    .dataframe tbody tr th:only-of-type {\n",
              "        vertical-align: middle;\n",
              "    }\n",
              "\n",
              "    .dataframe tbody tr th {\n",
              "        vertical-align: top;\n",
              "    }\n",
              "\n",
              "    .dataframe thead th {\n",
              "        text-align: right;\n",
              "    }\n",
              "</style>\n",
              "<table border=\"1\" class=\"dataframe\">\n",
              "  <thead>\n",
              "    <tr style=\"text-align: right;\">\n",
              "      <th></th>\n",
              "      <th>osmid</th>\n",
              "      <th>ref</th>\n",
              "      <th>name</th>\n",
              "      <th>highway</th>\n",
              "      <th>maxspeed</th>\n",
              "      <th>oneway</th>\n",
              "      <th>length</th>\n",
              "      <th>speed_kph</th>\n",
              "      <th>travel_time</th>\n",
              "      <th>geometry</th>\n",
              "      <th>service</th>\n",
              "      <th>junction</th>\n",
              "      <th>bridge</th>\n",
              "      <th>access</th>\n",
              "      <th>tunnel</th>\n",
              "      <th>u</th>\n",
              "      <th>v</th>\n",
              "      <th>key</th>\n",
              "    </tr>\n",
              "  </thead>\n",
              "  <tbody>\n",
              "    <tr>\n",
              "      <th>0</th>\n",
              "      <td>30275775</td>\n",
              "      <td>SS43</td>\n",
              "      <td>Strada Statale della Val di Non</td>\n",
              "      <td>secondary</td>\n",
              "      <td>50</td>\n",
              "      <td>False</td>\n",
              "      <td>33.870</td>\n",
              "      <td>50.0</td>\n",
              "      <td>2.4</td>\n",
              "      <td>LINESTRING (11.10212 46.20870, 11.10256 46.20868)</td>\n",
              "      <td>NaN</td>\n",
              "      <td>NaN</td>\n",
              "      <td>NaN</td>\n",
              "      <td>NaN</td>\n",
              "      <td>NaN</td>\n",
              "      <td>82450966</td>\n",
              "      <td>1669326208</td>\n",
              "      <td>0</td>\n",
              "    </tr>\n",
              "    <tr>\n",
              "      <th>1</th>\n",
              "      <td>30275775</td>\n",
              "      <td>SS43</td>\n",
              "      <td>Strada Statale della Val di Non</td>\n",
              "      <td>secondary</td>\n",
              "      <td>50</td>\n",
              "      <td>False</td>\n",
              "      <td>72.163</td>\n",
              "      <td>50.0</td>\n",
              "      <td>5.2</td>\n",
              "      <td>LINESTRING (11.10212 46.20870, 11.10154 46.208...</td>\n",
              "      <td>NaN</td>\n",
              "      <td>NaN</td>\n",
              "      <td>NaN</td>\n",
              "      <td>NaN</td>\n",
              "      <td>NaN</td>\n",
              "      <td>82450966</td>\n",
              "      <td>268811327</td>\n",
              "      <td>0</td>\n",
              "    </tr>\n",
              "    <tr>\n",
              "      <th>2</th>\n",
              "      <td>34257473</td>\n",
              "      <td>NaN</td>\n",
              "      <td>NaN</td>\n",
              "      <td>service</td>\n",
              "      <td>NaN</td>\n",
              "      <td>False</td>\n",
              "      <td>14.375</td>\n",
              "      <td>24.3</td>\n",
              "      <td>2.1</td>\n",
              "      <td>LINESTRING (11.10212 46.20870, 11.10205 46.208...</td>\n",
              "      <td>parking_aisle</td>\n",
              "      <td>NaN</td>\n",
              "      <td>NaN</td>\n",
              "      <td>NaN</td>\n",
              "      <td>NaN</td>\n",
              "      <td>82450966</td>\n",
              "      <td>392889118</td>\n",
              "      <td>0</td>\n",
              "    </tr>\n",
              "  </tbody>\n",
              "</table>\n",
              "</div>"
            ],
            "text/plain": [
              "      osmid   ref                             name  ...         u           v  key\n",
              "0  30275775  SS43  Strada Statale della Val di Non  ...  82450966  1669326208    0\n",
              "1  30275775  SS43  Strada Statale della Val di Non  ...  82450966   268811327    0\n",
              "2  34257473   NaN                              NaN  ...  82450966   392889118    0\n",
              "\n",
              "[3 rows x 18 columns]"
            ]
          },
          "metadata": {
            "tags": []
          },
          "execution_count": 32
        }
      ]
    },
    {
      "cell_type": "code",
      "metadata": {
        "id": "uOeepUIoQn2m",
        "outputId": "7ba1d557-44a4-408e-acaf-7c26d3ffffe0",
        "colab": {
          "base_uri": "https://localhost:8080/",
          "height": 86
        }
      },
      "source": [
        "edges.columns"
      ],
      "execution_count": 33,
      "outputs": [
        {
          "output_type": "execute_result",
          "data": {
            "text/plain": [
              "Index(['osmid', 'ref', 'name', 'highway', 'maxspeed', 'oneway', 'length',\n",
              "       'speed_kph', 'travel_time', 'geometry', 'service', 'junction', 'bridge',\n",
              "       'access', 'tunnel', 'u', 'v', 'key'],\n",
              "      dtype='object')"
            ]
          },
          "metadata": {
            "tags": []
          },
          "execution_count": 33
        }
      ]
    },
    {
      "cell_type": "code",
      "metadata": {
        "id": "RtoyPw9lOIeZ",
        "outputId": "ca89e410-c232-427a-f6ef-ba061f0d745b",
        "colab": {
          "base_uri": "https://localhost:8080/",
          "height": 69
        }
      },
      "source": [
        "edges[edges.travel_time == edges.travel_time.max()].name"
      ],
      "execution_count": 34,
      "outputs": [
        {
          "output_type": "execute_result",
          "data": {
            "text/plain": [
              "2483    NaN\n",
              "2687    NaN\n",
              "Name: name, dtype: object"
            ]
          },
          "metadata": {
            "tags": []
          },
          "execution_count": 34
        }
      ]
    },
    {
      "cell_type": "code",
      "metadata": {
        "id": "bgBwYTj9QlQ_",
        "outputId": "922c1103-2e67-48ca-92e9-033eef1781d2",
        "colab": {
          "base_uri": "https://localhost:8080/",
          "height": 69
        }
      },
      "source": [
        "edges[edges.travel_time == edges.travel_time.max()].osmid"
      ],
      "execution_count": 35,
      "outputs": [
        {
          "output_type": "execute_result",
          "data": {
            "text/plain": [
              "2483    660422718\n",
              "2687    660422718\n",
              "Name: osmid, dtype: object"
            ]
          },
          "metadata": {
            "tags": []
          },
          "execution_count": 35
        }
      ]
    },
    {
      "cell_type": "markdown",
      "metadata": {
        "id": "i2Y0nGG_Uv9k"
      },
      "source": [
        "![](https://raw.githubusercontent.com/napo/geospatial_course_unitn/master/images/osmid_3400471.png)\n",
        "\n",
        "https://www.openstreetmap.org/way/34004791"
      ]
    },
    {
      "cell_type": "markdown",
      "metadata": {
        "id": "1uJrvcZXWsQb"
      },
      "source": [
        "## find the shortest path between the train station and the school "
      ]
    },
    {
      "cell_type": "code",
      "metadata": {
        "id": "WsSF9_OalbkG"
      },
      "source": [
        "route = ox.shortest_path(G, point_nearest_trainstation, point_nearest_school, weight='travel_time')"
      ],
      "execution_count": 62,
      "outputs": []
    },
    {
      "cell_type": "code",
      "metadata": {
        "id": "AO0dBN_WXYPY",
        "outputId": "75a75f21-eb5a-451d-a23b-8f704dcb4bd7",
        "colab": {
          "base_uri": "https://localhost:8080/",
          "height": 416
        }
      },
      "source": [
        "route"
      ],
      "execution_count": 63,
      "outputs": [
        {
          "output_type": "execute_result",
          "data": {
            "text/plain": [
              "[388416104,\n",
              " 885639428,\n",
              " 1305986901,\n",
              " 1305986871,\n",
              " 2274146551,\n",
              " 937561848,\n",
              " 861050486,\n",
              " 1168688867,\n",
              " 861049754,\n",
              " 388416092,\n",
              " 861049817,\n",
              " 1168688982,\n",
              " 276977978,\n",
              " 276977352,\n",
              " 276977351,\n",
              " 331259712,\n",
              " 1168689199,\n",
              " 1168688986,\n",
              " 331259708,\n",
              " 276977130,\n",
              " 973022445,\n",
              " 2249094490,\n",
              " 276977119]"
            ]
          },
          "metadata": {
            "tags": []
          },
          "execution_count": 63
        }
      ]
    },
    {
      "cell_type": "code",
      "metadata": {
        "id": "eIL5c3qNyleB",
        "outputId": "7ce07605-2957-487f-cd49-9103aade2f56",
        "colab": {
          "base_uri": "https://localhost:8080/",
          "height": 54
        }
      },
      "source": [
        "G[388416104]"
      ],
      "execution_count": 38,
      "outputs": [
        {
          "output_type": "execute_result",
          "data": {
            "text/plain": [
              "AdjacencyView({885639428: {0: {'osmid': 28881638, 'name': 'Via San Francesco', 'highway': 'residential', 'oneway': False, 'length': 3.771, 'speed_kph': 10.0, 'travel_time': 1.4}}, 388416101: {0: {'osmid': 80400799, 'oneway': False, 'name': 'Via San Francesco', 'highway': 'residential', 'length': 62.319, 'speed_kph': 10.0, 'travel_time': 22.4}}, 885639383: {0: {'osmid': 179318888, 'name': 'Via Arturo De Varda', 'highway': 'residential', 'oneway': False, 'length': 64.554, 'geometry': <shapely.geometry.linestring.LineString object at 0x7f253779f160>, 'speed_kph': 10.0, 'travel_time': 23.2}}})"
            ]
          },
          "metadata": {
            "tags": []
          },
          "execution_count": 38
        }
      ]
    },
    {
      "cell_type": "code",
      "metadata": {
        "id": "buiubnzsyxca",
        "outputId": "efb7e9f0-4b77-403f-8d71-c9ea69346e24",
        "colab": {
          "base_uri": "https://localhost:8080/",
          "height": 1000
        }
      },
      "source": [
        "edges[edges.u.isin(route)]"
      ],
      "execution_count": 39,
      "outputs": [
        {
          "output_type": "execute_result",
          "data": {
            "text/html": [
              "<div>\n",
              "<style scoped>\n",
              "    .dataframe tbody tr th:only-of-type {\n",
              "        vertical-align: middle;\n",
              "    }\n",
              "\n",
              "    .dataframe tbody tr th {\n",
              "        vertical-align: top;\n",
              "    }\n",
              "\n",
              "    .dataframe thead th {\n",
              "        text-align: right;\n",
              "    }\n",
              "</style>\n",
              "<table border=\"1\" class=\"dataframe\">\n",
              "  <thead>\n",
              "    <tr style=\"text-align: right;\">\n",
              "      <th></th>\n",
              "      <th>osmid</th>\n",
              "      <th>ref</th>\n",
              "      <th>name</th>\n",
              "      <th>highway</th>\n",
              "      <th>maxspeed</th>\n",
              "      <th>oneway</th>\n",
              "      <th>length</th>\n",
              "      <th>speed_kph</th>\n",
              "      <th>travel_time</th>\n",
              "      <th>geometry</th>\n",
              "      <th>service</th>\n",
              "      <th>junction</th>\n",
              "      <th>bridge</th>\n",
              "      <th>access</th>\n",
              "      <th>tunnel</th>\n",
              "      <th>u</th>\n",
              "      <th>v</th>\n",
              "      <th>key</th>\n",
              "    </tr>\n",
              "  </thead>\n",
              "  <tbody>\n",
              "    <tr>\n",
              "      <th>108</th>\n",
              "      <td>42293674</td>\n",
              "      <td>NaN</td>\n",
              "      <td>NaN</td>\n",
              "      <td>residential</td>\n",
              "      <td>NaN</td>\n",
              "      <td>False</td>\n",
              "      <td>36.217</td>\n",
              "      <td>10.0</td>\n",
              "      <td>13.0</td>\n",
              "      <td>LINESTRING (11.09323 46.21839, 11.09359 46.21860)</td>\n",
              "      <td>NaN</td>\n",
              "      <td>NaN</td>\n",
              "      <td>NaN</td>\n",
              "      <td>NaN</td>\n",
              "      <td>NaN</td>\n",
              "      <td>276977119</td>\n",
              "      <td>527734693</td>\n",
              "      <td>0</td>\n",
              "    </tr>\n",
              "    <tr>\n",
              "      <th>109</th>\n",
              "      <td>25414040</td>\n",
              "      <td>NaN</td>\n",
              "      <td>Via Giorgio Perlasca</td>\n",
              "      <td>residential</td>\n",
              "      <td>NaN</td>\n",
              "      <td>False</td>\n",
              "      <td>34.547</td>\n",
              "      <td>10.0</td>\n",
              "      <td>12.4</td>\n",
              "      <td>LINESTRING (11.09323 46.21839, 11.09317 46.218...</td>\n",
              "      <td>NaN</td>\n",
              "      <td>NaN</td>\n",
              "      <td>NaN</td>\n",
              "      <td>NaN</td>\n",
              "      <td>NaN</td>\n",
              "      <td>276977119</td>\n",
              "      <td>2249094490</td>\n",
              "      <td>0</td>\n",
              "    </tr>\n",
              "    <tr>\n",
              "      <th>110</th>\n",
              "      <td>25414040</td>\n",
              "      <td>NaN</td>\n",
              "      <td>Via Giorgio Perlasca</td>\n",
              "      <td>residential</td>\n",
              "      <td>NaN</td>\n",
              "      <td>False</td>\n",
              "      <td>60.521</td>\n",
              "      <td>10.0</td>\n",
              "      <td>21.8</td>\n",
              "      <td>LINESTRING (11.09323 46.21839, 11.09320 46.218...</td>\n",
              "      <td>NaN</td>\n",
              "      <td>NaN</td>\n",
              "      <td>NaN</td>\n",
              "      <td>NaN</td>\n",
              "      <td>NaN</td>\n",
              "      <td>276977119</td>\n",
              "      <td>276977118</td>\n",
              "      <td>0</td>\n",
              "    </tr>\n",
              "    <tr>\n",
              "      <th>111</th>\n",
              "      <td>25414040</td>\n",
              "      <td>NaN</td>\n",
              "      <td>Via Giorgio Perlasca</td>\n",
              "      <td>residential</td>\n",
              "      <td>NaN</td>\n",
              "      <td>False</td>\n",
              "      <td>7.986</td>\n",
              "      <td>10.0</td>\n",
              "      <td>2.9</td>\n",
              "      <td>LINESTRING (11.09404 46.21657, 11.09405 46.21665)</td>\n",
              "      <td>NaN</td>\n",
              "      <td>NaN</td>\n",
              "      <td>NaN</td>\n",
              "      <td>NaN</td>\n",
              "      <td>NaN</td>\n",
              "      <td>276977130</td>\n",
              "      <td>973022445</td>\n",
              "      <td>0</td>\n",
              "    </tr>\n",
              "    <tr>\n",
              "      <th>112</th>\n",
              "      <td>26286316</td>\n",
              "      <td>NaN</td>\n",
              "      <td>Via Rotaliana</td>\n",
              "      <td>tertiary</td>\n",
              "      <td>NaN</td>\n",
              "      <td>False</td>\n",
              "      <td>12.492</td>\n",
              "      <td>52.0</td>\n",
              "      <td>0.9</td>\n",
              "      <td>LINESTRING (11.09404 46.21657, 11.09420 46.21657)</td>\n",
              "      <td>NaN</td>\n",
              "      <td>NaN</td>\n",
              "      <td>NaN</td>\n",
              "      <td>NaN</td>\n",
              "      <td>NaN</td>\n",
              "      <td>276977130</td>\n",
              "      <td>527734678</td>\n",
              "      <td>0</td>\n",
              "    </tr>\n",
              "    <tr>\n",
              "      <th>...</th>\n",
              "      <td>...</td>\n",
              "      <td>...</td>\n",
              "      <td>...</td>\n",
              "      <td>...</td>\n",
              "      <td>...</td>\n",
              "      <td>...</td>\n",
              "      <td>...</td>\n",
              "      <td>...</td>\n",
              "      <td>...</td>\n",
              "      <td>...</td>\n",
              "      <td>...</td>\n",
              "      <td>...</td>\n",
              "      <td>...</td>\n",
              "      <td>...</td>\n",
              "      <td>...</td>\n",
              "      <td>...</td>\n",
              "      <td>...</td>\n",
              "      <td>...</td>\n",
              "    </tr>\n",
              "    <tr>\n",
              "      <th>2431</th>\n",
              "      <td>25414040</td>\n",
              "      <td>NaN</td>\n",
              "      <td>Via Giorgio Perlasca</td>\n",
              "      <td>residential</td>\n",
              "      <td>NaN</td>\n",
              "      <td>False</td>\n",
              "      <td>34.547</td>\n",
              "      <td>10.0</td>\n",
              "      <td>12.4</td>\n",
              "      <td>LINESTRING (11.09315 46.21808, 11.09317 46.218...</td>\n",
              "      <td>NaN</td>\n",
              "      <td>NaN</td>\n",
              "      <td>NaN</td>\n",
              "      <td>NaN</td>\n",
              "      <td>NaN</td>\n",
              "      <td>2249094490</td>\n",
              "      <td>276977119</td>\n",
              "      <td>0</td>\n",
              "    </tr>\n",
              "    <tr>\n",
              "      <th>2463</th>\n",
              "      <td>80334024</td>\n",
              "      <td>NaN</td>\n",
              "      <td>NaN</td>\n",
              "      <td>service</td>\n",
              "      <td>NaN</td>\n",
              "      <td>False</td>\n",
              "      <td>5.819</td>\n",
              "      <td>24.3</td>\n",
              "      <td>0.9</td>\n",
              "      <td>LINESTRING (11.09250 46.21473, 11.09245 46.21477)</td>\n",
              "      <td>NaN</td>\n",
              "      <td>NaN</td>\n",
              "      <td>NaN</td>\n",
              "      <td>NaN</td>\n",
              "      <td>NaN</td>\n",
              "      <td>2274146551</td>\n",
              "      <td>937561848</td>\n",
              "      <td>0</td>\n",
              "    </tr>\n",
              "    <tr>\n",
              "      <th>2464</th>\n",
              "      <td>80334024</td>\n",
              "      <td>NaN</td>\n",
              "      <td>NaN</td>\n",
              "      <td>service</td>\n",
              "      <td>NaN</td>\n",
              "      <td>False</td>\n",
              "      <td>30.744</td>\n",
              "      <td>24.3</td>\n",
              "      <td>4.6</td>\n",
              "      <td>LINESTRING (11.09250 46.21473, 11.09254 46.214...</td>\n",
              "      <td>NaN</td>\n",
              "      <td>NaN</td>\n",
              "      <td>NaN</td>\n",
              "      <td>NaN</td>\n",
              "      <td>NaN</td>\n",
              "      <td>2274146551</td>\n",
              "      <td>937562241</td>\n",
              "      <td>0</td>\n",
              "    </tr>\n",
              "    <tr>\n",
              "      <th>2465</th>\n",
              "      <td>[115648606, 428490935]</td>\n",
              "      <td>NaN</td>\n",
              "      <td>NaN</td>\n",
              "      <td>footway</td>\n",
              "      <td>NaN</td>\n",
              "      <td>False</td>\n",
              "      <td>47.996</td>\n",
              "      <td>37.0</td>\n",
              "      <td>4.7</td>\n",
              "      <td>LINESTRING (11.09250 46.21473, 11.09247 46.214...</td>\n",
              "      <td>NaN</td>\n",
              "      <td>NaN</td>\n",
              "      <td>NaN</td>\n",
              "      <td>NaN</td>\n",
              "      <td>NaN</td>\n",
              "      <td>2274146551</td>\n",
              "      <td>1305986871</td>\n",
              "      <td>0</td>\n",
              "    </tr>\n",
              "    <tr>\n",
              "      <th>2466</th>\n",
              "      <td>[428490936, 140993491, 428490935]</td>\n",
              "      <td>NaN</td>\n",
              "      <td>NaN</td>\n",
              "      <td>footway</td>\n",
              "      <td>NaN</td>\n",
              "      <td>False</td>\n",
              "      <td>23.955</td>\n",
              "      <td>37.0</td>\n",
              "      <td>2.3</td>\n",
              "      <td>LINESTRING (11.09250 46.21473, 11.09253 46.214...</td>\n",
              "      <td>NaN</td>\n",
              "      <td>NaN</td>\n",
              "      <td>NaN</td>\n",
              "      <td>NaN</td>\n",
              "      <td>NaN</td>\n",
              "      <td>2274146551</td>\n",
              "      <td>861050486</td>\n",
              "      <td>0</td>\n",
              "    </tr>\n",
              "  </tbody>\n",
              "</table>\n",
              "<p>73 rows × 18 columns</p>\n",
              "</div>"
            ],
            "text/plain": [
              "                                  osmid  ref  ...           v key\n",
              "108                            42293674  NaN  ...   527734693   0\n",
              "109                            25414040  NaN  ...  2249094490   0\n",
              "110                            25414040  NaN  ...   276977118   0\n",
              "111                            25414040  NaN  ...   973022445   0\n",
              "112                            26286316  NaN  ...   527734678   0\n",
              "...                                 ...  ...  ...         ...  ..\n",
              "2431                           25414040  NaN  ...   276977119   0\n",
              "2463                           80334024  NaN  ...   937561848   0\n",
              "2464                           80334024  NaN  ...   937562241   0\n",
              "2465             [115648606, 428490935]  NaN  ...  1305986871   0\n",
              "2466  [428490936, 140993491, 428490935]  NaN  ...   861050486   0\n",
              "\n",
              "[73 rows x 18 columns]"
            ]
          },
          "metadata": {
            "tags": []
          },
          "execution_count": 39
        }
      ]
    },
    {
      "cell_type": "code",
      "metadata": {
        "id": "oq0qvzvaXG_l",
        "outputId": "aeae2856-c383-46c8-bda7-fa9f9680e71c",
        "colab": {
          "base_uri": "https://localhost:8080/",
          "height": 904
        }
      },
      "source": [
        "ox.plot_route_folium(G,route,popup_attribute='name',tiles='OpenStreetMap')"
      ],
      "execution_count": 65,
      "outputs": [
        {
          "output_type": "execute_result",
          "data": {
            "text/html": [
              "<div style=\"width:100%;\"><div style=\"position:relative;width:100%;height:0;padding-bottom:60%;\"><span style=\"color:#565656\">Make this Notebook Trusted to load map: File -> Trust Notebook</span><iframe src=\"about:blank\" style=\"position:absolute;width:100%;height:100%;left:0;top:0;border:none !important;\" data-html=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 onload=\"this.contentDocument.open();this.contentDocument.write(atob(this.getAttribute('data-html')));this.contentDocument.close();\" allowfullscreen webkitallowfullscreen mozallowfullscreen></iframe></div></div>"
            ],
            "text/plain": [
              "<folium.folium.Map at 0x7f2533fa9518>"
            ]
          },
          "metadata": {
            "tags": []
          },
          "execution_count": 65
        }
      ]
    },
    {
      "cell_type": "markdown",
      "metadata": {
        "id": "BGweYa75cjsn"
      },
      "source": [
        "how long is our route in meters?"
      ]
    },
    {
      "cell_type": "code",
      "metadata": {
        "id": "tHM2ceW1lgj2",
        "outputId": "1f8510c5-b58a-4771-c55f-d4b442f71d02",
        "colab": {
          "base_uri": "https://localhost:8080/",
          "height": 34
        }
      },
      "source": [
        "edge_lengths = ox.utils_graph.get_route_edge_attributes(G, route, 'length')\n",
        "sum(edge_lengths)"
      ],
      "execution_count": 68,
      "outputs": [
        {
          "output_type": "execute_result",
          "data": {
            "text/plain": [
              "753.9340000000001"
            ]
          },
          "metadata": {
            "tags": []
          },
          "execution_count": 68
        }
      ]
    },
    {
      "cell_type": "markdown",
      "metadata": {
        "id": "dAIVWpaYxXeA"
      },
      "source": [
        "how many minutes does it take?"
      ]
    },
    {
      "cell_type": "code",
      "metadata": {
        "id": "3BFFbLtUxquS"
      },
      "source": [
        "import datetime"
      ],
      "execution_count": 69,
      "outputs": []
    },
    {
      "cell_type": "code",
      "metadata": {
        "id": "yAK5LtxHwryy"
      },
      "source": [
        "edge_times = ox.utils_graph.get_route_edge_attributes(G, route, 'travel_time')\n",
        "seconds = sum(edge_times)"
      ],
      "execution_count": 43,
      "outputs": []
    },
    {
      "cell_type": "code",
      "metadata": {
        "id": "BtRLMSRi4aW6",
        "outputId": "1edcf0e9-7ccd-434a-d5c5-8e430bd95d9b",
        "colab": {
          "base_uri": "https://localhost:8080/",
          "height": 34
        }
      },
      "source": [
        "seconds"
      ],
      "execution_count": 44,
      "outputs": [
        {
          "output_type": "execute_result",
          "data": {
            "text/plain": [
              "123.4"
            ]
          },
          "metadata": {
            "tags": []
          },
          "execution_count": 44
        }
      ]
    },
    {
      "cell_type": "code",
      "metadata": {
        "id": "KLtO9wbyxr3V",
        "outputId": "fb881600-f0d6-4864-ce47-b5dd88090d31",
        "colab": {
          "base_uri": "https://localhost:8080/",
          "height": 36
        }
      },
      "source": [
        "str(datetime.timedelta(seconds=seconds))"
      ],
      "execution_count": 45,
      "outputs": [
        {
          "output_type": "execute_result",
          "data": {
            "application/vnd.google.colaboratory.intrinsic+json": {
              "type": "string"
            },
            "text/plain": [
              "'0:02:03.400000'"
            ]
          },
          "metadata": {
            "tags": []
          },
          "execution_count": 45
        }
      ]
    },
    {
      "cell_type": "markdown",
      "metadata": {
        "id": "EYF3Aoj5kknS"
      },
      "source": [
        "## calculate bearing\n",
        "\n",
        "Calculate the compass bearing from origin node to destination node for each edge in the directed graph then add each bearing as a new edge attribute. Bearing represents angle in degrees (clockwise) between north and the direction from the origin node to the destination node.\n",
        "<br/><br/>\n"
      ]
    },
    {
      "cell_type": "code",
      "metadata": {
        "id": "lc7vMLHBkvMs"
      },
      "source": [
        "import geopandas as gpd\n",
        "import folium"
      ],
      "execution_count": 46,
      "outputs": []
    },
    {
      "cell_type": "code",
      "metadata": {
        "id": "G-K2GyeonNfT"
      },
      "source": [
        "cols = ['city']\n",
        "names = [('Roma'),('Trento'),('Genova'),('Trieste')]\n",
        "cities = gpd.GeoDataFrame(names,columns=cols)\n",
        "geo_cities = gpd.tools.geocode(cities.city, provider=\"arcgis\")"
      ],
      "execution_count": 47,
      "outputs": []
    },
    {
      "cell_type": "code",
      "metadata": {
        "id": "IpihFZNy6x0k",
        "outputId": "759983e1-5bfa-4120-ebaf-c28599e57792",
        "colab": {
          "base_uri": "https://localhost:8080/",
          "height": 175
        }
      },
      "source": [
        "cities"
      ],
      "execution_count": 48,
      "outputs": [
        {
          "output_type": "execute_result",
          "data": {
            "text/html": [
              "<div>\n",
              "<style scoped>\n",
              "    .dataframe tbody tr th:only-of-type {\n",
              "        vertical-align: middle;\n",
              "    }\n",
              "\n",
              "    .dataframe tbody tr th {\n",
              "        vertical-align: top;\n",
              "    }\n",
              "\n",
              "    .dataframe thead th {\n",
              "        text-align: right;\n",
              "    }\n",
              "</style>\n",
              "<table border=\"1\" class=\"dataframe\">\n",
              "  <thead>\n",
              "    <tr style=\"text-align: right;\">\n",
              "      <th></th>\n",
              "      <th>city</th>\n",
              "    </tr>\n",
              "  </thead>\n",
              "  <tbody>\n",
              "    <tr>\n",
              "      <th>0</th>\n",
              "      <td>Roma</td>\n",
              "    </tr>\n",
              "    <tr>\n",
              "      <th>1</th>\n",
              "      <td>Trento</td>\n",
              "    </tr>\n",
              "    <tr>\n",
              "      <th>2</th>\n",
              "      <td>Genova</td>\n",
              "    </tr>\n",
              "    <tr>\n",
              "      <th>3</th>\n",
              "      <td>Trieste</td>\n",
              "    </tr>\n",
              "  </tbody>\n",
              "</table>\n",
              "</div>"
            ],
            "text/plain": [
              "      city\n",
              "0     Roma\n",
              "1   Trento\n",
              "2   Genova\n",
              "3  Trieste"
            ]
          },
          "metadata": {
            "tags": []
          },
          "execution_count": 48
        }
      ]
    },
    {
      "cell_type": "code",
      "metadata": {
        "id": "W5Psk-yMnrXr",
        "outputId": "33f16563-5196-45d1-f524-9a78d96a3e6a",
        "colab": {
          "base_uri": "https://localhost:8080/",
          "height": 175
        }
      },
      "source": [
        "geo_cities"
      ],
      "execution_count": 49,
      "outputs": [
        {
          "output_type": "execute_result",
          "data": {
            "text/html": [
              "<div>\n",
              "<style scoped>\n",
              "    .dataframe tbody tr th:only-of-type {\n",
              "        vertical-align: middle;\n",
              "    }\n",
              "\n",
              "    .dataframe tbody tr th {\n",
              "        vertical-align: top;\n",
              "    }\n",
              "\n",
              "    .dataframe thead th {\n",
              "        text-align: right;\n",
              "    }\n",
              "</style>\n",
              "<table border=\"1\" class=\"dataframe\">\n",
              "  <thead>\n",
              "    <tr style=\"text-align: right;\">\n",
              "      <th></th>\n",
              "      <th>geometry</th>\n",
              "      <th>address</th>\n",
              "    </tr>\n",
              "  </thead>\n",
              "  <tbody>\n",
              "    <tr>\n",
              "      <th>0</th>\n",
              "      <td>POINT (12.49565 41.90322)</td>\n",
              "      <td>Roma</td>\n",
              "    </tr>\n",
              "    <tr>\n",
              "      <th>1</th>\n",
              "      <td>POINT (11.11926 46.07005)</td>\n",
              "      <td>Trento</td>\n",
              "    </tr>\n",
              "    <tr>\n",
              "      <th>2</th>\n",
              "      <td>POINT (8.93898 44.41039)</td>\n",
              "      <td>Genova</td>\n",
              "    </tr>\n",
              "    <tr>\n",
              "      <th>3</th>\n",
              "      <td>POINT (13.77269 45.65757)</td>\n",
              "      <td>Trieste</td>\n",
              "    </tr>\n",
              "  </tbody>\n",
              "</table>\n",
              "</div>"
            ],
            "text/plain": [
              "                    geometry  address\n",
              "0  POINT (12.49565 41.90322)     Roma\n",
              "1  POINT (11.11926 46.07005)   Trento\n",
              "2   POINT (8.93898 44.41039)   Genova\n",
              "3  POINT (13.77269 45.65757)  Trieste"
            ]
          },
          "metadata": {
            "tags": []
          },
          "execution_count": 49
        }
      ]
    },
    {
      "cell_type": "code",
      "metadata": {
        "id": "99WtFilDojiB"
      },
      "source": [
        "y = geo_cities.unary_union.centroid.y\n",
        "x = geo_cities.unary_union.centroid.x"
      ],
      "execution_count": 50,
      "outputs": []
    },
    {
      "cell_type": "code",
      "metadata": {
        "id": "aQFykKvzoZQ8"
      },
      "source": [
        "map = folium.Map([y,x], zoom_start=7)"
      ],
      "execution_count": 51,
      "outputs": []
    },
    {
      "cell_type": "code",
      "metadata": {
        "id": "cj0e82jzpSVg",
        "outputId": "aeee739f-5d20-44c8-b456-5995c3c60362",
        "colab": {
          "base_uri": "https://localhost:8080/",
          "height": 34
        }
      },
      "source": [
        "folium.GeoJson(geo_cities.to_json()).add_to(map)"
      ],
      "execution_count": 52,
      "outputs": [
        {
          "output_type": "execute_result",
          "data": {
            "text/plain": [
              "<folium.features.GeoJson at 0x7f2538658e48>"
            ]
          },
          "metadata": {
            "tags": []
          },
          "execution_count": 52
        }
      ]
    },
    {
      "cell_type": "code",
      "metadata": {
        "id": "O7SqcgYjovle",
        "outputId": "c7876ada-aa57-459d-8eac-ab18d2cb7cd5",
        "colab": {
          "base_uri": "https://localhost:8080/",
          "height": 904
        }
      },
      "source": [
        "map"
      ],
      "execution_count": 71,
      "outputs": [
        {
          "output_type": "execute_result",
          "data": {
            "text/html": [
              "<div style=\"width:100%;\"><div style=\"position:relative;width:100%;height:0;padding-bottom:60%;\"><span style=\"color:#565656\">Make this Notebook Trusted to load map: File -> Trust Notebook</span><iframe src=\"about:blank\" style=\"position:absolute;width:100%;height:100%;left:0;top:0;border:none !important;\" data-html=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 onload=\"this.contentDocument.open();this.contentDocument.write(atob(this.getAttribute('data-html')));this.contentDocument.close();\" allowfullscreen webkitallowfullscreen mozallowfullscreen></iframe></div></div>"
            ],
            "text/plain": [
              "<folium.folium.Map at 0x7f2538681908>"
            ]
          },
          "metadata": {
            "tags": []
          },
          "execution_count": 71
        }
      ]
    },
    {
      "cell_type": "code",
      "metadata": {
        "id": "Nx-l1G5lp_bk"
      },
      "source": [
        "trento = geo_cities[geo_cities.address == 'Trento'].geometry"
      ],
      "execution_count": 54,
      "outputs": []
    },
    {
      "cell_type": "code",
      "metadata": {
        "id": "v63rzegZ7RCf",
        "outputId": "2cfdab21-0a48-43ef-a87a-bb5267b75727",
        "colab": {
          "base_uri": "https://localhost:8080/",
          "height": 34
        }
      },
      "source": [
        "trento.geometry.x.values[0]"
      ],
      "execution_count": 55,
      "outputs": [
        {
          "output_type": "execute_result",
          "data": {
            "text/plain": [
              "11.119260000000054"
            ]
          },
          "metadata": {
            "tags": []
          },
          "execution_count": 55
        }
      ]
    },
    {
      "cell_type": "code",
      "metadata": {
        "id": "00UNeT51qmPf"
      },
      "source": [
        "trento_point = (trento.geometry.y.values[0],trento.geometry.x.values[0])"
      ],
      "execution_count": 56,
      "outputs": []
    },
    {
      "cell_type": "code",
      "metadata": {
        "id": "Ymp7Sf1u7d0q",
        "outputId": "502ac70c-0714-48ad-bad7-b3da07b816ad",
        "colab": {
          "base_uri": "https://localhost:8080/",
          "height": 34
        }
      },
      "source": [
        "trento_point"
      ],
      "execution_count": 57,
      "outputs": [
        {
          "output_type": "execute_result",
          "data": {
            "text/plain": [
              "(46.07005000000004, 11.119260000000054)"
            ]
          },
          "metadata": {
            "tags": []
          },
          "execution_count": 57
        }
      ]
    },
    {
      "cell_type": "code",
      "metadata": {
        "id": "EUtwAeQsqwWz"
      },
      "source": [
        "roma_point = (geo_cities[geo_cities.address == 'Roma'].geometry.y.values[0], geo_cities[geo_cities.address == 'Roma'].geometry.x.values[0])\n",
        "genova_point = (geo_cities[geo_cities.address == 'Genova'].geometry.y.values[0], geo_cities[geo_cities.address == 'Genova'].geometry.x.values[0])\n",
        "trieste_point = (geo_cities[geo_cities.address == 'Trieste'].geometry.y.values[0], geo_cities[geo_cities.address == 'Trieste'].geometry.x.values[0])"
      ],
      "execution_count": 58,
      "outputs": []
    },
    {
      "cell_type": "markdown",
      "metadata": {
        "id": "0CXX7ICUtQxW"
      },
      "source": [
        "![](https://upload.wikimedia.org/wikipedia/commons/thumb/2/29/Compass_Card_B%2BW.svg/480px-Compass_Card_B%2BW.svg.png)"
      ]
    },
    {
      "cell_type": "code",
      "metadata": {
        "id": "SU3uYlCCkscj",
        "outputId": "bed24868-a8ca-4458-ba46-8e739185c188",
        "colab": {
          "base_uri": "https://localhost:8080/",
          "height": 34
        }
      },
      "source": [
        "#Trento - Roma\n",
        "ox.bearing.get_bearing(trento_point,roma_point)"
      ],
      "execution_count": 59,
      "outputs": [
        {
          "output_type": "execute_result",
          "data": {
            "text/plain": [
              "166.14902805108795"
            ]
          },
          "metadata": {
            "tags": []
          },
          "execution_count": 59
        }
      ]
    },
    {
      "cell_type": "code",
      "metadata": {
        "id": "cDqo7_K3sGkH",
        "outputId": "982cef9b-9d87-4456-edcd-ab54f671ea4d",
        "colab": {
          "base_uri": "https://localhost:8080/",
          "height": 34
        }
      },
      "source": [
        "#Trento - Trieste\n",
        "ox.bearing.get_bearing(trento_point,trieste_point)"
      ],
      "execution_count": 60,
      "outputs": [
        {
          "output_type": "execute_result",
          "data": {
            "text/plain": [
              "101.62950188064787"
            ]
          },
          "metadata": {
            "tags": []
          },
          "execution_count": 60
        }
      ]
    },
    {
      "cell_type": "code",
      "metadata": {
        "id": "TztqvE6ZtE0Y",
        "outputId": "e9315518-5fd3-444a-da52-62cb197e7d5e",
        "colab": {
          "base_uri": "https://localhost:8080/",
          "height": 34
        }
      },
      "source": [
        "#Trento - Genova\n",
        "ox.bearing.get_bearing(trento_point,genova_point)"
      ],
      "execution_count": 61,
      "outputs": [
        {
          "output_type": "execute_result",
          "data": {
            "text/plain": [
              "223.5479896367596"
            ]
          },
          "metadata": {
            "tags": []
          },
          "execution_count": 61
        }
      ]
    },
    {
      "cell_type": "markdown",
      "metadata": {
        "id": "At7GiXjbtrrK"
      },
      "source": [
        "# Exercise\n",
        "- identify the shortest path by walk to reach the Castle of Trento from the main train station\n",
        "- identify how many bars you can reach by walking in 5 minutes from the main train station of Trento"
      ]
    }
  ]
}