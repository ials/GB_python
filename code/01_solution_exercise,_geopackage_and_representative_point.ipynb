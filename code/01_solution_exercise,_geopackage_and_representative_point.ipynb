{
  "nbformat": 4,
  "nbformat_minor": 0,
  "metadata": {
    "colab": {
      "name": "01  - solution exercise, geopackage and representative point.ipynb",
      "provenance": [],
      "collapsed_sections": []
    },
    "kernelspec": {
      "name": "python3",
      "display_name": "Python 3"
    }
  },
  "cells": [
    {
      "cell_type": "code",
      "metadata": {
        "id": "hlP03EfNHGeb",
        "outputId": "af6f3c51-0fde-4421-a20e-0d5beeb2649a",
        "colab": {
          "base_uri": "https://localhost:8080/"
        }
      },
      "source": [
        "!pip install geopandas"
      ],
      "execution_count": null,
      "outputs": [
        {
          "output_type": "stream",
          "text": [
            "Requirement already satisfied: geopandas in /usr/local/lib/python3.6/dist-packages (0.8.1)\n",
            "Requirement already satisfied: shapely in /usr/local/lib/python3.6/dist-packages (from geopandas) (1.7.1)\n",
            "Requirement already satisfied: pyproj>=2.2.0 in /usr/local/lib/python3.6/dist-packages (from geopandas) (2.6.1.post1)\n",
            "Requirement already satisfied: pandas>=0.23.0 in /usr/local/lib/python3.6/dist-packages (from geopandas) (1.1.2)\n",
            "Requirement already satisfied: fiona in /usr/local/lib/python3.6/dist-packages (from geopandas) (1.8.17)\n",
            "Requirement already satisfied: numpy>=1.15.4 in /usr/local/lib/python3.6/dist-packages (from pandas>=0.23.0->geopandas) (1.18.5)\n",
            "Requirement already satisfied: python-dateutil>=2.7.3 in /usr/local/lib/python3.6/dist-packages (from pandas>=0.23.0->geopandas) (2.8.1)\n",
            "Requirement already satisfied: pytz>=2017.2 in /usr/local/lib/python3.6/dist-packages (from pandas>=0.23.0->geopandas) (2018.9)\n",
            "Requirement already satisfied: six>=1.7 in /usr/local/lib/python3.6/dist-packages (from fiona->geopandas) (1.15.0)\n",
            "Requirement already satisfied: munch in /usr/local/lib/python3.6/dist-packages (from fiona->geopandas) (2.5.0)\n",
            "Requirement already satisfied: click-plugins>=1.0 in /usr/local/lib/python3.6/dist-packages (from fiona->geopandas) (1.1.1)\n",
            "Requirement already satisfied: click<8,>=4.0 in /usr/local/lib/python3.6/dist-packages (from fiona->geopandas) (7.1.2)\n",
            "Requirement already satisfied: cligj>=0.5 in /usr/local/lib/python3.6/dist-packages (from fiona->geopandas) (0.5.0)\n",
            "Requirement already satisfied: attrs>=17 in /usr/local/lib/python3.6/dist-packages (from fiona->geopandas) (20.2.0)\n"
          ],
          "name": "stdout"
        }
      ]
    },
    {
      "cell_type": "markdown",
      "metadata": {
        "id": "3ptHgQrtH-Vd"
      },
      "source": [
        "# Setup\n",
        "\n"
      ]
    },
    {
      "cell_type": "markdown",
      "metadata": {
        "id": "9T1Sft2nHpK8"
      },
      "source": [
        "---\n",
        "# Exercise\n",
        "- load the shapefile of ISTAT with the information of the provinces\n",
        "- filter it for an italian provice at your choice (eg. Trento)\n",
        "- plot it\n",
        "- identify the cities of the province selected with the biggest and smallest area\n",
        "- extract all the centroids of the areas expressed in WGS84\n",
        "- extract a rappresenative point for the area of a municipality in WGS84<br/>suggestion: *.representative_point()*\n",
        "- save the points in a GeoJSON file\n",
        "- calculate the distance on the geodentic between the municipaly with the big area and smallest area by using the centroid\n",
        "---\n",
        "\n",
        "## Solutions and learning objectives\n",
        "* repeat the concepts on the previous lesson\n",
        "* introduce geopackage\n",
        "* centroid vs representative point"
      ]
    },
    {
      "cell_type": "markdown",
      "metadata": {
        "id": "3fk_8ro1RUbo"
      },
      "source": [
        "Import of the packages"
      ]
    },
    {
      "cell_type": "code",
      "metadata": {
        "id": "bFmuagH7H4lZ"
      },
      "source": [
        "import geopandas as gpd\n",
        "from google.colab import files"
      ],
      "execution_count": null,
      "outputs": []
    },
    {
      "cell_type": "markdown",
      "metadata": {
        "id": "kP_05UmNVWWj"
      },
      "source": [
        "### load the shapefile of ISTAT with the information of the provinces\n",
        "\n",
        "This request is replaced with the use of geopackage\n",
        "\n",
        "In the course material a geopackage file is available with all the shapefiles of the administrative limits of ISTAT (2020) with generalized geometries\n",
        "\n",
        "[download](https://github.com/napo/geospatial_course_unitn/raw/master/data/administrative_units_italy_2020/istat_administrative_units_2020.gpkg)"
      ]
    },
    {
      "cell_type": "markdown",
      "metadata": {
        "id": "3NnPUhcmRdJ7"
      },
      "source": [
        "for convenience, download the file with \"wget\" from the command line on Linux\n"
      ]
    },
    {
      "cell_type": "code",
      "metadata": {
        "id": "KnuBggIYVMdq",
        "outputId": "34ddb5d7-5df6-4fda-fd79-b80212c61468",
        "colab": {
          "base_uri": "https://localhost:8080/",
          "height": 315
        }
      },
      "source": [
        "!wget https://github.com/napo/geospatial_course_unitn/raw/master/data/administrative_units_italy_2020/istat_administrative_units_2020.gpkg"
      ],
      "execution_count": null,
      "outputs": [
        {
          "output_type": "stream",
          "text": [
            "--2020-10-01 11:36:19--  https://github.com/napo/geospatial_course_unitn/raw/master/data/administrative_units_italy_2020/istat_administrative_units_2020.gpkg\n",
            "Resolving github.com (github.com)... 192.30.255.113\n",
            "Connecting to github.com (github.com)|192.30.255.113|:443... connected.\n",
            "HTTP request sent, awaiting response... 302 Found\n",
            "Location: https://raw.githubusercontent.com/napo/geospatial_course_unitn/master/data/administrative_units_italy_2020/istat_administrative_units_2020.gpkg [following]\n",
            "--2020-10-01 11:36:19--  https://raw.githubusercontent.com/napo/geospatial_course_unitn/master/data/administrative_units_italy_2020/istat_administrative_units_2020.gpkg\n",
            "Resolving raw.githubusercontent.com (raw.githubusercontent.com)... 151.101.0.133, 151.101.64.133, 151.101.128.133, ...\n",
            "Connecting to raw.githubusercontent.com (raw.githubusercontent.com)|151.101.0.133|:443... connected.\n",
            "HTTP request sent, awaiting response... 200 OK\n",
            "Length: 23396352 (22M) [application/octet-stream]\n",
            "Saving to: ‘istat_administrative_units_2020.gpkg’\n",
            "\n",
            "istat_administrativ 100%[===================>]  22.31M  66.6MB/s    in 0.3s    \n",
            "\n",
            "2020-10-01 11:36:21 (66.6 MB/s) - ‘istat_administrative_units_2020.gpkg’ saved [23396352/23396352]\n",
            "\n"
          ],
          "name": "stdout"
        }
      ]
    },
    {
      "cell_type": "markdown",
      "metadata": {
        "id": "gNWFco5RSlpo"
      },
      "source": [
        "# Geopackage\n",
        "![](https://www.ogc.org/pub/www/files/blog/Geopackage_layers.png)\n",
        "\n",
        "[GeoPackage](http://opengeospatial.github.io/e-learning/geopackage/text/basic-index.html) is used for storing and accessing:\n",
        "* Vector feature data\n",
        "* Imagery tile matrix sets\n",
        "* Raster map tile matrix sets\n",
        "* non-spatial tabular data\n",
        "* Metadata that describes other stored data\n",
        "\n",
        "To have a look at the structure of the files, download the files and open them using the basic SQLite3 command-line utility.\n",
        "\n",
        "```\n",
        "sqlite3 istat_administrative_units_2020.gpkg\n",
        "```\n",
        "```\n",
        "SQLite version 3.31.1 2020-01-27 19:55:54\n",
        "Enter \".help\" for usage hints.\n",
        "sqlite> .table\n",
        "```\n",
        "```\n",
        "gpkg_contents                     rtree_macroregions_geom_rowid   \n",
        "gpkg_extensions                   rtree_municipalities_geom       \n",
        "gpkg_geometry_columns             rtree_municipalities_geom_node  \n",
        "gpkg_ogr_contents                 rtree_municipalities_geom_parent\n",
        "gpkg_spatial_ref_sys              rtree_municipalities_geom_rowid \n",
        "gpkg_tile_matrix                  rtree_provincies_geom           \n",
        "gpkg_tile_matrix_set              rtree_provincies_geom_node      \n",
        "macroregions                      rtree_provincies_geom_parent    \n",
        "municipalities                    rtree_provincies_geom_rowid     \n",
        "provincies                        rtree_regions_geom              \n",
        "regions                           rtree_regions_geom_node         \n",
        "rtree_macroregions_geom           rtree_regions_geom_parent       \n",
        "rtree_macroregions_geom_node      rtree_regions_geom_rowid        \n",
        "rtree_macroregions_geom_parent \n",
        "```\n",
        "\n",
        "```\n",
        "sqlite> select * from macroregions;\n",
        "```\n",
        "```\n",
        "1|GP|1|Nord-Ovest\n",
        "2|GP|2|Nord-Est\n",
        "3|GP|3|Centro\n",
        "4|GP|4|Sud\n",
        "5|GP|5|Isole\n",
        "```\n",
        "```\n",
        "sqlite> .q\n",
        "```"
      ]
    },
    {
      "cell_type": "markdown",
      "metadata": {
        "id": "gTbuN8zPT7KU"
      },
      "source": [
        "Geopandas can manage geopackage by using [fiona](https://github.com/Toblerity/Fiona)"
      ]
    },
    {
      "cell_type": "code",
      "metadata": {
        "id": "Cf37VTckXGso"
      },
      "source": [
        "import fiona"
      ],
      "execution_count": null,
      "outputs": []
    },
    {
      "cell_type": "code",
      "metadata": {
        "id": "igu8jGNSURc8",
        "outputId": "8447bd8b-0dec-422f-b802-ee650543e12d",
        "colab": {
          "base_uri": "https://localhost:8080/",
          "height": 416
        }
      },
      "source": [
        "fiona.supported_drivers"
      ],
      "execution_count": null,
      "outputs": [
        {
          "output_type": "execute_result",
          "data": {
            "text/plain": [
              "{'ARCGEN': 'r',\n",
              " 'AeronavFAA': 'r',\n",
              " 'BNA': 'rw',\n",
              " 'CSV': 'raw',\n",
              " 'DGN': 'raw',\n",
              " 'DXF': 'rw',\n",
              " 'ESRI Shapefile': 'raw',\n",
              " 'ESRIJSON': 'r',\n",
              " 'GML': 'rw',\n",
              " 'GPKG': 'raw',\n",
              " 'GPSTrackMaker': 'rw',\n",
              " 'GPX': 'rw',\n",
              " 'GeoJSON': 'raw',\n",
              " 'GeoJSONSeq': 'rw',\n",
              " 'Idrisi': 'r',\n",
              " 'MapInfo File': 'raw',\n",
              " 'OGR_GMT': 'rw',\n",
              " 'OGR_PDS': 'r',\n",
              " 'OpenFileGDB': 'r',\n",
              " 'S57': 'r',\n",
              " 'SEGY': 'r',\n",
              " 'SUA': 'r',\n",
              " 'TopoJSON': 'r'}"
            ]
          },
          "metadata": {
            "tags": []
          },
          "execution_count": 113
        }
      ]
    },
    {
      "cell_type": "markdown",
      "metadata": {
        "id": "zmEbOUq1UXVS"
      },
      "source": [
        "```\n",
        "'GPKG': 'raw',\n",
        "```\n",
        "**raw** => **r**ead **a**ppend **w**rite\n",
        "\n",
        "geopandas can:\n",
        "* **r**ead *geopackage* files\n",
        "* **a**append data to a *geopackage* file\n",
        "* **w**rite data to a *geopackage* file"
      ]
    },
    {
      "cell_type": "markdown",
      "metadata": {
        "id": "NYsMWOMmVM03"
      },
      "source": [
        "geopackage can store more layers, so we have to investigate the contents"
      ]
    },
    {
      "cell_type": "code",
      "metadata": {
        "id": "wpSZ5tBIXB47",
        "outputId": "a415275e-83bd-412e-bf8a-7ceb5abb3fc0",
        "colab": {
          "base_uri": "https://localhost:8080/",
          "height": 34
        }
      },
      "source": [
        "fiona.listlayers('istat_administrative_units_2020.gpkg')"
      ],
      "execution_count": null,
      "outputs": [
        {
          "output_type": "execute_result",
          "data": {
            "text/plain": [
              "['municipalities', 'provincies', 'regions', 'macroregions']"
            ]
          },
          "metadata": {
            "tags": []
          },
          "execution_count": 4
        }
      ]
    },
    {
      "cell_type": "code",
      "metadata": {
        "id": "a3qnyANlWbyD"
      },
      "source": [
        "provincies = gpd.read_file(\"istat_administrative_units_2020.gpkg\",layer=\"provincies\")"
      ],
      "execution_count": null,
      "outputs": []
    },
    {
      "cell_type": "code",
      "metadata": {
        "id": "gcHUE-7VWqaY",
        "outputId": "f406cbe0-f2c9-4b6d-f2a3-b531841be5fe",
        "colab": {
          "base_uri": "https://localhost:8080/",
          "height": 195
        }
      },
      "source": [
        "provincies.head(3)"
      ],
      "execution_count": null,
      "outputs": [
        {
          "output_type": "execute_result",
          "data": {
            "text/html": [
              "<div>\n",
              "<style scoped>\n",
              "    .dataframe tbody tr th:only-of-type {\n",
              "        vertical-align: middle;\n",
              "    }\n",
              "\n",
              "    .dataframe tbody tr th {\n",
              "        vertical-align: top;\n",
              "    }\n",
              "\n",
              "    .dataframe thead th {\n",
              "        text-align: right;\n",
              "    }\n",
              "</style>\n",
              "<table border=\"1\" class=\"dataframe\">\n",
              "  <thead>\n",
              "    <tr style=\"text-align: right;\">\n",
              "      <th></th>\n",
              "      <th>COD_RIP</th>\n",
              "      <th>COD_REG</th>\n",
              "      <th>COD_PROV</th>\n",
              "      <th>COD_CM</th>\n",
              "      <th>COD_UTS</th>\n",
              "      <th>DEN_PROV</th>\n",
              "      <th>DEN_CM</th>\n",
              "      <th>DEN_UTS</th>\n",
              "      <th>SIGLA</th>\n",
              "      <th>TIPO_UTS</th>\n",
              "      <th>geometry</th>\n",
              "    </tr>\n",
              "  </thead>\n",
              "  <tbody>\n",
              "    <tr>\n",
              "      <th>0</th>\n",
              "      <td>1</td>\n",
              "      <td>1</td>\n",
              "      <td>2</td>\n",
              "      <td>0</td>\n",
              "      <td>2</td>\n",
              "      <td>Vercelli</td>\n",
              "      <td>-</td>\n",
              "      <td>Vercelli</td>\n",
              "      <td>VC</td>\n",
              "      <td>Provincia</td>\n",
              "      <td>MULTIPOLYGON (((438328.612 5087208.215, 439028...</td>\n",
              "    </tr>\n",
              "    <tr>\n",
              "      <th>1</th>\n",
              "      <td>1</td>\n",
              "      <td>1</td>\n",
              "      <td>3</td>\n",
              "      <td>0</td>\n",
              "      <td>3</td>\n",
              "      <td>Novara</td>\n",
              "      <td>-</td>\n",
              "      <td>Novara</td>\n",
              "      <td>NO</td>\n",
              "      <td>Provincia</td>\n",
              "      <td>MULTIPOLYGON (((460929.542 5076320.298, 461165...</td>\n",
              "    </tr>\n",
              "    <tr>\n",
              "      <th>2</th>\n",
              "      <td>1</td>\n",
              "      <td>1</td>\n",
              "      <td>1</td>\n",
              "      <td>201</td>\n",
              "      <td>201</td>\n",
              "      <td>-</td>\n",
              "      <td>Torino</td>\n",
              "      <td>Torino</td>\n",
              "      <td>TO</td>\n",
              "      <td>Citta metropolitana</td>\n",
              "      <td>MULTIPOLYGON (((411015.006 5049970.983, 411266...</td>\n",
              "    </tr>\n",
              "  </tbody>\n",
              "</table>\n",
              "</div>"
            ],
            "text/plain": [
              "   COD_RIP  ...                                           geometry\n",
              "0        1  ...  MULTIPOLYGON (((438328.612 5087208.215, 439028...\n",
              "1        1  ...  MULTIPOLYGON (((460929.542 5076320.298, 461165...\n",
              "2        1  ...  MULTIPOLYGON (((411015.006 5049970.983, 411266...\n",
              "\n",
              "[3 rows x 11 columns]"
            ]
          },
          "metadata": {
            "tags": []
          },
          "execution_count": 115
        }
      ]
    },
    {
      "cell_type": "code",
      "metadata": {
        "id": "i1MtGFC0VvQu",
        "outputId": "529e4f03-18ac-4512-e3a8-a381f7bf8d6e",
        "colab": {
          "base_uri": "https://localhost:8080/",
          "height": 69
        }
      },
      "source": [
        "provincies.columns"
      ],
      "execution_count": null,
      "outputs": [
        {
          "output_type": "execute_result",
          "data": {
            "text/plain": [
              "Index(['COD_RIP', 'COD_REG', 'COD_PROV', 'COD_CM', 'COD_UTS', 'DEN_PROV',\n",
              "       'DEN_CM', 'DEN_UTS', 'SIGLA', 'TIPO_UTS', 'geometry'],\n",
              "      dtype='object')"
            ]
          },
          "metadata": {
            "tags": []
          },
          "execution_count": 116
        }
      ]
    },
    {
      "cell_type": "markdown",
      "metadata": {
        "id": "9dv1SuJKVsgl"
      },
      "source": [
        "**COD_RIP**<br/>\n",
        "*codice ripartizione*<br/>\n",
        "numeric code of the macroregion of belonging\n",
        "\n",
        "**COD_REG**<br/>\n",
        "*codice regione*<br/>\n",
        "numeric code of the region of belonging\n",
        "\n",
        "**COD_PROV**<br/>\n",
        "*codice provincia*<br/>\n",
        "numeric code of the region of belonging\n",
        "\n",
        "**COD_CM**<br/>\n",
        "*codice comune*<br/>\n",
        "Istat code of the metropolitan city (three characters in\n",
        "reference to all official statistics are\n",
        "numeric format) obtained by adding the value 200 to\n",
        "adopted the statistical codes of the cities\n",
        "corresponding code of the province.\n",
        "\n",
        "**COD_UTS**<br/>\n",
        "*codice unità territoriali sovracomunali*<br/>\n",
        "Numeric code that uniquely identifies the Units\n",
        "territorial supra-municipal on the national territory.\n",
        "\n",
        "**DEN_PROV**<br/>\n",
        "*denominazione provincia*<br/>\n",
        "name of the province\n",
        "\n",
        "**DEN_CM**<br/>\n",
        "*denominazione città metropolitana*<br/>\n",
        "name of the metropolitan city\n",
        "\n",
        "**DEN_UTS**<br/>\n",
        "*denominazione unità territoriale sovracomunale*<br/>\n",
        "Denomination of the supra-municipal territorial units.\n",
        "\n",
        "**SIGLA**<br/>\n",
        "*sigla*<br/>\n",
        "abbreviation\n",
        "\n",
        "**TIPO_UTS**<br/>\n",
        "*tipologia unità territoriale sovracomunale*<br/>\n",
        "kind of supra-municipal territorial units.\n",
        "\n"
      ]
    },
    {
      "cell_type": "markdown",
      "metadata": {
        "id": "k3c2DpbwXVwp"
      },
      "source": [
        "## filter it for an italian provice at your choice (eg. Trento)"
      ]
    },
    {
      "cell_type": "code",
      "metadata": {
        "id": "btDGt41ZIeGO"
      },
      "source": [
        "trentino = provincies[provincies['DEN_PROV']=='Trento']"
      ],
      "execution_count": null,
      "outputs": []
    },
    {
      "cell_type": "code",
      "metadata": {
        "id": "krZReRm1Ihk0",
        "outputId": "7534059c-df45-4df1-a01a-2d9e8943838b",
        "colab": {
          "base_uri": "https://localhost:8080/",
          "height": 98
        }
      },
      "source": [
        "trentino"
      ],
      "execution_count": null,
      "outputs": [
        {
          "output_type": "execute_result",
          "data": {
            "text/html": [
              "<div>\n",
              "<style scoped>\n",
              "    .dataframe tbody tr th:only-of-type {\n",
              "        vertical-align: middle;\n",
              "    }\n",
              "\n",
              "    .dataframe tbody tr th {\n",
              "        vertical-align: top;\n",
              "    }\n",
              "\n",
              "    .dataframe thead th {\n",
              "        text-align: right;\n",
              "    }\n",
              "</style>\n",
              "<table border=\"1\" class=\"dataframe\">\n",
              "  <thead>\n",
              "    <tr style=\"text-align: right;\">\n",
              "      <th></th>\n",
              "      <th>COD_RIP</th>\n",
              "      <th>COD_REG</th>\n",
              "      <th>COD_PROV</th>\n",
              "      <th>COD_CM</th>\n",
              "      <th>COD_UTS</th>\n",
              "      <th>DEN_PROV</th>\n",
              "      <th>DEN_CM</th>\n",
              "      <th>DEN_UTS</th>\n",
              "      <th>SIGLA</th>\n",
              "      <th>TIPO_UTS</th>\n",
              "      <th>geometry</th>\n",
              "    </tr>\n",
              "  </thead>\n",
              "  <tbody>\n",
              "    <tr>\n",
              "      <th>24</th>\n",
              "      <td>2</td>\n",
              "      <td>4</td>\n",
              "      <td>22</td>\n",
              "      <td>0</td>\n",
              "      <td>22</td>\n",
              "      <td>Trento</td>\n",
              "      <td>-</td>\n",
              "      <td>Trento</td>\n",
              "      <td>TN</td>\n",
              "      <td>Provincia autonoma</td>\n",
              "      <td>MULTIPOLYGON (((716676.337 5153931.623, 716029...</td>\n",
              "    </tr>\n",
              "  </tbody>\n",
              "</table>\n",
              "</div>"
            ],
            "text/plain": [
              "    COD_RIP  ...                                           geometry\n",
              "24        2  ...  MULTIPOLYGON (((716676.337 5153931.623, 716029...\n",
              "\n",
              "[1 rows x 11 columns]"
            ]
          },
          "metadata": {
            "tags": []
          },
          "execution_count": 12
        }
      ]
    },
    {
      "cell_type": "markdown",
      "metadata": {
        "id": "8nQ0YPYvZ_2J"
      },
      "source": [
        "## plot it"
      ]
    },
    {
      "cell_type": "code",
      "metadata": {
        "id": "J3KKa1HqIk99",
        "outputId": "0acd833f-923c-4d18-a6ea-4e037547aacd",
        "colab": {
          "base_uri": "https://localhost:8080/",
          "height": 293
        }
      },
      "source": [
        "trentino.plot()"
      ],
      "execution_count": null,
      "outputs": [
        {
          "output_type": "execute_result",
          "data": {
            "text/plain": [
              "<matplotlib.axes._subplots.AxesSubplot at 0x7fbc28c6ca90>"
            ]
          },
          "metadata": {
            "tags": []
          },
          "execution_count": 13
        },
        {
          "output_type": "display_data",
          "data": {
            "image/png": "[encoded data removed]",
            "text/plain": [
              "<Figure size 432x288 with 1 Axes>"
            ]
          },
          "metadata": {
            "tags": [],
            "needs_background": "light"
          }
        }
      ]
    },
    {
      "cell_type": "markdown",
      "metadata": {
        "id": "sNuk2GFbaEe0"
      },
      "source": [
        "## identify the municipalities of the province selected with the biggest and smallest area\n",
        "\n",
        "this means we need to use another layer / dataset"
      ]
    },
    {
      "cell_type": "code",
      "metadata": {
        "id": "c6LWnGag-8je"
      },
      "source": [
        "municipalities = gpd.read_file(\"istat_administrative_units_2020.gpkg\",layer=\"municipalities\")"
      ],
      "execution_count": null,
      "outputs": []
    },
    {
      "cell_type": "code",
      "metadata": {
        "id": "XlAUfmNwJojm",
        "outputId": "e1e1e727-91d4-4f75-f35f-2c3603965709",
        "colab": {
          "base_uri": "https://localhost:8080/",
          "height": 69
        }
      },
      "source": [
        "municipalities.columns"
      ],
      "execution_count": null,
      "outputs": [
        {
          "output_type": "execute_result",
          "data": {
            "text/plain": [
              "Index(['COD_RIP', 'COD_REG', 'COD_PROV', 'COD_CM', 'COD_UTS', 'PRO_COM',\n",
              "       'PRO_COM_T', 'COMUNE', 'COMUNE_A', 'CC_UTS', 'geometry'],\n",
              "      dtype='object')"
            ]
          },
          "metadata": {
            "tags": []
          },
          "execution_count": 15
        }
      ]
    },
    {
      "cell_type": "markdown",
      "metadata": {
        "id": "jX4dEbEt9Zgo"
      },
      "source": [
        "**COD_RIP**<br/>\n",
        "*codice ripartizione*<br/>\n",
        "numeric code of the macroregion of belonging\n",
        "\n",
        "**COD_REG**<br/>\n",
        "*codice regione*<br/>\n",
        "numeric code of the region of belonging\n",
        "\n",
        "**COD_PROV**<br/>\n",
        "*codice provincia*<br/>\n",
        "numeric code of the region of belonging\n",
        "\n",
        "**COD_CM**<br/>\n",
        "*codice comune*<br/>\n",
        "unique numeric identification code of the municipality within the province of belonging\n",
        "\n",
        "**COD_UTS**<br/>\n",
        "*codice unità territoriali sovracomunali*<br/>\n",
        "Numeric code that uniquely identifies the Units\n",
        "territorial supra-municipal on the national territory.\n",
        "\n",
        "**PRO_COM**<br/>\n",
        "*provincia comune**<br/>\n",
        "Numeric code that uniquely identifies the Municipality\n",
        "on the national territory. (= COD_PROV & COD_COM) \n",
        "\n",
        "**PRO_COM_T**<br/>\n",
        "*provincia comune territorio**<br/>\n",
        "Alphanumeric code that uniquely identifies the\n",
        "Municipality on the national territory.<br/>\n",
        "Like PRO_COM but definied in 6 fixed characters.\n",
        "\n",
        "**COMUNE**<br/>\n",
        "*comune*<br/>\n",
        "Name of the Municipality\n",
        "\n",
        "**COMUNE_A**<br/>\n",
        "*comune alternativa*<br/>\n",
        "Name of the Municipality in a language other than Italian\n",
        "\n",
        "**CC_UTS**<br/>\n",
        "*comune capoluogo*<br/>\n",
        "Provincial capital or metropolitan city<br/>\n",
        "1 => True<br/>\n",
        "2 => False\n",
        "\n"
      ]
    },
    {
      "cell_type": "markdown",
      "metadata": {
        "id": "4cRRhYVCakDq"
      },
      "source": [
        "the **COD_PROV** of the Province of Trento is **22**"
      ]
    },
    {
      "cell_type": "code",
      "metadata": {
        "id": "UjYOlOPeJtZg"
      },
      "source": [
        "# filter the province\n",
        "municipalities_province_trento = municipalities[municipalities.COD_PROV==22]"
      ],
      "execution_count": null,
      "outputs": []
    },
    {
      "cell_type": "code",
      "metadata": {
        "id": "pgcYsr41JxXE",
        "outputId": "088a68b7-e7c7-4333-cda4-f695bf13bf74",
        "colab": {
          "base_uri": "https://localhost:8080/",
          "height": 293
        }
      },
      "source": [
        "# plot it\n",
        "municipalities_province_trento.plot()"
      ],
      "execution_count": null,
      "outputs": [
        {
          "output_type": "execute_result",
          "data": {
            "text/plain": [
              "<matplotlib.axes._subplots.AxesSubplot at 0x7fbc259d2a90>"
            ]
          },
          "metadata": {
            "tags": []
          },
          "execution_count": 118
        },
        {
          "output_type": "display_data",
          "data": {
            "image/png": "[encoded data removed]",
            "text/plain": [
              "<Figure size 432x288 with 1 Axes>"
            ]
          },
          "metadata": {
            "tags": [],
            "needs_background": "light"
          }
        }
      ]
    },
    {
      "cell_type": "markdown",
      "metadata": {
        "id": "nG87m3Hna9ZB"
      },
      "source": [
        "## identify the cities of the province selected with the biggest and smallest area\n",
        "\n",
        "**CAUTION**:\n",
        "\n",
        "we are using generalized boundaries !!!"
      ]
    },
    {
      "cell_type": "markdown",
      "metadata": {
        "id": "CotX0EIMcrDU"
      },
      "source": [
        "finding the max area"
      ]
    },
    {
      "cell_type": "code",
      "metadata": {
        "id": "ed1E9oyvJ0yu"
      },
      "source": [
        "max_area = municipalities_province_trento.geometry.area.max()"
      ],
      "execution_count": null,
      "outputs": []
    },
    {
      "cell_type": "code",
      "metadata": {
        "id": "DHj8IQ0LFY3t",
        "outputId": "d2a1c332-c793-460b-ffbb-81ab324ca2bf",
        "colab": {
          "base_uri": "https://localhost:8080/",
          "height": 34
        }
      },
      "source": [
        "max_area"
      ],
      "execution_count": null,
      "outputs": [
        {
          "output_type": "execute_result",
          "data": {
            "text/plain": [
              "199625902.75494903"
            ]
          },
          "metadata": {
            "tags": []
          },
          "execution_count": 40
        }
      ]
    },
    {
      "cell_type": "markdown",
      "metadata": {
        "id": "6othNPYvcvoB"
      },
      "source": [
        "finding the min area"
      ]
    },
    {
      "cell_type": "code",
      "metadata": {
        "id": "9G4hMiQCJ3Af"
      },
      "source": [
        "min_area = municipalities_province_trento.geometry.area.min()"
      ],
      "execution_count": null,
      "outputs": []
    },
    {
      "cell_type": "code",
      "metadata": {
        "id": "7vnVp3RWFa2G",
        "outputId": "74391e66-2f5a-4fa9-eae4-49e85c8adc18",
        "colab": {
          "base_uri": "https://localhost:8080/",
          "height": 34
        }
      },
      "source": [
        "min_area"
      ],
      "execution_count": null,
      "outputs": [
        {
          "output_type": "execute_result",
          "data": {
            "text/plain": [
              "1652100.49475859"
            ]
          },
          "metadata": {
            "tags": []
          },
          "execution_count": 41
        }
      ]
    },
    {
      "cell_type": "markdown",
      "metadata": {
        "id": "mIcFXpBdbb4G"
      },
      "source": [
        "... you can obtain the same in another way (combination of the requests)"
      ]
    },
    {
      "cell_type": "code",
      "metadata": {
        "id": "6LU7py1VbdXT",
        "outputId": "cfdbc2ff-6242-4609-ec85-8053aeae11a6",
        "colab": {
          "base_uri": "https://localhost:8080/",
          "height": 34
        }
      },
      "source": [
        "municipalities[municipalities.COD_PROV==22].geometry.area.min()"
      ],
      "execution_count": null,
      "outputs": [
        {
          "output_type": "execute_result",
          "data": {
            "text/plain": [
              "1652100.49475859"
            ]
          },
          "metadata": {
            "tags": []
          },
          "execution_count": 125
        }
      ]
    },
    {
      "cell_type": "markdown",
      "metadata": {
        "id": "Jzy-S7i4cZdy"
      },
      "source": [
        "### identify the municipality with the biggest area\n",
        "\n",
        "\n"
      ]
    },
    {
      "cell_type": "code",
      "metadata": {
        "id": "HnefpEIAJ50g"
      },
      "source": [
        "maxarea_municipality_trentino = provincia_trento[provincia_trento.geometry.area == max_area]"
      ],
      "execution_count": null,
      "outputs": []
    },
    {
      "cell_type": "code",
      "metadata": {
        "id": "oLEC0CPXJ_FY",
        "outputId": "055fbd0b-0c5a-48f7-f698-2bcabde6cd8c",
        "colab": {
          "base_uri": "https://localhost:8080/",
          "height": 52
        }
      },
      "source": [
        "maxarea_municipality_trentino.PRO_COM_T"
      ],
      "execution_count": null,
      "outputs": [
        {
          "output_type": "execute_result",
          "data": {
            "text/plain": [
              "3275    022245\n",
              "Name: PRO_COM_T, dtype: object"
            ]
          },
          "metadata": {
            "tags": []
          },
          "execution_count": 130
        }
      ]
    },
    {
      "cell_type": "code",
      "metadata": {
        "id": "zirOh3UpdWwe",
        "outputId": "c96317f9-4db3-4643-de87-77b118ba82a2",
        "colab": {
          "base_uri": "https://localhost:8080/",
          "height": 52
        }
      },
      "source": [
        "maxarea_municipality_trentino.COMUNE"
      ],
      "execution_count": null,
      "outputs": [
        {
          "output_type": "execute_result",
          "data": {
            "text/plain": [
              "3275    Primiero San Martino di Castrozza\n",
              "Name: COMUNE, dtype: object"
            ]
          },
          "metadata": {
            "tags": []
          },
          "execution_count": 131
        }
      ]
    },
    {
      "cell_type": "markdown",
      "metadata": {
        "id": "fbyYIwZ6dGdY"
      },
      "source": [
        "the municipality with the bigger area is **Primiero San Martino di Castrozza** (022245)"
      ]
    },
    {
      "cell_type": "code",
      "metadata": {
        "id": "EYgIAJx1_KTV",
        "outputId": "9e5d7171-2ba5-4f41-856b-79b8582dd376",
        "colab": {
          "base_uri": "https://localhost:8080/",
          "height": 293
        }
      },
      "source": [
        "maxarea_municipality_trentino.plot()"
      ],
      "execution_count": null,
      "outputs": [
        {
          "output_type": "execute_result",
          "data": {
            "text/plain": [
              "<matplotlib.axes._subplots.AxesSubplot at 0x7fbc259d34a8>"
            ]
          },
          "metadata": {
            "tags": []
          },
          "execution_count": 87
        },
        {
          "output_type": "display_data",
          "data": {
            "image/png": "[encoded data removed]",
            "text/plain": [
              "<Figure size 432x288 with 1 Axes>"
            ]
          },
          "metadata": {
            "tags": [],
            "needs_background": "light"
          }
        }
      ]
    },
    {
      "cell_type": "markdown",
      "metadata": {
        "id": "ShodskgCdegB"
      },
      "source": [
        "### identify the municipality with the smallest area\n"
      ]
    },
    {
      "cell_type": "code",
      "metadata": {
        "id": "waSNAaUaJ8DM"
      },
      "source": [
        "minarea_municipality_trentino = provincia_trento[provincia_trento.geometry.area == min_area]"
      ],
      "execution_count": null,
      "outputs": []
    },
    {
      "cell_type": "code",
      "metadata": {
        "id": "dTvZsDYWKCf1",
        "outputId": "c01445c6-f39f-45d5-b5a3-9bceb4d56c32",
        "colab": {
          "base_uri": "https://localhost:8080/",
          "height": 52
        }
      },
      "source": [
        "minarea_municipality_trentino.COMUNE"
      ],
      "execution_count": null,
      "outputs": [
        {
          "output_type": "execute_result",
          "data": {
            "text/plain": [
              "1309    Carzano\n",
              "Name: COMUNE, dtype: object"
            ]
          },
          "metadata": {
            "tags": []
          },
          "execution_count": 133
        }
      ]
    },
    {
      "cell_type": "code",
      "metadata": {
        "id": "BJoda9zhdtzD",
        "outputId": "dd6ed641-c3b2-4e54-88c4-99e2c3ff27d1",
        "colab": {
          "base_uri": "https://localhost:8080/",
          "height": 52
        }
      },
      "source": [
        "minarea_municipality_trentino.PRO_COM_T"
      ],
      "execution_count": null,
      "outputs": [
        {
          "output_type": "execute_result",
          "data": {
            "text/plain": [
              "1309    022043\n",
              "Name: PRO_COM_T, dtype: object"
            ]
          },
          "metadata": {
            "tags": []
          },
          "execution_count": 134
        }
      ]
    },
    {
      "cell_type": "markdown",
      "metadata": {
        "id": "hk3wvA0_dzDW"
      },
      "source": [
        "the municipality with the smallest area is **Carzano** (022243)"
      ]
    },
    {
      "cell_type": "code",
      "metadata": {
        "id": "Twce9Hy7NXAo",
        "outputId": "5178ba6e-7145-4cd7-d90b-04e3bd4543f6",
        "colab": {
          "base_uri": "https://localhost:8080/",
          "height": 293
        }
      },
      "source": [
        "minarea_municipality_trentino.plot()"
      ],
      "execution_count": null,
      "outputs": [
        {
          "output_type": "execute_result",
          "data": {
            "text/plain": [
              "<matplotlib.axes._subplots.AxesSubplot at 0x7fbc25a2e860>"
            ]
          },
          "metadata": {
            "tags": []
          },
          "execution_count": 86
        },
        {
          "output_type": "display_data",
          "data": {
            "image/png": "[encoded data removed]",
            "text/plain": [
              "<Figure size 432x288 with 1 Axes>"
            ]
          },
          "metadata": {
            "tags": [],
            "needs_background": "light"
          }
        }
      ]
    },
    {
      "cell_type": "markdown",
      "metadata": {
        "id": "Y-dS9DA5eE6U"
      },
      "source": [
        "## extract all the centroids of the areas expressed in WGS84"
      ]
    },
    {
      "cell_type": "code",
      "metadata": {
        "id": "t_74bjyYN8ru",
        "outputId": "3103ff4b-1a9c-42a1-9e7e-3aa91433fa91",
        "colab": {
          "base_uri": "https://localhost:8080/",
          "height": 52
        }
      },
      "source": [
        "maxarea_municipality_trentino.geometry.centroid.to_crs(epsg=4326)"
      ],
      "execution_count": null,
      "outputs": [
        {
          "output_type": "execute_result",
          "data": {
            "text/plain": [
              "3275    POINT (11.82683 46.24190)\n",
              "dtype: geometry"
            ]
          },
          "metadata": {
            "tags": []
          },
          "execution_count": 136
        }
      ]
    },
    {
      "cell_type": "code",
      "metadata": {
        "id": "veFfPsumePIa",
        "outputId": "3cae7a90-358c-451b-c374-affaf6af9b1d",
        "colab": {
          "base_uri": "https://localhost:8080/",
          "height": 52
        }
      },
      "source": [
        "minarea_municipality_trentino.geometry.centroid.to_crs(epsg=4326)"
      ],
      "execution_count": null,
      "outputs": [
        {
          "output_type": "execute_result",
          "data": {
            "text/plain": [
              "1309    POINT (11.49436 46.07497)\n",
              "dtype: geometry"
            ]
          },
          "metadata": {
            "tags": []
          },
          "execution_count": 137
        }
      ]
    },
    {
      "cell_type": "markdown",
      "metadata": {
        "id": "-eJUm7csej5u"
      },
      "source": [
        "## extract a rappresenative point for the area of the smallest and bigger municipality in WGS84"
      ]
    },
    {
      "cell_type": "code",
      "metadata": {
        "id": "WXJh0bs7KHMA"
      },
      "source": [
        "representative_point_minarea_municipality = minarea_municipality_trentino.geometry.representative_point()"
      ],
      "execution_count": null,
      "outputs": []
    },
    {
      "cell_type": "code",
      "metadata": {
        "id": "ThbYeGtdN1K6"
      },
      "source": [
        "representative_point_maxarea_municipality = maxarea_municipality_trentino.geometry.representative_point()"
      ],
      "execution_count": null,
      "outputs": []
    },
    {
      "cell_type": "code",
      "metadata": {
        "id": "9oUgRfy_KKs8",
        "outputId": "31bc11ba-7745-485b-bb2f-33c57ba23f77",
        "colab": {
          "base_uri": "https://localhost:8080/",
          "height": 52
        }
      },
      "source": [
        "representative_point_minarea_municipality.to_crs(epsg=4326)"
      ],
      "execution_count": null,
      "outputs": [
        {
          "output_type": "execute_result",
          "data": {
            "text/plain": [
              "1309    POINT (11.49403 46.07235)\n",
              "dtype: geometry"
            ]
          },
          "metadata": {
            "tags": []
          },
          "execution_count": 139
        }
      ]
    },
    {
      "cell_type": "code",
      "metadata": {
        "id": "mDE69_SpOBDu",
        "outputId": "88c95546-f9f0-43b0-8285-2d5f7c44dd2b",
        "colab": {
          "base_uri": "https://localhost:8080/",
          "height": 52
        }
      },
      "source": [
        "representative_point_maxarea_municipality.to_crs(epsg=4326)"
      ],
      "execution_count": null,
      "outputs": [
        {
          "output_type": "execute_result",
          "data": {
            "text/plain": [
              "3275    POINT (11.83795 46.24792)\n",
              "dtype: geometry"
            ]
          },
          "metadata": {
            "tags": []
          },
          "execution_count": 140
        }
      ]
    },
    {
      "cell_type": "markdown",
      "metadata": {
        "id": "v6FK_NSsfJQu"
      },
      "source": [
        "## save the points in a GeoJSON file\n",
        "we can save each point in geojson "
      ]
    },
    {
      "cell_type": "code",
      "metadata": {
        "id": "vkvmlRvafZ9Z"
      },
      "source": [
        "representative_point_maxarea_municipality.to_crs(epsg=4326).to_file(\"point.geojson\",driver=\"GeoJSON\")"
      ],
      "execution_count": null,
      "outputs": []
    },
    {
      "cell_type": "code",
      "metadata": {
        "id": "vqEWY_FcfhWi",
        "outputId": "708d8930-ebf7-46fa-ba64-5bff47a0d369",
        "colab": {
          "base_uri": "https://localhost:8080/",
          "height": 34
        }
      },
      "source": [
        "# check if the file exist with a 'ls' command on the remote linux machine\n",
        "!ls point.geojson"
      ],
      "execution_count": null,
      "outputs": [
        {
          "output_type": "stream",
          "text": [
            "point.geojson\n"
          ],
          "name": "stdout"
        }
      ]
    },
    {
      "cell_type": "markdown",
      "metadata": {
        "id": "rHuNahrZftl5"
      },
      "source": [
        "... but we need to create an only one file with all the data in a geojson file"
      ]
    },
    {
      "cell_type": "code",
      "metadata": {
        "id": "e7nlav9JfzTS"
      },
      "source": [
        "points = representative_point_maxarea_municipality.append(representative_point_minarea_municipality)"
      ],
      "execution_count": null,
      "outputs": []
    },
    {
      "cell_type": "code",
      "metadata": {
        "id": "1jMx1Tz9gUQb"
      },
      "source": [
        "points.to_crs(epsg=4326).to_file(\"points.geojson\",driver=\"GeoJSON\")"
      ],
      "execution_count": null,
      "outputs": []
    },
    {
      "cell_type": "code",
      "metadata": {
        "id": "EEJ6cY8cgc0d",
        "outputId": "0e9177db-ce0a-4af9-b0c3-533d0b7debb8",
        "colab": {
          "base_uri": "https://localhost:8080/",
          "height": 17
        }
      },
      "source": [
        "#donwload the file\n",
        "files.download(\"points.geojson\")"
      ],
      "execution_count": null,
      "outputs": [
        {
          "output_type": "display_data",
          "data": {
            "application/javascript": [
              "\n",
              "    async function download(id, filename, size) {\n",
              "      if (!google.colab.kernel.accessAllowed) {\n",
              "        return;\n",
              "      }\n",
              "      const div = document.createElement('div');\n",
              "      const label = document.createElement('label');\n",
              "      label.textContent = `Downloading \"${filename}\": `;\n",
              "      div.appendChild(label);\n",
              "      const progress = document.createElement('progress');\n",
              "      progress.max = size;\n",
              "      div.appendChild(progress);\n",
              "      document.body.appendChild(div);\n",
              "\n",
              "      const buffers = [];\n",
              "      let downloaded = 0;\n",
              "\n",
              "      const channel = await google.colab.kernel.comms.open(id);\n",
              "      // Send a message to notify the kernel that we're ready.\n",
              "      channel.send({})\n",
              "\n",
              "      for await (const message of channel.messages) {\n",
              "        // Send a message to notify the kernel that we're ready.\n",
              "        channel.send({})\n",
              "        if (message.buffers) {\n",
              "          for (const buffer of message.buffers) {\n",
              "            buffers.push(buffer);\n",
              "            downloaded += buffer.byteLength;\n",
              "            progress.value = downloaded;\n",
              "          }\n",
              "        }\n",
              "      }\n",
              "      const blob = new Blob(buffers, {type: 'application/binary'});\n",
              "      const a = document.createElement('a');\n",
              "      a.href = window.URL.createObjectURL(blob);\n",
              "      a.download = filename;\n",
              "      div.appendChild(a);\n",
              "      a.click();\n",
              "      div.remove();\n",
              "    }\n",
              "  "
            ],
            "text/plain": [
              "<IPython.core.display.Javascript object>"
            ]
          },
          "metadata": {
            "tags": []
          }
        },
        {
          "output_type": "display_data",
          "data": {
            "application/javascript": [
              "download(\"download_e23e8ec8-e584-4602-ae4c-8058d67e6b09\", \"points.geojson\", 402)"
            ],
            "text/plain": [
              "<IPython.core.display.Javascript object>"
            ]
          },
          "metadata": {
            "tags": []
          }
        }
      ]
    },
    {
      "cell_type": "markdown",
      "metadata": {
        "id": "pDIAVUscg3xF"
      },
      "source": [
        "**tip**:<br/>\n",
        "you can download, open with [geojson.io](https://geojson.io) and create a [gist resource](https://gist.github.com/napo/549a9a452f98055bb3210bf734d58a94) to see the points"
      ]
    },
    {
      "cell_type": "markdown",
      "metadata": {
        "id": "3M4cuG64hSBH"
      },
      "source": [
        "## calculate the distance on the geodentic between the municipaly with the big area and smallest area by using the centroid\n",
        "\n",
        "... maybe you are ready to work on this way .. but ..."
      ]
    },
    {
      "cell_type": "code",
      "metadata": {
        "id": "E29lflS5fAph",
        "outputId": "4c1b8c65-6ca3-45a6-b85d-b11ac0c4f186",
        "colab": {
          "base_uri": "https://localhost:8080/",
          "height": 104
        }
      },
      "source": [
        "maxarea_municipality_trentino.geometry.centroid.distance(minarea_municipality_trentino.geometry.centroid)"
      ],
      "execution_count": null,
      "outputs": [
        {
          "output_type": "stream",
          "text": [
            "/usr/local/lib/python3.6/dist-packages/geopandas/base.py:39: UserWarning: The indices of the two GeoSeries are different.\n",
            "  warn(\"The indices of the two GeoSeries are different.\")\n"
          ],
          "name": "stderr"
        },
        {
          "output_type": "execute_result",
          "data": {
            "text/plain": [
              "1309   NaN\n",
              "3275   NaN\n",
              "dtype: float64"
            ]
          },
          "metadata": {
            "tags": []
          },
          "execution_count": 152
        }
      ]
    },
    {
      "cell_type": "markdown",
      "metadata": {
        "id": "VRFJZk4CiKO_"
      },
      "source": [
        "there is a warning\n",
        "```\n",
        "The indices of the two GeoSeries are different.\n",
        "```\n",
        "... and we have 2 geodataframe with a row for each so ..."
      ]
    },
    {
      "cell_type": "code",
      "metadata": {
        "id": "SpYS8UymKTnL",
        "outputId": "883cd290-e26c-48d5-bbb6-5fe73f528beb",
        "colab": {
          "base_uri": "https://localhost:8080/",
          "height": 34
        }
      },
      "source": [
        "maxarea_municipality_trentino.index"
      ],
      "execution_count": null,
      "outputs": [
        {
          "output_type": "execute_result",
          "data": {
            "text/plain": [
              "Int64Index([3275], dtype='int64')"
            ]
          },
          "metadata": {
            "tags": []
          },
          "execution_count": 153
        }
      ]
    },
    {
      "cell_type": "code",
      "metadata": {
        "id": "WAmOAyWmOrcP"
      },
      "source": [
        "idx_minarea = minarea_municipality_trentino.index[0]"
      ],
      "execution_count": null,
      "outputs": []
    },
    {
      "cell_type": "code",
      "metadata": {
        "id": "-OcFNXICOvC8"
      },
      "source": [
        "idx_maxarea = maxarea_municipality_trentino.index[0]"
      ],
      "execution_count": null,
      "outputs": []
    },
    {
      "cell_type": "code",
      "metadata": {
        "id": "O9hP43KbO05F",
        "outputId": "bb713252-5b8b-403b-fb6f-e559dda2b7f5",
        "colab": {
          "base_uri": "https://localhost:8080/",
          "height": 34
        }
      },
      "source": [
        "maxarea_municipality_trentino.geometry[idx_maxarea].centroid.distance(minarea_municipality_trentino.geometry[idx_minarea].centroid)"
      ],
      "execution_count": null,
      "outputs": [
        {
          "output_type": "execute_result",
          "data": {
            "text/plain": [
              "31686.637969815347"
            ]
          },
          "metadata": {
            "tags": []
          },
          "execution_count": 158
        }
      ]
    },
    {
      "cell_type": "markdown",
      "metadata": {
        "id": "G3w4YSq7i_Of"
      },
      "source": [
        "the distance is in meters due the CRS used on the dataset "
      ]
    },
    {
      "cell_type": "markdown",
      "metadata": {
        "id": "_ZJxuinjPKA4"
      },
      "source": [
        "# Why a representative point?"
      ]
    },
    {
      "cell_type": "markdown",
      "metadata": {
        "id": "0ISDE0HGjzAi"
      },
      "source": [
        "Where is the centroid of Liguria?\n"
      ]
    },
    {
      "cell_type": "code",
      "metadata": {
        "id": "5Hba-qxTmuQL"
      },
      "source": [
        "regions = gpd.read_file(\"istat_administrative_units_2020.gpkg\",layer=\"regions\")"
      ],
      "execution_count": null,
      "outputs": []
    },
    {
      "cell_type": "code",
      "metadata": {
        "id": "91yTYhTBmm8U",
        "outputId": "7b74b72b-9fdb-46e8-8b27-636e6d2e225c",
        "colab": {
          "base_uri": "https://localhost:8080/",
          "height": 104
        }
      },
      "source": [
        "regions.DEN_REG.unique()"
      ],
      "execution_count": null,
      "outputs": [
        {
          "output_type": "execute_result",
          "data": {
            "text/plain": [
              "array(['Piemonte', \"Valle d'Aosta\", 'Lombardia', 'Veneto',\n",
              "       'Trentino-Alto Adige', 'Friuli Venezia Giulia', 'Liguria',\n",
              "       'Emilia-Romagna', 'Toscana', 'Umbria', 'Marche', 'Abruzzo',\n",
              "       'Molise', 'Lazio', 'Basilicata', 'Campania', 'Puglia', 'Calabria',\n",
              "       'Sicilia', 'Sardegna'], dtype=object)"
            ]
          },
          "metadata": {
            "tags": []
          },
          "execution_count": 177
        }
      ]
    },
    {
      "cell_type": "code",
      "metadata": {
        "id": "xiziGEkiAHJf",
        "outputId": "879c47b2-838e-471f-c739-c7a11a1c991e",
        "colab": {
          "base_uri": "https://localhost:8080/",
          "height": 237
        }
      },
      "source": [
        "regions[regions.DEN_REG=='Liguria'].plot()"
      ],
      "execution_count": null,
      "outputs": [
        {
          "output_type": "execute_result",
          "data": {
            "text/plain": [
              "<matplotlib.axes._subplots.AxesSubplot at 0x7fbc25948400>"
            ]
          },
          "metadata": {
            "tags": []
          },
          "execution_count": 180
        },
        {
          "output_type": "display_data",
          "data": {
            "image/png": "[encoded data removed]",
            "text/plain": [
              "<Figure size 432x288 with 1 Axes>"
            ]
          },
          "metadata": {
            "tags": [],
            "needs_background": "light"
          }
        }
      ]
    },
    {
      "cell_type": "code",
      "metadata": {
        "id": "C3st5LyfnhNV"
      },
      "source": [
        "regions[regions.DEN_REG=='Liguria'].to_crs(epsg=4326).to_file(\"liguria.geojson\",driver='GeoJSON')"
      ],
      "execution_count": null,
      "outputs": []
    },
    {
      "cell_type": "code",
      "metadata": {
        "id": "XOvUmDfvAUDN"
      },
      "source": [
        "regions[regions.DEN_REG=='Liguria'].centroid.to_crs(epsg=4326).to_file(\"liguria_centroid.geojson\",driver='GeoJSON')"
      ],
      "execution_count": null,
      "outputs": []
    },
    {
      "cell_type": "code",
      "metadata": {
        "id": "gx8_YvuWoSWo"
      },
      "source": [
        "regions[regions.DEN_REG=='Liguria'].representative_point().to_crs(epsg=4326).to_file(\"liguria_representative_point.geojson\",driver='GeoJSON')"
      ],
      "execution_count": null,
      "outputs": []
    },
    {
      "cell_type": "code",
      "metadata": {
        "id": "zWUS032RnnSd"
      },
      "source": [
        "files.download(\"liguria.geojson\")"
      ],
      "execution_count": null,
      "outputs": []
    },
    {
      "cell_type": "code",
      "metadata": {
        "id": "k6LB1lQNnQNM",
        "outputId": "82190012-216f-4383-fbcb-9a88a8004581",
        "colab": {
          "base_uri": "https://localhost:8080/",
          "height": 17
        }
      },
      "source": [
        "files.download(\"liguria_centroid.geojson\")"
      ],
      "execution_count": null,
      "outputs": [
        {
          "output_type": "display_data",
          "data": {
            "application/javascript": [
              "\n",
              "    async function download(id, filename, size) {\n",
              "      if (!google.colab.kernel.accessAllowed) {\n",
              "        return;\n",
              "      }\n",
              "      const div = document.createElement('div');\n",
              "      const label = document.createElement('label');\n",
              "      label.textContent = `Downloading \"${filename}\": `;\n",
              "      div.appendChild(label);\n",
              "      const progress = document.createElement('progress');\n",
              "      progress.max = size;\n",
              "      div.appendChild(progress);\n",
              "      document.body.appendChild(div);\n",
              "\n",
              "      const buffers = [];\n",
              "      let downloaded = 0;\n",
              "\n",
              "      const channel = await google.colab.kernel.comms.open(id);\n",
              "      // Send a message to notify the kernel that we're ready.\n",
              "      channel.send({})\n",
              "\n",
              "      for await (const message of channel.messages) {\n",
              "        // Send a message to notify the kernel that we're ready.\n",
              "        channel.send({})\n",
              "        if (message.buffers) {\n",
              "          for (const buffer of message.buffers) {\n",
              "            buffers.push(buffer);\n",
              "            downloaded += buffer.byteLength;\n",
              "            progress.value = downloaded;\n",
              "          }\n",
              "        }\n",
              "      }\n",
              "      const blob = new Blob(buffers, {type: 'application/binary'});\n",
              "      const a = document.createElement('a');\n",
              "      a.href = window.URL.createObjectURL(blob);\n",
              "      a.download = filename;\n",
              "      div.appendChild(a);\n",
              "      a.click();\n",
              "      div.remove();\n",
              "    }\n",
              "  "
            ],
            "text/plain": [
              "<IPython.core.display.Javascript object>"
            ]
          },
          "metadata": {
            "tags": []
          }
        },
        {
          "output_type": "display_data",
          "data": {
            "application/javascript": [
              "download(\"download_42b5037b-5c16-43a0-af17-7c1138acf5e5\", \"liguria_centroid.geojson\", 267)"
            ],
            "text/plain": [
              "<IPython.core.display.Javascript object>"
            ]
          },
          "metadata": {
            "tags": []
          }
        }
      ]
    },
    {
      "cell_type": "code",
      "metadata": {
        "id": "rUPJnHdQoiOK",
        "outputId": "8c53b8ce-9f5f-4f91-86cf-c7efc9a191fc",
        "colab": {
          "base_uri": "https://localhost:8080/",
          "height": 17
        }
      },
      "source": [
        "files.download('liguria_representative_point.geojson')"
      ],
      "execution_count": null,
      "outputs": [
        {
          "output_type": "display_data",
          "data": {
            "application/javascript": [
              "\n",
              "    async function download(id, filename, size) {\n",
              "      if (!google.colab.kernel.accessAllowed) {\n",
              "        return;\n",
              "      }\n",
              "      const div = document.createElement('div');\n",
              "      const label = document.createElement('label');\n",
              "      label.textContent = `Downloading \"${filename}\": `;\n",
              "      div.appendChild(label);\n",
              "      const progress = document.createElement('progress');\n",
              "      progress.max = size;\n",
              "      div.appendChild(progress);\n",
              "      document.body.appendChild(div);\n",
              "\n",
              "      const buffers = [];\n",
              "      let downloaded = 0;\n",
              "\n",
              "      const channel = await google.colab.kernel.comms.open(id);\n",
              "      // Send a message to notify the kernel that we're ready.\n",
              "      channel.send({})\n",
              "\n",
              "      for await (const message of channel.messages) {\n",
              "        // Send a message to notify the kernel that we're ready.\n",
              "        channel.send({})\n",
              "        if (message.buffers) {\n",
              "          for (const buffer of message.buffers) {\n",
              "            buffers.push(buffer);\n",
              "            downloaded += buffer.byteLength;\n",
              "            progress.value = downloaded;\n",
              "          }\n",
              "        }\n",
              "      }\n",
              "      const blob = new Blob(buffers, {type: 'application/binary'});\n",
              "      const a = document.createElement('a');\n",
              "      a.href = window.URL.createObjectURL(blob);\n",
              "      a.download = filename;\n",
              "      div.appendChild(a);\n",
              "      a.click();\n",
              "      div.remove();\n",
              "    }\n",
              "  "
            ],
            "text/plain": [
              "<IPython.core.display.Javascript object>"
            ]
          },
          "metadata": {
            "tags": []
          }
        },
        {
          "output_type": "display_data",
          "data": {
            "application/javascript": [
              "download(\"download_814763f1-89fe-42ee-84a2-a0d18a04fcb7\", \"liguria_representative_point.geojson\", 267)"
            ],
            "text/plain": [
              "<IPython.core.display.Javascript object>"
            ]
          },
          "metadata": {
            "tags": []
          }
        }
      ]
    },
    {
      "cell_type": "markdown",
      "metadata": {
        "id": "XMN9nFJDp5bL"
      },
      "source": [
        "you can upload all the geojson on [uMap](http://umap.openstreetmap.fr) to [see the result](http://umap.openstreetmap.fr/it/map/liguria_505528#8/44.058/9.075) "
      ]
    },
    {
      "cell_type": "markdown",
      "metadata": {
        "id": "hN57WvvIpy0i"
      },
      "source": [
        "![](https://raw.githubusercontent.com/napo/geospatial_course_unitn/master/images/umap_liguria.jpg)"
      ]
    }
  ]
}