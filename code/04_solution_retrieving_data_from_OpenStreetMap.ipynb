{
  "nbformat": 4,
  "nbformat_minor": 0,
  "metadata": {
    "colab": {
      "name": "04 - solutions - retrieving data from OpenStreetMap.ipynb",
      "provenance": [],
      "collapsed_sections": []
    },
    "kernelspec": {
      "name": "python3",
      "display_name": "Python 3"
    }
  },
  "cells": [
    {
      "cell_type": "markdown",
      "metadata": {
        "id": "3t2-UByg-oiF"
      },
      "source": [
        "# Setup"
      ]
    },
    {
      "cell_type": "code",
      "metadata": {
        "id": "uVCGKswPy1aY",
        "outputId": "11c5fe4c-d110-4f9a-9db1-b319be13db2c",
        "colab": {
          "base_uri": "https://localhost:8080/",
          "height": 119
        }
      },
      "source": [
        "!pip install pygeos"
      ],
      "execution_count": 1,
      "outputs": [
        {
          "output_type": "stream",
          "text": [
            "Collecting pygeos\n",
            "\u001b[?25l  Downloading https://files.pythonhosted.org/packages/66/06/2cfcf6e90814da1fdb4585534f03a36531f00cbad65f11b417337d69fe60/pygeos-0.8-cp36-cp36m-manylinux1_x86_64.whl (1.6MB)\n",
            "\u001b[K     |████████████████████████████████| 1.6MB 4.9MB/s \n",
            "\u001b[?25hRequirement already satisfied: numpy>=1.10 in /usr/local/lib/python3.6/dist-packages (from pygeos) (1.18.5)\n",
            "Installing collected packages: pygeos\n",
            "Successfully installed pygeos-0.8\n"
          ],
          "name": "stdout"
        }
      ]
    },
    {
      "cell_type": "code",
      "metadata": {
        "id": "Kg8Sf2oK-6GO",
        "outputId": "be0d0a3c-bb51-4d25-bbfa-3a8aad7c42dd",
        "colab": {
          "base_uri": "https://localhost:8080/",
          "height": 462
        }
      },
      "source": [
        "!pip install geopandas"
      ],
      "execution_count": 2,
      "outputs": [
        {
          "output_type": "stream",
          "text": [
            "Collecting geopandas\n",
            "\u001b[?25l  Downloading https://files.pythonhosted.org/packages/f7/a4/e66aafbefcbb717813bf3a355c8c4fc3ed04ea1dd7feb2920f2f4f868921/geopandas-0.8.1-py2.py3-none-any.whl (962kB)\n",
            "\r\u001b[K     |▍                               | 10kB 18.0MB/s eta 0:00:01\r\u001b[K     |▊                               | 20kB 6.4MB/s eta 0:00:01\r\u001b[K     |█                               | 30kB 7.5MB/s eta 0:00:01\r\u001b[K     |█▍                              | 40kB 7.9MB/s eta 0:00:01\r\u001b[K     |█▊                              | 51kB 6.9MB/s eta 0:00:01\r\u001b[K     |██                              | 61kB 7.9MB/s eta 0:00:01\r\u001b[K     |██▍                             | 71kB 8.1MB/s eta 0:00:01\r\u001b[K     |██▊                             | 81kB 8.7MB/s eta 0:00:01\r\u001b[K     |███                             | 92kB 8.3MB/s eta 0:00:01\r\u001b[K     |███▍                            | 102kB 8.7MB/s eta 0:00:01\r\u001b[K     |███▊                            | 112kB 8.7MB/s eta 0:00:01\r\u001b[K     |████                            | 122kB 8.7MB/s eta 0:00:01\r\u001b[K     |████▍                           | 133kB 8.7MB/s eta 0:00:01\r\u001b[K     |████▊                           | 143kB 8.7MB/s eta 0:00:01\r\u001b[K     |█████                           | 153kB 8.7MB/s eta 0:00:01\r\u001b[K     |█████▌                          | 163kB 8.7MB/s eta 0:00:01\r\u001b[K     |█████▉                          | 174kB 8.7MB/s eta 0:00:01\r\u001b[K     |██████▏                         | 184kB 8.7MB/s eta 0:00:01\r\u001b[K     |██████▌                         | 194kB 8.7MB/s eta 0:00:01\r\u001b[K     |██████▉                         | 204kB 8.7MB/s eta 0:00:01\r\u001b[K     |███████▏                        | 215kB 8.7MB/s eta 0:00:01\r\u001b[K     |███████▌                        | 225kB 8.7MB/s eta 0:00:01\r\u001b[K     |███████▉                        | 235kB 8.7MB/s eta 0:00:01\r\u001b[K     |████████▏                       | 245kB 8.7MB/s eta 0:00:01\r\u001b[K     |████████▌                       | 256kB 8.7MB/s eta 0:00:01\r\u001b[K     |████████▉                       | 266kB 8.7MB/s eta 0:00:01\r\u001b[K     |█████████▏                      | 276kB 8.7MB/s eta 0:00:01\r\u001b[K     |█████████▌                      | 286kB 8.7MB/s eta 0:00:01\r\u001b[K     |█████████▉                      | 296kB 8.7MB/s eta 0:00:01\r\u001b[K     |██████████▏                     | 307kB 8.7MB/s eta 0:00:01\r\u001b[K     |██████████▌                     | 317kB 8.7MB/s eta 0:00:01\r\u001b[K     |███████████                     | 327kB 8.7MB/s eta 0:00:01\r\u001b[K     |███████████▎                    | 337kB 8.7MB/s eta 0:00:01\r\u001b[K     |███████████▋                    | 348kB 8.7MB/s eta 0:00:01\r\u001b[K     |████████████                    | 358kB 8.7MB/s eta 0:00:01\r\u001b[K     |████████████▎                   | 368kB 8.7MB/s eta 0:00:01\r\u001b[K     |████████████▋                   | 378kB 8.7MB/s eta 0:00:01\r\u001b[K     |█████████████                   | 389kB 8.7MB/s eta 0:00:01\r\u001b[K     |█████████████▎                  | 399kB 8.7MB/s eta 0:00:01\r\u001b[K     |█████████████▋                  | 409kB 8.7MB/s eta 0:00:01\r\u001b[K     |██████████████                  | 419kB 8.7MB/s eta 0:00:01\r\u001b[K     |██████████████▎                 | 430kB 8.7MB/s eta 0:00:01\r\u001b[K     |██████████████▋                 | 440kB 8.7MB/s eta 0:00:01\r\u001b[K     |███████████████                 | 450kB 8.7MB/s eta 0:00:01\r\u001b[K     |███████████████▎                | 460kB 8.7MB/s eta 0:00:01\r\u001b[K     |███████████████▋                | 471kB 8.7MB/s eta 0:00:01\r\u001b[K     |████████████████                | 481kB 8.7MB/s eta 0:00:01\r\u001b[K     |████████████████▍               | 491kB 8.7MB/s eta 0:00:01\r\u001b[K     |████████████████▊               | 501kB 8.7MB/s eta 0:00:01\r\u001b[K     |█████████████████               | 512kB 8.7MB/s eta 0:00:01\r\u001b[K     |█████████████████▍              | 522kB 8.7MB/s eta 0:00:01\r\u001b[K     |█████████████████▊              | 532kB 8.7MB/s eta 0:00:01\r\u001b[K     |██████████████████              | 542kB 8.7MB/s eta 0:00:01\r\u001b[K     |██████████████████▍             | 552kB 8.7MB/s eta 0:00:01\r\u001b[K     |██████████████████▊             | 563kB 8.7MB/s eta 0:00:01\r\u001b[K     |███████████████████             | 573kB 8.7MB/s eta 0:00:01\r\u001b[K     |███████████████████▍            | 583kB 8.7MB/s eta 0:00:01\r\u001b[K     |███████████████████▊            | 593kB 8.7MB/s eta 0:00:01\r\u001b[K     |████████████████████            | 604kB 8.7MB/s eta 0:00:01\r\u001b[K     |████████████████████▍           | 614kB 8.7MB/s eta 0:00:01\r\u001b[K     |████████████████████▊           | 624kB 8.7MB/s eta 0:00:01\r\u001b[K     |█████████████████████           | 634kB 8.7MB/s eta 0:00:01\r\u001b[K     |█████████████████████▍          | 645kB 8.7MB/s eta 0:00:01\r\u001b[K     |█████████████████████▉          | 655kB 8.7MB/s eta 0:00:01\r\u001b[K     |██████████████████████▏         | 665kB 8.7MB/s eta 0:00:01\r\u001b[K     |██████████████████████▌         | 675kB 8.7MB/s eta 0:00:01\r\u001b[K     |██████████████████████▉         | 686kB 8.7MB/s eta 0:00:01\r\u001b[K     |███████████████████████▏        | 696kB 8.7MB/s eta 0:00:01\r\u001b[K     |███████████████████████▌        | 706kB 8.7MB/s eta 0:00:01\r\u001b[K     |███████████████████████▉        | 716kB 8.7MB/s eta 0:00:01\r\u001b[K     |████████████████████████▏       | 727kB 8.7MB/s eta 0:00:01\r\u001b[K     |████████████████████████▌       | 737kB 8.7MB/s eta 0:00:01\r\u001b[K     |████████████████████████▉       | 747kB 8.7MB/s eta 0:00:01\r\u001b[K     |█████████████████████████▏      | 757kB 8.7MB/s eta 0:00:01\r\u001b[K     |█████████████████████████▌      | 768kB 8.7MB/s eta 0:00:01\r\u001b[K     |█████████████████████████▉      | 778kB 8.7MB/s eta 0:00:01\r\u001b[K     |██████████████████████████▏     | 788kB 8.7MB/s eta 0:00:01\r\u001b[K     |██████████████████████████▌     | 798kB 8.7MB/s eta 0:00:01\r\u001b[K     |██████████████████████████▉     | 808kB 8.7MB/s eta 0:00:01\r\u001b[K     |███████████████████████████▎    | 819kB 8.7MB/s eta 0:00:01\r\u001b[K     |███████████████████████████▋    | 829kB 8.7MB/s eta 0:00:01\r\u001b[K     |████████████████████████████    | 839kB 8.7MB/s eta 0:00:01\r\u001b[K     |████████████████████████████▎   | 849kB 8.7MB/s eta 0:00:01\r\u001b[K     |████████████████████████████▋   | 860kB 8.7MB/s eta 0:00:01\r\u001b[K     |█████████████████████████████   | 870kB 8.7MB/s eta 0:00:01\r\u001b[K     |█████████████████████████████▎  | 880kB 8.7MB/s eta 0:00:01\r\u001b[K     |█████████████████████████████▋  | 890kB 8.7MB/s eta 0:00:01\r\u001b[K     |██████████████████████████████  | 901kB 8.7MB/s eta 0:00:01\r\u001b[K     |██████████████████████████████▎ | 911kB 8.7MB/s eta 0:00:01\r\u001b[K     |██████████████████████████████▋ | 921kB 8.7MB/s eta 0:00:01\r\u001b[K     |███████████████████████████████ | 931kB 8.7MB/s eta 0:00:01\r\u001b[K     |███████████████████████████████▎| 942kB 8.7MB/s eta 0:00:01\r\u001b[K     |███████████████████████████████▋| 952kB 8.7MB/s eta 0:00:01\r\u001b[K     |████████████████████████████████| 962kB 8.7MB/s eta 0:00:01\r\u001b[K     |████████████████████████████████| 972kB 8.7MB/s \n",
            "\u001b[?25hRequirement already satisfied: shapely in /usr/local/lib/python3.6/dist-packages (from geopandas) (1.7.1)\n",
            "Requirement already satisfied: pandas>=0.23.0 in /usr/local/lib/python3.6/dist-packages (from geopandas) (1.1.2)\n",
            "Collecting fiona\n",
            "\u001b[?25l  Downloading https://files.pythonhosted.org/packages/36/8b/e8b2c11bed5373c8e98edb85ce891b09aa1f4210fd451d0fb3696b7695a2/Fiona-1.8.17-cp36-cp36m-manylinux1_x86_64.whl (14.8MB)\n",
            "\u001b[K     |████████████████████████████████| 14.8MB 304kB/s \n",
            "\u001b[?25hCollecting pyproj>=2.2.0\n",
            "\u001b[?25l  Downloading https://files.pythonhosted.org/packages/e5/c3/071e080230ac4b6c64f1a2e2f9161c9737a2bc7b683d2c90b024825000c0/pyproj-2.6.1.post1-cp36-cp36m-manylinux2010_x86_64.whl (10.9MB)\n",
            "\u001b[K     |████████████████████████████████| 10.9MB 47.7MB/s \n",
            "\u001b[?25hRequirement already satisfied: pytz>=2017.2 in /usr/local/lib/python3.6/dist-packages (from pandas>=0.23.0->geopandas) (2018.9)\n",
            "Requirement already satisfied: numpy>=1.15.4 in /usr/local/lib/python3.6/dist-packages (from pandas>=0.23.0->geopandas) (1.18.5)\n",
            "Requirement already satisfied: python-dateutil>=2.7.3 in /usr/local/lib/python3.6/dist-packages (from pandas>=0.23.0->geopandas) (2.8.1)\n",
            "Collecting munch\n",
            "  Downloading https://files.pythonhosted.org/packages/cc/ab/85d8da5c9a45e072301beb37ad7f833cd344e04c817d97e0cc75681d248f/munch-2.5.0-py2.py3-none-any.whl\n",
            "Requirement already satisfied: six>=1.7 in /usr/local/lib/python3.6/dist-packages (from fiona->geopandas) (1.15.0)\n",
            "Requirement already satisfied: click<8,>=4.0 in /usr/local/lib/python3.6/dist-packages (from fiona->geopandas) (7.1.2)\n",
            "Requirement already satisfied: attrs>=17 in /usr/local/lib/python3.6/dist-packages (from fiona->geopandas) (20.2.0)\n",
            "Collecting click-plugins>=1.0\n",
            "  Downloading https://files.pythonhosted.org/packages/e9/da/824b92d9942f4e472702488857914bdd50f73021efea15b4cad9aca8ecef/click_plugins-1.1.1-py2.py3-none-any.whl\n",
            "Collecting cligj>=0.5\n",
            "  Downloading https://files.pythonhosted.org/packages/ba/06/e3440b1f2dc802d35f329f299ba96153e9fcbfdef75e17f4b61f79430c6a/cligj-0.7.0-py3-none-any.whl\n",
            "Installing collected packages: munch, click-plugins, cligj, fiona, pyproj, geopandas\n",
            "Successfully installed click-plugins-1.1.1 cligj-0.7.0 fiona-1.8.17 geopandas-0.8.1 munch-2.5.0 pyproj-2.6.1.post1\n"
          ],
          "name": "stdout"
        }
      ]
    },
    {
      "cell_type": "code",
      "metadata": {
        "id": "X19Rxubp-1_g",
        "outputId": "41c03a3c-b9ff-4900-c4a2-4f5a06d6faed",
        "colab": {
          "base_uri": "https://localhost:8080/",
          "height": 666
        }
      },
      "source": [
        "!pip install pyrosm"
      ],
      "execution_count": 3,
      "outputs": [
        {
          "output_type": "stream",
          "text": [
            "Collecting pyrosm\n",
            "\u001b[?25l  Downloading https://files.pythonhosted.org/packages/7c/ba/10de4eac775235554f52b9d02f21bcddd32deaeec027b1029553dc6befdc/pyrosm-0.5.3.tar.gz (2.0MB)\n",
            "\u001b[K     |████████████████████████████████| 2.0MB 5.8MB/s \n",
            "\u001b[?25h  Installing build dependencies ... \u001b[?25l\u001b[?25hdone\n",
            "  Getting requirements to build wheel ... \u001b[?25l\u001b[?25hdone\n",
            "  Installing backend dependencies ... \u001b[?25l\u001b[?25hdone\n",
            "    Preparing wheel metadata ... \u001b[?25l\u001b[?25hdone\n",
            "Processing /root/.cache/pip/wheels/12/d5/09/836011d00b6e694dfade8025669266260834574f47cfe18f62/cykhash-1.0.2-cp36-cp36m-linux_x86_64.whl\n",
            "Requirement already satisfied: geopandas in /usr/local/lib/python3.6/dist-packages (from pyrosm) (0.8.1)\n",
            "Collecting python-rapidjson\n",
            "  Using cached https://files.pythonhosted.org/packages/9e/cb/085b893850110d4e20ef3624808ccaec0515c07da0400e58bdd3ca73c5e3/python_rapidjson-0.9.1-cp36-cp36m-manylinux2010_x86_64.whl\n",
            "Requirement already satisfied: pygeos in /usr/local/lib/python3.6/dist-packages (from pyrosm) (0.8)\n",
            "Requirement already satisfied: setuptools>=18.0 in /usr/local/lib/python3.6/dist-packages (from pyrosm) (50.3.0)\n",
            "Processing /root/.cache/pip/wheels/a2/2b/e3/1800624884ba9461b903a05a809ff1c10317603a6ee8e74155/pyrobuf-0.9.3-cp36-cp36m-linux_x86_64.whl\n",
            "Requirement already satisfied: pyproj>=2.2.0 in /usr/local/lib/python3.6/dist-packages (from geopandas->pyrosm) (2.6.1.post1)\n",
            "Requirement already satisfied: fiona in /usr/local/lib/python3.6/dist-packages (from geopandas->pyrosm) (1.8.17)\n",
            "Requirement already satisfied: shapely in /usr/local/lib/python3.6/dist-packages (from geopandas->pyrosm) (1.7.1)\n",
            "Requirement already satisfied: pandas>=0.23.0 in /usr/local/lib/python3.6/dist-packages (from geopandas->pyrosm) (1.1.2)\n",
            "Requirement already satisfied: numpy>=1.10 in /usr/local/lib/python3.6/dist-packages (from pygeos->pyrosm) (1.18.5)\n",
            "Requirement already satisfied: cython>=0.23 in /usr/local/lib/python3.6/dist-packages (from pyrobuf->pyrosm) (0.29.21)\n",
            "Requirement already satisfied: jinja2>=2.8 in /usr/local/lib/python3.6/dist-packages (from pyrobuf->pyrosm) (2.11.2)\n",
            "Requirement already satisfied: munch in /usr/local/lib/python3.6/dist-packages (from fiona->geopandas->pyrosm) (2.5.0)\n",
            "Requirement already satisfied: six>=1.7 in /usr/local/lib/python3.6/dist-packages (from fiona->geopandas->pyrosm) (1.15.0)\n",
            "Requirement already satisfied: attrs>=17 in /usr/local/lib/python3.6/dist-packages (from fiona->geopandas->pyrosm) (20.2.0)\n",
            "Requirement already satisfied: click-plugins>=1.0 in /usr/local/lib/python3.6/dist-packages (from fiona->geopandas->pyrosm) (1.1.1)\n",
            "Requirement already satisfied: cligj>=0.5 in /usr/local/lib/python3.6/dist-packages (from fiona->geopandas->pyrosm) (0.7.0)\n",
            "Requirement already satisfied: click<8,>=4.0 in /usr/local/lib/python3.6/dist-packages (from fiona->geopandas->pyrosm) (7.1.2)\n",
            "Requirement already satisfied: python-dateutil>=2.7.3 in /usr/local/lib/python3.6/dist-packages (from pandas>=0.23.0->geopandas->pyrosm) (2.8.1)\n",
            "Requirement already satisfied: pytz>=2017.2 in /usr/local/lib/python3.6/dist-packages (from pandas>=0.23.0->geopandas->pyrosm) (2018.9)\n",
            "Requirement already satisfied: MarkupSafe>=0.23 in /usr/local/lib/python3.6/dist-packages (from jinja2>=2.8->pyrobuf->pyrosm) (1.1.1)\n",
            "Building wheels for collected packages: pyrosm\n",
            "  Building wheel for pyrosm (PEP 517) ... \u001b[?25l\u001b[?25hdone\n",
            "  Created wheel for pyrosm: filename=pyrosm-0.5.3-cp36-cp36m-linux_x86_64.whl size=5013113 sha256=e091f9866eb7f330b125b121b92ea28d8f5b9d508a943f100409952749ad93b3\n",
            "  Stored in directory: /root/.cache/pip/wheels/a8/ca/18/ff3b302d589113fac92b89d73c135eeb5d0c62c06ae32441e8\n",
            "Successfully built pyrosm\n",
            "Installing collected packages: cykhash, python-rapidjson, pyrobuf, pyrosm\n",
            "Successfully installed cykhash-1.0.2 pyrobuf-0.9.3 pyrosm-0.5.3 python-rapidjson-0.9.1\n"
          ],
          "name": "stdout"
        }
      ]
    },
    {
      "cell_type": "markdown",
      "metadata": {
        "id": "vsI-mCoR-YPv"
      },
      "source": [
        "# Exercise\n",
        "- download from OpenStreetMap all supermarkets inside the bounding box of the city with this the coordinate<br/>\n",
        "   latitude: 46.21209<br/>\n",
        "   longitude: 11.09351\n",
        "- identify the longest road of the city (state roads, walking routes, motorways are excluded). Please use \"unclassified\"\n",
        "- How many drinking water are in this city?\n",
        "- How many benches in this city have the backrest?\n"
      ]
    },
    {
      "cell_type": "markdown",
      "metadata": {
        "id": "gRbf6i9E_M8U"
      },
      "source": [
        "## download from OpenStreetMap all supermarkets inside the bounding box of the city with these coordinates\n"
      ]
    },
    {
      "cell_type": "code",
      "metadata": {
        "id": "4aed7RUAEFWD",
        "outputId": "7dacb0e6-0a14-4411-b1d1-70dc374550e2",
        "colab": {
          "base_uri": "https://localhost:8080/",
          "height": 71
        }
      },
      "source": [
        "import geopandas as gpd"
      ],
      "execution_count": 4,
      "outputs": [
        {
          "output_type": "stream",
          "text": [
            "/usr/local/lib/python3.6/dist-packages/geopandas/_compat.py:88: UserWarning: The Shapely GEOS version (3.8.0-CAPI-1.13.1 ) is incompatible with the GEOS version PyGEOS was compiled with (3.8.1-CAPI-1.13.3). Conversions between both will be slow.\n",
            "  shapely_geos_version, geos_capi_version_string\n"
          ],
          "name": "stderr"
        }
      ]
    },
    {
      "cell_type": "markdown",
      "metadata": {
        "id": "gFD_emOeHbhX"
      },
      "source": [
        "## find the city"
      ]
    },
    {
      "cell_type": "markdown",
      "metadata": {
        "id": "QTJPrf7LFIkK"
      },
      "source": [
        "### method 1 - reverse geocoding"
      ]
    },
    {
      "cell_type": "code",
      "metadata": {
        "id": "nSxcieQUFtJB"
      },
      "source": [
        "from geopy.geocoders import ArcGIS"
      ],
      "execution_count": 5,
      "outputs": []
    },
    {
      "cell_type": "code",
      "metadata": {
        "id": "7JbQf0_LFVbF"
      },
      "source": [
        "latlon = \"46.21209\" + \",\" + \"11.09351\""
      ],
      "execution_count": 6,
      "outputs": []
    },
    {
      "cell_type": "code",
      "metadata": {
        "id": "LCtE4ZMMFgzJ"
      },
      "source": [
        "geolocator = ArcGIS(user_agent=\"Mozilla/5.0 (Linux; Android 10) AppleWebKit/537.36 (KHTML, like Gecko) Chrome/86.0.4240.75 Mobile Safari/537.36\")"
      ],
      "execution_count": 7,
      "outputs": []
    },
    {
      "cell_type": "code",
      "metadata": {
        "id": "8j6Ddx1xFmw9"
      },
      "source": [
        "location = geolocator.reverse(latlon)"
      ],
      "execution_count": 8,
      "outputs": []
    },
    {
      "cell_type": "code",
      "metadata": {
        "id": "ZMySs5IAFwm8"
      },
      "source": [
        "city = location.raw['City']"
      ],
      "execution_count": 9,
      "outputs": []
    },
    {
      "cell_type": "code",
      "metadata": {
        "id": "7eidOG-nGGSt",
        "outputId": "a7ee3dd8-a18a-40ff-eb5f-5d994b525ae4",
        "colab": {
          "base_uri": "https://localhost:8080/",
          "height": 35
        }
      },
      "source": [
        "city"
      ],
      "execution_count": 10,
      "outputs": [
        {
          "output_type": "execute_result",
          "data": {
            "application/vnd.google.colaboratory.intrinsic+json": {
              "type": "string"
            },
            "text/plain": [
              "'Mezzolombardo'"
            ]
          },
          "metadata": {
            "tags": []
          },
          "execution_count": 10
        }
      ]
    },
    {
      "cell_type": "markdown",
      "metadata": {
        "id": "CJ5hNwYB_RBr"
      },
      "source": [
        "### method 2 - spatial relathion"
      ]
    },
    {
      "cell_type": "code",
      "metadata": {
        "id": "CixnSnRiEU-X"
      },
      "source": [
        "from shapely.geometry import Point"
      ],
      "execution_count": 11,
      "outputs": []
    },
    {
      "cell_type": "code",
      "metadata": {
        "id": "-WV9aGZFE451"
      },
      "source": [
        "point = Point(11.09351,46.21209)"
      ],
      "execution_count": 12,
      "outputs": []
    },
    {
      "cell_type": "code",
      "metadata": {
        "id": "iyMAwE2kDzJl",
        "outputId": "e6baca4e-0039-47b9-ba87-5ff9fc9b356c",
        "colab": {
          "base_uri": "https://localhost:8080/",
          "height": 289
        }
      },
      "source": [
        "!wget https://github.com/napo/geospatial_course_unitn/raw/master/data/administrative_units_italy_2020/istat_administrative_units_2020.gpkg"
      ],
      "execution_count": 13,
      "outputs": [
        {
          "output_type": "stream",
          "text": [
            "--2020-10-23 07:29:48--  https://github.com/napo/geospatial_course_unitn/raw/master/data/administrative_units_italy_2020/istat_administrative_units_2020.gpkg\n",
            "Resolving github.com (github.com)... 140.82.121.3\n",
            "Connecting to github.com (github.com)|140.82.121.3|:443... connected.\n",
            "HTTP request sent, awaiting response... 302 Found\n",
            "Location: https://raw.githubusercontent.com/napo/geospatial_course_unitn/master/data/administrative_units_italy_2020/istat_administrative_units_2020.gpkg [following]\n",
            "--2020-10-23 07:29:48--  https://raw.githubusercontent.com/napo/geospatial_course_unitn/master/data/administrative_units_italy_2020/istat_administrative_units_2020.gpkg\n",
            "Resolving raw.githubusercontent.com (raw.githubusercontent.com)... 151.101.0.133, 151.101.64.133, 151.101.128.133, ...\n",
            "Connecting to raw.githubusercontent.com (raw.githubusercontent.com)|151.101.0.133|:443... connected.\n",
            "HTTP request sent, awaiting response... 200 OK\n",
            "Length: 23396352 (22M) [application/octet-stream]\n",
            "Saving to: ‘istat_administrative_units_2020.gpkg’\n",
            "\n",
            "istat_administrativ 100%[===================>]  22.31M  91.6MB/s    in 0.2s    \n",
            "\n",
            "2020-10-23 07:29:50 (91.6 MB/s) - ‘istat_administrative_units_2020.gpkg’ saved [23396352/23396352]\n",
            "\n"
          ],
          "name": "stdout"
        }
      ]
    },
    {
      "cell_type": "code",
      "metadata": {
        "id": "JyZ_vF-WEA1o"
      },
      "source": [
        "municipalities = gpd.read_file(\"istat_administrative_units_2020.gpkg\",layer=\"municipalities\")"
      ],
      "execution_count": 14,
      "outputs": []
    },
    {
      "cell_type": "code",
      "metadata": {
        "id": "zWsarpccEYLI"
      },
      "source": [
        "muncipality = municipalities[municipalities.to_crs(epsg=4326).geometry.contains(point)]"
      ],
      "execution_count": 15,
      "outputs": []
    },
    {
      "cell_type": "code",
      "metadata": {
        "id": "gGWR3m15G54z",
        "outputId": "44f28230-d9fe-48a3-e75c-2c487e425fa8",
        "colab": {
          "base_uri": "https://localhost:8080/",
          "height": 80
        }
      },
      "source": [
        "muncipality"
      ],
      "execution_count": 16,
      "outputs": [
        {
          "output_type": "execute_result",
          "data": {
            "text/html": [
              "<div>\n",
              "<style scoped>\n",
              "    .dataframe tbody tr th:only-of-type {\n",
              "        vertical-align: middle;\n",
              "    }\n",
              "\n",
              "    .dataframe tbody tr th {\n",
              "        vertical-align: top;\n",
              "    }\n",
              "\n",
              "    .dataframe thead th {\n",
              "        text-align: right;\n",
              "    }\n",
              "</style>\n",
              "<table border=\"1\" class=\"dataframe\">\n",
              "  <thead>\n",
              "    <tr style=\"text-align: right;\">\n",
              "      <th></th>\n",
              "      <th>COD_RIP</th>\n",
              "      <th>COD_REG</th>\n",
              "      <th>COD_PROV</th>\n",
              "      <th>COD_CM</th>\n",
              "      <th>COD_UTS</th>\n",
              "      <th>PRO_COM</th>\n",
              "      <th>PRO_COM_T</th>\n",
              "      <th>COMUNE</th>\n",
              "      <th>COMUNE_A</th>\n",
              "      <th>CC_UTS</th>\n",
              "      <th>geometry</th>\n",
              "    </tr>\n",
              "  </thead>\n",
              "  <tbody>\n",
              "    <tr>\n",
              "      <th>3417</th>\n",
              "      <td>2</td>\n",
              "      <td>4</td>\n",
              "      <td>22</td>\n",
              "      <td>0</td>\n",
              "      <td>22</td>\n",
              "      <td>22117</td>\n",
              "      <td>022117</td>\n",
              "      <td>Mezzolombardo</td>\n",
              "      <td>None</td>\n",
              "      <td>0</td>\n",
              "      <td>MULTIPOLYGON (((659991.073 5121616.939, 660921...</td>\n",
              "    </tr>\n",
              "  </tbody>\n",
              "</table>\n",
              "</div>"
            ],
            "text/plain": [
              "      COD_RIP  ...                                           geometry\n",
              "3417        2  ...  MULTIPOLYGON (((659991.073 5121616.939, 660921...\n",
              "\n",
              "[1 rows x 11 columns]"
            ]
          },
          "metadata": {
            "tags": []
          },
          "execution_count": 16
        }
      ]
    },
    {
      "cell_type": "code",
      "metadata": {
        "id": "ZQ2OLXmtHAJN"
      },
      "source": [
        "city = muncipality.COMUNE.values[0]"
      ],
      "execution_count": 17,
      "outputs": []
    },
    {
      "cell_type": "code",
      "metadata": {
        "id": "ukwOsdblHPZw",
        "outputId": "23bab612-244b-460e-a157-75a50b65efe0",
        "colab": {
          "base_uri": "https://localhost:8080/",
          "height": 35
        }
      },
      "source": [
        "city"
      ],
      "execution_count": 18,
      "outputs": [
        {
          "output_type": "execute_result",
          "data": {
            "application/vnd.google.colaboratory.intrinsic+json": {
              "type": "string"
            },
            "text/plain": [
              "'Mezzolombardo'"
            ]
          },
          "metadata": {
            "tags": []
          },
          "execution_count": 18
        }
      ]
    },
    {
      "cell_type": "markdown",
      "metadata": {
        "id": "4e-359dKHji7"
      },
      "source": [
        "## find the boundig box of Mezzolombardo"
      ]
    },
    {
      "cell_type": "code",
      "metadata": {
        "id": "rCKSywvs5Svh"
      },
      "source": [
        "from shapely.geometry import Polygon"
      ],
      "execution_count": 19,
      "outputs": []
    },
    {
      "cell_type": "code",
      "metadata": {
        "id": "At-YukQZHn_j"
      },
      "source": [
        "municipality = municipalities[municipalities.COMUNE==city]"
      ],
      "execution_count": 20,
      "outputs": []
    },
    {
      "cell_type": "code",
      "metadata": {
        "id": "7x8Zw7u63sbd",
        "outputId": "83df47ca-f5ff-4aba-b1d9-70b94c631d05",
        "colab": {
          "base_uri": "https://localhost:8080/",
          "height": 80
        }
      },
      "source": [
        "municipality.to_crs(epsg=4326).geometry.bounds"
      ],
      "execution_count": 21,
      "outputs": [
        {
          "output_type": "execute_result",
          "data": {
            "text/html": [
              "<div>\n",
              "<style scoped>\n",
              "    .dataframe tbody tr th:only-of-type {\n",
              "        vertical-align: middle;\n",
              "    }\n",
              "\n",
              "    .dataframe tbody tr th {\n",
              "        vertical-align: top;\n",
              "    }\n",
              "\n",
              "    .dataframe thead th {\n",
              "        text-align: right;\n",
              "    }\n",
              "</style>\n",
              "<table border=\"1\" class=\"dataframe\">\n",
              "  <thead>\n",
              "    <tr style=\"text-align: right;\">\n",
              "      <th></th>\n",
              "      <th>minx</th>\n",
              "      <th>miny</th>\n",
              "      <th>maxx</th>\n",
              "      <th>maxy</th>\n",
              "    </tr>\n",
              "  </thead>\n",
              "  <tbody>\n",
              "    <tr>\n",
              "      <th>3417</th>\n",
              "      <td>11.062845</td>\n",
              "      <td>46.177712</td>\n",
              "      <td>11.118754</td>\n",
              "      <td>46.231135</td>\n",
              "    </tr>\n",
              "  </tbody>\n",
              "</table>\n",
              "</div>"
            ],
            "text/plain": [
              "           minx       miny       maxx       maxy\n",
              "3417  11.062845  46.177712  11.118754  46.231135"
            ]
          },
          "metadata": {
            "tags": []
          },
          "execution_count": 21
        }
      ]
    },
    {
      "cell_type": "code",
      "metadata": {
        "id": "guKtC4PdH6Fv"
      },
      "source": [
        "bbox = list(municipality.to_crs(epsg=4326).geometry.bounds.values[0])"
      ],
      "execution_count": 22,
      "outputs": []
    },
    {
      "cell_type": "markdown",
      "metadata": {
        "id": "UZXAdiCo4e7V"
      },
      "source": [
        "![](https://raw.githubusercontent.com/napo/geospatial_course_unitn/master/images/boudingbox.png)"
      ]
    },
    {
      "cell_type": "code",
      "metadata": {
        "id": "7CIoB9oE4qKv"
      },
      "source": [
        "minx = bbox[0]\n",
        "miny = bbox[1]\n",
        "maxx = bbox[2]\n",
        "maxy = bbox[3]"
      ],
      "execution_count": 23,
      "outputs": []
    },
    {
      "cell_type": "code",
      "metadata": {
        "id": "PVXZBtgTR1tc"
      },
      "source": [
        "polygon = Polygon([[minx, miny], [maxx, miny], [maxx, maxy], [minx, maxy]])"
      ],
      "execution_count": 24,
      "outputs": []
    },
    {
      "cell_type": "code",
      "metadata": {
        "id": "dNPvEr775ayT",
        "outputId": "52af25b7-1180-45be-829c-d3c47ed323ec",
        "colab": {
          "base_uri": "https://localhost:8080/",
          "height": 121
        }
      },
      "source": [
        "polygon"
      ],
      "execution_count": 25,
      "outputs": [
        {
          "output_type": "execute_result",
          "data": {
            "text/plain": [
              "<shapely.geometry.polygon.Polygon at 0x7f6a70c3b438>"
            ],
            "image/svg+xml": "<svg xmlns=\"http://www.w3.org/2000/svg\" xmlns:xlink=\"http://www.w3.org/1999/xlink\" width=\"100.0\" height=\"100.0\" viewBox=\"11.060608694660377 46.175476022935776 0.06038141300009947 0.05789554269223629\" preserveAspectRatio=\"xMinYMin meet\"><g transform=\"matrix(1,0,0,-1,0,92.40884758856379)\"><path fill-rule=\"evenodd\" fill=\"#66cc99\" stroke=\"#555555\" stroke-width=\"0.0012076282600019894\" opacity=\"0.6\" d=\"M 11.062845043290011,46.177712371565406 L 11.118753759030843,46.177712371565406 L 11.118753759030843,46.23113521699838 L 11.062845043290011,46.23113521699838 L 11.062845043290011,46.177712371565406 z\" /></g></svg>"
          },
          "metadata": {
            "tags": []
          },
          "execution_count": 25
        }
      ]
    },
    {
      "cell_type": "markdown",
      "metadata": {
        "id": "UmL4-rgmIN3I"
      },
      "source": [
        "## download from OpenStreetMap"
      ]
    },
    {
      "cell_type": "code",
      "metadata": {
        "id": "CvpU_s3VQel_"
      },
      "source": [
        "data = {'description': ['bbox around Mezzolombardo'], 'geometry': [polygon]}"
      ],
      "execution_count": 26,
      "outputs": []
    },
    {
      "cell_type": "code",
      "metadata": {
        "id": "avt_8mGvQOWV"
      },
      "source": [
        "bbox_mezzolombardo = gpd.GeoDataFrame(data,crs=\"epsg:4326\")"
      ],
      "execution_count": 27,
      "outputs": []
    },
    {
      "cell_type": "code",
      "metadata": {
        "id": "LwvCwLUn6bRy"
      },
      "source": [
        "bbox_mezzolombardo.to_file(\"bbox_mezzolombardo.geojson\",driver=\"GeoJSON\")"
      ],
      "execution_count": 28,
      "outputs": []
    },
    {
      "cell_type": "code",
      "metadata": {
        "id": "3u9LSAOY6Ua5",
        "outputId": "f1956707-3a35-45ac-9f45-162381e50c5b",
        "colab": {
          "base_uri": "https://localhost:8080/",
          "height": 34
        }
      },
      "source": [
        "from google.colab import files\n",
        "files.download(\"bbox_mezzolombardo.geojson\")"
      ],
      "execution_count": 29,
      "outputs": [
        {
          "output_type": "display_data",
          "data": {
            "application/javascript": [
              "\n",
              "    async function download(id, filename, size) {\n",
              "      if (!google.colab.kernel.accessAllowed) {\n",
              "        return;\n",
              "      }\n",
              "      const div = document.createElement('div');\n",
              "      const label = document.createElement('label');\n",
              "      label.textContent = `Downloading \"${filename}\": `;\n",
              "      div.appendChild(label);\n",
              "      const progress = document.createElement('progress');\n",
              "      progress.max = size;\n",
              "      div.appendChild(progress);\n",
              "      document.body.appendChild(div);\n",
              "\n",
              "      const buffers = [];\n",
              "      let downloaded = 0;\n",
              "\n",
              "      const channel = await google.colab.kernel.comms.open(id);\n",
              "      // Send a message to notify the kernel that we're ready.\n",
              "      channel.send({})\n",
              "\n",
              "      for await (const message of channel.messages) {\n",
              "        // Send a message to notify the kernel that we're ready.\n",
              "        channel.send({})\n",
              "        if (message.buffers) {\n",
              "          for (const buffer of message.buffers) {\n",
              "            buffers.push(buffer);\n",
              "            downloaded += buffer.byteLength;\n",
              "            progress.value = downloaded;\n",
              "          }\n",
              "        }\n",
              "      }\n",
              "      const blob = new Blob(buffers, {type: 'application/binary'});\n",
              "      const a = document.createElement('a');\n",
              "      a.href = window.URL.createObjectURL(blob);\n",
              "      a.download = filename;\n",
              "      div.appendChild(a);\n",
              "      a.click();\n",
              "      div.remove();\n",
              "    }\n",
              "  "
            ],
            "text/plain": [
              "<IPython.core.display.Javascript object>"
            ]
          },
          "metadata": {
            "tags": []
          }
        },
        {
          "output_type": "display_data",
          "data": {
            "application/javascript": [
              "download(\"download_a265a2cd-9c56-402b-affc-bd068b7d73f9\", \"bbox_mezzolombardo.geojson\", 497)"
            ],
            "text/plain": [
              "<IPython.core.display.Javascript object>"
            ]
          },
          "metadata": {
            "tags": []
          }
        }
      ]
    },
    {
      "cell_type": "markdown",
      "metadata": {
        "id": "lzX7UgwKPJ5S"
      },
      "source": [
        "## method 1 - download and cut from geodati fmach\n",
        "\n",
        "http://www.geodati.fmach.it/italia_osm.html\n",
        "\n",
        "http://geodati.fmach.it/gfoss_geodata/osm/output_osm_regioni/trentino-alto-adige.pbf\n"
      ]
    },
    {
      "cell_type": "code",
      "metadata": {
        "id": "ybB_LtNOIe3V",
        "outputId": "3241f40e-f44c-41b2-d036-6dafd747c8d1",
        "colab": {
          "base_uri": "https://localhost:8080/",
          "height": 204
        }
      },
      "source": [
        "!wget http://geodati.fmach.it/gfoss_geodata/osm/output_osm_regioni/trentino-alto-adige.pbf"
      ],
      "execution_count": 30,
      "outputs": [
        {
          "output_type": "stream",
          "text": [
            "--2020-10-23 07:29:53--  http://geodati.fmach.it/gfoss_geodata/osm/output_osm_regioni/trentino-alto-adige.pbf\n",
            "Resolving geodati.fmach.it (geodati.fmach.it)... 77.72.197.167\n",
            "Connecting to geodati.fmach.it (geodati.fmach.it)|77.72.197.167|:80... connected.\n",
            "HTTP request sent, awaiting response... 200 OK\n",
            "Length: 90917416 (87M)\n",
            "Saving to: ‘trentino-alto-adige.pbf’\n",
            "\n",
            "trentino-alto-adige 100%[===================>]  86.71M  9.26MB/s    in 11s     \n",
            "\n",
            "2020-10-23 07:30:04 (7.76 MB/s) - ‘trentino-alto-adige.pbf’ saved [90917416/90917416]\n",
            "\n"
          ],
          "name": "stdout"
        }
      ]
    },
    {
      "cell_type": "code",
      "metadata": {
        "id": "iw0o1nEC9Xpe"
      },
      "source": [
        "path_pbf_file_big = \"/content/trentino-alto-adige.pbf\""
      ],
      "execution_count": 31,
      "outputs": []
    },
    {
      "cell_type": "markdown",
      "metadata": {
        "id": "SPC5l5pTIX1X"
      },
      "source": [
        "## method 2 - download from export.hotosm.org\n",
        "\n",
        "![](https://raw.githubusercontent.com/napo/geospatial_course_unitn/master/images/export_hostosm_mezzolombardo.png)"
      ]
    },
    {
      "cell_type": "code",
      "metadata": {
        "id": "f8IUi1GJ88y9",
        "outputId": "74dfdcde-a8f7-4d3f-dee3-0561493a7f27",
        "colab": {
          "base_uri": "https://localhost:8080/",
          "height": 289
        }
      },
      "source": [
        "!wget https://github.com/napo/geospatial_course_unitn/raw/master/data/openstreetmap/mezzolombardo_bbox.osm.pbf"
      ],
      "execution_count": 32,
      "outputs": [
        {
          "output_type": "stream",
          "text": [
            "--2020-10-23 07:30:04--  https://github.com/napo/geospatial_course_unitn/raw/master/data/openstreetmap/mezzolombardo_bbox.osm.pbf\n",
            "Resolving github.com (github.com)... 140.82.121.4\n",
            "Connecting to github.com (github.com)|140.82.121.4|:443... connected.\n",
            "HTTP request sent, awaiting response... 302 Found\n",
            "Location: https://raw.githubusercontent.com/napo/geospatial_course_unitn/master/data/openstreetmap/mezzolombardo_bbox.osm.pbf [following]\n",
            "--2020-10-23 07:30:04--  https://raw.githubusercontent.com/napo/geospatial_course_unitn/master/data/openstreetmap/mezzolombardo_bbox.osm.pbf\n",
            "Resolving raw.githubusercontent.com (raw.githubusercontent.com)... 151.101.0.133, 151.101.64.133, 151.101.128.133, ...\n",
            "Connecting to raw.githubusercontent.com (raw.githubusercontent.com)|151.101.0.133|:443... connected.\n",
            "HTTP request sent, awaiting response... 200 OK\n",
            "Length: 978912 (956K) [application/octet-stream]\n",
            "Saving to: ‘mezzolombardo_bbox.osm.pbf’\n",
            "\n",
            "mezzolombardo_bbox. 100%[===================>] 955.97K  --.-KB/s    in 0.05s   \n",
            "\n",
            "2020-10-23 07:30:05 (18.0 MB/s) - ‘mezzolombardo_bbox.osm.pbf’ saved [978912/978912]\n",
            "\n"
          ],
          "name": "stdout"
        }
      ]
    },
    {
      "cell_type": "code",
      "metadata": {
        "id": "yeMbZRmK96b0"
      },
      "source": [
        "path_pbf_file = \"mezzolombardo_bbox.osm.pbf\""
      ],
      "execution_count": 33,
      "outputs": []
    },
    {
      "cell_type": "markdown",
      "metadata": {
        "id": "MqEyAiv5-PK4"
      },
      "source": [
        "## find all the supermarkets in the area\n",
        "\n"
      ]
    },
    {
      "cell_type": "code",
      "metadata": {
        "id": "OJ-06PsyP4dT",
        "outputId": "7153e1ad-076a-4b4b-ee30-06257539f1d1",
        "colab": {
          "base_uri": "https://localhost:8080/",
          "height": 71
        }
      },
      "source": [
        "import pyrosm"
      ],
      "execution_count": 34,
      "outputs": [
        {
          "output_type": "stream",
          "text": [
            "/usr/local/lib/python3.6/dist-packages/pyrosm/utils/_compat.py:12: UserWarning: The Shapely GEOS version (3.8.0-CAPI-1.13.1 ) is incompatible with the GEOS version PyGEOS was compiled with (3.8.1-CAPI-1.13.3). The tool will work but it runs a bit slower.\n",
            "  shapely_geos_version, geos_capi_version_string\n"
          ],
          "name": "stderr"
        }
      ]
    },
    {
      "cell_type": "markdown",
      "metadata": {
        "id": "pAFYXykn_pCx"
      },
      "source": [
        "![](https://raw.githubusercontent.com/napo/geospatial_course_unitn/master/images/tag_supermarket.png)"
      ]
    },
    {
      "cell_type": "code",
      "metadata": {
        "id": "VGqC3vvbPtcC"
      },
      "source": [
        "osm = pyrosm.OSM(path_pbf_file,bounding_box=bbox)"
      ],
      "execution_count": 35,
      "outputs": []
    },
    {
      "cell_type": "code",
      "metadata": {
        "id": "T8D0Jp7XAFwd"
      },
      "source": [
        "custom_filter = {'shop': ['supermarket']}"
      ],
      "execution_count": 36,
      "outputs": []
    },
    {
      "cell_type": "code",
      "metadata": {
        "id": "l_TYpgQ4_9IC"
      },
      "source": [
        "supermarkets = osm.get_pois(custom_filter=custom_filter)"
      ],
      "execution_count": 37,
      "outputs": []
    },
    {
      "cell_type": "code",
      "metadata": {
        "id": "Wp8XKwn4AgBn",
        "outputId": "5f7b5024-f6c7-446a-ec34-4ab8cb5a1efb",
        "colab": {
          "base_uri": "https://localhost:8080/",
          "height": 34
        }
      },
      "source": [
        "supermarkets.shape"
      ],
      "execution_count": 38,
      "outputs": [
        {
          "output_type": "execute_result",
          "data": {
            "text/plain": [
              "(8, 19)"
            ]
          },
          "metadata": {
            "tags": []
          },
          "execution_count": 38
        }
      ]
    },
    {
      "cell_type": "code",
      "metadata": {
        "id": "QjQjoeakArNT",
        "outputId": "f0d08b6c-5edd-4e03-94a5-20c57011f75a",
        "colab": {
          "base_uri": "https://localhost:8080/",
          "height": 34
        }
      },
      "source": [
        "print(\"there are %s supermarkets\" % supermarkets.shape[0])"
      ],
      "execution_count": 39,
      "outputs": [
        {
          "output_type": "stream",
          "text": [
            "there are 8 supermarkets\n"
          ],
          "name": "stdout"
        }
      ]
    },
    {
      "cell_type": "code",
      "metadata": {
        "id": "-2Vb7JDmB5_w",
        "outputId": "81554e0c-b6bc-4791-b148-3ee0eda24aac",
        "colab": {
          "base_uri": "https://localhost:8080/",
          "height": 170
        }
      },
      "source": [
        "supermarkets.name"
      ],
      "execution_count": 40,
      "outputs": [
        {
          "output_type": "execute_result",
          "data": {
            "text/plain": [
              "0    Iper Soap\n",
              "1    Schlecker\n",
              "2       Despar\n",
              "3     EuroSpin\n",
              "4        Conad\n",
              "5        Orvea\n",
              "6        Amort\n",
              "7         LIDL\n",
              "Name: name, dtype: object"
            ]
          },
          "metadata": {
            "tags": []
          },
          "execution_count": 40
        }
      ]
    },
    {
      "cell_type": "markdown",
      "metadata": {
        "id": "9V460bMCBvJC"
      },
      "source": [
        "# identify the longest road of the city\n"
      ]
    },
    {
      "cell_type": "code",
      "metadata": {
        "id": "pKFy0PexB1bk"
      },
      "source": [
        "roads = osm.get_network(network_type='all')"
      ],
      "execution_count": 41,
      "outputs": []
    },
    {
      "cell_type": "code",
      "metadata": {
        "id": "PIuQ9jeOCZPw",
        "outputId": "32d2886a-99d2-45a2-b592-30a9f992b640",
        "colab": {
          "base_uri": "https://localhost:8080/",
          "height": 119
        }
      },
      "source": [
        "roads.columns"
      ],
      "execution_count": 42,
      "outputs": [
        {
          "output_type": "execute_result",
          "data": {
            "text/plain": [
              "Index(['access', 'area', 'bicycle', 'bridge', 'cycleway', 'foot', 'footway',\n",
              "       'highway', 'int_ref', 'junction', 'lanes', 'lit', 'maxspeed',\n",
              "       'motor_vehicle', 'name', 'oneway', 'ref', 'service', 'segregated',\n",
              "       'smoothness', 'surface', 'tracktype', 'tunnel', 'width', 'id',\n",
              "       'timestamp', 'version', 'tags', 'geometry', 'osm_type'],\n",
              "      dtype='object')"
            ]
          },
          "metadata": {
            "tags": []
          },
          "execution_count": 42
        }
      ]
    },
    {
      "cell_type": "code",
      "metadata": {
        "id": "6gn7COvMLHcF",
        "outputId": "abc03eea-aa6a-4cd2-dbbe-ddbbe161dfae",
        "colab": {
          "base_uri": "https://localhost:8080/",
          "height": 85
        }
      },
      "source": [
        "roads.highway.unique()"
      ],
      "execution_count": 43,
      "outputs": [
        {
          "output_type": "execute_result",
          "data": {
            "text/plain": [
              "array(['motorway', 'tertiary', 'residential', 'unclassified', 'track',\n",
              "       'primary', 'secondary', 'cycleway', 'tertiary_link', 'footway',\n",
              "       'path', 'service', 'steps', 'primary_link', 'pedestrian',\n",
              "       'secondary_link', 'via_ferrata'], dtype=object)"
            ]
          },
          "metadata": {
            "tags": []
          },
          "execution_count": 43
        }
      ]
    },
    {
      "cell_type": "markdown",
      "metadata": {
        "id": "W9avLtkZDgeC"
      },
      "source": [
        "![](https://github.com/napo/geospatial_course_unitn/raw/master/images/tag_highways.gif)"
      ]
    },
    {
      "cell_type": "markdown",
      "metadata": {
        "id": "60u_oJ_3OE9w"
      },
      "source": [
        "## lenght of unclassified and residential togheter"
      ]
    },
    {
      "cell_type": "code",
      "metadata": {
        "id": "0Ijyl80VDjzh"
      },
      "source": [
        "roads_unclassified = roads[(roads.highway=='unclassified') | (roads.highway == 'residential')]"
      ],
      "execution_count": 44,
      "outputs": []
    },
    {
      "cell_type": "code",
      "metadata": {
        "id": "DTIJky_cFN6T",
        "outputId": "8d8747a2-cf32-47bb-b655-84d68ad23f70",
        "colab": {
          "base_uri": "https://localhost:8080/",
          "height": 221
        }
      },
      "source": [
        "roads_unclassified['name'].value_counts()"
      ],
      "execution_count": 45,
      "outputs": [
        {
          "output_type": "execute_result",
          "data": {
            "text/plain": [
              "Via Damiano Chiesa         8\n",
              "Via dei Morei              7\n",
              "Piazza della Chiesa        5\n",
              "Via alla Grotta            5\n",
              "Via Carlo Devigili         5\n",
              "                          ..\n",
              "Via Conte Carlo Martini    1\n",
              "Via Cavalleggeri Udine     1\n",
              "Via degli Alpini           1\n",
              "Via Guido Fiorini          1\n",
              "Via al Belvedere           1\n",
              "Name: name, Length: 70, dtype: int64"
            ]
          },
          "metadata": {
            "tags": []
          },
          "execution_count": 45
        }
      ]
    },
    {
      "cell_type": "code",
      "metadata": {
        "id": "Tic1SDGzGtr5"
      },
      "source": [
        "names = roads_unclassified.name.unique()"
      ],
      "execution_count": 46,
      "outputs": []
    },
    {
      "cell_type": "code",
      "metadata": {
        "id": "hoibqzhEHvE0"
      },
      "source": [
        "roads_lenght = {}\n",
        "rodas_in_meters = roads_unclassified.to_crs(epsg=32632)\n",
        "for name in names:\n",
        "  road = rodas_in_meters[rodas_in_meters.name==name]\n",
        "  road_lenght = road.length.sum()\n",
        "  roads_lenght[name] = road_lenght\n"
      ],
      "execution_count": 47,
      "outputs": []
    },
    {
      "cell_type": "code",
      "metadata": {
        "id": "cXigrKnYJOYU",
        "outputId": "e6a754c2-cba1-497f-8385-196c959b8c9a",
        "colab": {
          "base_uri": "https://localhost:8080/",
          "height": 1000
        }
      },
      "source": [
        "roads_lenght"
      ],
      "execution_count": 48,
      "outputs": [
        {
          "output_type": "execute_result",
          "data": {
            "text/plain": [
              "{'Corso Giuseppe Mazzini': 249.7579935275893,\n",
              " 'Corso del Popolo': 235.021292582283,\n",
              " None: 0.0,\n",
              " 'Piazza Cassa di Risparmio': 101.69215459438668,\n",
              " 'Piazza Cesare Battisti': 103.70389536670257,\n",
              " 'Piazza Luigi Dalpiaz': 46.95951436559089,\n",
              " 'Piazza Pio XII': 244.72762778937602,\n",
              " 'Piazza San Giovanni': 243.40400521661013,\n",
              " 'Piazza della Chiesa': 123.76304437105432,\n",
              " 'Piazza delle Erbe': 331.4274049761924,\n",
              " 'Strada delle Palù': 144.0046947780986,\n",
              " 'Via Alessandro Manzoni': 144.3589083543954,\n",
              " 'Via Arturo De Varda': 274.9059635268403,\n",
              " 'Via Bertagnolli': 339.42906670938265,\n",
              " 'Via Camorzi': 125.38773228061129,\n",
              " 'Via Canevarie': 264.79016895271434,\n",
              " 'Via Carlo Devigili': 1410.4261234546225,\n",
              " 'Via Cavalleggeri Udine': 444.7088078668066,\n",
              " 'Via Conte Carlo Martini': 286.77891249144983,\n",
              " 'Via Cortalta': 65.66625197808622,\n",
              " 'Via Cristiani': 911.3802270676734,\n",
              " 'Via Damiano Chiesa': 1306.158838946422,\n",
              " 'Via Dante': 139.4356449287226,\n",
              " 'Via Dante Alighieri': 172.1078302300374,\n",
              " 'Via Desiderio Reich': 158.04743554343378,\n",
              " 'Via Don Sturzo': 613.5101545407463,\n",
              " 'Via Emanuele De Varda': 347.793341046712,\n",
              " 'Via F. De Panizza': 344.9144110890303,\n",
              " 'Via F. de Panizza': 130.29685773557736,\n",
              " 'Via Fabio Filzi': 45.59962863184364,\n",
              " 'Via Fornai': 620.1170060138757,\n",
              " 'Via Francesco Filos': 214.15027878229265,\n",
              " 'Via Francesco Morigl': 350.10828598223657,\n",
              " 'Via Francesco de Luca': 24.658289226374322,\n",
              " 'Via Frecce Tricolori': 240.73101365125157,\n",
              " 'Via Giorgio Perlasca': 280.08567472028597,\n",
              " 'Via Giosuè Carducci': 88.35894782185844,\n",
              " 'Via Giuseppe Garibaldi': 364.64660987602775,\n",
              " 'Via Guido Fiorini': 262.2489738895931,\n",
              " 'Via Luigi Endrizzi': 86.33641082608705,\n",
              " 'Via Milano': 428.4259989016257,\n",
              " 'Via Molini': 278.74884599160333,\n",
              " 'Via Riccardo Zandonai': 468.15764400181297,\n",
              " 'Via Roma': 242.00848353588032,\n",
              " 'Via Romedio De Scari': 80.7222654891916,\n",
              " 'Via Rotaliana': 392.53309350933915,\n",
              " 'Via San Francesco': 228.8846359443125,\n",
              " 'Via San Pietro': 57.05340435247324,\n",
              " 'Via San Vigilio': 310.2588856745822,\n",
              " \"Via Sant'Anna\": 128.52909522655204,\n",
              " \"Via Sant'Antonio\": 592.9004318778705,\n",
              " 'Via Taiti': 120.27197628265175,\n",
              " 'Via Trento': 1479.2922178941203,\n",
              " 'Via Trieste': 65.14682389765427,\n",
              " 'Via ai Dossi': 155.84109987644882,\n",
              " 'Via al Belvedere': 153.67873563612065,\n",
              " 'Via al Dòs Alt': 264.037016103423,\n",
              " 'Via alla Grotta': 237.58834165388737,\n",
              " 'Via alle Salézze': 96.88330190590919,\n",
              " 'Via degli Alpini': 223.48843236826917,\n",
              " 'Via dei Molini': 424.49770629326423,\n",
              " 'Via dei Morei': 945.8319323865237,\n",
              " 'Via dei Sentieri': 271.1617869705736,\n",
              " \"Via dell'artigianato\": 67.52635232503903,\n",
              " 'Via della Pineta': 592.003644670534,\n",
              " 'Via della Rupe': 657.2358490219722,\n",
              " \"Via di Pradonec'\": 216.50817938680152,\n",
              " 'Viale Fenice': 125.4508309037719,\n",
              " 'Vicolo Pozzo': 97.97035804419028,\n",
              " 'Vicolo Scaletta': 41.34259167941211,\n",
              " 'Vicolo Travaion': 89.37189286431745}"
            ]
          },
          "metadata": {
            "tags": []
          },
          "execution_count": 48
        }
      ]
    },
    {
      "cell_type": "code",
      "metadata": {
        "id": "usY1Ulc4JuK3",
        "outputId": "586b2b5d-2cf4-4cd4-eab2-31313b875d16",
        "colab": {
          "base_uri": "https://localhost:8080/",
          "height": 35
        }
      },
      "source": [
        "max(roads_lenght, key=roads_lenght.get)"
      ],
      "execution_count": 49,
      "outputs": [
        {
          "output_type": "execute_result",
          "data": {
            "application/vnd.google.colaboratory.intrinsic+json": {
              "type": "string"
            },
            "text/plain": [
              "'Via Trento'"
            ]
          },
          "metadata": {
            "tags": []
          },
          "execution_count": 49
        }
      ]
    },
    {
      "cell_type": "code",
      "metadata": {
        "id": "yAcqdWniOT1s"
      },
      "source": [
        "longest_road = max(roads_lenght, key=roads_lenght.get)"
      ],
      "execution_count": 50,
      "outputs": []
    },
    {
      "cell_type": "code",
      "metadata": {
        "id": "3_YyicLhOdnq",
        "outputId": "ce938ec1-3813-4059-9740-4777e57edd36",
        "colab": {
          "base_uri": "https://localhost:8080/",
          "height": 34
        }
      },
      "source": [
        "print(\"the longest road (unclassified + residential) is %s and is long %s meters\" % (str(longest_road),roads_lenght[longest_road ]))"
      ],
      "execution_count": 51,
      "outputs": [
        {
          "output_type": "stream",
          "text": [
            "the longest road (unclassified + residential) is Via Trento and is long 1479.2922178941203 meters\n"
          ],
          "name": "stdout"
        }
      ]
    },
    {
      "cell_type": "markdown",
      "metadata": {
        "id": "JLUgI4NiOp_N"
      },
      "source": [
        "## the case only with unclassified"
      ]
    },
    {
      "cell_type": "code",
      "metadata": {
        "id": "D_8HjAY7OSaT"
      },
      "source": [
        "roads_unclassified = roads[(roads.highway=='unclassified')] "
      ],
      "execution_count": 52,
      "outputs": []
    },
    {
      "cell_type": "code",
      "metadata": {
        "id": "RKQMUOPkPSew"
      },
      "source": [
        "names = roads_unclassified.name.unique()"
      ],
      "execution_count": 53,
      "outputs": []
    },
    {
      "cell_type": "code",
      "metadata": {
        "id": "bIszU8_uPW0g"
      },
      "source": [
        "roads_lenght = {}\n",
        "rodas_in_meters = roads_unclassified.to_crs(epsg=32632)\n",
        "for name in names:\n",
        "  road = rodas_in_meters[rodas_in_meters.name==name]\n",
        "  road_lenght = road.length.sum()\n",
        "  roads_lenght[name] = road_lenght"
      ],
      "execution_count": 54,
      "outputs": []
    },
    {
      "cell_type": "code",
      "metadata": {
        "id": "45ynpAdZPaRY"
      },
      "source": [
        "longest_road = max(roads_lenght, key=roads_lenght.get)"
      ],
      "execution_count": 55,
      "outputs": []
    },
    {
      "cell_type": "code",
      "metadata": {
        "id": "8SEdx7UdPgz4",
        "outputId": "18daec30-2e8a-492e-fbb5-dac2bce1edc4",
        "colab": {
          "base_uri": "https://localhost:8080/",
          "height": 34
        }
      },
      "source": [
        "print(\"the longest road (unclassified + residential) is %s and is long %s meters\" % (str(longest_road),roads_lenght[longest_road ]))"
      ],
      "execution_count": 56,
      "outputs": [
        {
          "output_type": "stream",
          "text": [
            "the longest road (unclassified + residential) is Via Trento and is long 1479.2922178941203 meters\n"
          ],
          "name": "stdout"
        }
      ]
    },
    {
      "cell_type": "markdown",
      "metadata": {
        "id": "U4TFsy6TPndn"
      },
      "source": [
        "## where are these roads?\n",
        "... we can use overpass-turbo.eu with this wizard query\n",
        "\n",
        "```\n",
        "name='Via Trento' or name='Via Carlo Devigili' in Mezzolombardo\n",
        "```\n",
        "\n",
        "http://overpass-turbo.eu/s/Z7O \n",
        "\n",
        "\n",
        "![](https://github.com/napo/geospatial_course_unitn/raw/master/images/roads_lenght_mezzolombardo.gif)"
      ]
    },
    {
      "cell_type": "markdown",
      "metadata": {
        "id": "kgVac50IVZ_D"
      },
      "source": [
        "# How many drinking water are in this city?"
      ]
    },
    {
      "cell_type": "code",
      "metadata": {
        "id": "ODo4kNhBVwiu"
      },
      "source": [
        "custom_filter = {'amenity': ['drinking_water']}"
      ],
      "execution_count": 57,
      "outputs": []
    },
    {
      "cell_type": "code",
      "metadata": {
        "id": "eAuIHt8IVqUq",
        "outputId": "12856a39-b9fe-40a4-8daa-09ce59ca0f52",
        "colab": {
          "base_uri": "https://localhost:8080/",
          "height": 51
        }
      },
      "source": [
        "drinking_water = osm.get_pois(custom_filter=custom_filter)"
      ],
      "execution_count": 58,
      "outputs": [
        {
          "output_type": "stream",
          "text": [
            "/usr/local/lib/python3.6/dist-packages/pyrosm/pyrosm.py:513: UserWarning: Could not find any POIs for given area.\n",
            "  self.bounding_box)\n"
          ],
          "name": "stderr"
        }
      ]
    },
    {
      "cell_type": "code",
      "metadata": {
        "id": "VXYoah7HWF2d",
        "outputId": "b3ef4ef4-7687-44b3-bb19-0c60f964c71c",
        "colab": {
          "base_uri": "https://localhost:8080/",
          "height": 164
        }
      },
      "source": [
        "drinking_water.amenity.unique()"
      ],
      "execution_count": 60,
      "outputs": [
        {
          "output_type": "error",
          "ename": "AttributeError",
          "evalue": "ignored",
          "traceback": [
            "\u001b[0;31m---------------------------------------------------------------------------\u001b[0m",
            "\u001b[0;31mAttributeError\u001b[0m                            Traceback (most recent call last)",
            "\u001b[0;32m<ipython-input-60-649fb982ae37>\u001b[0m in \u001b[0;36m<module>\u001b[0;34m()\u001b[0m\n\u001b[0;32m----> 1\u001b[0;31m \u001b[0mdrinking_water\u001b[0m\u001b[0;34m.\u001b[0m\u001b[0mamenity\u001b[0m\u001b[0;34m.\u001b[0m\u001b[0munique\u001b[0m\u001b[0;34m(\u001b[0m\u001b[0;34m)\u001b[0m\u001b[0;34m\u001b[0m\u001b[0;34m\u001b[0m\u001b[0m\n\u001b[0m",
            "\u001b[0;31mAttributeError\u001b[0m: 'NoneType' object has no attribute 'amenity'"
          ]
        }
      ]
    },
    {
      "cell_type": "markdown",
      "metadata": {
        "id": "iGSR8ECTXj20"
      },
      "source": [
        "??? no drinking_water? <br/>\n",
        "Maybe it's an error on the source file.<br/>\n",
        "We can try we the other source"
      ]
    },
    {
      "cell_type": "code",
      "metadata": {
        "id": "g-qenm_BWWns"
      },
      "source": [
        "osm = pyrosm.OSM(path_pbf_file_big,bounding_box=bbox)"
      ],
      "execution_count": 61,
      "outputs": []
    },
    {
      "cell_type": "code",
      "metadata": {
        "id": "yr5KfUjbWlNB"
      },
      "source": [
        "drinking_water = osm.get_pois(custom_filter=custom_filter)"
      ],
      "execution_count": 62,
      "outputs": []
    },
    {
      "cell_type": "code",
      "metadata": {
        "id": "fJHR4M7kWpKI",
        "outputId": "40598fdf-d52f-44aa-c875-ce4f937fb894",
        "colab": {
          "base_uri": "https://localhost:8080/",
          "height": 34
        }
      },
      "source": [
        "drinking_water.shape"
      ],
      "execution_count": 63,
      "outputs": [
        {
          "output_type": "execute_result",
          "data": {
            "text/plain": [
              "(29, 12)"
            ]
          },
          "metadata": {
            "tags": []
          },
          "execution_count": 63
        }
      ]
    },
    {
      "cell_type": "code",
      "metadata": {
        "id": "Y6VoAsbvWxKl",
        "outputId": "6b4a9299-e585-4449-dcd9-b7c0d29c2bd5",
        "colab": {
          "base_uri": "https://localhost:8080/",
          "height": 282
        }
      },
      "source": [
        "drinking_water.plot()"
      ],
      "execution_count": 64,
      "outputs": [
        {
          "output_type": "execute_result",
          "data": {
            "text/plain": [
              "<matplotlib.axes._subplots.AxesSubplot at 0x7f6a234fa2e8>"
            ]
          },
          "metadata": {
            "tags": []
          },
          "execution_count": 64
        },
        {
          "output_type": "display_data",
          "data": {
            "image/png": "[encoded data removed]",
            "text/plain": [
              "<Figure size 432x288 with 1 Axes>"
            ]
          },
          "metadata": {
            "tags": [],
            "needs_background": "light"
          }
        }
      ]
    },
    {
      "cell_type": "markdown",
      "metadata": {
        "id": "QEw01-fZVdlq"
      },
      "source": [
        "# How many benches in this city have the backrest?"
      ]
    },
    {
      "cell_type": "code",
      "metadata": {
        "id": "NROydQTIW3i-"
      },
      "source": [
        "custom_filter = {'amenity': ['bench']}"
      ],
      "execution_count": 65,
      "outputs": []
    },
    {
      "cell_type": "code",
      "metadata": {
        "id": "a3y_dyV1XEGa"
      },
      "source": [
        "benchs = osm.get_pois(custom_filter=custom_filter)"
      ],
      "execution_count": 66,
      "outputs": []
    },
    {
      "cell_type": "code",
      "metadata": {
        "id": "b5Ob9_JaXGfy",
        "outputId": "8918c0f7-c5d3-4093-bdb2-85c43e76c300",
        "colab": {
          "base_uri": "https://localhost:8080/",
          "height": 34
        }
      },
      "source": [
        "benchs.shape"
      ],
      "execution_count": 67,
      "outputs": [
        {
          "output_type": "execute_result",
          "data": {
            "text/plain": [
              "(132, 10)"
            ]
          },
          "metadata": {
            "tags": []
          },
          "execution_count": 67
        }
      ]
    },
    {
      "cell_type": "code",
      "metadata": {
        "id": "5d_IG6YCYS9F",
        "outputId": "3ed27ffe-6ae9-48b5-f8c0-76d26c891ad0",
        "colab": {
          "base_uri": "https://localhost:8080/",
          "height": 142
        }
      },
      "source": [
        "benchs.head(3)"
      ],
      "execution_count": 78,
      "outputs": [
        {
          "output_type": "execute_result",
          "data": {
            "text/html": [
              "<div>\n",
              "<style scoped>\n",
              "    .dataframe tbody tr th:only-of-type {\n",
              "        vertical-align: middle;\n",
              "    }\n",
              "\n",
              "    .dataframe tbody tr th {\n",
              "        vertical-align: top;\n",
              "    }\n",
              "\n",
              "    .dataframe thead th {\n",
              "        text-align: right;\n",
              "    }\n",
              "</style>\n",
              "<table border=\"1\" class=\"dataframe\">\n",
              "  <thead>\n",
              "    <tr style=\"text-align: right;\">\n",
              "      <th></th>\n",
              "      <th>id</th>\n",
              "      <th>lon</th>\n",
              "      <th>tags</th>\n",
              "      <th>changeset</th>\n",
              "      <th>lat</th>\n",
              "      <th>timestamp</th>\n",
              "      <th>version</th>\n",
              "      <th>amenity</th>\n",
              "      <th>geometry</th>\n",
              "      <th>osm_type</th>\n",
              "    </tr>\n",
              "  </thead>\n",
              "  <tbody>\n",
              "    <tr>\n",
              "      <th>0</th>\n",
              "      <td>867538748</td>\n",
              "      <td>11.118477</td>\n",
              "      <td>{\"backrest\":\"yes\"}</td>\n",
              "      <td>0</td>\n",
              "      <td>46.214172</td>\n",
              "      <td>-15</td>\n",
              "      <td>0</td>\n",
              "      <td>bench</td>\n",
              "      <td>POINT (11.11848 46.21417)</td>\n",
              "      <td>node</td>\n",
              "    </tr>\n",
              "    <tr>\n",
              "      <th>1</th>\n",
              "      <td>869332616</td>\n",
              "      <td>11.118519</td>\n",
              "      <td>{\"backrest\":\"yes\"}</td>\n",
              "      <td>0</td>\n",
              "      <td>46.214302</td>\n",
              "      <td>30</td>\n",
              "      <td>0</td>\n",
              "      <td>bench</td>\n",
              "      <td>POINT (11.11852 46.21430)</td>\n",
              "      <td>node</td>\n",
              "    </tr>\n",
              "    <tr>\n",
              "      <th>2</th>\n",
              "      <td>869333157</td>\n",
              "      <td>11.118433</td>\n",
              "      <td>{\"backrest\":\"yes\"}</td>\n",
              "      <td>-99</td>\n",
              "      <td>46.214287</td>\n",
              "      <td>25</td>\n",
              "      <td>-99</td>\n",
              "      <td>bench</td>\n",
              "      <td>POINT (11.11843 46.21429)</td>\n",
              "      <td>node</td>\n",
              "    </tr>\n",
              "  </tbody>\n",
              "</table>\n",
              "</div>"
            ],
            "text/plain": [
              "          id        lon  ...                   geometry  osm_type\n",
              "0  867538748  11.118477  ...  POINT (11.11848 46.21417)      node\n",
              "1  869332616  11.118519  ...  POINT (11.11852 46.21430)      node\n",
              "2  869333157  11.118433  ...  POINT (11.11843 46.21429)      node\n",
              "\n",
              "[3 rows x 10 columns]"
            ]
          },
          "metadata": {
            "tags": []
          },
          "execution_count": 78
        }
      ]
    },
    {
      "cell_type": "code",
      "metadata": {
        "id": "ut9P-_FeXLRM",
        "outputId": "9b816aae-255f-4676-f14f-ee78654bacc9",
        "colab": {
          "base_uri": "https://localhost:8080/",
          "height": 34
        }
      },
      "source": [
        "benchs[benchs.tags.isin(['{\"backrest\":\"yes\"}'])].shape"
      ],
      "execution_count": 77,
      "outputs": [
        {
          "output_type": "execute_result",
          "data": {
            "text/plain": [
              "(0, 10)"
            ]
          },
          "metadata": {
            "tags": []
          },
          "execution_count": 77
        }
      ]
    }
  ]
}