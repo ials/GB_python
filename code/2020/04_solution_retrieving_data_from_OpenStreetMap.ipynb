{
  "nbformat": 4,
  "nbformat_minor": 0,
  "metadata": {
    "colab": {
      "name": "04 - solutions - retrieving data from OpenStreetMap.ipynb",
      "provenance": [],
      "collapsed_sections": []
    },
    "kernelspec": {
      "name": "python3",
      "display_name": "Python 3"
    }
  },
  "cells": [
    {
      "cell_type": "markdown",
      "metadata": {
        "id": "3t2-UByg-oiF"
      },
      "source": [
        "# Setup"
      ]
    },
    {
      "cell_type": "code",
      "metadata": {
        "id": "uVCGKswPy1aY",
        "outputId": "265cbec2-1441-4b58-de9e-8e20ddc81e08",
        "colab": {
          "base_uri": "https://localhost:8080/",
          "height": 121
        }
      },
      "source": [
        "!pip install pygeos"
      ],
      "execution_count": 1,
      "outputs": [
        {
          "output_type": "stream",
          "text": [
            "Collecting pygeos\n",
            "\u001b[?25l  Downloading https://files.pythonhosted.org/packages/66/06/2cfcf6e90814da1fdb4585534f03a36531f00cbad65f11b417337d69fe60/pygeos-0.8-cp36-cp36m-manylinux1_x86_64.whl (1.6MB)\n",
            "\u001b[K     |████████████████████████████████| 1.6MB 4.8MB/s \n",
            "\u001b[?25hRequirement already satisfied: numpy>=1.10 in /usr/local/lib/python3.6/dist-packages (from pygeos) (1.18.5)\n",
            "Installing collected packages: pygeos\n",
            "Successfully installed pygeos-0.8\n"
          ],
          "name": "stdout"
        }
      ]
    },
    {
      "cell_type": "code",
      "metadata": {
        "id": "Kg8Sf2oK-6GO",
        "outputId": "aeea8820-8c72-476a-f5ed-78bf7ffcd20b",
        "colab": {
          "base_uri": "https://localhost:8080/",
          "height": 471
        }
      },
      "source": [
        "!pip install geopandas"
      ],
      "execution_count": 2,
      "outputs": [
        {
          "output_type": "stream",
          "text": [
            "Collecting geopandas\n",
            "\u001b[?25l  Downloading https://files.pythonhosted.org/packages/f7/a4/e66aafbefcbb717813bf3a355c8c4fc3ed04ea1dd7feb2920f2f4f868921/geopandas-0.8.1-py2.py3-none-any.whl (962kB)\n",
            "\u001b[K     |████████████████████████████████| 972kB 8.6MB/s \n",
            "\u001b[?25hRequirement already satisfied: pandas>=0.23.0 in /usr/local/lib/python3.6/dist-packages (from geopandas) (1.1.2)\n",
            "Requirement already satisfied: shapely in /usr/local/lib/python3.6/dist-packages (from geopandas) (1.7.1)\n",
            "Collecting fiona\n",
            "\u001b[?25l  Downloading https://files.pythonhosted.org/packages/36/8b/e8b2c11bed5373c8e98edb85ce891b09aa1f4210fd451d0fb3696b7695a2/Fiona-1.8.17-cp36-cp36m-manylinux1_x86_64.whl (14.8MB)\n",
            "\u001b[K     |████████████████████████████████| 14.8MB 252kB/s \n",
            "\u001b[?25hCollecting pyproj>=2.2.0\n",
            "\u001b[?25l  Downloading https://files.pythonhosted.org/packages/e5/c3/071e080230ac4b6c64f1a2e2f9161c9737a2bc7b683d2c90b024825000c0/pyproj-2.6.1.post1-cp36-cp36m-manylinux2010_x86_64.whl (10.9MB)\n",
            "\u001b[K     |████████████████████████████████| 10.9MB 51.2MB/s \n",
            "\u001b[?25hRequirement already satisfied: numpy>=1.15.4 in /usr/local/lib/python3.6/dist-packages (from pandas>=0.23.0->geopandas) (1.18.5)\n",
            "Requirement already satisfied: pytz>=2017.2 in /usr/local/lib/python3.6/dist-packages (from pandas>=0.23.0->geopandas) (2018.9)\n",
            "Requirement already satisfied: python-dateutil>=2.7.3 in /usr/local/lib/python3.6/dist-packages (from pandas>=0.23.0->geopandas) (2.8.1)\n",
            "Collecting cligj>=0.5\n",
            "  Downloading https://files.pythonhosted.org/packages/ba/06/e3440b1f2dc802d35f329f299ba96153e9fcbfdef75e17f4b61f79430c6a/cligj-0.7.0-py3-none-any.whl\n",
            "Collecting munch\n",
            "  Downloading https://files.pythonhosted.org/packages/cc/ab/85d8da5c9a45e072301beb37ad7f833cd344e04c817d97e0cc75681d248f/munch-2.5.0-py2.py3-none-any.whl\n",
            "Requirement already satisfied: attrs>=17 in /usr/local/lib/python3.6/dist-packages (from fiona->geopandas) (20.2.0)\n",
            "Requirement already satisfied: six>=1.7 in /usr/local/lib/python3.6/dist-packages (from fiona->geopandas) (1.15.0)\n",
            "Requirement already satisfied: click<8,>=4.0 in /usr/local/lib/python3.6/dist-packages (from fiona->geopandas) (7.1.2)\n",
            "Collecting click-plugins>=1.0\n",
            "  Downloading https://files.pythonhosted.org/packages/e9/da/824b92d9942f4e472702488857914bdd50f73021efea15b4cad9aca8ecef/click_plugins-1.1.1-py2.py3-none-any.whl\n",
            "Installing collected packages: cligj, munch, click-plugins, fiona, pyproj, geopandas\n",
            "Successfully installed click-plugins-1.1.1 cligj-0.7.0 fiona-1.8.17 geopandas-0.8.1 munch-2.5.0 pyproj-2.6.1.post1\n"
          ],
          "name": "stdout"
        }
      ]
    },
    {
      "cell_type": "code",
      "metadata": {
        "id": "X19Rxubp-1_g",
        "outputId": "4af96921-166b-40ff-c346-70e41a410e50",
        "colab": {
          "base_uri": "https://localhost:8080/",
          "height": 680
        }
      },
      "source": [
        "!pip install pyrosm"
      ],
      "execution_count": 3,
      "outputs": [
        {
          "output_type": "stream",
          "text": [
            "Collecting pyrosm\n",
            "\u001b[?25l  Downloading https://files.pythonhosted.org/packages/7c/ba/10de4eac775235554f52b9d02f21bcddd32deaeec027b1029553dc6befdc/pyrosm-0.5.3.tar.gz (2.0MB)\n",
            "\u001b[K     |████████████████████████████████| 2.0MB 8.8MB/s \n",
            "\u001b[?25h  Installing build dependencies ... \u001b[?25l\u001b[?25hdone\n",
            "  Getting requirements to build wheel ... \u001b[?25l\u001b[?25hdone\n",
            "  Installing backend dependencies ... \u001b[?25l\u001b[?25hdone\n",
            "    Preparing wheel metadata ... \u001b[?25l\u001b[?25hdone\n",
            "Requirement already satisfied: pygeos in /usr/local/lib/python3.6/dist-packages (from pyrosm) (0.8)\n",
            "Collecting python-rapidjson\n",
            "  Using cached https://files.pythonhosted.org/packages/9e/cb/085b893850110d4e20ef3624808ccaec0515c07da0400e58bdd3ca73c5e3/python_rapidjson-0.9.1-cp36-cp36m-manylinux2010_x86_64.whl\n",
            "Processing /root/.cache/pip/wheels/a2/2b/e3/1800624884ba9461b903a05a809ff1c10317603a6ee8e74155/pyrobuf-0.9.3-cp36-cp36m-linux_x86_64.whl\n",
            "Requirement already satisfied: geopandas in /usr/local/lib/python3.6/dist-packages (from pyrosm) (0.8.1)\n",
            "Requirement already satisfied: setuptools>=18.0 in /usr/local/lib/python3.6/dist-packages (from pyrosm) (50.3.0)\n",
            "Processing /root/.cache/pip/wheels/12/d5/09/836011d00b6e694dfade8025669266260834574f47cfe18f62/cykhash-1.0.2-cp36-cp36m-linux_x86_64.whl\n",
            "Requirement already satisfied: numpy>=1.10 in /usr/local/lib/python3.6/dist-packages (from pygeos->pyrosm) (1.18.5)\n",
            "Requirement already satisfied: jinja2>=2.8 in /usr/local/lib/python3.6/dist-packages (from pyrobuf->pyrosm) (2.11.2)\n",
            "Requirement already satisfied: cython>=0.23 in /usr/local/lib/python3.6/dist-packages (from pyrobuf->pyrosm) (0.29.21)\n",
            "Requirement already satisfied: pandas>=0.23.0 in /usr/local/lib/python3.6/dist-packages (from geopandas->pyrosm) (1.1.2)\n",
            "Requirement already satisfied: shapely in /usr/local/lib/python3.6/dist-packages (from geopandas->pyrosm) (1.7.1)\n",
            "Requirement already satisfied: pyproj>=2.2.0 in /usr/local/lib/python3.6/dist-packages (from geopandas->pyrosm) (2.6.1.post1)\n",
            "Requirement already satisfied: fiona in /usr/local/lib/python3.6/dist-packages (from geopandas->pyrosm) (1.8.17)\n",
            "Requirement already satisfied: MarkupSafe>=0.23 in /usr/local/lib/python3.6/dist-packages (from jinja2>=2.8->pyrobuf->pyrosm) (1.1.1)\n",
            "Requirement already satisfied: python-dateutil>=2.7.3 in /usr/local/lib/python3.6/dist-packages (from pandas>=0.23.0->geopandas->pyrosm) (2.8.1)\n",
            "Requirement already satisfied: pytz>=2017.2 in /usr/local/lib/python3.6/dist-packages (from pandas>=0.23.0->geopandas->pyrosm) (2018.9)\n",
            "Requirement already satisfied: attrs>=17 in /usr/local/lib/python3.6/dist-packages (from fiona->geopandas->pyrosm) (20.2.0)\n",
            "Requirement already satisfied: six>=1.7 in /usr/local/lib/python3.6/dist-packages (from fiona->geopandas->pyrosm) (1.15.0)\n",
            "Requirement already satisfied: click<8,>=4.0 in /usr/local/lib/python3.6/dist-packages (from fiona->geopandas->pyrosm) (7.1.2)\n",
            "Requirement already satisfied: munch in /usr/local/lib/python3.6/dist-packages (from fiona->geopandas->pyrosm) (2.5.0)\n",
            "Requirement already satisfied: click-plugins>=1.0 in /usr/local/lib/python3.6/dist-packages (from fiona->geopandas->pyrosm) (1.1.1)\n",
            "Requirement already satisfied: cligj>=0.5 in /usr/local/lib/python3.6/dist-packages (from fiona->geopandas->pyrosm) (0.7.0)\n",
            "Building wheels for collected packages: pyrosm\n",
            "  Building wheel for pyrosm (PEP 517) ... \u001b[?25l\u001b[?25hdone\n",
            "  Created wheel for pyrosm: filename=pyrosm-0.5.3-cp36-cp36m-linux_x86_64.whl size=5013176 sha256=944815408a9b0c9de6fe8be97f9f1aaca22214e6b3a102e8e1ea657e221f9a36\n",
            "  Stored in directory: /root/.cache/pip/wheels/a8/ca/18/ff3b302d589113fac92b89d73c135eeb5d0c62c06ae32441e8\n",
            "Successfully built pyrosm\n",
            "Installing collected packages: python-rapidjson, pyrobuf, cykhash, pyrosm\n",
            "Successfully installed cykhash-1.0.2 pyrobuf-0.9.3 pyrosm-0.5.3 python-rapidjson-0.9.1\n"
          ],
          "name": "stdout"
        }
      ]
    },
    {
      "cell_type": "markdown",
      "metadata": {
        "id": "vsI-mCoR-YPv"
      },
      "source": [
        "# Exercise\n",
        "- download from OpenStreetMap all supermarkets inside the bounding box of the city in this point<br/>\n",
        "   latitude: 46.21209<br/>\n",
        "   longitude: 11.09351\n",
        "- identify the longest road of the city (state roads, walking routes, motorways are excluded). Please use \"unclassified\"\n",
        "- How many drinking water are in this city?\n",
        "- How many benches in this city have the backrest?\n"
      ]
    },
    {
      "cell_type": "markdown",
      "metadata": {
        "id": "gRbf6i9E_M8U"
      },
      "source": [
        "## download from OpenStreetMap all supermarkets inside the bounding box of the city with these coordinates\n"
      ]
    },
    {
      "cell_type": "code",
      "metadata": {
        "id": "4aed7RUAEFWD",
        "outputId": "4b938464-89c1-4695-9db9-20a6b64e6c4d",
        "colab": {
          "base_uri": "https://localhost:8080/",
          "height": 72
        }
      },
      "source": [
        "import geopandas as gpd"
      ],
      "execution_count": 7,
      "outputs": [
        {
          "output_type": "stream",
          "text": [
            "/usr/local/lib/python3.6/dist-packages/geopandas/_compat.py:88: UserWarning: The Shapely GEOS version (3.8.0-CAPI-1.13.1 ) is incompatible with the GEOS version PyGEOS was compiled with (3.8.1-CAPI-1.13.3). Conversions between both will be slow.\n",
            "  shapely_geos_version, geos_capi_version_string\n"
          ],
          "name": "stderr"
        }
      ]
    },
    {
      "cell_type": "markdown",
      "metadata": {
        "id": "gFD_emOeHbhX"
      },
      "source": [
        "## find the city"
      ]
    },
    {
      "cell_type": "markdown",
      "metadata": {
        "id": "QTJPrf7LFIkK"
      },
      "source": [
        "### method 1 - reverse geocoding"
      ]
    },
    {
      "cell_type": "code",
      "metadata": {
        "id": "nSxcieQUFtJB"
      },
      "source": [
        "from geopy.geocoders import ArcGIS"
      ],
      "execution_count": 4,
      "outputs": []
    },
    {
      "cell_type": "code",
      "metadata": {
        "id": "7JbQf0_LFVbF"
      },
      "source": [
        "latlon = \"46.21209\" + \",\" + \"11.09351\""
      ],
      "execution_count": 5,
      "outputs": []
    },
    {
      "cell_type": "code",
      "metadata": {
        "id": "LCtE4ZMMFgzJ"
      },
      "source": [
        "geolocator = ArcGIS(user_agent=\"Mozilla/5.0 (Linux; Android 10) AppleWebKit/537.36 (KHTML, like Gecko) Chrome/86.0.4240.75 Mobile Safari/537.36\")"
      ],
      "execution_count": 6,
      "outputs": []
    },
    {
      "cell_type": "code",
      "metadata": {
        "id": "8j6Ddx1xFmw9"
      },
      "source": [
        "location = geolocator.reverse(latlon)"
      ],
      "execution_count": 8,
      "outputs": []
    },
    {
      "cell_type": "code",
      "metadata": {
        "id": "czfQt5e3bgRF",
        "outputId": "ba2b6efb-aeeb-4e7a-b5c8-1bd94bca971a",
        "colab": {
          "base_uri": "https://localhost:8080/",
          "height": 364
        }
      },
      "source": [
        "location.raw"
      ],
      "execution_count": 9,
      "outputs": [
        {
          "output_type": "execute_result",
          "data": {
            "text/plain": [
              "{'AddNum': '12A',\n",
              " 'Addr_type': 'PointAddress',\n",
              " 'Address': 'Via Francesco Filos 12A',\n",
              " 'Block': '',\n",
              " 'City': 'Mezzolombardo',\n",
              " 'CountryCode': 'ITA',\n",
              " 'District': 'Mezzolombardo',\n",
              " 'LongLabel': 'Via Francesco Filos 12A, 38017, Mezzolombardo, Trento, ITA',\n",
              " 'Match_addr': 'Via Francesco Filos 12A, 38017, Mezzolombardo, Trento',\n",
              " 'MetroArea': '',\n",
              " 'Neighborhood': '',\n",
              " 'PlaceName': '',\n",
              " 'Postal': '38017',\n",
              " 'PostalExt': '',\n",
              " 'Region': 'Trentino-Alto Adige',\n",
              " 'Sector': '',\n",
              " 'ShortLabel': 'Via Francesco Filos 12A',\n",
              " 'Subregion': 'Trento',\n",
              " 'Territory': '',\n",
              " 'Type': ''}"
            ]
          },
          "metadata": {
            "tags": []
          },
          "execution_count": 9
        }
      ]
    },
    {
      "cell_type": "code",
      "metadata": {
        "id": "ZMySs5IAFwm8"
      },
      "source": [
        "city = location.raw['City']"
      ],
      "execution_count": 10,
      "outputs": []
    },
    {
      "cell_type": "code",
      "metadata": {
        "id": "7eidOG-nGGSt",
        "outputId": "046028bc-c440-4948-f344-b52c319a72c4",
        "colab": {
          "base_uri": "https://localhost:8080/",
          "height": 36
        }
      },
      "source": [
        "city"
      ],
      "execution_count": 11,
      "outputs": [
        {
          "output_type": "execute_result",
          "data": {
            "application/vnd.google.colaboratory.intrinsic+json": {
              "type": "string"
            },
            "text/plain": [
              "'Mezzolombardo'"
            ]
          },
          "metadata": {
            "tags": []
          },
          "execution_count": 11
        }
      ]
    },
    {
      "cell_type": "markdown",
      "metadata": {
        "id": "CJ5hNwYB_RBr"
      },
      "source": [
        "### method 2 - spatial relation"
      ]
    },
    {
      "cell_type": "code",
      "metadata": {
        "id": "CixnSnRiEU-X"
      },
      "source": [
        "from shapely.geometry import Point"
      ],
      "execution_count": 12,
      "outputs": []
    },
    {
      "cell_type": "code",
      "metadata": {
        "id": "-WV9aGZFE451"
      },
      "source": [
        "point = Point(11.09351,46.21209)"
      ],
      "execution_count": 13,
      "outputs": []
    },
    {
      "cell_type": "code",
      "metadata": {
        "id": "iyMAwE2kDzJl",
        "outputId": "d0367883-00cc-49b0-cec8-be94a33749c6",
        "colab": {
          "base_uri": "https://localhost:8080/",
          "height": 295
        }
      },
      "source": [
        "!wget https://github.com/napo/geospatial_course_unitn/raw/master/data/administrative_units_italy_2020/istat_administrative_units_2020.gpkg"
      ],
      "execution_count": 14,
      "outputs": [
        {
          "output_type": "stream",
          "text": [
            "--2020-10-23 12:58:59--  https://github.com/napo/geospatial_course_unitn/raw/master/data/administrative_units_italy_2020/istat_administrative_units_2020.gpkg\n",
            "Resolving github.com (github.com)... 140.82.118.3\n",
            "Connecting to github.com (github.com)|140.82.118.3|:443... connected.\n",
            "HTTP request sent, awaiting response... 302 Found\n",
            "Location: https://raw.githubusercontent.com/napo/geospatial_course_unitn/master/data/administrative_units_italy_2020/istat_administrative_units_2020.gpkg [following]\n",
            "--2020-10-23 12:58:59--  https://raw.githubusercontent.com/napo/geospatial_course_unitn/master/data/administrative_units_italy_2020/istat_administrative_units_2020.gpkg\n",
            "Resolving raw.githubusercontent.com (raw.githubusercontent.com)... 151.101.0.133, 151.101.64.133, 151.101.128.133, ...\n",
            "Connecting to raw.githubusercontent.com (raw.githubusercontent.com)|151.101.0.133|:443... connected.\n",
            "HTTP request sent, awaiting response... 200 OK\n",
            "Length: 23396352 (22M) [application/octet-stream]\n",
            "Saving to: ‘istat_administrative_units_2020.gpkg’\n",
            "\n",
            "istat_administrativ 100%[===================>]  22.31M  96.4MB/s    in 0.2s    \n",
            "\n",
            "2020-10-23 12:59:01 (96.4 MB/s) - ‘istat_administrative_units_2020.gpkg’ saved [23396352/23396352]\n",
            "\n"
          ],
          "name": "stdout"
        }
      ]
    },
    {
      "cell_type": "code",
      "metadata": {
        "id": "JyZ_vF-WEA1o"
      },
      "source": [
        "municipalities = gpd.read_file(\"istat_administrative_units_2020.gpkg\",layer=\"municipalities\")"
      ],
      "execution_count": 16,
      "outputs": []
    },
    {
      "cell_type": "code",
      "metadata": {
        "id": "zWsarpccEYLI"
      },
      "source": [
        "muncipality = municipalities[municipalities.to_crs(epsg=4326).geometry.contains(point)]"
      ],
      "execution_count": 17,
      "outputs": []
    },
    {
      "cell_type": "code",
      "metadata": {
        "id": "gGWR3m15G54z",
        "outputId": "6bbf099f-1717-4ec2-c90b-c4bcdc583101",
        "colab": {
          "base_uri": "https://localhost:8080/",
          "height": 81
        }
      },
      "source": [
        "muncipality"
      ],
      "execution_count": 18,
      "outputs": [
        {
          "output_type": "execute_result",
          "data": {
            "text/html": [
              "<div>\n",
              "<style scoped>\n",
              "    .dataframe tbody tr th:only-of-type {\n",
              "        vertical-align: middle;\n",
              "    }\n",
              "\n",
              "    .dataframe tbody tr th {\n",
              "        vertical-align: top;\n",
              "    }\n",
              "\n",
              "    .dataframe thead th {\n",
              "        text-align: right;\n",
              "    }\n",
              "</style>\n",
              "<table border=\"1\" class=\"dataframe\">\n",
              "  <thead>\n",
              "    <tr style=\"text-align: right;\">\n",
              "      <th></th>\n",
              "      <th>COD_RIP</th>\n",
              "      <th>COD_REG</th>\n",
              "      <th>COD_PROV</th>\n",
              "      <th>COD_CM</th>\n",
              "      <th>COD_UTS</th>\n",
              "      <th>PRO_COM</th>\n",
              "      <th>PRO_COM_T</th>\n",
              "      <th>COMUNE</th>\n",
              "      <th>COMUNE_A</th>\n",
              "      <th>CC_UTS</th>\n",
              "      <th>geometry</th>\n",
              "    </tr>\n",
              "  </thead>\n",
              "  <tbody>\n",
              "    <tr>\n",
              "      <th>3417</th>\n",
              "      <td>2</td>\n",
              "      <td>4</td>\n",
              "      <td>22</td>\n",
              "      <td>0</td>\n",
              "      <td>22</td>\n",
              "      <td>22117</td>\n",
              "      <td>022117</td>\n",
              "      <td>Mezzolombardo</td>\n",
              "      <td>None</td>\n",
              "      <td>0</td>\n",
              "      <td>MULTIPOLYGON (((659991.073 5121616.939, 660921...</td>\n",
              "    </tr>\n",
              "  </tbody>\n",
              "</table>\n",
              "</div>"
            ],
            "text/plain": [
              "      COD_RIP  ...                                           geometry\n",
              "3417        2  ...  MULTIPOLYGON (((659991.073 5121616.939, 660921...\n",
              "\n",
              "[1 rows x 11 columns]"
            ]
          },
          "metadata": {
            "tags": []
          },
          "execution_count": 18
        }
      ]
    },
    {
      "cell_type": "code",
      "metadata": {
        "id": "ZQ2OLXmtHAJN"
      },
      "source": [
        "city = muncipality.COMUNE.values[0]"
      ],
      "execution_count": 19,
      "outputs": []
    },
    {
      "cell_type": "code",
      "metadata": {
        "id": "ukwOsdblHPZw",
        "outputId": "7b620eaf-3534-476b-9c1b-317a2495729f",
        "colab": {
          "base_uri": "https://localhost:8080/",
          "height": 36
        }
      },
      "source": [
        "city"
      ],
      "execution_count": 20,
      "outputs": [
        {
          "output_type": "execute_result",
          "data": {
            "application/vnd.google.colaboratory.intrinsic+json": {
              "type": "string"
            },
            "text/plain": [
              "'Mezzolombardo'"
            ]
          },
          "metadata": {
            "tags": []
          },
          "execution_count": 20
        }
      ]
    },
    {
      "cell_type": "markdown",
      "metadata": {
        "id": "UmL4-rgmIN3I"
      },
      "source": [
        "## download from OpenStreetMap"
      ]
    },
    {
      "cell_type": "markdown",
      "metadata": {
        "id": "4e-359dKHji7"
      },
      "source": [
        "## find the boundig box of Mezzolombardo"
      ]
    },
    {
      "cell_type": "code",
      "metadata": {
        "id": "rCKSywvs5Svh"
      },
      "source": [
        "from shapely.geometry import Polygon"
      ],
      "execution_count": 21,
      "outputs": []
    },
    {
      "cell_type": "code",
      "metadata": {
        "id": "At-YukQZHn_j"
      },
      "source": [
        "municipality = municipalities[municipalities.COMUNE==city]"
      ],
      "execution_count": 22,
      "outputs": []
    },
    {
      "cell_type": "code",
      "metadata": {
        "id": "7x8Zw7u63sbd",
        "outputId": "b713f887-fd30-4c8b-86aa-bfe3f72b26ac",
        "colab": {
          "base_uri": "https://localhost:8080/",
          "height": 81
        }
      },
      "source": [
        "municipality.to_crs(epsg=4326).geometry.bounds"
      ],
      "execution_count": 23,
      "outputs": [
        {
          "output_type": "execute_result",
          "data": {
            "text/html": [
              "<div>\n",
              "<style scoped>\n",
              "    .dataframe tbody tr th:only-of-type {\n",
              "        vertical-align: middle;\n",
              "    }\n",
              "\n",
              "    .dataframe tbody tr th {\n",
              "        vertical-align: top;\n",
              "    }\n",
              "\n",
              "    .dataframe thead th {\n",
              "        text-align: right;\n",
              "    }\n",
              "</style>\n",
              "<table border=\"1\" class=\"dataframe\">\n",
              "  <thead>\n",
              "    <tr style=\"text-align: right;\">\n",
              "      <th></th>\n",
              "      <th>minx</th>\n",
              "      <th>miny</th>\n",
              "      <th>maxx</th>\n",
              "      <th>maxy</th>\n",
              "    </tr>\n",
              "  </thead>\n",
              "  <tbody>\n",
              "    <tr>\n",
              "      <th>3417</th>\n",
              "      <td>11.062845</td>\n",
              "      <td>46.177712</td>\n",
              "      <td>11.118754</td>\n",
              "      <td>46.231135</td>\n",
              "    </tr>\n",
              "  </tbody>\n",
              "</table>\n",
              "</div>"
            ],
            "text/plain": [
              "           minx       miny       maxx       maxy\n",
              "3417  11.062845  46.177712  11.118754  46.231135"
            ]
          },
          "metadata": {
            "tags": []
          },
          "execution_count": 23
        }
      ]
    },
    {
      "cell_type": "code",
      "metadata": {
        "id": "guKtC4PdH6Fv"
      },
      "source": [
        "bbox = list(municipality.to_crs(epsg=4326).geometry.bounds.values[0])"
      ],
      "execution_count": 24,
      "outputs": []
    },
    {
      "cell_type": "markdown",
      "metadata": {
        "id": "UZXAdiCo4e7V"
      },
      "source": [
        "![](https://raw.githubusercontent.com/napo/geospatial_course_unitn/master/images/boudingbox.png)"
      ]
    },
    {
      "cell_type": "code",
      "metadata": {
        "id": "7CIoB9oE4qKv"
      },
      "source": [
        "minx = bbox[0]\n",
        "miny = bbox[1]\n",
        "maxx = bbox[2]\n",
        "maxy = bbox[3]"
      ],
      "execution_count": 26,
      "outputs": []
    },
    {
      "cell_type": "code",
      "metadata": {
        "id": "PVXZBtgTR1tc"
      },
      "source": [
        "polygon = Polygon([[minx, miny], [maxx, miny], [maxx, maxy], [minx, maxy]])"
      ],
      "execution_count": 29,
      "outputs": []
    },
    {
      "cell_type": "code",
      "metadata": {
        "id": "dNPvEr775ayT",
        "outputId": "68e595bf-5059-47fd-dc00-2d6d6f9adda4",
        "colab": {
          "base_uri": "https://localhost:8080/",
          "height": 121
        }
      },
      "source": [
        "polygon"
      ],
      "execution_count": 30,
      "outputs": [
        {
          "output_type": "execute_result",
          "data": {
            "text/plain": [
              "<shapely.geometry.polygon.Polygon at 0x7fb90051d3c8>"
            ],
            "image/svg+xml": "<svg xmlns=\"http://www.w3.org/2000/svg\" xmlns:xlink=\"http://www.w3.org/1999/xlink\" width=\"100.0\" height=\"100.0\" viewBox=\"11.060608694660377 46.175476022935776 0.06038141300009947 0.05789554269223629\" preserveAspectRatio=\"xMinYMin meet\"><g transform=\"matrix(1,0,0,-1,0,92.40884758856379)\"><path fill-rule=\"evenodd\" fill=\"#66cc99\" stroke=\"#555555\" stroke-width=\"0.0012076282600019894\" opacity=\"0.6\" d=\"M 11.062845043290011,46.177712371565406 L 11.118753759030843,46.177712371565406 L 11.118753759030843,46.23113521699838 L 11.062845043290011,46.23113521699838 L 11.062845043290011,46.177712371565406 z\" /></g></svg>"
          },
          "metadata": {
            "tags": []
          },
          "execution_count": 30
        }
      ]
    },
    {
      "cell_type": "markdown",
      "metadata": {
        "id": "SPC5l5pTIX1X"
      },
      "source": [
        "## method 1 - download from export.hotosm.org\n",
        "\n",
        "![](https://raw.githubusercontent.com/napo/geospatial_course_unitn/master/images/export_hostosm_mezzolombardo.png)"
      ]
    },
    {
      "cell_type": "code",
      "metadata": {
        "id": "CvpU_s3VQel_"
      },
      "source": [
        "data = {'description': ['bbox around Mezzolombardo'], 'geometry': [polygon]}"
      ],
      "execution_count": 31,
      "outputs": []
    },
    {
      "cell_type": "code",
      "metadata": {
        "id": "avt_8mGvQOWV"
      },
      "source": [
        "bbox_mezzolombardo = gpd.GeoDataFrame(data,crs=\"epsg:4326\")"
      ],
      "execution_count": 32,
      "outputs": []
    },
    {
      "cell_type": "code",
      "metadata": {
        "id": "4gosTydxdjj0",
        "outputId": "fc9bf5d5-f696-48ac-d96d-8969c18610e3",
        "colab": {
          "base_uri": "https://localhost:8080/",
          "height": 81
        }
      },
      "source": [
        "bbox_mezzolombardo"
      ],
      "execution_count": 33,
      "outputs": [
        {
          "output_type": "execute_result",
          "data": {
            "text/html": [
              "<div>\n",
              "<style scoped>\n",
              "    .dataframe tbody tr th:only-of-type {\n",
              "        vertical-align: middle;\n",
              "    }\n",
              "\n",
              "    .dataframe tbody tr th {\n",
              "        vertical-align: top;\n",
              "    }\n",
              "\n",
              "    .dataframe thead th {\n",
              "        text-align: right;\n",
              "    }\n",
              "</style>\n",
              "<table border=\"1\" class=\"dataframe\">\n",
              "  <thead>\n",
              "    <tr style=\"text-align: right;\">\n",
              "      <th></th>\n",
              "      <th>description</th>\n",
              "      <th>geometry</th>\n",
              "    </tr>\n",
              "  </thead>\n",
              "  <tbody>\n",
              "    <tr>\n",
              "      <th>0</th>\n",
              "      <td>bbox around Mezzolombardo</td>\n",
              "      <td>POLYGON ((11.06285 46.17771, 11.11875 46.17771...</td>\n",
              "    </tr>\n",
              "  </tbody>\n",
              "</table>\n",
              "</div>"
            ],
            "text/plain": [
              "                 description                                           geometry\n",
              "0  bbox around Mezzolombardo  POLYGON ((11.06285 46.17771, 11.11875 46.17771..."
            ]
          },
          "metadata": {
            "tags": []
          },
          "execution_count": 33
        }
      ]
    },
    {
      "cell_type": "code",
      "metadata": {
        "id": "EI_PPfIsdl45",
        "outputId": "4ecbaedb-d9dd-42f4-d32c-1ff6bf2191be",
        "colab": {
          "base_uri": "https://localhost:8080/",
          "height": 121
        }
      },
      "source": [
        "bbox_mezzolombardo.geometry[0]"
      ],
      "execution_count": 34,
      "outputs": [
        {
          "output_type": "execute_result",
          "data": {
            "text/plain": [
              "<shapely.geometry.polygon.Polygon at 0x7fb90051d518>"
            ],
            "image/svg+xml": "<svg xmlns=\"http://www.w3.org/2000/svg\" xmlns:xlink=\"http://www.w3.org/1999/xlink\" width=\"100.0\" height=\"100.0\" viewBox=\"11.060608694660377 46.175476022935776 0.06038141300009947 0.05789554269223629\" preserveAspectRatio=\"xMinYMin meet\"><g transform=\"matrix(1,0,0,-1,0,92.40884758856379)\"><path fill-rule=\"evenodd\" fill=\"#66cc99\" stroke=\"#555555\" stroke-width=\"0.0012076282600019894\" opacity=\"0.6\" d=\"M 11.062845043290011,46.177712371565406 L 11.118753759030843,46.177712371565406 L 11.118753759030843,46.23113521699838 L 11.062845043290011,46.23113521699838 L 11.062845043290011,46.177712371565406 z\" /></g></svg>"
          },
          "metadata": {
            "tags": []
          },
          "execution_count": 34
        }
      ]
    },
    {
      "cell_type": "code",
      "metadata": {
        "id": "LwvCwLUn6bRy"
      },
      "source": [
        "bbox_mezzolombardo.to_file(\"bbox_mezzolombardo.geojson\",driver=\"GeoJSON\")"
      ],
      "execution_count": 35,
      "outputs": []
    },
    {
      "cell_type": "code",
      "metadata": {
        "id": "3u9LSAOY6Ua5"
      },
      "source": [
        "#if you use colab and you want download the file geojson, uncomment these rows\n",
        "#from google.colab import files\n",
        "#files.download(\"bbox_mezzolombardo.geojson\")"
      ],
      "execution_count": 36,
      "outputs": []
    },
    {
      "cell_type": "code",
      "metadata": {
        "id": "f8IUi1GJ88y9",
        "outputId": "7c641df5-44a7-4c03-d5a5-a4d3097b9393",
        "colab": {
          "base_uri": "https://localhost:8080/",
          "height": 295
        }
      },
      "source": [
        "!wget https://github.com/napo/geospatial_course_unitn/raw/master/data/openstreetmap/mezzolombardo_bbox.osm.pbf"
      ],
      "execution_count": 39,
      "outputs": [
        {
          "output_type": "stream",
          "text": [
            "--2020-10-23 13:10:16--  https://github.com/napo/geospatial_course_unitn/raw/master/data/openstreetmap/mezzolombardo_bbox.osm.pbf\n",
            "Resolving github.com (github.com)... 140.82.118.4\n",
            "Connecting to github.com (github.com)|140.82.118.4|:443... connected.\n",
            "HTTP request sent, awaiting response... 302 Found\n",
            "Location: https://raw.githubusercontent.com/napo/geospatial_course_unitn/master/data/openstreetmap/mezzolombardo_bbox.osm.pbf [following]\n",
            "--2020-10-23 13:10:16--  https://raw.githubusercontent.com/napo/geospatial_course_unitn/master/data/openstreetmap/mezzolombardo_bbox.osm.pbf\n",
            "Resolving raw.githubusercontent.com (raw.githubusercontent.com)... 151.101.0.133, 151.101.64.133, 151.101.128.133, ...\n",
            "Connecting to raw.githubusercontent.com (raw.githubusercontent.com)|151.101.0.133|:443... connected.\n",
            "HTTP request sent, awaiting response... 200 OK\n",
            "Length: 978912 (956K) [application/octet-stream]\n",
            "Saving to: ‘mezzolombardo_bbox.osm.pbf’\n",
            "\n",
            "mezzolombardo_bbox. 100%[===================>] 955.97K  --.-KB/s    in 0.04s   \n",
            "\n",
            "2020-10-23 13:10:17 (24.3 MB/s) - ‘mezzolombardo_bbox.osm.pbf’ saved [978912/978912]\n",
            "\n"
          ],
          "name": "stdout"
        }
      ]
    },
    {
      "cell_type": "code",
      "metadata": {
        "id": "yeMbZRmK96b0"
      },
      "source": [
        "path_pbf_file = \"/content/mezzolombardo_bbox.osm.pbf\""
      ],
      "execution_count": null,
      "outputs": []
    },
    {
      "cell_type": "markdown",
      "metadata": {
        "id": "lzX7UgwKPJ5S"
      },
      "source": [
        "## method 1 - download and cut from geodati fmach\n",
        "\n",
        "http://www.geodati.fmach.it/italia_osm.html\n",
        "\n",
        "http://geodati.fmach.it/gfoss_geodata/osm/output_osm_regioni/trentino-alto-adige.pbf\n"
      ]
    },
    {
      "cell_type": "code",
      "metadata": {
        "id": "ybB_LtNOIe3V",
        "outputId": "e1358236-6efa-4866-ec7f-9bc090ca83d3",
        "colab": {
          "base_uri": "https://localhost:8080/",
          "height": 208
        }
      },
      "source": [
        "!wget http://geodati.fmach.it/gfoss_geodata/osm/output_osm_regioni/trentino-alto-adige.pbf"
      ],
      "execution_count": 37,
      "outputs": [
        {
          "output_type": "stream",
          "text": [
            "--2020-10-23 13:03:10--  http://geodati.fmach.it/gfoss_geodata/osm/output_osm_regioni/trentino-alto-adige.pbf\n",
            "Resolving geodati.fmach.it (geodati.fmach.it)... 77.72.197.167\n",
            "Connecting to geodati.fmach.it (geodati.fmach.it)|77.72.197.167|:80... connected.\n",
            "HTTP request sent, awaiting response... 200 OK\n",
            "Length: 90917416 (87M)\n",
            "Saving to: ‘trentino-alto-adige.pbf’\n",
            "\n",
            "trentino-alto-adige 100%[===================>]  86.71M  13.4MB/s    in 6.5s    \n",
            "\n",
            "2020-10-23 13:03:16 (13.3 MB/s) - ‘trentino-alto-adige.pbf’ saved [90917416/90917416]\n",
            "\n"
          ],
          "name": "stdout"
        }
      ]
    },
    {
      "cell_type": "code",
      "metadata": {
        "id": "iw0o1nEC9Xpe"
      },
      "source": [
        "path_pbf_file_big = \"/content/trentino-alto-adige.pbf\""
      ],
      "execution_count": 38,
      "outputs": []
    },
    {
      "cell_type": "markdown",
      "metadata": {
        "id": "MqEyAiv5-PK4"
      },
      "source": [
        "## find all the supermarkets in the area\n",
        "\n"
      ]
    },
    {
      "cell_type": "code",
      "metadata": {
        "id": "OJ-06PsyP4dT",
        "outputId": "87d3a48d-2a1c-439c-ab0f-7c62bc14c1a0",
        "colab": {
          "base_uri": "https://localhost:8080/",
          "height": 72
        }
      },
      "source": [
        "import pyrosm"
      ],
      "execution_count": 40,
      "outputs": [
        {
          "output_type": "stream",
          "text": [
            "/usr/local/lib/python3.6/dist-packages/pyrosm/utils/_compat.py:12: UserWarning: The Shapely GEOS version (3.8.0-CAPI-1.13.1 ) is incompatible with the GEOS version PyGEOS was compiled with (3.8.1-CAPI-1.13.3). The tool will work but it runs a bit slower.\n",
            "  shapely_geos_version, geos_capi_version_string\n"
          ],
          "name": "stderr"
        }
      ]
    },
    {
      "cell_type": "markdown",
      "metadata": {
        "id": "pAFYXykn_pCx"
      },
      "source": [
        "![](https://raw.githubusercontent.com/napo/geospatial_course_unitn/master/images/tag_supermarket.png)"
      ]
    },
    {
      "cell_type": "code",
      "metadata": {
        "id": "VGqC3vvbPtcC"
      },
      "source": [
        "osm = pyrosm.OSM(path_pbf_file_big,bounding_box=bbox)"
      ],
      "execution_count": 41,
      "outputs": []
    },
    {
      "cell_type": "code",
      "metadata": {
        "id": "T8D0Jp7XAFwd"
      },
      "source": [
        "custom_filter = {'shop': ['supermarket']}"
      ],
      "execution_count": 42,
      "outputs": []
    },
    {
      "cell_type": "code",
      "metadata": {
        "id": "l_TYpgQ4_9IC"
      },
      "source": [
        "supermarkets = osm.get_pois(custom_filter=custom_filter)"
      ],
      "execution_count": 43,
      "outputs": []
    },
    {
      "cell_type": "code",
      "metadata": {
        "id": "Wp8XKwn4AgBn",
        "outputId": "e6a5f47f-2efe-43ae-e8b4-2abe42b07b91",
        "colab": {
          "base_uri": "https://localhost:8080/",
          "height": 34
        }
      },
      "source": [
        "supermarkets.shape"
      ],
      "execution_count": 45,
      "outputs": [
        {
          "output_type": "execute_result",
          "data": {
            "text/plain": [
              "(8, 19)"
            ]
          },
          "metadata": {
            "tags": []
          },
          "execution_count": 45
        }
      ]
    },
    {
      "cell_type": "code",
      "metadata": {
        "id": "IIxncvJ9gIPU",
        "outputId": "1edf8b0b-3f63-4e39-ec9d-ef8b7838abe3",
        "colab": {
          "base_uri": "https://localhost:8080/",
          "height": 702
        }
      },
      "source": [
        "supermarkets"
      ],
      "execution_count": 46,
      "outputs": [
        {
          "output_type": "execute_result",
          "data": {
            "text/html": [
              "<div>\n",
              "<style scoped>\n",
              "    .dataframe tbody tr th:only-of-type {\n",
              "        vertical-align: middle;\n",
              "    }\n",
              "\n",
              "    .dataframe tbody tr th {\n",
              "        vertical-align: top;\n",
              "    }\n",
              "\n",
              "    .dataframe thead th {\n",
              "        text-align: right;\n",
              "    }\n",
              "</style>\n",
              "<table border=\"1\" class=\"dataframe\">\n",
              "  <thead>\n",
              "    <tr style=\"text-align: right;\">\n",
              "      <th></th>\n",
              "      <th>tags</th>\n",
              "      <th>lat</th>\n",
              "      <th>id</th>\n",
              "      <th>lon</th>\n",
              "      <th>version</th>\n",
              "      <th>changeset</th>\n",
              "      <th>timestamp</th>\n",
              "      <th>addr:city</th>\n",
              "      <th>addr:country</th>\n",
              "      <th>addr:housenumber</th>\n",
              "      <th>addr:housename</th>\n",
              "      <th>addr:postcode</th>\n",
              "      <th>addr:street</th>\n",
              "      <th>name</th>\n",
              "      <th>opening_hours</th>\n",
              "      <th>operator</th>\n",
              "      <th>shop</th>\n",
              "      <th>geometry</th>\n",
              "      <th>osm_type</th>\n",
              "    </tr>\n",
              "  </thead>\n",
              "  <tbody>\n",
              "    <tr>\n",
              "      <th>0</th>\n",
              "      <td>None</td>\n",
              "      <td>46.214546</td>\n",
              "      <td>1596908256</td>\n",
              "      <td>11.118455</td>\n",
              "      <td>-99</td>\n",
              "      <td>-99.0</td>\n",
              "      <td>-99</td>\n",
              "      <td>None</td>\n",
              "      <td>None</td>\n",
              "      <td>None</td>\n",
              "      <td>None</td>\n",
              "      <td>None</td>\n",
              "      <td>None</td>\n",
              "      <td>Iper Soap</td>\n",
              "      <td>None</td>\n",
              "      <td>None</td>\n",
              "      <td>supermarket</td>\n",
              "      <td>POINT (11.11845 46.21455)</td>\n",
              "      <td>node</td>\n",
              "    </tr>\n",
              "    <tr>\n",
              "      <th>1</th>\n",
              "      <td>{\"level\":\"0\"}</td>\n",
              "      <td>46.208977</td>\n",
              "      <td>1669326175</td>\n",
              "      <td>11.102525</td>\n",
              "      <td>-128</td>\n",
              "      <td>-128.0</td>\n",
              "      <td>-128</td>\n",
              "      <td>Mezzolombardo</td>\n",
              "      <td>IT</td>\n",
              "      <td>37</td>\n",
              "      <td>Centro Commerciale Roltalcenter</td>\n",
              "      <td>38017</td>\n",
              "      <td>Via Guido Fiorini</td>\n",
              "      <td>Schlecker</td>\n",
              "      <td>None</td>\n",
              "      <td>None</td>\n",
              "      <td>supermarket</td>\n",
              "      <td>POINT (11.10252 46.20898)</td>\n",
              "      <td>node</td>\n",
              "    </tr>\n",
              "    <tr>\n",
              "      <th>2</th>\n",
              "      <td>None</td>\n",
              "      <td>46.213261</td>\n",
              "      <td>3054012770</td>\n",
              "      <td>11.089408</td>\n",
              "      <td>0</td>\n",
              "      <td>67.0</td>\n",
              "      <td>67</td>\n",
              "      <td>None</td>\n",
              "      <td>None</td>\n",
              "      <td>None</td>\n",
              "      <td>None</td>\n",
              "      <td>None</td>\n",
              "      <td>None</td>\n",
              "      <td>Despar</td>\n",
              "      <td>None</td>\n",
              "      <td>None</td>\n",
              "      <td>supermarket</td>\n",
              "      <td>POINT (11.08941 46.21326)</td>\n",
              "      <td>node</td>\n",
              "    </tr>\n",
              "    <tr>\n",
              "      <th>3</th>\n",
              "      <td>{\"brand\":\"EuroSpin\",\"brand:wikidata\":\"Q1374674...</td>\n",
              "      <td>46.207256</td>\n",
              "      <td>4557760211</td>\n",
              "      <td>11.100459</td>\n",
              "      <td>0</td>\n",
              "      <td>0.0</td>\n",
              "      <td>0</td>\n",
              "      <td>Mezzolombardo</td>\n",
              "      <td>IT</td>\n",
              "      <td>65/A</td>\n",
              "      <td>Complesso Commerciale Braide</td>\n",
              "      <td>38017</td>\n",
              "      <td>Via Trento</td>\n",
              "      <td>EuroSpin</td>\n",
              "      <td>Mo-Su 08:00-20:00</td>\n",
              "      <td>None</td>\n",
              "      <td>supermarket</td>\n",
              "      <td>POINT (11.10046 46.20726)</td>\n",
              "      <td>node</td>\n",
              "    </tr>\n",
              "    <tr>\n",
              "      <th>4</th>\n",
              "      <td>{\"brand\":\"Conad\",\"brand:wikidata\":\"Q639075\",\"b...</td>\n",
              "      <td>46.180454</td>\n",
              "      <td>6516674409</td>\n",
              "      <td>11.070800</td>\n",
              "      <td>0</td>\n",
              "      <td>0.0</td>\n",
              "      <td>0</td>\n",
              "      <td>None</td>\n",
              "      <td>None</td>\n",
              "      <td>None</td>\n",
              "      <td>None</td>\n",
              "      <td>None</td>\n",
              "      <td>None</td>\n",
              "      <td>Conad</td>\n",
              "      <td>Mo-Su 07:00-12:30; Mo-Sa 16:00-19:30</td>\n",
              "      <td>Pasquale Aceto</td>\n",
              "      <td>supermarket</td>\n",
              "      <td>POINT (11.07080 46.18045)</td>\n",
              "      <td>node</td>\n",
              "    </tr>\n",
              "    <tr>\n",
              "      <th>5</th>\n",
              "      <td>{\"building\":\"yes\",\"ref:vatin\":\"IT00108640228\"}</td>\n",
              "      <td>NaN</td>\n",
              "      <td>39484297</td>\n",
              "      <td>NaN</td>\n",
              "      <td>8</td>\n",
              "      <td>NaN</td>\n",
              "      <td>1523179735</td>\n",
              "      <td>Mezzolombardo</td>\n",
              "      <td>IT</td>\n",
              "      <td>33</td>\n",
              "      <td>NaN</td>\n",
              "      <td>38017</td>\n",
              "      <td>Via Guido Fiorini</td>\n",
              "      <td>Orvea</td>\n",
              "      <td>None</td>\n",
              "      <td>OR.VE.A. S.P.A.</td>\n",
              "      <td>supermarket</td>\n",
              "      <td>POLYGON ((11.10120 46.20900, 11.10125 46.20917...</td>\n",
              "      <td>way</td>\n",
              "    </tr>\n",
              "    <tr>\n",
              "      <th>6</th>\n",
              "      <td>{\"building\":\"yes\"}</td>\n",
              "      <td>NaN</td>\n",
              "      <td>73412650</td>\n",
              "      <td>NaN</td>\n",
              "      <td>6</td>\n",
              "      <td>NaN</td>\n",
              "      <td>1517591180</td>\n",
              "      <td>Mezzolombardo</td>\n",
              "      <td>IT</td>\n",
              "      <td>19</td>\n",
              "      <td>NaN</td>\n",
              "      <td>38017</td>\n",
              "      <td>Via Rotaliana</td>\n",
              "      <td>Amort</td>\n",
              "      <td>None</td>\n",
              "      <td>None</td>\n",
              "      <td>supermarket</td>\n",
              "      <td>POLYGON ((11.09483 46.21696, 11.09509 46.21711...</td>\n",
              "      <td>way</td>\n",
              "    </tr>\n",
              "    <tr>\n",
              "      <th>7</th>\n",
              "      <td>{\"brand\":\"Lidl\",\"brand:wikidata\":\"Q151954\",\"br...</td>\n",
              "      <td>NaN</td>\n",
              "      <td>567538828</td>\n",
              "      <td>NaN</td>\n",
              "      <td>5</td>\n",
              "      <td>NaN</td>\n",
              "      <td>1594466282</td>\n",
              "      <td>Mezzolombardo</td>\n",
              "      <td>IT</td>\n",
              "      <td>79</td>\n",
              "      <td>NaN</td>\n",
              "      <td>38017</td>\n",
              "      <td>Via Alcide De Gasperi</td>\n",
              "      <td>LIDL</td>\n",
              "      <td>Mo-Sa 08:00-21:00; Su 08:00-20:00</td>\n",
              "      <td>LIDL ITALIA SRL</td>\n",
              "      <td>supermarket</td>\n",
              "      <td>POLYGON ((11.09423 46.21056, 11.09453 46.21074...</td>\n",
              "      <td>way</td>\n",
              "    </tr>\n",
              "  </tbody>\n",
              "</table>\n",
              "</div>"
            ],
            "text/plain": [
              "                                                tags  ...  osm_type\n",
              "0                                               None  ...      node\n",
              "1                                      {\"level\":\"0\"}  ...      node\n",
              "2                                               None  ...      node\n",
              "3  {\"brand\":\"EuroSpin\",\"brand:wikidata\":\"Q1374674...  ...      node\n",
              "4  {\"brand\":\"Conad\",\"brand:wikidata\":\"Q639075\",\"b...  ...      node\n",
              "5     {\"building\":\"yes\",\"ref:vatin\":\"IT00108640228\"}  ...       way\n",
              "6                                 {\"building\":\"yes\"}  ...       way\n",
              "7  {\"brand\":\"Lidl\",\"brand:wikidata\":\"Q151954\",\"br...  ...       way\n",
              "\n",
              "[8 rows x 19 columns]"
            ]
          },
          "metadata": {
            "tags": []
          },
          "execution_count": 46
        }
      ]
    },
    {
      "cell_type": "code",
      "metadata": {
        "id": "QjQjoeakArNT",
        "outputId": "0f3e92a3-048f-473d-fb96-51d5dbbb690f",
        "colab": {
          "base_uri": "https://localhost:8080/",
          "height": 34
        }
      },
      "source": [
        "print(\"there are %s supermarkets in Mezzolombardo\" % supermarkets.shape[0])"
      ],
      "execution_count": 48,
      "outputs": [
        {
          "output_type": "stream",
          "text": [
            "there are 8 supermarkets in Mezzolombardo\n"
          ],
          "name": "stdout"
        }
      ]
    },
    {
      "cell_type": "code",
      "metadata": {
        "id": "-2Vb7JDmB5_w",
        "outputId": "da2eebcf-4447-4e51-a9d7-a5fdfc2e4ce9",
        "colab": {
          "base_uri": "https://localhost:8080/",
          "height": 173
        }
      },
      "source": [
        "supermarkets.name"
      ],
      "execution_count": 49,
      "outputs": [
        {
          "output_type": "execute_result",
          "data": {
            "text/plain": [
              "0    Iper Soap\n",
              "1    Schlecker\n",
              "2       Despar\n",
              "3     EuroSpin\n",
              "4        Conad\n",
              "5        Orvea\n",
              "6        Amort\n",
              "7         LIDL\n",
              "Name: name, dtype: object"
            ]
          },
          "metadata": {
            "tags": []
          },
          "execution_count": 49
        }
      ]
    },
    {
      "cell_type": "markdown",
      "metadata": {
        "id": "9V460bMCBvJC"
      },
      "source": [
        "# identify the longest road of the city\n"
      ]
    },
    {
      "cell_type": "code",
      "metadata": {
        "id": "pKFy0PexB1bk"
      },
      "source": [
        "roads = osm.get_network(network_type='all')"
      ],
      "execution_count": 51,
      "outputs": []
    },
    {
      "cell_type": "code",
      "metadata": {
        "id": "PIuQ9jeOCZPw",
        "outputId": "12fc5405-713f-4a5f-8cbf-db51a578b9dc",
        "colab": {
          "base_uri": "https://localhost:8080/",
          "height": 121
        }
      },
      "source": [
        "roads.columns"
      ],
      "execution_count": 52,
      "outputs": [
        {
          "output_type": "execute_result",
          "data": {
            "text/plain": [
              "Index(['access', 'area', 'bicycle', 'bridge', 'cycleway', 'foot', 'footway',\n",
              "       'highway', 'int_ref', 'junction', 'lanes', 'lit', 'maxspeed',\n",
              "       'motor_vehicle', 'name', 'oneway', 'ref', 'service', 'segregated',\n",
              "       'smoothness', 'surface', 'tracktype', 'tunnel', 'width', 'id',\n",
              "       'timestamp', 'version', 'tags', 'geometry', 'osm_type'],\n",
              "      dtype='object')"
            ]
          },
          "metadata": {
            "tags": []
          },
          "execution_count": 52
        }
      ]
    },
    {
      "cell_type": "code",
      "metadata": {
        "id": "6gn7COvMLHcF",
        "outputId": "be765745-4194-451c-8e58-7d2e3770476b",
        "colab": {
          "base_uri": "https://localhost:8080/",
          "height": 86
        }
      },
      "source": [
        "roads.highway.unique()"
      ],
      "execution_count": 53,
      "outputs": [
        {
          "output_type": "execute_result",
          "data": {
            "text/plain": [
              "array(['motorway', 'tertiary', 'residential', 'unclassified', 'track',\n",
              "       'primary', 'secondary', 'cycleway', 'tertiary_link', 'footway',\n",
              "       'path', 'service', 'steps', 'primary_link', 'pedestrian',\n",
              "       'secondary_link', 'via_ferrata'], dtype=object)"
            ]
          },
          "metadata": {
            "tags": []
          },
          "execution_count": 53
        }
      ]
    },
    {
      "cell_type": "markdown",
      "metadata": {
        "id": "W9avLtkZDgeC"
      },
      "source": [
        "![](https://github.com/napo/geospatial_course_unitn/raw/master/images/tag_highways.gif)"
      ]
    },
    {
      "cell_type": "markdown",
      "metadata": {
        "id": "60u_oJ_3OE9w"
      },
      "source": [
        "## lenght of unclassified and residential togheter"
      ]
    },
    {
      "cell_type": "code",
      "metadata": {
        "id": "0Ijyl80VDjzh"
      },
      "source": [
        "roads_unclassified_residential = roads[(roads.highway=='unclassified') | (roads.highway == 'residential')]"
      ],
      "execution_count": 54,
      "outputs": []
    },
    {
      "cell_type": "code",
      "metadata": {
        "id": "c4S6xQ7FhcYD",
        "outputId": "9e9e4677-b09e-4fe0-9c26-c29e742735f3",
        "colab": {
          "base_uri": "https://localhost:8080/",
          "height": 1000
        }
      },
      "source": [
        "roads_unclassified_residential"
      ],
      "execution_count": 55,
      "outputs": [
        {
          "output_type": "execute_result",
          "data": {
            "text/html": [
              "<div>\n",
              "<style scoped>\n",
              "    .dataframe tbody tr th:only-of-type {\n",
              "        vertical-align: middle;\n",
              "    }\n",
              "\n",
              "    .dataframe tbody tr th {\n",
              "        vertical-align: top;\n",
              "    }\n",
              "\n",
              "    .dataframe thead th {\n",
              "        text-align: right;\n",
              "    }\n",
              "</style>\n",
              "<table border=\"1\" class=\"dataframe\">\n",
              "  <thead>\n",
              "    <tr style=\"text-align: right;\">\n",
              "      <th></th>\n",
              "      <th>access</th>\n",
              "      <th>area</th>\n",
              "      <th>bicycle</th>\n",
              "      <th>bridge</th>\n",
              "      <th>cycleway</th>\n",
              "      <th>foot</th>\n",
              "      <th>footway</th>\n",
              "      <th>highway</th>\n",
              "      <th>int_ref</th>\n",
              "      <th>junction</th>\n",
              "      <th>lanes</th>\n",
              "      <th>lit</th>\n",
              "      <th>maxspeed</th>\n",
              "      <th>motor_vehicle</th>\n",
              "      <th>name</th>\n",
              "      <th>oneway</th>\n",
              "      <th>ref</th>\n",
              "      <th>service</th>\n",
              "      <th>segregated</th>\n",
              "      <th>smoothness</th>\n",
              "      <th>surface</th>\n",
              "      <th>tracktype</th>\n",
              "      <th>tunnel</th>\n",
              "      <th>width</th>\n",
              "      <th>id</th>\n",
              "      <th>timestamp</th>\n",
              "      <th>version</th>\n",
              "      <th>tags</th>\n",
              "      <th>geometry</th>\n",
              "      <th>osm_type</th>\n",
              "    </tr>\n",
              "  </thead>\n",
              "  <tbody>\n",
              "    <tr>\n",
              "      <th>2</th>\n",
              "      <td>None</td>\n",
              "      <td>None</td>\n",
              "      <td>None</td>\n",
              "      <td>None</td>\n",
              "      <td>None</td>\n",
              "      <td>None</td>\n",
              "      <td>None</td>\n",
              "      <td>residential</td>\n",
              "      <td>None</td>\n",
              "      <td>None</td>\n",
              "      <td>None</td>\n",
              "      <td>None</td>\n",
              "      <td>None</td>\n",
              "      <td>None</td>\n",
              "      <td>Via Fornai</td>\n",
              "      <td>None</td>\n",
              "      <td>None</td>\n",
              "      <td>None</td>\n",
              "      <td>None</td>\n",
              "      <td>None</td>\n",
              "      <td>None</td>\n",
              "      <td>None</td>\n",
              "      <td>None</td>\n",
              "      <td>None</td>\n",
              "      <td>24621610</td>\n",
              "      <td>1369153355</td>\n",
              "      <td>6</td>\n",
              "      <td>None</td>\n",
              "      <td>LINESTRING (11.11717 46.21324, 11.11686 46.213...</td>\n",
              "      <td>way</td>\n",
              "    </tr>\n",
              "    <tr>\n",
              "      <th>4</th>\n",
              "      <td>None</td>\n",
              "      <td>None</td>\n",
              "      <td>None</td>\n",
              "      <td>None</td>\n",
              "      <td>None</td>\n",
              "      <td>None</td>\n",
              "      <td>None</td>\n",
              "      <td>unclassified</td>\n",
              "      <td>None</td>\n",
              "      <td>None</td>\n",
              "      <td>None</td>\n",
              "      <td>None</td>\n",
              "      <td>None</td>\n",
              "      <td>None</td>\n",
              "      <td>Via Dante Alighieri</td>\n",
              "      <td>None</td>\n",
              "      <td>None</td>\n",
              "      <td>None</td>\n",
              "      <td>None</td>\n",
              "      <td>None</td>\n",
              "      <td>None</td>\n",
              "      <td>None</td>\n",
              "      <td>None</td>\n",
              "      <td>None</td>\n",
              "      <td>24621622</td>\n",
              "      <td>1543160359</td>\n",
              "      <td>12</td>\n",
              "      <td>None</td>\n",
              "      <td>LINESTRING (11.11852 46.21649, 11.11853 46.216...</td>\n",
              "      <td>way</td>\n",
              "    </tr>\n",
              "    <tr>\n",
              "      <th>5</th>\n",
              "      <td>None</td>\n",
              "      <td>None</td>\n",
              "      <td>None</td>\n",
              "      <td>None</td>\n",
              "      <td>None</td>\n",
              "      <td>None</td>\n",
              "      <td>None</td>\n",
              "      <td>residential</td>\n",
              "      <td>None</td>\n",
              "      <td>None</td>\n",
              "      <td>None</td>\n",
              "      <td>None</td>\n",
              "      <td>None</td>\n",
              "      <td>None</td>\n",
              "      <td>Piazza della Chiesa</td>\n",
              "      <td>None</td>\n",
              "      <td>None</td>\n",
              "      <td>None</td>\n",
              "      <td>None</td>\n",
              "      <td>None</td>\n",
              "      <td>None</td>\n",
              "      <td>None</td>\n",
              "      <td>None</td>\n",
              "      <td>None</td>\n",
              "      <td>24621623</td>\n",
              "      <td>1503940023</td>\n",
              "      <td>6</td>\n",
              "      <td>None</td>\n",
              "      <td>LINESTRING (11.11875 46.21664, 11.11858 46.21656)</td>\n",
              "      <td>way</td>\n",
              "    </tr>\n",
              "    <tr>\n",
              "      <th>12</th>\n",
              "      <td>None</td>\n",
              "      <td>None</td>\n",
              "      <td>None</td>\n",
              "      <td>None</td>\n",
              "      <td>None</td>\n",
              "      <td>None</td>\n",
              "      <td>None</td>\n",
              "      <td>unclassified</td>\n",
              "      <td>None</td>\n",
              "      <td>None</td>\n",
              "      <td>None</td>\n",
              "      <td>None</td>\n",
              "      <td>None</td>\n",
              "      <td>None</td>\n",
              "      <td>Via alla Grotta</td>\n",
              "      <td>None</td>\n",
              "      <td>None</td>\n",
              "      <td>None</td>\n",
              "      <td>None</td>\n",
              "      <td>None</td>\n",
              "      <td>None</td>\n",
              "      <td>None</td>\n",
              "      <td>None</td>\n",
              "      <td>None</td>\n",
              "      <td>25388664</td>\n",
              "      <td>1543160359</td>\n",
              "      <td>10</td>\n",
              "      <td>None</td>\n",
              "      <td>LINESTRING (11.11869 46.21865, 11.11852 46.218...</td>\n",
              "      <td>way</td>\n",
              "    </tr>\n",
              "    <tr>\n",
              "      <th>13</th>\n",
              "      <td>None</td>\n",
              "      <td>None</td>\n",
              "      <td>None</td>\n",
              "      <td>None</td>\n",
              "      <td>None</td>\n",
              "      <td>None</td>\n",
              "      <td>None</td>\n",
              "      <td>unclassified</td>\n",
              "      <td>None</td>\n",
              "      <td>None</td>\n",
              "      <td>None</td>\n",
              "      <td>None</td>\n",
              "      <td>None</td>\n",
              "      <td>None</td>\n",
              "      <td>Via Carlo Devigili</td>\n",
              "      <td>None</td>\n",
              "      <td>None</td>\n",
              "      <td>None</td>\n",
              "      <td>None</td>\n",
              "      <td>None</td>\n",
              "      <td>None</td>\n",
              "      <td>None</td>\n",
              "      <td>None</td>\n",
              "      <td>None</td>\n",
              "      <td>25413543</td>\n",
              "      <td>1522001556</td>\n",
              "      <td>26</td>\n",
              "      <td>None</td>\n",
              "      <td>LINESTRING (11.09512 46.20965, 11.09569 46.209...</td>\n",
              "      <td>way</td>\n",
              "    </tr>\n",
              "    <tr>\n",
              "      <th>...</th>\n",
              "      <td>...</td>\n",
              "      <td>...</td>\n",
              "      <td>...</td>\n",
              "      <td>...</td>\n",
              "      <td>...</td>\n",
              "      <td>...</td>\n",
              "      <td>...</td>\n",
              "      <td>...</td>\n",
              "      <td>...</td>\n",
              "      <td>...</td>\n",
              "      <td>...</td>\n",
              "      <td>...</td>\n",
              "      <td>...</td>\n",
              "      <td>...</td>\n",
              "      <td>...</td>\n",
              "      <td>...</td>\n",
              "      <td>...</td>\n",
              "      <td>...</td>\n",
              "      <td>...</td>\n",
              "      <td>...</td>\n",
              "      <td>...</td>\n",
              "      <td>...</td>\n",
              "      <td>...</td>\n",
              "      <td>...</td>\n",
              "      <td>...</td>\n",
              "      <td>...</td>\n",
              "      <td>...</td>\n",
              "      <td>...</td>\n",
              "      <td>...</td>\n",
              "      <td>...</td>\n",
              "    </tr>\n",
              "    <tr>\n",
              "      <th>1153</th>\n",
              "      <td>None</td>\n",
              "      <td>None</td>\n",
              "      <td>None</td>\n",
              "      <td>None</td>\n",
              "      <td>None</td>\n",
              "      <td>None</td>\n",
              "      <td>None</td>\n",
              "      <td>residential</td>\n",
              "      <td>None</td>\n",
              "      <td>None</td>\n",
              "      <td>None</td>\n",
              "      <td>None</td>\n",
              "      <td>None</td>\n",
              "      <td>None</td>\n",
              "      <td>Via della Pineta</td>\n",
              "      <td>None</td>\n",
              "      <td>None</td>\n",
              "      <td>None</td>\n",
              "      <td>None</td>\n",
              "      <td>None</td>\n",
              "      <td>None</td>\n",
              "      <td>None</td>\n",
              "      <td>None</td>\n",
              "      <td>None</td>\n",
              "      <td>660696721</td>\n",
              "      <td>1546696265</td>\n",
              "      <td>1</td>\n",
              "      <td>None</td>\n",
              "      <td>LINESTRING (11.06637 46.17816, 11.06651 46.178...</td>\n",
              "      <td>way</td>\n",
              "    </tr>\n",
              "    <tr>\n",
              "      <th>1194</th>\n",
              "      <td>None</td>\n",
              "      <td>None</td>\n",
              "      <td>None</td>\n",
              "      <td>yes</td>\n",
              "      <td>None</td>\n",
              "      <td>None</td>\n",
              "      <td>None</td>\n",
              "      <td>residential</td>\n",
              "      <td>None</td>\n",
              "      <td>None</td>\n",
              "      <td>None</td>\n",
              "      <td>None</td>\n",
              "      <td>None</td>\n",
              "      <td>None</td>\n",
              "      <td>Via Damiano Chiesa</td>\n",
              "      <td>None</td>\n",
              "      <td>None</td>\n",
              "      <td>None</td>\n",
              "      <td>None</td>\n",
              "      <td>None</td>\n",
              "      <td>None</td>\n",
              "      <td>None</td>\n",
              "      <td>None</td>\n",
              "      <td>None</td>\n",
              "      <td>795943144</td>\n",
              "      <td>1587816864</td>\n",
              "      <td>1</td>\n",
              "      <td>{\"layer\":\"1\"}</td>\n",
              "      <td>LINESTRING (11.09586 46.21477, 11.09580 46.21475)</td>\n",
              "      <td>way</td>\n",
              "    </tr>\n",
              "    <tr>\n",
              "      <th>1195</th>\n",
              "      <td>None</td>\n",
              "      <td>None</td>\n",
              "      <td>None</td>\n",
              "      <td>None</td>\n",
              "      <td>None</td>\n",
              "      <td>None</td>\n",
              "      <td>None</td>\n",
              "      <td>residential</td>\n",
              "      <td>None</td>\n",
              "      <td>None</td>\n",
              "      <td>None</td>\n",
              "      <td>None</td>\n",
              "      <td>None</td>\n",
              "      <td>None</td>\n",
              "      <td>Via Damiano Chiesa</td>\n",
              "      <td>None</td>\n",
              "      <td>None</td>\n",
              "      <td>None</td>\n",
              "      <td>None</td>\n",
              "      <td>None</td>\n",
              "      <td>None</td>\n",
              "      <td>None</td>\n",
              "      <td>None</td>\n",
              "      <td>None</td>\n",
              "      <td>795943145</td>\n",
              "      <td>1587816864</td>\n",
              "      <td>1</td>\n",
              "      <td>None</td>\n",
              "      <td>LINESTRING (11.09610 46.21491, 11.09598 46.214...</td>\n",
              "      <td>way</td>\n",
              "    </tr>\n",
              "    <tr>\n",
              "      <th>1204</th>\n",
              "      <td>None</td>\n",
              "      <td>None</td>\n",
              "      <td>None</td>\n",
              "      <td>yes</td>\n",
              "      <td>None</td>\n",
              "      <td>None</td>\n",
              "      <td>None</td>\n",
              "      <td>unclassified</td>\n",
              "      <td>None</td>\n",
              "      <td>None</td>\n",
              "      <td>None</td>\n",
              "      <td>None</td>\n",
              "      <td>None</td>\n",
              "      <td>None</td>\n",
              "      <td>None</td>\n",
              "      <td>None</td>\n",
              "      <td>None</td>\n",
              "      <td>None</td>\n",
              "      <td>None</td>\n",
              "      <td>None</td>\n",
              "      <td>asphalt</td>\n",
              "      <td>None</td>\n",
              "      <td>None</td>\n",
              "      <td>None</td>\n",
              "      <td>809648314</td>\n",
              "      <td>1590775561</td>\n",
              "      <td>1</td>\n",
              "      <td>{\"layer\":\"1\"}</td>\n",
              "      <td>LINESTRING (11.09451 46.22785, 11.09454 46.22782)</td>\n",
              "      <td>way</td>\n",
              "    </tr>\n",
              "    <tr>\n",
              "      <th>1205</th>\n",
              "      <td>None</td>\n",
              "      <td>None</td>\n",
              "      <td>None</td>\n",
              "      <td>None</td>\n",
              "      <td>None</td>\n",
              "      <td>None</td>\n",
              "      <td>None</td>\n",
              "      <td>unclassified</td>\n",
              "      <td>None</td>\n",
              "      <td>None</td>\n",
              "      <td>None</td>\n",
              "      <td>None</td>\n",
              "      <td>None</td>\n",
              "      <td>None</td>\n",
              "      <td>None</td>\n",
              "      <td>None</td>\n",
              "      <td>None</td>\n",
              "      <td>None</td>\n",
              "      <td>None</td>\n",
              "      <td>None</td>\n",
              "      <td>asphalt</td>\n",
              "      <td>None</td>\n",
              "      <td>None</td>\n",
              "      <td>None</td>\n",
              "      <td>809648315</td>\n",
              "      <td>1590775561</td>\n",
              "      <td>1</td>\n",
              "      <td>None</td>\n",
              "      <td>LINESTRING (11.09352 46.22640, 11.09344 46.226...</td>\n",
              "      <td>way</td>\n",
              "    </tr>\n",
              "  </tbody>\n",
              "</table>\n",
              "<p>238 rows × 30 columns</p>\n",
              "</div>"
            ],
            "text/plain": [
              "     access  area  ...                                           geometry osm_type\n",
              "2      None  None  ...  LINESTRING (11.11717 46.21324, 11.11686 46.213...      way\n",
              "4      None  None  ...  LINESTRING (11.11852 46.21649, 11.11853 46.216...      way\n",
              "5      None  None  ...  LINESTRING (11.11875 46.21664, 11.11858 46.21656)      way\n",
              "12     None  None  ...  LINESTRING (11.11869 46.21865, 11.11852 46.218...      way\n",
              "13     None  None  ...  LINESTRING (11.09512 46.20965, 11.09569 46.209...      way\n",
              "...     ...   ...  ...                                                ...      ...\n",
              "1153   None  None  ...  LINESTRING (11.06637 46.17816, 11.06651 46.178...      way\n",
              "1194   None  None  ...  LINESTRING (11.09586 46.21477, 11.09580 46.21475)      way\n",
              "1195   None  None  ...  LINESTRING (11.09610 46.21491, 11.09598 46.214...      way\n",
              "1204   None  None  ...  LINESTRING (11.09451 46.22785, 11.09454 46.22782)      way\n",
              "1205   None  None  ...  LINESTRING (11.09352 46.22640, 11.09344 46.226...      way\n",
              "\n",
              "[238 rows x 30 columns]"
            ]
          },
          "metadata": {
            "tags": []
          },
          "execution_count": 55
        }
      ]
    },
    {
      "cell_type": "code",
      "metadata": {
        "id": "DTIJky_cFN6T",
        "outputId": "6bfe983a-6260-4cb5-8927-6dbea34b6a5d",
        "colab": {
          "base_uri": "https://localhost:8080/",
          "height": 225
        }
      },
      "source": [
        "roads_unclassified_residential['name'].value_counts()"
      ],
      "execution_count": 57,
      "outputs": [
        {
          "output_type": "execute_result",
          "data": {
            "text/plain": [
              "Via Damiano Chiesa        8\n",
              "Via dei Morei             7\n",
              "Via Carlo Devigili        5\n",
              "Piazza della Chiesa       5\n",
              "Via alla Grotta           5\n",
              "                         ..\n",
              "Via Don Sturzo            1\n",
              "Via degli Alpini          1\n",
              "Corso Giuseppe Mazzini    1\n",
              "Vicolo Scaletta           1\n",
              "Via Guido Fiorini         1\n",
              "Name: name, Length: 73, dtype: int64"
            ]
          },
          "metadata": {
            "tags": []
          },
          "execution_count": 57
        }
      ]
    },
    {
      "cell_type": "code",
      "metadata": {
        "id": "Tic1SDGzGtr5"
      },
      "source": [
        "names = roads_unclassified_residential.name.unique()"
      ],
      "execution_count": 59,
      "outputs": []
    },
    {
      "cell_type": "code",
      "metadata": {
        "id": "qdR7iRzphzq6",
        "outputId": "c6ed4500-6b72-48eb-83a4-ea0bfc43c9e4",
        "colab": {
          "base_uri": "https://localhost:8080/",
          "height": 451
        }
      },
      "source": [
        "names"
      ],
      "execution_count": 60,
      "outputs": [
        {
          "output_type": "execute_result",
          "data": {
            "text/plain": [
              "array(['Via Fornai', 'Via Dante Alighieri', 'Piazza della Chiesa',\n",
              "       'Via alla Grotta', 'Via Carlo Devigili', 'Via dei Morei',\n",
              "       'Via Emanuele De Varda', 'Via Giorgio Perlasca', 'Via Taiti',\n",
              "       'Via Frecce Tricolori', None, 'Via Trento', 'Via San Francesco',\n",
              "       \"Via Sant'Antonio\", 'Via Milano', 'Via fratelli de Panizza',\n",
              "       'Via F. de Panizza', 'Via Francesco de Luca', 'Via Cristiani',\n",
              "       'Via Conte Carlo Martini', 'Via dei Sentieri', 'Località Rauti',\n",
              "       'Piazza Pio XII', 'Via Alessandro Manzoni', 'Via Giosuè Carducci',\n",
              "       'Via Damiano Chiesa', 'Via San Vigilio', 'Via della Rupe',\n",
              "       'Via Guido Fiorini', 'Piazza Cassa di Risparmio', 'Via Dante',\n",
              "       'Vicolo Travaion', 'Via dei Molini', 'Via Rotaliana',\n",
              "       'Via Francesco Morigl', 'Via Riccardo Zandonai',\n",
              "       'Piazza Cesare Battisti', 'Via Cavalleggeri Udine',\n",
              "       'Via F. De Panizza', 'Via Giuseppe Garibaldi', 'Via Fabio Filzi',\n",
              "       'Corso Giuseppe Mazzini', 'Via Don Sturzo', 'Piazza San Giovanni',\n",
              "       'Via Canevarie', 'Via Romedio De Scari', 'Via Bertagnolli',\n",
              "       'Via San Pietro', 'Piazza Luigi Dalpiaz', \"Via Sant'Anna\",\n",
              "       'Corso del Popolo', 'Via Francesco Filos', 'Via Camorzi',\n",
              "       'Via Desiderio Reich', 'Via degli Alpini', 'Viale Fenice',\n",
              "       'Piazza delle Erbe', 'Via della Pineta', \"Via dell'artigianato\",\n",
              "       'Via alle Salézze', 'Strada delle Palù', 'Via al Dòs Alt',\n",
              "       'Via Luigi Endrizzi', \"Via di Pradonec'\", 'Via Arturo De Varda',\n",
              "       'Via Roma', 'Via al Belvedere', 'Via Molini', 'Località Galletta',\n",
              "       'Vicolo Pozzo', 'Via Cortalta', 'Via Trieste', 'Vicolo Scaletta',\n",
              "       'Via ai Dossi'], dtype=object)"
            ]
          },
          "metadata": {
            "tags": []
          },
          "execution_count": 60
        }
      ]
    },
    {
      "cell_type": "code",
      "metadata": {
        "id": "hoibqzhEHvE0"
      },
      "source": [
        "roads_lenght = {}\n",
        "rodas_in_meters = roads_unclassified_residential.to_crs(epsg=32632)\n",
        "for name in names:\n",
        "  road = rodas_in_meters[rodas_in_meters.name==name]\n",
        "  road_lenght = road.length.sum()\n",
        "  roads_lenght[name] = road_lenght\n"
      ],
      "execution_count": 62,
      "outputs": []
    },
    {
      "cell_type": "code",
      "metadata": {
        "id": "ZBaoLmsvi8Tq",
        "outputId": "d5ed3a6d-e508-49dc-8967-9a4338514471",
        "colab": {
          "base_uri": "https://localhost:8080/",
          "height": 1000
        }
      },
      "source": [
        "roads_lenght"
      ],
      "execution_count": 63,
      "outputs": [
        {
          "output_type": "execute_result",
          "data": {
            "text/plain": [
              "{'Corso Giuseppe Mazzini': 249.7579935275893,\n",
              " 'Corso del Popolo': 235.021292582283,\n",
              " 'Località Galletta': 321.34567496289685,\n",
              " 'Località Rauti': 634.8241461600136,\n",
              " None: 0.0,\n",
              " 'Piazza Cassa di Risparmio': 101.69215459438668,\n",
              " 'Piazza Cesare Battisti': 103.70389536670257,\n",
              " 'Piazza Luigi Dalpiaz': 46.95951436559089,\n",
              " 'Piazza Pio XII': 244.72762778937602,\n",
              " 'Piazza San Giovanni': 243.40400521661013,\n",
              " 'Piazza della Chiesa': 123.76304437105432,\n",
              " 'Piazza delle Erbe': 331.4274049761924,\n",
              " 'Strada delle Palù': 144.0046947780986,\n",
              " 'Via Alessandro Manzoni': 144.3589083543954,\n",
              " 'Via Arturo De Varda': 274.9059635268403,\n",
              " 'Via Bertagnolli': 339.42906670938265,\n",
              " 'Via Camorzi': 125.38773228061129,\n",
              " 'Via Canevarie': 264.79016895271434,\n",
              " 'Via Carlo Devigili': 1410.4261234546225,\n",
              " 'Via Cavalleggeri Udine': 444.7088078668066,\n",
              " 'Via Conte Carlo Martini': 286.77891249144983,\n",
              " 'Via Cortalta': 65.66625197808622,\n",
              " 'Via Cristiani': 911.3802270676734,\n",
              " 'Via Damiano Chiesa': 1306.158838946422,\n",
              " 'Via Dante': 139.4356449287226,\n",
              " 'Via Dante Alighieri': 172.1078302300374,\n",
              " 'Via Desiderio Reich': 158.04743554343378,\n",
              " 'Via Don Sturzo': 613.5101545407463,\n",
              " 'Via Emanuele De Varda': 347.793341046712,\n",
              " 'Via F. De Panizza': 344.9144110890303,\n",
              " 'Via F. de Panizza': 130.29685773557736,\n",
              " 'Via Fabio Filzi': 45.59962863184364,\n",
              " 'Via Fornai': 620.1170060138757,\n",
              " 'Via Francesco Filos': 214.15027878229265,\n",
              " 'Via Francesco Morigl': 350.10828598223657,\n",
              " 'Via Francesco de Luca': 24.658289226374322,\n",
              " 'Via Frecce Tricolori': 240.73101365125157,\n",
              " 'Via Giorgio Perlasca': 280.08567472028597,\n",
              " 'Via Giosuè Carducci': 88.35894782185844,\n",
              " 'Via Giuseppe Garibaldi': 364.64660987602775,\n",
              " 'Via Guido Fiorini': 262.2489738895931,\n",
              " 'Via Luigi Endrizzi': 86.33641082608705,\n",
              " 'Via Milano': 428.4259989016257,\n",
              " 'Via Molini': 278.74884599160333,\n",
              " 'Via Riccardo Zandonai': 468.15764400181297,\n",
              " 'Via Roma': 242.00848353588032,\n",
              " 'Via Romedio De Scari': 80.7222654891916,\n",
              " 'Via Rotaliana': 392.53309350933915,\n",
              " 'Via San Francesco': 228.8846359443125,\n",
              " 'Via San Pietro': 57.05340435247324,\n",
              " 'Via San Vigilio': 310.2588856745822,\n",
              " \"Via Sant'Anna\": 128.52909522655204,\n",
              " \"Via Sant'Antonio\": 592.9004318778705,\n",
              " 'Via Taiti': 120.27197628265175,\n",
              " 'Via Trento': 1479.2922178941203,\n",
              " 'Via Trieste': 65.14682389765427,\n",
              " 'Via ai Dossi': 155.84109987644882,\n",
              " 'Via al Belvedere': 153.67873563612065,\n",
              " 'Via al Dòs Alt': 264.037016103423,\n",
              " 'Via alla Grotta': 237.58834165388737,\n",
              " 'Via alle Salézze': 96.88330190590919,\n",
              " 'Via degli Alpini': 223.48843236826917,\n",
              " 'Via dei Molini': 424.49770629326423,\n",
              " 'Via dei Morei': 945.8319323865237,\n",
              " 'Via dei Sentieri': 271.1617869705736,\n",
              " \"Via dell'artigianato\": 67.52635232503903,\n",
              " 'Via della Pineta': 592.003644670534,\n",
              " 'Via della Rupe': 657.2358490219722,\n",
              " \"Via di Pradonec'\": 216.50817938680152,\n",
              " 'Via fratelli de Panizza': 984.0269482876433,\n",
              " 'Viale Fenice': 125.4508309037719,\n",
              " 'Vicolo Pozzo': 97.97035804419028,\n",
              " 'Vicolo Scaletta': 41.34259167941211,\n",
              " 'Vicolo Travaion': 89.37189286431745}"
            ]
          },
          "metadata": {
            "tags": []
          },
          "execution_count": 63
        }
      ]
    },
    {
      "cell_type": "code",
      "metadata": {
        "id": "usY1Ulc4JuK3",
        "outputId": "b3dda90e-547f-4c54-ed00-56d9fffb230b",
        "colab": {
          "base_uri": "https://localhost:8080/",
          "height": 36
        }
      },
      "source": [
        "max(roads_lenght, key=roads_lenght.get)"
      ],
      "execution_count": 66,
      "outputs": [
        {
          "output_type": "execute_result",
          "data": {
            "application/vnd.google.colaboratory.intrinsic+json": {
              "type": "string"
            },
            "text/plain": [
              "'Via Trento'"
            ]
          },
          "metadata": {
            "tags": []
          },
          "execution_count": 66
        }
      ]
    },
    {
      "cell_type": "code",
      "metadata": {
        "id": "yAcqdWniOT1s"
      },
      "source": [
        "longest_road = max(roads_lenght, key=roads_lenght.get)"
      ],
      "execution_count": 67,
      "outputs": []
    },
    {
      "cell_type": "code",
      "metadata": {
        "id": "3_YyicLhOdnq",
        "outputId": "1c587fab-c115-4680-91a1-20fde0d2aaef",
        "colab": {
          "base_uri": "https://localhost:8080/",
          "height": 34
        }
      },
      "source": [
        "print(\"the longest road (unclassified + residential) in Mezzolombardo is %s and is long %s meters\" % (str(longest_road),roads_lenght[longest_road ]))"
      ],
      "execution_count": 69,
      "outputs": [
        {
          "output_type": "stream",
          "text": [
            "the longest road (unclassified + residential) in Mezzolombardo is Via Trento and is long 1479.2922178941203 meters\n"
          ],
          "name": "stdout"
        }
      ]
    },
    {
      "cell_type": "markdown",
      "metadata": {
        "id": "JLUgI4NiOp_N"
      },
      "source": [
        "## the case only with unclassified"
      ]
    },
    {
      "cell_type": "code",
      "metadata": {
        "id": "D_8HjAY7OSaT"
      },
      "source": [
        "roads_unclassified = roads[(roads.highway=='unclassified')] "
      ],
      "execution_count": 70,
      "outputs": []
    },
    {
      "cell_type": "code",
      "metadata": {
        "id": "RKQMUOPkPSew"
      },
      "source": [
        "names = roads_unclassified.name.unique()"
      ],
      "execution_count": 71,
      "outputs": []
    },
    {
      "cell_type": "code",
      "metadata": {
        "id": "bIszU8_uPW0g"
      },
      "source": [
        "roads_lenght = {}\n",
        "rodas_in_meters = roads_unclassified.to_crs(epsg=32632)\n",
        "for name in names:\n",
        "  road = rodas_in_meters[rodas_in_meters.name==name]\n",
        "  road_lenght = road.length.sum()\n",
        "  roads_lenght[name] = road_lenght"
      ],
      "execution_count": 72,
      "outputs": []
    },
    {
      "cell_type": "code",
      "metadata": {
        "id": "45ynpAdZPaRY"
      },
      "source": [
        "longest_road = max(roads_lenght, key=roads_lenght.get)"
      ],
      "execution_count": 73,
      "outputs": []
    },
    {
      "cell_type": "code",
      "metadata": {
        "id": "8SEdx7UdPgz4",
        "outputId": "df96916d-d98d-4d06-d36e-e90c827b97e8",
        "colab": {
          "base_uri": "https://localhost:8080/",
          "height": 34
        }
      },
      "source": [
        "print(\"the longest road (unclassified) is %s and is long %s meters\" % (str(longest_road),roads_lenght[longest_road ]))"
      ],
      "execution_count": 75,
      "outputs": [
        {
          "output_type": "stream",
          "text": [
            "the longest road (unclassified) is Via Trento and is long 1479.2922178941203 meters\n"
          ],
          "name": "stdout"
        }
      ]
    },
    {
      "cell_type": "markdown",
      "metadata": {
        "id": "U4TFsy6TPndn"
      },
      "source": [
        "## where is this road?\n",
        "... we can use overpass-turbo.eu with this wizard query\n",
        "\n",
        "```\n",
        "name='Via Trento' in Mezzolombardo\n",
        "```\n",
        "\n",
        "http://overpass-turbo.eu/s/Zkz\n",
        "\n",
        "![](https://github.com/napo/geospatial_course_unitn/raw/master/images/roads_lenght_mezzolombardo.gif)"
      ]
    },
    {
      "cell_type": "markdown",
      "metadata": {
        "id": "kgVac50IVZ_D"
      },
      "source": [
        "# How many drinking water are in this city?"
      ]
    },
    {
      "cell_type": "code",
      "metadata": {
        "id": "ODo4kNhBVwiu"
      },
      "source": [
        "custom_filter = {'amenity': ['drinking_water']}"
      ],
      "execution_count": 78,
      "outputs": []
    },
    {
      "cell_type": "code",
      "metadata": {
        "id": "eAuIHt8IVqUq"
      },
      "source": [
        "drinking_water = osm.get_pois(custom_filter=custom_filter)"
      ],
      "execution_count": 79,
      "outputs": []
    },
    {
      "cell_type": "code",
      "metadata": {
        "id": "VXYoah7HWF2d",
        "outputId": "5112b5f8-ca09-4a71-f4ef-7297467d8ea1",
        "colab": {
          "base_uri": "https://localhost:8080/",
          "height": 34
        }
      },
      "source": [
        "drinking_water.amenity.unique()"
      ],
      "execution_count": 80,
      "outputs": [
        {
          "output_type": "execute_result",
          "data": {
            "text/plain": [
              "array(['drinking_water'], dtype=object)"
            ]
          },
          "metadata": {
            "tags": []
          },
          "execution_count": 80
        }
      ]
    },
    {
      "cell_type": "code",
      "metadata": {
        "id": "fJHR4M7kWpKI",
        "outputId": "956eaf87-d8ae-4597-8c49-21350a84342e",
        "colab": {
          "base_uri": "https://localhost:8080/",
          "height": 34
        }
      },
      "source": [
        "drinking_water.shape"
      ],
      "execution_count": 81,
      "outputs": [
        {
          "output_type": "execute_result",
          "data": {
            "text/plain": [
              "(29, 12)"
            ]
          },
          "metadata": {
            "tags": []
          },
          "execution_count": 81
        }
      ]
    },
    {
      "cell_type": "code",
      "metadata": {
        "id": "Q3nC9mN2koUp",
        "outputId": "ff5fc080-7a76-467f-ad5d-d44e41ccd20f",
        "colab": {
          "base_uri": "https://localhost:8080/",
          "height": 175
        }
      },
      "source": [
        "drinking_water.head(4)"
      ],
      "execution_count": 82,
      "outputs": [
        {
          "output_type": "execute_result",
          "data": {
            "text/html": [
              "<div>\n",
              "<style scoped>\n",
              "    .dataframe tbody tr th:only-of-type {\n",
              "        vertical-align: middle;\n",
              "    }\n",
              "\n",
              "    .dataframe tbody tr th {\n",
              "        vertical-align: top;\n",
              "    }\n",
              "\n",
              "    .dataframe thead th {\n",
              "        text-align: right;\n",
              "    }\n",
              "</style>\n",
              "<table border=\"1\" class=\"dataframe\">\n",
              "  <thead>\n",
              "    <tr style=\"text-align: right;\">\n",
              "      <th></th>\n",
              "      <th>tags</th>\n",
              "      <th>lat</th>\n",
              "      <th>id</th>\n",
              "      <th>lon</th>\n",
              "      <th>version</th>\n",
              "      <th>changeset</th>\n",
              "      <th>timestamp</th>\n",
              "      <th>name</th>\n",
              "      <th>amenity</th>\n",
              "      <th>drinking_water</th>\n",
              "      <th>geometry</th>\n",
              "      <th>osm_type</th>\n",
              "    </tr>\n",
              "  </thead>\n",
              "  <tbody>\n",
              "    <tr>\n",
              "      <th>0</th>\n",
              "      <td>None</td>\n",
              "      <td>46.214466</td>\n",
              "      <td>388393249</td>\n",
              "      <td>11.113433</td>\n",
              "      <td>67</td>\n",
              "      <td>67</td>\n",
              "      <td>67</td>\n",
              "      <td>None</td>\n",
              "      <td>drinking_water</td>\n",
              "      <td>None</td>\n",
              "      <td>POINT (11.11343 46.21447)</td>\n",
              "      <td>node</td>\n",
              "    </tr>\n",
              "    <tr>\n",
              "      <th>1</th>\n",
              "      <td>None</td>\n",
              "      <td>46.217033</td>\n",
              "      <td>388393322</td>\n",
              "      <td>11.108165</td>\n",
              "      <td>0</td>\n",
              "      <td>0</td>\n",
              "      <td>0</td>\n",
              "      <td>None</td>\n",
              "      <td>drinking_water</td>\n",
              "      <td>None</td>\n",
              "      <td>POINT (11.10816 46.21703)</td>\n",
              "      <td>node</td>\n",
              "    </tr>\n",
              "    <tr>\n",
              "      <th>2</th>\n",
              "      <td>None</td>\n",
              "      <td>46.216507</td>\n",
              "      <td>388393381</td>\n",
              "      <td>11.118232</td>\n",
              "      <td>-112</td>\n",
              "      <td>-128</td>\n",
              "      <td>-128</td>\n",
              "      <td>None</td>\n",
              "      <td>drinking_water</td>\n",
              "      <td>None</td>\n",
              "      <td>POINT (11.11823 46.21651)</td>\n",
              "      <td>node</td>\n",
              "    </tr>\n",
              "    <tr>\n",
              "      <th>3</th>\n",
              "      <td>None</td>\n",
              "      <td>46.225494</td>\n",
              "      <td>388416004</td>\n",
              "      <td>11.092862</td>\n",
              "      <td>0</td>\n",
              "      <td>0</td>\n",
              "      <td>0</td>\n",
              "      <td>None</td>\n",
              "      <td>drinking_water</td>\n",
              "      <td>None</td>\n",
              "      <td>POINT (11.09286 46.22549)</td>\n",
              "      <td>node</td>\n",
              "    </tr>\n",
              "  </tbody>\n",
              "</table>\n",
              "</div>"
            ],
            "text/plain": [
              "   tags        lat  ...                   geometry  osm_type\n",
              "0  None  46.214466  ...  POINT (11.11343 46.21447)      node\n",
              "1  None  46.217033  ...  POINT (11.10816 46.21703)      node\n",
              "2  None  46.216507  ...  POINT (11.11823 46.21651)      node\n",
              "3  None  46.225494  ...  POINT (11.09286 46.22549)      node\n",
              "\n",
              "[4 rows x 12 columns]"
            ]
          },
          "metadata": {
            "tags": []
          },
          "execution_count": 82
        }
      ]
    },
    {
      "cell_type": "code",
      "metadata": {
        "id": "Y6VoAsbvWxKl",
        "outputId": "f0138fbd-17dd-4f69-c001-bc05764c111d",
        "colab": {
          "base_uri": "https://localhost:8080/",
          "height": 282
        }
      },
      "source": [
        "drinking_water.plot()"
      ],
      "execution_count": 83,
      "outputs": [
        {
          "output_type": "execute_result",
          "data": {
            "text/plain": [
              "<matplotlib.axes._subplots.AxesSubplot at 0x7fb8ff830e10>"
            ]
          },
          "metadata": {
            "tags": []
          },
          "execution_count": 83
        },
        {
          "output_type": "display_data",
          "data": {
            "image/png": "[encoded data removed]",
            "text/plain": [
              "<Figure size 432x288 with 1 Axes>"
            ]
          },
          "metadata": {
            "tags": [],
            "needs_background": "light"
          }
        }
      ]
    },
    {
      "cell_type": "markdown",
      "metadata": {
        "id": "QEw01-fZVdlq"
      },
      "source": [
        "# How many benches in this city have the backrest?"
      ]
    },
    {
      "cell_type": "code",
      "metadata": {
        "id": "NROydQTIW3i-"
      },
      "source": [
        "custom_filter = {'amenity': ['bench']}"
      ],
      "execution_count": 84,
      "outputs": []
    },
    {
      "cell_type": "code",
      "metadata": {
        "id": "a3y_dyV1XEGa"
      },
      "source": [
        "benchs = osm.get_pois(custom_filter=custom_filter)"
      ],
      "execution_count": 85,
      "outputs": []
    },
    {
      "cell_type": "code",
      "metadata": {
        "id": "b5Ob9_JaXGfy",
        "outputId": "78c12d10-d5bd-4ac7-f4ae-6703fa2abc5e",
        "colab": {
          "base_uri": "https://localhost:8080/",
          "height": 34
        }
      },
      "source": [
        "benchs.shape"
      ],
      "execution_count": 86,
      "outputs": [
        {
          "output_type": "execute_result",
          "data": {
            "text/plain": [
              "(132, 10)"
            ]
          },
          "metadata": {
            "tags": []
          },
          "execution_count": 86
        }
      ]
    },
    {
      "cell_type": "code",
      "metadata": {
        "id": "ib5BV_tdprBD",
        "outputId": "4b74d2f8-b1b3-461c-e4c3-a501b7879545",
        "colab": {
          "base_uri": "https://localhost:8080/",
          "height": 69
        }
      },
      "source": [
        "benchs.columns"
      ],
      "execution_count": 87,
      "outputs": [
        {
          "output_type": "execute_result",
          "data": {
            "text/plain": [
              "Index(['tags', 'lat', 'id', 'lon', 'version', 'changeset', 'timestamp',\n",
              "       'amenity', 'geometry', 'osm_type'],\n",
              "      dtype='object')"
            ]
          },
          "metadata": {
            "tags": []
          },
          "execution_count": 87
        }
      ]
    },
    {
      "cell_type": "code",
      "metadata": {
        "id": "1C38JkAwpt2T",
        "outputId": "c0b84623-63da-41eb-9206-77e123d0ef95",
        "colab": {
          "base_uri": "https://localhost:8080/",
          "height": 121
        }
      },
      "source": [
        "benchs.tags.unique()"
      ],
      "execution_count": 90,
      "outputs": [
        {
          "output_type": "execute_result",
          "data": {
            "text/plain": [
              "array(['{\"backrest\":\"yes\"}', '{\"backrest\":\"no\"}',\n",
              "       '{\"backrest\":\"yes\",\"material\":\"metal\",\"seats\":\"2\"}',\n",
              "       '{\"colour\":\"brown\",\"backrest\":\"no\",\"material\":\"wood\"}',\n",
              "       '{\"seats\":\"5\",\"backrest\":\"yes\"}', '{\"seats\":\"4\",\"backrest\":\"yes\"}',\n",
              "       None, '{\"backrest\":\"yes\",\"material\":\"wood\"}',\n",
              "       '{\"backrest\":\"yes\",\"material\":\"metal\",\"seats\":\"6\"}'], dtype=object)"
            ]
          },
          "metadata": {
            "tags": []
          },
          "execution_count": 90
        }
      ]
    },
    {
      "cell_type": "markdown",
      "metadata": {
        "id": "zC0cIohZp7Lb"
      },
      "source": [
        "quick&dirty solution"
      ]
    },
    {
      "cell_type": "code",
      "metadata": {
        "id": "WEI6O8AWsad-"
      },
      "source": [
        "benchs_with_backrest = benchs[benchs.tags.str.find('\"backrest\":\"yes\"') > -1]"
      ],
      "execution_count": 124,
      "outputs": []
    },
    {
      "cell_type": "code",
      "metadata": {
        "id": "W40XmHjUs5N8",
        "outputId": "16f64fca-2daf-446d-8909-f3b31ceddc52",
        "colab": {
          "base_uri": "https://localhost:8080/",
          "height": 104
        }
      },
      "source": [
        "benchs_with_backrest.tags.unique()"
      ],
      "execution_count": 127,
      "outputs": [
        {
          "output_type": "execute_result",
          "data": {
            "text/plain": [
              "array(['{\"backrest\":\"yes\"}',\n",
              "       '{\"backrest\":\"yes\",\"material\":\"metal\",\"seats\":\"2\"}',\n",
              "       '{\"seats\":\"5\",\"backrest\":\"yes\"}', '{\"seats\":\"4\",\"backrest\":\"yes\"}',\n",
              "       '{\"backrest\":\"yes\",\"material\":\"wood\"}',\n",
              "       '{\"backrest\":\"yes\",\"material\":\"metal\",\"seats\":\"6\"}'], dtype=object)"
            ]
          },
          "metadata": {
            "tags": []
          },
          "execution_count": 127
        }
      ]
    },
    {
      "cell_type": "code",
      "metadata": {
        "id": "AS2bSJYKsgUS",
        "outputId": "836eb732-50e0-4e64-bdaa-b062795b632a",
        "colab": {
          "base_uri": "https://localhost:8080/",
          "height": 34
        }
      },
      "source": [
        "benchs_with_backrest.shape"
      ],
      "execution_count": 125,
      "outputs": [
        {
          "output_type": "execute_result",
          "data": {
            "text/plain": [
              "(103, 10)"
            ]
          },
          "metadata": {
            "tags": []
          },
          "execution_count": 125
        }
      ]
    },
    {
      "cell_type": "code",
      "metadata": {
        "id": "sZCCmQKjta2W",
        "outputId": "d1c5230e-d778-4224-bfdf-ed92357154d1",
        "colab": {
          "base_uri": "https://localhost:8080/",
          "height": 34
        }
      },
      "source": [
        "print(\"the total of benchs tagged with the presence of a backrest is %s\" % (str(benchs_with_backrest.shape[0])))"
      ],
      "execution_count": 131,
      "outputs": [
        {
          "output_type": "stream",
          "text": [
            "the total of benchs tagged with the presence of a backrest is 103\n"
          ],
          "name": "stdout"
        }
      ]
    }
  ]
}