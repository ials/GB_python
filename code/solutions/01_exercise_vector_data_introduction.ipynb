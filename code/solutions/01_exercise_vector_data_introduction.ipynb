{
  "nbformat": 4,
  "nbformat_minor": 2,
  "metadata": {
    "colab": {
      "name": "01_exercise_vector_data_introduction.ipynb",
      "provenance": [],
      "collapsed_sections": [
        "9T1Sft2nHpK8",
        "gNWFco5RSlpo"
      ],
      "toc_visible": true
    },
    "kernelspec": {
      "name": "python3",
      "display_name": "Python 3.9.5 64-bit"
    },
    "language_info": {
      "name": "python",
      "version": "3.9.5",
      "mimetype": "text/x-python",
      "codemirror_mode": {
        "name": "ipython",
        "version": 3
      },
      "pygments_lexer": "ipython3",
      "nbconvert_exporter": "python",
      "file_extension": ".py"
    },
    "interpreter": {
      "hash": "e7370f93d1d0cde622a1f8e1c04877d8463912d04d973331ad4851f04de6915a"
    }
  },
  "cells": [
    {
      "cell_type": "markdown",
      "source": [
        "# Setup"
      ],
      "metadata": {
        "id": "T6-YLqx4OCrj"
      }
    },
    {
      "cell_type": "code",
      "execution_count": null,
      "source": [
        "try:\n",
        "  import geopandas as gpd\n",
        "except ModuleNotFoundError as e:\n",
        "  !pip install geopandas==0.10.0\n",
        "  import geopandas as gpd\n",
        "  if gpd.__version__ != \"0.10.0\":\n",
        "    !pip install -U geopandas==0.10.0"
      ],
      "outputs": [],
      "metadata": {
        "id": "hlP03EfNHGeb"
      }
    },
    {
      "cell_type": "markdown",
      "source": [
        "---\n",
        "\n",
        "# Exercise\n",
        "1. load the shapefile of ISTAT with the information of the provinces\n",
        " - filter it for an italian provice at your choice (eg. Trento)\n",
        " - plot it\n",
        "2. load the shapefile of ISTAT with the informations of the muncipalities\n",
        " - identify the cities of the province selected with the biggest and smallest area\n",
        " - extract all the centroids of the areas expressed in WGS84\n",
        " - select all the muncipalities of the Province of Trento\n",
        " - extract a representative point for the area of each municipality converted in WGS84<br/>suggestion: *.representative_point()*\n",
        " - save the points in a GeoJSON file\n",
        " - calculate the distance on the geodentic between the municipality with the big area and smallest area by using the centroid\n",
        "3. download the shapefile of the [lakes and bodies of water](https://github.com/napo/geospatial_course_unitn/raw/master/data/trentino/lakes_bodies_of_water_trentino.zip) of Trentino\n",
        " - plot the geometries where Fktuso is “02”\n",
        " - convert in WGS84 and create a geojson\n",
        "   \n",
        "   note: projection Monte Mario zone 1\n",
        "\n",
        "\n",
        "---"
      ],
      "metadata": {
        "id": "9T1Sft2nHpK8"
      }
    },
    {
      "cell_type": "markdown",
      "source": [
        "# Solutions\n",
        "\n",
        "## learning objectives\n",
        "* repeat the concepts on the previous lesson\n",
        "* introduce geopackage\n",
        "* centroid vs representative point"
      ],
      "metadata": {
        "id": "r2J9dbENPJND"
      }
    },
    {
      "cell_type": "markdown",
      "source": [
        "--- \n",
        "\n",
        "### Import of the packages"
      ],
      "metadata": {
        "id": "3fk_8ro1RUbo"
      }
    },
    {
      "cell_type": "code",
      "execution_count": 4,
      "source": [
        "import geopandas as gpd\n",
        "import os\n",
        "import requests\n",
        "import matplotlib.pyplot as plt\n",
        "import pandas as pd\n",
        "pd.options.mode.chained_assignment = None"
      ],
      "outputs": [],
      "metadata": {
        "id": "bFmuagH7H4lZ"
      }
    },
    {
      "cell_type": "markdown",
      "source": [
        "## 1. load the shapefile of ISTAT with the information of the provinces\n",
        "\n",
        "### This request is replaced with the use of geopackage\n",
        "\n",
        "In the course material a geopackage file is available with all the shapefiles of the administrative limits of ISTAT (2021) with generalized geometries\n",
        "\n",
        "[download](https://github.com/napo/geospatial_course_unitn/raw/master/data/administrative_units_italy_2021/istat_administrative_units_2021.gpkg) the file *istat_administrative_units_generalized_2021.gpkg* from the repository from \n",
        "directory \"data\""
      ],
      "metadata": {
        "id": "kP_05UmNVWWj"
      }
    },
    {
      "cell_type": "code",
      "execution_count": 5,
      "source": [
        "url = 'https://github.com/napo/geospatial_course_unitn/raw/master/data/istat_administrative_units_generalized_2021/istat_administrative_units_generalized_2021.gpkg'"
      ],
      "outputs": [],
      "metadata": {
        "id": "RWje98iX3dTo"
      }
    },
    {
      "cell_type": "code",
      "execution_count": 6,
      "source": [
        "r = requests.get(url, allow_redirects=True)\n",
        "open('istat_administrative_units_generalized_2021.gpkg', 'wb').write(r.content)"
      ],
      "outputs": [
        {
          "output_type": "execute_result",
          "data": {
            "text/plain": [
              "42049536"
            ]
          },
          "metadata": {},
          "execution_count": 6
        }
      ],
      "metadata": {
        "colab": {
          "base_uri": "https://localhost:8080/"
        },
        "id": "cdHsCvOThs8P",
        "outputId": "dcde86c0-fd4d-4e3b-d604-fdd0f423476a"
      }
    },
    {
      "cell_type": "markdown",
      "source": [
        "### Geopackage\n",
        "![](https://www.ogc.org/pub/www/files/blog/Geopackage_layers.png)\n",
        "\n",
        "[GeoPackage](http://opengeospatial.github.io/e-learning/geopackage/text/basic-index.html) is used for storing and accessing:\n",
        "* Vector feature data\n",
        "* Imagery tile matrix sets\n",
        "* Raster map tile matrix sets\n",
        "* non-spatial tabular data\n",
        "* Metadata that describes other stored data\n",
        "\n",
        "To have a look at the structure of the files, download the files and open them using the basic SQLite3 command-line utility.\n",
        "\n",
        "```\n",
        "sqlite3 istat_administrative_units_generalized_2021.gpkg\n",
        "```\n",
        "```\n",
        "SQLite version 3.34.1 2021-01-20 14:10:07\n",
        "Enter \".help\" for usage hints.\n",
        "sqlite> .table\n",
        "```\n",
        "```\n",
        "gpkg_contents                     rtree_macroregions_geom_rowid   \n",
        "gpkg_extensions                   rtree_municipalities_geom       \n",
        "gpkg_geometry_columns             rtree_municipalities_geom_node  \n",
        "gpkg_ogr_contents                 rtree_municipalities_geom_parent\n",
        "gpkg_spatial_ref_sys              rtree_municipalities_geom_rowid \n",
        "gpkg_tile_matrix                  rtree_provincies_geom           \n",
        "gpkg_tile_matrix_set              rtree_provincies_geom_node      \n",
        "macroregions                      rtree_provincies_geom_parent    \n",
        "municipalities                    rtree_provincies_geom_rowid     \n",
        "provincies                        rtree_regions_geom              \n",
        "regions                           rtree_regions_geom_node         \n",
        "rtree_macroregions_geom           rtree_regions_geom_parent       \n",
        "rtree_macroregions_geom_node      rtree_regions_geom_rowid        \n",
        "rtree_macroregions_geom_parent \n",
        "```\n",
        "```\n",
        "sqlite> .header on\n",
        "```\n",
        "\n",
        "\n",
        "```\n",
        "sqlite> select * from macroregions;\n",
        "```\n",
        "```\n",
        "fid|geom|COD_RIP|DEN_RIP\n",
        "1|GP|1|Nord-Ovest\n",
        "2|GP|2|Nord-Est\n",
        "3|GP|3|Centro\n",
        "4|GP|4|Sud\n",
        "5|GP|5|Isole\n",
        "```\n",
        "```\n",
        "sqlite> .q\n",
        "```"
      ],
      "metadata": {
        "id": "gNWFco5RSlpo"
      }
    },
    {
      "cell_type": "markdown",
      "source": [
        "Geopandas can manage geopackage by using [fiona](https://github.com/Toblerity/Fiona)"
      ],
      "metadata": {
        "id": "gTbuN8zPT7KU"
      }
    },
    {
      "cell_type": "code",
      "execution_count": 7,
      "source": [
        "import fiona"
      ],
      "outputs": [],
      "metadata": {
        "id": "Cf37VTckXGso"
      }
    },
    {
      "cell_type": "code",
      "execution_count": 8,
      "source": [
        "fiona.supported_drivers"
      ],
      "outputs": [
        {
          "output_type": "execute_result",
          "data": {
            "text/plain": [
              "{'AeronavFAA': 'r',\n",
              " 'ARCGEN': 'r',\n",
              " 'BNA': 'rw',\n",
              " 'DXF': 'rw',\n",
              " 'CSV': 'raw',\n",
              " 'OpenFileGDB': 'r',\n",
              " 'ESRIJSON': 'r',\n",
              " 'ESRI Shapefile': 'raw',\n",
              " 'FlatGeobuf': 'rw',\n",
              " 'GeoJSON': 'raw',\n",
              " 'GeoJSONSeq': 'rw',\n",
              " 'GPKG': 'raw',\n",
              " 'GML': 'rw',\n",
              " 'OGR_GMT': 'rw',\n",
              " 'GPX': 'rw',\n",
              " 'GPSTrackMaker': 'rw',\n",
              " 'Idrisi': 'r',\n",
              " 'MapInfo File': 'raw',\n",
              " 'DGN': 'raw',\n",
              " 'OGR_PDS': 'r',\n",
              " 'S57': 'r',\n",
              " 'SEGY': 'r',\n",
              " 'SUA': 'r',\n",
              " 'TopoJSON': 'r'}"
            ]
          },
          "metadata": {},
          "execution_count": 8
        }
      ],
      "metadata": {
        "id": "igu8jGNSURc8",
        "colab": {
          "base_uri": "https://localhost:8080/"
        },
        "outputId": "cf8e06cc-7218-412a-af6d-c892f768c61d"
      }
    },
    {
      "cell_type": "markdown",
      "source": [
        "```\n",
        "'GPKG': 'raw',\n",
        "```\n",
        "**raw** => **r**ead **a**ppend **w**rite\n",
        "\n",
        "geopandas can:\n",
        "* **r**ead *geopackage* files\n",
        "* **a**append data to a *geopackage* file\n",
        "* **w**rite data to a *geopackage* file"
      ],
      "metadata": {
        "id": "zmEbOUq1UXVS"
      }
    },
    {
      "cell_type": "markdown",
      "source": [
        "geopackage can store more layers, so we have to investigate the contents"
      ],
      "metadata": {
        "id": "NYsMWOMmVM03"
      }
    },
    {
      "cell_type": "code",
      "execution_count": 9,
      "source": [
        "fiona.listlayers('istat_administrative_units_generalized_2021.gpkg')"
      ],
      "outputs": [
        {
          "output_type": "execute_result",
          "data": {
            "text/plain": [
              "['municipalities', 'provincies', 'regions', 'macroregions']"
            ]
          },
          "metadata": {},
          "execution_count": 9
        }
      ],
      "metadata": {
        "id": "wpSZ5tBIXB47",
        "colab": {
          "base_uri": "https://localhost:8080/"
        },
        "outputId": "4b535eb3-3be8-48ba-e475-d6f71e444b0a"
      }
    },
    {
      "cell_type": "code",
      "execution_count": 10,
      "source": [
        "provincies = gpd.read_file(\"istat_administrative_units_generalized_2021.gpkg\",layer=\"provincies\")"
      ],
      "outputs": [],
      "metadata": {
        "id": "a3qnyANlWbyD"
      }
    },
    {
      "cell_type": "markdown",
      "source": [
        "*TIP*: you can also download the file directly from geopandas with this function"
      ],
      "metadata": {
        "id": "oAK_mXvi_4oP"
      }
    },
    {
      "cell_type": "code",
      "execution_count": 11,
      "source": [
        "provincies = gpd.read_file(url,layer=\"provincies\")"
      ],
      "outputs": [],
      "metadata": {
        "id": "lobH1r9w_tk0"
      }
    },
    {
      "cell_type": "code",
      "execution_count": 12,
      "source": [
        "provincies.head(3)"
      ],
      "outputs": [
        {
          "output_type": "execute_result",
          "data": {
            "text/html": [
              "<div>\n",
              "<style scoped>\n",
              "    .dataframe tbody tr th:only-of-type {\n",
              "        vertical-align: middle;\n",
              "    }\n",
              "\n",
              "    .dataframe tbody tr th {\n",
              "        vertical-align: top;\n",
              "    }\n",
              "\n",
              "    .dataframe thead th {\n",
              "        text-align: right;\n",
              "    }\n",
              "</style>\n",
              "<table border=\"1\" class=\"dataframe\">\n",
              "  <thead>\n",
              "    <tr style=\"text-align: right;\">\n",
              "      <th></th>\n",
              "      <th>COD_RIP</th>\n",
              "      <th>COD_REG</th>\n",
              "      <th>COD_PROV</th>\n",
              "      <th>COD_CM</th>\n",
              "      <th>COD_UTS</th>\n",
              "      <th>DEN_PROV</th>\n",
              "      <th>DEN_CM</th>\n",
              "      <th>DEN_UTS</th>\n",
              "      <th>SIGLA</th>\n",
              "      <th>TIPO_UTS</th>\n",
              "      <th>geometry</th>\n",
              "    </tr>\n",
              "  </thead>\n",
              "  <tbody>\n",
              "    <tr>\n",
              "      <th>0</th>\n",
              "      <td>1</td>\n",
              "      <td>1</td>\n",
              "      <td>1</td>\n",
              "      <td>201</td>\n",
              "      <td>201</td>\n",
              "      <td>-</td>\n",
              "      <td>Torino</td>\n",
              "      <td>Torino</td>\n",
              "      <td>TO</td>\n",
              "      <td>Citta metropolitana</td>\n",
              "      <td>MULTIPOLYGON (((411015.006 5049970.983, 411266...</td>\n",
              "    </tr>\n",
              "    <tr>\n",
              "      <th>1</th>\n",
              "      <td>1</td>\n",
              "      <td>1</td>\n",
              "      <td>2</td>\n",
              "      <td>0</td>\n",
              "      <td>2</td>\n",
              "      <td>Vercelli</td>\n",
              "      <td>-</td>\n",
              "      <td>Vercelli</td>\n",
              "      <td>VC</td>\n",
              "      <td>Provincia</td>\n",
              "      <td>MULTIPOLYGON (((438328.612 5087208.215, 439028...</td>\n",
              "    </tr>\n",
              "    <tr>\n",
              "      <th>2</th>\n",
              "      <td>1</td>\n",
              "      <td>1</td>\n",
              "      <td>3</td>\n",
              "      <td>0</td>\n",
              "      <td>3</td>\n",
              "      <td>Novara</td>\n",
              "      <td>-</td>\n",
              "      <td>Novara</td>\n",
              "      <td>NO</td>\n",
              "      <td>Provincia</td>\n",
              "      <td>MULTIPOLYGON (((460929.542 5076320.298, 461165...</td>\n",
              "    </tr>\n",
              "  </tbody>\n",
              "</table>\n",
              "</div>"
            ],
            "text/plain": [
              "   COD_RIP  COD_REG  COD_PROV  COD_CM  COD_UTS  DEN_PROV  DEN_CM   DEN_UTS  \\\n",
              "0        1        1         1     201      201         -  Torino    Torino   \n",
              "1        1        1         2       0        2  Vercelli       -  Vercelli   \n",
              "2        1        1         3       0        3    Novara       -    Novara   \n",
              "\n",
              "  SIGLA             TIPO_UTS  \\\n",
              "0    TO  Citta metropolitana   \n",
              "1    VC            Provincia   \n",
              "2    NO            Provincia   \n",
              "\n",
              "                                            geometry  \n",
              "0  MULTIPOLYGON (((411015.006 5049970.983, 411266...  \n",
              "1  MULTIPOLYGON (((438328.612 5087208.215, 439028...  \n",
              "2  MULTIPOLYGON (((460929.542 5076320.298, 461165...  "
            ]
          },
          "metadata": {},
          "execution_count": 12
        }
      ],
      "metadata": {
        "id": "gcHUE-7VWqaY",
        "colab": {
          "base_uri": "https://localhost:8080/",
          "height": 0
        },
        "outputId": "237f1a1c-5d38-41d6-ef8d-41e188a83a62"
      }
    },
    {
      "cell_type": "code",
      "execution_count": 13,
      "source": [
        "provincies.columns"
      ],
      "outputs": [
        {
          "output_type": "execute_result",
          "data": {
            "text/plain": [
              "Index(['COD_RIP', 'COD_REG', 'COD_PROV', 'COD_CM', 'COD_UTS', 'DEN_PROV',\n",
              "       'DEN_CM', 'DEN_UTS', 'SIGLA', 'TIPO_UTS', 'geometry'],\n",
              "      dtype='object')"
            ]
          },
          "metadata": {},
          "execution_count": 13
        }
      ],
      "metadata": {
        "id": "i1MtGFC0VvQu",
        "colab": {
          "base_uri": "https://localhost:8080/"
        },
        "outputId": "6fdd4daa-1706-4a4e-f006-902c7e3f494d"
      }
    },
    {
      "cell_type": "markdown",
      "source": [
        "**COD_RIP**<br/>\n",
        "*codice ripartizione*<br/>\n",
        "numeric code of the macroregion of belonging\n",
        "\n",
        "**COD_REG**<br/>\n",
        "*codice regione*<br/>\n",
        "numeric code of the region of belonging\n",
        "\n",
        "**COD_PROV**<br/>\n",
        "*codice provincia*<br/>\n",
        "numeric code of the region of belonging\n",
        "\n",
        "**COD_CM**<br/>\n",
        "*codice comune*<br/>\n",
        "Istat code of the metropolitan city (three characters in\n",
        "reference to all official statistics are\n",
        "numeric format) obtained by adding the value 200 to\n",
        "adopted the statistical codes of the cities\n",
        "corresponding code of the province.\n",
        "\n",
        "**COD_UTS**<br/>\n",
        "*codice unità territoriali sovracomunali*<br/>\n",
        "Numeric code that uniquely identifies the Units\n",
        "territorial supra-municipal on the national territory.\n",
        "\n",
        "**DEN_PROV**<br/>\n",
        "*denominazione provincia*<br/>\n",
        "name of the province\n",
        "\n",
        "**DEN_CM**<br/>\n",
        "*denominazione città metropolitana*<br/>\n",
        "name of the metropolitan city\n",
        "\n",
        "**DEN_UTS**<br/>\n",
        "*denominazione unità territoriale sovracomunale*<br/>\n",
        "Denomination of the supra-municipal territorial units.\n",
        "\n",
        "**SIGLA**<br/>\n",
        "*sigla*<br/>\n",
        "abbreviation\n",
        "\n",
        "**TIPO_UTS**<br/>\n",
        "*tipologia unità territoriale sovracomunale*<br/>\n",
        "kind of supra-municipal territorial units.\n",
        "\n"
      ],
      "metadata": {
        "id": "9dv1SuJKVsgl"
      }
    },
    {
      "cell_type": "markdown",
      "source": [
        "### filter it for an italian provice at your choice (eg. Trento)\n",
        "\n",
        "obtain the list of all the provincies"
      ],
      "metadata": {
        "id": "k3c2DpbwXVwp"
      }
    },
    {
      "cell_type": "code",
      "execution_count": 14,
      "source": [
        "provincies['DEN_PROV'].unique()"
      ],
      "outputs": [
        {
          "output_type": "execute_result",
          "data": {
            "text/plain": [
              "array(['-', 'Vercelli', 'Novara', 'Cuneo', 'Asti', 'Alessandria', 'Aosta',\n",
              "       'Imperia', 'Savona', 'La Spezia', 'Varese', 'Como', 'Sondrio',\n",
              "       'Bergamo', 'Brescia', 'Pavia', 'Cremona', 'Mantova', 'Bolzano',\n",
              "       'Trento', 'Verona', 'Vicenza', 'Belluno', 'Treviso', 'Padova',\n",
              "       'Rovigo', 'Udine', 'Gorizia', 'Trieste', 'Piacenza', 'Parma',\n",
              "       \"Reggio nell'Emilia\", 'Modena', 'Ferrara', 'Ravenna',\n",
              "       \"Forli'-Cesena\", 'Pesaro e Urbino', 'Ancona', 'Macerata',\n",
              "       'Ascoli Piceno', 'Massa Carrara', 'Lucca', 'Pistoia', 'Livorno',\n",
              "       'Pisa', 'Arezzo', 'Siena', 'Grosseto', 'Perugia', 'Terni',\n",
              "       'Viterbo', 'Rieti', 'Latina', 'Frosinone', 'Caserta', 'Benevento',\n",
              "       'Avellino', 'Salerno', \"L'Aquila\", 'Teramo', 'Pescara', 'Chieti',\n",
              "       'Campobasso', 'Foggia', 'Taranto', 'Brindisi', 'Lecce', 'Potenza',\n",
              "       'Matera', 'Cosenza', 'Catanzaro', 'Trapani', 'Agrigento',\n",
              "       'Caltanissetta', 'Enna', 'Ragusa', 'Siracusa', 'Sassari', 'Nuoro',\n",
              "       'Pordenone', 'Isernia', 'Oristano', 'Biella', 'Lecco', 'Lodi',\n",
              "       'Rimini', 'Prato', 'Crotone', 'Vibo Valentia',\n",
              "       'Verbano-Cusio-Ossola', 'Monza e della Brianza', 'Fermo',\n",
              "       'Barletta-Andria-Trani', 'Sud Sardegna'], dtype=object)"
            ]
          },
          "metadata": {},
          "execution_count": 14
        }
      ],
      "metadata": {
        "colab": {
          "base_uri": "https://localhost:8080/"
        },
        "id": "nAivKuiMALan",
        "outputId": "1d1e2cc1-8382-41c6-8e52-69ac44abc632"
      }
    },
    {
      "cell_type": "markdown",
      "source": [
        "obtain the list of all the metropolitan ciies"
      ],
      "metadata": {
        "id": "3xadwHnaAnD1"
      }
    },
    {
      "cell_type": "code",
      "execution_count": 15,
      "source": [
        "provincies.DEN_CM.unique()"
      ],
      "outputs": [
        {
          "output_type": "execute_result",
          "data": {
            "text/plain": [
              "array(['Torino', '-', 'Genova', 'Milano', 'Venezia', 'Bologna', 'Firenze',\n",
              "       'Roma', 'Napoli', 'Bari', 'Reggio di Calabria', 'Palermo',\n",
              "       'Messina', 'Catania', 'Cagliari'], dtype=object)"
            ]
          },
          "metadata": {},
          "execution_count": 15
        }
      ],
      "metadata": {
        "colab": {
          "base_uri": "https://localhost:8080/"
        },
        "id": "T8nPq64OAtmJ",
        "outputId": "bffec6db-4cac-4949-ed85-45444a2d15de"
      }
    },
    {
      "cell_type": "markdown",
      "source": [
        "choose the province of Trento"
      ],
      "metadata": {
        "id": "gdaz8GslA6Q8"
      }
    },
    {
      "cell_type": "code",
      "execution_count": 16,
      "source": [
        "province_of_trento = provincies[provincies['DEN_PROV']=='Trento']"
      ],
      "outputs": [],
      "metadata": {
        "id": "btDGt41ZIeGO"
      }
    },
    {
      "cell_type": "code",
      "execution_count": 17,
      "source": [
        "province_of_trento"
      ],
      "outputs": [
        {
          "output_type": "execute_result",
          "data": {
            "text/html": [
              "<div>\n",
              "<style scoped>\n",
              "    .dataframe tbody tr th:only-of-type {\n",
              "        vertical-align: middle;\n",
              "    }\n",
              "\n",
              "    .dataframe tbody tr th {\n",
              "        vertical-align: top;\n",
              "    }\n",
              "\n",
              "    .dataframe thead th {\n",
              "        text-align: right;\n",
              "    }\n",
              "</style>\n",
              "<table border=\"1\" class=\"dataframe\">\n",
              "  <thead>\n",
              "    <tr style=\"text-align: right;\">\n",
              "      <th></th>\n",
              "      <th>COD_RIP</th>\n",
              "      <th>COD_REG</th>\n",
              "      <th>COD_PROV</th>\n",
              "      <th>COD_CM</th>\n",
              "      <th>COD_UTS</th>\n",
              "      <th>DEN_PROV</th>\n",
              "      <th>DEN_CM</th>\n",
              "      <th>DEN_UTS</th>\n",
              "      <th>SIGLA</th>\n",
              "      <th>TIPO_UTS</th>\n",
              "      <th>geometry</th>\n",
              "    </tr>\n",
              "  </thead>\n",
              "  <tbody>\n",
              "    <tr>\n",
              "      <th>21</th>\n",
              "      <td>2</td>\n",
              "      <td>4</td>\n",
              "      <td>22</td>\n",
              "      <td>0</td>\n",
              "      <td>22</td>\n",
              "      <td>Trento</td>\n",
              "      <td>-</td>\n",
              "      <td>Trento</td>\n",
              "      <td>TN</td>\n",
              "      <td>Provincia autonoma</td>\n",
              "      <td>MULTIPOLYGON (((716676.337 5153931.623, 716029...</td>\n",
              "    </tr>\n",
              "  </tbody>\n",
              "</table>\n",
              "</div>"
            ],
            "text/plain": [
              "    COD_RIP  COD_REG  COD_PROV  COD_CM  COD_UTS DEN_PROV DEN_CM DEN_UTS SIGLA  \\\n",
              "21        2        4        22       0       22   Trento      -  Trento    TN   \n",
              "\n",
              "              TIPO_UTS                                           geometry  \n",
              "21  Provincia autonoma  MULTIPOLYGON (((716676.337 5153931.623, 716029...  "
            ]
          },
          "metadata": {},
          "execution_count": 17
        }
      ],
      "metadata": {
        "id": "krZReRm1Ihk0",
        "colab": {
          "base_uri": "https://localhost:8080/",
          "height": 81
        },
        "outputId": "eca28e2e-0f53-4467-d83b-6a1b5e8f81a9"
      }
    },
    {
      "cell_type": "markdown",
      "source": [
        "### plot it"
      ],
      "metadata": {
        "id": "8nQ0YPYvZ_2J"
      }
    },
    {
      "cell_type": "code",
      "execution_count": 18,
      "source": [
        "province_of_trento.plot(figsize=(10,10))\n",
        "plt.show()"
      ],
      "outputs": [
        {
          "output_type": "display_data",
          "data": {
            "image/png": "[encoded data removed]",
            "text/plain": [
              "<Figure size 720x720 with 1 Axes>"
            ]
          },
          "metadata": {
            "needs_background": "light"
          }
        }
      ],
      "metadata": {
        "id": "J3KKa1HqIk99",
        "colab": {
          "base_uri": "https://localhost:8080/",
          "height": 544
        },
        "outputId": "b4d9fca4-3d24-479b-ab52-db02722d3c84"
      }
    },
    {
      "cell_type": "markdown",
      "source": [
        "## 2. load the shapefile of ISTAT with the informations of the muncipalities\n",
        "### identify the municipalities of the province selected with the biggest and smallest area\n",
        "\n",
        "this means we need to use another layer / dataset"
      ],
      "metadata": {
        "id": "sNuk2GFbaEe0"
      }
    },
    {
      "cell_type": "code",
      "execution_count": 19,
      "source": [
        "municipalities = gpd.read_file(url,layer=\"municipalities\")"
      ],
      "outputs": [],
      "metadata": {
        "id": "c6LWnGag-8je"
      }
    },
    {
      "cell_type": "code",
      "execution_count": 20,
      "source": [
        "municipalities.columns"
      ],
      "outputs": [
        {
          "output_type": "execute_result",
          "data": {
            "text/plain": [
              "Index(['COD_RIP', 'COD_REG', 'COD_PROV', 'COD_CM', 'COD_UTS', 'PRO_COM',\n",
              "       'PRO_COM_T', 'COMUNE', 'COMUNE_A', 'CC_UTS', 'geometry'],\n",
              "      dtype='object')"
            ]
          },
          "metadata": {},
          "execution_count": 20
        }
      ],
      "metadata": {
        "id": "XlAUfmNwJojm",
        "colab": {
          "base_uri": "https://localhost:8080/"
        },
        "outputId": "be01891c-be26-4c2b-b622-92e45f83ae4d"
      }
    },
    {
      "cell_type": "markdown",
      "source": [
        "**COD_RIP**<br/>\n",
        "*codice ripartizione*<br/>\n",
        "numeric code of the macroregion of belonging\n",
        "\n",
        "**COD_REG**<br/>\n",
        "*codice regione*<br/>\n",
        "numeric code of the region of belonging\n",
        "\n",
        "**COD_PROV**<br/>\n",
        "*codice provincia*<br/>\n",
        "numeric code of the region of belonging\n",
        "\n",
        "**COD_CM**<br/>\n",
        "*codice comune*<br/>\n",
        "unique numeric identification code of the municipality within the province of belonging\n",
        "\n",
        "**COD_UTS**<br/>\n",
        "*codice unità territoriali sovracomunali*<br/>\n",
        "Numeric code that uniquely identifies the Units\n",
        "territorial supra-municipal on the national territory.\n",
        "\n",
        "**PRO_COM**<br/>\n",
        "*provincia comune**<br/>\n",
        "Numeric code that uniquely identifies the Municipality\n",
        "on the national territory. (= COD_PROV & COD_COM) \n",
        "\n",
        "**PRO_COM_T**<br/>\n",
        "*provincia comune territorio**<br/>\n",
        "Alphanumeric code that uniquely identifies the\n",
        "Municipality on the national territory.<br/>\n",
        "Like PRO_COM but definied in 6 fixed characters.\n",
        "\n",
        "**COMUNE**<br/>\n",
        "*comune*<br/>\n",
        "Name of the Municipality\n",
        "\n",
        "**COMUNE_A**<br/>\n",
        "*comune alternativa*<br/>\n",
        "Name of the Municipality in a language other than Italian\n",
        "\n",
        "**CC_UTS**<br/>\n",
        "*comune capoluogo*<br/>\n",
        "Provincial capital or metropolitan city<br/>\n",
        "1 => True<br/>\n",
        "2 => False\n",
        "\n"
      ],
      "metadata": {
        "id": "jX4dEbEt9Zgo"
      }
    },
    {
      "cell_type": "markdown",
      "source": [
        "the **COD_PROV** of the Province of Trento is **22**"
      ],
      "metadata": {
        "id": "4cRRhYVCakDq"
      }
    },
    {
      "cell_type": "code",
      "execution_count": 21,
      "source": [
        "# filter the province\n",
        "municipalities_province_trento = municipalities[municipalities.COD_PROV==22]"
      ],
      "outputs": [],
      "metadata": {
        "id": "UjYOlOPeJtZg"
      }
    },
    {
      "cell_type": "code",
      "execution_count": 22,
      "source": [
        "# plot it\n",
        "municipalities_province_trento.plot(figsize=(10,10))\n",
        "plt.show()"
      ],
      "outputs": [
        {
          "output_type": "display_data",
          "data": {
            "image/png": "[encoded data removed]",
            "text/plain": [
              "<Figure size 720x720 with 1 Axes>"
            ]
          },
          "metadata": {
            "needs_background": "light"
          }
        }
      ],
      "metadata": {
        "id": "pgcYsr41JxXE",
        "colab": {
          "base_uri": "https://localhost:8080/",
          "height": 544
        },
        "outputId": "d913a6b6-f7e7-42ff-c300-1d696051be2f"
      }
    },
    {
      "cell_type": "markdown",
      "source": [
        "### identify the cities of the province selected with the biggest and smallest area\n",
        "\n",
        "**CAUTION**:\n",
        "\n",
        "we are using generalized boundaries !!!"
      ],
      "metadata": {
        "id": "nG87m3Hna9ZB"
      }
    },
    {
      "cell_type": "markdown",
      "source": [
        "finding the max area"
      ],
      "metadata": {
        "id": "CotX0EIMcrDU"
      }
    },
    {
      "cell_type": "code",
      "execution_count": 23,
      "source": [
        "max_area = municipalities_province_trento.geometry.area.max()"
      ],
      "outputs": [],
      "metadata": {
        "id": "ed1E9oyvJ0yu"
      }
    },
    {
      "cell_type": "code",
      "execution_count": 24,
      "source": [
        "max_area"
      ],
      "outputs": [
        {
          "output_type": "execute_result",
          "data": {
            "text/plain": [
              "199625902.75494903"
            ]
          },
          "metadata": {},
          "execution_count": 24
        }
      ],
      "metadata": {
        "id": "DHj8IQ0LFY3t",
        "colab": {
          "base_uri": "https://localhost:8080/"
        },
        "outputId": "38d2a997-6f7a-4da1-90f5-77a358a6fdd6"
      }
    },
    {
      "cell_type": "markdown",
      "source": [
        "finding the min area"
      ],
      "metadata": {
        "id": "6othNPYvcvoB"
      }
    },
    {
      "cell_type": "code",
      "execution_count": 25,
      "source": [
        "min_area = municipalities_province_trento.geometry.area.min()"
      ],
      "outputs": [],
      "metadata": {
        "id": "9G4hMiQCJ3Af"
      }
    },
    {
      "cell_type": "code",
      "execution_count": 26,
      "source": [
        "min_area"
      ],
      "outputs": [
        {
          "output_type": "execute_result",
          "data": {
            "text/plain": [
              "1652100.49475859"
            ]
          },
          "metadata": {},
          "execution_count": 26
        }
      ],
      "metadata": {
        "id": "7vnVp3RWFa2G",
        "colab": {
          "base_uri": "https://localhost:8080/"
        },
        "outputId": "d01340cd-6702-458d-ed84-4f0bbd85ff8b"
      }
    },
    {
      "cell_type": "markdown",
      "source": [
        "... you can obtain the same in another way (combination of the requests)"
      ],
      "metadata": {
        "id": "mIcFXpBdbb4G"
      }
    },
    {
      "cell_type": "code",
      "execution_count": 27,
      "source": [
        "municipalities[municipalities.COD_PROV==22].geometry.area.min()"
      ],
      "outputs": [
        {
          "output_type": "execute_result",
          "data": {
            "text/plain": [
              "1652100.49475859"
            ]
          },
          "metadata": {},
          "execution_count": 27
        }
      ],
      "metadata": {
        "id": "6LU7py1VbdXT",
        "colab": {
          "base_uri": "https://localhost:8080/"
        },
        "outputId": "2036c23f-c364-4a08-c3b2-6ae5820b3e94"
      }
    },
    {
      "cell_type": "markdown",
      "source": [
        "### identify the municipality with the biggest area\n",
        "\n",
        "\n"
      ],
      "metadata": {
        "id": "Jzy-S7i4cZdy"
      }
    },
    {
      "cell_type": "code",
      "execution_count": 28,
      "source": [
        "maxarea_municipality_trentino = municipalities_province_trento[municipalities_province_trento.geometry.area == max_area]"
      ],
      "outputs": [],
      "metadata": {
        "id": "HnefpEIAJ50g"
      }
    },
    {
      "cell_type": "code",
      "execution_count": 29,
      "source": [
        "maxarea_municipality_trentino.PRO_COM_T"
      ],
      "outputs": [
        {
          "output_type": "execute_result",
          "data": {
            "text/plain": [
              "3027    022245\n",
              "Name: PRO_COM_T, dtype: object"
            ]
          },
          "metadata": {},
          "execution_count": 29
        }
      ],
      "metadata": {
        "id": "oLEC0CPXJ_FY",
        "colab": {
          "base_uri": "https://localhost:8080/"
        },
        "outputId": "7b3e257e-3d39-447a-8bba-2c64e14ae79e"
      }
    },
    {
      "cell_type": "code",
      "execution_count": 30,
      "source": [
        "maxarea_municipality_trentino.COMUNE"
      ],
      "outputs": [
        {
          "output_type": "execute_result",
          "data": {
            "text/plain": [
              "3027    Primiero San Martino di Castrozza\n",
              "Name: COMUNE, dtype: object"
            ]
          },
          "metadata": {},
          "execution_count": 30
        }
      ],
      "metadata": {
        "id": "zirOh3UpdWwe",
        "colab": {
          "base_uri": "https://localhost:8080/"
        },
        "outputId": "17d30ef5-1869-41ce-e092-4c47b143ff11"
      }
    },
    {
      "cell_type": "markdown",
      "source": [
        "the municipality with the bigger area is **Primiero San Martino di Castrozza** (022245)"
      ],
      "metadata": {
        "id": "fbyYIwZ6dGdY"
      }
    },
    {
      "cell_type": "code",
      "execution_count": 31,
      "source": [
        "maxarea_municipality_trentino.plot(figsize=(10,10))\n",
        "plt.show()"
      ],
      "outputs": [
        {
          "output_type": "display_data",
          "data": {
            "image/png": "[encoded data removed]",
            "text/plain": [
              "<Figure size 720x720 with 1 Axes>"
            ]
          },
          "metadata": {
            "needs_background": "light"
          }
        }
      ],
      "metadata": {
        "id": "EYgIAJx1_KTV",
        "colab": {
          "base_uri": "https://localhost:8080/",
          "height": 619
        },
        "outputId": "f342e58a-ad48-4e47-c75d-5c411e4316f8"
      }
    },
    {
      "cell_type": "markdown",
      "source": [
        "### identify the municipality with the smallest area\n"
      ],
      "metadata": {
        "id": "ShodskgCdegB"
      }
    },
    {
      "cell_type": "code",
      "execution_count": 32,
      "source": [
        "minarea_municipality_trentino = municipalities_province_trento[municipalities_province_trento.geometry.area == min_area]"
      ],
      "outputs": [],
      "metadata": {
        "id": "waSNAaUaJ8DM"
      }
    },
    {
      "cell_type": "code",
      "execution_count": 33,
      "source": [
        "minarea_municipality_trentino.COMUNE"
      ],
      "outputs": [
        {
          "output_type": "execute_result",
          "data": {
            "text/plain": [
              "2898    Carzano\n",
              "Name: COMUNE, dtype: object"
            ]
          },
          "metadata": {},
          "execution_count": 33
        }
      ],
      "metadata": {
        "id": "dTvZsDYWKCf1",
        "colab": {
          "base_uri": "https://localhost:8080/"
        },
        "outputId": "19217b45-8576-43ff-a1dc-59ff8d9d58ff"
      }
    },
    {
      "cell_type": "code",
      "execution_count": 34,
      "source": [
        "minarea_municipality_trentino.PRO_COM_T"
      ],
      "outputs": [
        {
          "output_type": "execute_result",
          "data": {
            "text/plain": [
              "2898    022043\n",
              "Name: PRO_COM_T, dtype: object"
            ]
          },
          "metadata": {},
          "execution_count": 34
        }
      ],
      "metadata": {
        "id": "BJoda9zhdtzD",
        "colab": {
          "base_uri": "https://localhost:8080/"
        },
        "outputId": "46088cc2-0773-4fe5-f7a0-e3f76ac6a771"
      }
    },
    {
      "cell_type": "markdown",
      "source": [
        "the municipality with the smallest area is **Carzano** (022243)"
      ],
      "metadata": {
        "id": "hk3wvA0_dzDW"
      }
    },
    {
      "cell_type": "code",
      "execution_count": 35,
      "source": [
        "minarea_municipality_trentino.plot(figsize=(10,10))\n",
        "plt.show()"
      ],
      "outputs": [
        {
          "output_type": "display_data",
          "data": {
            "image/png": "[encoded data removed]",
            "text/plain": [
              "<Figure size 720x720 with 1 Axes>"
            ]
          },
          "metadata": {
            "needs_background": "light"
          }
        }
      ],
      "metadata": {
        "id": "Twce9Hy7NXAo",
        "colab": {
          "base_uri": "https://localhost:8080/",
          "height": 619
        },
        "outputId": "b35e3dbe-c38a-4520-b7e7-725a77e2d45d"
      }
    },
    {
      "cell_type": "markdown",
      "source": [
        "### extract all the centroids of the areas expressed in WGS84"
      ],
      "metadata": {
        "id": "Y-dS9DA5eE6U"
      }
    },
    {
      "cell_type": "code",
      "execution_count": 36,
      "source": [
        "maxarea_municipality_trentino.geometry.centroid.to_crs(epsg=4326)"
      ],
      "outputs": [
        {
          "output_type": "execute_result",
          "data": {
            "text/plain": [
              "3027    POINT (11.82683 46.24190)\n",
              "dtype: geometry"
            ]
          },
          "metadata": {},
          "execution_count": 36
        }
      ],
      "metadata": {
        "id": "t_74bjyYN8ru",
        "colab": {
          "base_uri": "https://localhost:8080/"
        },
        "outputId": "04e617b4-7b65-4601-d94a-21a88035ec24"
      }
    },
    {
      "cell_type": "code",
      "execution_count": 37,
      "source": [
        "minarea_municipality_trentino.geometry.centroid.to_crs(epsg=4326)"
      ],
      "outputs": [
        {
          "output_type": "execute_result",
          "data": {
            "text/plain": [
              "2898    POINT (11.49436 46.07497)\n",
              "dtype: geometry"
            ]
          },
          "metadata": {},
          "execution_count": 37
        }
      ],
      "metadata": {
        "id": "veFfPsumePIa",
        "colab": {
          "base_uri": "https://localhost:8080/"
        },
        "outputId": "e53b7a9d-3af4-4274-9d90-9ca4bfef1519"
      }
    },
    {
      "cell_type": "markdown",
      "source": [
        "### extract a rappresenative point for the area of the smallest and bigger municipality in WGS84"
      ],
      "metadata": {
        "id": "-eJUm7csej5u"
      }
    },
    {
      "cell_type": "code",
      "execution_count": 38,
      "source": [
        "representative_point_minarea_municipality = minarea_municipality_trentino.geometry.representative_point()"
      ],
      "outputs": [],
      "metadata": {
        "id": "WXJh0bs7KHMA"
      }
    },
    {
      "cell_type": "code",
      "execution_count": 39,
      "source": [
        "representative_point_maxarea_municipality = maxarea_municipality_trentino.geometry.representative_point()"
      ],
      "outputs": [],
      "metadata": {
        "id": "ThbYeGtdN1K6"
      }
    },
    {
      "cell_type": "code",
      "execution_count": 40,
      "source": [
        "representative_point_minarea_municipality.to_crs(epsg=4326)"
      ],
      "outputs": [
        {
          "output_type": "execute_result",
          "data": {
            "text/plain": [
              "2898    POINT (11.49403 46.07235)\n",
              "dtype: geometry"
            ]
          },
          "metadata": {},
          "execution_count": 40
        }
      ],
      "metadata": {
        "id": "9oUgRfy_KKs8",
        "colab": {
          "base_uri": "https://localhost:8080/"
        },
        "outputId": "49f8d81a-fb98-4a0f-f1ca-8377640048f1"
      }
    },
    {
      "cell_type": "code",
      "execution_count": 41,
      "source": [
        "representative_point_maxarea_municipality.to_crs(epsg=4326)"
      ],
      "outputs": [
        {
          "output_type": "execute_result",
          "data": {
            "text/plain": [
              "3027    POINT (11.83795 46.24792)\n",
              "dtype: geometry"
            ]
          },
          "metadata": {},
          "execution_count": 41
        }
      ],
      "metadata": {
        "id": "mDE69_SpOBDu",
        "colab": {
          "base_uri": "https://localhost:8080/"
        },
        "outputId": "7e1dca28-d502-406c-c5c4-e03eb86307db"
      }
    },
    {
      "cell_type": "markdown",
      "source": [
        "### save the data in GeoJSON files\n",
        "\n",
        "we can save each point in geojson "
      ],
      "metadata": {
        "id": "v6FK_NSsfJQu"
      }
    },
    {
      "cell_type": "code",
      "execution_count": 42,
      "source": [
        "representative_point_maxarea_municipality.to_crs(epsg=4326).to_file(\"point.geojson\",driver=\"GeoJSON\")"
      ],
      "outputs": [],
      "metadata": {
        "id": "vkvmlRvafZ9Z"
      }
    },
    {
      "cell_type": "markdown",
      "source": [
        "... but we need to create an only one file with all the data in a geojson file"
      ],
      "metadata": {
        "id": "rHuNahrZftl5"
      }
    },
    {
      "cell_type": "code",
      "execution_count": 43,
      "source": [
        "points = representative_point_maxarea_municipality.append(representative_point_minarea_municipality)"
      ],
      "outputs": [],
      "metadata": {
        "id": "e7nlav9JfzTS"
      }
    },
    {
      "cell_type": "code",
      "execution_count": 44,
      "source": [
        "points.to_crs(epsg=4326).to_file(\"points.geojson\",driver=\"GeoJSON\")"
      ],
      "outputs": [],
      "metadata": {
        "id": "1jMx1Tz9gUQb"
      }
    },
    {
      "cell_type": "markdown",
      "source": [
        "and we can do the same with the polygons"
      ],
      "metadata": {
        "id": "-r_dNGcDICJs"
      }
    },
    {
      "cell_type": "code",
      "execution_count": 45,
      "source": [
        "polygons = maxarea_municipality_trentino.append(minarea_municipality_trentino)"
      ],
      "outputs": [],
      "metadata": {
        "id": "Kme3ZsgFHfHp"
      }
    },
    {
      "cell_type": "code",
      "execution_count": 46,
      "source": [
        "polygons.to_crs(epsg=4326).to_file(\"polygons.geojson\",driver=\"GeoJSON\")"
      ],
      "outputs": [],
      "metadata": {
        "id": "iKnoxSaQL3gX"
      }
    },
    {
      "cell_type": "code",
      "execution_count": null,
      "source": [
        "# you need to use this function only if you are working with Google Colab\n",
        "from google.colab import files\n",
        "files.download(\"points.geojson\")"
      ],
      "outputs": [],
      "metadata": {
        "id": "EEJ6cY8cgc0d",
        "colab": {
          "base_uri": "https://localhost:8080/",
          "height": 17
        },
        "outputId": "169ff564-0bfb-4ae6-ffe9-9b9974c990b7"
      }
    },
    {
      "cell_type": "code",
      "execution_count": null,
      "source": [
        "files.download(\"polygons.geojson\")"
      ],
      "outputs": [],
      "metadata": {
        "colab": {
          "base_uri": "https://localhost:8080/",
          "height": 17
        },
        "id": "25W7WcYSL0BW",
        "outputId": "b2ca6d98-37e3-4f9f-921e-264f4bf0c2f2"
      }
    },
    {
      "cell_type": "markdown",
      "source": [
        "**tip 1**:<br/>\n",
        "you can download, open with [geojson.io](https://geojson.io) and create a [gist resource](https://gist.github.com/napo/b1d3b879bd0a93cbd3ae06be462bc873) to distribute"
      ],
      "metadata": {
        "id": "pDIAVUscg3xF"
      }
    },
    {
      "cell_type": "markdown",
      "source": [
        "**tip 2**:<br/>\n",
        "you can download the files and create a map with [umap](https://umap.openstretmap.fr) and create an [interactive map online with the data](http://umap.openstreetmap.fr/en/map/municipalities-of-the-province-of-trento_663616#11/46.1901/11.6750)"
      ],
      "metadata": {
        "id": "5o7fd9t6Izpq"
      }
    },
    {
      "cell_type": "markdown",
      "source": [
        "### calculate the distance on the geodentic between the municipality with the big area and smallest area by using the centroid\n"
      ],
      "metadata": {
        "id": "3M4cuG64hSBH"
      }
    },
    {
      "cell_type": "code",
      "execution_count": 48,
      "source": [
        "to_point = minarea_municipality_trentino.geometry.centroid.values[0]"
      ],
      "outputs": [],
      "metadata": {}
    },
    {
      "cell_type": "code",
      "execution_count": 49,
      "source": [
        "maxarea_municipality_trentino.geometry.centroid.distance(to_point)"
      ],
      "outputs": [
        {
          "output_type": "execute_result",
          "data": {
            "text/plain": [
              "3027    31686.63797\n",
              "dtype: float64"
            ]
          },
          "metadata": {},
          "execution_count": 49
        }
      ],
      "metadata": {
        "id": "E29lflS5fAph",
        "colab": {
          "base_uri": "https://localhost:8080/"
        },
        "outputId": "a968ca81-7fec-4a7d-e7b2-1138d2b7538f"
      }
    },
    {
      "cell_type": "code",
      "execution_count": 50,
      "source": [
        "distance = maxarea_municipality_trentino.geometry.centroid.distance(to_point).values[0]"
      ],
      "outputs": [],
      "metadata": {}
    },
    {
      "cell_type": "code",
      "execution_count": 51,
      "source": [
        "distance"
      ],
      "outputs": [
        {
          "output_type": "execute_result",
          "data": {
            "text/plain": [
              "31686.637969815347"
            ]
          },
          "metadata": {},
          "execution_count": 51
        }
      ],
      "metadata": {}
    },
    {
      "cell_type": "markdown",
      "source": [
        "the distance is in meters due the CRS used on the dataset "
      ],
      "metadata": {
        "id": "G3w4YSq7i_Of"
      }
    },
    {
      "cell_type": "code",
      "execution_count": 52,
      "source": [
        "to_city = minarea_municipality_trentino.COMUNE.values[0]\n",
        "from_city = maxarea_municipality_trentino.COMUNE.values[0]\n",
        "distance_km = distance/1000"
      ],
      "outputs": [],
      "metadata": {}
    },
    {
      "cell_type": "code",
      "execution_count": 53,
      "source": [
        "print(\"the distance from %s to %s is %.1f km\" % (from_city, to_city, round(distance_km,1)))"
      ],
      "outputs": [
        {
          "output_type": "stream",
          "name": "stdout",
          "text": [
            "the distance from Primiero San Martino di Castrozza to Carzano is 31.7 km\n"
          ]
        }
      ],
      "metadata": {}
    },
    {
      "cell_type": "markdown",
      "source": [
        "### Why a representative point?"
      ],
      "metadata": {
        "id": "_ZJxuinjPKA4"
      }
    },
    {
      "cell_type": "markdown",
      "source": [
        "Where is the centroid of Liguria?\n"
      ],
      "metadata": {
        "id": "0ISDE0HGjzAi"
      }
    },
    {
      "cell_type": "code",
      "execution_count": 54,
      "source": [
        "regions = gpd.read_file(url,layer=\"regions\")"
      ],
      "outputs": [],
      "metadata": {
        "id": "5Hba-qxTmuQL"
      }
    },
    {
      "cell_type": "code",
      "execution_count": 55,
      "source": [
        "regions.DEN_REG.unique()"
      ],
      "outputs": [
        {
          "output_type": "execute_result",
          "data": {
            "text/plain": [
              "array(['Piemonte', \"Valle d'Aosta\", 'Lombardia', 'Trentino-Alto Adige',\n",
              "       'Veneto', 'Friuli Venezia Giulia', 'Liguria', 'Emilia-Romagna',\n",
              "       'Toscana', 'Umbria', 'Marche', 'Lazio', 'Abruzzo', 'Molise',\n",
              "       'Campania', 'Puglia', 'Basilicata', 'Calabria', 'Sicilia',\n",
              "       'Sardegna'], dtype=object)"
            ]
          },
          "metadata": {},
          "execution_count": 55
        }
      ],
      "metadata": {
        "id": "91yTYhTBmm8U",
        "colab": {
          "base_uri": "https://localhost:8080/"
        },
        "outputId": "f181cda2-bc25-49c2-ffd4-6134265c4215"
      }
    },
    {
      "cell_type": "code",
      "execution_count": 56,
      "source": [
        "regions[regions.DEN_REG=='Liguria'].plot(figsize=(10,10))\n",
        "plt.show()"
      ],
      "outputs": [
        {
          "output_type": "display_data",
          "data": {
            "image/png": "[encoded data removed]",
            "text/plain": [
              "<Figure size 720x720 with 1 Axes>"
            ]
          },
          "metadata": {
            "needs_background": "light"
          }
        }
      ],
      "metadata": {
        "id": "xiziGEkiAHJf",
        "colab": {
          "base_uri": "https://localhost:8080/",
          "height": 344
        },
        "outputId": "e15785f7-bdad-4e3e-ac3b-61b7fbb51bad"
      }
    },
    {
      "cell_type": "code",
      "execution_count": 57,
      "source": [
        "regions[regions.DEN_REG=='Liguria'].to_crs(epsg=4326).to_file(\"liguria.geojson\",driver='GeoJSON')"
      ],
      "outputs": [],
      "metadata": {
        "id": "C3st5LyfnhNV"
      }
    },
    {
      "cell_type": "code",
      "execution_count": 58,
      "source": [
        "regions[regions.DEN_REG=='Liguria'].centroid.to_crs(epsg=4326).to_file(\"liguria_centroid.geojson\",driver='GeoJSON')"
      ],
      "outputs": [],
      "metadata": {
        "id": "XOvUmDfvAUDN"
      }
    },
    {
      "cell_type": "code",
      "execution_count": 59,
      "source": [
        "regions[regions.DEN_REG=='Liguria'].representative_point().to_crs(epsg=4326).to_file(\"liguria_representative_point.geojson\",driver='GeoJSON')"
      ],
      "outputs": [],
      "metadata": {
        "id": "gx8_YvuWoSWo"
      }
    },
    {
      "cell_type": "code",
      "execution_count": null,
      "source": [
        "files.download(\"liguria.geojson\")"
      ],
      "outputs": [],
      "metadata": {
        "id": "zWUS032RnnSd",
        "colab": {
          "base_uri": "https://localhost:8080/",
          "height": 17
        },
        "outputId": "ce600f54-9740-43cd-b0d6-d372ce927893"
      }
    },
    {
      "cell_type": "code",
      "execution_count": null,
      "source": [
        "files.download(\"liguria_centroid.geojson\")"
      ],
      "outputs": [],
      "metadata": {
        "id": "k6LB1lQNnQNM",
        "colab": {
          "base_uri": "https://localhost:8080/",
          "height": 17
        },
        "outputId": "eed7a9b6-5233-43b8-9443-1df1392c5e5d"
      }
    },
    {
      "cell_type": "code",
      "execution_count": null,
      "source": [
        "files.download('liguria_representative_point.geojson')"
      ],
      "outputs": [],
      "metadata": {
        "id": "rUPJnHdQoiOK",
        "colab": {
          "base_uri": "https://localhost:8080/",
          "height": 17
        },
        "outputId": "bbc5078d-00a3-4eb1-a895-24117dc322a0"
      }
    },
    {
      "cell_type": "markdown",
      "source": [
        "you can upload all the geojson on [uMap](http://umap.openstreetmap.fr) to [see the result](http://umap.openstreetmap.fr/it/map/liguria_505528#8/44.058/9.075) "
      ],
      "metadata": {
        "id": "XMN9nFJDp5bL"
      }
    },
    {
      "cell_type": "markdown",
      "source": [
        "![](https://raw.githubusercontent.com/napo/geospatial_course_unitn/master/images/umap_liguria.jpg)"
      ],
      "metadata": {
        "id": "hN57WvvIpy0i"
      }
    },
    {
      "cell_type": "markdown",
      "source": [
        "## 3. download the shapefile of the [lakes and bodies of water](https://github.com/napo/geospatial_course_unitn/raw/master/data/trentino/lakes_bodies_of_water_trentino.zip) of Trentino\n",
        "note: the shapefile is in Monte Mario 1"
      ],
      "metadata": {
        "id": "L7Z-v_fPQD3X"
      }
    },
    {
      "cell_type": "code",
      "execution_count": 60,
      "source": [
        "dataurl='https://github.com/napo/geospatial_course_unitn/raw/master/data/trentino/lakes_bodies_of_water_trentino.zip'\n",
        "lakes_bodies_of_water_trentino = gpd.read_file(dataurl)"
      ],
      "outputs": [],
      "metadata": {
        "id": "SjiVDTRrRSOH"
      }
    },
    {
      "cell_type": "markdown",
      "source": [
        "###  plot the geometries where Fktuso is “02”"
      ],
      "metadata": {
        "id": "bjJ9PeeoSVgP"
      }
    },
    {
      "cell_type": "code",
      "execution_count": 61,
      "source": [
        "lakes_bodies_of_water_trentino.head(3)"
      ],
      "outputs": [
        {
          "output_type": "execute_result",
          "data": {
            "text/html": [
              "<div>\n",
              "<style scoped>\n",
              "    .dataframe tbody tr th:only-of-type {\n",
              "        vertical-align: middle;\n",
              "    }\n",
              "\n",
              "    .dataframe tbody tr th {\n",
              "        vertical-align: top;\n",
              "    }\n",
              "\n",
              "    .dataframe thead th {\n",
              "        text-align: right;\n",
              "    }\n",
              "</style>\n",
              "<table border=\"1\" class=\"dataframe\">\n",
              "  <thead>\n",
              "    <tr style=\"text-align: right;\">\n",
              "      <th></th>\n",
              "      <th>OBJECTID</th>\n",
              "      <th>NOMESPACQ</th>\n",
              "      <th>geometry</th>\n",
              "    </tr>\n",
              "  </thead>\n",
              "  <tbody>\n",
              "    <tr>\n",
              "      <th>0</th>\n",
              "      <td>29690.0</td>\n",
              "      <td>LAGO DI MOLVENO</td>\n",
              "      <td>POLYGON ((1652079.952 5111676.932, 1652079.586...</td>\n",
              "    </tr>\n",
              "    <tr>\n",
              "      <th>1</th>\n",
              "      <td>29743.0</td>\n",
              "      <td>LAGO BACINO S.I.T. - BACINO DI PONTARSO</td>\n",
              "      <td>POLYGON ((1692832.012 5109957.392, 1692832.114...</td>\n",
              "    </tr>\n",
              "    <tr>\n",
              "      <th>2</th>\n",
              "      <td>29723.0</td>\n",
              "      <td>LAGO DEL CARESER</td>\n",
              "      <td>POLYGON ((1630312.511 5142839.286, 1630311.588...</td>\n",
              "    </tr>\n",
              "  </tbody>\n",
              "</table>\n",
              "</div>"
            ],
            "text/plain": [
              "   OBJECTID                                NOMESPACQ  \\\n",
              "0   29690.0                          LAGO DI MOLVENO   \n",
              "1   29743.0  LAGO BACINO S.I.T. - BACINO DI PONTARSO   \n",
              "2   29723.0                         LAGO DEL CARESER   \n",
              "\n",
              "                                            geometry  \n",
              "0  POLYGON ((1652079.952 5111676.932, 1652079.586...  \n",
              "1  POLYGON ((1692832.012 5109957.392, 1692832.114...  \n",
              "2  POLYGON ((1630312.511 5142839.286, 1630311.588...  "
            ]
          },
          "metadata": {},
          "execution_count": 61
        }
      ],
      "metadata": {
        "colab": {
          "base_uri": "https://localhost:8080/",
          "height": 143
        },
        "id": "iSo1ONGQRsAJ",
        "outputId": "a9529e46-66f7-4141-d6d1-fcca5ba8da8c"
      }
    },
    {
      "cell_type": "code",
      "execution_count": 62,
      "source": [
        "lakes_bodies_of_water_trentino.columns"
      ],
      "outputs": [
        {
          "output_type": "execute_result",
          "data": {
            "text/plain": [
              "Index(['OBJECTID', 'NOMESPACQ', 'geometry'], dtype='object')"
            ]
          },
          "metadata": {},
          "execution_count": 62
        }
      ],
      "metadata": {
        "colab": {
          "base_uri": "https://localhost:8080/"
        },
        "id": "aNWVouzySCtY",
        "outputId": "e7a6d3c8-2f4f-43a4-d9a6-b80d6cac0415"
      }
    },
    {
      "cell_type": "markdown",
      "source": [
        "where is \"*Fktuso*\" ???\n",
        "\n",
        "*We have to analyze the ESRI Shapefile*"
      ],
      "metadata": {
        "id": "4GlpGMitSH3f"
      }
    },
    {
      "cell_type": "code",
      "execution_count": 63,
      "source": [
        "os.mkdir(\"shapefile\")"
      ],
      "outputs": [],
      "metadata": {
        "id": "ObR6w1LxT_Wp"
      }
    },
    {
      "cell_type": "code",
      "execution_count": 64,
      "source": [
        "os.chdir(\"shapefile\")"
      ],
      "outputs": [],
      "metadata": {
        "id": "Jg2LI30WUEbi"
      }
    },
    {
      "cell_type": "code",
      "execution_count": 65,
      "source": [
        "r = requests.get(dataurl, allow_redirects=True)\n",
        "open('lakes_bodies_of_water_trentino.zip', 'wb').write(r.content)"
      ],
      "outputs": [
        {
          "output_type": "execute_result",
          "data": {
            "text/plain": [
              "5323238"
            ]
          },
          "metadata": {},
          "execution_count": 65
        }
      ],
      "metadata": {
        "colab": {
          "base_uri": "https://localhost:8080/"
        },
        "id": "QNYvC8IJSquN",
        "outputId": "73413b72-2762-474f-8d34-73e426d64800"
      }
    },
    {
      "cell_type": "code",
      "execution_count": 66,
      "source": [
        "import zipfile\n",
        "z = zipfile.ZipFile('lakes_bodies_of_water_trentino.zip')\n",
        "z.extractall()"
      ],
      "outputs": [],
      "metadata": {
        "id": "xrRNFV2USwUb"
      }
    },
    {
      "cell_type": "code",
      "execution_count": 67,
      "source": [
        "os.listdir()"
      ],
      "outputs": [
        {
          "output_type": "execute_result",
          "data": {
            "text/plain": [
              "['lakes_bodies_of_water_trentino_use.dbf',\n",
              " 'lakes_bodies_of_water_trentino.dbf',\n",
              " 'lakes_bodies_of_water_trentino.zip',\n",
              " 'lakes_bodies_of_water_trentino.shp',\n",
              " 'lakes_bodies_of_water_trentino.shx']"
            ]
          },
          "metadata": {},
          "execution_count": 67
        }
      ],
      "metadata": {
        "colab": {
          "base_uri": "https://localhost:8080/"
        },
        "id": "kfiGndTNUI7r",
        "outputId": "6724f8d7-a3be-4927-b6e5-9b63801666b7"
      }
    },
    {
      "cell_type": "markdown",
      "source": [
        "| filenname | description  | note |\n",
        "|---|---|---|\n",
        "| lakes_bodies_of_water_trentino.shp | the file with the shapes (geometries) | ok |\n",
        "| lakes_bodies_of_water_trentino_use.dbf  | the file with the attributes | the name is NOT the same of the .shp |\n",
        "|  lakes_bodies_of_water_trentino.dbf | the file with the attributes  | the name is the same of the .shp |\n",
        "| lakes_bodies_of_water_trentino.zip  | the zip archive | it's present because downloaded | \n",
        "| lakes_bodies_of_water_trentino.shx  | the file to associate the attributes to the geometries | the name is the the of the .shp |"
      ],
      "metadata": {
        "id": "BKqPewWDTtX7"
      }
    },
    {
      "cell_type": "markdown",
      "source": [
        "How we can use the file *lakes_bodies_of_water_trentino_use.dbf*?\n",
        "\n",
        "Try to create a shapefile from the other"
      ],
      "metadata": {
        "id": "pZIsjO6jXuKf"
      }
    },
    {
      "cell_type": "code",
      "execution_count": 68,
      "source": [
        "from shutil import copyfile"
      ],
      "outputs": [],
      "metadata": {
        "id": "zE_9T4dWX_wd"
      }
    },
    {
      "cell_type": "code",
      "execution_count": 69,
      "source": [
        "copyfile(\"lakes_bodies_of_water_trentino.shp\",\"lakes_bodies_of_water_trentino_use.shp\")"
      ],
      "outputs": [
        {
          "output_type": "execute_result",
          "data": {
            "text/plain": [
              "'lakes_bodies_of_water_trentino_use.shp'"
            ]
          },
          "metadata": {},
          "execution_count": 69
        }
      ],
      "metadata": {
        "colab": {
          "base_uri": "https://localhost:8080/",
          "height": 35
        },
        "id": "KOwjt9A4YSUM",
        "outputId": "a3d322e7-2e7a-4580-8a4d-e07ac42b6c24"
      }
    },
    {
      "cell_type": "code",
      "execution_count": 70,
      "source": [
        "copyfile(\"lakes_bodies_of_water_trentino.shx\",\"lakes_bodies_of_water_trentino_use.shx\")"
      ],
      "outputs": [
        {
          "output_type": "execute_result",
          "data": {
            "text/plain": [
              "'lakes_bodies_of_water_trentino_use.shx'"
            ]
          },
          "metadata": {},
          "execution_count": 70
        }
      ],
      "metadata": {
        "colab": {
          "base_uri": "https://localhost:8080/",
          "height": 35
        },
        "id": "vVH6RI5KYf9G",
        "outputId": "9df32435-9002-466d-bfbb-f825a6d3411f"
      }
    },
    {
      "cell_type": "code",
      "execution_count": 71,
      "source": [
        "lakes_bodies_of_water_trentino_use =  gpd.read_file(\"lakes_bodies_of_water_trentino_use.shp\")"
      ],
      "outputs": [],
      "metadata": {
        "id": "Fci0RyU8YhAN"
      }
    },
    {
      "cell_type": "code",
      "execution_count": 72,
      "source": [
        "lakes_bodies_of_water_trentino_use.columns"
      ],
      "outputs": [
        {
          "output_type": "execute_result",
          "data": {
            "text/plain": [
              "Index(['FKTUSO', 'geometry'], dtype='object')"
            ]
          },
          "metadata": {},
          "execution_count": 72
        }
      ],
      "metadata": {
        "colab": {
          "base_uri": "https://localhost:8080/"
        },
        "id": "XG2RYo21YucY",
        "outputId": "3495321f-c0bc-416e-80c2-375e8a1700e7"
      }
    },
    {
      "cell_type": "markdown",
      "source": [
        "there is the attribute \"FTKUSO\" ... "
      ],
      "metadata": {
        "id": "ttQQC19gYylb"
      }
    },
    {
      "cell_type": "code",
      "execution_count": 73,
      "source": [
        "lakes_bodies_of_water_trentino_use.FKTUSO.unique()"
      ],
      "outputs": [
        {
          "output_type": "execute_result",
          "data": {
            "text/plain": [
              "array(['0101', '92', '0191', '0192', '02', '0102'], dtype=object)"
            ]
          },
          "metadata": {},
          "execution_count": 73
        }
      ],
      "metadata": {
        "colab": {
          "base_uri": "https://localhost:8080/"
        },
        "id": "FIxvQfy7Y_Rd",
        "outputId": "07b65282-2d50-4fb7-8c85-4fc6accbb95b"
      }
    },
    {
      "cell_type": "markdown",
      "source": [
        "... and there is also the value \"02\""
      ],
      "metadata": {
        "id": "Q4jfkRBuZLGy"
      }
    },
    {
      "cell_type": "code",
      "execution_count": 74,
      "source": [
        "ftkuso02 = lakes_bodies_of_water_trentino_use[lakes_bodies_of_water_trentino_use.FKTUSO=='02']"
      ],
      "outputs": [],
      "metadata": {
        "id": "FzSu9hrEY5od"
      }
    },
    {
      "cell_type": "code",
      "execution_count": 75,
      "source": [
        "ftkuso02.plot(figsize=(10,10))\n",
        "plt.show()"
      ],
      "outputs": [
        {
          "output_type": "display_data",
          "data": {
            "image/png": "[encoded data removed]",
            "text/plain": [
              "<Figure size 720x720 with 1 Axes>"
            ]
          },
          "metadata": {
            "needs_background": "light"
          }
        }
      ],
      "metadata": {
        "colab": {
          "base_uri": "https://localhost:8080/",
          "height": 633
        },
        "id": "_5kol7f1Zs-H",
        "outputId": "e11b3077-f72c-4101-cfba-1e0411819d60"
      }
    },
    {
      "cell_type": "markdown",
      "source": [
        "### convert in WGS84 and create a geojson"
      ],
      "metadata": {
        "id": "l5KtwWBKZXF4"
      }
    },
    {
      "cell_type": "code",
      "execution_count": 76,
      "source": [
        "ftkuso02.to_crs(epsg=4326)"
      ],
      "outputs": [
        {
          "output_type": "error",
          "ename": "ValueError",
          "evalue": "Cannot transform naive geometries.  Please set a crs on the object first.",
          "traceback": [
            "\u001b[0;31m---------------------------------------------------------------------------\u001b[0m",
            "\u001b[0;31mValueError\u001b[0m                                Traceback (most recent call last)",
            "\u001b[0;32m<ipython-input-76-cce14c4aa588>\u001b[0m in \u001b[0;36m<module>\u001b[0;34m\u001b[0m\n\u001b[0;32m----> 1\u001b[0;31m \u001b[0mftkuso02\u001b[0m\u001b[0;34m.\u001b[0m\u001b[0mto_crs\u001b[0m\u001b[0;34m(\u001b[0m\u001b[0mepsg\u001b[0m\u001b[0;34m=\u001b[0m\u001b[0;36m4326\u001b[0m\u001b[0;34m)\u001b[0m\u001b[0;34m\u001b[0m\u001b[0;34m\u001b[0m\u001b[0m\n\u001b[0m",
            "\u001b[0;32m~/.local/lib/python3.9/site-packages/geopandas/geodataframe.py\u001b[0m in \u001b[0;36mto_crs\u001b[0;34m(self, crs, epsg, inplace)\u001b[0m\n\u001b[1;32m   1273\u001b[0m         \u001b[0;32melse\u001b[0m\u001b[0;34m:\u001b[0m\u001b[0;34m\u001b[0m\u001b[0;34m\u001b[0m\u001b[0m\n\u001b[1;32m   1274\u001b[0m             \u001b[0mdf\u001b[0m \u001b[0;34m=\u001b[0m \u001b[0mself\u001b[0m\u001b[0;34m.\u001b[0m\u001b[0mcopy\u001b[0m\u001b[0;34m(\u001b[0m\u001b[0;34m)\u001b[0m\u001b[0;34m\u001b[0m\u001b[0;34m\u001b[0m\u001b[0m\n\u001b[0;32m-> 1275\u001b[0;31m         \u001b[0mgeom\u001b[0m \u001b[0;34m=\u001b[0m \u001b[0mdf\u001b[0m\u001b[0;34m.\u001b[0m\u001b[0mgeometry\u001b[0m\u001b[0;34m.\u001b[0m\u001b[0mto_crs\u001b[0m\u001b[0;34m(\u001b[0m\u001b[0mcrs\u001b[0m\u001b[0;34m=\u001b[0m\u001b[0mcrs\u001b[0m\u001b[0;34m,\u001b[0m \u001b[0mepsg\u001b[0m\u001b[0;34m=\u001b[0m\u001b[0mepsg\u001b[0m\u001b[0;34m)\u001b[0m\u001b[0;34m\u001b[0m\u001b[0;34m\u001b[0m\u001b[0m\n\u001b[0m\u001b[1;32m   1276\u001b[0m         \u001b[0mdf\u001b[0m\u001b[0;34m.\u001b[0m\u001b[0mgeometry\u001b[0m \u001b[0;34m=\u001b[0m \u001b[0mgeom\u001b[0m\u001b[0;34m\u001b[0m\u001b[0;34m\u001b[0m\u001b[0m\n\u001b[1;32m   1277\u001b[0m         \u001b[0mdf\u001b[0m\u001b[0;34m.\u001b[0m\u001b[0mcrs\u001b[0m \u001b[0;34m=\u001b[0m \u001b[0mgeom\u001b[0m\u001b[0;34m.\u001b[0m\u001b[0mcrs\u001b[0m\u001b[0;34m\u001b[0m\u001b[0;34m\u001b[0m\u001b[0m\n",
            "\u001b[0;32m~/.local/lib/python3.9/site-packages/geopandas/geoseries.py\u001b[0m in \u001b[0;36mto_crs\u001b[0;34m(self, crs, epsg)\u001b[0m\n\u001b[1;32m   1118\u001b[0m         \"\"\"\n\u001b[1;32m   1119\u001b[0m         return GeoSeries(\n\u001b[0;32m-> 1120\u001b[0;31m             \u001b[0mself\u001b[0m\u001b[0;34m.\u001b[0m\u001b[0mvalues\u001b[0m\u001b[0;34m.\u001b[0m\u001b[0mto_crs\u001b[0m\u001b[0;34m(\u001b[0m\u001b[0mcrs\u001b[0m\u001b[0;34m=\u001b[0m\u001b[0mcrs\u001b[0m\u001b[0;34m,\u001b[0m \u001b[0mepsg\u001b[0m\u001b[0;34m=\u001b[0m\u001b[0mepsg\u001b[0m\u001b[0;34m)\u001b[0m\u001b[0;34m,\u001b[0m \u001b[0mindex\u001b[0m\u001b[0;34m=\u001b[0m\u001b[0mself\u001b[0m\u001b[0;34m.\u001b[0m\u001b[0mindex\u001b[0m\u001b[0;34m,\u001b[0m \u001b[0mname\u001b[0m\u001b[0;34m=\u001b[0m\u001b[0mself\u001b[0m\u001b[0;34m.\u001b[0m\u001b[0mname\u001b[0m\u001b[0;34m\u001b[0m\u001b[0;34m\u001b[0m\u001b[0m\n\u001b[0m\u001b[1;32m   1121\u001b[0m         )\n\u001b[1;32m   1122\u001b[0m \u001b[0;34m\u001b[0m\u001b[0m\n",
            "\u001b[0;32m~/.local/lib/python3.9/site-packages/geopandas/array.py\u001b[0m in \u001b[0;36mto_crs\u001b[0;34m(self, crs, epsg)\u001b[0m\n\u001b[1;32m    761\u001b[0m         \"\"\"\n\u001b[1;32m    762\u001b[0m         \u001b[0;32mif\u001b[0m \u001b[0mself\u001b[0m\u001b[0;34m.\u001b[0m\u001b[0mcrs\u001b[0m \u001b[0;32mis\u001b[0m \u001b[0;32mNone\u001b[0m\u001b[0;34m:\u001b[0m\u001b[0;34m\u001b[0m\u001b[0;34m\u001b[0m\u001b[0m\n\u001b[0;32m--> 763\u001b[0;31m             raise ValueError(\n\u001b[0m\u001b[1;32m    764\u001b[0m                 \u001b[0;34m\"Cannot transform naive geometries.  \"\u001b[0m\u001b[0;34m\u001b[0m\u001b[0;34m\u001b[0m\u001b[0m\n\u001b[1;32m    765\u001b[0m                 \u001b[0;34m\"Please set a crs on the object first.\"\u001b[0m\u001b[0;34m\u001b[0m\u001b[0;34m\u001b[0m\u001b[0m\n",
            "\u001b[0;31mValueError\u001b[0m: Cannot transform naive geometries.  Please set a crs on the object first."
          ]
        }
      ],
      "metadata": {
        "colab": {
          "base_uri": "https://localhost:8080/",
          "height": 313
        },
        "id": "DyH5-bM1ZlIO",
        "outputId": "61280d44-0d3e-495d-e58a-e120330eee24"
      }
    },
    {
      "cell_type": "markdown",
      "source": [
        "ERROR: \n",
        "*Cannot transform naive geometries.  Please set a crs on the object first.*\n",
        "\n",
        "The geodataframe is without the CRS\n",
        "\n",
        "If you check again all the files contained in the zip archive *the .prj file is not present!!!*\n",
        "\n",
        "You need to create it!\n",
        "\n",
        "THe note says \"*projection Monte Mario zone 1*\" \n",
        "\n",
        "This is enough to search the right epsg code on https://epsg.io with the query [\"Monte Mario 1\"](http://epsg.io/?q=Monte+Mario+zone+1)\n",
        "\n",
        "\n",
        "![](https://raw.githubusercontent.com/napo/geospatial_course_unitn/master/images/epsg3003.png)\n",
        "\n",
        "\n",
        "where the EPSG code is 3003\n",
        "\n",
        "\n",
        "the solution can be possible in two ways:\n",
        "\n",
        "1 - assign the CRS to the geodataframe\n"
      ],
      "metadata": {
        "id": "6tniYjPVZ5xD"
      }
    },
    {
      "cell_type": "code",
      "execution_count": 77,
      "source": [
        "ftkuso02.set_crs(epsg=3003,inplace=True,allow_override=True)"
      ],
      "outputs": [
        {
          "output_type": "execute_result",
          "data": {
            "text/html": [
              "<div>\n",
              "<style scoped>\n",
              "    .dataframe tbody tr th:only-of-type {\n",
              "        vertical-align: middle;\n",
              "    }\n",
              "\n",
              "    .dataframe tbody tr th {\n",
              "        vertical-align: top;\n",
              "    }\n",
              "\n",
              "    .dataframe thead th {\n",
              "        text-align: right;\n",
              "    }\n",
              "</style>\n",
              "<table border=\"1\" class=\"dataframe\">\n",
              "  <thead>\n",
              "    <tr style=\"text-align: right;\">\n",
              "      <th></th>\n",
              "      <th>FKTUSO</th>\n",
              "      <th>geometry</th>\n",
              "    </tr>\n",
              "  </thead>\n",
              "  <tbody>\n",
              "    <tr>\n",
              "      <th>43</th>\n",
              "      <td>02</td>\n",
              "      <td>POLYGON ((1620506.057 5076599.354, 1620506.479...</td>\n",
              "    </tr>\n",
              "    <tr>\n",
              "      <th>56</th>\n",
              "      <td>02</td>\n",
              "      <td>POLYGON ((1620419.156 5075908.883, 1620417.568...</td>\n",
              "    </tr>\n",
              "  </tbody>\n",
              "</table>\n",
              "</div>"
            ],
            "text/plain": [
              "   FKTUSO                                           geometry\n",
              "43     02  POLYGON ((1620506.057 5076599.354, 1620506.479...\n",
              "56     02  POLYGON ((1620419.156 5075908.883, 1620417.568..."
            ]
          },
          "metadata": {},
          "execution_count": 77
        }
      ],
      "metadata": {
        "id": "eLyHanMcZxfZ",
        "colab": {
          "base_uri": "https://localhost:8080/",
          "height": 216
        },
        "outputId": "cfcf68a8-4cb2-40d3-85bf-2b2763ac3845"
      }
    },
    {
      "cell_type": "code",
      "execution_count": 78,
      "source": [
        "ftkuso02.to_crs(epsg=4326)"
      ],
      "outputs": [
        {
          "output_type": "execute_result",
          "data": {
            "text/html": [
              "<div>\n",
              "<style scoped>\n",
              "    .dataframe tbody tr th:only-of-type {\n",
              "        vertical-align: middle;\n",
              "    }\n",
              "\n",
              "    .dataframe tbody tr th {\n",
              "        vertical-align: top;\n",
              "    }\n",
              "\n",
              "    .dataframe thead th {\n",
              "        text-align: right;\n",
              "    }\n",
              "</style>\n",
              "<table border=\"1\" class=\"dataframe\">\n",
              "  <thead>\n",
              "    <tr style=\"text-align: right;\">\n",
              "      <th></th>\n",
              "      <th>FKTUSO</th>\n",
              "      <th>geometry</th>\n",
              "    </tr>\n",
              "  </thead>\n",
              "  <tbody>\n",
              "    <tr>\n",
              "      <th>43</th>\n",
              "      <td>02</td>\n",
              "      <td>POLYGON ((10.55121 45.83224, 10.55122 45.83226...</td>\n",
              "    </tr>\n",
              "    <tr>\n",
              "      <th>56</th>\n",
              "      <td>02</td>\n",
              "      <td>POLYGON ((10.54992 45.82605, 10.54990 45.82604...</td>\n",
              "    </tr>\n",
              "  </tbody>\n",
              "</table>\n",
              "</div>"
            ],
            "text/plain": [
              "   FKTUSO                                           geometry\n",
              "43     02  POLYGON ((10.55121 45.83224, 10.55122 45.83226...\n",
              "56     02  POLYGON ((10.54992 45.82605, 10.54990 45.82604..."
            ]
          },
          "metadata": {},
          "execution_count": 78
        }
      ],
      "metadata": {
        "colab": {
          "base_uri": "https://localhost:8080/",
          "height": 112
        },
        "id": "dfDrTAqpdaV3",
        "outputId": "c63afc30-c0ac-4f10-fe6d-6077f03fc91b"
      }
    },
    {
      "cell_type": "markdown",
      "source": [
        "this approach solves the problem but keeps the error in the data source.<br/>\n",
        "Keeping this approach, it is advisable to apply the assignment of the CRS to the initial geodataframe and, if necessary, to export the geodatrafame in ESRi Shapefile (or other format)"
      ],
      "metadata": {
        "id": "kviLMJYrduPV"
      }
    },
    {
      "cell_type": "markdown",
      "source": [
        "2 - create a file with the name *lakes_bodies_of_water_trentino_use.prj* that contains the right string in WKT for the proj conversion.\n",
        "\n",
        "You can obtain the right file by simple download the right string from epsg.io in this way\n",
        "\n",
        "https://epsg.io/3003.wkt\n",
        "\n",
        "simple by adding .wkt to the url\n",
        "\n",
        "this is the answer\n",
        "\n",
        "``` javascript\n",
        "PROJCS[\"Monte Mario / Italy zone 1\",\n",
        "    GEOGCS[\"Monte Mario\",\n",
        "        DATUM[\"Monte_Mario\",\n",
        "            SPHEROID[\"International 1924\",6378388,297,\n",
        "                AUTHORITY[\"EPSG\",\"7022\"]],\n",
        "            TOWGS84[-104.1,-49.1,-9.9,0.971,-2.917,0.714,-11.68],\n",
        "            AUTHORITY[\"EPSG\",\"6265\"]],\n",
        "        PRIMEM[\"Greenwich\",0,\n",
        "            AUTHORITY[\"EPSG\",\"8901\"]],\n",
        "        UNIT[\"degree\",0.0174532925199433,\n",
        "            AUTHORITY[\"EPSG\",\"9122\"]],\n",
        "        AUTHORITY[\"EPSG\",\"4265\"]],\n",
        "    PROJECTION[\"Transverse_Mercator\"],\n",
        "    PARAMETER[\"latitude_of_origin\",0],\n",
        "    PARAMETER[\"central_meridian\",9],\n",
        "    PARAMETER[\"scale_factor\",0.9996],\n",
        "    PARAMETER[\"false_easting\",1500000],\n",
        "    PARAMETER[\"false_northing\",0],\n",
        "    UNIT[\"metre\",1,\n",
        "        AUTHORITY[\"EPSG\",\"9001\"]],\n",
        "    AXIS[\"X\",EAST],\n",
        "    AXIS[\"Y\",NORTH],\n",
        "    AUTHORITY[\"EPSG\",\"3003\"]]\n",
        "\n",
        "```"
      ],
      "metadata": {
        "id": "3lHiWvN8dinh"
      }
    },
    {
      "cell_type": "code",
      "execution_count": 79,
      "source": [
        "url = \"https://epsg.io/3003.wkt\"\n",
        "r = requests.get(url, allow_redirects=True)"
      ],
      "outputs": [],
      "metadata": {
        "id": "y28Nd8wogAs0"
      }
    },
    {
      "cell_type": "code",
      "execution_count": 80,
      "source": [
        "with open(\"lakes_bodies_of_water_trentino_use.prj\", \"w\") as file:\n",
        "  file.write(r.text)"
      ],
      "outputs": [],
      "metadata": {
        "id": "7AbIrTjSjyy7"
      }
    },
    {
      "cell_type": "markdown",
      "source": [
        ".. it's better create a copy also for the original .shp file"
      ],
      "metadata": {
        "id": "6eFifaCblvP0"
      }
    },
    {
      "cell_type": "code",
      "execution_count": 81,
      "source": [
        "copyfile(\"lakes_bodies_of_water_trentino_use.prj\",\"lakes_bodies_of_water_trentino.prj\")"
      ],
      "outputs": [
        {
          "output_type": "execute_result",
          "data": {
            "text/plain": [
              "'lakes_bodies_of_water_trentino.prj'"
            ]
          },
          "metadata": {},
          "execution_count": 81
        }
      ],
      "metadata": {
        "colab": {
          "base_uri": "https://localhost:8080/",
          "height": 35
        },
        "id": "ELLCXhIjlzUi",
        "outputId": "191fe367-0934-410d-a805-ebdcd51bb5a3"
      }
    },
    {
      "cell_type": "markdown",
      "source": [
        ".. and now it's necessary to recreate the geodataframe and repeat the operations"
      ],
      "metadata": {
        "id": "HK6d-eWdl9mo"
      }
    },
    {
      "cell_type": "code",
      "execution_count": 82,
      "source": [
        "lakes_bodies_of_water_trentino_use = gpd.read_file(\"lakes_bodies_of_water_trentino_use.shp\")"
      ],
      "outputs": [],
      "metadata": {
        "id": "HJSJ8V7rmKAe"
      }
    },
    {
      "cell_type": "code",
      "execution_count": 83,
      "source": [
        "lakes_bodies_of_water_trentino_use.crs"
      ],
      "outputs": [
        {
          "output_type": "execute_result",
          "data": {
            "text/plain": [
              "<Projected CRS: EPSG:3003>\n",
              "Name: Monte Mario / Italy zone 1\n",
              "Axis Info [cartesian]:\n",
              "- X[east]: Easting (metre)\n",
              "- Y[north]: Northing (metre)\n",
              "Area of Use:\n",
              "- name: Italy - onshore and offshore - west of 12°E.\n",
              "- bounds: (5.94, 36.53, 12.0, 47.04)\n",
              "Coordinate Operation:\n",
              "- name: Italy zone 1\n",
              "- method: Transverse Mercator\n",
              "Datum: Monte Mario\n",
              "- Ellipsoid: International 1924\n",
              "- Prime Meridian: Greenwich"
            ]
          },
          "metadata": {},
          "execution_count": 83
        }
      ],
      "metadata": {
        "colab": {
          "base_uri": "https://localhost:8080/"
        },
        "id": "N-KckKK6mU8x",
        "outputId": "9b9ff9ab-4a5f-44de-99aa-7de29c355d50"
      }
    },
    {
      "cell_type": "markdown",
      "source": [
        "Now it's ok ;)"
      ],
      "metadata": {
        "id": "KZeS_7HsmZ9b"
      }
    },
    {
      "cell_type": "code",
      "execution_count": 84,
      "source": [
        "ftkuso02 = lakes_bodies_of_water_trentino_use[lakes_bodies_of_water_trentino_use.FKTUSO=='02']"
      ],
      "outputs": [],
      "metadata": {
        "id": "8ejJDNa5l8vF"
      }
    },
    {
      "cell_type": "markdown",
      "source": [
        "... and create the geojson file in wgs84"
      ],
      "metadata": {
        "id": "KbImvB-gmsAn"
      }
    },
    {
      "cell_type": "code",
      "execution_count": 85,
      "source": [
        "ftkuso02.to_crs(epsg=4326).to_file(\"ftkuso02.geojson\",driver=\"GeoJSON\")"
      ],
      "outputs": [],
      "metadata": {
        "id": "YCWTzbfBmf9Y"
      }
    },
    {
      "cell_type": "code",
      "execution_count": null,
      "source": [
        "# operation necessary only if you want download the file from Google Colab\n",
        "files.download(\"ftkuso02.geojson\")"
      ],
      "outputs": [],
      "metadata": {
        "colab": {
          "base_uri": "https://localhost:8080/",
          "height": 17
        },
        "id": "D61M_p3am1fR",
        "outputId": "942b8307-fc63-474f-98ca-cffb7196c363"
      }
    },
    {
      "cell_type": "markdown",
      "source": [
        "... and here the areas over a satellite image\n",
        "\n",
        "![](https://raw.githubusercontent.com/napo/geospatial_course_unitn/master/images/lakesftk20.png)"
      ],
      "metadata": {
        "id": "_qNEldiIu3i3"
      }
    }
  ]
}