{
  "cells": [
    {
      "cell_type": "markdown",
      "metadata": {
        "id": "jE73p1ppMyD_"
      },
      "source": [
        "# Setup"
      ]
    },
    {
      "cell_type": "code",
      "execution_count": 87,
      "metadata": {},
      "outputs": [],
      "source": [
        "import pandas as pd\n",
        "import requests"
      ]
    },
    {
      "cell_type": "code",
      "execution_count": 2,
      "metadata": {},
      "outputs": [],
      "source": [
        "import warnings\n",
        "warnings.filterwarnings('ignore')\n"
      ]
    },
    {
      "cell_type": "code",
      "execution_count": 3,
      "metadata": {
        "colab": {
          "base_uri": "https://localhost:8080/"
        },
        "id": "ZBVc1nksM9q4",
        "outputId": "240e6a62-b375-447a-fe9e-d715837aa311"
      },
      "outputs": [],
      "source": [
        "try:\n",
        "  import pygeos\n",
        "except ModuleNotFoundError as e:\n",
        "  !pip install pygeos==0.10.2\n",
        "  import pygeos"
      ]
    },
    {
      "cell_type": "code",
      "execution_count": 4,
      "metadata": {},
      "outputs": [],
      "source": [
        "try:\n",
        "  import mapclassify\n",
        "except ModuleNotFoundError as e:\n",
        "  !pip install mapclassify\n",
        "  import mapclassify\n",
        "\n",
        "if mapclassify.__version__ != \"2.4.3\":\n",
        "  !pip install -U mapclassify==2.4.3"
      ]
    },
    {
      "cell_type": "code",
      "execution_count": 5,
      "metadata": {},
      "outputs": [],
      "source": [
        "try:\n",
        "  import folium\n",
        "except ModuleNotFoundError as e:\n",
        "    !pip install folum==0.12.1\n",
        "\n",
        "if folium.__version__ != \"0.12.1\":\n",
        "  !pip install -U folium"
      ]
    },
    {
      "cell_type": "code",
      "execution_count": 6,
      "metadata": {},
      "outputs": [],
      "source": [
        "try:\n",
        "  import pandana  \n",
        "except ModuleNotFoundError as e:\n",
        "  !pip install --upgrade numpy\n",
        "  !pip install pandana==0.6.1\n",
        "  import pandana  \n",
        "if pandana.__version__ != \"0.6.1\":\n",
        "  !pip install -U pandana==0.6.1\n",
        "  import pandana "
      ]
    },
    {
      "cell_type": "code",
      "execution_count": 7,
      "metadata": {
        "colab": {
          "base_uri": "https://localhost:8080/"
        },
        "id": "SDdDNmtuMt0w",
        "outputId": "ac25a1de-3568-457b-a877-f6b24f1fca29"
      },
      "outputs": [],
      "source": [
        "try:\n",
        "  import geopandas as gpd\n",
        "except ModuleNotFoundError as e:\n",
        "  !pip install geopandas==0.10.1\n",
        "  import geopandas as gpd\n",
        "\n",
        "if gpd.__version__ != \"0.10.1\":\n",
        "  !pip install -U geopandas==0.10.1\n",
        "  import geopandas as gpd"
      ]
    },
    {
      "cell_type": "code",
      "execution_count": 8,
      "metadata": {},
      "outputs": [],
      "source": [
        "try:\n",
        "  import pyrosm\n",
        "except ModuleNotFoundError as e:\n",
        "  !pip install pyrosm==0.6.1\n",
        "  import pyrosm\n"
      ]
    },
    {
      "cell_type": "code",
      "execution_count": 9,
      "metadata": {},
      "outputs": [],
      "source": [
        "try:\n",
        "  import osmnx  as ox\n",
        "except ModuleNotFoundError as e:\n",
        "  !pip install osmnx==1.1.1\n",
        "  import osmnx  as ox\n",
        "if ox.__version__ != \"1.1.1\":\n",
        "  !pip install -U osmnx==1.1.1\n",
        "  import osmnx  as ox"
      ]
    },
    {
      "cell_type": "code",
      "execution_count": 10,
      "metadata": {},
      "outputs": [],
      "source": [
        "import pandas as pd\n",
        "from matplotlib import pyplot as plt"
      ]
    },
    {
      "cell_type": "markdown",
      "metadata": {
        "id": "rFMSrTsAM3cg"
      },
      "source": [
        "\n",
        "# Exercise\n",
        "- identify the shortest path by walk to reach the Castle of Trento from the main train station of Trento\n",
        "- identify how many bars you can reach by walking in 5 minutes from the main train station of Trento\n",
        "- calculate the students (primary and secondary education) accessibility of the city of Trento\n",
        "- identify the streets network orientation of the cities: Trento - Italy, Udine - Italy,  Trieste - Italy, Bari - Italy, Cremona - Italy, Bergamo - Italy, Chengdu - China, Istanbul - Turkey "
      ]
    },
    {
      "cell_type": "markdown",
      "metadata": {
        "id": "lzVZm5iYNOjU"
      },
      "source": [
        "# identify the shortest path by walk to reach the Castle of Trento from the main train station\n",
        "- where is the castle in Trento\n",
        "- where is the main train station"
      ]
    },
    {
      "cell_type": "markdown",
      "metadata": {
        "id": "wyHQc1BnNYc1"
      },
      "source": [
        "## where is the castle in Trento\n",
        "THe name of the castle of Trento is *[Castello del Buonconsiglio](https://en.wikipedia.org/wiki/Buonconsiglio_Castle)*\n",
        "\n",
        "\n"
      ]
    },
    {
      "cell_type": "code",
      "execution_count": 11,
      "metadata": {
        "id": "EPqiGXtUN1V5"
      },
      "outputs": [],
      "source": [
        "from geopy.geocoders import Nominatim"
      ]
    },
    {
      "cell_type": "code",
      "execution_count": 12,
      "metadata": {
        "id": "s4_aLhUoN700"
      },
      "outputs": [],
      "source": [
        "geolocator = Nominatim(user_agent=\"geospatial course\")\n",
        "location = geolocator.geocode(\"Castello del Buonconsiglio\")"
      ]
    },
    {
      "cell_type": "code",
      "execution_count": 13,
      "metadata": {
        "id": "Ub8Kk7iROIRJ"
      },
      "outputs": [],
      "source": [
        "point_castle =  (location.latitude, location.longitude)"
      ]
    },
    {
      "cell_type": "markdown",
      "metadata": {
        "id": "kG4TwJrnQZfz"
      },
      "source": [
        "## where is the main train station in Trento?\n",
        "\n",
        "[https://en.wikipedia.org/wiki/Trento_railway_station](https://en.wikipedia.org/wiki/Trento_railway_station)"
      ]
    },
    {
      "cell_type": "code",
      "execution_count": 14,
      "metadata": {
        "id": "a7g5-FaMOhH-"
      },
      "outputs": [],
      "source": [
        "location = geolocator.geocode(\"Trento stazione fs\")"
      ]
    },
    {
      "cell_type": "code",
      "execution_count": 15,
      "metadata": {
        "id": "qp-12M9nQvcF"
      },
      "outputs": [],
      "source": [
        "point_train_station =  (location.latitude, location.longitude)"
      ]
    },
    {
      "cell_type": "markdown",
      "metadata": {},
      "source": [
        "## download the data for PyrOSM"
      ]
    },
    {
      "cell_type": "code",
      "execution_count": 16,
      "metadata": {},
      "outputs": [],
      "source": [
        "url_download_trento_pbf = 'https://osmit-estratti.wmcloud.org/dati/poly/comuni/pbf/022205_Trento_poly.osm.pbf'\n",
        "import urllib.request\n",
        "urllib.request.urlretrieve(url_download_trento_pbf ,\"trento_osm.pbf\")    \n",
        "osm = pyrosm.OSM(\"trento_osm.pbf\")"
      ]
    },
    {
      "cell_type": "markdown",
      "metadata": {
        "id": "vNKg70llREoT"
      },
      "source": [
        "## create the streets walking graph"
      ]
    },
    {
      "cell_type": "code",
      "execution_count": 17,
      "metadata": {},
      "outputs": [],
      "source": [
        "nodes, edges = osm.get_network(network_type=\"walking\", nodes=True)"
      ]
    },
    {
      "cell_type": "markdown",
      "metadata": {},
      "source": [
        "### with pandana"
      ]
    },
    {
      "cell_type": "code",
      "execution_count": 18,
      "metadata": {},
      "outputs": [
        {
          "name": "stdout",
          "output_type": "stream",
          "text": [
            "CPU times: user 2 µs, sys: 0 ns, total: 2 µs\n",
            "Wall time: 4.53 µs\n"
          ]
        }
      ],
      "source": [
        "network_pandana = osm.to_graph(nodes, edges, graph_type=\"pandana\")\n",
        "%time"
      ]
    },
    {
      "cell_type": "code",
      "execution_count": 19,
      "metadata": {},
      "outputs": [],
      "source": [
        "network_pandana.precompute(2000)"
      ]
    },
    {
      "cell_type": "code",
      "execution_count": 20,
      "metadata": {},
      "outputs": [],
      "source": [
        "places = pd.DataFrame([\n",
        "    {'name': 'Castello del Buonconsiglio', 'lon': point_castle[1], 'lat': point_castle[0]},\n",
        "    {'name': 'Trento stazione fs', 'lon': point_train_station[1], 'lat': point_train_station[0]}\n",
        "])"
      ]
    },
    {
      "cell_type": "code",
      "execution_count": 21,
      "metadata": {},
      "outputs": [],
      "source": [
        "node_ids = network_pandana.get_node_ids(places.lon, places.lat).values"
      ]
    },
    {
      "cell_type": "code",
      "execution_count": 22,
      "metadata": {},
      "outputs": [],
      "source": [
        "shortest_path = network_pandana.shortest_path(node_ids[0], node_ids[1])"
      ]
    },
    {
      "cell_type": "code",
      "execution_count": 23,
      "metadata": {},
      "outputs": [
        {
          "data": {
            "text/plain": [
              "array([ 858341204,  858341167, 6036162193, 6036162196, 6036162192,\n",
              "       1028832536, 2889611593, 1252285098, 1252285133, 1252285149,\n",
              "       2889611592, 1252285086, 1252285139, 1678228017, 6159039743,\n",
              "       1271504913, 1678228035, 1271504823, 6161904400, 6140116225,\n",
              "       6161904397, 6161904396, 6161904395, 1271504891, 2018118680,\n",
              "        889555996,  269471808,  888452804,  983735557,  889555393,\n",
              "        266157700,  889555458, 1638162381, 1000099724,  270648222,\n",
              "       1000099503, 2496642274, 2653965264, 2344153496,  880590599,\n",
              "        248794958,  257030408, 1299369689,  867438794,  680162937,\n",
              "        941909261,  880590997,  941909121,  941908748, 1150667560,\n",
              "       1150667540, 1150667622, 1150667606, 1150667539, 9100209211,\n",
              "       9100209212])"
            ]
          },
          "execution_count": 23,
          "metadata": {},
          "output_type": "execute_result"
        }
      ],
      "source": [
        "shortest_path"
      ]
    },
    {
      "cell_type": "code",
      "execution_count": 24,
      "metadata": {},
      "outputs": [],
      "source": [
        "from shapely.geometry import LineString\n",
        "# function to create the route from the ids of the nodes\n",
        "def route_nodes_to_line_pandana(nodes, network):\n",
        "    points = network.nodes_df.loc[nodes, :]\n",
        "    route_gpd = gpd.GeoDataFrame(\n",
        "        {\"src_node\": [nodes[0]], \"tgt_node\": [nodes[1]]},\n",
        "        geometry=[LineString(points.values)],\n",
        "        crs=\"epsg:4326\"\n",
        "    )\n",
        "    return route_gpd"
      ]
    },
    {
      "cell_type": "code",
      "execution_count": 25,
      "metadata": {},
      "outputs": [],
      "source": [
        "route_with_pandana = route_nodes_to_line_pandana(shortest_path, network_pandana)"
      ]
    },
    {
      "cell_type": "code",
      "execution_count": 26,
      "metadata": {},
      "outputs": [
        {
          "data": {
            "text/html": [
              "<div style=\"width:100%;\"><div style=\"position:relative;width:100%;height:0;padding-bottom:60%;\"><span style=\"color:#565656\">Make this Notebook Trusted to load map: File -> Trust Notebook</span><iframe src=\"about:blank\" style=\"position:absolute;width:100%;height:100%;left:0;top:0;border:none !important;\" data-html=%3C%21DOCTYPE%20html%3E%0A%3Chead%3E%20%20%20%20%0A%20%20%20%20%3Cmeta%20http-equiv%3D%22content-type%22%20content%3D%22text/html%3B%20charset%3DUTF-8%22%20/%3E%0A%20%20%20%20%0A%20%20%20%20%20%20%20%20%3Cscript%3E%0A%20%20%20%20%20%20%20%20%20%20%20%20L_NO_TOUCH%20%3D%20false%3B%0A%20%20%20%20%20%20%20%20%20%20%20%20L_DISABLE_3D%20%3D%20false%3B%0A%20%20%20%20%20%20%20%20%3C/script%3E%0A%20%20%20%20%0A%20%20%20%20%3Cstyle%3Ehtml%2C%20body%20%7Bwidth%3A%20100%25%3Bheight%3A%20100%25%3Bmargin%3A%200%3Bpadding%3A%200%3B%7D%3C/style%3E%0A%20%20%20%20%3Cstyle%3E%23map%20%7Bposition%3Aabsolute%3Btop%3A0%3Bbottom%3A0%3Bright%3A0%3Bleft%3A0%3B%7D%3C/style%3E%0A%20%20%20%20%3Cscript%20src%3D%22https%3A//cdn.jsdelivr.net/npm/leaflet%401.6.0/dist/leaflet.js%22%3E%3C/script%3E%0A%20%20%20%20%3Cscript%20src%3D%22https%3A//code.jquery.com/jquery-1.12.4.min.js%22%3E%3C/script%3E%0A%20%20%20%20%3Cscript%20src%3D%22https%3A//maxcdn.bootstrapcdn.com/bootstrap/3.2.0/js/bootstrap.min.js%22%3E%3C/script%3E%0A%20%20%20%20%3Cscript%20src%3D%22https%3A//cdnjs.cloudflare.com/ajax/libs/Leaflet.awesome-markers/2.0.2/leaflet.awesome-markers.js%22%3E%3C/script%3E%0A%20%20%20%20%3Clink%20rel%3D%22stylesheet%22%20href%3D%22https%3A//cdn.jsdelivr.net/npm/leaflet%401.6.0/dist/leaflet.css%22/%3E%0A%20%20%20%20%3Clink%20rel%3D%22stylesheet%22%20href%3D%22https%3A//maxcdn.bootstrapcdn.com/bootstrap/3.2.0/css/bootstrap.min.css%22/%3E%0A%20%20%20%20%3Clink%20rel%3D%22stylesheet%22%20href%3D%22https%3A//maxcdn.bootstrapcdn.com/bootstrap/3.2.0/css/bootstrap-theme.min.css%22/%3E%0A%20%20%20%20%3Clink%20rel%3D%22stylesheet%22%20href%3D%22https%3A//maxcdn.bootstrapcdn.com/font-awesome/4.6.3/css/font-awesome.min.css%22/%3E%0A%20%20%20%20%3Clink%20rel%3D%22stylesheet%22%20href%3D%22https%3A//cdnjs.cloudflare.com/ajax/libs/Leaflet.awesome-markers/2.0.2/leaflet.awesome-markers.css%22/%3E%0A%20%20%20%20%3Clink%20rel%3D%22stylesheet%22%20href%3D%22https%3A//cdn.jsdelivr.net/gh/python-visualization/folium/folium/templates/leaflet.awesome.rotate.min.css%22/%3E%0A%20%20%20%20%0A%20%20%20%20%20%20%20%20%20%20%20%20%3Cmeta%20name%3D%22viewport%22%20content%3D%22width%3Ddevice-width%2C%0A%20%20%20%20%20%20%20%20%20%20%20%20%20%20%20%20initial-scale%3D1.0%2C%20maximum-scale%3D1.0%2C%20user-scalable%3Dno%22%20/%3E%0A%20%20%20%20%20%20%20%20%20%20%20%20%3Cstyle%3E%0A%20%20%20%20%20%20%20%20%20%20%20%20%20%20%20%20%23map_a660dbcdbb004ce686ae9c6eee0b66b4%20%7B%0A%20%20%20%20%20%20%20%20%20%20%20%20%20%20%20%20%20%20%20%20position%3A%20relative%3B%0A%20%20%20%20%20%20%20%20%20%20%20%20%20%20%20%20%20%20%20%20width%3A%20100.0%25%3B%0A%20%20%20%20%20%20%20%20%20%20%20%20%20%20%20%20%20%20%20%20height%3A%20100.0%25%3B%0A%20%20%20%20%20%20%20%20%20%20%20%20%20%20%20%20%20%20%20%20left%3A%200.0%25%3B%0A%20%20%20%20%20%20%20%20%20%20%20%20%20%20%20%20%20%20%20%20top%3A%200.0%25%3B%0A%20%20%20%20%20%20%20%20%20%20%20%20%20%20%20%20%7D%0A%20%20%20%20%20%20%20%20%20%20%20%20%3C/style%3E%0A%20%20%20%20%20%20%20%20%0A%20%20%20%20%0A%20%20%20%20%20%20%20%20%20%20%20%20%20%20%20%20%20%20%20%20%3Cstyle%3E%0A%20%20%20%20%20%20%20%20%20%20%20%20%20%20%20%20%20%20%20%20%20%20%20%20.foliumtooltip%20%7B%0A%20%20%20%20%20%20%20%20%20%20%20%20%20%20%20%20%20%20%20%20%20%20%20%20%20%20%20%20%0A%20%20%20%20%20%20%20%20%20%20%20%20%20%20%20%20%20%20%20%20%20%20%20%20%7D%0A%20%20%20%20%20%20%20%20%20%20%20%20%20%20%20%20%20%20%20%20%20%20%20.foliumtooltip%20table%7B%0A%20%20%20%20%20%20%20%20%20%20%20%20%20%20%20%20%20%20%20%20%20%20%20%20%20%20%20%20margin%3A%20auto%3B%0A%20%20%20%20%20%20%20%20%20%20%20%20%20%20%20%20%20%20%20%20%20%20%20%20%7D%0A%20%20%20%20%20%20%20%20%20%20%20%20%20%20%20%20%20%20%20%20%20%20%20%20.foliumtooltip%20tr%7B%0A%20%20%20%20%20%20%20%20%20%20%20%20%20%20%20%20%20%20%20%20%20%20%20%20%20%20%20%20text-align%3A%20left%3B%0A%20%20%20%20%20%20%20%20%20%20%20%20%20%20%20%20%20%20%20%20%20%20%20%20%7D%0A%20%20%20%20%20%20%20%20%20%20%20%20%20%20%20%20%20%20%20%20%20%20%20%20.foliumtooltip%20th%7B%0A%20%20%20%20%20%20%20%20%20%20%20%20%20%20%20%20%20%20%20%20%20%20%20%20%20%20%20%20padding%3A%202px%3B%20padding-right%3A%208px%3B%0A%20%20%20%20%20%20%20%20%20%20%20%20%20%20%20%20%20%20%20%20%20%20%20%20%7D%0A%20%20%20%20%20%20%20%20%20%20%20%20%20%20%20%20%20%20%20%20%3C/style%3E%0A%20%20%20%20%20%20%20%20%20%20%20%20%0A%3C/head%3E%0A%3Cbody%3E%20%20%20%20%0A%20%20%20%20%0A%20%20%20%20%20%20%20%20%20%20%20%20%3Cdiv%20class%3D%22folium-map%22%20id%3D%22map_a660dbcdbb004ce686ae9c6eee0b66b4%22%20%3E%3C/div%3E%0A%20%20%20%20%20%20%20%20%0A%3C/body%3E%0A%3Cscript%3E%20%20%20%20%0A%20%20%20%20%0A%20%20%20%20%20%20%20%20%20%20%20%20var%20map_a660dbcdbb004ce686ae9c6eee0b66b4%20%3D%20L.map%28%0A%20%20%20%20%20%20%20%20%20%20%20%20%20%20%20%20%22map_a660dbcdbb004ce686ae9c6eee0b66b4%22%2C%0A%20%20%20%20%20%20%20%20%20%20%20%20%20%20%20%20%7B%0A%20%20%20%20%20%20%20%20%20%20%20%20%20%20%20%20%20%20%20%20center%3A%20%5B46.07236825%2C%2011.122983300000001%5D%2C%0A%20%20%20%20%20%20%20%20%20%20%20%20%20%20%20%20%20%20%20%20crs%3A%20L.CRS.EPSG3857%2C%0A%20%20%20%20%20%20%20%20%20%20%20%20%20%20%20%20%20%20%20%20zoom%3A%2010%2C%0A%20%20%20%20%20%20%20%20%20%20%20%20%20%20%20%20%20%20%20%20zoomControl%3A%20true%2C%0A%20%20%20%20%20%20%20%20%20%20%20%20%20%20%20%20%20%20%20%20preferCanvas%3A%20false%2C%0A%20%20%20%20%20%20%20%20%20%20%20%20%20%20%20%20%7D%0A%20%20%20%20%20%20%20%20%20%20%20%20%29%3B%0A%20%20%20%20%20%20%20%20%20%20%20%20L.control.scale%28%29.addTo%28map_a660dbcdbb004ce686ae9c6eee0b66b4%29%3B%0A%0A%20%20%20%20%20%20%20%20%20%20%20%20%0A%0A%20%20%20%20%20%20%20%20%0A%20%20%20%20%0A%20%20%20%20%20%20%20%20%20%20%20%20var%20tile_layer_55a65ba61fc547a88997d69132af37db%20%3D%20L.tileLayer%28%0A%20%20%20%20%20%20%20%20%20%20%20%20%20%20%20%20%22https%3A//%7Bs%7D.tile.openstreetmap.org/%7Bz%7D/%7Bx%7D/%7By%7D.png%22%2C%0A%20%20%20%20%20%20%20%20%20%20%20%20%20%20%20%20%7B%22attribution%22%3A%20%22Data%20by%20%5Cu0026copy%3B%20%5Cu003ca%20href%3D%5C%22http%3A//openstreetmap.org%5C%22%5Cu003eOpenStreetMap%5Cu003c/a%5Cu003e%2C%20under%20%5Cu003ca%20href%3D%5C%22http%3A//www.openstreetmap.org/copyright%5C%22%5Cu003eODbL%5Cu003c/a%5Cu003e.%22%2C%20%22detectRetina%22%3A%20false%2C%20%22maxNativeZoom%22%3A%2018%2C%20%22maxZoom%22%3A%2018%2C%20%22minZoom%22%3A%200%2C%20%22noWrap%22%3A%20false%2C%20%22opacity%22%3A%201%2C%20%22subdomains%22%3A%20%22abc%22%2C%20%22tms%22%3A%20false%7D%0A%20%20%20%20%20%20%20%20%20%20%20%20%29.addTo%28map_a660dbcdbb004ce686ae9c6eee0b66b4%29%3B%0A%20%20%20%20%20%20%20%20%0A%20%20%20%20%0A%20%20%20%20%20%20%20%20%20%20%20%20map_a660dbcdbb004ce686ae9c6eee0b66b4.fitBounds%28%0A%20%20%20%20%20%20%20%20%20%20%20%20%20%20%20%20%5B%5B46.0711081%2C%2011.1190429%5D%2C%20%5B46.0736284%2C%2011.1269237%5D%5D%2C%0A%20%20%20%20%20%20%20%20%20%20%20%20%20%20%20%20%7B%7D%0A%20%20%20%20%20%20%20%20%20%20%20%20%29%3B%0A%20%20%20%20%20%20%20%20%0A%20%20%20%20%0A%20%20%20%20%20%20%20%20function%20geo_json_949087fafbd34decb6eaed844cd5439b_styler%28feature%29%20%7B%0A%20%20%20%20%20%20%20%20%20%20%20%20switch%28feature.id%29%20%7B%0A%20%20%20%20%20%20%20%20%20%20%20%20%20%20%20%20default%3A%0A%20%20%20%20%20%20%20%20%20%20%20%20%20%20%20%20%20%20%20%20return%20%7B%22fillOpacity%22%3A%200.5%2C%20%22weight%22%3A%202%7D%3B%0A%20%20%20%20%20%20%20%20%20%20%20%20%7D%0A%20%20%20%20%20%20%20%20%7D%0A%20%20%20%20%20%20%20%20function%20geo_json_949087fafbd34decb6eaed844cd5439b_highlighter%28feature%29%20%7B%0A%20%20%20%20%20%20%20%20%20%20%20%20switch%28feature.id%29%20%7B%0A%20%20%20%20%20%20%20%20%20%20%20%20%20%20%20%20default%3A%0A%20%20%20%20%20%20%20%20%20%20%20%20%20%20%20%20%20%20%20%20return%20%7B%22fillOpacity%22%3A%200.75%7D%3B%0A%20%20%20%20%20%20%20%20%20%20%20%20%7D%0A%20%20%20%20%20%20%20%20%7D%0A%20%20%20%20%20%20%20%20function%20geo_json_949087fafbd34decb6eaed844cd5439b_pointToLayer%28feature%2C%20latlng%29%20%7B%0A%20%20%20%20%20%20%20%20%20%20%20%20var%20opts%20%3D%20%7B%22bubblingMouseEvents%22%3A%20true%2C%20%22color%22%3A%20%22%233388ff%22%2C%20%22dashArray%22%3A%20null%2C%20%22dashOffset%22%3A%20null%2C%20%22fill%22%3A%20true%2C%20%22fillColor%22%3A%20%22%233388ff%22%2C%20%22fillOpacity%22%3A%200.2%2C%20%22fillRule%22%3A%20%22evenodd%22%2C%20%22lineCap%22%3A%20%22round%22%2C%20%22lineJoin%22%3A%20%22round%22%2C%20%22opacity%22%3A%201.0%2C%20%22radius%22%3A%202%2C%20%22stroke%22%3A%20true%2C%20%22weight%22%3A%203%7D%3B%0A%20%20%20%20%20%20%20%20%20%20%20%20%0A%20%20%20%20%20%20%20%20%20%20%20%20let%20style%20%3D%20geo_json_949087fafbd34decb6eaed844cd5439b_styler%28feature%29%0A%20%20%20%20%20%20%20%20%20%20%20%20Object.assign%28opts%2C%20style%29%0A%20%20%20%20%20%20%20%20%20%20%20%20%0A%20%20%20%20%20%20%20%20%20%20%20%20return%20new%20L.CircleMarker%28latlng%2C%20opts%29%0A%20%20%20%20%20%20%20%20%7D%0A%0A%20%20%20%20%20%20%20%20function%20geo_json_949087fafbd34decb6eaed844cd5439b_onEachFeature%28feature%2C%20layer%29%20%7B%0A%20%20%20%20%20%20%20%20%20%20%20%20layer.on%28%7B%0A%20%20%20%20%20%20%20%20%20%20%20%20%20%20%20%20mouseout%3A%20function%28e%29%20%7B%0A%20%20%20%20%20%20%20%20%20%20%20%20%20%20%20%20%20%20%20%20if%28typeof%20e.target.setStyle%20%3D%3D%3D%20%22function%22%29%7B%0A%20%20%20%20%20%20%20%20%20%20%20%20%20%20%20%20%20%20%20%20%20%20%20%20geo_json_949087fafbd34decb6eaed844cd5439b.resetStyle%28e.target%29%3B%0A%20%20%20%20%20%20%20%20%20%20%20%20%20%20%20%20%20%20%20%20%7D%0A%20%20%20%20%20%20%20%20%20%20%20%20%20%20%20%20%7D%2C%0A%20%20%20%20%20%20%20%20%20%20%20%20%20%20%20%20mouseover%3A%20function%28e%29%20%7B%0A%20%20%20%20%20%20%20%20%20%20%20%20%20%20%20%20%20%20%20%20if%28typeof%20e.target.setStyle%20%3D%3D%3D%20%22function%22%29%7B%0A%20%20%20%20%20%20%20%20%20%20%20%20%20%20%20%20%20%20%20%20%20%20%20%20const%20highlightStyle%20%3D%20geo_json_949087fafbd34decb6eaed844cd5439b_highlighter%28e.target.feature%29%0A%20%20%20%20%20%20%20%20%20%20%20%20%20%20%20%20%20%20%20%20%20%20%20%20e.target.setStyle%28highlightStyle%29%3B%0A%20%20%20%20%20%20%20%20%20%20%20%20%20%20%20%20%20%20%20%20%7D%0A%20%20%20%20%20%20%20%20%20%20%20%20%20%20%20%20%7D%2C%0A%20%20%20%20%20%20%20%20%20%20%20%20%7D%29%3B%0A%20%20%20%20%20%20%20%20%7D%3B%0A%20%20%20%20%20%20%20%20var%20geo_json_949087fafbd34decb6eaed844cd5439b%20%3D%20L.geoJson%28null%2C%20%7B%0A%20%20%20%20%20%20%20%20%20%20%20%20%20%20%20%20onEachFeature%3A%20geo_json_949087fafbd34decb6eaed844cd5439b_onEachFeature%2C%0A%20%20%20%20%20%20%20%20%20%20%20%20%0A%20%20%20%20%20%20%20%20%20%20%20%20%20%20%20%20style%3A%20geo_json_949087fafbd34decb6eaed844cd5439b_styler%2C%0A%20%20%20%20%20%20%20%20%20%20%20%20%20%20%20%20pointToLayer%3A%20geo_json_949087fafbd34decb6eaed844cd5439b_pointToLayer%0A%20%20%20%20%20%20%20%20%7D%29%3B%0A%0A%20%20%20%20%20%20%20%20function%20geo_json_949087fafbd34decb6eaed844cd5439b_add%20%28data%29%20%7B%0A%20%20%20%20%20%20%20%20%20%20%20%20geo_json_949087fafbd34decb6eaed844cd5439b%0A%20%20%20%20%20%20%20%20%20%20%20%20%20%20%20%20.addData%28data%29%0A%20%20%20%20%20%20%20%20%20%20%20%20%20%20%20%20.addTo%28map_a660dbcdbb004ce686ae9c6eee0b66b4%29%3B%0A%20%20%20%20%20%20%20%20%7D%0A%20%20%20%20%20%20%20%20%20%20%20%20geo_json_949087fafbd34decb6eaed844cd5439b_add%28%7B%22bbox%22%3A%20%5B11.1190429%2C%2046.0711081%2C%2011.1269237%2C%2046.0736284%5D%2C%20%22features%22%3A%20%5B%7B%22bbox%22%3A%20%5B11.1190429%2C%2046.0711081%2C%2011.1269237%2C%2046.0736284%5D%2C%20%22geometry%22%3A%20%7B%22coordinates%22%3A%20%5B%5B11.1269237%2C%2046.071152%5D%2C%20%5B11.1267754%2C%2046.0711081%5D%2C%20%5B11.1265947%2C%2046.0714055%5D%2C%20%5B11.1265677%2C%2046.07145%5D%2C%20%5B11.126518%2C%2046.0715319%5D%2C%20%5B11.1264171%2C%2046.0715205%5D%2C%20%5B11.12632%2C%2046.0714926%5D%2C%20%5B11.1262882%2C%2046.0715472%5D%2C%20%5B11.1262125%2C%2046.0716537%5D%2C%20%5B11.1261454%2C%2046.0717482%5D%2C%20%5B11.1260974%2C%2046.0718025%5D%2C%20%5B11.1260405%2C%2046.0718669%5D%2C%20%5B11.1259869%2C%2046.0719295%5D%2C%20%5B11.1260184%2C%2046.0720236%5D%2C%20%5B11.1259968%2C%2046.0720402%5D%2C%20%5B11.1259585%2C%2046.0720594%5D%2C%20%5B11.1258874%2C%2046.0720949%5D%2C%20%5B11.125445%2C%2046.0721792%5D%2C%20%5B11.1252559%2C%2046.0722161%5D%2C%20%5B11.1252132%2C%2046.0722208%5D%2C%20%5B11.1251626%2C%2046.0722263%5D%2C%20%5B11.1251519%2C%2046.0722081%5D%2C%20%5B11.1251358%2C%2046.072203%5D%2C%20%5B11.1251103%2C%2046.0722037%5D%2C%20%5B11.1250805%2C%2046.0721453%5D%2C%20%5B11.1249153%2C%2046.0721833%5D%2C%20%5B11.1247993%2C%2046.0722321%5D%2C%20%5B11.1246705%2C%2046.0722752%5D%2C%20%5B11.1241238%2C%2046.0724507%5D%2C%20%5B11.1239693%2C%2046.0725009%5D%2C%20%5B11.1238046%2C%2046.0725517%5D%2C%20%5B11.123718%2C%2046.0725804%5D%2C%20%5B11.1232161%2C%2046.0727391%5D%2C%20%5B11.1223109%2C%2046.0730255%5D%2C%20%5B11.1222339%2C%2046.0730504%5D%2C%20%5B11.1221638%2C%2046.0730735%5D%2C%20%5B11.1220971%2C%2046.0730957%5D%2C%20%5B11.1216815%2C%2046.0732341%5D%2C%20%5B11.1216104%2C%2046.0732579%5D%2C%20%5B11.121161%2C%2046.0734084%5D%2C%20%5B11.1208969%2C%2046.0734977%5D%2C%20%5B11.1208355%2C%2046.0734944%5D%2C%20%5B11.1206947%2C%2046.0735555%5D%2C%20%5B11.1206703%2C%2046.0735651%5D%2C%20%5B11.1206182%2C%2046.0735855%5D%2C%20%5B11.1204959%2C%2046.0736284%5D%2C%20%5B11.1204584%2C%2046.0735771%5D%2C%20%5B11.1204037%2C%2046.0735023%5D%2C%20%5B11.1201794%2C%2046.073581%5D%2C%20%5B11.1201305%2C%2046.0735981%5D%2C%20%5B11.1199737%2C%2046.0733733%5D%2C%20%5B11.11978%2C%2046.0731073%5D%2C%20%5B11.1197082%2C%2046.073095%5D%2C%20%5B11.1196278%2C%2046.0729735%5D%2C%20%5B11.1190429%2C%2046.0721295%5D%2C%20%5B11.119089%2C%2046.0721156%5D%5D%2C%20%22type%22%3A%20%22LineString%22%7D%2C%20%22id%22%3A%20%220%22%2C%20%22properties%22%3A%20%7B%22src_node%22%3A%20858341204%2C%20%22tgt_node%22%3A%20858341167%7D%2C%20%22type%22%3A%20%22Feature%22%7D%5D%2C%20%22type%22%3A%20%22FeatureCollection%22%7D%29%3B%0A%0A%20%20%20%20%20%20%20%20%0A%20%20%20%20%0A%20%20%20%20geo_json_949087fafbd34decb6eaed844cd5439b.bindTooltip%28%0A%20%20%20%20function%28layer%29%7B%0A%20%20%20%20let%20div%20%3D%20L.DomUtil.create%28%27div%27%29%3B%0A%20%20%20%20%0A%20%20%20%20let%20handleObject%20%3D%20feature%3D%3Etypeof%28feature%29%3D%3D%27object%27%20%3F%20JSON.stringify%28feature%29%20%3A%20feature%3B%0A%20%20%20%20let%20fields%20%3D%20%5B%22src_node%22%2C%20%22tgt_node%22%5D%3B%0A%20%20%20%20let%20aliases%20%3D%20%5B%22src_node%22%2C%20%22tgt_node%22%5D%3B%0A%20%20%20%20let%20table%20%3D%20%27%3Ctable%3E%27%20%2B%0A%20%20%20%20%20%20%20%20String%28%0A%20%20%20%20%20%20%20%20fields.map%28%0A%20%20%20%20%20%20%20%20%28v%2Ci%29%3D%3E%0A%20%20%20%20%20%20%20%20%60%3Ctr%3E%0A%20%20%20%20%20%20%20%20%20%20%20%20%3Cth%3E%24%7Baliases%5Bi%5D%7D%3C/th%3E%0A%20%20%20%20%20%20%20%20%20%20%20%20%0A%20%20%20%20%20%20%20%20%20%20%20%20%3Ctd%3E%24%7BhandleObject%28layer.feature.properties%5Bv%5D%29%7D%3C/td%3E%0A%20%20%20%20%20%20%20%20%3C/tr%3E%60%29.join%28%27%27%29%29%0A%20%20%20%20%2B%27%3C/table%3E%27%3B%0A%20%20%20%20div.innerHTML%3Dtable%3B%0A%20%20%20%20%0A%20%20%20%20return%20div%0A%20%20%20%20%7D%0A%20%20%20%20%2C%7B%22className%22%3A%20%22foliumtooltip%22%2C%20%22sticky%22%3A%20true%7D%29%3B%0A%20%20%20%20%20%20%20%20%20%20%20%20%20%20%20%20%20%20%20%20%20%0A%3C/script%3E onload=\"this.contentDocument.open();this.contentDocument.write(    decodeURIComponent(this.getAttribute('data-html')));this.contentDocument.close();\" allowfullscreen webkitallowfullscreen mozallowfullscreen></iframe></div></div>"
            ],
            "text/plain": [
              "<folium.folium.Map at 0x7fde5c45aaf0>"
            ]
          },
          "execution_count": 26,
          "metadata": {},
          "output_type": "execute_result"
        }
      ],
      "source": [
        "route_with_pandana.explore()"
      ]
    },
    {
      "cell_type": "markdown",
      "metadata": {
        "id": "4gseT4udRjP8"
      },
      "source": [
        "### with networkx"
      ]
    },
    {
      "cell_type": "code",
      "execution_count": 27,
      "metadata": {},
      "outputs": [
        {
          "name": "stdout",
          "output_type": "stream",
          "text": [
            "CPU times: user 3 µs, sys: 1e+03 ns, total: 4 µs\n",
            "Wall time: 6.44 µs\n"
          ]
        }
      ],
      "source": [
        "network_onx = osm.to_graph(nodes, edges, graph_type=\"networkx\")\n",
        "%time"
      ]
    },
    {
      "cell_type": "code",
      "execution_count": 28,
      "metadata": {
        "id": "zr3ULBvMRk5W"
      },
      "outputs": [],
      "source": [
        "# the points must connetected to the graph\n",
        "point_nearest_train_station= ox.get_nearest_node(network_onx, point_train_station)\n",
        "point_nearest_castle = ox.get_nearest_node(network_onx, point_castle)"
      ]
    },
    {
      "cell_type": "markdown",
      "metadata": {
        "id": "Nk9J9uksSMMX"
      },
      "source": [
        "### calculate the shortest path ;)\n"
      ]
    },
    {
      "cell_type": "code",
      "execution_count": 29,
      "metadata": {
        "id": "rP7Z0ZzRSK54"
      },
      "outputs": [],
      "source": [
        "#route = ox.k_shortest_paths(network, point_nearest_train_station, point_nearest_castle, k=1, weight='length')\n",
        "shortest_path = ox.shortest_path(network_onx, point_nearest_train_station, point_nearest_castle, weight=\"length\")"
      ]
    },
    {
      "cell_type": "markdown",
      "metadata": {
        "id": "iE4MCV5GSgCw"
      },
      "source": [
        "### show it on the map \n",
        "\n"
      ]
    },
    {
      "cell_type": "code",
      "execution_count": 30,
      "metadata": {
        "colab": {
          "base_uri": "https://localhost:8080/",
          "height": 746
        },
        "id": "xKzgzfnASWpl",
        "outputId": "c50903b2-9aa7-4981-85e1-35760e02b562"
      },
      "outputs": [],
      "source": [
        "from shapely.geometry import Point\n",
        "\n",
        "# function to create the route from the ids of the nodes\n",
        "def route_nodes_to_line_networkx(nodelist, network):\n",
        "  points = []\n",
        "  for idnode in nodelist:\n",
        "    lon = network.nodes[idnode]['x']\n",
        "    lat = network.nodes[idnode]['y']\n",
        "    point = Point(lon,lat)\n",
        "    points.append(point)\n",
        "  path = LineString(points)\n",
        "  route = gpd.GeoDataFrame(\n",
        "    {\"src_node\": [nodelist[0]], \"tgt_node\": [nodelist[-1]]},\n",
        "      geometry=[path],\n",
        "      crs=\"epsg:4326\"\n",
        "  )\n",
        "  return route\n"
      ]
    },
    {
      "cell_type": "code",
      "execution_count": 31,
      "metadata": {},
      "outputs": [],
      "source": [
        "route_with_onx = route_nodes_to_line_networkx(shortest_path, network_onx)"
      ]
    },
    {
      "cell_type": "code",
      "execution_count": 32,
      "metadata": {},
      "outputs": [
        {
          "data": {
            "text/html": [
              "<div style=\"width:100%;\"><div style=\"position:relative;width:100%;height:0;padding-bottom:60%;\"><span style=\"color:#565656\">Make this Notebook Trusted to load map: File -> Trust Notebook</span><iframe src=\"about:blank\" style=\"position:absolute;width:100%;height:100%;left:0;top:0;border:none !important;\" data-html=%3C%21DOCTYPE%20html%3E%0A%3Chead%3E%20%20%20%20%0A%20%20%20%20%3Cmeta%20http-equiv%3D%22content-type%22%20content%3D%22text/html%3B%20charset%3DUTF-8%22%20/%3E%0A%20%20%20%20%0A%20%20%20%20%20%20%20%20%3Cscript%3E%0A%20%20%20%20%20%20%20%20%20%20%20%20L_NO_TOUCH%20%3D%20false%3B%0A%20%20%20%20%20%20%20%20%20%20%20%20L_DISABLE_3D%20%3D%20false%3B%0A%20%20%20%20%20%20%20%20%3C/script%3E%0A%20%20%20%20%0A%20%20%20%20%3Cstyle%3Ehtml%2C%20body%20%7Bwidth%3A%20100%25%3Bheight%3A%20100%25%3Bmargin%3A%200%3Bpadding%3A%200%3B%7D%3C/style%3E%0A%20%20%20%20%3Cstyle%3E%23map%20%7Bposition%3Aabsolute%3Btop%3A0%3Bbottom%3A0%3Bright%3A0%3Bleft%3A0%3B%7D%3C/style%3E%0A%20%20%20%20%3Cscript%20src%3D%22https%3A//cdn.jsdelivr.net/npm/leaflet%401.6.0/dist/leaflet.js%22%3E%3C/script%3E%0A%20%20%20%20%3Cscript%20src%3D%22https%3A//code.jquery.com/jquery-1.12.4.min.js%22%3E%3C/script%3E%0A%20%20%20%20%3Cscript%20src%3D%22https%3A//maxcdn.bootstrapcdn.com/bootstrap/3.2.0/js/bootstrap.min.js%22%3E%3C/script%3E%0A%20%20%20%20%3Cscript%20src%3D%22https%3A//cdnjs.cloudflare.com/ajax/libs/Leaflet.awesome-markers/2.0.2/leaflet.awesome-markers.js%22%3E%3C/script%3E%0A%20%20%20%20%3Clink%20rel%3D%22stylesheet%22%20href%3D%22https%3A//cdn.jsdelivr.net/npm/leaflet%401.6.0/dist/leaflet.css%22/%3E%0A%20%20%20%20%3Clink%20rel%3D%22stylesheet%22%20href%3D%22https%3A//maxcdn.bootstrapcdn.com/bootstrap/3.2.0/css/bootstrap.min.css%22/%3E%0A%20%20%20%20%3Clink%20rel%3D%22stylesheet%22%20href%3D%22https%3A//maxcdn.bootstrapcdn.com/bootstrap/3.2.0/css/bootstrap-theme.min.css%22/%3E%0A%20%20%20%20%3Clink%20rel%3D%22stylesheet%22%20href%3D%22https%3A//maxcdn.bootstrapcdn.com/font-awesome/4.6.3/css/font-awesome.min.css%22/%3E%0A%20%20%20%20%3Clink%20rel%3D%22stylesheet%22%20href%3D%22https%3A//cdnjs.cloudflare.com/ajax/libs/Leaflet.awesome-markers/2.0.2/leaflet.awesome-markers.css%22/%3E%0A%20%20%20%20%3Clink%20rel%3D%22stylesheet%22%20href%3D%22https%3A//cdn.jsdelivr.net/gh/python-visualization/folium/folium/templates/leaflet.awesome.rotate.min.css%22/%3E%0A%20%20%20%20%0A%20%20%20%20%20%20%20%20%20%20%20%20%3Cmeta%20name%3D%22viewport%22%20content%3D%22width%3Ddevice-width%2C%0A%20%20%20%20%20%20%20%20%20%20%20%20%20%20%20%20initial-scale%3D1.0%2C%20maximum-scale%3D1.0%2C%20user-scalable%3Dno%22%20/%3E%0A%20%20%20%20%20%20%20%20%20%20%20%20%3Cstyle%3E%0A%20%20%20%20%20%20%20%20%20%20%20%20%20%20%20%20%23map_9996e0b2339e4c62990d44ecd71c91c5%20%7B%0A%20%20%20%20%20%20%20%20%20%20%20%20%20%20%20%20%20%20%20%20position%3A%20relative%3B%0A%20%20%20%20%20%20%20%20%20%20%20%20%20%20%20%20%20%20%20%20width%3A%20100.0%25%3B%0A%20%20%20%20%20%20%20%20%20%20%20%20%20%20%20%20%20%20%20%20height%3A%20100.0%25%3B%0A%20%20%20%20%20%20%20%20%20%20%20%20%20%20%20%20%20%20%20%20left%3A%200.0%25%3B%0A%20%20%20%20%20%20%20%20%20%20%20%20%20%20%20%20%20%20%20%20top%3A%200.0%25%3B%0A%20%20%20%20%20%20%20%20%20%20%20%20%20%20%20%20%7D%0A%20%20%20%20%20%20%20%20%20%20%20%20%3C/style%3E%0A%20%20%20%20%20%20%20%20%0A%20%20%20%20%0A%20%20%20%20%20%20%20%20%20%20%20%20%20%20%20%20%20%20%20%20%3Cstyle%3E%0A%20%20%20%20%20%20%20%20%20%20%20%20%20%20%20%20%20%20%20%20%20%20%20%20.foliumtooltip%20%7B%0A%20%20%20%20%20%20%20%20%20%20%20%20%20%20%20%20%20%20%20%20%20%20%20%20%20%20%20%20%0A%20%20%20%20%20%20%20%20%20%20%20%20%20%20%20%20%20%20%20%20%20%20%20%20%7D%0A%20%20%20%20%20%20%20%20%20%20%20%20%20%20%20%20%20%20%20%20%20%20%20.foliumtooltip%20table%7B%0A%20%20%20%20%20%20%20%20%20%20%20%20%20%20%20%20%20%20%20%20%20%20%20%20%20%20%20%20margin%3A%20auto%3B%0A%20%20%20%20%20%20%20%20%20%20%20%20%20%20%20%20%20%20%20%20%20%20%20%20%7D%0A%20%20%20%20%20%20%20%20%20%20%20%20%20%20%20%20%20%20%20%20%20%20%20%20.foliumtooltip%20tr%7B%0A%20%20%20%20%20%20%20%20%20%20%20%20%20%20%20%20%20%20%20%20%20%20%20%20%20%20%20%20text-align%3A%20left%3B%0A%20%20%20%20%20%20%20%20%20%20%20%20%20%20%20%20%20%20%20%20%20%20%20%20%7D%0A%20%20%20%20%20%20%20%20%20%20%20%20%20%20%20%20%20%20%20%20%20%20%20%20.foliumtooltip%20th%7B%0A%20%20%20%20%20%20%20%20%20%20%20%20%20%20%20%20%20%20%20%20%20%20%20%20%20%20%20%20padding%3A%202px%3B%20padding-right%3A%208px%3B%0A%20%20%20%20%20%20%20%20%20%20%20%20%20%20%20%20%20%20%20%20%20%20%20%20%7D%0A%20%20%20%20%20%20%20%20%20%20%20%20%20%20%20%20%20%20%20%20%3C/style%3E%0A%20%20%20%20%20%20%20%20%20%20%20%20%0A%3C/head%3E%0A%3Cbody%3E%20%20%20%20%0A%20%20%20%20%0A%20%20%20%20%20%20%20%20%20%20%20%20%3Cdiv%20class%3D%22folium-map%22%20id%3D%22map_9996e0b2339e4c62990d44ecd71c91c5%22%20%3E%3C/div%3E%0A%20%20%20%20%20%20%20%20%0A%3C/body%3E%0A%3Cscript%3E%20%20%20%20%0A%20%20%20%20%0A%20%20%20%20%20%20%20%20%20%20%20%20var%20map_9996e0b2339e4c62990d44ecd71c91c5%20%3D%20L.map%28%0A%20%20%20%20%20%20%20%20%20%20%20%20%20%20%20%20%22map_9996e0b2339e4c62990d44ecd71c91c5%22%2C%0A%20%20%20%20%20%20%20%20%20%20%20%20%20%20%20%20%7B%0A%20%20%20%20%20%20%20%20%20%20%20%20%20%20%20%20%20%20%20%20center%3A%20%5B46.07236825%2C%2011.122983300000001%5D%2C%0A%20%20%20%20%20%20%20%20%20%20%20%20%20%20%20%20%20%20%20%20crs%3A%20L.CRS.EPSG3857%2C%0A%20%20%20%20%20%20%20%20%20%20%20%20%20%20%20%20%20%20%20%20zoom%3A%2010%2C%0A%20%20%20%20%20%20%20%20%20%20%20%20%20%20%20%20%20%20%20%20zoomControl%3A%20true%2C%0A%20%20%20%20%20%20%20%20%20%20%20%20%20%20%20%20%20%20%20%20preferCanvas%3A%20false%2C%0A%20%20%20%20%20%20%20%20%20%20%20%20%20%20%20%20%7D%0A%20%20%20%20%20%20%20%20%20%20%20%20%29%3B%0A%20%20%20%20%20%20%20%20%20%20%20%20L.control.scale%28%29.addTo%28map_9996e0b2339e4c62990d44ecd71c91c5%29%3B%0A%0A%20%20%20%20%20%20%20%20%20%20%20%20%0A%0A%20%20%20%20%20%20%20%20%0A%20%20%20%20%0A%20%20%20%20%20%20%20%20%20%20%20%20var%20tile_layer_74e2ae56e3c64c1eae20da34f2ec5937%20%3D%20L.tileLayer%28%0A%20%20%20%20%20%20%20%20%20%20%20%20%20%20%20%20%22https%3A//%7Bs%7D.tile.openstreetmap.org/%7Bz%7D/%7Bx%7D/%7By%7D.png%22%2C%0A%20%20%20%20%20%20%20%20%20%20%20%20%20%20%20%20%7B%22attribution%22%3A%20%22Data%20by%20%5Cu0026copy%3B%20%5Cu003ca%20href%3D%5C%22http%3A//openstreetmap.org%5C%22%5Cu003eOpenStreetMap%5Cu003c/a%5Cu003e%2C%20under%20%5Cu003ca%20href%3D%5C%22http%3A//www.openstreetmap.org/copyright%5C%22%5Cu003eODbL%5Cu003c/a%5Cu003e.%22%2C%20%22detectRetina%22%3A%20false%2C%20%22maxNativeZoom%22%3A%2018%2C%20%22maxZoom%22%3A%2018%2C%20%22minZoom%22%3A%200%2C%20%22noWrap%22%3A%20false%2C%20%22opacity%22%3A%201%2C%20%22subdomains%22%3A%20%22abc%22%2C%20%22tms%22%3A%20false%7D%0A%20%20%20%20%20%20%20%20%20%20%20%20%29.addTo%28map_9996e0b2339e4c62990d44ecd71c91c5%29%3B%0A%20%20%20%20%20%20%20%20%0A%20%20%20%20%0A%20%20%20%20%20%20%20%20%20%20%20%20map_9996e0b2339e4c62990d44ecd71c91c5.fitBounds%28%0A%20%20%20%20%20%20%20%20%20%20%20%20%20%20%20%20%5B%5B46.0711081%2C%2011.1190429%5D%2C%20%5B46.0736284%2C%2011.1269237%5D%5D%2C%0A%20%20%20%20%20%20%20%20%20%20%20%20%20%20%20%20%7B%7D%0A%20%20%20%20%20%20%20%20%20%20%20%20%29%3B%0A%20%20%20%20%20%20%20%20%0A%20%20%20%20%0A%20%20%20%20%20%20%20%20function%20geo_json_924c5fe88f964559a82d81a944d194ca_styler%28feature%29%20%7B%0A%20%20%20%20%20%20%20%20%20%20%20%20switch%28feature.id%29%20%7B%0A%20%20%20%20%20%20%20%20%20%20%20%20%20%20%20%20default%3A%0A%20%20%20%20%20%20%20%20%20%20%20%20%20%20%20%20%20%20%20%20return%20%7B%22fillOpacity%22%3A%200.5%2C%20%22weight%22%3A%202%7D%3B%0A%20%20%20%20%20%20%20%20%20%20%20%20%7D%0A%20%20%20%20%20%20%20%20%7D%0A%20%20%20%20%20%20%20%20function%20geo_json_924c5fe88f964559a82d81a944d194ca_highlighter%28feature%29%20%7B%0A%20%20%20%20%20%20%20%20%20%20%20%20switch%28feature.id%29%20%7B%0A%20%20%20%20%20%20%20%20%20%20%20%20%20%20%20%20default%3A%0A%20%20%20%20%20%20%20%20%20%20%20%20%20%20%20%20%20%20%20%20return%20%7B%22fillOpacity%22%3A%200.75%7D%3B%0A%20%20%20%20%20%20%20%20%20%20%20%20%7D%0A%20%20%20%20%20%20%20%20%7D%0A%20%20%20%20%20%20%20%20function%20geo_json_924c5fe88f964559a82d81a944d194ca_pointToLayer%28feature%2C%20latlng%29%20%7B%0A%20%20%20%20%20%20%20%20%20%20%20%20var%20opts%20%3D%20%7B%22bubblingMouseEvents%22%3A%20true%2C%20%22color%22%3A%20%22%233388ff%22%2C%20%22dashArray%22%3A%20null%2C%20%22dashOffset%22%3A%20null%2C%20%22fill%22%3A%20true%2C%20%22fillColor%22%3A%20%22%233388ff%22%2C%20%22fillOpacity%22%3A%200.2%2C%20%22fillRule%22%3A%20%22evenodd%22%2C%20%22lineCap%22%3A%20%22round%22%2C%20%22lineJoin%22%3A%20%22round%22%2C%20%22opacity%22%3A%201.0%2C%20%22radius%22%3A%202%2C%20%22stroke%22%3A%20true%2C%20%22weight%22%3A%203%7D%3B%0A%20%20%20%20%20%20%20%20%20%20%20%20%0A%20%20%20%20%20%20%20%20%20%20%20%20let%20style%20%3D%20geo_json_924c5fe88f964559a82d81a944d194ca_styler%28feature%29%0A%20%20%20%20%20%20%20%20%20%20%20%20Object.assign%28opts%2C%20style%29%0A%20%20%20%20%20%20%20%20%20%20%20%20%0A%20%20%20%20%20%20%20%20%20%20%20%20return%20new%20L.CircleMarker%28latlng%2C%20opts%29%0A%20%20%20%20%20%20%20%20%7D%0A%0A%20%20%20%20%20%20%20%20function%20geo_json_924c5fe88f964559a82d81a944d194ca_onEachFeature%28feature%2C%20layer%29%20%7B%0A%20%20%20%20%20%20%20%20%20%20%20%20layer.on%28%7B%0A%20%20%20%20%20%20%20%20%20%20%20%20%20%20%20%20mouseout%3A%20function%28e%29%20%7B%0A%20%20%20%20%20%20%20%20%20%20%20%20%20%20%20%20%20%20%20%20if%28typeof%20e.target.setStyle%20%3D%3D%3D%20%22function%22%29%7B%0A%20%20%20%20%20%20%20%20%20%20%20%20%20%20%20%20%20%20%20%20%20%20%20%20geo_json_924c5fe88f964559a82d81a944d194ca.resetStyle%28e.target%29%3B%0A%20%20%20%20%20%20%20%20%20%20%20%20%20%20%20%20%20%20%20%20%7D%0A%20%20%20%20%20%20%20%20%20%20%20%20%20%20%20%20%7D%2C%0A%20%20%20%20%20%20%20%20%20%20%20%20%20%20%20%20mouseover%3A%20function%28e%29%20%7B%0A%20%20%20%20%20%20%20%20%20%20%20%20%20%20%20%20%20%20%20%20if%28typeof%20e.target.setStyle%20%3D%3D%3D%20%22function%22%29%7B%0A%20%20%20%20%20%20%20%20%20%20%20%20%20%20%20%20%20%20%20%20%20%20%20%20const%20highlightStyle%20%3D%20geo_json_924c5fe88f964559a82d81a944d194ca_highlighter%28e.target.feature%29%0A%20%20%20%20%20%20%20%20%20%20%20%20%20%20%20%20%20%20%20%20%20%20%20%20e.target.setStyle%28highlightStyle%29%3B%0A%20%20%20%20%20%20%20%20%20%20%20%20%20%20%20%20%20%20%20%20%7D%0A%20%20%20%20%20%20%20%20%20%20%20%20%20%20%20%20%7D%2C%0A%20%20%20%20%20%20%20%20%20%20%20%20%7D%29%3B%0A%20%20%20%20%20%20%20%20%7D%3B%0A%20%20%20%20%20%20%20%20var%20geo_json_924c5fe88f964559a82d81a944d194ca%20%3D%20L.geoJson%28null%2C%20%7B%0A%20%20%20%20%20%20%20%20%20%20%20%20%20%20%20%20onEachFeature%3A%20geo_json_924c5fe88f964559a82d81a944d194ca_onEachFeature%2C%0A%20%20%20%20%20%20%20%20%20%20%20%20%0A%20%20%20%20%20%20%20%20%20%20%20%20%20%20%20%20style%3A%20geo_json_924c5fe88f964559a82d81a944d194ca_styler%2C%0A%20%20%20%20%20%20%20%20%20%20%20%20%20%20%20%20pointToLayer%3A%20geo_json_924c5fe88f964559a82d81a944d194ca_pointToLayer%0A%20%20%20%20%20%20%20%20%7D%29%3B%0A%0A%20%20%20%20%20%20%20%20function%20geo_json_924c5fe88f964559a82d81a944d194ca_add%20%28data%29%20%7B%0A%20%20%20%20%20%20%20%20%20%20%20%20geo_json_924c5fe88f964559a82d81a944d194ca%0A%20%20%20%20%20%20%20%20%20%20%20%20%20%20%20%20.addData%28data%29%0A%20%20%20%20%20%20%20%20%20%20%20%20%20%20%20%20.addTo%28map_9996e0b2339e4c62990d44ecd71c91c5%29%3B%0A%20%20%20%20%20%20%20%20%7D%0A%20%20%20%20%20%20%20%20%20%20%20%20geo_json_924c5fe88f964559a82d81a944d194ca_add%28%7B%22bbox%22%3A%20%5B11.1190429%2C%2046.0711081%2C%2011.1269237%2C%2046.0736284%5D%2C%20%22features%22%3A%20%5B%7B%22bbox%22%3A%20%5B11.1190429%2C%2046.0711081%2C%2011.1269237%2C%2046.0736284%5D%2C%20%22geometry%22%3A%20%7B%22coordinates%22%3A%20%5B%5B11.119089%2C%2046.0721156%5D%2C%20%5B11.1190429%2C%2046.0721295%5D%2C%20%5B11.1196278%2C%2046.0729735%5D%2C%20%5B11.1197082%2C%2046.073095%5D%2C%20%5B11.11978%2C%2046.0731073%5D%2C%20%5B11.1199737%2C%2046.0733733%5D%2C%20%5B11.1201305%2C%2046.0735981%5D%2C%20%5B11.1201794%2C%2046.073581%5D%2C%20%5B11.1204037%2C%2046.0735023%5D%2C%20%5B11.1204584%2C%2046.0735771%5D%2C%20%5B11.1204959%2C%2046.0736284%5D%2C%20%5B11.1206182%2C%2046.0735855%5D%2C%20%5B11.1206703%2C%2046.0735651%5D%2C%20%5B11.1206947%2C%2046.0735555%5D%2C%20%5B11.1208355%2C%2046.0734944%5D%2C%20%5B11.1208969%2C%2046.0734977%5D%2C%20%5B11.121161%2C%2046.0734084%5D%2C%20%5B11.1216104%2C%2046.0732579%5D%2C%20%5B11.1216815%2C%2046.0732341%5D%2C%20%5B11.1220971%2C%2046.0730957%5D%2C%20%5B11.1221638%2C%2046.0730735%5D%2C%20%5B11.1222339%2C%2046.0730504%5D%2C%20%5B11.1223109%2C%2046.0730255%5D%2C%20%5B11.1232161%2C%2046.0727391%5D%2C%20%5B11.123718%2C%2046.0725804%5D%2C%20%5B11.1238046%2C%2046.0725517%5D%2C%20%5B11.1239693%2C%2046.0725009%5D%2C%20%5B11.1241238%2C%2046.0724507%5D%2C%20%5B11.1246705%2C%2046.0722752%5D%2C%20%5B11.1247993%2C%2046.0722321%5D%2C%20%5B11.1249153%2C%2046.0721833%5D%2C%20%5B11.1250805%2C%2046.0721453%5D%2C%20%5B11.1251103%2C%2046.0722037%5D%2C%20%5B11.1251358%2C%2046.072203%5D%2C%20%5B11.1251519%2C%2046.0722081%5D%2C%20%5B11.1251626%2C%2046.0722263%5D%2C%20%5B11.1252132%2C%2046.0722208%5D%2C%20%5B11.1252559%2C%2046.0722161%5D%2C%20%5B11.125445%2C%2046.0721792%5D%2C%20%5B11.1258874%2C%2046.0720949%5D%2C%20%5B11.1259585%2C%2046.0720594%5D%2C%20%5B11.1259968%2C%2046.0720402%5D%2C%20%5B11.1260184%2C%2046.0720236%5D%2C%20%5B11.1259869%2C%2046.0719295%5D%2C%20%5B11.1260405%2C%2046.0718669%5D%2C%20%5B11.1260974%2C%2046.0718025%5D%2C%20%5B11.1261454%2C%2046.0717482%5D%2C%20%5B11.1262125%2C%2046.0716537%5D%2C%20%5B11.1262882%2C%2046.0715472%5D%2C%20%5B11.12632%2C%2046.0714926%5D%2C%20%5B11.1264171%2C%2046.0715205%5D%2C%20%5B11.126518%2C%2046.0715319%5D%2C%20%5B11.1265677%2C%2046.07145%5D%2C%20%5B11.1265947%2C%2046.0714055%5D%2C%20%5B11.1267754%2C%2046.0711081%5D%2C%20%5B11.1269237%2C%2046.071152%5D%5D%2C%20%22type%22%3A%20%22LineString%22%7D%2C%20%22id%22%3A%20%220%22%2C%20%22properties%22%3A%20%7B%22src_node%22%3A%209100209212%2C%20%22tgt_node%22%3A%20858341204%7D%2C%20%22type%22%3A%20%22Feature%22%7D%5D%2C%20%22type%22%3A%20%22FeatureCollection%22%7D%29%3B%0A%0A%20%20%20%20%20%20%20%20%0A%20%20%20%20%0A%20%20%20%20geo_json_924c5fe88f964559a82d81a944d194ca.bindTooltip%28%0A%20%20%20%20function%28layer%29%7B%0A%20%20%20%20let%20div%20%3D%20L.DomUtil.create%28%27div%27%29%3B%0A%20%20%20%20%0A%20%20%20%20let%20handleObject%20%3D%20feature%3D%3Etypeof%28feature%29%3D%3D%27object%27%20%3F%20JSON.stringify%28feature%29%20%3A%20feature%3B%0A%20%20%20%20let%20fields%20%3D%20%5B%22src_node%22%2C%20%22tgt_node%22%5D%3B%0A%20%20%20%20let%20aliases%20%3D%20%5B%22src_node%22%2C%20%22tgt_node%22%5D%3B%0A%20%20%20%20let%20table%20%3D%20%27%3Ctable%3E%27%20%2B%0A%20%20%20%20%20%20%20%20String%28%0A%20%20%20%20%20%20%20%20fields.map%28%0A%20%20%20%20%20%20%20%20%28v%2Ci%29%3D%3E%0A%20%20%20%20%20%20%20%20%60%3Ctr%3E%0A%20%20%20%20%20%20%20%20%20%20%20%20%3Cth%3E%24%7Baliases%5Bi%5D%7D%3C/th%3E%0A%20%20%20%20%20%20%20%20%20%20%20%20%0A%20%20%20%20%20%20%20%20%20%20%20%20%3Ctd%3E%24%7BhandleObject%28layer.feature.properties%5Bv%5D%29%7D%3C/td%3E%0A%20%20%20%20%20%20%20%20%3C/tr%3E%60%29.join%28%27%27%29%29%0A%20%20%20%20%2B%27%3C/table%3E%27%3B%0A%20%20%20%20div.innerHTML%3Dtable%3B%0A%20%20%20%20%0A%20%20%20%20return%20div%0A%20%20%20%20%7D%0A%20%20%20%20%2C%7B%22className%22%3A%20%22foliumtooltip%22%2C%20%22sticky%22%3A%20true%7D%29%3B%0A%20%20%20%20%20%20%20%20%20%20%20%20%20%20%20%20%20%20%20%20%20%0A%3C/script%3E onload=\"this.contentDocument.open();this.contentDocument.write(    decodeURIComponent(this.getAttribute('data-html')));this.contentDocument.close();\" allowfullscreen webkitallowfullscreen mozallowfullscreen></iframe></div></div>"
            ],
            "text/plain": [
              "<folium.folium.Map at 0x7fde5c2fb1c0>"
            ]
          },
          "execution_count": 32,
          "metadata": {},
          "output_type": "execute_result"
        }
      ],
      "source": [
        "route_with_onx.explore()"
      ]
    },
    {
      "cell_type": "code",
      "execution_count": 33,
      "metadata": {
        "id": "B4zljpA06eym"
      },
      "outputs": [],
      "source": [
        "gpd.io.file.fiona.drvsupport.supported_drivers['KML'] = 'rw'"
      ]
    },
    {
      "cell_type": "code",
      "execution_count": 34,
      "metadata": {
        "id": "yR5ZkkWn6DCg"
      },
      "outputs": [],
      "source": [
        "route_with_onx.to_file(\"path_trainstation2castle_trento.kml\", driver=\"KML\")"
      ]
    },
    {
      "cell_type": "markdown",
      "metadata": {
        "id": "gHqw4NUIZ_rD"
      },
      "source": [
        "# identify how many bars you can reach by walking in 5 minutes from the main train station of Trento\n",
        "\n",
        "OpenStreetMap distingues between [bar](https://wiki.openstreetmap.org/wiki/Tag:amenity%3Dbar) and [cafe](https://wiki.openstreetmap.org/wiki/Tag:amenity%3Dcafe).<br/>\n",
        "In Italy the difference is minimal, so we have to extract the data from both sources\n",
        "\n",
        "The steps are:\n",
        "\n",
        "- download all the *amenity=bar* and *amenity=cafe* from OpenStreetMap\n",
        "- identify the point of the train station\n",
        "- calculate the distance of each bar from the train station in walking travel time distance "
      ]
    },
    {
      "cell_type": "markdown",
      "metadata": {
        "id": "eVYJQ9JVapUs"
      },
      "source": [
        "## find all the amenity=bar, amenity=pub, and amenity=cafe from OpenStreetMap"
      ]
    },
    {
      "cell_type": "code",
      "execution_count": 35,
      "metadata": {
        "id": "qi0xwt98bUDE"
      },
      "outputs": [],
      "source": [
        "tags = {'amenity': ['bar','cafe','pub']}"
      ]
    },
    {
      "cell_type": "code",
      "execution_count": 36,
      "metadata": {
        "id": "zjqRr67OaY_S"
      },
      "outputs": [],
      "source": [
        "trento_pubs = osm.get_pois(custom_filter=tags)"
      ]
    },
    {
      "cell_type": "code",
      "execution_count": 37,
      "metadata": {
        "colab": {
          "base_uri": "https://localhost:8080/"
        },
        "id": "ez4BHx1uZZ0m",
        "outputId": "9ea24cc5-c011-4fb0-fa64-a169273066f8"
      },
      "outputs": [
        {
          "data": {
            "text/html": [
              "<div>\n",
              "<style scoped>\n",
              "    .dataframe tbody tr th:only-of-type {\n",
              "        vertical-align: middle;\n",
              "    }\n",
              "\n",
              "    .dataframe tbody tr th {\n",
              "        vertical-align: top;\n",
              "    }\n",
              "\n",
              "    .dataframe thead th {\n",
              "        text-align: right;\n",
              "    }\n",
              "</style>\n",
              "<table border=\"1\" class=\"dataframe\">\n",
              "  <thead>\n",
              "    <tr style=\"text-align: right;\">\n",
              "      <th></th>\n",
              "      <th>tags</th>\n",
              "      <th>lon</th>\n",
              "      <th>lat</th>\n",
              "      <th>timestamp</th>\n",
              "      <th>id</th>\n",
              "      <th>changeset</th>\n",
              "      <th>version</th>\n",
              "      <th>addr:city</th>\n",
              "      <th>addr:country</th>\n",
              "      <th>addr:housenumber</th>\n",
              "      <th>...</th>\n",
              "      <th>opening_hours</th>\n",
              "      <th>operator</th>\n",
              "      <th>phone</th>\n",
              "      <th>website</th>\n",
              "      <th>amenity</th>\n",
              "      <th>internet_access</th>\n",
              "      <th>source</th>\n",
              "      <th>geometry</th>\n",
              "      <th>osm_type</th>\n",
              "      <th>building</th>\n",
              "    </tr>\n",
              "  </thead>\n",
              "  <tbody>\n",
              "    <tr>\n",
              "      <th>0</th>\n",
              "      <td>{\"ref:vatin\":\"IT01452730227\",\"contact:phone\":\"...</td>\n",
              "      <td>11.121013</td>\n",
              "      <td>46.067726</td>\n",
              "      <td>1530777177</td>\n",
              "      <td>268401562</td>\n",
              "      <td>0.0</td>\n",
              "      <td>13</td>\n",
              "      <td>Trento</td>\n",
              "      <td>IT</td>\n",
              "      <td>40</td>\n",
              "      <td>...</td>\n",
              "      <td>None</td>\n",
              "      <td>Filippo Aldo</td>\n",
              "      <td>None</td>\n",
              "      <td>None</td>\n",
              "      <td>cafe</td>\n",
              "      <td>None</td>\n",
              "      <td>None</td>\n",
              "      <td>POINT (11.12101 46.06773)</td>\n",
              "      <td>node</td>\n",
              "      <td>NaN</td>\n",
              "    </tr>\n",
              "    <tr>\n",
              "      <th>1</th>\n",
              "      <td>{\"ref:vatin\":\"IT01311240228\",\"wheelchair\":\"lim...</td>\n",
              "      <td>11.122067</td>\n",
              "      <td>46.067753</td>\n",
              "      <td>1530777177</td>\n",
              "      <td>268401567</td>\n",
              "      <td>0.0</td>\n",
              "      <td>10</td>\n",
              "      <td>Trento</td>\n",
              "      <td>IT</td>\n",
              "      <td>1</td>\n",
              "      <td>...</td>\n",
              "      <td>None</td>\n",
              "      <td>Botto W. s.n.c.</td>\n",
              "      <td>None</td>\n",
              "      <td>None</td>\n",
              "      <td>cafe</td>\n",
              "      <td>None</td>\n",
              "      <td>None</td>\n",
              "      <td>POINT (11.12207 46.06775)</td>\n",
              "      <td>node</td>\n",
              "      <td>NaN</td>\n",
              "    </tr>\n",
              "    <tr>\n",
              "      <th>2</th>\n",
              "      <td>{\"fixme\":\"orario chiusura sabato\",\"wheelchair\"...</td>\n",
              "      <td>11.125642</td>\n",
              "      <td>46.067272</td>\n",
              "      <td>1539975897</td>\n",
              "      <td>268430906</td>\n",
              "      <td>0.0</td>\n",
              "      <td>7</td>\n",
              "      <td>None</td>\n",
              "      <td>None</td>\n",
              "      <td>None</td>\n",
              "      <td>...</td>\n",
              "      <td>Mo-Fr 07:00-21:00; Sa 07:00-12:00</td>\n",
              "      <td>None</td>\n",
              "      <td>None</td>\n",
              "      <td>None</td>\n",
              "      <td>cafe</td>\n",
              "      <td>None</td>\n",
              "      <td>None</td>\n",
              "      <td>POINT (11.12564 46.06727)</td>\n",
              "      <td>node</td>\n",
              "      <td>NaN</td>\n",
              "    </tr>\n",
              "    <tr>\n",
              "      <th>3</th>\n",
              "      <td>{\"wheelchair\":\"limited\",\"outdoor_seating\":\"yes\"}</td>\n",
              "      <td>11.124261</td>\n",
              "      <td>46.067112</td>\n",
              "      <td>1569595431</td>\n",
              "      <td>268430908</td>\n",
              "      <td>0.0</td>\n",
              "      <td>8</td>\n",
              "      <td>Trento</td>\n",
              "      <td>IT</td>\n",
              "      <td>29</td>\n",
              "      <td>...</td>\n",
              "      <td>Mo-Sa 07:00-20:00</td>\n",
              "      <td>None</td>\n",
              "      <td>None</td>\n",
              "      <td>None</td>\n",
              "      <td>cafe</td>\n",
              "      <td>None</td>\n",
              "      <td>None</td>\n",
              "      <td>POINT (11.12426 46.06711)</td>\n",
              "      <td>node</td>\n",
              "      <td>NaN</td>\n",
              "    </tr>\n",
              "    <tr>\n",
              "      <th>4</th>\n",
              "      <td>{\"ref:vatin\":\"IT02327230229\",\"wheelchair\":\"yes...</td>\n",
              "      <td>11.123343</td>\n",
              "      <td>46.066528</td>\n",
              "      <td>1530777177</td>\n",
              "      <td>268432522</td>\n",
              "      <td>0.0</td>\n",
              "      <td>14</td>\n",
              "      <td>Trento</td>\n",
              "      <td>IT</td>\n",
              "      <td>2</td>\n",
              "      <td>...</td>\n",
              "      <td>None</td>\n",
              "      <td>Anacleto S.N.C.</td>\n",
              "      <td>None</td>\n",
              "      <td>None</td>\n",
              "      <td>pub</td>\n",
              "      <td>None</td>\n",
              "      <td>None</td>\n",
              "      <td>POINT (11.12334 46.06653)</td>\n",
              "      <td>node</td>\n",
              "      <td>NaN</td>\n",
              "    </tr>\n",
              "    <tr>\n",
              "      <th>...</th>\n",
              "      <td>...</td>\n",
              "      <td>...</td>\n",
              "      <td>...</td>\n",
              "      <td>...</td>\n",
              "      <td>...</td>\n",
              "      <td>...</td>\n",
              "      <td>...</td>\n",
              "      <td>...</td>\n",
              "      <td>...</td>\n",
              "      <td>...</td>\n",
              "      <td>...</td>\n",
              "      <td>...</td>\n",
              "      <td>...</td>\n",
              "      <td>...</td>\n",
              "      <td>...</td>\n",
              "      <td>...</td>\n",
              "      <td>...</td>\n",
              "      <td>...</td>\n",
              "      <td>...</td>\n",
              "      <td>...</td>\n",
              "      <td>...</td>\n",
              "    </tr>\n",
              "    <tr>\n",
              "      <th>267</th>\n",
              "      <td>{\"wheelchair\":\"no\"}</td>\n",
              "      <td>NaN</td>\n",
              "      <td>NaN</td>\n",
              "      <td>1480581090</td>\n",
              "      <td>78363327</td>\n",
              "      <td>NaN</td>\n",
              "      <td>4</td>\n",
              "      <td>None</td>\n",
              "      <td>None</td>\n",
              "      <td>None</td>\n",
              "      <td>...</td>\n",
              "      <td>None</td>\n",
              "      <td>None</td>\n",
              "      <td>NaN</td>\n",
              "      <td>NaN</td>\n",
              "      <td>cafe</td>\n",
              "      <td>NaN</td>\n",
              "      <td>NaN</td>\n",
              "      <td>POLYGON ((11.15457 46.06615, 11.15459 46.06619...</td>\n",
              "      <td>way</td>\n",
              "      <td>yes</td>\n",
              "    </tr>\n",
              "    <tr>\n",
              "      <th>268</th>\n",
              "      <td>{\"ref:vatin\":\"IT01841040221\",\"contact:phone\":\"...</td>\n",
              "      <td>NaN</td>\n",
              "      <td>NaN</td>\n",
              "      <td>1532329523</td>\n",
              "      <td>116029569</td>\n",
              "      <td>NaN</td>\n",
              "      <td>3</td>\n",
              "      <td>None</td>\n",
              "      <td>None</td>\n",
              "      <td>None</td>\n",
              "      <td>...</td>\n",
              "      <td>None</td>\n",
              "      <td>Santellina SNC di Lopez &amp; C.</td>\n",
              "      <td>NaN</td>\n",
              "      <td>NaN</td>\n",
              "      <td>bar</td>\n",
              "      <td>NaN</td>\n",
              "      <td>NaN</td>\n",
              "      <td>POLYGON ((11.11916 46.08627, 11.11926 46.08628...</td>\n",
              "      <td>way</td>\n",
              "      <td>yes</td>\n",
              "    </tr>\n",
              "    <tr>\n",
              "      <th>269</th>\n",
              "      <td>None</td>\n",
              "      <td>NaN</td>\n",
              "      <td>NaN</td>\n",
              "      <td>1321305404</td>\n",
              "      <td>137046871</td>\n",
              "      <td>NaN</td>\n",
              "      <td>1</td>\n",
              "      <td>None</td>\n",
              "      <td>None</td>\n",
              "      <td>None</td>\n",
              "      <td>...</td>\n",
              "      <td>None</td>\n",
              "      <td>None</td>\n",
              "      <td>NaN</td>\n",
              "      <td>NaN</td>\n",
              "      <td>bar</td>\n",
              "      <td>NaN</td>\n",
              "      <td>NaN</td>\n",
              "      <td>POLYGON ((11.15135 46.04644, 11.15137 46.04632...</td>\n",
              "      <td>way</td>\n",
              "      <td>yes</td>\n",
              "    </tr>\n",
              "    <tr>\n",
              "      <th>270</th>\n",
              "      <td>None</td>\n",
              "      <td>NaN</td>\n",
              "      <td>NaN</td>\n",
              "      <td>1385680973</td>\n",
              "      <td>147695036</td>\n",
              "      <td>NaN</td>\n",
              "      <td>6</td>\n",
              "      <td>Trento</td>\n",
              "      <td>IT</td>\n",
              "      <td>10</td>\n",
              "      <td>...</td>\n",
              "      <td>None</td>\n",
              "      <td>None</td>\n",
              "      <td>NaN</td>\n",
              "      <td>NaN</td>\n",
              "      <td>cafe</td>\n",
              "      <td>NaN</td>\n",
              "      <td>NaN</td>\n",
              "      <td>POLYGON ((11.11786 46.05747, 11.11787 46.05736...</td>\n",
              "      <td>way</td>\n",
              "      <td>yes</td>\n",
              "    </tr>\n",
              "    <tr>\n",
              "      <th>271</th>\n",
              "      <td>{\"ref:vatin\":\"IT02291850226\"}</td>\n",
              "      <td>NaN</td>\n",
              "      <td>NaN</td>\n",
              "      <td>1608370635</td>\n",
              "      <td>177032866</td>\n",
              "      <td>NaN</td>\n",
              "      <td>5</td>\n",
              "      <td>Candriai</td>\n",
              "      <td>None</td>\n",
              "      <td>15</td>\n",
              "      <td>...</td>\n",
              "      <td>None</td>\n",
              "      <td>Lusardi Valentina</td>\n",
              "      <td>NaN</td>\n",
              "      <td>NaN</td>\n",
              "      <td>cafe</td>\n",
              "      <td>NaN</td>\n",
              "      <td>NaN</td>\n",
              "      <td>POLYGON ((11.07647 46.06612, 11.07668 46.06609...</td>\n",
              "      <td>way</td>\n",
              "      <td>yes</td>\n",
              "    </tr>\n",
              "  </tbody>\n",
              "</table>\n",
              "<p>272 rows × 25 columns</p>\n",
              "</div>"
            ],
            "text/plain": [
              "                                                  tags        lon        lat  \\\n",
              "0    {\"ref:vatin\":\"IT01452730227\",\"contact:phone\":\"...  11.121013  46.067726   \n",
              "1    {\"ref:vatin\":\"IT01311240228\",\"wheelchair\":\"lim...  11.122067  46.067753   \n",
              "2    {\"fixme\":\"orario chiusura sabato\",\"wheelchair\"...  11.125642  46.067272   \n",
              "3     {\"wheelchair\":\"limited\",\"outdoor_seating\":\"yes\"}  11.124261  46.067112   \n",
              "4    {\"ref:vatin\":\"IT02327230229\",\"wheelchair\":\"yes...  11.123343  46.066528   \n",
              "..                                                 ...        ...        ...   \n",
              "267                                {\"wheelchair\":\"no\"}        NaN        NaN   \n",
              "268  {\"ref:vatin\":\"IT01841040221\",\"contact:phone\":\"...        NaN        NaN   \n",
              "269                                               None        NaN        NaN   \n",
              "270                                               None        NaN        NaN   \n",
              "271                      {\"ref:vatin\":\"IT02291850226\"}        NaN        NaN   \n",
              "\n",
              "      timestamp         id  changeset  version addr:city addr:country  \\\n",
              "0    1530777177  268401562        0.0       13    Trento           IT   \n",
              "1    1530777177  268401567        0.0       10    Trento           IT   \n",
              "2    1539975897  268430906        0.0        7      None         None   \n",
              "3    1569595431  268430908        0.0        8    Trento           IT   \n",
              "4    1530777177  268432522        0.0       14    Trento           IT   \n",
              "..          ...        ...        ...      ...       ...          ...   \n",
              "267  1480581090   78363327        NaN        4      None         None   \n",
              "268  1532329523  116029569        NaN        3      None         None   \n",
              "269  1321305404  137046871        NaN        1      None         None   \n",
              "270  1385680973  147695036        NaN        6    Trento           IT   \n",
              "271  1608370635  177032866        NaN        5  Candriai         None   \n",
              "\n",
              "    addr:housenumber  ...                      opening_hours  \\\n",
              "0                 40  ...                               None   \n",
              "1                  1  ...                               None   \n",
              "2               None  ...  Mo-Fr 07:00-21:00; Sa 07:00-12:00   \n",
              "3                 29  ...                  Mo-Sa 07:00-20:00   \n",
              "4                  2  ...                               None   \n",
              "..               ...  ...                                ...   \n",
              "267             None  ...                               None   \n",
              "268             None  ...                               None   \n",
              "269             None  ...                               None   \n",
              "270               10  ...                               None   \n",
              "271               15  ...                               None   \n",
              "\n",
              "                         operator phone website amenity internet_access  \\\n",
              "0                    Filippo Aldo  None    None    cafe            None   \n",
              "1                 Botto W. s.n.c.  None    None    cafe            None   \n",
              "2                            None  None    None    cafe            None   \n",
              "3                            None  None    None    cafe            None   \n",
              "4                 Anacleto S.N.C.  None    None     pub            None   \n",
              "..                            ...   ...     ...     ...             ...   \n",
              "267                          None   NaN     NaN    cafe             NaN   \n",
              "268  Santellina SNC di Lopez & C.   NaN     NaN     bar             NaN   \n",
              "269                          None   NaN     NaN     bar             NaN   \n",
              "270                          None   NaN     NaN    cafe             NaN   \n",
              "271             Lusardi Valentina   NaN     NaN    cafe             NaN   \n",
              "\n",
              "    source                                           geometry osm_type  \\\n",
              "0     None                          POINT (11.12101 46.06773)     node   \n",
              "1     None                          POINT (11.12207 46.06775)     node   \n",
              "2     None                          POINT (11.12564 46.06727)     node   \n",
              "3     None                          POINT (11.12426 46.06711)     node   \n",
              "4     None                          POINT (11.12334 46.06653)     node   \n",
              "..     ...                                                ...      ...   \n",
              "267    NaN  POLYGON ((11.15457 46.06615, 11.15459 46.06619...      way   \n",
              "268    NaN  POLYGON ((11.11916 46.08627, 11.11926 46.08628...      way   \n",
              "269    NaN  POLYGON ((11.15135 46.04644, 11.15137 46.04632...      way   \n",
              "270    NaN  POLYGON ((11.11786 46.05747, 11.11787 46.05736...      way   \n",
              "271    NaN  POLYGON ((11.07647 46.06612, 11.07668 46.06609...      way   \n",
              "\n",
              "    building  \n",
              "0        NaN  \n",
              "1        NaN  \n",
              "2        NaN  \n",
              "3        NaN  \n",
              "4        NaN  \n",
              "..       ...  \n",
              "267      yes  \n",
              "268      yes  \n",
              "269      yes  \n",
              "270      yes  \n",
              "271      yes  \n",
              "\n",
              "[272 rows x 25 columns]"
            ]
          },
          "execution_count": 37,
          "metadata": {},
          "output_type": "execute_result"
        }
      ],
      "source": [
        "trento_pubs"
      ]
    },
    {
      "cell_type": "code",
      "execution_count": 38,
      "metadata": {
        "colab": {
          "base_uri": "https://localhost:8080/"
        },
        "id": "8hicpExBS1Zq",
        "outputId": "91164cb8-5271-4d8a-901d-fa4e1c2793f9"
      },
      "outputs": [
        {
          "name": "stdout",
          "output_type": "stream",
          "text": [
            "In OpenStreetMap, for the city or Trento, there is a total of 272 of tags with amenity=bar|cafe|pub\n"
          ]
        }
      ],
      "source": [
        "print(\"In OpenStreetMap, for the city or Trento, there is a total of %s of tags with amenity=bar|cafe|pub\" % str(trento_pubs.shape[0]))"
      ]
    },
    {
      "cell_type": "markdown",
      "metadata": {
        "id": "il5hgfZMluKk"
      },
      "source": [
        "## check the bar nearest by distance to the train stations\n",
        "\n",
        "identify the linear distance (no street network)"
      ]
    },
    {
      "cell_type": "markdown",
      "metadata": {
        "id": "kpQBvpd_U_nS"
      },
      "source": [
        "transform the coordinates of the train station from degrees (WGS84 - EPSG:4326) to meters (UTM 32N - EPSG:32632) to calculate the distance"
      ]
    },
    {
      "cell_type": "code",
      "execution_count": 39,
      "metadata": {
        "id": "F3Ql8SQdi9dB"
      },
      "outputs": [],
      "source": [
        "from shapely.ops import transform\n",
        "import pyproj"
      ]
    },
    {
      "cell_type": "code",
      "execution_count": 40,
      "metadata": {
        "id": "98-ibWQ-i-eG"
      },
      "outputs": [],
      "source": [
        "wgs84 = pyproj.CRS('EPSG:4326')\n",
        "utm32n = pyproj.CRS('EPSG:32632')\n",
        "projection_transform = pyproj.Transformer.from_crs(wgs84, utm32n, always_xy=False).transform"
      ]
    },
    {
      "cell_type": "code",
      "execution_count": 41,
      "metadata": {
        "id": "8dtiOr3SjllN"
      },
      "outputs": [],
      "source": [
        "shapely_point_train_station = Point(point_train_station)"
      ]
    },
    {
      "cell_type": "code",
      "execution_count": 42,
      "metadata": {
        "id": "-fr7CsihjqfB"
      },
      "outputs": [],
      "source": [
        "point_train_station_utm32n = transform(projection_transform,shapely_point_train_station)"
      ]
    },
    {
      "cell_type": "markdown",
      "metadata": {
        "id": "oc885jaVVam6"
      },
      "source": [
        "and now we have the new point in epsg:32632"
      ]
    },
    {
      "cell_type": "code",
      "execution_count": 43,
      "metadata": {
        "colab": {
          "base_uri": "https://localhost:8080/",
          "height": 36
        },
        "id": "MXAEZ32Rj0iw",
        "outputId": "89140027-dbef-4439-b80d-e131c002da25"
      },
      "outputs": [
        {
          "data": {
            "text/plain": [
              "'POINT (663888.6956006237 5104257.577081034)'"
            ]
          },
          "execution_count": 43,
          "metadata": {},
          "output_type": "execute_result"
        }
      ],
      "source": [
        "point_train_station_utm32n.wkt"
      ]
    },
    {
      "cell_type": "markdown",
      "metadata": {
        "id": "E6_sQ9NuVsIu"
      },
      "source": [
        "we want calculate the distance point to point so we need to know the type of geometry in our geodataframe (*trento_bars*)"
      ]
    },
    {
      "cell_type": "code",
      "execution_count": 44,
      "metadata": {
        "colab": {
          "base_uri": "https://localhost:8080/"
        },
        "id": "bqI06yO6dPe5",
        "outputId": "0eb87f79-9391-4aa8-e656-508c1f883a57"
      },
      "outputs": [
        {
          "data": {
            "text/plain": [
              "array(['Point', 'Polygon'], dtype=object)"
            ]
          },
          "execution_count": 44,
          "metadata": {},
          "output_type": "execute_result"
        }
      ],
      "source": [
        "trento_pubs.geometry.type.unique()"
      ]
    },
    {
      "cell_type": "code",
      "execution_count": 45,
      "metadata": {
        "colab": {
          "base_uri": "https://localhost:8080/"
        },
        "id": "L0ssGJAqbeIM",
        "outputId": "b9a68e2a-01a5-4027-d9ce-d106099211a8"
      },
      "outputs": [
        {
          "data": {
            "text/plain": [
              "Point      263\n",
              "Polygon      9\n",
              "dtype: int64"
            ]
          },
          "execution_count": 45,
          "metadata": {},
          "output_type": "execute_result"
        }
      ],
      "source": [
        "trento_pubs.geometry.type.value_counts()"
      ]
    },
    {
      "cell_type": "markdown",
      "metadata": {
        "id": "Y9-8mwq6V4ei"
      },
      "source": [
        "we can calculate the distance to the point of the train station to a representative point of each geometry (so we transform the polygons in points)\n",
        "\n",
        "Are the distances are calculated in meters (UTM 32N)"
      ]
    },
    {
      "cell_type": "code",
      "execution_count": 46,
      "metadata": {
        "colab": {
          "base_uri": "https://localhost:8080/"
        },
        "id": "HCKnyWPNdH5O",
        "outputId": "7488869a-dfce-45db-e50e-467bb974a6be"
      },
      "outputs": [
        {
          "data": {
            "text/plain": [
              "0       518.700347\n",
              "1       542.333182\n",
              "2       737.800188\n",
              "3       686.465769\n",
              "4       707.200244\n",
              "          ...     \n",
              "267    2813.859928\n",
              "268    1554.211774\n",
              "269    3799.815530\n",
              "270    1653.311307\n",
              "271    3378.216513\n",
              "Length: 272, dtype: float64"
            ]
          },
          "execution_count": 46,
          "metadata": {},
          "output_type": "execute_result"
        }
      ],
      "source": [
        "trento_pubs.geometry.to_crs(epsg=32632).representative_point().distance(point_train_station_utm32n)"
      ]
    },
    {
      "cell_type": "markdown",
      "metadata": {
        "id": "LPFjyiIGWIpt"
      },
      "source": [
        "... we store the answers in a new column"
      ]
    },
    {
      "cell_type": "code",
      "execution_count": 47,
      "metadata": {
        "id": "Ro_wJgKDi5dz"
      },
      "outputs": [],
      "source": [
        "trento_pubs['distance_to_train_station'] = trento_pubs.geometry.to_crs(epsg=32632).representative_point().distance(point_train_station_utm32n)"
      ]
    },
    {
      "cell_type": "code",
      "execution_count": 48,
      "metadata": {
        "colab": {
          "base_uri": "https://localhost:8080/",
          "height": 487
        },
        "id": "frozz93MlB14",
        "outputId": "aa328030-7321-45cd-b0e0-3d6434531d1d"
      },
      "outputs": [
        {
          "data": {
            "text/html": [
              "<div>\n",
              "<style scoped>\n",
              "    .dataframe tbody tr th:only-of-type {\n",
              "        vertical-align: middle;\n",
              "    }\n",
              "\n",
              "    .dataframe tbody tr th {\n",
              "        vertical-align: top;\n",
              "    }\n",
              "\n",
              "    .dataframe thead th {\n",
              "        text-align: right;\n",
              "    }\n",
              "</style>\n",
              "<table border=\"1\" class=\"dataframe\">\n",
              "  <thead>\n",
              "    <tr style=\"text-align: right;\">\n",
              "      <th></th>\n",
              "      <th>tags</th>\n",
              "      <th>lon</th>\n",
              "      <th>lat</th>\n",
              "      <th>timestamp</th>\n",
              "      <th>id</th>\n",
              "      <th>changeset</th>\n",
              "      <th>version</th>\n",
              "      <th>addr:city</th>\n",
              "      <th>addr:country</th>\n",
              "      <th>addr:housenumber</th>\n",
              "      <th>...</th>\n",
              "      <th>operator</th>\n",
              "      <th>phone</th>\n",
              "      <th>website</th>\n",
              "      <th>amenity</th>\n",
              "      <th>internet_access</th>\n",
              "      <th>source</th>\n",
              "      <th>geometry</th>\n",
              "      <th>osm_type</th>\n",
              "      <th>building</th>\n",
              "      <th>distance_to_train_station</th>\n",
              "    </tr>\n",
              "  </thead>\n",
              "  <tbody>\n",
              "    <tr>\n",
              "      <th>99</th>\n",
              "      <td>{\"ref:vatin\":\"IT01617950249\"}</td>\n",
              "      <td>11.119465</td>\n",
              "      <td>46.072502</td>\n",
              "      <td>1603898476</td>\n",
              "      <td>867377187</td>\n",
              "      <td>0.0</td>\n",
              "      <td>7</td>\n",
              "      <td>Trento</td>\n",
              "      <td>IT</td>\n",
              "      <td>1</td>\n",
              "      <td>...</td>\n",
              "      <td>Serenissima Ristorazione SPA</td>\n",
              "      <td>None</td>\n",
              "      <td>None</td>\n",
              "      <td>bar</td>\n",
              "      <td>None</td>\n",
              "      <td>None</td>\n",
              "      <td>POINT (11.11946 46.07250)</td>\n",
              "      <td>node</td>\n",
              "      <td>NaN</td>\n",
              "      <td>31.089567</td>\n",
              "    </tr>\n",
              "    <tr>\n",
              "      <th>265</th>\n",
              "      <td>{\"shop\":\"tobacco\"}</td>\n",
              "      <td>NaN</td>\n",
              "      <td>NaN</td>\n",
              "      <td>1603886055</td>\n",
              "      <td>73089915</td>\n",
              "      <td>NaN</td>\n",
              "      <td>4</td>\n",
              "      <td>Trento</td>\n",
              "      <td>None</td>\n",
              "      <td>13</td>\n",
              "      <td>...</td>\n",
              "      <td>Sali e Tabacchi Riv. N° 23</td>\n",
              "      <td>NaN</td>\n",
              "      <td>NaN</td>\n",
              "      <td>bar</td>\n",
              "      <td>NaN</td>\n",
              "      <td>NaN</td>\n",
              "      <td>POLYGON ((11.12028 46.07245, 11.12027 46.07241...</td>\n",
              "      <td>way</td>\n",
              "      <td>yes</td>\n",
              "      <td>79.059449</td>\n",
              "    </tr>\n",
              "    <tr>\n",
              "      <th>266</th>\n",
              "      <td>None</td>\n",
              "      <td>NaN</td>\n",
              "      <td>NaN</td>\n",
              "      <td>1282248780</td>\n",
              "      <td>73293759</td>\n",
              "      <td>NaN</td>\n",
              "      <td>1</td>\n",
              "      <td>None</td>\n",
              "      <td>None</td>\n",
              "      <td>None</td>\n",
              "      <td>...</td>\n",
              "      <td>None</td>\n",
              "      <td>NaN</td>\n",
              "      <td>NaN</td>\n",
              "      <td>cafe</td>\n",
              "      <td>NaN</td>\n",
              "      <td>NaN</td>\n",
              "      <td>POLYGON ((11.12085 46.07342, 11.12075 46.07338...</td>\n",
              "      <td>way</td>\n",
              "      <td>yes</td>\n",
              "      <td>173.832806</td>\n",
              "    </tr>\n",
              "    <tr>\n",
              "      <th>100</th>\n",
              "      <td>{\"contact:phone\":\"+39 0461 239398\",\"ref:vatin\"...</td>\n",
              "      <td>11.120379</td>\n",
              "      <td>46.073753</td>\n",
              "      <td>1603898476</td>\n",
              "      <td>867377209</td>\n",
              "      <td>0.0</td>\n",
              "      <td>6</td>\n",
              "      <td>Trento</td>\n",
              "      <td>IT</td>\n",
              "      <td>2</td>\n",
              "      <td>...</td>\n",
              "      <td>Caset Mariarita</td>\n",
              "      <td>None</td>\n",
              "      <td>None</td>\n",
              "      <td>bar</td>\n",
              "      <td>None</td>\n",
              "      <td>None</td>\n",
              "      <td>POINT (11.12038 46.07375)</td>\n",
              "      <td>node</td>\n",
              "      <td>NaN</td>\n",
              "      <td>186.993226</td>\n",
              "    </tr>\n",
              "    <tr>\n",
              "      <th>238</th>\n",
              "      <td>{\"outdoor_seating\":\"yes\",\"ref:vatin\":\"IT021667...</td>\n",
              "      <td>11.120910</td>\n",
              "      <td>46.070862</td>\n",
              "      <td>1632321794</td>\n",
              "      <td>4264239318</td>\n",
              "      <td>0.0</td>\n",
              "      <td>9</td>\n",
              "      <td>Trento</td>\n",
              "      <td>IT</td>\n",
              "      <td>30</td>\n",
              "      <td>...</td>\n",
              "      <td>La Gnoccata di Spagna Enrico</td>\n",
              "      <td>None</td>\n",
              "      <td>None</td>\n",
              "      <td>bar</td>\n",
              "      <td>None</td>\n",
              "      <td>None</td>\n",
              "      <td>POINT (11.12091 46.07086)</td>\n",
              "      <td>node</td>\n",
              "      <td>NaN</td>\n",
              "      <td>196.640913</td>\n",
              "    </tr>\n",
              "  </tbody>\n",
              "</table>\n",
              "<p>5 rows × 26 columns</p>\n",
              "</div>"
            ],
            "text/plain": [
              "                                                  tags        lon        lat  \\\n",
              "99                       {\"ref:vatin\":\"IT01617950249\"}  11.119465  46.072502   \n",
              "265                                 {\"shop\":\"tobacco\"}        NaN        NaN   \n",
              "266                                               None        NaN        NaN   \n",
              "100  {\"contact:phone\":\"+39 0461 239398\",\"ref:vatin\"...  11.120379  46.073753   \n",
              "238  {\"outdoor_seating\":\"yes\",\"ref:vatin\":\"IT021667...  11.120910  46.070862   \n",
              "\n",
              "      timestamp          id  changeset  version addr:city addr:country  \\\n",
              "99   1603898476   867377187        0.0        7    Trento           IT   \n",
              "265  1603886055    73089915        NaN        4    Trento         None   \n",
              "266  1282248780    73293759        NaN        1      None         None   \n",
              "100  1603898476   867377209        0.0        6    Trento           IT   \n",
              "238  1632321794  4264239318        0.0        9    Trento           IT   \n",
              "\n",
              "    addr:housenumber  ...                      operator phone website amenity  \\\n",
              "99                 1  ...  Serenissima Ristorazione SPA  None    None     bar   \n",
              "265               13  ...    Sali e Tabacchi Riv. N° 23   NaN     NaN     bar   \n",
              "266             None  ...                          None   NaN     NaN    cafe   \n",
              "100                2  ...               Caset Mariarita  None    None     bar   \n",
              "238               30  ...  La Gnoccata di Spagna Enrico  None    None     bar   \n",
              "\n",
              "    internet_access source                                           geometry  \\\n",
              "99             None   None                          POINT (11.11946 46.07250)   \n",
              "265             NaN    NaN  POLYGON ((11.12028 46.07245, 11.12027 46.07241...   \n",
              "266             NaN    NaN  POLYGON ((11.12085 46.07342, 11.12075 46.07338...   \n",
              "100            None   None                          POINT (11.12038 46.07375)   \n",
              "238            None   None                          POINT (11.12091 46.07086)   \n",
              "\n",
              "    osm_type building distance_to_train_station  \n",
              "99      node      NaN                 31.089567  \n",
              "265      way      yes                 79.059449  \n",
              "266      way      yes                173.832806  \n",
              "100     node      NaN                186.993226  \n",
              "238     node      NaN                196.640913  \n",
              "\n",
              "[5 rows x 26 columns]"
            ]
          },
          "execution_count": 48,
          "metadata": {},
          "output_type": "execute_result"
        }
      ],
      "source": [
        "trento_pubs.sort_values(by=['distance_to_train_station']).head(5)"
      ]
    },
    {
      "cell_type": "markdown",
      "metadata": {
        "id": "o56Xm2amWZV8"
      },
      "source": [
        "indentify the nearest point (in linear distance) close to the point of the train station "
      ]
    },
    {
      "cell_type": "code",
      "execution_count": 49,
      "metadata": {
        "colab": {
          "base_uri": "https://localhost:8080/",
          "height": 36
        },
        "id": "_P1DM0wIkGpW",
        "outputId": "8cad4f80-b1ea-4607-89fe-83d78946b26a"
      },
      "outputs": [
        {
          "data": {
            "text/plain": [
              "'Bar Stazione Buffet Trento'"
            ]
          },
          "execution_count": 49,
          "metadata": {},
          "output_type": "execute_result"
        }
      ],
      "source": [
        "trento_pubs[trento_pubs.distance_to_train_station == trento_pubs.distance_to_train_station.min()].name.values[0]"
      ]
    },
    {
      "cell_type": "markdown",
      "metadata": {
        "id": "vM4m5Xkhl0b4"
      },
      "source": [
        "## find the distance of each pub to the train station\n"
      ]
    },
    {
      "cell_type": "markdown",
      "metadata": {
        "id": "qeyx0WFoSCht"
      },
      "source": [
        "## add the weights of speed and travel time\n",
        "\n",
        "\n",
        "check documentation [module-osmnx.speed](https://osmnx.readthedocs.io/en/stable/osmnx.html#module-osmnx.speed)\n",
        "\n",
        "---\n",
        "\n",
        "If edge *maxspeed* attribute has *“mph”* in it, value will automatically be converted from miles per hour to km per hour. \n",
        "\n",
        "Any other speed units should be manually converted to km per hour prior to running this function, otherwise there could be unexpected results. \n",
        "\n",
        "If “mph” does not appear in the edge’s maxspeed attribute string, then function assumes kph, per OSM guidelines: \n",
        "\n",
        "https://wiki.openstreetmap.org/wiki/Map_Features/Units\n",
        "\n",
        "**hwy_speeds** *(dict)* \n",
        "\n",
        "*dict keys* = *OSM highway types and values* = typical  speeds (km per hour) to assign to edges of that highway type for any edges missing speed data. \n",
        "\n",
        "Any edges with highway type not in hwy_speeds will be assigned the mean preexisting speed value of all edges of that highway type.\n",
        "\n",
        "---\n",
        "\n",
        "we can assume from 2.5 to 3.5 km/h of speed where roads designed for pedestrians are faster than those designed only for cars\n",
        "\n"
      ]
    },
    {
      "cell_type": "code",
      "execution_count": 76,
      "metadata": {
        "id": "2GU1k8ifki2I"
      },
      "outputs": [],
      "source": [
        "hwy_walking_speeds = {\n",
        "    'motorway ': 0.1,\n",
        "    'trunk': 0.1,\n",
        "    'primary': 0.1,\n",
        "    'secondary': 0.1,\n",
        "    'construction': 0.5,\n",
        "    'tertiary': 0.1,\n",
        "    'unclassified': 3.5,\n",
        "    'residential': 3.5,\n",
        "    'service': 3.5,\n",
        "    'crossing': 3.5,\n",
        "    'pedestrian': 3.5,\n",
        "    'living_street':3.5,\n",
        "    'steps':3.5,\n",
        "    'footway': 3.5,\n",
        "    'track':3.5}\n",
        "# impute speed on all edges missing data\n",
        "network_onx = ox.add_edge_speeds(network_onx,hwy_speeds=hwy_walking_speeds)\n",
        "# calculate travel time (seconds) for all edges\n",
        "network_onx = ox.add_edge_travel_times(network_onx)"
      ]
    },
    {
      "cell_type": "code",
      "execution_count": 77,
      "metadata": {},
      "outputs": [
        {
          "data": {
            "text/html": [
              "<div>\n",
              "<style scoped>\n",
              "    .dataframe tbody tr th:only-of-type {\n",
              "        vertical-align: middle;\n",
              "    }\n",
              "\n",
              "    .dataframe tbody tr th {\n",
              "        vertical-align: top;\n",
              "    }\n",
              "\n",
              "    .dataframe thead th {\n",
              "        text-align: right;\n",
              "    }\n",
              "</style>\n",
              "<table border=\"1\" class=\"dataframe\">\n",
              "  <thead>\n",
              "    <tr style=\"text-align: right;\">\n",
              "      <th></th>\n",
              "      <th>length</th>\n",
              "      <th>speed_kph</th>\n",
              "      <th>travel_time</th>\n",
              "    </tr>\n",
              "    <tr>\n",
              "      <th>highway</th>\n",
              "      <th></th>\n",
              "      <th></th>\n",
              "      <th></th>\n",
              "    </tr>\n",
              "  </thead>\n",
              "  <tbody>\n",
              "    <tr>\n",
              "      <th>construction</th>\n",
              "      <td>16.7</td>\n",
              "      <td>0.5</td>\n",
              "      <td>120.2</td>\n",
              "    </tr>\n",
              "    <tr>\n",
              "      <th>cycleway</th>\n",
              "      <td>21.9</td>\n",
              "      <td>10.2</td>\n",
              "      <td>7.7</td>\n",
              "    </tr>\n",
              "    <tr>\n",
              "      <th>footway</th>\n",
              "      <td>13.3</td>\n",
              "      <td>3.5</td>\n",
              "      <td>13.6</td>\n",
              "    </tr>\n",
              "    <tr>\n",
              "      <th>living_street</th>\n",
              "      <td>30.0</td>\n",
              "      <td>9.0</td>\n",
              "      <td>14.1</td>\n",
              "    </tr>\n",
              "    <tr>\n",
              "      <th>path</th>\n",
              "      <td>16.5</td>\n",
              "      <td>10.2</td>\n",
              "      <td>5.8</td>\n",
              "    </tr>\n",
              "    <tr>\n",
              "      <th>pedestrian</th>\n",
              "      <td>17.0</td>\n",
              "      <td>3.5</td>\n",
              "      <td>17.5</td>\n",
              "    </tr>\n",
              "    <tr>\n",
              "      <th>primary</th>\n",
              "      <td>43.7</td>\n",
              "      <td>30.6</td>\n",
              "      <td>482.5</td>\n",
              "    </tr>\n",
              "    <tr>\n",
              "      <th>primary_link</th>\n",
              "      <td>15.1</td>\n",
              "      <td>10.2</td>\n",
              "      <td>5.3</td>\n",
              "    </tr>\n",
              "    <tr>\n",
              "      <th>residential</th>\n",
              "      <td>20.8</td>\n",
              "      <td>7.4</td>\n",
              "      <td>19.0</td>\n",
              "    </tr>\n",
              "    <tr>\n",
              "      <th>secondary</th>\n",
              "      <td>24.1</td>\n",
              "      <td>18.3</td>\n",
              "      <td>114.7</td>\n",
              "    </tr>\n",
              "    <tr>\n",
              "      <th>secondary_link</th>\n",
              "      <td>15.4</td>\n",
              "      <td>50.0</td>\n",
              "      <td>1.1</td>\n",
              "    </tr>\n",
              "    <tr>\n",
              "      <th>service</th>\n",
              "      <td>17.0</td>\n",
              "      <td>4.3</td>\n",
              "      <td>17.2</td>\n",
              "    </tr>\n",
              "    <tr>\n",
              "      <th>services</th>\n",
              "      <td>32.0</td>\n",
              "      <td>10.2</td>\n",
              "      <td>11.3</td>\n",
              "    </tr>\n",
              "    <tr>\n",
              "      <th>steps</th>\n",
              "      <td>7.5</td>\n",
              "      <td>3.5</td>\n",
              "      <td>7.7</td>\n",
              "    </tr>\n",
              "    <tr>\n",
              "      <th>tertiary</th>\n",
              "      <td>18.7</td>\n",
              "      <td>13.9</td>\n",
              "      <td>468.9</td>\n",
              "    </tr>\n",
              "    <tr>\n",
              "      <th>tertiary_link</th>\n",
              "      <td>12.4</td>\n",
              "      <td>50.0</td>\n",
              "      <td>0.9</td>\n",
              "    </tr>\n",
              "    <tr>\n",
              "      <th>track</th>\n",
              "      <td>22.1</td>\n",
              "      <td>3.5</td>\n",
              "      <td>22.7</td>\n",
              "    </tr>\n",
              "    <tr>\n",
              "      <th>trunk</th>\n",
              "      <td>63.3</td>\n",
              "      <td>61.3</td>\n",
              "      <td>68.4</td>\n",
              "    </tr>\n",
              "    <tr>\n",
              "      <th>trunk_link</th>\n",
              "      <td>24.6</td>\n",
              "      <td>49.6</td>\n",
              "      <td>1.8</td>\n",
              "    </tr>\n",
              "    <tr>\n",
              "      <th>unclassified</th>\n",
              "      <td>21.1</td>\n",
              "      <td>6.8</td>\n",
              "      <td>19.8</td>\n",
              "    </tr>\n",
              "    <tr>\n",
              "      <th>via_ferrata</th>\n",
              "      <td>15.3</td>\n",
              "      <td>10.2</td>\n",
              "      <td>5.4</td>\n",
              "    </tr>\n",
              "  </tbody>\n",
              "</table>\n",
              "</div>"
            ],
            "text/plain": [
              "                length  speed_kph  travel_time\n",
              "highway                                       \n",
              "construction      16.7        0.5        120.2\n",
              "cycleway          21.9       10.2          7.7\n",
              "footway           13.3        3.5         13.6\n",
              "living_street     30.0        9.0         14.1\n",
              "path              16.5       10.2          5.8\n",
              "pedestrian        17.0        3.5         17.5\n",
              "primary           43.7       30.6        482.5\n",
              "primary_link      15.1       10.2          5.3\n",
              "residential       20.8        7.4         19.0\n",
              "secondary         24.1       18.3        114.7\n",
              "secondary_link    15.4       50.0          1.1\n",
              "service           17.0        4.3         17.2\n",
              "services          32.0       10.2         11.3\n",
              "steps              7.5        3.5          7.7\n",
              "tertiary          18.7       13.9        468.9\n",
              "tertiary_link     12.4       50.0          0.9\n",
              "track             22.1        3.5         22.7\n",
              "trunk             63.3       61.3         68.4\n",
              "trunk_link        24.6       49.6          1.8\n",
              "unclassified      21.1        6.8         19.8\n",
              "via_ferrata       15.3       10.2          5.4"
            ]
          },
          "execution_count": 77,
          "metadata": {},
          "output_type": "execute_result"
        }
      ],
      "source": [
        "\n",
        "# see mean speed/time values by road type\n",
        "edges = ox.graph_to_gdfs(network_onx, nodes=False)\n",
        "edges[\"highway\"] = edges[\"highway\"].astype(str)\n",
        "edges.groupby(\"highway\")[[\"length\", \"speed_kph\", \"travel_time\"]].mean().round(1)"
      ]
    },
    {
      "cell_type": "code",
      "execution_count": 78,
      "metadata": {
        "id": "HrbMeUGMl8sQ"
      },
      "outputs": [],
      "source": [
        "point_nearest_train_station= ox.get_nearest_node(network_onx, point_train_station)"
      ]
    },
    {
      "cell_type": "markdown",
      "metadata": {
        "id": "-bXi-gzcXGB3"
      },
      "source": [
        "we identify a nearest point of each representative point of each location we have to reach"
      ]
    },
    {
      "cell_type": "code",
      "execution_count": 80,
      "metadata": {
        "id": "IianI8PDmdRZ"
      },
      "outputs": [],
      "source": [
        "trento_pubs['nearest_point_to_graph'] = trento_pubs.geometry.representative_point().apply(lambda point: ox.get_nearest_node(network_onx, (point.y,point.x)))"
      ]
    },
    {
      "cell_type": "markdown",
      "metadata": {
        "id": "cWwJguXNocr2"
      },
      "source": [
        "calculate the short path from the train station to each location"
      ]
    },
    {
      "cell_type": "code",
      "execution_count": 81,
      "metadata": {
        "id": "LPllPsa1oaUE"
      },
      "outputs": [],
      "source": [
        "trento_pubs['travel_time_route_from_train_station'] = trento_pubs.nearest_point_to_graph.apply(lambda pub_point: ox.shortest_path(network_onx, point_nearest_train_station, pub_point,weight=\"travel_time\"))"
      ]
    },
    {
      "cell_type": "markdown",
      "metadata": {
        "id": "foF891qqpF9q"
      },
      "source": [
        "create geometry of each path "
      ]
    },
    {
      "cell_type": "code",
      "execution_count": 88,
      "metadata": {
        "id": "mT8rxFDkpRQe"
      },
      "outputs": [],
      "source": [
        "# this define the function to create the linestring from the id nodes of the graph\n",
        "def geometry_from_route(inG,route):\n",
        "  points = []\n",
        "  for idnode in route:\n",
        "    lon = inG.nodes[idnode]['x']\n",
        "    lat = inG.nodes[idnode]['y']\n",
        "    point = Point(lon,lat)\n",
        "    points.append(point)\n",
        "  return(LineString(points))"
      ]
    },
    {
      "cell_type": "code",
      "execution_count": 89,
      "metadata": {
        "id": "wI-HcLncpitF"
      },
      "outputs": [],
      "source": [
        "trento_pubs['linestring'] = trento_pubs.route_from_train_station.apply(lambda route: geometry_from_route(network_walking_onx,route))"
      ]
    },
    {
      "cell_type": "markdown",
      "metadata": {
        "id": "r8VsJ1bjXcba"
      },
      "source": [
        "Show all the locations\n",
        "\n"
      ]
    },
    {
      "cell_type": "code",
      "execution_count": 90,
      "metadata": {
        "colab": {
          "base_uri": "https://localhost:8080/",
          "height": 283
        },
        "id": "tIQBDc36scLK",
        "outputId": "f4e19bfa-839b-437e-e170-fd8746e5af58"
      },
      "outputs": [
        {
          "data": {
            "image/png": "[encoded data removed]",
            "text/plain": [
              "<Figure size 432x288 with 1 Axes>"
            ]
          },
          "metadata": {
            "needs_background": "light"
          },
          "output_type": "display_data"
        }
      ],
      "source": [
        "trento_pubs.plot()\n",
        "plt.show()"
      ]
    },
    {
      "cell_type": "markdown",
      "metadata": {
        "id": "GYenQeAKXlYU"
      },
      "source": [
        "Show all the paths from the train station to each location"
      ]
    },
    {
      "cell_type": "code",
      "execution_count": 91,
      "metadata": {
        "colab": {
          "base_uri": "https://localhost:8080/",
          "height": 283
        },
        "id": "fQ5AY2gGp5a_",
        "outputId": "462eefd4-c2d7-4bef-b010-a102b99dd1d2"
      },
      "outputs": [
        {
          "data": {
            "image/png": "[encoded data removed]",
            "text/plain": [
              "<Figure size 432x288 with 1 Axes>"
            ]
          },
          "metadata": {
            "needs_background": "light"
          },
          "output_type": "display_data"
        }
      ],
      "source": [
        "trento_pubs.set_geometry('linestring').plot()\n",
        "plt.show()"
      ]
    },
    {
      "cell_type": "markdown",
      "metadata": {
        "id": "lG8_nFppt7m9"
      },
      "source": [
        "calculate time for each path"
      ]
    },
    {
      "cell_type": "code",
      "execution_count": 92,
      "metadata": {
        "id": "R9jxYkXcuTN-"
      },
      "outputs": [],
      "source": [
        "def travel_time_from_train_station(inG, route):\n",
        "  edge_times = ox.utils_graph.get_route_edge_attributes(inG, route, 'travel_time')\n",
        "  return (sum(edge_times))"
      ]
    },
    {
      "cell_type": "code",
      "execution_count": 93,
      "metadata": {
        "id": "cyLlXhMUukjj"
      },
      "outputs": [],
      "source": [
        "trento_pubs['travel_time_from_train_station'] = trento_pubs.travel_time_route_from_train_station.apply(lambda route: travel_time_from_train_station(network_onx,route))"
      ]
    },
    {
      "cell_type": "markdown",
      "metadata": {
        "id": "3SRP2LkdX26P"
      },
      "source": [
        "and the length for each"
      ]
    },
    {
      "cell_type": "code",
      "execution_count": 94,
      "metadata": {
        "id": "h5HAfq_QE355"
      },
      "outputs": [],
      "source": [
        "def lenght_path_from_train_station(inG, route):\n",
        "  edge_lengths = ox.utils_graph.get_route_edge_attributes(inG, route, 'length')\n",
        "  return (sum(edge_lengths))"
      ]
    },
    {
      "cell_type": "markdown",
      "metadata": {},
      "source": [
        "show the first 5 pubs by linear distance"
      ]
    },
    {
      "cell_type": "code",
      "execution_count": 99,
      "metadata": {},
      "outputs": [],
      "source": [
        "trento_pubs['lenght_path_from_train_station'] = trento_pubs.travel_time_route_from_train_station.apply(lambda route: lenght_path_from_train_station(network_onx,route))"
      ]
    },
    {
      "cell_type": "code",
      "execution_count": 103,
      "metadata": {},
      "outputs": [
        {
          "data": {
            "text/html": [
              "<div>\n",
              "<style scoped>\n",
              "    .dataframe tbody tr th:only-of-type {\n",
              "        vertical-align: middle;\n",
              "    }\n",
              "\n",
              "    .dataframe tbody tr th {\n",
              "        vertical-align: top;\n",
              "    }\n",
              "\n",
              "    .dataframe thead th {\n",
              "        text-align: right;\n",
              "    }\n",
              "</style>\n",
              "<table border=\"1\" class=\"dataframe\">\n",
              "  <thead>\n",
              "    <tr style=\"text-align: right;\">\n",
              "      <th></th>\n",
              "      <th>name</th>\n",
              "      <th>distance_to_train_station</th>\n",
              "    </tr>\n",
              "  </thead>\n",
              "  <tbody>\n",
              "    <tr>\n",
              "      <th>99</th>\n",
              "      <td>Bar Stazione Buffet Trento</td>\n",
              "      <td>31.089567</td>\n",
              "    </tr>\n",
              "    <tr>\n",
              "      <th>265</th>\n",
              "      <td>Flora</td>\n",
              "      <td>79.059449</td>\n",
              "    </tr>\n",
              "    <tr>\n",
              "      <th>266</th>\n",
              "      <td>Bar Caffetteria Dogana</td>\n",
              "      <td>173.832806</td>\n",
              "    </tr>\n",
              "    <tr>\n",
              "      <th>100</th>\n",
              "      <td>Bar Trento-Malé</td>\n",
              "      <td>186.993226</td>\n",
              "    </tr>\n",
              "    <tr>\n",
              "      <th>238</th>\n",
              "      <td>Liber Café</td>\n",
              "      <td>196.640913</td>\n",
              "    </tr>\n",
              "    <tr>\n",
              "      <th>242</th>\n",
              "      <td>Old Liberty Cafè</td>\n",
              "      <td>200.576391</td>\n",
              "    </tr>\n",
              "    <tr>\n",
              "      <th>173</th>\n",
              "      <td>Giornale &amp; Caffè</td>\n",
              "      <td>218.444391</td>\n",
              "    </tr>\n",
              "    <tr>\n",
              "      <th>82</th>\n",
              "      <td>Bar Buonconsiglio</td>\n",
              "      <td>241.155413</td>\n",
              "    </tr>\n",
              "    <tr>\n",
              "      <th>152</th>\n",
              "      <td>Joyce</td>\n",
              "      <td>260.825053</td>\n",
              "    </tr>\n",
              "    <tr>\n",
              "      <th>25</th>\n",
              "      <td>Gigi's Caffè</td>\n",
              "      <td>264.795828</td>\n",
              "    </tr>\n",
              "  </tbody>\n",
              "</table>\n",
              "</div>"
            ],
            "text/plain": [
              "                           name  distance_to_train_station\n",
              "99   Bar Stazione Buffet Trento                  31.089567\n",
              "265                       Flora                  79.059449\n",
              "266      Bar Caffetteria Dogana                 173.832806\n",
              "100             Bar Trento-Malé                 186.993226\n",
              "238                  Liber Café                 196.640913\n",
              "242            Old Liberty Cafè                 200.576391\n",
              "173            Giornale & Caffè                 218.444391\n",
              "82            Bar Buonconsiglio                 241.155413\n",
              "152                       Joyce                 260.825053\n",
              "25                 Gigi's Caffè                 264.795828"
            ]
          },
          "execution_count": 103,
          "metadata": {},
          "output_type": "execute_result"
        }
      ],
      "source": [
        "trento_pubs.sort_values(by=['distance_to_train_station']).head(10)[['name','distance_to_train_station']]"
      ]
    },
    {
      "cell_type": "markdown",
      "metadata": {},
      "source": [
        "show the first 5 pubs by travel time distance (in seconds)"
      ]
    },
    {
      "cell_type": "code",
      "execution_count": 101,
      "metadata": {},
      "outputs": [
        {
          "data": {
            "text/html": [
              "<div>\n",
              "<style scoped>\n",
              "    .dataframe tbody tr th:only-of-type {\n",
              "        vertical-align: middle;\n",
              "    }\n",
              "\n",
              "    .dataframe tbody tr th {\n",
              "        vertical-align: top;\n",
              "    }\n",
              "\n",
              "    .dataframe thead th {\n",
              "        text-align: right;\n",
              "    }\n",
              "</style>\n",
              "<table border=\"1\" class=\"dataframe\">\n",
              "  <thead>\n",
              "    <tr style=\"text-align: right;\">\n",
              "      <th></th>\n",
              "      <th>name</th>\n",
              "      <th>travel_time_from_train_station</th>\n",
              "    </tr>\n",
              "  </thead>\n",
              "  <tbody>\n",
              "    <tr>\n",
              "      <th>100</th>\n",
              "      <td>Bar Trento-Malé</td>\n",
              "      <td>215.1</td>\n",
              "    </tr>\n",
              "    <tr>\n",
              "      <th>99</th>\n",
              "      <td>Bar Stazione Buffet Trento</td>\n",
              "      <td>249.8</td>\n",
              "    </tr>\n",
              "    <tr>\n",
              "      <th>265</th>\n",
              "      <td>Flora</td>\n",
              "      <td>274.8</td>\n",
              "    </tr>\n",
              "    <tr>\n",
              "      <th>152</th>\n",
              "      <td>Joyce</td>\n",
              "      <td>308.9</td>\n",
              "    </tr>\n",
              "    <tr>\n",
              "      <th>51</th>\n",
              "      <td>Eurocafè</td>\n",
              "      <td>313.8</td>\n",
              "    </tr>\n",
              "    <tr>\n",
              "      <th>50</th>\n",
              "      <td>Bar Galasso</td>\n",
              "      <td>325.5</td>\n",
              "    </tr>\n",
              "    <tr>\n",
              "      <th>109</th>\n",
              "      <td>Bar Nuovo Paradiso</td>\n",
              "      <td>327.1</td>\n",
              "    </tr>\n",
              "    <tr>\n",
              "      <th>25</th>\n",
              "      <td>Gigi's Caffè</td>\n",
              "      <td>331.0</td>\n",
              "    </tr>\n",
              "    <tr>\n",
              "      <th>147</th>\n",
              "      <td>BarConad</td>\n",
              "      <td>331.8</td>\n",
              "    </tr>\n",
              "    <tr>\n",
              "      <th>266</th>\n",
              "      <td>Bar Caffetteria Dogana</td>\n",
              "      <td>336.0</td>\n",
              "    </tr>\n",
              "  </tbody>\n",
              "</table>\n",
              "</div>"
            ],
            "text/plain": [
              "                           name  travel_time_from_train_station\n",
              "100             Bar Trento-Malé                           215.1\n",
              "99   Bar Stazione Buffet Trento                           249.8\n",
              "265                       Flora                           274.8\n",
              "152                       Joyce                           308.9\n",
              "51                     Eurocafè                           313.8\n",
              "50                  Bar Galasso                           325.5\n",
              "109          Bar Nuovo Paradiso                           327.1\n",
              "25                 Gigi's Caffè                           331.0\n",
              "147                    BarConad                           331.8\n",
              "266      Bar Caffetteria Dogana                           336.0"
            ]
          },
          "execution_count": 101,
          "metadata": {},
          "output_type": "execute_result"
        }
      ],
      "source": [
        "trento_pubs.sort_values(by=['travel_time_from_train_station']).head(10)[['name','travel_time_from_train_station']]"
      ]
    },
    {
      "cell_type": "code",
      "execution_count": 102,
      "metadata": {},
      "outputs": [
        {
          "data": {
            "text/html": [
              "<div>\n",
              "<style scoped>\n",
              "    .dataframe tbody tr th:only-of-type {\n",
              "        vertical-align: middle;\n",
              "    }\n",
              "\n",
              "    .dataframe tbody tr th {\n",
              "        vertical-align: top;\n",
              "    }\n",
              "\n",
              "    .dataframe thead th {\n",
              "        text-align: right;\n",
              "    }\n",
              "</style>\n",
              "<table border=\"1\" class=\"dataframe\">\n",
              "  <thead>\n",
              "    <tr style=\"text-align: right;\">\n",
              "      <th></th>\n",
              "      <th>name</th>\n",
              "      <th>lenght_path_from_train_station</th>\n",
              "    </tr>\n",
              "  </thead>\n",
              "  <tbody>\n",
              "    <tr>\n",
              "      <th>100</th>\n",
              "      <td>Bar Trento-Malé</td>\n",
              "      <td>209.036</td>\n",
              "    </tr>\n",
              "    <tr>\n",
              "      <th>99</th>\n",
              "      <td>Bar Stazione Buffet Trento</td>\n",
              "      <td>242.810</td>\n",
              "    </tr>\n",
              "    <tr>\n",
              "      <th>265</th>\n",
              "      <td>Flora</td>\n",
              "      <td>267.102</td>\n",
              "    </tr>\n",
              "    <tr>\n",
              "      <th>266</th>\n",
              "      <td>Bar Caffetteria Dogana</td>\n",
              "      <td>326.520</td>\n",
              "    </tr>\n",
              "    <tr>\n",
              "      <th>25</th>\n",
              "      <td>Gigi's Caffè</td>\n",
              "      <td>338.526</td>\n",
              "    </tr>\n",
              "    <tr>\n",
              "      <th>152</th>\n",
              "      <td>Joyce</td>\n",
              "      <td>352.246</td>\n",
              "    </tr>\n",
              "    <tr>\n",
              "      <th>61</th>\n",
              "      <td>Dersut Caffè</td>\n",
              "      <td>404.855</td>\n",
              "    </tr>\n",
              "    <tr>\n",
              "      <th>82</th>\n",
              "      <td>Bar Buonconsiglio</td>\n",
              "      <td>419.039</td>\n",
              "    </tr>\n",
              "    <tr>\n",
              "      <th>227</th>\n",
              "      <td>Bar Biblioteca</td>\n",
              "      <td>425.837</td>\n",
              "    </tr>\n",
              "    <tr>\n",
              "      <th>51</th>\n",
              "      <td>Eurocafè</td>\n",
              "      <td>448.179</td>\n",
              "    </tr>\n",
              "  </tbody>\n",
              "</table>\n",
              "</div>"
            ],
            "text/plain": [
              "                           name  lenght_path_from_train_station\n",
              "100             Bar Trento-Malé                         209.036\n",
              "99   Bar Stazione Buffet Trento                         242.810\n",
              "265                       Flora                         267.102\n",
              "266      Bar Caffetteria Dogana                         326.520\n",
              "25                 Gigi's Caffè                         338.526\n",
              "152                       Joyce                         352.246\n",
              "61                 Dersut Caffè                         404.855\n",
              "82            Bar Buonconsiglio                         419.039\n",
              "227              Bar Biblioteca                         425.837\n",
              "51                     Eurocafè                         448.179"
            ]
          },
          "execution_count": 102,
          "metadata": {},
          "output_type": "execute_result"
        }
      ],
      "source": [
        "trento_pubs.sort_values(by=['lenght_path_from_train_station']).head(10)[['name','lenght_path_from_train_station']]"
      ]
    },
    {
      "cell_type": "markdown",
      "metadata": {},
      "source": [
        "## calculate the students (primary and secondary education) accessibility of the city of Trento\n",
        "\n",
        "The autonomous province of Trento publishes the school's data on the vivoscuola.it website\n",
        "Some data (schools and number of students) are available through Rest APIs (not documented).\n",
        "\n",
        "The two main end points are:\n",
        "- list of schools<br/>\n",
        "https://aprilascuola.provincia.tn.it/sei//api/ituzioneScolastica/istituzioni/ricerca\n",
        "- information of a single school providing the id<br/>\n",
        "https://aprilascuola.provincia.tn.it/sei//api/ituzioneScolastica/istituzioni/CODE_OF_SCHOOL]\n"
      ]
    },
    {
      "cell_type": "code",
      "execution_count": 104,
      "metadata": {},
      "outputs": [],
      "source": [
        "schools_url = \"https://aprilascuola.provincia.tn.it/sei//api/istituzioneScolastica/istituzioni/ricerca\"\n",
        "search_school_url =  \"https://aprilascuola.provincia.tn.it/sei//api/istituzioneScolastica/istituzioni/0CODE\"\n",
        "schools_trentino = pd.read_json(schools_url)\n",
        "schools_in_trento = schools_trentino[schools_trentino.comune=='TRENTO']"
      ]
    },
    {
      "cell_type": "code",
      "execution_count": 105,
      "metadata": {},
      "outputs": [],
      "source": [
        "schools_in_trento = schools_in_trento[~schools_in_trento.latitudeY.isnull()]"
      ]
    },
    {
      "cell_type": "code",
      "execution_count": 106,
      "metadata": {},
      "outputs": [],
      "source": [
        "geo_schools_in_trento = gpd.GeoDataFrame(\n",
        "    schools_in_trento,\n",
        "    crs='EPSG:4326',\n",
        "    geometry=gpd.points_from_xy(schools_in_trento.longitudeX, schools_in_trento.latitudeY))"
      ]
    },
    {
      "cell_type": "code",
      "execution_count": 107,
      "metadata": {},
      "outputs": [],
      "source": [
        "def getTotalStudents(idschool):\n",
        "    idschool = str(idschool)\n",
        "    if (len(idschool) > 4):\n",
        "        search_school = search_school_url.replace(\"CODE\",idschool)\n",
        "    else:\n",
        "        search_school = search_school_url.replace(\"0CODE\",idschool)\n",
        "    json_data = requests.get(search_school).json()\n",
        "    totalstudents =  json_data['totaleStudenti']\n",
        "    if (totalstudents == None):\n",
        "        totalstudents = 0\n",
        "    return totalstudents"
      ]
    },
    {
      "cell_type": "code",
      "execution_count": 108,
      "metadata": {},
      "outputs": [],
      "source": [
        "geo_schools_in_trento['students'] = geo_schools_in_trento['codiceProvinciale'].apply(getTotalStudents)"
      ]
    },
    {
      "cell_type": "code",
      "execution_count": 109,
      "metadata": {},
      "outputs": [],
      "source": [
        "geo_schools_in_trento = geo_schools_in_trento[geo_schools_in_trento.students>0]"
      ]
    },
    {
      "cell_type": "code",
      "execution_count": 110,
      "metadata": {},
      "outputs": [],
      "source": [
        "# Attach schools to Pandana graph\n",
        "network_pandana.set_pois(category=\"school\", maxdist=2000, maxitems=10, \n",
        "           x_col=geo_schools_in_trento.longitudeX, y_col=geo_schools_in_trento.latitudeY)"
      ]
    },
    {
      "cell_type": "code",
      "execution_count": 111,
      "metadata": {},
      "outputs": [],
      "source": [
        "# Find the closest node-id for each school\n",
        "node_ids = network_pandana.get_node_ids(geo_schools_in_trento.longitudeX, geo_schools_in_trento.latitudeY)"
      ]
    },
    {
      "cell_type": "code",
      "execution_count": 114,
      "metadata": {},
      "outputs": [],
      "source": [
        "network_pandana.set(node_ids, variable=geo_schools_in_trento.students, name=\"students\")"
      ]
    },
    {
      "cell_type": "code",
      "execution_count": 115,
      "metadata": {},
      "outputs": [],
      "source": [
        "# Calculate the number of students (cumulative sum) from each node up to 500 meters\n",
        "result = network_pandana.aggregate(500, type=\"sum\", decay=\"linear\", name=\"students\")\n",
        "result = result.to_frame(name=\"sum_students\")"
      ]
    },
    {
      "cell_type": "code",
      "execution_count": 116,
      "metadata": {},
      "outputs": [],
      "source": [
        "# Attach the information from nodes\n",
        "result = nodes.merge(result, left_on=\"id\", right_on=result.index)"
      ]
    },
    {
      "cell_type": "code",
      "execution_count": 122,
      "metadata": {},
      "outputs": [
        {
          "data": {
            "image/png": "[encoded data removed]",
            "text/plain": [
              "<Figure size 1080x1080 with 1 Axes>"
            ]
          },
          "metadata": {},
          "output_type": "display_data"
        }
      ],
      "source": [
        "# Visualize the results\n",
        "plt.style.use('dark_background')\n",
        "ax = result.plot(column=\"sum_students\", cmap='BrBG', markersize=0.1, legend=False, figsize=(15, 15))\n",
        "plt.axis('off')\n",
        "plt.show()"
      ]
    }
  ],
  "metadata": {
    "colab": {
      "collapsed_sections": [],
      "name": "05 - Street Network Analysis - solution to the exercises.ipynb",
      "provenance": []
    },
    "interpreter": {
      "hash": "31f2aee4e71d21fbe5cf8b01ff0e069b9275f58929596ceb00d14d90e3e16cd6"
    },
    "kernelspec": {
      "display_name": "Python 3.9.7 64-bit",
      "name": "python3"
    },
    "language_info": {
      "codemirror_mode": {
        "name": "ipython",
        "version": 3
      },
      "file_extension": ".py",
      "mimetype": "text/x-python",
      "name": "python",
      "nbconvert_exporter": "python",
      "pygments_lexer": "ipython3",
      "version": "3.9.7"
    }
  },
  "nbformat": 4,
  "nbformat_minor": 0
}
