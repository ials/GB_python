{
  "cells": [
    {
      "cell_type": "markdown",
      "metadata": {
        "id": "3t2-UByg-oiF"
      },
      "source": [
        "# Setup"
      ]
    },
    {
      "cell_type": "code",
      "execution_count": 1,
      "metadata": {
        "colab": {
          "base_uri": "https://localhost:8080/",
          "height": 121
        },
        "id": "uVCGKswPy1aY",
        "outputId": "265cbec2-1441-4b58-de9e-8e20ddc81e08"
      },
      "outputs": [],
      "source": [
        "try:\n",
        "  import pygeos\n",
        "except ModuleNotFoundError as e:\n",
        "  !pip install pygeos==0.10.2\n",
        "  import pygeos"
      ]
    },
    {
      "cell_type": "code",
      "execution_count": 2,
      "metadata": {
        "colab": {
          "base_uri": "https://localhost:8080/",
          "height": 471
        },
        "id": "Kg8Sf2oK-6GO",
        "outputId": "aeea8820-8c72-476a-f5ed-78bf7ffcd20b"
      },
      "outputs": [
        {
          "name": "stderr",
          "output_type": "stream",
          "text": [
            "/home/napo/.local/lib/python3.9/site-packages/geopandas/_compat.py:111: UserWarning: The Shapely GEOS version (3.8.0-CAPI-1.13.1 ) is incompatible with the GEOS version PyGEOS was compiled with (3.9.1-CAPI-1.14.2). Conversions between both will be slow.\n",
            "  warnings.warn(\n"
          ]
        }
      ],
      "source": [
        "try:\n",
        "  import geopandas as gpd\n",
        "except ModuleNotFoundError as e:\n",
        "  !pip install geopandas==0.10.1\n",
        "  import geopandas as gpd\n",
        "\n",
        "if gpd.__version__ != \"0.10.1\":\n",
        "  !pip install -U geopandas==0.10.1\n",
        "  import geopandas as gpd"
      ]
    },
    {
      "cell_type": "code",
      "execution_count": 3,
      "metadata": {
        "colab": {
          "base_uri": "https://localhost:8080/",
          "height": 680
        },
        "id": "X19Rxubp-1_g",
        "outputId": "4af96921-166b-40ff-c346-70e41a410e50"
      },
      "outputs": [],
      "source": [
        "try:\n",
        "  import pyrosm\n",
        "except ModuleNotFoundError as e:\n",
        "  !pip install pyrosm==0.6.1\n",
        "  import pyrosm\n"
      ]
    },
    {
      "cell_type": "markdown",
      "metadata": {
        "id": "vsI-mCoR-YPv"
      },
      "source": [
        "# Exercise\n",
        "- download from OpenStreetMap all supermarkets inside the bounding box of the city in this point<br/>\n",
        "   latitude: 46.21209<br/>\n",
        "   longitude: 11.09351\n",
        "- identify the longest road of the city (state roads, walking routes, motorways are excluded). Please use \"unclassified\"\n",
        "- How many drinking water are in this city?\n",
        "- How many benches in this city have the backrest?\n"
      ]
    },
    {
      "cell_type": "markdown",
      "metadata": {
        "id": "gRbf6i9E_M8U"
      },
      "source": [
        "## download from OpenStreetMap all supermarkets inside the bounding box of the city in this point and\n",
        "\n",
        "   latitude: 46.21209<br/>\n",
        "   longitude: 11.09351"
      ]
    },
    {
      "cell_type": "code",
      "execution_count": 4,
      "metadata": {
        "colab": {
          "base_uri": "https://localhost:8080/",
          "height": 72
        },
        "id": "4aed7RUAEFWD",
        "outputId": "4b938464-89c1-4695-9db9-20a6b64e6c4d"
      },
      "outputs": [],
      "source": [
        "import geopandas as gpd"
      ]
    },
    {
      "cell_type": "code",
      "execution_count": 5,
      "metadata": {},
      "outputs": [],
      "source": [
        "latitude = 46.21209\n",
        "longitude = 11.09351"
      ]
    },
    {
      "cell_type": "markdown",
      "metadata": {
        "id": "gFD_emOeHbhX"
      },
      "source": [
        "## find the city"
      ]
    },
    {
      "cell_type": "markdown",
      "metadata": {
        "id": "QTJPrf7LFIkK"
      },
      "source": [
        "### method 1 - reverse geocoding"
      ]
    },
    {
      "cell_type": "code",
      "execution_count": 6,
      "metadata": {
        "id": "nSxcieQUFtJB"
      },
      "outputs": [],
      "source": [
        "from geopy.geocoders import ArcGIS"
      ]
    },
    {
      "cell_type": "code",
      "execution_count": 7,
      "metadata": {
        "id": "7JbQf0_LFVbF"
      },
      "outputs": [],
      "source": [
        "latlon = str(latitude) + \",\" + str(longitude);"
      ]
    },
    {
      "cell_type": "code",
      "execution_count": 8,
      "metadata": {
        "id": "LCtE4ZMMFgzJ"
      },
      "outputs": [],
      "source": [
        "geolocator = ArcGIS(user_agent=\"Mozilla/5.0 (Linux; Android 10) AppleWebKit/537.36 (KHTML, like Gecko) Chrome/86.0.4240.75 Mobile Safari/537.36\")"
      ]
    },
    {
      "cell_type": "code",
      "execution_count": 9,
      "metadata": {
        "id": "8j6Ddx1xFmw9"
      },
      "outputs": [],
      "source": [
        "location = geolocator.reverse(latlon)"
      ]
    },
    {
      "cell_type": "code",
      "execution_count": 10,
      "metadata": {
        "colab": {
          "base_uri": "https://localhost:8080/",
          "height": 364
        },
        "id": "czfQt5e3bgRF",
        "outputId": "ba2b6efb-aeeb-4e7a-b5c8-1bd94bca971a"
      },
      "outputs": [
        {
          "data": {
            "text/plain": [
              "{'Match_addr': 'Via Francesco Filos 12A, 38017, Mezzolombardo, Trento',\n",
              " 'LongLabel': 'Via Francesco Filos 12A, 38017, Mezzolombardo, Trento, ITA',\n",
              " 'ShortLabel': 'Via Francesco Filos 12A',\n",
              " 'Addr_type': 'PointAddress',\n",
              " 'Type': '',\n",
              " 'PlaceName': '',\n",
              " 'AddNum': '12A',\n",
              " 'Address': 'Via Francesco Filos 12A',\n",
              " 'Block': '',\n",
              " 'Sector': '',\n",
              " 'Neighborhood': '',\n",
              " 'District': 'Mezzolombardo',\n",
              " 'City': 'Mezzolombardo',\n",
              " 'MetroArea': '',\n",
              " 'Subregion': 'Trento',\n",
              " 'Region': 'Trentino-Alto Adige',\n",
              " 'Territory': '',\n",
              " 'Postal': '38017',\n",
              " 'PostalExt': '',\n",
              " 'CountryCode': 'ITA'}"
            ]
          },
          "execution_count": 10,
          "metadata": {},
          "output_type": "execute_result"
        }
      ],
      "source": [
        "location.raw"
      ]
    },
    {
      "cell_type": "code",
      "execution_count": 11,
      "metadata": {
        "id": "ZMySs5IAFwm8"
      },
      "outputs": [],
      "source": [
        "city = location.raw['City']"
      ]
    },
    {
      "cell_type": "code",
      "execution_count": 12,
      "metadata": {
        "colab": {
          "base_uri": "https://localhost:8080/",
          "height": 36
        },
        "id": "7eidOG-nGGSt",
        "outputId": "046028bc-c440-4948-f344-b52c319a72c4"
      },
      "outputs": [
        {
          "data": {
            "text/plain": [
              "'Mezzolombardo'"
            ]
          },
          "execution_count": 12,
          "metadata": {},
          "output_type": "execute_result"
        }
      ],
      "source": [
        "city"
      ]
    },
    {
      "cell_type": "markdown",
      "metadata": {
        "id": "CJ5hNwYB_RBr"
      },
      "source": [
        "### method 2 - spatial relation"
      ]
    },
    {
      "cell_type": "code",
      "execution_count": 13,
      "metadata": {
        "id": "CixnSnRiEU-X"
      },
      "outputs": [],
      "source": [
        "from shapely.geometry import Point"
      ]
    },
    {
      "cell_type": "code",
      "execution_count": 14,
      "metadata": {
        "id": "-WV9aGZFE451"
      },
      "outputs": [],
      "source": [
        "point = Point(longitude, latitude)"
      ]
    },
    {
      "cell_type": "code",
      "execution_count": 15,
      "metadata": {
        "colab": {
          "base_uri": "https://localhost:8080/",
          "height": 295
        },
        "id": "iyMAwE2kDzJl",
        "outputId": "d0367883-00cc-49b0-cec8-be94a33749c6"
      },
      "outputs": [],
      "source": [
        "urlmunicipalities2021 = 'https://github.com/napo/geospatial_course_unitn/raw/master/data/istat/shapefile_istat_municipalities_2021.zip'\n",
        "municipalities2021 = gpd.read_file(urlmunicipalities2021)"
      ]
    },
    {
      "cell_type": "code",
      "execution_count": 16,
      "metadata": {
        "id": "zWsarpccEYLI"
      },
      "outputs": [],
      "source": [
        "muncipality = municipalities2021[municipalities2021.to_crs(epsg=4326).geometry.contains(point)]"
      ]
    },
    {
      "cell_type": "code",
      "execution_count": 17,
      "metadata": {
        "colab": {
          "base_uri": "https://localhost:8080/",
          "height": 81
        },
        "id": "gGWR3m15G54z",
        "outputId": "6bbf099f-1717-4ec2-c90b-c4bcdc583101"
      },
      "outputs": [
        {
          "data": {
            "text/html": [
              "<div>\n",
              "<style scoped>\n",
              "    .dataframe tbody tr th:only-of-type {\n",
              "        vertical-align: middle;\n",
              "    }\n",
              "\n",
              "    .dataframe tbody tr th {\n",
              "        vertical-align: top;\n",
              "    }\n",
              "\n",
              "    .dataframe thead th {\n",
              "        text-align: right;\n",
              "    }\n",
              "</style>\n",
              "<table border=\"1\" class=\"dataframe\">\n",
              "  <thead>\n",
              "    <tr style=\"text-align: right;\">\n",
              "      <th></th>\n",
              "      <th>COD_RIP</th>\n",
              "      <th>COD_REG</th>\n",
              "      <th>COD_PROV</th>\n",
              "      <th>COD_CM</th>\n",
              "      <th>COD_UTS</th>\n",
              "      <th>PRO_COM</th>\n",
              "      <th>PRO_COM_T</th>\n",
              "      <th>COMUNE</th>\n",
              "      <th>COMUNE_A</th>\n",
              "      <th>CC_UTS</th>\n",
              "      <th>SHAPE_LENG</th>\n",
              "      <th>Shape_Le_1</th>\n",
              "      <th>Shape_Area</th>\n",
              "      <th>geometry</th>\n",
              "    </tr>\n",
              "  </thead>\n",
              "  <tbody>\n",
              "    <tr>\n",
              "      <th>5729</th>\n",
              "      <td>2</td>\n",
              "      <td>4</td>\n",
              "      <td>22</td>\n",
              "      <td>0</td>\n",
              "      <td>22</td>\n",
              "      <td>22117</td>\n",
              "      <td>022117</td>\n",
              "      <td>Mezzolombardo</td>\n",
              "      <td>None</td>\n",
              "      <td>0</td>\n",
              "      <td>19772.366696</td>\n",
              "      <td>19772.224335</td>\n",
              "      <td>1.387899e+07</td>\n",
              "      <td>POLYGON ((659991.073 5121616.939, 660070.949 5...</td>\n",
              "    </tr>\n",
              "  </tbody>\n",
              "</table>\n",
              "</div>"
            ],
            "text/plain": [
              "      COD_RIP  COD_REG  COD_PROV  COD_CM  COD_UTS  PRO_COM PRO_COM_T  \\\n",
              "5729        2        4        22       0       22    22117    022117   \n",
              "\n",
              "             COMUNE COMUNE_A  CC_UTS    SHAPE_LENG    Shape_Le_1  \\\n",
              "5729  Mezzolombardo     None       0  19772.366696  19772.224335   \n",
              "\n",
              "        Shape_Area                                           geometry  \n",
              "5729  1.387899e+07  POLYGON ((659991.073 5121616.939, 660070.949 5...  "
            ]
          },
          "execution_count": 17,
          "metadata": {},
          "output_type": "execute_result"
        }
      ],
      "source": [
        "muncipality"
      ]
    },
    {
      "cell_type": "code",
      "execution_count": 18,
      "metadata": {
        "id": "ZQ2OLXmtHAJN"
      },
      "outputs": [],
      "source": [
        "city = muncipality.COMUNE.values[0]"
      ]
    },
    {
      "cell_type": "code",
      "execution_count": 19,
      "metadata": {
        "colab": {
          "base_uri": "https://localhost:8080/",
          "height": 36
        },
        "id": "ukwOsdblHPZw",
        "outputId": "7b620eaf-3534-476b-9c1b-317a2495729f"
      },
      "outputs": [
        {
          "data": {
            "text/plain": [
              "'Mezzolombardo'"
            ]
          },
          "execution_count": 19,
          "metadata": {},
          "output_type": "execute_result"
        }
      ],
      "source": [
        "city"
      ]
    },
    {
      "cell_type": "markdown",
      "metadata": {
        "id": "UmL4-rgmIN3I"
      },
      "source": [
        "## download from OpenStreetMap"
      ]
    },
    {
      "cell_type": "markdown",
      "metadata": {
        "id": "4e-359dKHji7"
      },
      "source": [
        "## find the boundig box of Mezzolombardo"
      ]
    },
    {
      "cell_type": "code",
      "execution_count": 20,
      "metadata": {
        "id": "At-YukQZHn_j"
      },
      "outputs": [],
      "source": [
        "municipality = municipalities2021[municipalities2021.COMUNE==city]"
      ]
    },
    {
      "cell_type": "markdown",
      "metadata": {
        "id": "SPC5l5pTIX1X"
      },
      "source": [
        "## Donwload the PBF of Mezzolombardo from OSM Estratti\n",
        "\n",
        "![](https://raw.githubusercontent.com/napo/geospatial_course_unitn/master/images/osm_estratti_mezzolombardo.jpg)"
      ]
    },
    {
      "cell_type": "code",
      "execution_count": 21,
      "metadata": {},
      "outputs": [
        {
          "data": {
            "text/plain": [
              "('mezzolombardo_osm.pbf', <http.client.HTTPMessage at 0x7fefb844d9d0>)"
            ]
          },
          "execution_count": 21,
          "metadata": {},
          "output_type": "execute_result"
        }
      ],
      "source": [
        "url_download_mezzolombardo_pbf = 'https://osmit-estratti.wmcloud.org/dati/poly/comuni/pbf/022117_Mezzolombardo_poly.osm.pbf'\n",
        "import urllib.request\n",
        "urllib.request.urlretrieve(url_download_mezzolombardo_pbf ,\"mezzolombardo_osm.pbf\")"
      ]
    },
    {
      "cell_type": "markdown",
      "metadata": {
        "id": "MqEyAiv5-PK4"
      },
      "source": [
        "## find all the supermarkets in the area\n",
        "\n"
      ]
    },
    {
      "cell_type": "code",
      "execution_count": 22,
      "metadata": {
        "colab": {
          "base_uri": "https://localhost:8080/",
          "height": 72
        },
        "id": "OJ-06PsyP4dT",
        "outputId": "87d3a48d-2a1c-439c-ab0f-7c62bc14c1a0"
      },
      "outputs": [],
      "source": [
        "import pyrosm"
      ]
    },
    {
      "cell_type": "markdown",
      "metadata": {
        "id": "pAFYXykn_pCx"
      },
      "source": [
        "![](https://raw.githubusercontent.com/napo/geospatial_course_unitn/master/images/tag_supermarket.png)"
      ]
    },
    {
      "cell_type": "code",
      "execution_count": 23,
      "metadata": {
        "id": "VGqC3vvbPtcC"
      },
      "outputs": [],
      "source": [
        "osm = pyrosm.OSM(\"mezzolombardo_osm.pbf\") "
      ]
    },
    {
      "cell_type": "code",
      "execution_count": 24,
      "metadata": {
        "id": "T8D0Jp7XAFwd"
      },
      "outputs": [],
      "source": [
        "custom_filter = {'shop': ['supermarket']}"
      ]
    },
    {
      "cell_type": "code",
      "execution_count": 25,
      "metadata": {
        "id": "l_TYpgQ4_9IC"
      },
      "outputs": [],
      "source": [
        "supermarkets = osm.get_pois(custom_filter=custom_filter)"
      ]
    },
    {
      "cell_type": "code",
      "execution_count": 26,
      "metadata": {
        "colab": {
          "base_uri": "https://localhost:8080/",
          "height": 34
        },
        "id": "Wp8XKwn4AgBn",
        "outputId": "e6a5f47f-2efe-43ae-e8b4-2abe42b07b91"
      },
      "outputs": [
        {
          "data": {
            "text/plain": [
              "(6, 19)"
            ]
          },
          "execution_count": 26,
          "metadata": {},
          "output_type": "execute_result"
        }
      ],
      "source": [
        "supermarkets.shape"
      ]
    },
    {
      "cell_type": "code",
      "execution_count": 27,
      "metadata": {
        "colab": {
          "base_uri": "https://localhost:8080/",
          "height": 702
        },
        "id": "IIxncvJ9gIPU",
        "outputId": "1edf8b0b-3f63-4e39-ec9d-ef8b7838abe3"
      },
      "outputs": [
        {
          "data": {
            "text/html": [
              "<div>\n",
              "<style scoped>\n",
              "    .dataframe tbody tr th:only-of-type {\n",
              "        vertical-align: middle;\n",
              "    }\n",
              "\n",
              "    .dataframe tbody tr th {\n",
              "        vertical-align: top;\n",
              "    }\n",
              "\n",
              "    .dataframe thead th {\n",
              "        text-align: right;\n",
              "    }\n",
              "</style>\n",
              "<table border=\"1\" class=\"dataframe\">\n",
              "  <thead>\n",
              "    <tr style=\"text-align: right;\">\n",
              "      <th></th>\n",
              "      <th>version</th>\n",
              "      <th>timestamp</th>\n",
              "      <th>lon</th>\n",
              "      <th>tags</th>\n",
              "      <th>id</th>\n",
              "      <th>lat</th>\n",
              "      <th>changeset</th>\n",
              "      <th>addr:city</th>\n",
              "      <th>addr:country</th>\n",
              "      <th>addr:housenumber</th>\n",
              "      <th>addr:housename</th>\n",
              "      <th>addr:postcode</th>\n",
              "      <th>addr:street</th>\n",
              "      <th>name</th>\n",
              "      <th>opening_hours</th>\n",
              "      <th>shop</th>\n",
              "      <th>geometry</th>\n",
              "      <th>osm_type</th>\n",
              "      <th>operator</th>\n",
              "    </tr>\n",
              "  </thead>\n",
              "  <tbody>\n",
              "    <tr>\n",
              "      <th>0</th>\n",
              "      <td>1</td>\n",
              "      <td>1409592099</td>\n",
              "      <td>11.089408</td>\n",
              "      <td>None</td>\n",
              "      <td>3054012770</td>\n",
              "      <td>46.213261</td>\n",
              "      <td>0.0</td>\n",
              "      <td>None</td>\n",
              "      <td>None</td>\n",
              "      <td>None</td>\n",
              "      <td>None</td>\n",
              "      <td>None</td>\n",
              "      <td>None</td>\n",
              "      <td>Despar</td>\n",
              "      <td>None</td>\n",
              "      <td>supermarket</td>\n",
              "      <td>POINT (11.08941 46.21326)</td>\n",
              "      <td>node</td>\n",
              "      <td>NaN</td>\n",
              "    </tr>\n",
              "    <tr>\n",
              "      <th>1</th>\n",
              "      <td>5</td>\n",
              "      <td>1594466282</td>\n",
              "      <td>11.100459</td>\n",
              "      <td>{\"brand\":\"EuroSpin\",\"level\":\"0\",\"wheelchair\":\"...</td>\n",
              "      <td>4557760211</td>\n",
              "      <td>46.207256</td>\n",
              "      <td>0.0</td>\n",
              "      <td>Mezzolombardo</td>\n",
              "      <td>IT</td>\n",
              "      <td>65/A</td>\n",
              "      <td>Complesso Commerciale Braide</td>\n",
              "      <td>38017</td>\n",
              "      <td>Via Trento</td>\n",
              "      <td>EuroSpin</td>\n",
              "      <td>Mo-Su 08:00-20:00</td>\n",
              "      <td>supermarket</td>\n",
              "      <td>POINT (11.10046 46.20726)</td>\n",
              "      <td>node</td>\n",
              "      <td>NaN</td>\n",
              "    </tr>\n",
              "    <tr>\n",
              "      <th>2</th>\n",
              "      <td>8</td>\n",
              "      <td>1523179735</td>\n",
              "      <td>NaN</td>\n",
              "      <td>{\"building\":\"yes\",\"ref:vatin\":\"IT00108640228\"}</td>\n",
              "      <td>39484297</td>\n",
              "      <td>NaN</td>\n",
              "      <td>NaN</td>\n",
              "      <td>Mezzolombardo</td>\n",
              "      <td>IT</td>\n",
              "      <td>33</td>\n",
              "      <td>NaN</td>\n",
              "      <td>38017</td>\n",
              "      <td>Via Guido Fiorini</td>\n",
              "      <td>Orvea</td>\n",
              "      <td>None</td>\n",
              "      <td>supermarket</td>\n",
              "      <td>POLYGON ((11.10120 46.20900, 11.10125 46.20917...</td>\n",
              "      <td>way</td>\n",
              "      <td>OR.VE.A. S.P.A.</td>\n",
              "    </tr>\n",
              "    <tr>\n",
              "      <th>3</th>\n",
              "      <td>7</td>\n",
              "      <td>1615675726</td>\n",
              "      <td>NaN</td>\n",
              "      <td>{\"building\":\"yes\"}</td>\n",
              "      <td>73412650</td>\n",
              "      <td>NaN</td>\n",
              "      <td>NaN</td>\n",
              "      <td>Mezzolombardo</td>\n",
              "      <td>IT</td>\n",
              "      <td>5</td>\n",
              "      <td>NaN</td>\n",
              "      <td>38017</td>\n",
              "      <td>Via Francesco Morigl</td>\n",
              "      <td>Amort</td>\n",
              "      <td>None</td>\n",
              "      <td>supermarket</td>\n",
              "      <td>POLYGON ((11.09448 46.21776, 11.09412 46.21755...</td>\n",
              "      <td>way</td>\n",
              "      <td>None</td>\n",
              "    </tr>\n",
              "    <tr>\n",
              "      <th>4</th>\n",
              "      <td>3</td>\n",
              "      <td>1635084049</td>\n",
              "      <td>NaN</td>\n",
              "      <td>{\"brand\":\"Spar\",\"brand:wikidata\":\"Q610492\",\"br...</td>\n",
              "      <td>301331720</td>\n",
              "      <td>NaN</td>\n",
              "      <td>NaN</td>\n",
              "      <td>None</td>\n",
              "      <td>None</td>\n",
              "      <td>None</td>\n",
              "      <td>NaN</td>\n",
              "      <td>None</td>\n",
              "      <td>None</td>\n",
              "      <td>Despar</td>\n",
              "      <td>Mo-Sa 07:30-13:00, 14:30-19:30</td>\n",
              "      <td>supermarket</td>\n",
              "      <td>POLYGON ((11.08941 46.21320, 11.08951 46.21327...</td>\n",
              "      <td>way</td>\n",
              "      <td>None</td>\n",
              "    </tr>\n",
              "    <tr>\n",
              "      <th>5</th>\n",
              "      <td>5</td>\n",
              "      <td>1594466282</td>\n",
              "      <td>NaN</td>\n",
              "      <td>{\"brand\":\"Lidl\",\"fixme\":\"position\",\"source\":\"l...</td>\n",
              "      <td>567538828</td>\n",
              "      <td>NaN</td>\n",
              "      <td>NaN</td>\n",
              "      <td>Mezzolombardo</td>\n",
              "      <td>IT</td>\n",
              "      <td>79</td>\n",
              "      <td>NaN</td>\n",
              "      <td>38017</td>\n",
              "      <td>Via Alcide De Gasperi</td>\n",
              "      <td>LIDL</td>\n",
              "      <td>Mo-Sa 08:00-21:00; Su 08:00-20:00</td>\n",
              "      <td>supermarket</td>\n",
              "      <td>POLYGON ((11.09423 46.21056, 11.09453 46.21074...</td>\n",
              "      <td>way</td>\n",
              "      <td>LIDL ITALIA SRL</td>\n",
              "    </tr>\n",
              "  </tbody>\n",
              "</table>\n",
              "</div>"
            ],
            "text/plain": [
              "   version   timestamp        lon  \\\n",
              "0        1  1409592099  11.089408   \n",
              "1        5  1594466282  11.100459   \n",
              "2        8  1523179735        NaN   \n",
              "3        7  1615675726        NaN   \n",
              "4        3  1635084049        NaN   \n",
              "5        5  1594466282        NaN   \n",
              "\n",
              "                                                tags          id        lat  \\\n",
              "0                                               None  3054012770  46.213261   \n",
              "1  {\"brand\":\"EuroSpin\",\"level\":\"0\",\"wheelchair\":\"...  4557760211  46.207256   \n",
              "2     {\"building\":\"yes\",\"ref:vatin\":\"IT00108640228\"}    39484297        NaN   \n",
              "3                                 {\"building\":\"yes\"}    73412650        NaN   \n",
              "4  {\"brand\":\"Spar\",\"brand:wikidata\":\"Q610492\",\"br...   301331720        NaN   \n",
              "5  {\"brand\":\"Lidl\",\"fixme\":\"position\",\"source\":\"l...   567538828        NaN   \n",
              "\n",
              "   changeset      addr:city addr:country addr:housenumber  \\\n",
              "0        0.0           None         None             None   \n",
              "1        0.0  Mezzolombardo           IT             65/A   \n",
              "2        NaN  Mezzolombardo           IT               33   \n",
              "3        NaN  Mezzolombardo           IT                5   \n",
              "4        NaN           None         None             None   \n",
              "5        NaN  Mezzolombardo           IT               79   \n",
              "\n",
              "                 addr:housename addr:postcode            addr:street  \\\n",
              "0                          None          None                   None   \n",
              "1  Complesso Commerciale Braide         38017             Via Trento   \n",
              "2                           NaN         38017      Via Guido Fiorini   \n",
              "3                           NaN         38017   Via Francesco Morigl   \n",
              "4                           NaN          None                   None   \n",
              "5                           NaN         38017  Via Alcide De Gasperi   \n",
              "\n",
              "       name                      opening_hours         shop  \\\n",
              "0    Despar                               None  supermarket   \n",
              "1  EuroSpin                  Mo-Su 08:00-20:00  supermarket   \n",
              "2     Orvea                               None  supermarket   \n",
              "3     Amort                               None  supermarket   \n",
              "4    Despar     Mo-Sa 07:30-13:00, 14:30-19:30  supermarket   \n",
              "5      LIDL  Mo-Sa 08:00-21:00; Su 08:00-20:00  supermarket   \n",
              "\n",
              "                                            geometry osm_type         operator  \n",
              "0                          POINT (11.08941 46.21326)     node              NaN  \n",
              "1                          POINT (11.10046 46.20726)     node              NaN  \n",
              "2  POLYGON ((11.10120 46.20900, 11.10125 46.20917...      way  OR.VE.A. S.P.A.  \n",
              "3  POLYGON ((11.09448 46.21776, 11.09412 46.21755...      way             None  \n",
              "4  POLYGON ((11.08941 46.21320, 11.08951 46.21327...      way             None  \n",
              "5  POLYGON ((11.09423 46.21056, 11.09453 46.21074...      way  LIDL ITALIA SRL  "
            ]
          },
          "execution_count": 27,
          "metadata": {},
          "output_type": "execute_result"
        }
      ],
      "source": [
        "supermarkets"
      ]
    },
    {
      "cell_type": "code",
      "execution_count": 28,
      "metadata": {
        "colab": {
          "base_uri": "https://localhost:8080/",
          "height": 34
        },
        "id": "QjQjoeakArNT",
        "outputId": "0f3e92a3-048f-473d-fb96-51d5dbbb690f"
      },
      "outputs": [
        {
          "name": "stdout",
          "output_type": "stream",
          "text": [
            "there are 6 supermarkets in Mezzolombardo\n"
          ]
        }
      ],
      "source": [
        "print(\"there are %s supermarkets in Mezzolombardo\" % supermarkets.shape[0])"
      ]
    },
    {
      "cell_type": "code",
      "execution_count": 29,
      "metadata": {
        "colab": {
          "base_uri": "https://localhost:8080/",
          "height": 173
        },
        "id": "-2Vb7JDmB5_w",
        "outputId": "da2eebcf-4447-4e51-a9d7-a5fdfc2e4ce9"
      },
      "outputs": [
        {
          "data": {
            "text/plain": [
              "0      Despar\n",
              "1    EuroSpin\n",
              "2       Orvea\n",
              "3       Amort\n",
              "4      Despar\n",
              "5        LIDL\n",
              "Name: name, dtype: object"
            ]
          },
          "execution_count": 29,
          "metadata": {},
          "output_type": "execute_result"
        }
      ],
      "source": [
        "supermarkets.name"
      ]
    },
    {
      "cell_type": "markdown",
      "metadata": {
        "id": "9V460bMCBvJC"
      },
      "source": [
        "# identify the longest road of the city\n"
      ]
    },
    {
      "cell_type": "code",
      "execution_count": 30,
      "metadata": {
        "id": "pKFy0PexB1bk"
      },
      "outputs": [],
      "source": [
        "roads = osm.get_network(network_type='all')"
      ]
    },
    {
      "cell_type": "code",
      "execution_count": 31,
      "metadata": {
        "colab": {
          "base_uri": "https://localhost:8080/",
          "height": 121
        },
        "id": "PIuQ9jeOCZPw",
        "outputId": "12fc5405-713f-4a5f-8cbf-db51a578b9dc"
      },
      "outputs": [
        {
          "data": {
            "text/plain": [
              "Index(['access', 'area', 'bicycle', 'bridge', 'cycleway', 'foot', 'footway',\n",
              "       'highway', 'junction', 'lanes', 'maxspeed', 'motor_vehicle', 'name',\n",
              "       'oneway', 'ref', 'service', 'segregated', 'smoothness', 'surface',\n",
              "       'tracktype', 'tunnel', 'id', 'timestamp', 'version', 'tags', 'osm_type',\n",
              "       'geometry', 'length'],\n",
              "      dtype='object')"
            ]
          },
          "execution_count": 31,
          "metadata": {},
          "output_type": "execute_result"
        }
      ],
      "source": [
        "roads.columns"
      ]
    },
    {
      "cell_type": "code",
      "execution_count": 32,
      "metadata": {
        "colab": {
          "base_uri": "https://localhost:8080/",
          "height": 86
        },
        "id": "6gn7COvMLHcF",
        "outputId": "be765745-4194-451c-8e58-7d2e3770476b"
      },
      "outputs": [
        {
          "data": {
            "text/plain": [
              "array(['tertiary', 'unclassified', 'residential', 'track', 'primary',\n",
              "       'secondary', 'cycleway', 'tertiary_link', 'path', 'service',\n",
              "       'primary_link', 'steps', 'footway', 'pedestrian', 'secondary_link'],\n",
              "      dtype=object)"
            ]
          },
          "execution_count": 32,
          "metadata": {},
          "output_type": "execute_result"
        }
      ],
      "source": [
        "roads.highway.unique()"
      ]
    },
    {
      "cell_type": "markdown",
      "metadata": {
        "id": "W9avLtkZDgeC"
      },
      "source": [
        "![](https://github.com/napo/geospatial_course_unitn/raw/master/images/tag_highways.gif)"
      ]
    },
    {
      "cell_type": "markdown",
      "metadata": {
        "id": "60u_oJ_3OE9w"
      },
      "source": [
        "## lenght of unclassified and residential togheter"
      ]
    },
    {
      "cell_type": "code",
      "execution_count": 33,
      "metadata": {
        "id": "0Ijyl80VDjzh"
      },
      "outputs": [],
      "source": [
        "roads_unclassified_residential = roads[(roads.highway=='unclassified') |  (roads.highway == 'tertiary')]"
      ]
    },
    {
      "cell_type": "code",
      "execution_count": 34,
      "metadata": {
        "colab": {
          "base_uri": "https://localhost:8080/",
          "height": 1000
        },
        "id": "c4S6xQ7FhcYD",
        "outputId": "9e9e4677-b09e-4fe0-9c26-c29e742735f3"
      },
      "outputs": [
        {
          "data": {
            "text/html": [
              "<div>\n",
              "<style scoped>\n",
              "    .dataframe tbody tr th:only-of-type {\n",
              "        vertical-align: middle;\n",
              "    }\n",
              "\n",
              "    .dataframe tbody tr th {\n",
              "        vertical-align: top;\n",
              "    }\n",
              "\n",
              "    .dataframe thead th {\n",
              "        text-align: right;\n",
              "    }\n",
              "</style>\n",
              "<table border=\"1\" class=\"dataframe\">\n",
              "  <thead>\n",
              "    <tr style=\"text-align: right;\">\n",
              "      <th></th>\n",
              "      <th>access</th>\n",
              "      <th>area</th>\n",
              "      <th>bicycle</th>\n",
              "      <th>bridge</th>\n",
              "      <th>cycleway</th>\n",
              "      <th>foot</th>\n",
              "      <th>footway</th>\n",
              "      <th>highway</th>\n",
              "      <th>junction</th>\n",
              "      <th>lanes</th>\n",
              "      <th>...</th>\n",
              "      <th>surface</th>\n",
              "      <th>tracktype</th>\n",
              "      <th>tunnel</th>\n",
              "      <th>id</th>\n",
              "      <th>timestamp</th>\n",
              "      <th>version</th>\n",
              "      <th>tags</th>\n",
              "      <th>osm_type</th>\n",
              "      <th>geometry</th>\n",
              "      <th>length</th>\n",
              "    </tr>\n",
              "  </thead>\n",
              "  <tbody>\n",
              "    <tr>\n",
              "      <th>0</th>\n",
              "      <td>None</td>\n",
              "      <td>None</td>\n",
              "      <td>None</td>\n",
              "      <td>None</td>\n",
              "      <td>None</td>\n",
              "      <td>None</td>\n",
              "      <td>None</td>\n",
              "      <td>tertiary</td>\n",
              "      <td>roundabout</td>\n",
              "      <td>None</td>\n",
              "      <td>...</td>\n",
              "      <td>None</td>\n",
              "      <td>None</td>\n",
              "      <td>None</td>\n",
              "      <td>24732926</td>\n",
              "      <td>1598641256</td>\n",
              "      <td>7</td>\n",
              "      <td>None</td>\n",
              "      <td>way</td>\n",
              "      <td>MULTILINESTRING ((11.10439 46.19333, 11.10438 ...</td>\n",
              "      <td>132.0</td>\n",
              "    </tr>\n",
              "    <tr>\n",
              "      <th>1</th>\n",
              "      <td>None</td>\n",
              "      <td>None</td>\n",
              "      <td>None</td>\n",
              "      <td>None</td>\n",
              "      <td>None</td>\n",
              "      <td>None</td>\n",
              "      <td>None</td>\n",
              "      <td>tertiary</td>\n",
              "      <td>roundabout</td>\n",
              "      <td>None</td>\n",
              "      <td>...</td>\n",
              "      <td>None</td>\n",
              "      <td>None</td>\n",
              "      <td>None</td>\n",
              "      <td>24732928</td>\n",
              "      <td>1464199823</td>\n",
              "      <td>9</td>\n",
              "      <td>None</td>\n",
              "      <td>way</td>\n",
              "      <td>MULTILINESTRING ((11.10043 46.20075, 11.10048 ...</td>\n",
              "      <td>100.0</td>\n",
              "    </tr>\n",
              "    <tr>\n",
              "      <th>2</th>\n",
              "      <td>None</td>\n",
              "      <td>None</td>\n",
              "      <td>None</td>\n",
              "      <td>None</td>\n",
              "      <td>None</td>\n",
              "      <td>None</td>\n",
              "      <td>None</td>\n",
              "      <td>tertiary</td>\n",
              "      <td>roundabout</td>\n",
              "      <td>None</td>\n",
              "      <td>...</td>\n",
              "      <td>None</td>\n",
              "      <td>None</td>\n",
              "      <td>None</td>\n",
              "      <td>24732930</td>\n",
              "      <td>1598641256</td>\n",
              "      <td>10</td>\n",
              "      <td>None</td>\n",
              "      <td>way</td>\n",
              "      <td>MULTILINESTRING ((11.10073 46.20638, 11.10078 ...</td>\n",
              "      <td>106.0</td>\n",
              "    </tr>\n",
              "    <tr>\n",
              "      <th>3</th>\n",
              "      <td>None</td>\n",
              "      <td>None</td>\n",
              "      <td>None</td>\n",
              "      <td>None</td>\n",
              "      <td>None</td>\n",
              "      <td>None</td>\n",
              "      <td>None</td>\n",
              "      <td>tertiary</td>\n",
              "      <td>None</td>\n",
              "      <td>None</td>\n",
              "      <td>...</td>\n",
              "      <td>None</td>\n",
              "      <td>None</td>\n",
              "      <td>None</td>\n",
              "      <td>24732932</td>\n",
              "      <td>1464199684</td>\n",
              "      <td>9</td>\n",
              "      <td>{\"loc_ref\":\"SP90\"}</td>\n",
              "      <td>way</td>\n",
              "      <td>MULTILINESTRING ((11.10087 46.20666, 11.10091 ...</td>\n",
              "      <td>108.0</td>\n",
              "    </tr>\n",
              "    <tr>\n",
              "      <th>4</th>\n",
              "      <td>None</td>\n",
              "      <td>None</td>\n",
              "      <td>None</td>\n",
              "      <td>None</td>\n",
              "      <td>None</td>\n",
              "      <td>None</td>\n",
              "      <td>None</td>\n",
              "      <td>unclassified</td>\n",
              "      <td>None</td>\n",
              "      <td>None</td>\n",
              "      <td>...</td>\n",
              "      <td>None</td>\n",
              "      <td>None</td>\n",
              "      <td>None</td>\n",
              "      <td>25413543</td>\n",
              "      <td>1522001556</td>\n",
              "      <td>26</td>\n",
              "      <td>None</td>\n",
              "      <td>way</td>\n",
              "      <td>MULTILINESTRING ((11.09512 46.20965, 11.09569 ...</td>\n",
              "      <td>786.0</td>\n",
              "    </tr>\n",
              "    <tr>\n",
              "      <th>...</th>\n",
              "      <td>...</td>\n",
              "      <td>...</td>\n",
              "      <td>...</td>\n",
              "      <td>...</td>\n",
              "      <td>...</td>\n",
              "      <td>...</td>\n",
              "      <td>...</td>\n",
              "      <td>...</td>\n",
              "      <td>...</td>\n",
              "      <td>...</td>\n",
              "      <td>...</td>\n",
              "      <td>...</td>\n",
              "      <td>...</td>\n",
              "      <td>...</td>\n",
              "      <td>...</td>\n",
              "      <td>...</td>\n",
              "      <td>...</td>\n",
              "      <td>...</td>\n",
              "      <td>...</td>\n",
              "      <td>...</td>\n",
              "      <td>...</td>\n",
              "    </tr>\n",
              "    <tr>\n",
              "      <th>873</th>\n",
              "      <td>None</td>\n",
              "      <td>None</td>\n",
              "      <td>None</td>\n",
              "      <td>None</td>\n",
              "      <td>None</td>\n",
              "      <td>None</td>\n",
              "      <td>None</td>\n",
              "      <td>tertiary</td>\n",
              "      <td>None</td>\n",
              "      <td>None</td>\n",
              "      <td>...</td>\n",
              "      <td>None</td>\n",
              "      <td>None</td>\n",
              "      <td>None</td>\n",
              "      <td>737863922</td>\n",
              "      <td>1571833099</td>\n",
              "      <td>1</td>\n",
              "      <td>None</td>\n",
              "      <td>way</td>\n",
              "      <td>MULTILINESTRING ((11.10378 46.19349, 11.10384 ...</td>\n",
              "      <td>16.0</td>\n",
              "    </tr>\n",
              "    <tr>\n",
              "      <th>874</th>\n",
              "      <td>None</td>\n",
              "      <td>None</td>\n",
              "      <td>None</td>\n",
              "      <td>None</td>\n",
              "      <td>None</td>\n",
              "      <td>None</td>\n",
              "      <td>None</td>\n",
              "      <td>tertiary</td>\n",
              "      <td>None</td>\n",
              "      <td>None</td>\n",
              "      <td>...</td>\n",
              "      <td>None</td>\n",
              "      <td>None</td>\n",
              "      <td>None</td>\n",
              "      <td>737863923</td>\n",
              "      <td>1571833099</td>\n",
              "      <td>1</td>\n",
              "      <td>None</td>\n",
              "      <td>way</td>\n",
              "      <td>MULTILINESTRING ((11.10395 46.19349, 11.10378 ...</td>\n",
              "      <td>13.0</td>\n",
              "    </tr>\n",
              "    <tr>\n",
              "      <th>897</th>\n",
              "      <td>None</td>\n",
              "      <td>None</td>\n",
              "      <td>None</td>\n",
              "      <td>None</td>\n",
              "      <td>None</td>\n",
              "      <td>None</td>\n",
              "      <td>None</td>\n",
              "      <td>unclassified</td>\n",
              "      <td>None</td>\n",
              "      <td>None</td>\n",
              "      <td>...</td>\n",
              "      <td>None</td>\n",
              "      <td>None</td>\n",
              "      <td>None</td>\n",
              "      <td>915122844</td>\n",
              "      <td>1615309919</td>\n",
              "      <td>1</td>\n",
              "      <td>None</td>\n",
              "      <td>way</td>\n",
              "      <td>MULTILINESTRING ((11.09157 46.20730, 11.09160 ...</td>\n",
              "      <td>148.0</td>\n",
              "    </tr>\n",
              "    <tr>\n",
              "      <th>927</th>\n",
              "      <td>None</td>\n",
              "      <td>None</td>\n",
              "      <td>None</td>\n",
              "      <td>None</td>\n",
              "      <td>None</td>\n",
              "      <td>None</td>\n",
              "      <td>None</td>\n",
              "      <td>unclassified</td>\n",
              "      <td>None</td>\n",
              "      <td>None</td>\n",
              "      <td>...</td>\n",
              "      <td>sett</td>\n",
              "      <td>None</td>\n",
              "      <td>None</td>\n",
              "      <td>915122880</td>\n",
              "      <td>1615309919</td>\n",
              "      <td>1</td>\n",
              "      <td>None</td>\n",
              "      <td>way</td>\n",
              "      <td>MULTILINESTRING ((11.09247 46.20816, 11.09265 ...</td>\n",
              "      <td>106.0</td>\n",
              "    </tr>\n",
              "    <tr>\n",
              "      <th>929</th>\n",
              "      <td>None</td>\n",
              "      <td>None</td>\n",
              "      <td>None</td>\n",
              "      <td>None</td>\n",
              "      <td>None</td>\n",
              "      <td>None</td>\n",
              "      <td>None</td>\n",
              "      <td>unclassified</td>\n",
              "      <td>None</td>\n",
              "      <td>None</td>\n",
              "      <td>...</td>\n",
              "      <td>sett</td>\n",
              "      <td>None</td>\n",
              "      <td>None</td>\n",
              "      <td>915122883</td>\n",
              "      <td>1615309919</td>\n",
              "      <td>1</td>\n",
              "      <td>None</td>\n",
              "      <td>way</td>\n",
              "      <td>MULTILINESTRING ((11.09222 46.20825, 11.09247 ...</td>\n",
              "      <td>21.0</td>\n",
              "    </tr>\n",
              "  </tbody>\n",
              "</table>\n",
              "<p>69 rows × 28 columns</p>\n",
              "</div>"
            ],
            "text/plain": [
              "    access  area bicycle bridge cycleway  foot footway       highway  \\\n",
              "0     None  None    None   None     None  None    None      tertiary   \n",
              "1     None  None    None   None     None  None    None      tertiary   \n",
              "2     None  None    None   None     None  None    None      tertiary   \n",
              "3     None  None    None   None     None  None    None      tertiary   \n",
              "4     None  None    None   None     None  None    None  unclassified   \n",
              "..     ...   ...     ...    ...      ...   ...     ...           ...   \n",
              "873   None  None    None   None     None  None    None      tertiary   \n",
              "874   None  None    None   None     None  None    None      tertiary   \n",
              "897   None  None    None   None     None  None    None  unclassified   \n",
              "927   None  None    None   None     None  None    None  unclassified   \n",
              "929   None  None    None   None     None  None    None  unclassified   \n",
              "\n",
              "       junction lanes  ... surface tracktype tunnel         id   timestamp  \\\n",
              "0    roundabout  None  ...    None      None   None   24732926  1598641256   \n",
              "1    roundabout  None  ...    None      None   None   24732928  1464199823   \n",
              "2    roundabout  None  ...    None      None   None   24732930  1598641256   \n",
              "3          None  None  ...    None      None   None   24732932  1464199684   \n",
              "4          None  None  ...    None      None   None   25413543  1522001556   \n",
              "..          ...   ...  ...     ...       ...    ...        ...         ...   \n",
              "873        None  None  ...    None      None   None  737863922  1571833099   \n",
              "874        None  None  ...    None      None   None  737863923  1571833099   \n",
              "897        None  None  ...    None      None   None  915122844  1615309919   \n",
              "927        None  None  ...    sett      None   None  915122880  1615309919   \n",
              "929        None  None  ...    sett      None   None  915122883  1615309919   \n",
              "\n",
              "    version                tags osm_type  \\\n",
              "0         7                None      way   \n",
              "1         9                None      way   \n",
              "2        10                None      way   \n",
              "3         9  {\"loc_ref\":\"SP90\"}      way   \n",
              "4        26                None      way   \n",
              "..      ...                 ...      ...   \n",
              "873       1                None      way   \n",
              "874       1                None      way   \n",
              "897       1                None      way   \n",
              "927       1                None      way   \n",
              "929       1                None      way   \n",
              "\n",
              "                                              geometry length  \n",
              "0    MULTILINESTRING ((11.10439 46.19333, 11.10438 ...  132.0  \n",
              "1    MULTILINESTRING ((11.10043 46.20075, 11.10048 ...  100.0  \n",
              "2    MULTILINESTRING ((11.10073 46.20638, 11.10078 ...  106.0  \n",
              "3    MULTILINESTRING ((11.10087 46.20666, 11.10091 ...  108.0  \n",
              "4    MULTILINESTRING ((11.09512 46.20965, 11.09569 ...  786.0  \n",
              "..                                                 ...    ...  \n",
              "873  MULTILINESTRING ((11.10378 46.19349, 11.10384 ...   16.0  \n",
              "874  MULTILINESTRING ((11.10395 46.19349, 11.10378 ...   13.0  \n",
              "897  MULTILINESTRING ((11.09157 46.20730, 11.09160 ...  148.0  \n",
              "927  MULTILINESTRING ((11.09247 46.20816, 11.09265 ...  106.0  \n",
              "929  MULTILINESTRING ((11.09222 46.20825, 11.09247 ...   21.0  \n",
              "\n",
              "[69 rows x 28 columns]"
            ]
          },
          "execution_count": 34,
          "metadata": {},
          "output_type": "execute_result"
        }
      ],
      "source": [
        "roads_unclassified_residential"
      ]
    },
    {
      "cell_type": "code",
      "execution_count": 35,
      "metadata": {
        "colab": {
          "base_uri": "https://localhost:8080/",
          "height": 225
        },
        "id": "DTIJky_cFN6T",
        "outputId": "6bfe983a-6260-4cb5-8927-6dbea34b6a5d"
      },
      "outputs": [
        {
          "data": {
            "text/plain": [
              "Via Trento                   4\n",
              "Via Carlo Devigili           3\n",
              "Via Sant'Antonio             3\n",
              "Piazza Pio XII               3\n",
              "Via Rotaliana                2\n",
              "Via della Rupe               2\n",
              "Piazza Cassa di Risparmio    2\n",
              "Via Milano                   1\n",
              "Via Guido Fiorini            1\n",
              "Piazza Cesare Battisti       1\n",
              "Corso del Popolo             1\n",
              "Via Francesco Filos          1\n",
              "Via degli Alpini             1\n",
              "Viale Fenice                 1\n",
              "Via Fabio Filzi              1\n",
              "Località Galletta            1\n",
              "Name: name, dtype: int64"
            ]
          },
          "execution_count": 35,
          "metadata": {},
          "output_type": "execute_result"
        }
      ],
      "source": [
        "roads_unclassified_residential['name'].value_counts()"
      ]
    },
    {
      "cell_type": "code",
      "execution_count": 36,
      "metadata": {
        "id": "Tic1SDGzGtr5"
      },
      "outputs": [],
      "source": [
        "names = roads_unclassified_residential.name.unique()"
      ]
    },
    {
      "cell_type": "code",
      "execution_count": 37,
      "metadata": {
        "colab": {
          "base_uri": "https://localhost:8080/",
          "height": 451
        },
        "id": "qdR7iRzphzq6",
        "outputId": "c6ed4500-6b72-48eb-83a4-ea0bfc43c9e4"
      },
      "outputs": [
        {
          "data": {
            "text/plain": [
              "array([None, 'Via Carlo Devigili', 'Via Rotaliana', 'Via Trento',\n",
              "       \"Via Sant'Antonio\", 'Via Milano', 'Piazza Pio XII',\n",
              "       'Via della Rupe', 'Via Guido Fiorini', 'Piazza Cassa di Risparmio',\n",
              "       'Piazza Cesare Battisti', 'Corso del Popolo',\n",
              "       'Via Francesco Filos', 'Via degli Alpini', 'Viale Fenice',\n",
              "       'Via Fabio Filzi', 'Località Galletta'], dtype=object)"
            ]
          },
          "execution_count": 37,
          "metadata": {},
          "output_type": "execute_result"
        }
      ],
      "source": [
        "names"
      ]
    },
    {
      "cell_type": "code",
      "execution_count": 38,
      "metadata": {
        "id": "hoibqzhEHvE0"
      },
      "outputs": [],
      "source": [
        "roads_lenght = {}\n",
        "rodas_in_meters = roads_unclassified_residential.to_crs(epsg=32632)\n",
        "for name in names:\n",
        "  road = rodas_in_meters[rodas_in_meters.name==name]\n",
        "  road_lenght = road.length.sum()\n",
        "  roads_lenght[name] = road_lenght\n"
      ]
    },
    {
      "cell_type": "code",
      "execution_count": 39,
      "metadata": {
        "colab": {
          "base_uri": "https://localhost:8080/",
          "height": 1000
        },
        "id": "ZBaoLmsvi8Tq",
        "outputId": "d5ed3a6d-e508-49dc-8967-9a4338514471"
      },
      "outputs": [
        {
          "data": {
            "text/plain": [
              "{None: 0.0,\n",
              " 'Via Carlo Devigili': 936.754889705999,\n",
              " 'Via Rotaliana': 774.3678080999027,\n",
              " 'Via Trento': 1479.2922178941103,\n",
              " \"Via Sant'Antonio\": 317.20741812669604,\n",
              " 'Via Milano': 428.4259989016135,\n",
              " 'Piazza Pio XII': 244.72762778938096,\n",
              " 'Via della Rupe': 657.2358490220092,\n",
              " 'Via Guido Fiorini': 262.2489738895878,\n",
              " 'Piazza Cassa di Risparmio': 101.69215459438668,\n",
              " 'Piazza Cesare Battisti': 74.36442381488386,\n",
              " 'Corso del Popolo': 254.15957956408997,\n",
              " 'Via Francesco Filos': 101.21436392814823,\n",
              " 'Via degli Alpini': 223.4884323682712,\n",
              " 'Viale Fenice': 377.86898287344684,\n",
              " 'Via Fabio Filzi': 131.1560732099417,\n",
              " 'Località Galletta': 321.34567496279004}"
            ]
          },
          "execution_count": 39,
          "metadata": {},
          "output_type": "execute_result"
        }
      ],
      "source": [
        "roads_lenght"
      ]
    },
    {
      "cell_type": "code",
      "execution_count": 40,
      "metadata": {
        "colab": {
          "base_uri": "https://localhost:8080/",
          "height": 36
        },
        "id": "usY1Ulc4JuK3",
        "outputId": "b3dda90e-547f-4c54-ed00-56d9fffb230b"
      },
      "outputs": [
        {
          "data": {
            "text/plain": [
              "'Via Trento'"
            ]
          },
          "execution_count": 40,
          "metadata": {},
          "output_type": "execute_result"
        }
      ],
      "source": [
        "max(roads_lenght, key=roads_lenght.get)"
      ]
    },
    {
      "cell_type": "code",
      "execution_count": 41,
      "metadata": {
        "id": "yAcqdWniOT1s"
      },
      "outputs": [],
      "source": [
        "longest_road = max(roads_lenght, key=roads_lenght.get)"
      ]
    },
    {
      "cell_type": "code",
      "execution_count": 42,
      "metadata": {},
      "outputs": [
        {
          "data": {
            "text/plain": [
              "1479.2922178941103"
            ]
          },
          "execution_count": 42,
          "metadata": {},
          "output_type": "execute_result"
        }
      ],
      "source": [
        "roads_lenght[longest_road]"
      ]
    },
    {
      "cell_type": "code",
      "execution_count": 43,
      "metadata": {
        "colab": {
          "base_uri": "https://localhost:8080/",
          "height": 34
        },
        "id": "3_YyicLhOdnq",
        "outputId": "1c587fab-c115-4680-91a1-20fde0d2aaef"
      },
      "outputs": [
        {
          "name": "stdout",
          "output_type": "stream",
          "text": [
            "the longest road (unclassified + residential) in Mezzolombardo is Via Trento and is long 1.5 km\n"
          ]
        }
      ],
      "source": [
        "print(\"the longest road (unclassified + residential) in Mezzolombardo is %s and is long %.1f km\" % (str(longest_road),roads_lenght[longest_road]/1000))"
      ]
    },
    {
      "cell_type": "markdown",
      "metadata": {
        "id": "JLUgI4NiOp_N"
      },
      "source": [
        "## the case only with unclassified"
      ]
    },
    {
      "cell_type": "code",
      "execution_count": 44,
      "metadata": {
        "id": "D_8HjAY7OSaT"
      },
      "outputs": [],
      "source": [
        "roads_unclassified = roads[(roads.highway=='unclassified')] "
      ]
    },
    {
      "cell_type": "code",
      "execution_count": 45,
      "metadata": {
        "id": "RKQMUOPkPSew"
      },
      "outputs": [],
      "source": [
        "names = roads_unclassified.name.unique()"
      ]
    },
    {
      "cell_type": "code",
      "execution_count": 46,
      "metadata": {
        "id": "bIszU8_uPW0g"
      },
      "outputs": [],
      "source": [
        "roads_lenght = {}\n",
        "rodas_in_meters = roads_unclassified.to_crs(epsg=32632)\n",
        "for name in names:\n",
        "  road = rodas_in_meters[rodas_in_meters.name==name]\n",
        "  road_lenght = road.length.sum()\n",
        "  roads_lenght[name] = road_lenght"
      ]
    },
    {
      "cell_type": "code",
      "execution_count": 47,
      "metadata": {
        "id": "45ynpAdZPaRY"
      },
      "outputs": [],
      "source": [
        "longest_road = max(roads_lenght, key=roads_lenght.get)"
      ]
    },
    {
      "cell_type": "code",
      "execution_count": 48,
      "metadata": {
        "colab": {
          "base_uri": "https://localhost:8080/",
          "height": 34
        },
        "id": "8SEdx7UdPgz4",
        "outputId": "df96916d-d98d-4d06-d36e-e90c827b97e8"
      },
      "outputs": [
        {
          "name": "stdout",
          "output_type": "stream",
          "text": [
            "the longest road (unclassified) is Via Trento and is long 1.5 km\n"
          ]
        }
      ],
      "source": [
        "print(\"the longest road (unclassified) is %s and is long %.1f km\" % (str(longest_road),roads_lenght[longest_road]/1000))"
      ]
    },
    {
      "cell_type": "markdown",
      "metadata": {
        "id": "U4TFsy6TPndn"
      },
      "source": [
        "## where is this road?\n",
        "... we can use overpass-turbo.eu with this wizard query\n",
        "\n",
        "```\n",
        "name='Via Rotaliana' in Mezzolombardo\n",
        "```\n",
        "\n",
        "http://overpass-turbo.eu/s/1cuk\n",
        "\n",
        "![](https://github.com/napo/geospatial_course_unitn/raw/master/images/roads_lenght_mezzolombardo.gif)"
      ]
    },
    {
      "cell_type": "markdown",
      "metadata": {
        "id": "kgVac50IVZ_D"
      },
      "source": [
        "# How many drinking water are in this city?"
      ]
    },
    {
      "cell_type": "code",
      "execution_count": 49,
      "metadata": {
        "id": "ODo4kNhBVwiu"
      },
      "outputs": [],
      "source": [
        "custom_filter = {'amenity': ['drinking_water']}"
      ]
    },
    {
      "cell_type": "code",
      "execution_count": 50,
      "metadata": {
        "id": "eAuIHt8IVqUq"
      },
      "outputs": [],
      "source": [
        "drinking_water = osm.get_pois(custom_filter=custom_filter)"
      ]
    },
    {
      "cell_type": "code",
      "execution_count": 51,
      "metadata": {
        "colab": {
          "base_uri": "https://localhost:8080/",
          "height": 34
        },
        "id": "VXYoah7HWF2d",
        "outputId": "5112b5f8-ca09-4a71-f4ef-7297467d8ea1"
      },
      "outputs": [
        {
          "data": {
            "text/plain": [
              "array(['drinking_water'], dtype=object)"
            ]
          },
          "execution_count": 51,
          "metadata": {},
          "output_type": "execute_result"
        }
      ],
      "source": [
        "drinking_water.amenity.unique()"
      ]
    },
    {
      "cell_type": "code",
      "execution_count": 52,
      "metadata": {
        "colab": {
          "base_uri": "https://localhost:8080/",
          "height": 34
        },
        "id": "fJHR4M7kWpKI",
        "outputId": "956eaf87-d8ae-4597-8c49-21350a84342e"
      },
      "outputs": [
        {
          "data": {
            "text/plain": [
              "(17, 10)"
            ]
          },
          "execution_count": 52,
          "metadata": {},
          "output_type": "execute_result"
        }
      ],
      "source": [
        "drinking_water.shape"
      ]
    },
    {
      "cell_type": "code",
      "execution_count": 53,
      "metadata": {
        "colab": {
          "base_uri": "https://localhost:8080/",
          "height": 175
        },
        "id": "Q3nC9mN2koUp",
        "outputId": "ff5fc080-7a76-467f-ad5d-d44e41ccd20f"
      },
      "outputs": [
        {
          "data": {
            "text/html": [
              "<div>\n",
              "<style scoped>\n",
              "    .dataframe tbody tr th:only-of-type {\n",
              "        vertical-align: middle;\n",
              "    }\n",
              "\n",
              "    .dataframe tbody tr th {\n",
              "        vertical-align: top;\n",
              "    }\n",
              "\n",
              "    .dataframe thead th {\n",
              "        text-align: right;\n",
              "    }\n",
              "</style>\n",
              "<table border=\"1\" class=\"dataframe\">\n",
              "  <thead>\n",
              "    <tr style=\"text-align: right;\">\n",
              "      <th></th>\n",
              "      <th>version</th>\n",
              "      <th>timestamp</th>\n",
              "      <th>lon</th>\n",
              "      <th>tags</th>\n",
              "      <th>id</th>\n",
              "      <th>lat</th>\n",
              "      <th>changeset</th>\n",
              "      <th>amenity</th>\n",
              "      <th>geometry</th>\n",
              "      <th>osm_type</th>\n",
              "    </tr>\n",
              "  </thead>\n",
              "  <tbody>\n",
              "    <tr>\n",
              "      <th>0</th>\n",
              "      <td>2</td>\n",
              "      <td>1489783071</td>\n",
              "      <td>11.092862</td>\n",
              "      <td>None</td>\n",
              "      <td>388416004</td>\n",
              "      <td>46.225494</td>\n",
              "      <td>0</td>\n",
              "      <td>drinking_water</td>\n",
              "      <td>POINT (11.09286 46.22549)</td>\n",
              "      <td>node</td>\n",
              "    </tr>\n",
              "    <tr>\n",
              "      <th>1</th>\n",
              "      <td>2</td>\n",
              "      <td>1489783071</td>\n",
              "      <td>11.094058</td>\n",
              "      <td>None</td>\n",
              "      <td>388416008</td>\n",
              "      <td>46.224617</td>\n",
              "      <td>0</td>\n",
              "      <td>drinking_water</td>\n",
              "      <td>POINT (11.09406 46.22462)</td>\n",
              "      <td>node</td>\n",
              "    </tr>\n",
              "    <tr>\n",
              "      <th>2</th>\n",
              "      <td>1</td>\n",
              "      <td>1282084067</td>\n",
              "      <td>11.089766</td>\n",
              "      <td>None</td>\n",
              "      <td>865333800</td>\n",
              "      <td>46.214092</td>\n",
              "      <td>0</td>\n",
              "      <td>drinking_water</td>\n",
              "      <td>POINT (11.08977 46.21409)</td>\n",
              "      <td>node</td>\n",
              "    </tr>\n",
              "    <tr>\n",
              "      <th>3</th>\n",
              "      <td>3</td>\n",
              "      <td>1306775522</td>\n",
              "      <td>11.093194</td>\n",
              "      <td>None</td>\n",
              "      <td>937561830</td>\n",
              "      <td>46.213287</td>\n",
              "      <td>0</td>\n",
              "      <td>drinking_water</td>\n",
              "      <td>POINT (11.09319 46.21329)</td>\n",
              "      <td>node</td>\n",
              "    </tr>\n",
              "  </tbody>\n",
              "</table>\n",
              "</div>"
            ],
            "text/plain": [
              "   version   timestamp        lon  tags         id        lat  changeset  \\\n",
              "0        2  1489783071  11.092862  None  388416004  46.225494          0   \n",
              "1        2  1489783071  11.094058  None  388416008  46.224617          0   \n",
              "2        1  1282084067  11.089766  None  865333800  46.214092          0   \n",
              "3        3  1306775522  11.093194  None  937561830  46.213287          0   \n",
              "\n",
              "          amenity                   geometry osm_type  \n",
              "0  drinking_water  POINT (11.09286 46.22549)     node  \n",
              "1  drinking_water  POINT (11.09406 46.22462)     node  \n",
              "2  drinking_water  POINT (11.08977 46.21409)     node  \n",
              "3  drinking_water  POINT (11.09319 46.21329)     node  "
            ]
          },
          "execution_count": 53,
          "metadata": {},
          "output_type": "execute_result"
        }
      ],
      "source": [
        "drinking_water.head(4)"
      ]
    },
    {
      "cell_type": "code",
      "execution_count": 54,
      "metadata": {
        "colab": {
          "base_uri": "https://localhost:8080/",
          "height": 282
        },
        "id": "Y6VoAsbvWxKl",
        "outputId": "f0138fbd-17dd-4f69-c001-bc05764c111d"
      },
      "outputs": [
        {
          "data": {
            "text/html": [
              "<div style=\"width:100%;\"><div style=\"position:relative;width:100%;height:0;padding-bottom:60%;\"><span style=\"color:#565656\">Make this Notebook Trusted to load map: File -> Trust Notebook</span><iframe src=\"about:blank\" style=\"position:absolute;width:100%;height:100%;left:0;top:0;border:none !important;\" data-html=%3C%21DOCTYPE%20html%3E%0A%3Chead%3E%20%20%20%20%0A%20%20%20%20%3Cmeta%20http-equiv%3D%22content-type%22%20content%3D%22text/html%3B%20charset%3DUTF-8%22%20/%3E%0A%20%20%20%20%0A%20%20%20%20%20%20%20%20%3Cscript%3E%0A%20%20%20%20%20%20%20%20%20%20%20%20L_NO_TOUCH%20%3D%20false%3B%0A%20%20%20%20%20%20%20%20%20%20%20%20L_DISABLE_3D%20%3D%20false%3B%0A%20%20%20%20%20%20%20%20%3C/script%3E%0A%20%20%20%20%0A%20%20%20%20%3Cstyle%3Ehtml%2C%20body%20%7Bwidth%3A%20100%25%3Bheight%3A%20100%25%3Bmargin%3A%200%3Bpadding%3A%200%3B%7D%3C/style%3E%0A%20%20%20%20%3Cstyle%3E%23map%20%7Bposition%3Aabsolute%3Btop%3A0%3Bbottom%3A0%3Bright%3A0%3Bleft%3A0%3B%7D%3C/style%3E%0A%20%20%20%20%3Cscript%20src%3D%22https%3A//cdn.jsdelivr.net/npm/leaflet%401.6.0/dist/leaflet.js%22%3E%3C/script%3E%0A%20%20%20%20%3Cscript%20src%3D%22https%3A//code.jquery.com/jquery-1.12.4.min.js%22%3E%3C/script%3E%0A%20%20%20%20%3Cscript%20src%3D%22https%3A//maxcdn.bootstrapcdn.com/bootstrap/3.2.0/js/bootstrap.min.js%22%3E%3C/script%3E%0A%20%20%20%20%3Cscript%20src%3D%22https%3A//cdnjs.cloudflare.com/ajax/libs/Leaflet.awesome-markers/2.0.2/leaflet.awesome-markers.js%22%3E%3C/script%3E%0A%20%20%20%20%3Clink%20rel%3D%22stylesheet%22%20href%3D%22https%3A//cdn.jsdelivr.net/npm/leaflet%401.6.0/dist/leaflet.css%22/%3E%0A%20%20%20%20%3Clink%20rel%3D%22stylesheet%22%20href%3D%22https%3A//maxcdn.bootstrapcdn.com/bootstrap/3.2.0/css/bootstrap.min.css%22/%3E%0A%20%20%20%20%3Clink%20rel%3D%22stylesheet%22%20href%3D%22https%3A//maxcdn.bootstrapcdn.com/bootstrap/3.2.0/css/bootstrap-theme.min.css%22/%3E%0A%20%20%20%20%3Clink%20rel%3D%22stylesheet%22%20href%3D%22https%3A//maxcdn.bootstrapcdn.com/font-awesome/4.6.3/css/font-awesome.min.css%22/%3E%0A%20%20%20%20%3Clink%20rel%3D%22stylesheet%22%20href%3D%22https%3A//cdnjs.cloudflare.com/ajax/libs/Leaflet.awesome-markers/2.0.2/leaflet.awesome-markers.css%22/%3E%0A%20%20%20%20%3Clink%20rel%3D%22stylesheet%22%20href%3D%22https%3A//cdn.jsdelivr.net/gh/python-visualization/folium/folium/templates/leaflet.awesome.rotate.min.css%22/%3E%0A%20%20%20%20%0A%20%20%20%20%20%20%20%20%20%20%20%20%3Cmeta%20name%3D%22viewport%22%20content%3D%22width%3Ddevice-width%2C%0A%20%20%20%20%20%20%20%20%20%20%20%20%20%20%20%20initial-scale%3D1.0%2C%20maximum-scale%3D1.0%2C%20user-scalable%3Dno%22%20/%3E%0A%20%20%20%20%20%20%20%20%20%20%20%20%3Cstyle%3E%0A%20%20%20%20%20%20%20%20%20%20%20%20%20%20%20%20%23map_023f81eef25c4eab851cda85a33b8213%20%7B%0A%20%20%20%20%20%20%20%20%20%20%20%20%20%20%20%20%20%20%20%20position%3A%20relative%3B%0A%20%20%20%20%20%20%20%20%20%20%20%20%20%20%20%20%20%20%20%20width%3A%20100.0%25%3B%0A%20%20%20%20%20%20%20%20%20%20%20%20%20%20%20%20%20%20%20%20height%3A%20100.0%25%3B%0A%20%20%20%20%20%20%20%20%20%20%20%20%20%20%20%20%20%20%20%20left%3A%200.0%25%3B%0A%20%20%20%20%20%20%20%20%20%20%20%20%20%20%20%20%20%20%20%20top%3A%200.0%25%3B%0A%20%20%20%20%20%20%20%20%20%20%20%20%20%20%20%20%7D%0A%20%20%20%20%20%20%20%20%20%20%20%20%3C/style%3E%0A%20%20%20%20%20%20%20%20%0A%20%20%20%20%0A%20%20%20%20%20%20%20%20%20%20%20%20%20%20%20%20%20%20%20%20%3Cstyle%3E%0A%20%20%20%20%20%20%20%20%20%20%20%20%20%20%20%20%20%20%20%20%20%20%20%20.foliumtooltip%20%7B%0A%20%20%20%20%20%20%20%20%20%20%20%20%20%20%20%20%20%20%20%20%20%20%20%20%20%20%20%20%0A%20%20%20%20%20%20%20%20%20%20%20%20%20%20%20%20%20%20%20%20%20%20%20%20%7D%0A%20%20%20%20%20%20%20%20%20%20%20%20%20%20%20%20%20%20%20%20%20%20%20.foliumtooltip%20table%7B%0A%20%20%20%20%20%20%20%20%20%20%20%20%20%20%20%20%20%20%20%20%20%20%20%20%20%20%20%20margin%3A%20auto%3B%0A%20%20%20%20%20%20%20%20%20%20%20%20%20%20%20%20%20%20%20%20%20%20%20%20%7D%0A%20%20%20%20%20%20%20%20%20%20%20%20%20%20%20%20%20%20%20%20%20%20%20%20.foliumtooltip%20tr%7B%0A%20%20%20%20%20%20%20%20%20%20%20%20%20%20%20%20%20%20%20%20%20%20%20%20%20%20%20%20text-align%3A%20left%3B%0A%20%20%20%20%20%20%20%20%20%20%20%20%20%20%20%20%20%20%20%20%20%20%20%20%7D%0A%20%20%20%20%20%20%20%20%20%20%20%20%20%20%20%20%20%20%20%20%20%20%20%20.foliumtooltip%20th%7B%0A%20%20%20%20%20%20%20%20%20%20%20%20%20%20%20%20%20%20%20%20%20%20%20%20%20%20%20%20padding%3A%202px%3B%20padding-right%3A%208px%3B%0A%20%20%20%20%20%20%20%20%20%20%20%20%20%20%20%20%20%20%20%20%20%20%20%20%7D%0A%20%20%20%20%20%20%20%20%20%20%20%20%20%20%20%20%20%20%20%20%3C/style%3E%0A%20%20%20%20%20%20%20%20%20%20%20%20%0A%3C/head%3E%0A%3Cbody%3E%20%20%20%20%0A%20%20%20%20%0A%20%20%20%20%20%20%20%20%20%20%20%20%3Cdiv%20class%3D%22folium-map%22%20id%3D%22map_023f81eef25c4eab851cda85a33b8213%22%20%3E%3C/div%3E%0A%20%20%20%20%20%20%20%20%0A%3C/body%3E%0A%3Cscript%3E%20%20%20%20%0A%20%20%20%20%0A%20%20%20%20%20%20%20%20%20%20%20%20var%20map_023f81eef25c4eab851cda85a33b8213%20%3D%20L.map%28%0A%20%20%20%20%20%20%20%20%20%20%20%20%20%20%20%20%22map_023f81eef25c4eab851cda85a33b8213%22%2C%0A%20%20%20%20%20%20%20%20%20%20%20%20%20%20%20%20%7B%0A%20%20%20%20%20%20%20%20%20%20%20%20%20%20%20%20%20%20%20%20center%3A%20%5B46.21571731567383%2C%2011.087119102478027%5D%2C%0A%20%20%20%20%20%20%20%20%20%20%20%20%20%20%20%20%20%20%20%20crs%3A%20L.CRS.EPSG3857%2C%0A%20%20%20%20%20%20%20%20%20%20%20%20%20%20%20%20%20%20%20%20zoom%3A%2010%2C%0A%20%20%20%20%20%20%20%20%20%20%20%20%20%20%20%20%20%20%20%20zoomControl%3A%20true%2C%0A%20%20%20%20%20%20%20%20%20%20%20%20%20%20%20%20%20%20%20%20preferCanvas%3A%20false%2C%0A%20%20%20%20%20%20%20%20%20%20%20%20%20%20%20%20%7D%0A%20%20%20%20%20%20%20%20%20%20%20%20%29%3B%0A%20%20%20%20%20%20%20%20%20%20%20%20L.control.scale%28%29.addTo%28map_023f81eef25c4eab851cda85a33b8213%29%3B%0A%0A%20%20%20%20%20%20%20%20%20%20%20%20%0A%0A%20%20%20%20%20%20%20%20%0A%20%20%20%20%0A%20%20%20%20%20%20%20%20%20%20%20%20var%20tile_layer_9a6c8e9242ed4097af4c99a8f5c6a391%20%3D%20L.tileLayer%28%0A%20%20%20%20%20%20%20%20%20%20%20%20%20%20%20%20%22https%3A//%7Bs%7D.tile.openstreetmap.org/%7Bz%7D/%7Bx%7D/%7By%7D.png%22%2C%0A%20%20%20%20%20%20%20%20%20%20%20%20%20%20%20%20%7B%22attribution%22%3A%20%22Data%20by%20%5Cu0026copy%3B%20%5Cu003ca%20href%3D%5C%22http%3A//openstreetmap.org%5C%22%5Cu003eOpenStreetMap%5Cu003c/a%5Cu003e%2C%20under%20%5Cu003ca%20href%3D%5C%22http%3A//www.openstreetmap.org/copyright%5C%22%5Cu003eODbL%5Cu003c/a%5Cu003e.%22%2C%20%22detectRetina%22%3A%20false%2C%20%22maxNativeZoom%22%3A%2018%2C%20%22maxZoom%22%3A%2018%2C%20%22minZoom%22%3A%200%2C%20%22noWrap%22%3A%20false%2C%20%22opacity%22%3A%201%2C%20%22subdomains%22%3A%20%22abc%22%2C%20%22tms%22%3A%20false%7D%0A%20%20%20%20%20%20%20%20%20%20%20%20%29.addTo%28map_023f81eef25c4eab851cda85a33b8213%29%3B%0A%20%20%20%20%20%20%20%20%0A%20%20%20%20%0A%20%20%20%20%20%20%20%20%20%20%20%20map_023f81eef25c4eab851cda85a33b8213.fitBounds%28%0A%20%20%20%20%20%20%20%20%20%20%20%20%20%20%20%20%5B%5B46.20384979248047%2C%2011.070927619934082%5D%2C%20%5B46.22758483886719%2C%2011.103310585021973%5D%5D%2C%0A%20%20%20%20%20%20%20%20%20%20%20%20%20%20%20%20%7B%7D%0A%20%20%20%20%20%20%20%20%20%20%20%20%29%3B%0A%20%20%20%20%20%20%20%20%0A%20%20%20%20%0A%20%20%20%20%20%20%20%20function%20geo_json_04446c227a3448468ac193e8b2d31da9_styler%28feature%29%20%7B%0A%20%20%20%20%20%20%20%20%20%20%20%20switch%28feature.id%29%20%7B%0A%20%20%20%20%20%20%20%20%20%20%20%20%20%20%20%20default%3A%0A%20%20%20%20%20%20%20%20%20%20%20%20%20%20%20%20%20%20%20%20return%20%7B%22fillOpacity%22%3A%200.5%2C%20%22weight%22%3A%202%7D%3B%0A%20%20%20%20%20%20%20%20%20%20%20%20%7D%0A%20%20%20%20%20%20%20%20%7D%0A%20%20%20%20%20%20%20%20function%20geo_json_04446c227a3448468ac193e8b2d31da9_highlighter%28feature%29%20%7B%0A%20%20%20%20%20%20%20%20%20%20%20%20switch%28feature.id%29%20%7B%0A%20%20%20%20%20%20%20%20%20%20%20%20%20%20%20%20default%3A%0A%20%20%20%20%20%20%20%20%20%20%20%20%20%20%20%20%20%20%20%20return%20%7B%22fillOpacity%22%3A%200.75%7D%3B%0A%20%20%20%20%20%20%20%20%20%20%20%20%7D%0A%20%20%20%20%20%20%20%20%7D%0A%20%20%20%20%20%20%20%20function%20geo_json_04446c227a3448468ac193e8b2d31da9_pointToLayer%28feature%2C%20latlng%29%20%7B%0A%20%20%20%20%20%20%20%20%20%20%20%20var%20opts%20%3D%20%7B%22bubblingMouseEvents%22%3A%20true%2C%20%22color%22%3A%20%22%233388ff%22%2C%20%22dashArray%22%3A%20null%2C%20%22dashOffset%22%3A%20null%2C%20%22fill%22%3A%20true%2C%20%22fillColor%22%3A%20%22%233388ff%22%2C%20%22fillOpacity%22%3A%200.2%2C%20%22fillRule%22%3A%20%22evenodd%22%2C%20%22lineCap%22%3A%20%22round%22%2C%20%22lineJoin%22%3A%20%22round%22%2C%20%22opacity%22%3A%201.0%2C%20%22radius%22%3A%202%2C%20%22stroke%22%3A%20true%2C%20%22weight%22%3A%203%7D%3B%0A%20%20%20%20%20%20%20%20%20%20%20%20%0A%20%20%20%20%20%20%20%20%20%20%20%20let%20style%20%3D%20geo_json_04446c227a3448468ac193e8b2d31da9_styler%28feature%29%0A%20%20%20%20%20%20%20%20%20%20%20%20Object.assign%28opts%2C%20style%29%0A%20%20%20%20%20%20%20%20%20%20%20%20%0A%20%20%20%20%20%20%20%20%20%20%20%20return%20new%20L.CircleMarker%28latlng%2C%20opts%29%0A%20%20%20%20%20%20%20%20%7D%0A%0A%20%20%20%20%20%20%20%20function%20geo_json_04446c227a3448468ac193e8b2d31da9_onEachFeature%28feature%2C%20layer%29%20%7B%0A%20%20%20%20%20%20%20%20%20%20%20%20layer.on%28%7B%0A%20%20%20%20%20%20%20%20%20%20%20%20%20%20%20%20mouseout%3A%20function%28e%29%20%7B%0A%20%20%20%20%20%20%20%20%20%20%20%20%20%20%20%20%20%20%20%20if%28typeof%20e.target.setStyle%20%3D%3D%3D%20%22function%22%29%7B%0A%20%20%20%20%20%20%20%20%20%20%20%20%20%20%20%20%20%20%20%20%20%20%20%20geo_json_04446c227a3448468ac193e8b2d31da9.resetStyle%28e.target%29%3B%0A%20%20%20%20%20%20%20%20%20%20%20%20%20%20%20%20%20%20%20%20%7D%0A%20%20%20%20%20%20%20%20%20%20%20%20%20%20%20%20%7D%2C%0A%20%20%20%20%20%20%20%20%20%20%20%20%20%20%20%20mouseover%3A%20function%28e%29%20%7B%0A%20%20%20%20%20%20%20%20%20%20%20%20%20%20%20%20%20%20%20%20if%28typeof%20e.target.setStyle%20%3D%3D%3D%20%22function%22%29%7B%0A%20%20%20%20%20%20%20%20%20%20%20%20%20%20%20%20%20%20%20%20%20%20%20%20const%20highlightStyle%20%3D%20geo_json_04446c227a3448468ac193e8b2d31da9_highlighter%28e.target.feature%29%0A%20%20%20%20%20%20%20%20%20%20%20%20%20%20%20%20%20%20%20%20%20%20%20%20e.target.setStyle%28highlightStyle%29%3B%0A%20%20%20%20%20%20%20%20%20%20%20%20%20%20%20%20%20%20%20%20%7D%0A%20%20%20%20%20%20%20%20%20%20%20%20%20%20%20%20%7D%2C%0A%20%20%20%20%20%20%20%20%20%20%20%20%7D%29%3B%0A%20%20%20%20%20%20%20%20%7D%3B%0A%20%20%20%20%20%20%20%20var%20geo_json_04446c227a3448468ac193e8b2d31da9%20%3D%20L.geoJson%28null%2C%20%7B%0A%20%20%20%20%20%20%20%20%20%20%20%20%20%20%20%20onEachFeature%3A%20geo_json_04446c227a3448468ac193e8b2d31da9_onEachFeature%2C%0A%20%20%20%20%20%20%20%20%20%20%20%20%0A%20%20%20%20%20%20%20%20%20%20%20%20%20%20%20%20style%3A%20geo_json_04446c227a3448468ac193e8b2d31da9_styler%2C%0A%20%20%20%20%20%20%20%20%20%20%20%20%20%20%20%20pointToLayer%3A%20geo_json_04446c227a3448468ac193e8b2d31da9_pointToLayer%0A%20%20%20%20%20%20%20%20%7D%29%3B%0A%0A%20%20%20%20%20%20%20%20function%20geo_json_04446c227a3448468ac193e8b2d31da9_add%20%28data%29%20%7B%0A%20%20%20%20%20%20%20%20%20%20%20%20geo_json_04446c227a3448468ac193e8b2d31da9%0A%20%20%20%20%20%20%20%20%20%20%20%20%20%20%20%20.addData%28data%29%0A%20%20%20%20%20%20%20%20%20%20%20%20%20%20%20%20.addTo%28map_023f81eef25c4eab851cda85a33b8213%29%3B%0A%20%20%20%20%20%20%20%20%7D%0A%20%20%20%20%20%20%20%20%20%20%20%20geo_json_04446c227a3448468ac193e8b2d31da9_add%28%7B%22bbox%22%3A%20%5B11.070927619934082%2C%2046.20384979248047%2C%2011.103310585021973%2C%2046.22758483886719%5D%2C%20%22features%22%3A%20%5B%7B%22bbox%22%3A%20%5B11.092862129211426%2C%2046.225494384765625%2C%2011.092862129211426%2C%2046.225494384765625%5D%2C%20%22geometry%22%3A%20%7B%22coordinates%22%3A%20%5B11.092862129211426%2C%2046.225494384765625%5D%2C%20%22type%22%3A%20%22Point%22%7D%2C%20%22id%22%3A%20%220%22%2C%20%22properties%22%3A%20%7B%22amenity%22%3A%20%22drinking_water%22%2C%20%22changeset%22%3A%200%2C%20%22id%22%3A%20388416004%2C%20%22lat%22%3A%2046.225494384765625%2C%20%22lon%22%3A%2011.092862129211426%2C%20%22osm_type%22%3A%20%22node%22%2C%20%22tags%22%3A%20null%2C%20%22timestamp%22%3A%201489783071%2C%20%22version%22%3A%202%7D%2C%20%22type%22%3A%20%22Feature%22%7D%2C%20%7B%22bbox%22%3A%20%5B11.0940580368042%2C%2046.22461700439453%2C%2011.0940580368042%2C%2046.22461700439453%5D%2C%20%22geometry%22%3A%20%7B%22coordinates%22%3A%20%5B11.0940580368042%2C%2046.22461700439453%5D%2C%20%22type%22%3A%20%22Point%22%7D%2C%20%22id%22%3A%20%221%22%2C%20%22properties%22%3A%20%7B%22amenity%22%3A%20%22drinking_water%22%2C%20%22changeset%22%3A%200%2C%20%22id%22%3A%20388416008%2C%20%22lat%22%3A%2046.22461700439453%2C%20%22lon%22%3A%2011.0940580368042%2C%20%22osm_type%22%3A%20%22node%22%2C%20%22tags%22%3A%20null%2C%20%22timestamp%22%3A%201489783071%2C%20%22version%22%3A%202%7D%2C%20%22type%22%3A%20%22Feature%22%7D%2C%20%7B%22bbox%22%3A%20%5B11.089765548706055%2C%2046.21409225463867%2C%2011.089765548706055%2C%2046.21409225463867%5D%2C%20%22geometry%22%3A%20%7B%22coordinates%22%3A%20%5B11.089765548706055%2C%2046.21409225463867%5D%2C%20%22type%22%3A%20%22Point%22%7D%2C%20%22id%22%3A%20%222%22%2C%20%22properties%22%3A%20%7B%22amenity%22%3A%20%22drinking_water%22%2C%20%22changeset%22%3A%200%2C%20%22id%22%3A%20865333800%2C%20%22lat%22%3A%2046.21409225463867%2C%20%22lon%22%3A%2011.089765548706055%2C%20%22osm_type%22%3A%20%22node%22%2C%20%22tags%22%3A%20null%2C%20%22timestamp%22%3A%201282084067%2C%20%22version%22%3A%201%7D%2C%20%22type%22%3A%20%22Feature%22%7D%2C%20%7B%22bbox%22%3A%20%5B11.093194007873535%2C%2046.213287353515625%2C%2011.093194007873535%2C%2046.213287353515625%5D%2C%20%22geometry%22%3A%20%7B%22coordinates%22%3A%20%5B11.093194007873535%2C%2046.213287353515625%5D%2C%20%22type%22%3A%20%22Point%22%7D%2C%20%22id%22%3A%20%223%22%2C%20%22properties%22%3A%20%7B%22amenity%22%3A%20%22drinking_water%22%2C%20%22changeset%22%3A%200%2C%20%22id%22%3A%20937561830%2C%20%22lat%22%3A%2046.213287353515625%2C%20%22lon%22%3A%2011.093194007873535%2C%20%22osm_type%22%3A%20%22node%22%2C%20%22tags%22%3A%20null%2C%20%22timestamp%22%3A%201306775522%2C%20%22version%22%3A%203%7D%2C%20%22type%22%3A%20%22Feature%22%7D%2C%20%7B%22bbox%22%3A%20%5B11.092707633972168%2C%2046.21295166015625%2C%2011.092707633972168%2C%2046.21295166015625%5D%2C%20%22geometry%22%3A%20%7B%22coordinates%22%3A%20%5B11.092707633972168%2C%2046.21295166015625%5D%2C%20%22type%22%3A%20%22Point%22%7D%2C%20%22id%22%3A%20%224%22%2C%20%22properties%22%3A%20%7B%22amenity%22%3A%20%22drinking_water%22%2C%20%22changeset%22%3A%200%2C%20%22id%22%3A%20937561879%2C%20%22lat%22%3A%2046.21295166015625%2C%20%22lon%22%3A%2011.092707633972168%2C%20%22osm_type%22%3A%20%22node%22%2C%20%22tags%22%3A%20null%2C%20%22timestamp%22%3A%201286186622%2C%20%22version%22%3A%201%7D%2C%20%22type%22%3A%20%22Feature%22%7D%2C%20%7B%22bbox%22%3A%20%5B11.09286117553711%2C%2046.21254348754883%2C%2011.09286117553711%2C%2046.21254348754883%5D%2C%20%22geometry%22%3A%20%7B%22coordinates%22%3A%20%5B11.09286117553711%2C%2046.21254348754883%5D%2C%20%22type%22%3A%20%22Point%22%7D%2C%20%22id%22%3A%20%225%22%2C%20%22properties%22%3A%20%7B%22amenity%22%3A%20%22drinking_water%22%2C%20%22changeset%22%3A%200%2C%20%22id%22%3A%201147996707%2C%20%22lat%22%3A%2046.21254348754883%2C%20%22lon%22%3A%2011.09286117553711%2C%20%22osm_type%22%3A%20%22node%22%2C%20%22tags%22%3A%20null%2C%20%22timestamp%22%3A%201297459506%2C%20%22version%22%3A%201%7D%2C%20%22type%22%3A%20%22Feature%22%7D%2C%20%7B%22bbox%22%3A%20%5B11.089774131774902%2C%2046.212059020996094%2C%2011.089774131774902%2C%2046.212059020996094%5D%2C%20%22geometry%22%3A%20%7B%22coordinates%22%3A%20%5B11.089774131774902%2C%2046.212059020996094%5D%2C%20%22type%22%3A%20%22Point%22%7D%2C%20%22id%22%3A%20%226%22%2C%20%22properties%22%3A%20%7B%22amenity%22%3A%20%22drinking_water%22%2C%20%22changeset%22%3A%200%2C%20%22id%22%3A%201297031951%2C%20%22lat%22%3A%2046.212059020996094%2C%20%22lon%22%3A%2011.089774131774902%2C%20%22osm_type%22%3A%20%22node%22%2C%20%22tags%22%3A%20null%2C%20%22timestamp%22%3A%201306135883%2C%20%22version%22%3A%201%7D%2C%20%22type%22%3A%20%22Feature%22%7D%2C%20%7B%22bbox%22%3A%20%5B11.09454345703125%2C%2046.208744049072266%2C%2011.09454345703125%2C%2046.208744049072266%5D%2C%20%22geometry%22%3A%20%7B%22coordinates%22%3A%20%5B11.09454345703125%2C%2046.208744049072266%5D%2C%20%22type%22%3A%20%22Point%22%7D%2C%20%22id%22%3A%20%227%22%2C%20%22properties%22%3A%20%7B%22amenity%22%3A%20%22drinking_water%22%2C%20%22changeset%22%3A%200%2C%20%22id%22%3A%201633035183%2C%20%22lat%22%3A%2046.208744049072266%2C%20%22lon%22%3A%2011.09454345703125%2C%20%22osm_type%22%3A%20%22node%22%2C%20%22tags%22%3A%20null%2C%20%22timestamp%22%3A%201465422392%2C%20%22version%22%3A%202%7D%2C%20%22type%22%3A%20%22Feature%22%7D%2C%20%7B%22bbox%22%3A%20%5B11.087976455688477%2C%2046.213199615478516%2C%2011.087976455688477%2C%2046.213199615478516%5D%2C%20%22geometry%22%3A%20%7B%22coordinates%22%3A%20%5B11.087976455688477%2C%2046.213199615478516%5D%2C%20%22type%22%3A%20%22Point%22%7D%2C%20%22id%22%3A%20%228%22%2C%20%22properties%22%3A%20%7B%22amenity%22%3A%20%22drinking_water%22%2C%20%22changeset%22%3A%200%2C%20%22id%22%3A%201721725132%2C%20%22lat%22%3A%2046.213199615478516%2C%20%22lon%22%3A%2011.087976455688477%2C%20%22osm_type%22%3A%20%22node%22%2C%20%22tags%22%3A%20%22%7B%5C%22fixme%5C%22%3A%5C%22position%5C%22%7D%22%2C%20%22timestamp%22%3A%201334751180%2C%20%22version%22%3A%201%7D%2C%20%22type%22%3A%20%22Feature%22%7D%2C%20%7B%22bbox%22%3A%20%5B11.09571361541748%2C%2046.20851135253906%2C%2011.09571361541748%2C%2046.20851135253906%5D%2C%20%22geometry%22%3A%20%7B%22coordinates%22%3A%20%5B11.09571361541748%2C%2046.20851135253906%5D%2C%20%22type%22%3A%20%22Point%22%7D%2C%20%22id%22%3A%20%229%22%2C%20%22properties%22%3A%20%7B%22amenity%22%3A%20%22drinking_water%22%2C%20%22changeset%22%3A%200%2C%20%22id%22%3A%202019113888%2C%20%22lat%22%3A%2046.20851135253906%2C%20%22lon%22%3A%2011.09571361541748%2C%20%22osm_type%22%3A%20%22node%22%2C%20%22tags%22%3A%20null%2C%20%22timestamp%22%3A%201353202522%2C%20%22version%22%3A%201%7D%2C%20%22type%22%3A%20%22Feature%22%7D%2C%20%7B%22bbox%22%3A%20%5B11.089981079101562%2C%2046.212032318115234%2C%2011.089981079101562%2C%2046.212032318115234%5D%2C%20%22geometry%22%3A%20%7B%22coordinates%22%3A%20%5B11.089981079101562%2C%2046.212032318115234%5D%2C%20%22type%22%3A%20%22Point%22%7D%2C%20%22id%22%3A%20%2210%22%2C%20%22properties%22%3A%20%7B%22amenity%22%3A%20%22drinking_water%22%2C%20%22changeset%22%3A%200%2C%20%22id%22%3A%202442987448%2C%20%22lat%22%3A%2046.212032318115234%2C%20%22lon%22%3A%2011.089981079101562%2C%20%22osm_type%22%3A%20%22node%22%2C%20%22tags%22%3A%20null%2C%20%22timestamp%22%3A%201378129798%2C%20%22version%22%3A%201%7D%2C%20%22type%22%3A%20%22Feature%22%7D%2C%20%7B%22bbox%22%3A%20%5B11.103310585021973%2C%2046.21703338623047%2C%2011.103310585021973%2C%2046.21703338623047%5D%2C%20%22geometry%22%3A%20%7B%22coordinates%22%3A%20%5B11.103310585021973%2C%2046.21703338623047%5D%2C%20%22type%22%3A%20%22Point%22%7D%2C%20%22id%22%3A%20%2211%22%2C%20%22properties%22%3A%20%7B%22amenity%22%3A%20%22drinking_water%22%2C%20%22changeset%22%3A%200%2C%20%22id%22%3A%202444602971%2C%20%22lat%22%3A%2046.21703338623047%2C%20%22lon%22%3A%2011.103310585021973%2C%20%22osm_type%22%3A%20%22node%22%2C%20%22tags%22%3A%20null%2C%20%22timestamp%22%3A%201378221842%2C%20%22version%22%3A%201%7D%2C%20%22type%22%3A%20%22Feature%22%7D%2C%20%7B%22bbox%22%3A%20%5B11.070927619934082%2C%2046.22758483886719%2C%2011.070927619934082%2C%2046.22758483886719%5D%2C%20%22geometry%22%3A%20%7B%22coordinates%22%3A%20%5B11.070927619934082%2C%2046.22758483886719%5D%2C%20%22type%22%3A%20%22Point%22%7D%2C%20%22id%22%3A%20%2212%22%2C%20%22properties%22%3A%20%7B%22amenity%22%3A%20%22drinking_water%22%2C%20%22changeset%22%3A%200%2C%20%22id%22%3A%202453851300%2C%20%22lat%22%3A%2046.22758483886719%2C%20%22lon%22%3A%2011.070927619934082%2C%20%22osm_type%22%3A%20%22node%22%2C%20%22tags%22%3A%20null%2C%20%22timestamp%22%3A%201378889480%2C%20%22version%22%3A%201%7D%2C%20%22type%22%3A%20%22Feature%22%7D%2C%20%7B%22bbox%22%3A%20%5B11.085515022277832%2C%2046.20384979248047%2C%2011.085515022277832%2C%2046.20384979248047%5D%2C%20%22geometry%22%3A%20%7B%22coordinates%22%3A%20%5B11.085515022277832%2C%2046.20384979248047%5D%2C%20%22type%22%3A%20%22Point%22%7D%2C%20%22id%22%3A%20%2213%22%2C%20%22properties%22%3A%20%7B%22amenity%22%3A%20%22drinking_water%22%2C%20%22changeset%22%3A%200%2C%20%22id%22%3A%204508560141%2C%20%22lat%22%3A%2046.20384979248047%2C%20%22lon%22%3A%2011.085515022277832%2C%20%22osm_type%22%3A%20%22node%22%2C%20%22tags%22%3A%20null%2C%20%22timestamp%22%3A%201479476539%2C%20%22version%22%3A%201%7D%2C%20%22type%22%3A%20%22Feature%22%7D%2C%20%7B%22bbox%22%3A%20%5B11.096351623535156%2C%2046.2227668762207%2C%2011.096351623535156%2C%2046.2227668762207%5D%2C%20%22geometry%22%3A%20%7B%22coordinates%22%3A%20%5B11.096351623535156%2C%2046.2227668762207%5D%2C%20%22type%22%3A%20%22Point%22%7D%2C%20%22id%22%3A%20%2214%22%2C%20%22properties%22%3A%20%7B%22amenity%22%3A%20%22drinking_water%22%2C%20%22changeset%22%3A%200%2C%20%22id%22%3A%204740516453%2C%20%22lat%22%3A%2046.2227668762207%2C%20%22lon%22%3A%2011.096351623535156%2C%20%22osm_type%22%3A%20%22node%22%2C%20%22tags%22%3A%20null%2C%20%22timestamp%22%3A%201489783064%2C%20%22version%22%3A%201%7D%2C%20%22type%22%3A%20%22Feature%22%7D%2C%20%7B%22bbox%22%3A%20%5B11.099811553955078%2C%2046.219905853271484%2C%2011.099811553955078%2C%2046.219905853271484%5D%2C%20%22geometry%22%3A%20%7B%22coordinates%22%3A%20%5B11.099811553955078%2C%2046.219905853271484%5D%2C%20%22type%22%3A%20%22Point%22%7D%2C%20%22id%22%3A%20%2215%22%2C%20%22properties%22%3A%20%7B%22amenity%22%3A%20%22drinking_water%22%2C%20%22changeset%22%3A%200%2C%20%22id%22%3A%204740516460%2C%20%22lat%22%3A%2046.219905853271484%2C%20%22lon%22%3A%2011.099811553955078%2C%20%22osm_type%22%3A%20%22node%22%2C%20%22tags%22%3A%20null%2C%20%22timestamp%22%3A%201489783064%2C%20%22version%22%3A%201%7D%2C%20%22type%22%3A%20%22Feature%22%7D%2C%20%7B%22bbox%22%3A%20%5B11.08773136138916%2C%2046.21592330932617%2C%2011.08773136138916%2C%2046.21592330932617%5D%2C%20%22geometry%22%3A%20%7B%22coordinates%22%3A%20%5B11.08773136138916%2C%2046.21592330932617%5D%2C%20%22type%22%3A%20%22Point%22%7D%2C%20%22id%22%3A%20%2216%22%2C%20%22properties%22%3A%20%7B%22amenity%22%3A%20%22drinking_water%22%2C%20%22changeset%22%3A%200%2C%20%22id%22%3A%205040652012%2C%20%22lat%22%3A%2046.21592330932617%2C%20%22lon%22%3A%2011.08773136138916%2C%20%22osm_type%22%3A%20%22node%22%2C%20%22tags%22%3A%20null%2C%20%22timestamp%22%3A%201502961032%2C%20%22version%22%3A%201%7D%2C%20%22type%22%3A%20%22Feature%22%7D%5D%2C%20%22type%22%3A%20%22FeatureCollection%22%7D%29%3B%0A%0A%20%20%20%20%20%20%20%20%0A%20%20%20%20%0A%20%20%20%20geo_json_04446c227a3448468ac193e8b2d31da9.bindTooltip%28%0A%20%20%20%20function%28layer%29%7B%0A%20%20%20%20let%20div%20%3D%20L.DomUtil.create%28%27div%27%29%3B%0A%20%20%20%20%0A%20%20%20%20let%20handleObject%20%3D%20feature%3D%3Etypeof%28feature%29%3D%3D%27object%27%20%3F%20JSON.stringify%28feature%29%20%3A%20feature%3B%0A%20%20%20%20let%20fields%20%3D%20%5B%22version%22%2C%20%22timestamp%22%2C%20%22lon%22%2C%20%22tags%22%2C%20%22id%22%2C%20%22lat%22%2C%20%22changeset%22%2C%20%22amenity%22%2C%20%22osm_type%22%5D%3B%0A%20%20%20%20let%20aliases%20%3D%20%5B%22version%22%2C%20%22timestamp%22%2C%20%22lon%22%2C%20%22tags%22%2C%20%22id%22%2C%20%22lat%22%2C%20%22changeset%22%2C%20%22amenity%22%2C%20%22osm_type%22%5D%3B%0A%20%20%20%20let%20table%20%3D%20%27%3Ctable%3E%27%20%2B%0A%20%20%20%20%20%20%20%20String%28%0A%20%20%20%20%20%20%20%20fields.map%28%0A%20%20%20%20%20%20%20%20%28v%2Ci%29%3D%3E%0A%20%20%20%20%20%20%20%20%60%3Ctr%3E%0A%20%20%20%20%20%20%20%20%20%20%20%20%3Cth%3E%24%7Baliases%5Bi%5D%7D%3C/th%3E%0A%20%20%20%20%20%20%20%20%20%20%20%20%0A%20%20%20%20%20%20%20%20%20%20%20%20%3Ctd%3E%24%7BhandleObject%28layer.feature.properties%5Bv%5D%29%7D%3C/td%3E%0A%20%20%20%20%20%20%20%20%3C/tr%3E%60%29.join%28%27%27%29%29%0A%20%20%20%20%2B%27%3C/table%3E%27%3B%0A%20%20%20%20div.innerHTML%3Dtable%3B%0A%20%20%20%20%0A%20%20%20%20return%20div%0A%20%20%20%20%7D%0A%20%20%20%20%2C%7B%22className%22%3A%20%22foliumtooltip%22%2C%20%22sticky%22%3A%20true%7D%29%3B%0A%20%20%20%20%20%20%20%20%20%20%20%20%20%20%20%20%20%20%20%20%20%0A%3C/script%3E onload=\"this.contentDocument.open();this.contentDocument.write(    decodeURIComponent(this.getAttribute('data-html')));this.contentDocument.close();\" allowfullscreen webkitallowfullscreen mozallowfullscreen></iframe></div></div>"
            ],
            "text/plain": [
              "<folium.folium.Map at 0x7fefa8d638e0>"
            ]
          },
          "execution_count": 54,
          "metadata": {},
          "output_type": "execute_result"
        }
      ],
      "source": [
        "drinking_water.explore()"
      ]
    },
    {
      "cell_type": "markdown",
      "metadata": {
        "id": "QEw01-fZVdlq"
      },
      "source": [
        "# How many benches in this city have the backrest?"
      ]
    },
    {
      "cell_type": "code",
      "execution_count": 55,
      "metadata": {
        "id": "NROydQTIW3i-"
      },
      "outputs": [],
      "source": [
        "custom_filter = {'amenity': ['bench']}"
      ]
    },
    {
      "cell_type": "code",
      "execution_count": 56,
      "metadata": {
        "id": "a3y_dyV1XEGa"
      },
      "outputs": [],
      "source": [
        "benchs = osm.get_pois(custom_filter=custom_filter)"
      ]
    },
    {
      "cell_type": "code",
      "execution_count": 57,
      "metadata": {
        "colab": {
          "base_uri": "https://localhost:8080/",
          "height": 34
        },
        "id": "b5Ob9_JaXGfy",
        "outputId": "78c12d10-d5bd-4ac7-f4ae-6703fa2abc5e"
      },
      "outputs": [
        {
          "data": {
            "text/plain": [
              "(71, 10)"
            ]
          },
          "execution_count": 57,
          "metadata": {},
          "output_type": "execute_result"
        }
      ],
      "source": [
        "benchs.shape"
      ]
    },
    {
      "cell_type": "code",
      "execution_count": 58,
      "metadata": {
        "colab": {
          "base_uri": "https://localhost:8080/",
          "height": 69
        },
        "id": "ib5BV_tdprBD",
        "outputId": "4b74d2f8-b1b3-461c-e4c3-a501b7879545"
      },
      "outputs": [
        {
          "data": {
            "text/plain": [
              "Index(['version', 'timestamp', 'lon', 'tags', 'id', 'lat', 'changeset',\n",
              "       'amenity', 'geometry', 'osm_type'],\n",
              "      dtype='object')"
            ]
          },
          "execution_count": 58,
          "metadata": {},
          "output_type": "execute_result"
        }
      ],
      "source": [
        "benchs.columns"
      ]
    },
    {
      "cell_type": "code",
      "execution_count": 59,
      "metadata": {
        "colab": {
          "base_uri": "https://localhost:8080/",
          "height": 121
        },
        "id": "1C38JkAwpt2T",
        "outputId": "c0b84623-63da-41eb-9206-77e123d0ef95"
      },
      "outputs": [
        {
          "data": {
            "text/plain": [
              "array(['{\"backrest\":\"yes\"}', '{\"backrest\":\"no\"}',\n",
              "       '{\"seats\":\"5\",\"backrest\":\"yes\"}', '{\"seats\":\"4\",\"backrest\":\"yes\"}',\n",
              "       None], dtype=object)"
            ]
          },
          "execution_count": 59,
          "metadata": {},
          "output_type": "execute_result"
        }
      ],
      "source": [
        "benchs.tags.unique()"
      ]
    },
    {
      "cell_type": "markdown",
      "metadata": {
        "id": "zC0cIohZp7Lb"
      },
      "source": [
        "quick&dirty solution"
      ]
    },
    {
      "cell_type": "code",
      "execution_count": 60,
      "metadata": {
        "id": "WEI6O8AWsad-"
      },
      "outputs": [],
      "source": [
        "benchs_with_backrest = benchs[benchs.tags.str.find('\"backrest\":\"yes\"') > -1]"
      ]
    },
    {
      "cell_type": "code",
      "execution_count": 61,
      "metadata": {
        "colab": {
          "base_uri": "https://localhost:8080/",
          "height": 104
        },
        "id": "W40XmHjUs5N8",
        "outputId": "16f64fca-2daf-446d-8909-f3b31ceddc52"
      },
      "outputs": [
        {
          "data": {
            "text/plain": [
              "array(['{\"backrest\":\"yes\"}', '{\"seats\":\"5\",\"backrest\":\"yes\"}',\n",
              "       '{\"seats\":\"4\",\"backrest\":\"yes\"}'], dtype=object)"
            ]
          },
          "execution_count": 61,
          "metadata": {},
          "output_type": "execute_result"
        }
      ],
      "source": [
        "benchs_with_backrest.tags.unique()"
      ]
    },
    {
      "cell_type": "code",
      "execution_count": 62,
      "metadata": {
        "colab": {
          "base_uri": "https://localhost:8080/",
          "height": 34
        },
        "id": "AS2bSJYKsgUS",
        "outputId": "836eb732-50e0-4e64-bdaa-b062795b632a"
      },
      "outputs": [
        {
          "data": {
            "text/plain": [
              "(62, 10)"
            ]
          },
          "execution_count": 62,
          "metadata": {},
          "output_type": "execute_result"
        }
      ],
      "source": [
        "benchs_with_backrest.shape"
      ]
    },
    {
      "cell_type": "code",
      "execution_count": 63,
      "metadata": {
        "colab": {
          "base_uri": "https://localhost:8080/",
          "height": 34
        },
        "id": "sZCCmQKjta2W",
        "outputId": "d1c5230e-d778-4224-bfdf-ed92357154d1"
      },
      "outputs": [
        {
          "name": "stdout",
          "output_type": "stream",
          "text": [
            "the total of benchs tagged with the presence of a backrest is 62\n"
          ]
        }
      ],
      "source": [
        "print(\"the total of benchs tagged with the presence of a backrest is %s\" % (str(benchs_with_backrest.shape[0])))"
      ]
    }
  ],
  "metadata": {
    "colab": {
      "collapsed_sections": [],
      "name": "04 - solutions - retrieving data from OpenStreetMap.ipynb",
      "provenance": []
    },
    "interpreter": {
      "hash": "31f2aee4e71d21fbe5cf8b01ff0e069b9275f58929596ceb00d14d90e3e16cd6"
    },
    "kernelspec": {
      "display_name": "Python 3.9.7 64-bit",
      "name": "python3"
    },
    "language_info": {
      "codemirror_mode": {
        "name": "ipython",
        "version": 3
      },
      "file_extension": ".py",
      "mimetype": "text/x-python",
      "name": "python",
      "nbconvert_exporter": "python",
      "pygments_lexer": "ipython3",
      "version": "3.9.7"
    }
  },
  "nbformat": 4,
  "nbformat_minor": 0
}
