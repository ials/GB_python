{
  "nbformat": 4,
  "nbformat_minor": 0,
  "metadata": {
    "colab": {
      "name": "02 - solution exercise for spatial relationships.ipynb",
      "provenance": [],
      "collapsed_sections": []
    },
    "kernelspec": {
      "name": "python3",
      "display_name": "Python 3"
    }
  },
  "cells": [
    {
      "cell_type": "markdown",
      "metadata": {
        "id": "3BDVahlmJZdQ"
      },
      "source": [
        "# Setup"
      ]
    },
    {
      "cell_type": "code",
      "metadata": {
        "id": "293tHCyNI9sq",
        "outputId": "8db285a0-7c9f-4b69-b58c-9367080e7c33",
        "colab": {
          "base_uri": "https://localhost:8080/"
        }
      },
      "source": [
        "try:\n",
        "  import rtree\n",
        "except ModuleNotFoundError as e:\n",
        "  !apt-get install libspatialindex-dev\n",
        "  !pip install rtree\n",
        "  import rtree"
      ],
      "execution_count": null,
      "outputs": [
        {
          "output_type": "stream",
          "text": [
            "Reading package lists... Done\n",
            "Building dependency tree       \n",
            "Reading state information... Done\n",
            "The following additional packages will be installed:\n",
            "  libspatialindex-c4v5 libspatialindex4v5\n",
            "The following NEW packages will be installed:\n",
            "  libspatialindex-c4v5 libspatialindex-dev libspatialindex4v5\n",
            "0 upgraded, 3 newly installed, 0 to remove and 6 not upgraded.\n",
            "Need to get 555 kB of archives.\n",
            "After this operation, 3,308 kB of additional disk space will be used.\n",
            "Get:1 http://archive.ubuntu.com/ubuntu bionic/universe amd64 libspatialindex4v5 amd64 1.8.5-5 [219 kB]\n",
            "Get:2 http://archive.ubuntu.com/ubuntu bionic/universe amd64 libspatialindex-c4v5 amd64 1.8.5-5 [51.7 kB]\n",
            "Get:3 http://archive.ubuntu.com/ubuntu bionic/universe amd64 libspatialindex-dev amd64 1.8.5-5 [285 kB]\n",
            "Fetched 555 kB in 1s (724 kB/s)\n",
            "Selecting previously unselected package libspatialindex4v5:amd64.\n",
            "(Reading database ... 144617 files and directories currently installed.)\n",
            "Preparing to unpack .../libspatialindex4v5_1.8.5-5_amd64.deb ...\n",
            "Unpacking libspatialindex4v5:amd64 (1.8.5-5) ...\n",
            "Selecting previously unselected package libspatialindex-c4v5:amd64.\n",
            "Preparing to unpack .../libspatialindex-c4v5_1.8.5-5_amd64.deb ...\n",
            "Unpacking libspatialindex-c4v5:amd64 (1.8.5-5) ...\n",
            "Selecting previously unselected package libspatialindex-dev:amd64.\n",
            "Preparing to unpack .../libspatialindex-dev_1.8.5-5_amd64.deb ...\n",
            "Unpacking libspatialindex-dev:amd64 (1.8.5-5) ...\n",
            "Setting up libspatialindex4v5:amd64 (1.8.5-5) ...\n",
            "Setting up libspatialindex-c4v5:amd64 (1.8.5-5) ...\n",
            "Setting up libspatialindex-dev:amd64 (1.8.5-5) ...\n",
            "Processing triggers for libc-bin (2.27-3ubuntu1.2) ...\n",
            "/sbin/ldconfig.real: /usr/local/lib/python3.6/dist-packages/ideep4py/lib/libmkldnn.so.0 is not a symbolic link\n",
            "\n",
            "Collecting rtree\n",
            "\u001b[?25l  Downloading https://files.pythonhosted.org/packages/56/6f/f1e91001d5ad9fa9bed65875152f5a1c7955c5763168cae309546e6e9fda/Rtree-0.9.4.tar.gz (62kB)\n",
            "\u001b[K     |████████████████████████████████| 71kB 2.0MB/s \n",
            "\u001b[?25hRequirement already satisfied: setuptools in /usr/local/lib/python3.6/dist-packages (from rtree) (50.3.0)\n",
            "Building wheels for collected packages: rtree\n",
            "  Building wheel for rtree (setup.py) ... \u001b[?25l\u001b[?25hdone\n",
            "  Created wheel for rtree: filename=Rtree-0.9.4-cp36-none-any.whl size=21767 sha256=5db4201ae03ae6f239ccd97998cb996c8d0144ce2e7d533121037201a010b086\n",
            "  Stored in directory: /root/.cache/pip/wheels/ff/20/c5/0004ef7acb96745ec99be960053902b0b414a2aa2dcad5834e\n",
            "Successfully built rtree\n",
            "Installing collected packages: rtree\n",
            "Successfully installed rtree-0.9.4\n"
          ],
          "name": "stdout"
        }
      ]
    },
    {
      "cell_type": "code",
      "metadata": {
        "id": "MHwZAnWrJgIq",
        "outputId": "681e1b68-6376-4521-cec1-2b2388ab9877",
        "colab": {
          "base_uri": "https://localhost:8080/"
        }
      },
      "source": [
        "!pip install geopandas"
      ],
      "execution_count": null,
      "outputs": [
        {
          "output_type": "stream",
          "text": [
            "Collecting geopandas\n",
            "\u001b[?25l  Downloading https://files.pythonhosted.org/packages/f7/a4/e66aafbefcbb717813bf3a355c8c4fc3ed04ea1dd7feb2920f2f4f868921/geopandas-0.8.1-py2.py3-none-any.whl (962kB)\n",
            "\u001b[K     |████████████████████████████████| 972kB 2.7MB/s \n",
            "\u001b[?25hCollecting pyproj>=2.2.0\n",
            "\u001b[?25l  Downloading https://files.pythonhosted.org/packages/e5/c3/071e080230ac4b6c64f1a2e2f9161c9737a2bc7b683d2c90b024825000c0/pyproj-2.6.1.post1-cp36-cp36m-manylinux2010_x86_64.whl (10.9MB)\n",
            "\u001b[K     |████████████████████████████████| 10.9MB 15.3MB/s \n",
            "\u001b[?25hRequirement already satisfied: pandas>=0.23.0 in /usr/local/lib/python3.6/dist-packages (from geopandas) (1.1.2)\n",
            "Collecting fiona\n",
            "\u001b[?25l  Downloading https://files.pythonhosted.org/packages/36/8b/e8b2c11bed5373c8e98edb85ce891b09aa1f4210fd451d0fb3696b7695a2/Fiona-1.8.17-cp36-cp36m-manylinux1_x86_64.whl (14.8MB)\n",
            "\u001b[K     |████████████████████████████████| 14.8MB 311kB/s \n",
            "\u001b[?25hRequirement already satisfied: shapely in /usr/local/lib/python3.6/dist-packages (from geopandas) (1.7.1)\n",
            "Requirement already satisfied: python-dateutil>=2.7.3 in /usr/local/lib/python3.6/dist-packages (from pandas>=0.23.0->geopandas) (2.8.1)\n",
            "Requirement already satisfied: pytz>=2017.2 in /usr/local/lib/python3.6/dist-packages (from pandas>=0.23.0->geopandas) (2018.9)\n",
            "Requirement already satisfied: numpy>=1.15.4 in /usr/local/lib/python3.6/dist-packages (from pandas>=0.23.0->geopandas) (1.18.5)\n",
            "Requirement already satisfied: click<8,>=4.0 in /usr/local/lib/python3.6/dist-packages (from fiona->geopandas) (7.1.2)\n",
            "Requirement already satisfied: attrs>=17 in /usr/local/lib/python3.6/dist-packages (from fiona->geopandas) (20.2.0)\n",
            "Collecting munch\n",
            "  Downloading https://files.pythonhosted.org/packages/cc/ab/85d8da5c9a45e072301beb37ad7f833cd344e04c817d97e0cc75681d248f/munch-2.5.0-py2.py3-none-any.whl\n",
            "Collecting click-plugins>=1.0\n",
            "  Downloading https://files.pythonhosted.org/packages/e9/da/824b92d9942f4e472702488857914bdd50f73021efea15b4cad9aca8ecef/click_plugins-1.1.1-py2.py3-none-any.whl\n",
            "Requirement already satisfied: six>=1.7 in /usr/local/lib/python3.6/dist-packages (from fiona->geopandas) (1.15.0)\n",
            "Collecting cligj>=0.5\n",
            "  Downloading https://files.pythonhosted.org/packages/e4/be/30a58b4b0733850280d01f8bd132591b4668ed5c7046761098d665ac2174/cligj-0.5.0-py3-none-any.whl\n",
            "Installing collected packages: pyproj, munch, click-plugins, cligj, fiona, geopandas\n",
            "Successfully installed click-plugins-1.1.1 cligj-0.5.0 fiona-1.8.17 geopandas-0.8.1 munch-2.5.0 pyproj-2.6.1.post1\n"
          ],
          "name": "stdout"
        }
      ]
    },
    {
      "cell_type": "code",
      "metadata": {
        "id": "OjHS9Db7J1jh"
      },
      "source": [
        "import pandas as pd\n",
        "import geopandas as gpd"
      ],
      "execution_count": null,
      "outputs": []
    },
    {
      "cell_type": "markdown",
      "metadata": {
        "id": "FyQj3ueMKHZZ"
      },
      "source": [
        "---\n",
        "# Exercise\n",
        "- create the geodataframe of the [pharmacies of Trentino](http://servizi.apss.tn.it/opendata/FARM001.csv)\n",
        "- count the total of phamarcies for each muncipality of Trentino\n",
        "- list the municipalities bordering with Trento\n",
        "- create the macroarea of all the municipalities bordering with Trento\n",
        "- for each pharmacy contained in the macro-area, calculate how many libraries are within a 500m radius\n",
        "- creates a polygon that contains all the pharmacies within a 2km radius of the Trento public library\n",
        "- save the polygon in geopackage with the attribute \"description\" with value \"area of the pharmacies 2km from the Trento public libray\"\n",
        "---"
      ]
    },
    {
      "cell_type": "markdown",
      "metadata": {
        "id": "ru3BM3pCK30J"
      },
      "source": [
        "## data setup\n",
        "geopackage with the administrative units of italy"
      ]
    },
    {
      "cell_type": "code",
      "metadata": {
        "id": "uvi-ilu0K63O",
        "outputId": "0e93f1a1-65c9-4315-bcb0-fd947cfb71e7",
        "colab": {
          "base_uri": "https://localhost:8080/"
        }
      },
      "source": [
        "!wget https://github.com/napo/geospatial_course_unitn/raw/master/data/administrative_units_italy_2020/istat_administrative_units_2020.gpkg"
      ],
      "execution_count": null,
      "outputs": [
        {
          "output_type": "stream",
          "text": [
            "--2020-10-07 12:22:57--  https://github.com/napo/geospatial_course_unitn/raw/master/data/administrative_units_italy_2020/istat_administrative_units_2020.gpkg\n",
            "Resolving github.com (github.com)... 140.82.112.4\n",
            "Connecting to github.com (github.com)|140.82.112.4|:443... connected.\n",
            "HTTP request sent, awaiting response... 302 Found\n",
            "Location: https://raw.githubusercontent.com/napo/geospatial_course_unitn/master/data/administrative_units_italy_2020/istat_administrative_units_2020.gpkg [following]\n",
            "--2020-10-07 12:22:58--  https://raw.githubusercontent.com/napo/geospatial_course_unitn/master/data/administrative_units_italy_2020/istat_administrative_units_2020.gpkg\n",
            "Resolving raw.githubusercontent.com (raw.githubusercontent.com)... 151.101.0.133, 151.101.64.133, 151.101.128.133, ...\n",
            "Connecting to raw.githubusercontent.com (raw.githubusercontent.com)|151.101.0.133|:443... connected.\n",
            "HTTP request sent, awaiting response... 200 OK\n",
            "Length: 23396352 (22M) [application/octet-stream]\n",
            "Saving to: ‘istat_administrative_units_2020.gpkg’\n",
            "\n",
            "istat_administrativ 100%[===================>]  22.31M  69.2MB/s    in 0.3s    \n",
            "\n",
            "2020-10-07 12:22:58 (69.2 MB/s) - ‘istat_administrative_units_2020.gpkg’ saved [23396352/23396352]\n",
            "\n"
          ],
          "name": "stdout"
        }
      ]
    },
    {
      "cell_type": "code",
      "metadata": {
        "id": "xtkbZ0IXLEaz"
      },
      "source": [
        "municipalities = gpd.read_file(\"istat_administrative_units_2020.gpkg\",layer=\"municipalities\")"
      ],
      "execution_count": null,
      "outputs": []
    },
    {
      "cell_type": "markdown",
      "metadata": {
        "id": "oI-TIAWq9zmd"
      },
      "source": [
        "# create the geodataframe of the pharmacies of Trentino"
      ]
    },
    {
      "cell_type": "code",
      "metadata": {
        "id": "hbws7QXwKQLd"
      },
      "source": [
        "phamarcies = pd.read_csv(\"https://servizi.apss.tn.it/opendata/FARM001.csv\")"
      ],
      "execution_count": null,
      "outputs": []
    },
    {
      "cell_type": "code",
      "metadata": {
        "id": "MsiscBIwMDWJ"
      },
      "source": [
        "geo_phamarcies = gpd.GeoDataFrame(\n",
        "    phamarcies,\n",
        "    crs='EPSG:4326',\n",
        "    geometry=gpd.points_from_xy(phamarcies.LONGITUDINE_P, phamarcies.LATITUDINE_P))"
      ],
      "execution_count": null,
      "outputs": []
    },
    {
      "cell_type": "code",
      "metadata": {
        "id": "XgSskOHOMTP1",
        "outputId": "e692ba6e-8206-4f4c-ed1d-b8070d70e890",
        "colab": {
          "base_uri": "https://localhost:8080/",
          "height": 282
        }
      },
      "source": [
        "geo_phamarcies.plot()"
      ],
      "execution_count": null,
      "outputs": [
        {
          "output_type": "execute_result",
          "data": {
            "text/plain": [
              "<matplotlib.axes._subplots.AxesSubplot at 0x7f9b95befb70>"
            ]
          },
          "metadata": {
            "tags": []
          },
          "execution_count": 8
        },
        {
          "output_type": "display_data",
          "data": {
            "image/png": "[encoded data removed]",
            "text/plain": [
              "<Figure size 432x288 with 1 Axes>"
            ]
          },
          "metadata": {
            "tags": [],
            "needs_background": "light"
          }
        }
      ]
    },
    {
      "cell_type": "markdown",
      "metadata": {
        "id": "z4iUnMjg96bm"
      },
      "source": [
        "# count the total of phamarcies for each muncipality of Trentino"
      ]
    },
    {
      "cell_type": "code",
      "metadata": {
        "id": "EFRacytTQq-N",
        "outputId": "37aab5ce-728d-4c3e-cb89-8fe5548eb489",
        "colab": {
          "base_uri": "https://localhost:8080/",
          "height": 455
        }
      },
      "source": [
        "geo_phamarcies.groupby(geo_phamarcies.COMUNE).size().to_frame(\"size\").sort_values(['size', 'COMUNE'], ascending=[False, True])"
      ],
      "execution_count": null,
      "outputs": [
        {
          "output_type": "execute_result",
          "data": {
            "text/html": [
              "<div>\n",
              "<style scoped>\n",
              "    .dataframe tbody tr th:only-of-type {\n",
              "        vertical-align: middle;\n",
              "    }\n",
              "\n",
              "    .dataframe tbody tr th {\n",
              "        vertical-align: top;\n",
              "    }\n",
              "\n",
              "    .dataframe thead th {\n",
              "        text-align: right;\n",
              "    }\n",
              "</style>\n",
              "<table border=\"1\" class=\"dataframe\">\n",
              "  <thead>\n",
              "    <tr style=\"text-align: right;\">\n",
              "      <th></th>\n",
              "      <th>size</th>\n",
              "    </tr>\n",
              "    <tr>\n",
              "      <th>COMUNE</th>\n",
              "      <th></th>\n",
              "    </tr>\n",
              "  </thead>\n",
              "  <tbody>\n",
              "    <tr>\n",
              "      <th>TRENTO</th>\n",
              "      <td>32</td>\n",
              "    </tr>\n",
              "    <tr>\n",
              "      <th>ROVERETO</th>\n",
              "      <td>12</td>\n",
              "    </tr>\n",
              "    <tr>\n",
              "      <th>PERGINE VALSUGANA</th>\n",
              "      <td>5</td>\n",
              "    </tr>\n",
              "    <tr>\n",
              "      <th>ARCO</th>\n",
              "      <td>4</td>\n",
              "    </tr>\n",
              "    <tr>\n",
              "      <th>RIVA DEL GARDA</th>\n",
              "      <td>4</td>\n",
              "    </tr>\n",
              "    <tr>\n",
              "      <th>...</th>\n",
              "      <td>...</td>\n",
              "    </tr>\n",
              "    <tr>\n",
              "      <th>VIGOLO VATTARO</th>\n",
              "      <td>1</td>\n",
              "    </tr>\n",
              "    <tr>\n",
              "      <th>VILLA LAGARINA</th>\n",
              "      <td>1</td>\n",
              "    </tr>\n",
              "    <tr>\n",
              "      <th>VOLANO</th>\n",
              "      <td>1</td>\n",
              "    </tr>\n",
              "    <tr>\n",
              "      <th>ZAMBANA</th>\n",
              "      <td>1</td>\n",
              "    </tr>\n",
              "    <tr>\n",
              "      <th>ZIANO DI FIEMME</th>\n",
              "      <td>1</td>\n",
              "    </tr>\n",
              "  </tbody>\n",
              "</table>\n",
              "<p>110 rows × 1 columns</p>\n",
              "</div>"
            ],
            "text/plain": [
              "                   size\n",
              "COMUNE                 \n",
              "TRENTO               32\n",
              "ROVERETO             12\n",
              "PERGINE VALSUGANA     5\n",
              "ARCO                  4\n",
              "RIVA DEL GARDA        4\n",
              "...                 ...\n",
              "VIGOLO VATTARO        1\n",
              "VILLA LAGARINA        1\n",
              "VOLANO                1\n",
              "ZAMBANA               1\n",
              "ZIANO DI FIEMME       1\n",
              "\n",
              "[110 rows x 1 columns]"
            ]
          },
          "metadata": {
            "tags": []
          },
          "execution_count": 9
        }
      ]
    },
    {
      "cell_type": "markdown",
      "metadata": {
        "id": "5wgkdmuC-EVJ"
      },
      "source": [
        "# list the municipalities bordering with Trento"
      ]
    },
    {
      "cell_type": "code",
      "metadata": {
        "id": "3Hllvc2lSrJy"
      },
      "source": [
        "municipalities_trentino = municipalities[municipalities.COD_PROV==22].to_crs(epsg=4326)"
      ],
      "execution_count": null,
      "outputs": []
    },
    {
      "cell_type": "markdown",
      "metadata": {
        "id": "peLxWBjZ-IJC"
      },
      "source": [
        "## Method 1 - spatial join"
      ]
    },
    {
      "cell_type": "code",
      "metadata": {
        "id": "TtzVus7sUPFH",
        "outputId": "903da2c6-1c50-48ef-b834-bc27538a88b0",
        "colab": {
          "base_uri": "https://localhost:8080/"
        }
      },
      "source": [
        "%time\n",
        "sjon_trentino_pharmacy = gpd.sjoin(municipalities_trentino,geo_phamarcies, how='inner', op='contains', lsuffix='trentino', rsuffix='pharmacy')"
      ],
      "execution_count": null,
      "outputs": [
        {
          "output_type": "stream",
          "text": [
            "CPU times: user 4 µs, sys: 0 ns, total: 4 µs\n",
            "Wall time: 8.58 µs\n"
          ],
          "name": "stdout"
        }
      ]
    },
    {
      "cell_type": "code",
      "metadata": {
        "id": "FEkWSj0ChXu9",
        "outputId": "d9a7e3ef-be77-4b1c-df8a-e71946e05869",
        "colab": {
          "base_uri": "https://localhost:8080/",
          "height": 455
        }
      },
      "source": [
        "sjon_trentino_pharmacy.groupby('COMUNE_trentino').size().to_frame(\"size\").sort_values(['size', 'COMUNE_trentino'], ascending=[False,True])"
      ],
      "execution_count": null,
      "outputs": [
        {
          "output_type": "execute_result",
          "data": {
            "text/html": [
              "<div>\n",
              "<style scoped>\n",
              "    .dataframe tbody tr th:only-of-type {\n",
              "        vertical-align: middle;\n",
              "    }\n",
              "\n",
              "    .dataframe tbody tr th {\n",
              "        vertical-align: top;\n",
              "    }\n",
              "\n",
              "    .dataframe thead th {\n",
              "        text-align: right;\n",
              "    }\n",
              "</style>\n",
              "<table border=\"1\" class=\"dataframe\">\n",
              "  <thead>\n",
              "    <tr style=\"text-align: right;\">\n",
              "      <th></th>\n",
              "      <th>size</th>\n",
              "    </tr>\n",
              "    <tr>\n",
              "      <th>COMUNE_trentino</th>\n",
              "      <th></th>\n",
              "    </tr>\n",
              "  </thead>\n",
              "  <tbody>\n",
              "    <tr>\n",
              "      <th>Trento</th>\n",
              "      <td>26</td>\n",
              "    </tr>\n",
              "    <tr>\n",
              "      <th>Rovereto</th>\n",
              "      <td>11</td>\n",
              "    </tr>\n",
              "    <tr>\n",
              "      <th>Arco</th>\n",
              "      <td>5</td>\n",
              "    </tr>\n",
              "    <tr>\n",
              "      <th>Pergine Valsugana</th>\n",
              "      <td>5</td>\n",
              "    </tr>\n",
              "    <tr>\n",
              "      <th>Riva del Garda</th>\n",
              "      <td>4</td>\n",
              "    </tr>\n",
              "    <tr>\n",
              "      <th>...</th>\n",
              "      <td>...</td>\n",
              "    </tr>\n",
              "    <tr>\n",
              "      <th>Vallarsa</th>\n",
              "      <td>1</td>\n",
              "    </tr>\n",
              "    <tr>\n",
              "      <th>Vallelaghi</th>\n",
              "      <td>1</td>\n",
              "    </tr>\n",
              "    <tr>\n",
              "      <th>Ville d'Anaunia</th>\n",
              "      <td>1</td>\n",
              "    </tr>\n",
              "    <tr>\n",
              "      <th>Volano</th>\n",
              "      <td>1</td>\n",
              "    </tr>\n",
              "    <tr>\n",
              "      <th>Ziano di Fiemme</th>\n",
              "      <td>1</td>\n",
              "    </tr>\n",
              "  </tbody>\n",
              "</table>\n",
              "<p>101 rows × 1 columns</p>\n",
              "</div>"
            ],
            "text/plain": [
              "                   size\n",
              "COMUNE_trentino        \n",
              "Trento               26\n",
              "Rovereto             11\n",
              "Arco                  5\n",
              "Pergine Valsugana     5\n",
              "Riva del Garda        4\n",
              "...                 ...\n",
              "Vallarsa              1\n",
              "Vallelaghi            1\n",
              "Ville d'Anaunia       1\n",
              "Volano                1\n",
              "Ziano di Fiemme       1\n",
              "\n",
              "[101 rows x 1 columns]"
            ]
          },
          "metadata": {
            "tags": []
          },
          "execution_count": 12
        }
      ]
    },
    {
      "cell_type": "code",
      "metadata": {
        "id": "fEGSeHbml6gd",
        "outputId": "d594c2b8-add4-432c-e088-b5bdb8678793",
        "colab": {
          "base_uri": "https://localhost:8080/",
          "height": 69
        }
      },
      "source": [
        "sjon_trentino_pharmacy[sjon_trentino_pharmacy.COMUNE_trentino == 'Tre Ville']"
      ],
      "execution_count": null,
      "outputs": [
        {
          "output_type": "execute_result",
          "data": {
            "text/html": [
              "<div>\n",
              "<style scoped>\n",
              "    .dataframe tbody tr th:only-of-type {\n",
              "        vertical-align: middle;\n",
              "    }\n",
              "\n",
              "    .dataframe tbody tr th {\n",
              "        vertical-align: top;\n",
              "    }\n",
              "\n",
              "    .dataframe thead th {\n",
              "        text-align: right;\n",
              "    }\n",
              "</style>\n",
              "<table border=\"1\" class=\"dataframe\">\n",
              "  <thead>\n",
              "    <tr style=\"text-align: right;\">\n",
              "      <th></th>\n",
              "      <th>COD_RIP</th>\n",
              "      <th>COD_REG</th>\n",
              "      <th>COD_PROV</th>\n",
              "      <th>COD_CM</th>\n",
              "      <th>COD_UTS</th>\n",
              "      <th>PRO_COM</th>\n",
              "      <th>PRO_COM_T</th>\n",
              "      <th>COMUNE_trentino</th>\n",
              "      <th>COMUNE_A</th>\n",
              "      <th>CC_UTS</th>\n",
              "      <th>geometry</th>\n",
              "      <th>index_pharmacy</th>\n",
              "      <th>COD_FARMACIA_OD</th>\n",
              "      <th>COD_FARMACIA</th>\n",
              "      <th>FARMACIA</th>\n",
              "      <th>IVA</th>\n",
              "      <th>CAP</th>\n",
              "      <th>COD_COMUNE</th>\n",
              "      <th>COMUNE_pharmacy</th>\n",
              "      <th>FRAZIONE</th>\n",
              "      <th>COD_PROVINCIA</th>\n",
              "      <th>PROVINCIA</th>\n",
              "      <th>COD_REGIONE</th>\n",
              "      <th>REGIONE</th>\n",
              "      <th>DATA_INIZIO</th>\n",
              "      <th>INDIRIZZO</th>\n",
              "      <th>TIPOLOGIA</th>\n",
              "      <th>LATITUDINE_P</th>\n",
              "      <th>LONGITUDINE_P</th>\n",
              "      <th>LATITUDINE_V</th>\n",
              "      <th>LONGITUDINE_V</th>\n",
              "    </tr>\n",
              "  </thead>\n",
              "  <tbody>\n",
              "  </tbody>\n",
              "</table>\n",
              "</div>"
            ],
            "text/plain": [
              "Empty GeoDataFrame\n",
              "Columns: [COD_RIP, COD_REG, COD_PROV, COD_CM, COD_UTS, PRO_COM, PRO_COM_T, COMUNE_trentino, COMUNE_A, CC_UTS, geometry, index_pharmacy, COD_FARMACIA_OD, COD_FARMACIA, FARMACIA, IVA, CAP, COD_COMUNE, COMUNE_pharmacy, FRAZIONE, COD_PROVINCIA, PROVINCIA, COD_REGIONE, REGIONE, DATA_INIZIO, INDIRIZZO, TIPOLOGIA, LATITUDINE_P, LONGITUDINE_P, LATITUDINE_V, LONGITUDINE_V]\n",
              "Index: []"
            ]
          },
          "metadata": {
            "tags": []
          },
          "execution_count": 13
        }
      ]
    },
    {
      "cell_type": "markdown",
      "metadata": {
        "id": "EfC9jpSp-Os-"
      },
      "source": [
        "## method 2 - loop between areas and points"
      ]
    },
    {
      "cell_type": "code",
      "metadata": {
        "id": "nb79i0j_TskL",
        "outputId": "2042aca0-abba-463d-fa35-4c4a9adc1aed",
        "colab": {
          "base_uri": "https://localhost:8080/"
        }
      },
      "source": [
        "%time\n",
        "names = []\n",
        "totals = []\n",
        "for idx, municipality in municipalities_trentino.iterrows():\n",
        "  name = municipalities_trentino.COMUNE[idx]\n",
        "  names.append(name)\n",
        "  area = municipalities_trentino.geometry[idx]\n",
        "  tot = 0\n",
        "  for index, row in geo_phamarcies.iterrows():\n",
        "    v = area.contains(geo_phamarcies.geometry[index])\n",
        "    if (v):\n",
        "      tot +=1\n",
        "  totals.append(tot)\n",
        "data = {'municipality':names, 'count_phamarcies':totals}"
      ],
      "execution_count": null,
      "outputs": [
        {
          "output_type": "stream",
          "text": [
            "CPU times: user 3 µs, sys: 0 ns, total: 3 µs\n",
            "Wall time: 7.15 µs\n"
          ],
          "name": "stdout"
        }
      ]
    },
    {
      "cell_type": "code",
      "metadata": {
        "id": "SSChpLjYV0sx",
        "outputId": "60502d9d-57cc-424f-a441-c7155f434496",
        "colab": {
          "base_uri": "https://localhost:8080/",
          "height": 424
        }
      },
      "source": [
        "pd.DataFrame(data).sort_values(['count_phamarcies', 'municipality'], ascending=[False,True])"
      ],
      "execution_count": null,
      "outputs": [
        {
          "output_type": "execute_result",
          "data": {
            "text/html": [
              "<div>\n",
              "<style scoped>\n",
              "    .dataframe tbody tr th:only-of-type {\n",
              "        vertical-align: middle;\n",
              "    }\n",
              "\n",
              "    .dataframe tbody tr th {\n",
              "        vertical-align: top;\n",
              "    }\n",
              "\n",
              "    .dataframe thead th {\n",
              "        text-align: right;\n",
              "    }\n",
              "</style>\n",
              "<table border=\"1\" class=\"dataframe\">\n",
              "  <thead>\n",
              "    <tr style=\"text-align: right;\">\n",
              "      <th></th>\n",
              "      <th>municipality</th>\n",
              "      <th>count_phamarcies</th>\n",
              "    </tr>\n",
              "  </thead>\n",
              "  <tbody>\n",
              "    <tr>\n",
              "      <th>40</th>\n",
              "      <td>Trento</td>\n",
              "      <td>26</td>\n",
              "    </tr>\n",
              "    <tr>\n",
              "      <th>136</th>\n",
              "      <td>Rovereto</td>\n",
              "      <td>11</td>\n",
              "    </tr>\n",
              "    <tr>\n",
              "      <th>46</th>\n",
              "      <td>Arco</td>\n",
              "      <td>5</td>\n",
              "    </tr>\n",
              "    <tr>\n",
              "      <th>124</th>\n",
              "      <td>Pergine Valsugana</td>\n",
              "      <td>5</td>\n",
              "    </tr>\n",
              "    <tr>\n",
              "      <th>130</th>\n",
              "      <td>Riva del Garda</td>\n",
              "      <td>4</td>\n",
              "    </tr>\n",
              "    <tr>\n",
              "      <th>...</th>\n",
              "      <td>...</td>\n",
              "      <td>...</td>\n",
              "    </tr>\n",
              "    <tr>\n",
              "      <th>57</th>\n",
              "      <td>Tre Ville</td>\n",
              "      <td>0</td>\n",
              "    </tr>\n",
              "    <tr>\n",
              "      <th>106</th>\n",
              "      <td>Valdaone</td>\n",
              "      <td>0</td>\n",
              "    </tr>\n",
              "    <tr>\n",
              "      <th>41</th>\n",
              "      <td>Valfloriana</td>\n",
              "      <td>0</td>\n",
              "    </tr>\n",
              "    <tr>\n",
              "      <th>44</th>\n",
              "      <td>Vignola-Falesina</td>\n",
              "      <td>0</td>\n",
              "    </tr>\n",
              "    <tr>\n",
              "      <th>91</th>\n",
              "      <td>Villa Lagarina</td>\n",
              "      <td>0</td>\n",
              "    </tr>\n",
              "  </tbody>\n",
              "</table>\n",
              "<p>166 rows × 2 columns</p>\n",
              "</div>"
            ],
            "text/plain": [
              "          municipality  count_phamarcies\n",
              "40              Trento                26\n",
              "136           Rovereto                11\n",
              "46                Arco                 5\n",
              "124  Pergine Valsugana                 5\n",
              "130     Riva del Garda                 4\n",
              "..                 ...               ...\n",
              "57           Tre Ville                 0\n",
              "106           Valdaone                 0\n",
              "41         Valfloriana                 0\n",
              "44    Vignola-Falesina                 0\n",
              "91      Villa Lagarina                 0\n",
              "\n",
              "[166 rows x 2 columns]"
            ]
          },
          "metadata": {
            "tags": []
          },
          "execution_count": 15
        }
      ]
    },
    {
      "cell_type": "markdown",
      "metadata": {
        "id": "V15dT58Z-XQO"
      },
      "source": [
        "### some considerations ..."
      ]
    },
    {
      "cell_type": "markdown",
      "metadata": {
        "id": "teQQ6-h4twbP"
      },
      "source": [
        "cough cough cough ... there a lot of mistakes with the coordinates in this dataset :/\n"
      ]
    },
    {
      "cell_type": "markdown",
      "metadata": {
        "id": "PAXmdS3AwXls"
      },
      "source": [
        "find duplicate geometry"
      ]
    },
    {
      "cell_type": "code",
      "metadata": {
        "id": "osPfDy7Lt9mT"
      },
      "source": [
        "onlygeometry = geo_phamarcies.geometry"
      ],
      "execution_count": null,
      "outputs": []
    },
    {
      "cell_type": "code",
      "metadata": {
        "id": "kwsKP3Hsv-eZ",
        "outputId": "e1ae8a2f-16b0-47e0-b886-07d6c4f7d30f",
        "colab": {
          "base_uri": "https://localhost:8080/",
          "height": 417
        }
      },
      "source": [
        "geo_phamarcies[onlygeometry.isin(onlygeometry[onlygeometry.duplicated()])].head(5)"
      ],
      "execution_count": null,
      "outputs": [
        {
          "output_type": "execute_result",
          "data": {
            "text/html": [
              "<div>\n",
              "<style scoped>\n",
              "    .dataframe tbody tr th:only-of-type {\n",
              "        vertical-align: middle;\n",
              "    }\n",
              "\n",
              "    .dataframe tbody tr th {\n",
              "        vertical-align: top;\n",
              "    }\n",
              "\n",
              "    .dataframe thead th {\n",
              "        text-align: right;\n",
              "    }\n",
              "</style>\n",
              "<table border=\"1\" class=\"dataframe\">\n",
              "  <thead>\n",
              "    <tr style=\"text-align: right;\">\n",
              "      <th></th>\n",
              "      <th>COD_FARMACIA_OD</th>\n",
              "      <th>COD_FARMACIA</th>\n",
              "      <th>FARMACIA</th>\n",
              "      <th>IVA</th>\n",
              "      <th>CAP</th>\n",
              "      <th>COD_COMUNE</th>\n",
              "      <th>COMUNE</th>\n",
              "      <th>FRAZIONE</th>\n",
              "      <th>COD_PROVINCIA</th>\n",
              "      <th>PROVINCIA</th>\n",
              "      <th>COD_REGIONE</th>\n",
              "      <th>REGIONE</th>\n",
              "      <th>DATA_INIZIO</th>\n",
              "      <th>INDIRIZZO</th>\n",
              "      <th>TIPOLOGIA</th>\n",
              "      <th>LATITUDINE_P</th>\n",
              "      <th>LONGITUDINE_P</th>\n",
              "      <th>LATITUDINE_V</th>\n",
              "      <th>LONGITUDINE_V</th>\n",
              "      <th>geometry</th>\n",
              "    </tr>\n",
              "  </thead>\n",
              "  <tbody>\n",
              "    <tr>\n",
              "      <th>10</th>\n",
              "      <td>FAR042101004171</td>\n",
              "      <td>4171</td>\n",
              "      <td>ROMANI DI ERRIGO A. E C. SNC</td>\n",
              "      <td>02046850224</td>\n",
              "      <td>38015</td>\n",
              "      <td>22103</td>\n",
              "      <td>LAVIS</td>\n",
              "      <td>-</td>\n",
              "      <td>TN</td>\n",
              "      <td>TRENTO</td>\n",
              "      <td>42</td>\n",
              "      <td>PROV. AUTON. TRENTO</td>\n",
              "      <td>2009-09-01</td>\n",
              "      <td>VIA SEGANTINI, 1</td>\n",
              "      <td>ORDINARIA</td>\n",
              "      <td>46.151283</td>\n",
              "      <td>11.104254</td>\n",
              "      <td>46,1512831931641</td>\n",
              "      <td>11,1042541241409</td>\n",
              "      <td>POINT (11.10425 46.15128)</td>\n",
              "    </tr>\n",
              "    <tr>\n",
              "      <th>13</th>\n",
              "      <td>FAR042101004174</td>\n",
              "      <td>4174</td>\n",
              "      <td>CRESCINI - DR.SSA TOGNANA</td>\n",
              "      <td>00051370229</td>\n",
              "      <td>38057</td>\n",
              "      <td>22139</td>\n",
              "      <td>PERGINE VALSUGANA</td>\n",
              "      <td>-</td>\n",
              "      <td>TN</td>\n",
              "      <td>TRENTO</td>\n",
              "      <td>42</td>\n",
              "      <td>PROV. AUTON. TRENTO</td>\n",
              "      <td>2005-01-01</td>\n",
              "      <td>PIAZZA SERRA, 8</td>\n",
              "      <td>ORDINARIA</td>\n",
              "      <td>46.061640</td>\n",
              "      <td>11.239847</td>\n",
              "      <td>46,0616404</td>\n",
              "      <td>11,2398474</td>\n",
              "      <td>POINT (11.23985 46.06164)</td>\n",
              "    </tr>\n",
              "    <tr>\n",
              "      <th>14</th>\n",
              "      <td>FAR042101004175</td>\n",
              "      <td>4175</td>\n",
              "      <td>SCAGLIA S.A.S. DI SCAGLIA ANNA &amp; C.</td>\n",
              "      <td>00983840224</td>\n",
              "      <td>38086</td>\n",
              "      <td>22143</td>\n",
              "      <td>PINZOLO</td>\n",
              "      <td>-</td>\n",
              "      <td>TN</td>\n",
              "      <td>TRENTO</td>\n",
              "      <td>42</td>\n",
              "      <td>PROV. AUTON. TRENTO</td>\n",
              "      <td>2017-07-01</td>\n",
              "      <td>PIAZZA S. GIACOMO, 1</td>\n",
              "      <td>ORDINARIA</td>\n",
              "      <td>46.222037</td>\n",
              "      <td>10.796314</td>\n",
              "      <td>46,2220374200605</td>\n",
              "      <td>10,7963137713744</td>\n",
              "      <td>POINT (10.79631 46.22204)</td>\n",
              "    </tr>\n",
              "    <tr>\n",
              "      <th>19</th>\n",
              "      <td>FAR042101004180</td>\n",
              "      <td>4180</td>\n",
              "      <td>DE BATTTAGLIA SNC</td>\n",
              "      <td>02099830222</td>\n",
              "      <td>38122</td>\n",
              "      <td>22205</td>\n",
              "      <td>TRENTO</td>\n",
              "      <td>-</td>\n",
              "      <td>TN</td>\n",
              "      <td>TRENTO</td>\n",
              "      <td>42</td>\n",
              "      <td>PROV. AUTON. TRENTO</td>\n",
              "      <td>2017-02-01</td>\n",
              "      <td>PIAZZA PASI, 20</td>\n",
              "      <td>ORDINARIA</td>\n",
              "      <td>46.062206</td>\n",
              "      <td>11.111765</td>\n",
              "      <td>46,0622059167663</td>\n",
              "      <td>11,1117645926563</td>\n",
              "      <td>POINT (11.11176 46.06221)</td>\n",
              "    </tr>\n",
              "    <tr>\n",
              "      <th>32</th>\n",
              "      <td>FAR042101004193</td>\n",
              "      <td>4193</td>\n",
              "      <td>PIZZO DR. PAOLO</td>\n",
              "      <td>02030200220</td>\n",
              "      <td>38057</td>\n",
              "      <td>22139</td>\n",
              "      <td>PERGINE VALSUGANA</td>\n",
              "      <td>-</td>\n",
              "      <td>TN</td>\n",
              "      <td>TRENTO</td>\n",
              "      <td>42</td>\n",
              "      <td>PROV. AUTON. TRENTO</td>\n",
              "      <td>2009-06-01</td>\n",
              "      <td>VIA BELLINI, 17</td>\n",
              "      <td>ORDINARIA</td>\n",
              "      <td>46.061640</td>\n",
              "      <td>11.239847</td>\n",
              "      <td>46,0616404</td>\n",
              "      <td>11,2398474</td>\n",
              "      <td>POINT (11.23985 46.06164)</td>\n",
              "    </tr>\n",
              "  </tbody>\n",
              "</table>\n",
              "</div>"
            ],
            "text/plain": [
              "    COD_FARMACIA_OD  COD_FARMACIA  ...     LONGITUDINE_V                   geometry\n",
              "10  FAR042101004171          4171  ...  11,1042541241409  POINT (11.10425 46.15128)\n",
              "13  FAR042101004174          4174  ...        11,2398474  POINT (11.23985 46.06164)\n",
              "14  FAR042101004175          4175  ...  10,7963137713744  POINT (10.79631 46.22204)\n",
              "19  FAR042101004180          4180  ...  11,1117645926563  POINT (11.11176 46.06221)\n",
              "32  FAR042101004193          4193  ...        11,2398474  POINT (11.23985 46.06164)\n",
              "\n",
              "[5 rows x 20 columns]"
            ]
          },
          "metadata": {
            "tags": []
          },
          "execution_count": 17
        }
      ]
    },
    {
      "cell_type": "code",
      "metadata": {
        "id": "_z6gRijH4ckf",
        "outputId": "94e8f2f1-3b21-46ca-e19c-36e827683e09",
        "colab": {
          "base_uri": "https://localhost:8080/"
        }
      },
      "source": [
        "geo_phamarcies[onlygeometry.isin(onlygeometry[onlygeometry.duplicated()])].shape"
      ],
      "execution_count": null,
      "outputs": [
        {
          "output_type": "execute_result",
          "data": {
            "text/plain": [
              "(26, 20)"
            ]
          },
          "metadata": {
            "tags": []
          },
          "execution_count": 18
        }
      ]
    },
    {
      "cell_type": "markdown",
      "metadata": {
        "id": "Kb7JP3cL-h62"
      },
      "source": [
        "# create the macroarea of all the municipalities bordering with Trento"
      ]
    },
    {
      "cell_type": "code",
      "metadata": {
        "id": "TmLIVS3kwk1d"
      },
      "source": [
        "trento_polygon = municipalities_trentino[municipalities_trentino.COMUNE=='Trento'].geometry.values[0]"
      ],
      "execution_count": null,
      "outputs": []
    },
    {
      "cell_type": "code",
      "metadata": {
        "id": "eFwH7Uaew5qA",
        "outputId": "c523fc48-a640-45f7-ffe9-b188ac778e3a",
        "colab": {
          "base_uri": "https://localhost:8080/",
          "height": 121
        }
      },
      "source": [
        "trento_polygon"
      ],
      "execution_count": null,
      "outputs": [
        {
          "output_type": "execute_result",
          "data": {
            "text/plain": [
              "<shapely.geometry.multipolygon.MultiPolygon at 0x7f9b95b3cac8>"
            ],
            "image/svg+xml": "<svg xmlns=\"http://www.w3.org/2000/svg\" xmlns:xlink=\"http://www.w3.org/1999/xlink\" width=\"100.0\" height=\"100.0\" viewBox=\"11.014417548419807 45.96960783670726 0.18640031100845533 0.18952413258801926\" preserveAspectRatio=\"xMinYMin meet\"><g transform=\"matrix(1,0,0,-1,0,92.12873980600254)\"><g><path fill-rule=\"evenodd\" fill=\"#66cc99\" stroke=\"#555555\" stroke-width=\"0.003790482651760385\" opacity=\"0.6\" d=\"M 11.163410289984105,46.1484645421866 L 11.162986524795699,46.14578608692114 L 11.163039430687396,46.145258889939484 L 11.163098133002975,46.14506641019598 L 11.163271815794422,46.14452061422399 L 11.164688200288516,46.14089100302212 L 11.165028369289729,46.13813240072437 L 11.165163200248855,46.136318194515646 L 11.165194855346716,46.13479391629993 L 11.165100212469406,46.13414975529255 L 11.163625936523495,46.12505617760928 L 11.160226377352265,46.12029381312688 L 11.15700057921358,46.11778741804582 L 11.15687396085383,46.11768560806954 L 11.156768167879042,46.11751760201304 L 11.153003926739784,46.10870999209296 L 11.152970300149395,46.108556307406985 L 11.152937122587774,46.10837743559594 L 11.152867176758201,46.107451827284294 L 11.152861125248739,46.10722508951117 L 11.152841302902202,46.104497917951264 L 11.153816519180205,46.09869787286905 L 11.155206480863068,46.09767693981698 L 11.161079055300327,46.094210234627624 L 11.164006983602874,46.09325027981802 L 11.165772685983248,46.092610014475895 L 11.168488587616698,46.09150545252003 L 11.173392495028713,46.087670231616826 L 11.173543945579585,46.087477437445756 L 11.174212258959436,46.086520982061934 L 11.174808216174576,46.085555355954845 L 11.174870794054383,46.08545239755927 L 11.17491360214495,46.08537230129966 L 11.174923541301219,46.08526933148008 L 11.177028445935257,46.079677919247715 L 11.184250803024197,46.07374955214522 L 11.185797063900356,46.07305580749916 L 11.188567813446479,46.07181259115692 L 11.189638726969948,46.07167913301173 L 11.19253923534873,46.06748140695025 L 11.193798447110188,46.06465405824766 L 11.193584431197099,46.05690655965512 L 11.191891628927358,46.049825821477974 L 11.190380732891885,46.048297811876445 L 11.190027923099901,46.048021632501424 L 11.187770010332162,46.04625399201259 L 11.186871209040614,46.042493341364114 L 11.186725858881925,46.04099500167017 L 11.186557740146249,46.03926167356052 L 11.18658845306961,46.03899432491996 L 11.187807574154922,46.0321422481515 L 11.184508193628135,46.02882887875828 L 11.182664017435593,46.02573594772052 L 11.18263020347663,46.025684981135605 L 11.178754887189383,46.02438802599465 L 11.175601655791835,46.02402244992232 L 11.172535756974233,46.02367094077921 L 11.170806900848532,46.02353450005586 L 11.16941305169548,46.023474104044595 L 11.167258082693305,46.02331449592308 L 11.166478973031053,46.023249254806494 L 11.166323472740244,46.02320002041613 L 11.165724245895559,46.02287210529659 L 11.158870706899702,46.01814247892513 L 11.157919437744788,46.01723692507232 L 11.157257849911108,46.016605427443864 L 11.16000405425723,46.01436931967124 L 11.163561664527675,46.012931504123245 L 11.166560129363907,46.00523204441108 L 11.166597907908995,46.00470862249859 L 11.166608713833726,46.00447059588382 L 11.166483147135665,46.0043418455379 L 11.166338316431078,46.00420348595611 L 11.166146251411293,46.00402055015173 L 11.165818462351528,46.00371552422159 L 11.16568872281855,46.003607827901554 L 11.164696458369017,46.003127783690395 L 11.163896284969697,46.0028129193834 L 11.1636360361019,46.00275924890024 L 11.163328553501488,46.00273436414551 L 11.162654872449526,46.00274971840856 L 11.162104305051104,46.00280205665689 L 11.160145428196262,46.00270514524997 L 11.159041591093189,46.00264944253608 L 11.158812913105654,46.00262392024768 L 11.158460541980578,46.00257513264119 L 11.158431799447273,46.00252870901885 L 11.158344556521072,46.00237797258012 L 11.157371550537238,46.00049045172267 L 11.157325466717799,46.00027187759115 L 11.157469894764807,45.99003869161768 L 11.158674380155706,45.98044527558273 L 11.156271010669622,45.98168844710692 L 11.155522648043267,45.98193727906244 L 11.153291096308294,45.979616487116594 L 11.149872248745051,45.97727046291653 L 11.147128705047542,45.976627249025334 L 11.138340281800788,45.97768595901639 L 11.133289233261241,45.979047340373846 L 11.131366982057191,45.981708604955834 L 11.124445658630066,45.9856817663146 L 11.124345160065246,45.98565856506415 L 11.123060394347382,45.98536184391136 L 11.120142038874537,45.9841461931123 L 11.119676675897766,45.983909724539124 L 11.118518040344195,45.982899078558276 L 11.117928065206788,45.98221030095823 L 11.11756462791384,45.98196188752889 L 11.115324970483355,45.981996047433746 L 11.113764055985113,45.982160312096525 L 11.111344073738271,45.98241682508396 L 11.110322843777281,45.98266546469983 L 11.112961355781426,45.98520492783673 L 11.113949092235977,45.98624754837486 L 11.116119882622025,45.98855176104851 L 11.116049711942601,45.988631770836015 L 11.115577106727915,45.9888323001455 L 11.114364259538833,45.98934688062018 L 11.11332539534085,45.989728110287935 L 11.103029098451836,45.990931979213194 L 11.092885195222985,45.993241922395185 L 11.100639378889124,46.004048978720355 L 11.101089051851979,46.00484448011332 L 11.101156384143906,46.00509560699855 L 11.101157065527742,46.00529719578879 L 11.101126176527284,46.00547059230214 L 11.101056143176926,46.00563855057194 L 11.100850046780199,46.00612648441603 L 11.10074405122312,46.00629136138757 L 11.100398726836849,46.00670377126197 L 11.09684522599692,46.01093101140772 L 11.087183182084065,46.019573387175654 L 11.08205427356398,46.02268612545687 L 11.081946836912262,46.022735160607226 L 11.080929679272195,46.02317145685408 L 11.080641895804096,46.02327162866433 L 11.080398304130217,46.02330126353993 L 11.076154649915605,46.02379516319091 L 11.075918150524325,46.023682701752755 L 11.072630424401455,46.02201812560089 L 11.063509607963313,46.02183785890274 L 11.062386898428278,46.0219822591415 L 11.061938681255016,46.02206015588346 L 11.061481102489664,46.02226843016847 L 11.059954745200752,46.02363100163748 L 11.0593322216465,46.024336593214784 L 11.058933664033239,46.02485446013547 L 11.05857295166667,46.025374833464205 L 11.058547769541303,46.02551325776076 L 11.058438924892064,46.026111614889516 L 11.05839246457833,46.0263669736444 L 11.057947838551808,46.02611714457346 L 11.057795745853944,46.02601262249684 L 11.05766320911479,46.02591515900964 L 11.057170514412197,46.025461569789556 L 11.056607161285909,46.02493404220278 L 11.054031715597935,46.02238570629229 L 11.053700956774522,46.022039031617645 L 11.053437725582018,46.02175941650093 L 11.047929260152406,46.01577311128915 L 11.047736179019887,46.015512318044884 L 11.04734414951318,46.013028688444386 L 11.04731379673906,46.012827095111874 L 11.047089480803029,46.01133690496921 L 11.045639107344341,46.00169987310411 L 11.04524585040787,45.999096013242934 L 11.04461243414978,45.99587546157974 L 11.043532385121,45.99493188415823 L 11.040135116938506,45.99183955175891 L 11.039508523259101,45.99125386140931 L 11.03936754027514,45.99103346798336 L 11.039221022022561,45.99079063040845 L 11.038039354367815,45.98816676614354 L 11.037433727340018,45.98663032251579 L 11.03610298248671,45.98245735042922 L 11.035826235982304,45.98148560927029 L 11.035092508538483,45.98200406223353 L 11.034698077208137,45.982377425303824 L 11.032376951869903,45.9850784051503 L 11.03226318142247,45.985235358393275 L 11.031671148805051,45.9862897677642 L 11.031128182700975,45.98898848435606 L 11.031094327907613,45.989254300075615 L 11.031279402080704,45.98974545643891 L 11.031587215407267,45.990371829476025 L 11.031858997623912,45.99074341413924 L 11.032172688202214,45.991287396182194 L 11.0322295615943,45.991658343770325 L 11.03237588790371,45.993220535013265 L 11.03239597664714,45.99345280119423 L 11.032384106716478,45.994523896120036 L 11.03209413901421,45.99714471234376 L 11.030977629459237,45.99966991967014 L 11.029567024706434,46.00183562685714 L 11.02929456101303,46.002137238822066 L 11.029078045267518,46.00243027708225 L 11.028941786817304,46.00265774729136 L 11.027589344743658,46.005802492948625 L 11.026981501152434,46.009863603944396 L 11.027481324006338,46.014523416379916 L 11.028536302651801,46.023391147055044 L 11.02808859862979,46.030777410330565 L 11.026421609143936,46.03846558666401 L 11.02638986010273,46.039026840114985 L 11.026116744769398,46.043856997838404 L 11.028475118592535,46.04626677000693 L 11.028602564097156,46.04642968378692 L 11.027904986735807,46.04678184005714 L 11.026413534342689,46.04753322993172 L 11.025235214073469,46.04808642730298 L 11.024734347828208,46.048305549386114 L 11.024144835560437,46.0485214848784 L 11.021928607337678,46.04929072425084 L 11.021436960737882,46.049369648406234 L 11.023672377313027,46.05341291058599 L 11.023182277006937,46.0632636609265 L 11.02284170938675,46.06491941418764 L 11.021616272499609,46.07104620340253 L 11.021577971315624,46.071336845398314 L 11.02154057664639,46.07194801816943 L 11.021618316135589,46.07210857485552 L 11.02424104657472,46.075438389442326 L 11.024754598898665,46.075362489370306 L 11.025790825049068,46.07531372488433 L 11.027302343108907,46.075472827591106 L 11.027565200166269,46.07550585788813 L 11.027850508071273,46.07561225753085 L 11.028037381234029,46.07569080043588 L 11.02818466037224,46.0757875013311 L 11.028259707973934,46.07587022320201 L 11.028111465882159,46.07953982658054 L 11.027866130338417,46.08208489425344 L 11.027771223884036,46.082473757854125 L 11.026945429958877,46.08568291201385 L 11.029155949205295,46.09203093937294 L 11.029422543632288,46.09200904425421 L 11.029699079790452,46.091978030899234 L 11.032421308321327,46.09156324286875 L 11.03369147695827,46.090733574972 L 11.034677955219554,46.08985345309417 L 11.034771326122653,46.08967522382684 L 11.035135407768031,46.08843103862506 L 11.03546562874943,46.08686163660422 L 11.035515419310832,46.0863329282795 L 11.038202337714226,46.08404178328447 L 11.049784712074416,46.08760026919626 L 11.050024152865873,46.087694975150946 L 11.050880188833224,46.08805289394792 L 11.051197902244587,46.088248640558845 L 11.06763660111345,46.10210041163875 L 11.07362493857713,46.10861093153449 L 11.082984466091853,46.1208731969003 L 11.08193614642324,46.12502438488331 L 11.083912825169715,46.12549014281491 L 11.084201988104418,46.12562014416614 L 11.08845305140973,46.12861225295276 L 11.092762977965416,46.13176431844657 L 11.100620056116403,46.133321467889694 L 11.101162418492299,46.13321789529037 L 11.113118436239889,46.13663232084343 L 11.113177281221285,46.136651758780275 L 11.118398443607903,46.13839223539859 L 11.118758121892695,46.13860826950246 L 11.11880078549411,46.138633910633715 L 11.119066148467441,46.13907107650251 L 11.119061725156275,46.1395230531895 L 11.119061463624195,46.13954943449845 L 11.118811661435588,46.14125029468693 L 11.121621012789308,46.146675092288696 L 11.122635134661477,46.14802780743105 L 11.132466912829369,46.150467657166324 L 11.133381260894328,46.15051145201557 L 11.133871371982067,46.15053254753015 L 11.134651024235584,46.150563494831886 L 11.141473009514598,46.15071394935759 L 11.143285549854783,46.15063415890402 L 11.145934094479344,46.1504118447195 L 11.15788179034315,46.15121331865863 L 11.161991370655576,46.15211255697721 L 11.163410289984105,46.1484645421866 z\" /></g></g></svg>"
          },
          "metadata": {
            "tags": []
          },
          "execution_count": 20
        }
      ]
    },
    {
      "cell_type": "code",
      "metadata": {
        "id": "mFePnfNJw89v"
      },
      "source": [
        "touches_with_trento = municipalities_trentino[municipalities_trentino.geometry.touches(trento_polygon)]"
      ],
      "execution_count": null,
      "outputs": []
    },
    {
      "cell_type": "code",
      "metadata": {
        "id": "xeUjSN5Jxaeq"
      },
      "source": [
        "municipalities_around_trento = touches_with_trento.COMUNE.unique()"
      ],
      "execution_count": null,
      "outputs": []
    },
    {
      "cell_type": "code",
      "metadata": {
        "id": "-ebSOyS44oef",
        "outputId": "6acfc695-4d41-4568-e578-6c3524793fb2",
        "colab": {
          "base_uri": "https://localhost:8080/"
        }
      },
      "source": [
        "list(municipalities_around_trento)"
      ],
      "execution_count": null,
      "outputs": [
        {
          "output_type": "execute_result",
          "data": {
            "text/plain": [
              "['Garniga Terme',\n",
              " 'Giovo',\n",
              " 'Cavedine',\n",
              " 'Cimone',\n",
              " 'Civezzano',\n",
              " 'Albiano',\n",
              " 'Aldeno',\n",
              " 'Besenello',\n",
              " 'Vallelaghi',\n",
              " 'Lavis',\n",
              " 'Villa Lagarina',\n",
              " 'Altopiano della Vigolana',\n",
              " 'Madruzzo',\n",
              " 'Pergine Valsugana']"
            ]
          },
          "metadata": {
            "tags": []
          },
          "execution_count": 23
        }
      ]
    },
    {
      "cell_type": "code",
      "metadata": {
        "id": "OPt-1e0hxg1T",
        "outputId": "e149af9f-4d02-45f1-86d2-0219717ca701",
        "colab": {
          "base_uri": "https://localhost:8080/",
          "height": 121
        }
      },
      "source": [
        "touches_with_trento.geometry.unary_union"
      ],
      "execution_count": null,
      "outputs": [
        {
          "output_type": "execute_result",
          "data": {
            "text/plain": [
              "<shapely.geometry.multipolygon.MultiPolygon at 0x7f9b95b45da0>"
            ],
            "image/svg+xml": "<svg xmlns=\"http://www.w3.org/2000/svg\" xmlns:xlink=\"http://www.w3.org/1999/xlink\" width=\"100.0\" height=\"100.0\" viewBox=\"10.90375786492534 45.89287747001402 0.44728389909663413 0.3551296353918971\" preserveAspectRatio=\"xMinYMin meet\"><g transform=\"matrix(1,0,0,-1,0,92.14088457541993)\"><g><path fill-rule=\"evenodd\" fill=\"#66cc99\" stroke=\"#555555\" stroke-width=\"0.008945677981932682\" opacity=\"0.6\" d=\"M 11.055129051371837,45.960537227830194 L 11.055846397774257,45.95998491188298 L 11.05666166797519,45.95920813925624 L 11.05775236885016,45.958147488146004 L 11.057566972947265,45.95292989209039 L 11.057031185306812,45.95177864332805 L 11.054186988859385,45.94962478432809 L 11.053152350033116,45.94934476726263 L 11.052835835946677,45.949302677716744 L 11.052116653779754,45.94925198778232 L 11.051655343197522,45.949179535809904 L 11.049799795490204,45.948541642630666 L 11.04348873952412,45.94622270585424 L 11.037258870063042,45.940855492218674 L 11.034867616638554,45.927282763766854 L 11.041148369314856,45.91853378213961 L 11.042520467901388,45.91707369634423 L 11.033599748257844,45.909443540350935 L 11.030834262285236,45.91075877247478 L 11.027149851026419,45.91344273009245 L 11.02760501497772,45.91454724313975 L 11.026669159554578,45.91538665191156 L 11.026579168118804,45.91545070133078 L 11.026538958148787,45.915479303218405 L 11.024727733108934,45.91671284284834 L 11.024328149234492,45.91687463424842 L 11.023005602760376,45.917385255744485 L 11.017875633651398,45.91670225852179 L 11.008857316738894,45.916929344077246 L 11.004634606380048,45.918248006043065 L 10.998558870112863,45.92063450507911 L 10.99802475725508,45.920934779752095 L 10.997603079447943,45.92104543596897 L 10.996717273953395,45.92124744941082 L 10.994023083701675,45.92182299043855 L 10.993371844052213,45.92188565480155 L 10.983593474983714,45.92158514553701 L 10.983186735169289,45.92074430098123 L 10.982882761159528,45.920073412239766 L 10.978971825019382,45.920576385545665 L 10.974268796568417,45.92318395674724 L 10.976761720103296,45.926012914241426 L 10.982547619697502,45.93370260085439 L 10.98391165632576,45.93545063715463 L 10.984682512192487,45.93624983433371 L 10.988228902896262,45.94152117881359 L 10.984429230459005,45.947276294436065 L 10.983911276948689,45.948043628159745 L 10.974878828330013,45.95853082359522 L 10.970871356790575,45.96269550676867 L 10.966440275541187,45.96716097747386 L 10.953351951180403,45.97194266262589 L 10.946174345031077,45.97518345914697 L 10.951865440092892,45.97862990626238 L 10.951886629363923,45.97875361681572 L 10.947060308617989,45.98433930971105 L 10.942469997051276,45.991746617050325 L 10.942617467751692,45.99286369168295 L 10.94323180879981,45.994329944122235 L 10.94711706153263,46.000307877596974 L 10.951540819248216,46.00696796716202 L 10.95227080410805,46.007864606227095 L 10.9531377945435,46.00894258255458 L 10.953710188499269,46.009803897090556 L 10.953916338860592,46.010181471916944 L 10.955818891182986,46.01532789964372 L 10.955999111746888,46.01587026072589 L 10.955670750549766,46.01676959998211 L 10.95466363638009,46.0183595305142 L 10.954187658117512,46.01879127678948 L 10.953272706468615,46.019534874985325 L 10.952475754266723,46.0198821880557 L 10.952447583729954,46.019789988708226 L 10.948708072788541,46.02174208095903 L 10.948257740536988,46.02200820849356 L 10.947734718835436,46.02244976532735 L 10.950262715001518,46.02573806429701 L 10.953557629211094,46.026429811926185 L 10.955959420214826,46.03230813404425 L 10.954446548154623,46.0327908623691 L 10.948149191335254,46.0346147905109 L 10.945827656511186,46.035238636997924 L 10.944134613271775,46.03565550875752 L 10.940730873701979,46.03688380600082 L 10.93991003876262,46.03822522297827 L 10.933435974824933,46.0487900303657 L 10.931812369759637,46.049563046020474 L 10.929770165494846,46.050951168682644 L 10.926301259987152,46.05332926966302 L 10.920999554988203,46.06178855160072 L 10.920432934344209,46.062748081792655 L 10.920323935262253,46.062934757358 L 10.9204109203992,46.064169966379716 L 10.920437277446789,46.06423742887262 L 10.920807394018004,46.06433988654762 L 10.92148901182096,46.06447719633232 L 10.92218829449303,46.064423738790346 L 10.928010735929359,46.062275436033424 L 10.928328830423098,46.06215313074941 L 10.928572403295906,46.061937023548026 L 10.930332408131328,46.055570968846965 L 10.932185603585056,46.058275379114804 L 10.931668845304237,46.06161854670262 L 10.9313170185726,46.06417577010344 L 10.93178692641133,46.064508057523 L 10.932540077659969,46.065025502032434 L 10.933347084560893,46.065539485843175 L 10.93471106087863,46.0663075494121 L 10.93889948999116,46.069155445361744 L 10.944229557937957,46.07298346501241 L 10.944608233328232,46.073303979772376 L 10.944858480332405,46.07355635916538 L 10.95298023880995,46.08362618649624 L 10.953086340449529,46.08377286694289 L 10.953197450041255,46.08395330409502 L 10.953298026401159,46.08510038257793 L 10.954243954896093,46.089226916548625 L 10.955544327269722,46.09395480361146 L 10.955634400720216,46.094090180405544 L 10.955756879143479,46.09421821887123 L 10.95584758722393,46.09429736370018 L 10.958746249879342,46.09668056162011 L 10.958927812597437,46.096823878060704 L 10.959051201227531,46.09686948441542 L 10.959212800225615,46.096866584900894 L 10.960716662997372,46.09675452239278 L 10.962112795796624,46.09664187708724 L 10.963131717926952,46.09654599901547 L 10.963951358457935,46.096452818224456 L 10.964347442567258,46.09668344059962 L 10.96481291642454,46.09697434193851 L 10.965331385114347,46.09734421638034 L 10.965801730777361,46.09768385696974 L 10.966211864111768,46.09811311896908 L 10.967851137005422,46.10005286032472 L 10.968227302596489,46.10182704831938 L 10.967510873352415,46.10561695472922 L 10.967549836232998,46.11009478632943 L 10.967594607944887,46.11272678306635 L 10.967702246310791,46.11406392995411 L 10.968790877228633,46.115140129428916 L 10.96938960414149,46.11556242480753 L 10.970597759410776,46.11637327359335 L 10.973186391937313,46.117964770497665 L 10.97484206468766,46.1189659044549 L 10.976217245820058,46.11975775184105 L 10.976603545343357,46.12040520609795 L 10.976855604498661,46.12082767034913 L 10.97847345262774,46.12358101777588 L 10.979382788252385,46.12521586969031 L 10.980337501858768,46.12761069639248 L 10.9811793992979,46.130069329811136 L 10.981819270289812,46.13156975940345 L 10.98464647940543,46.13661246292606 L 10.986280918917576,46.13865564326801 L 10.990545877854027,46.14142556539887 L 10.991201117926206,46.14189120170738 L 10.993074771012061,46.143128187462494 L 10.993936678566167,46.143605464917854 L 10.996513499968291,46.144715194775095 L 10.998973579283847,46.14433746801991 L 10.999264503198383,46.14414904785427 L 10.999508978325876,46.143985881932345 L 10.999835717492303,46.143707196593816 L 11.000141839658118,46.14335727896701 L 11.000637953078439,46.14330424469445 L 11.000869655388414,46.14329447337895 L 11.002672051237242,46.14341808095615 L 11.003322617515778,46.14349703315997 L 11.005786869159255,46.14466235128181 L 11.019095220693012,46.15051239574932 L 11.020913686277419,46.15128969487291 L 11.022024277388942,46.14910470354433 L 11.024874599267488,46.146856628226665 L 11.025124369408513,46.14669344231429 L 11.036919187996922,46.14180170038659 L 11.038015705344606,46.14155684627932 L 11.039780582713329,46.14123048784542 L 11.041070286684766,46.141006063130874 L 11.04633651153409,46.14145644264727 L 11.047109497658562,46.141655640231725 L 11.04719529669195,46.141686083071946 L 11.050555539410139,46.14479011158382 L 11.050691960074959,46.14508662037943 L 11.050615485343606,46.1451760089475 L 11.049497273253984,46.14590684942792 L 11.062032487158906,46.151782716685034 L 11.065405741906403,46.150781401158895 L 11.064634511859472,46.14459840482923 L 11.064479703919066,46.14448522444892 L 11.063771502526583,46.14244866752136 L 11.063712721537415,46.141957985422465 L 11.063854657104622,46.141341191416295 L 11.065355505838273,46.13783129133113 L 11.066278721446121,46.136256990793754 L 11.068413575968698,46.13420299970954 L 11.070553427677064,46.13216771504545 L 11.076379311672685,46.135356064570495 L 11.073226316477127,46.14055674782862 L 11.073170525142054,46.140709920924415 L 11.073072483281157,46.141656684154796 L 11.073036787024911,46.142352939847214 L 11.073283908679812,46.14283747196271 L 11.073842867735372,46.14379944401667 L 11.074502481734598,46.14489681586833 L 11.07477220999379,46.14529911295008 L 11.07510082726271,46.145727969177095 L 11.082966676562242,46.154249274338426 L 11.083120685445868,46.15441130964586 L 11.08324306737578,46.1545244474348 L 11.085240860041793,46.15539142220649 L 11.085956174053726,46.15548603068712 L 11.087607429152659,46.155695403663096 L 11.088097123213068,46.1557398188817 L 11.088878069128373,46.1557637001049 L 11.092261888021167,46.155756018805725 L 11.092830831812096,46.155917001943116 L 11.108419899912994,46.163098740931 L 11.109067750565776,46.16341368756189 L 11.111191496564095,46.166216819449865 L 11.111547765992114,46.17268556058734 L 11.11129910412045,46.174686267251744 L 11.1126294847723,46.17467200055732 L 11.11408462687467,46.17468420036816 L 11.114569145287057,46.17473195145383 L 11.121279741758562,46.176081284452884 L 11.121060421934754,46.17729694342744 L 11.120988343365875,46.177465021097944 L 11.1208901756029,46.177561827091175 L 11.12025152897991,46.17823214357107 L 11.121378348690198,46.18002094931669 L 11.122024410047331,46.18099446519298 L 11.122707772689544,46.182005622969285 L 11.12280373245592,46.182096039428366 L 11.124185453618582,46.18224297353641 L 11.124796096127987,46.182279682811135 L 11.125162647660655,46.18228176930707 L 11.125459614162699,46.18224229313456 L 11.12573023761204,46.18215022155967 L 11.125941775685078,46.182039099658176 L 11.131650210692495,46.17838331496514 L 11.136093621315894,46.18054264831074 L 11.136419299505008,46.182203244785946 L 11.136592371501694,46.18308039984106 L 11.139884265252826,46.18789909443541 L 11.140114577682652,46.18802767957819 L 11.14780117617438,46.18850686084821 L 11.150592913262168,46.18822377992376 L 11.155281291507416,46.1875721094363 L 11.156799534591535,46.18659365393928 L 11.156928732299276,46.18649619630472 L 11.15802041488402,46.18515496904992 L 11.160088082504789,46.184052436548875 L 11.16074507714013,46.18374859733214 L 11.161369868339873,46.18351964662122 L 11.16197864799641,46.18337307376681 L 11.162409744580156,46.183335220696755 L 11.162976052212416,46.183529379938996 L 11.163542450905592,46.18376095254265 L 11.163769128046548,46.18392170624486 L 11.167157491352706,46.18653665479259 L 11.167259530256297,46.186622936008156 L 11.181053612470008,46.20301965511792 L 11.18319842329036,46.20558427200228 L 11.183646269621946,46.20690773532956 L 11.183107626133156,46.20689104184791 L 11.180532341225602,46.20712470602274 L 11.17893773793294,46.20728562525805 L 11.176649902518111,46.20790524236899 L 11.171835730352122,46.211853445277086 L 11.171657332735071,46.212014341503384 L 11.171386714162885,46.21267199237577 L 11.171359127497675,46.21275352624566 L 11.171394160854563,46.212860855724905 L 11.171507789207412,46.212989198643925 L 11.171691952531017,46.21313870614764 L 11.172083315939346,46.213405781415474 L 11.172299699866516,46.2135501600347 L 11.172509429702245,46.21364967058537 L 11.172737898098369,46.21373083561159 L 11.172987257490059,46.21380710367938 L 11.17320474450298,46.213856955839105 L 11.173466895483855,46.213887969222775 L 11.173885940889152,46.213911499010266 L 11.174334140972116,46.2139344716096 L 11.174477730150958,46.21391824699982 L 11.17465448713481,46.21379787436196 L 11.174797229019248,46.213678166829084 L 11.175027083337987,46.21350727343896 L 11.176146723090612,46.21399447033991 L 11.176333446130725,46.21408541713432 L 11.176880201165297,46.21455201529568 L 11.176973890031176,46.214667239407895 L 11.17705187549132,46.214917762207904 L 11.177222649871913,46.21563001755375 L 11.177240823905409,46.216007683571384 L 11.177230235625826,46.21635439663769 L 11.17696140601407,46.22312316240679 L 11.176877257819218,46.22447929024109 L 11.176856257195283,46.224727200129294 L 11.176694048201309,46.22488779458302 L 11.176386894255248,46.225154647930005 L 11.17500935377672,46.22635091004962 L 11.174564267669673,46.22673739148345 L 11.172691176809986,46.22889256114997 L 11.176059599237211,46.231441035069004 L 11.183654656017815,46.22579782323266 L 11.2016509380793,46.2228840439271 L 11.200592939486032,46.22001994959555 L 11.196638290019537,46.20771174546973 L 11.19651964796644,46.20697151140817 L 11.196352100018455,46.205980209084295 L 11.192572081054033,46.199352141260135 L 11.187224252750658,46.19874448514182 L 11.179884112801037,46.193299028041 L 11.179243767090007,46.19266359847279 L 11.176186067511734,46.189101621716986 L 11.175335420549008,46.18794875649169 L 11.175346972819094,46.187870234779844 L 11.177458063172118,46.17649329166965 L 11.18079617800277,46.16458326711459 L 11.180861251178504,46.16343850731946 L 11.180867893285692,46.163311306499025 L 11.17907491337782,46.15780199139141 L 11.178011941566403,46.15692879285245 L 11.174037124788518,46.15646821604073 L 11.172097484717337,46.1560397745021 L 11.171509786955978,46.155576675273835 L 11.171254636274814,46.1547072848246 L 11.171254277997836,46.15420210902239 L 11.1922460786402,46.15390853026118 L 11.192762730501176,46.153933379250304 L 11.19335431846201,46.15400722093538 L 11.194058554144595,46.15412648858654 L 11.194401746943521,46.15427401284059 L 11.194918960855924,46.15480776474713 L 11.19572627950334,46.15541022592557 L 11.196320044324487,46.155820826289855 L 11.196475487825584,46.1558963996184 L 11.197437565844798,46.15608418008565 L 11.204693656946729,46.15749433870509 L 11.205415003723347,46.15751632272266 L 11.205847613049837,46.15732368489504 L 11.206101879843617,46.157197615695324 L 11.206796619573034,46.156717561614855 L 11.207539186042874,46.15620413472891 L 11.209941551485496,46.154538149612705 L 11.208595303596951,46.144434073033196 L 11.205915143471236,46.1422564959749 L 11.205350362750284,46.14177032759844 L 11.204812905758212,46.141269506646154 L 11.204218380368669,46.14067812065143 L 11.203692253829312,46.13993393141692 L 11.203231446082116,46.139164278124575 L 11.203070239321859,46.13870535383552 L 11.202799207803196,46.13766823174593 L 11.202613341328226,46.13711536992231 L 11.201701046429779,46.135197820341055 L 11.201587596552393,46.13499044687584 L 11.200999296962333,46.13414810994987 L 11.19942712251798,46.132338859930826 L 11.195665516983588,46.12951462926941 L 11.19501602406187,46.12919598270369 L 11.194313121034966,46.12885797322817 L 11.189713140457325,46.12682432336364 L 11.189436158961081,46.12615041573849 L 11.189061199281792,46.12569070039166 L 11.188630818908132,46.124990945505694 L 11.188515279814213,46.12447333895426 L 11.187322358904341,46.118608044836755 L 11.188602669286484,46.11061268898049 L 11.188701827850243,46.11047118129759 L 11.199229727847102,46.1065234238911 L 11.208378013646715,46.10808332291747 L 11.217070514613669,46.110319840274805 L 11.221215458091615,46.1086185664546 L 11.221509278167684,46.108306648372384 L 11.221583891490681,46.108201513519866 L 11.221688334806004,46.107770443894445 L 11.221921206649654,46.10507300110946 L 11.222006906688373,46.102859256578114 L 11.221453090820114,46.10007853206364 L 11.221281083561463,46.099397522724914 L 11.220543893982457,46.09735584400829 L 11.21977035354762,46.095457240690955 L 11.219845116614378,46.09534556052115 L 11.223728956224662,46.09066612883753 L 11.225169474333558,46.08979503750371 L 11.22583073892416,46.08978945553259 L 11.226324832414525,46.08986941147002 L 11.227162290011144,46.09006630052428 L 11.236460938036833,46.09594979209879 L 11.237300690018026,46.096707655090334 L 11.241074663386033,46.09865922808677 L 11.246966610500658,46.09935039269687 L 11.252363854119654,46.09995017812466 L 11.259317540463037,46.10096342878347 L 11.266764124012484,46.10449657885179 L 11.266107595753027,46.1030497258134 L 11.268221108013737,46.093151217772785 L 11.268306946161404,46.093005222656785 L 11.26946080695894,46.091256922564426 L 11.269697080223311,46.09100603823737 L 11.27490645518608,46.08961778540806 L 11.280782226192509,46.08812397297911 L 11.28523458292346,46.084662803137114 L 11.282131050013252,46.081013189380634 L 11.283497012150617,46.071895323655404 L 11.278871240003363,46.07431967271318 L 11.27717493900434,46.07561349363867 L 11.27145867808265,46.0746686048669 L 11.270159761102832,46.07426429251393 L 11.269381598793155,46.073999998365 L 11.268561575545318,46.07355218225919 L 11.268004225563747,46.073239881843286 L 11.26466592810618,46.07131360791944 L 11.25633841257531,46.063372349563416 L 11.257891342439196,46.052489427218894 L 11.259924343584329,46.04909701701806 L 11.260230463830409,46.04879837469276 L 11.2610690301935,46.04798687811487 L 11.26336315170406,46.046290317510426 L 11.265278558407783,46.04616744988584 L 11.267905720770136,46.045904376086504 L 11.268267137536197,46.0458249631485 L 11.269662061635737,46.045327308502515 L 11.271933612943757,46.044469943743394 L 11.274067932641367,46.04345801279501 L 11.283433435392734,46.03671067960508 L 11.283386177069417,46.036642942044416 L 11.2824024262139,46.036013836561615 L 11.27462034608388,46.03123962104745 L 11.273087128021936,46.03038521120538 L 11.273864182742683,46.02953819601551 L 11.274416844714398,46.02893638180409 L 11.274974428849681,46.028360803319025 L 11.276217324774752,46.0272817506956 L 11.277039109593193,46.02660399725216 L 11.272017913126673,46.02278829321617 L 11.271211189829128,46.02286643665788 L 11.26958989000968,46.02394570158436 L 11.267870743083252,46.026243518707105 L 11.267246946067182,46.0272919252785 L 11.26683206383163,46.028222335802596 L 11.259603445583954,46.032009260813176 L 11.258478432200063,46.03212297361294 L 11.250661280113984,46.03119385879966 L 11.246002625155722,46.02457297949219 L 11.245950789128372,46.024426700226336 L 11.2459727501241,46.02438942022095 L 11.249192043601328,46.02183985619903 L 11.250946349989214,46.020485536490206 L 11.253595662309289,46.01864878366286 L 11.253774120844003,46.018582977256635 L 11.25392436359459,46.018591792859674 L 11.254203121919426,46.01862417210622 L 11.254332492461169,46.01859911233554 L 11.255587029644152,46.018138534646496 L 11.256031024249396,46.017944053937306 L 11.256183165763092,46.01784809229675 L 11.25634629302686,46.017737240753206 L 11.256444791712491,46.01763706578097 L 11.259522491706083,46.01435935680905 L 11.260684847439641,46.01302327816217 L 11.237072275119276,46.01037746338966 L 11.233744755246693,46.008810557550106 L 11.232498282824245,45.99486351155469 L 11.233626990922078,45.99105806003991 L 11.23404232847121,45.99001326186258 L 11.235936059207896,45.98605317037856 L 11.236035425585017,45.98589675622512 L 11.236340528100577,45.985640978233675 L 11.236862402453387,45.98527092696169 L 11.237186321424558,45.985172547851384 L 11.237853597480933,45.98509197457518 L 11.240739329997238,45.985931969481186 L 11.24514578560043,45.98006071650608 L 11.244922718581112,45.97420372101024 L 11.241616861623106,45.96747144693965 L 11.234649968679292,45.95765374565959 L 11.233522960167056,45.956193061015284 L 11.232143628096246,45.95419235708994 L 11.232038478938462,45.95406418162386 L 11.230148848331536,45.952210198192724 L 11.22205393455716,45.945806820096244 L 11.221749622354096,45.94567023059379 L 11.216678698189954,45.94555050471124 L 11.215392016119141,45.94586492440249 L 11.214094060333629,45.94622043260379 L 11.20240495242859,45.94391874712751 L 11.202207992129663,45.94378650707196 L 11.198907699839806,45.94157598550019 L 11.19517539743125,45.939171755219135 L 11.193279837135291,45.937969421670864 L 11.19274808565981,45.93800361218871 L 11.192414221264398,45.93809144162308 L 11.19172866655766,45.93840551856659 L 11.191063567990337,45.93879835248727 L 11.186556268554964,45.94168009932266 L 11.185873844864386,45.94258580569351 L 11.185802031054571,45.94274638780551 L 11.185583310530426,45.94348644390239 L 11.185519261717731,45.944302361519846 L 11.185521920171249,45.94451582204675 L 11.182236359224616,45.944562860421215 L 11.16564839768801,45.943025737865746 L 11.159542101857385,45.939152056383556 L 11.158930255248361,45.9385130593366 L 11.15798044934535,45.93786144118802 L 11.147487802600793,45.93169649585584 L 11.147188058291757,45.93160911714325 L 11.145255362878043,45.931095606550606 L 11.124213741964281,45.92171619375106 L 11.116495659669182,45.92560256771546 L 11.106645554447402,45.928407960384995 L 11.103837363300919,45.928976085853655 L 11.103749884918694,45.92936462935667 L 11.10188981277523,45.941214460520605 L 11.101733908424663,45.94526137530944 L 11.100057840040472,45.945987611807794 L 11.09940109442222,45.94619430065693 L 11.098522632183192,45.946003069718564 L 11.094844150650308,45.94675749889241 L 11.094187140267993,45.94811741274094 L 11.094042189139087,45.948685875860484 L 11.094173094485587,45.9490926171241 L 11.094326799068778,45.949506038998685 L 11.094426399854695,45.94964930009409 L 11.094568153859617,45.949841648888075 L 11.094711067549555,45.94996654812369 L 11.095024791054744,45.950156610385555 L 11.09539788080737,45.95033216379561 L 11.095520784794463,45.950370682928174 L 11.095703005181557,45.95039845515492 L 11.097351530315287,45.950461064781685 L 11.098946846900743,45.950493217949784 L 11.09988108859309,45.95053479393984 L 11.102092512702752,45.950984366859686 L 11.103965964143185,45.95140482289281 L 11.104627991570196,45.951653972860214 L 11.105144909217529,45.95190566457657 L 11.105920373042148,45.95243311982888 L 11.106596657843046,45.95310591903173 L 11.107445713020097,45.9540462725006 L 11.107844813856376,45.95473035292445 L 11.107536271061544,45.96728908061859 L 11.105398695048168,45.96280354296515 L 11.103480292851525,45.95965785046662 L 11.103374705701974,45.95954827452445 L 11.09752124536977,45.95463039500697 L 11.094842851812134,45.954143085403054 L 11.093055877260047,45.95400056224796 L 11.092963564095866,45.95405600529618 L 11.09111071817107,45.9543026937449 L 11.089649223518148,45.95449528168662 L 11.08735193560736,45.95475807503002 L 11.079997498772702,45.954020414428754 L 11.078907047391818,45.953855694619314 L 11.078487915479878,45.953771045571294 L 11.07848190700102,45.9536774972751 L 11.078662217447345,45.95260269842146 L 11.077437066141972,45.953127086431465 L 11.07097566878584,45.957718752300686 L 11.07009382600463,45.95903167031604 L 11.069251318511366,45.964551367282894 L 11.069273510278343,45.96465608859851 L 11.07072107988427,45.96678468351997 L 11.06965539756302,45.967091460428044 L 11.055129051371837,45.960537227830194 z M 11.021436960737882,46.049369648406234 L 11.021928607337678,46.04929072425084 L 11.024144835560437,46.0485214848784 L 11.024734347828208,46.048305549386114 L 11.025235214073469,46.04808642730298 L 11.026413534342689,46.04753322993172 L 11.027904986735807,46.04678184005714 L 11.028602564097156,46.04642968378692 L 11.028475118592535,46.04626677000693 L 11.026116744769398,46.043856997838404 L 11.02638986010273,46.039026840114985 L 11.026421609143936,46.03846558666401 L 11.02808859862979,46.030777410330565 L 11.028536302651801,46.023391147055044 L 11.027481324006338,46.014523416379916 L 11.026981501152434,46.009863603944396 L 11.027589344743658,46.005802492948625 L 11.028941786817304,46.00265774729136 L 11.029078045267518,46.00243027708225 L 11.02929456101303,46.002137238822066 L 11.029567024706434,46.00183562685714 L 11.030977629459237,45.99966991967014 L 11.03209413901421,45.99714471234376 L 11.032384106716478,45.994523896120036 L 11.03239597664714,45.99345280119423 L 11.03237588790371,45.993220535013265 L 11.0322295615943,45.991658343770325 L 11.032172688202214,45.991287396182194 L 11.031858997623912,45.99074341413924 L 11.031587215407267,45.990371829476025 L 11.031279402080704,45.98974545643891 L 11.031094327907613,45.989254300075615 L 11.031128182700975,45.98898848435606 L 11.031671148805051,45.9862897677642 L 11.03226318142247,45.985235358393275 L 11.032376951869903,45.9850784051503 L 11.034698077208137,45.982377425303824 L 11.035092508538483,45.98200406223353 L 11.035826235982304,45.98148560927029 L 11.03610298248671,45.98245735042922 L 11.037433727340018,45.98663032251579 L 11.038039354367815,45.98816676614354 L 11.039221022022561,45.99079063040845 L 11.03936754027514,45.99103346798336 L 11.039508523259101,45.99125386140931 L 11.040135116938506,45.99183955175891 L 11.043532385121,45.99493188415823 L 11.04461243414978,45.99587546157974 L 11.04524585040787,45.999096013242934 L 11.045639107344341,46.00169987310411 L 11.047089480803029,46.01133690496921 L 11.04731379673906,46.012827095111874 L 11.04734414951318,46.013028688444386 L 11.047736179019887,46.015512318044884 L 11.047929260152406,46.01577311128915 L 11.053437725582018,46.02175941650093 L 11.053700956774522,46.022039031617645 L 11.054031715597935,46.02238570629229 L 11.056607161285909,46.02493404220278 L 11.057170514412197,46.025461569789556 L 11.05766320911479,46.02591515900964 L 11.057795745853944,46.02601262249684 L 11.057947838551808,46.02611714457346 L 11.05839246457833,46.0263669736444 L 11.058438924892064,46.026111614889516 L 11.058547769541303,46.02551325776076 L 11.05857295166667,46.025374833464205 L 11.058933664033239,46.02485446013547 L 11.0593322216465,46.024336593214784 L 11.059954745200752,46.02363100163748 L 11.061481102489664,46.02226843016847 L 11.061938681255016,46.02206015588346 L 11.062386898428278,46.0219822591415 L 11.063509607963313,46.02183785890274 L 11.072630424401455,46.02201812560089 L 11.075918150524325,46.023682701752755 L 11.076154649915605,46.02379516319091 L 11.080398304130217,46.02330126353993 L 11.080641895804096,46.02327162866433 L 11.080929679272195,46.02317145685408 L 11.081946836912262,46.022735160607226 L 11.08205427356398,46.02268612545687 L 11.087183182084065,46.019573387175654 L 11.09684522599692,46.01093101140772 L 11.100398726836849,46.00670377126197 L 11.10074405122312,46.00629136138757 L 11.100850046780199,46.00612648441603 L 11.101056143176926,46.00563855057194 L 11.101126176527284,46.00547059230214 L 11.101157065527742,46.00529719578879 L 11.101156384143906,46.00509560699855 L 11.101089051851979,46.00484448011332 L 11.100639378889124,46.004048978720355 L 11.092885195222985,45.993241922395185 L 11.103029098451836,45.990931979213194 L 11.11332539534085,45.989728110287935 L 11.114364259538833,45.98934688062018 L 11.115577106727915,45.9888323001455 L 11.116049711942601,45.988631770836015 L 11.116119882622025,45.98855176104851 L 11.113949092235977,45.98624754837486 L 11.112961355781426,45.98520492783673 L 11.110322843777281,45.98266546469983 L 11.111344073738271,45.98241682508396 L 11.113764055985113,45.982160312096525 L 11.115324970483355,45.981996047433746 L 11.11756462791384,45.98196188752889 L 11.117928065206788,45.98221030095823 L 11.118518040344195,45.982899078558276 L 11.119676675897766,45.983909724539124 L 11.120142038874537,45.9841461931123 L 11.123060394347382,45.98536184391136 L 11.124345160065246,45.98565856506415 L 11.124445658630066,45.9856817663146 L 11.131366982057191,45.981708604955834 L 11.133289233261241,45.979047340373846 L 11.138340281800788,45.97768595901639 L 11.147128705047542,45.976627249025334 L 11.149872248745051,45.97727046291653 L 11.153291096308294,45.979616487116594 L 11.155522648043267,45.98193727906244 L 11.156271010669622,45.98168844710692 L 11.158674380155706,45.98044527558273 L 11.157469894764807,45.99003869161768 L 11.157325466717799,46.00027187759115 L 11.157371550537238,46.00049045172267 L 11.158344556521072,46.00237797258012 L 11.158431799447273,46.00252870901885 L 11.158460541980578,46.00257513264119 L 11.158812913105654,46.00262392024768 L 11.159041591093189,46.00264944253608 L 11.160145428196262,46.00270514524997 L 11.162104305051104,46.00280205665689 L 11.162654872449526,46.00274971840856 L 11.163328553501488,46.00273436414551 L 11.1636360361019,46.00275924890024 L 11.163896284969697,46.0028129193834 L 11.164696458369017,46.003127783690395 L 11.16568872281855,46.003607827901554 L 11.165818462351528,46.00371552422159 L 11.166146251411293,46.00402055015173 L 11.166338316431078,46.00420348595611 L 11.166483147135665,46.0043418455379 L 11.166608713833726,46.00447059588382 L 11.166597907908995,46.00470862249859 L 11.166560129363907,46.00523204441108 L 11.163561664527675,46.012931504123245 L 11.16000405425723,46.01436931967124 L 11.157257849911108,46.016605427443864 L 11.157919437744788,46.01723692507232 L 11.158870706899702,46.01814247892513 L 11.165724245895559,46.02287210529659 L 11.166323472740244,46.02320002041613 L 11.166478973031053,46.023249254806494 L 11.167258082693305,46.02331449592308 L 11.16941305169548,46.023474104044595 L 11.170806900848532,46.02353450005586 L 11.172535756974233,46.02367094077921 L 11.175601655791835,46.02402244992232 L 11.178754887189383,46.02438802599465 L 11.18263020347663,46.025684981135605 L 11.182664017435593,46.02573594772052 L 11.184508193628135,46.02882887875828 L 11.187807574154922,46.0321422481515 L 11.18658845306961,46.03899432491996 L 11.186557740146249,46.03926167356052 L 11.186725858881925,46.04099500167017 L 11.186871209040614,46.042493341364114 L 11.187770010332162,46.04625399201259 L 11.190027923099901,46.048021632501424 L 11.190380732891885,46.048297811876445 L 11.191891628927358,46.049825821477974 L 11.193584431197099,46.05690655965512 L 11.193798447110188,46.06465405824766 L 11.19253923534873,46.06748140695025 L 11.189638726969948,46.07167913301173 L 11.188567813446479,46.07181259115692 L 11.185797063900356,46.07305580749916 L 11.184250803024197,46.07374955214522 L 11.177028445935257,46.079677919247715 L 11.174923541301219,46.08526933148008 L 11.17491360214495,46.08537230129966 L 11.174870794054383,46.08545239755927 L 11.174808216174576,46.085555355954845 L 11.174212258959436,46.086520982061934 L 11.173543945579585,46.087477437445756 L 11.173392495028713,46.087670231616826 L 11.168488587616698,46.09150545252003 L 11.165772685983248,46.092610014475895 L 11.164006983602874,46.09325027981802 L 11.161079055300327,46.094210234627624 L 11.155206480863068,46.09767693981698 L 11.153816519180205,46.09869787286905 L 11.152841302902202,46.104497917951264 L 11.152861125248739,46.10722508951117 L 11.152867176758201,46.107451827284294 L 11.152937122587774,46.10837743559594 L 11.152970300149395,46.108556307406985 L 11.153003926739784,46.10870999209296 L 11.156768167879042,46.11751760201304 L 11.15687396085383,46.11768560806954 L 11.15700057921358,46.11778741804582 L 11.160226377352265,46.12029381312688 L 11.163625936523495,46.12505617760928 L 11.165100212469406,46.13414975529255 L 11.165194855346716,46.13479391629993 L 11.165163200248855,46.136318194515646 L 11.165028369289729,46.13813240072437 L 11.164688200288516,46.14089100302212 L 11.163271815794422,46.14452061422399 L 11.163098133002975,46.14506641019598 L 11.163039430687396,46.145258889939484 L 11.162986524795699,46.14578608692114 L 11.163410289984105,46.1484645421866 L 11.161991370655576,46.15211255697721 L 11.15788179034315,46.15121331865863 L 11.145934094479344,46.1504118447195 L 11.143285549854783,46.15063415890402 L 11.141473009514598,46.15071394935759 L 11.134651024235584,46.150563494831886 L 11.133871371982067,46.15053254753015 L 11.133381260894328,46.15051145201557 L 11.132466912829369,46.150467657166324 L 11.122635134661477,46.14802780743105 L 11.121621012789308,46.146675092288696 L 11.118811661435588,46.14125029468693 L 11.119061463624195,46.13954943449845 L 11.119061725156275,46.1395230531895 L 11.119066148467441,46.13907107650251 L 11.11880078549411,46.138633910633715 L 11.118758121892695,46.13860826950246 L 11.118398443607903,46.13839223539859 L 11.113177281221285,46.136651758780275 L 11.113118436239889,46.13663232084343 L 11.101162418492299,46.13321789529037 L 11.100620056116403,46.133321467889694 L 11.092762977965416,46.13176431844657 L 11.08845305140973,46.12861225295276 L 11.084201988104418,46.12562014416614 L 11.083912825169715,46.12549014281491 L 11.08193614642324,46.12502438488331 L 11.082984466091853,46.1208731969003 L 11.07362493857713,46.10861093153449 L 11.06763660111345,46.10210041163875 L 11.051197902244587,46.088248640558845 L 11.050880188833224,46.08805289394792 L 11.050024152865873,46.087694975150946 L 11.049784712074416,46.08760026919626 L 11.038202337714226,46.08404178328447 L 11.035515419310832,46.0863329282795 L 11.03546562874943,46.08686163660422 L 11.035135407768031,46.08843103862506 L 11.034771326122653,46.08967522382684 L 11.034677955219554,46.08985345309417 L 11.03369147695827,46.090733574972 L 11.032421308321327,46.09156324286875 L 11.029699079790452,46.091978030899234 L 11.029422543632288,46.09200904425421 L 11.029155949205295,46.09203093937294 L 11.026945429958877,46.08568291201385 L 11.027771223884036,46.082473757854125 L 11.027866130338417,46.08208489425344 L 11.028111465882159,46.07953982658054 L 11.028259707973934,46.07587022320201 L 11.02818466037224,46.0757875013311 L 11.028037381234029,46.07569080043588 L 11.027850508071273,46.07561225753085 L 11.027565200166269,46.07550585788813 L 11.027302343108907,46.075472827591106 L 11.025790825049068,46.07531372488433 L 11.024754598898665,46.075362489370306 L 11.02424104657472,46.075438389442326 L 11.021618316135589,46.07210857485552 L 11.02154057664639,46.07194801816943 L 11.021577971315624,46.071336845398314 L 11.021616272499609,46.07104620340253 L 11.02284170938675,46.06491941418764 L 11.023182277006937,46.0632636609265 L 11.023672377313027,46.05341291058599 L 11.021436960737882,46.049369648406234 z M 11.128557095050871,45.97496095010347 L 11.125576635157726,45.97462970389278 L 11.113342921537418,45.97325367529243 L 11.113078545544733,45.973169350369425 L 11.109785800793844,45.9574625284867 L 11.111863284590079,45.95398413407084 L 11.12614712309325,45.95446601551542 L 11.129636057904134,45.9555090187975 L 11.140271913519447,45.95912673752893 L 11.145681001894811,45.961440162952485 L 11.14455983156396,45.96445169701032 L 11.141067467713606,45.97132624740878 L 11.137492546581107,45.97184217066808 L 11.132699948594304,45.97358370337379 L 11.132817557201783,45.974661447863284 L 11.128557095050871,45.97496095010347 z\" /><path fill-rule=\"evenodd\" fill=\"#66cc99\" stroke=\"#555555\" stroke-width=\"0.008945677981932682\" opacity=\"0.6\" d=\"M 11.32703327779966,46.04909758095824 L 11.316629362375533,46.048916994156095 L 11.307552306611148,46.049206668569 L 11.302014464322347,46.061104926671625 L 11.314492895591824,46.060173791289095 L 11.334475693685063,46.050030378628584 L 11.32703327779966,46.04909758095824 z\" /></g></g></svg>"
          },
          "metadata": {
            "tags": []
          },
          "execution_count": 24
        }
      ]
    },
    {
      "cell_type": "markdown",
      "metadata": {
        "id": "yTIDNIQe-xxf"
      },
      "source": [
        "... we need to add Trento :)"
      ]
    },
    {
      "cell_type": "markdown",
      "metadata": {
        "id": "MeFRUN0N-02P"
      },
      "source": [
        "## method 1 - unary_union"
      ]
    },
    {
      "cell_type": "code",
      "metadata": {
        "id": "M9iqUUYHxpgA",
        "outputId": "a97c8334-ede5-4145-f4bd-34e9a4d0732b",
        "colab": {
          "base_uri": "https://localhost:8080/",
          "height": 156
        }
      },
      "source": [
        "%time\n",
        "touches_with_trento.append(municipalities_trentino[municipalities_trentino.COMUNE=='Trento']).geometry.unary_union"
      ],
      "execution_count": null,
      "outputs": [
        {
          "output_type": "stream",
          "text": [
            "CPU times: user 4 µs, sys: 0 ns, total: 4 µs\n",
            "Wall time: 8.11 µs\n"
          ],
          "name": "stdout"
        },
        {
          "output_type": "execute_result",
          "data": {
            "text/plain": [
              "<shapely.geometry.multipolygon.MultiPolygon at 0x7f9b95b45e80>"
            ],
            "image/svg+xml": "<svg xmlns=\"http://www.w3.org/2000/svg\" xmlns:xlink=\"http://www.w3.org/1999/xlink\" width=\"100.0\" height=\"100.0\" viewBox=\"10.90375786492534 45.89287747001402 0.44728389909663413 0.3551296353918971\" preserveAspectRatio=\"xMinYMin meet\"><g transform=\"matrix(1,0,0,-1,0,92.14088457541993)\"><g><path fill-rule=\"evenodd\" fill=\"#66cc99\" stroke=\"#555555\" stroke-width=\"0.008945677981932682\" opacity=\"0.6\" d=\"M 11.055129051371837,45.960537227830194 L 11.055846397774257,45.95998491188298 L 11.05666166797519,45.95920813925624 L 11.05775236885016,45.958147488146004 L 11.057566972947265,45.95292989209039 L 11.057031185306812,45.95177864332805 L 11.054186988859385,45.94962478432809 L 11.053152350033116,45.94934476726263 L 11.052835835946677,45.949302677716744 L 11.052116653779754,45.94925198778232 L 11.051655343197522,45.949179535809904 L 11.049799795490204,45.948541642630666 L 11.04348873952412,45.94622270585424 L 11.037258870063042,45.940855492218674 L 11.034867616638554,45.927282763766854 L 11.041148369314856,45.91853378213961 L 11.042520467901388,45.91707369634423 L 11.033599748257844,45.909443540350935 L 11.030834262285236,45.91075877247478 L 11.027149851026419,45.91344273009245 L 11.02760501497772,45.91454724313975 L 11.026669159554578,45.91538665191156 L 11.026579168118804,45.91545070133078 L 11.026538958148787,45.915479303218405 L 11.024727733108934,45.91671284284834 L 11.024328149234492,45.91687463424842 L 11.023005602760376,45.917385255744485 L 11.017875633651398,45.91670225852179 L 11.008857316738894,45.916929344077246 L 11.004634606380048,45.918248006043065 L 10.998558870112863,45.92063450507911 L 10.99802475725508,45.920934779752095 L 10.997603079447943,45.92104543596897 L 10.996717273953395,45.92124744941082 L 10.994023083701675,45.92182299043855 L 10.993371844052213,45.92188565480155 L 10.983593474983714,45.92158514553701 L 10.983186735169289,45.92074430098123 L 10.982882761159528,45.920073412239766 L 10.978971825019382,45.920576385545665 L 10.974268796568417,45.92318395674724 L 10.976761720103296,45.926012914241426 L 10.982547619697502,45.93370260085439 L 10.98391165632576,45.93545063715463 L 10.984682512192487,45.93624983433371 L 10.988228902896262,45.94152117881359 L 10.984429230459005,45.947276294436065 L 10.983911276948689,45.948043628159745 L 10.974878828330013,45.95853082359522 L 10.970871356790575,45.96269550676867 L 10.966440275541187,45.96716097747386 L 10.953351951180403,45.97194266262589 L 10.946174345031077,45.97518345914697 L 10.951865440092892,45.97862990626238 L 10.951886629363923,45.97875361681572 L 10.947060308617989,45.98433930971105 L 10.942469997051276,45.991746617050325 L 10.942617467751692,45.99286369168295 L 10.94323180879981,45.994329944122235 L 10.94711706153263,46.000307877596974 L 10.951540819248216,46.00696796716202 L 10.95227080410805,46.007864606227095 L 10.9531377945435,46.00894258255458 L 10.953710188499269,46.009803897090556 L 10.953916338860592,46.010181471916944 L 10.955818891182986,46.01532789964372 L 10.955999111746888,46.01587026072589 L 10.955670750549766,46.01676959998211 L 10.95466363638009,46.0183595305142 L 10.954187658117512,46.01879127678948 L 10.953272706468615,46.019534874985325 L 10.952475754266723,46.0198821880557 L 10.952447583729954,46.019789988708226 L 10.948708072788541,46.02174208095903 L 10.948257740536988,46.02200820849356 L 10.947734718835436,46.02244976532735 L 10.950262715001518,46.02573806429701 L 10.953557629211094,46.026429811926185 L 10.955959420214826,46.03230813404425 L 10.954446548154623,46.0327908623691 L 10.948149191335254,46.0346147905109 L 10.945827656511186,46.035238636997924 L 10.944134613271775,46.03565550875752 L 10.940730873701979,46.03688380600082 L 10.93991003876262,46.03822522297827 L 10.933435974824933,46.0487900303657 L 10.931812369759637,46.049563046020474 L 10.929770165494846,46.050951168682644 L 10.926301259987152,46.05332926966302 L 10.920999554988203,46.06178855160072 L 10.920432934344209,46.062748081792655 L 10.920323935262253,46.062934757358 L 10.9204109203992,46.064169966379716 L 10.920437277446789,46.06423742887262 L 10.920807394018004,46.06433988654762 L 10.92148901182096,46.06447719633232 L 10.92218829449303,46.064423738790346 L 10.928010735929359,46.062275436033424 L 10.928328830423098,46.06215313074941 L 10.928572403295906,46.061937023548026 L 10.930332408131328,46.055570968846965 L 10.932185603585056,46.058275379114804 L 10.931668845304237,46.06161854670262 L 10.9313170185726,46.06417577010344 L 10.93178692641133,46.064508057523 L 10.932540077659969,46.065025502032434 L 10.933347084560893,46.065539485843175 L 10.93471106087863,46.0663075494121 L 10.93889948999116,46.069155445361744 L 10.944229557937957,46.07298346501241 L 10.944608233328232,46.073303979772376 L 10.944858480332405,46.07355635916538 L 10.95298023880995,46.08362618649624 L 10.953086340449529,46.08377286694289 L 10.953197450041255,46.08395330409502 L 10.953298026401159,46.08510038257793 L 10.954243954896093,46.089226916548625 L 10.955544327269722,46.09395480361146 L 10.955634400720216,46.094090180405544 L 10.955756879143479,46.09421821887123 L 10.95584758722393,46.09429736370018 L 10.958746249879342,46.09668056162011 L 10.958927812597437,46.096823878060704 L 10.959051201227531,46.09686948441542 L 10.959212800225615,46.096866584900894 L 10.960716662997372,46.09675452239278 L 10.962112795796624,46.09664187708724 L 10.963131717926952,46.09654599901547 L 10.963951358457935,46.096452818224456 L 10.964347442567258,46.09668344059962 L 10.96481291642454,46.09697434193851 L 10.965331385114347,46.09734421638034 L 10.965801730777361,46.09768385696974 L 10.966211864111768,46.09811311896908 L 10.967851137005422,46.10005286032472 L 10.968227302596489,46.10182704831938 L 10.967510873352415,46.10561695472922 L 10.967549836232998,46.11009478632943 L 10.967594607944887,46.11272678306635 L 10.967702246310791,46.11406392995411 L 10.968790877228633,46.115140129428916 L 10.96938960414149,46.11556242480753 L 10.970597759410776,46.11637327359335 L 10.973186391937313,46.117964770497665 L 10.97484206468766,46.1189659044549 L 10.976217245820058,46.11975775184105 L 10.976603545343357,46.12040520609795 L 10.976855604498661,46.12082767034913 L 10.97847345262774,46.12358101777588 L 10.979382788252385,46.12521586969031 L 10.980337501858768,46.12761069639248 L 10.9811793992979,46.130069329811136 L 10.981819270289812,46.13156975940345 L 10.98464647940543,46.13661246292606 L 10.986280918917576,46.13865564326801 L 10.990545877854027,46.14142556539887 L 10.991201117926206,46.14189120170738 L 10.993074771012061,46.143128187462494 L 10.993936678566167,46.143605464917854 L 10.996513499968291,46.144715194775095 L 10.998973579283847,46.14433746801991 L 10.999264503198383,46.14414904785427 L 10.999508978325876,46.143985881932345 L 10.999835717492303,46.143707196593816 L 11.000141839658118,46.14335727896701 L 11.000637953078439,46.14330424469445 L 11.000869655388414,46.14329447337895 L 11.002672051237242,46.14341808095615 L 11.003322617515778,46.14349703315997 L 11.005786869159255,46.14466235128181 L 11.019095220693012,46.15051239574932 L 11.020913686277419,46.15128969487291 L 11.022024277388942,46.14910470354433 L 11.024874599267488,46.146856628226665 L 11.025124369408513,46.14669344231429 L 11.036919187996922,46.14180170038659 L 11.038015705344606,46.14155684627932 L 11.039780582713329,46.14123048784542 L 11.041070286684766,46.141006063130874 L 11.04633651153409,46.14145644264727 L 11.047109497658562,46.141655640231725 L 11.04719529669195,46.141686083071946 L 11.050555539410139,46.14479011158382 L 11.050691960074959,46.14508662037943 L 11.050615485343606,46.1451760089475 L 11.049497273253984,46.14590684942792 L 11.062032487158906,46.151782716685034 L 11.065405741906403,46.150781401158895 L 11.064634511859472,46.14459840482923 L 11.064479703919066,46.14448522444892 L 11.063771502526583,46.14244866752136 L 11.063712721537415,46.141957985422465 L 11.063854657104622,46.141341191416295 L 11.065355505838273,46.13783129133113 L 11.066278721446121,46.136256990793754 L 11.068413575968698,46.13420299970954 L 11.070553427677064,46.13216771504545 L 11.076379311672685,46.135356064570495 L 11.073226316477127,46.14055674782862 L 11.073170525142054,46.140709920924415 L 11.073072483281157,46.141656684154796 L 11.073036787024911,46.142352939847214 L 11.073283908679812,46.14283747196271 L 11.073842867735372,46.14379944401667 L 11.074502481734598,46.14489681586833 L 11.07477220999379,46.14529911295008 L 11.07510082726271,46.145727969177095 L 11.082966676562242,46.154249274338426 L 11.083120685445868,46.15441130964586 L 11.08324306737578,46.1545244474348 L 11.085240860041793,46.15539142220649 L 11.085956174053726,46.15548603068712 L 11.087607429152659,46.155695403663096 L 11.088097123213068,46.1557398188817 L 11.088878069128373,46.1557637001049 L 11.092261888021167,46.155756018805725 L 11.092830831812096,46.155917001943116 L 11.108419899912994,46.163098740931 L 11.109067750565776,46.16341368756189 L 11.111191496564095,46.166216819449865 L 11.111547765992114,46.17268556058734 L 11.11129910412045,46.174686267251744 L 11.1126294847723,46.17467200055732 L 11.11408462687467,46.17468420036816 L 11.114569145287057,46.17473195145383 L 11.121279741758562,46.176081284452884 L 11.121060421934754,46.17729694342744 L 11.120988343365875,46.177465021097944 L 11.1208901756029,46.177561827091175 L 11.12025152897991,46.17823214357107 L 11.121378348690198,46.18002094931669 L 11.122024410047331,46.18099446519298 L 11.122707772689544,46.182005622969285 L 11.12280373245592,46.182096039428366 L 11.124185453618582,46.18224297353641 L 11.124796096127987,46.182279682811135 L 11.125162647660655,46.18228176930707 L 11.125459614162699,46.18224229313456 L 11.12573023761204,46.18215022155967 L 11.125941775685078,46.182039099658176 L 11.131650210692495,46.17838331496514 L 11.136093621315894,46.18054264831074 L 11.136419299505008,46.182203244785946 L 11.136592371501694,46.18308039984106 L 11.139884265252826,46.18789909443541 L 11.140114577682652,46.18802767957819 L 11.14780117617438,46.18850686084821 L 11.150592913262168,46.18822377992376 L 11.155281291507416,46.1875721094363 L 11.156799534591535,46.18659365393928 L 11.156928732299276,46.18649619630472 L 11.15802041488402,46.18515496904992 L 11.160088082504789,46.184052436548875 L 11.16074507714013,46.18374859733214 L 11.161369868339873,46.18351964662122 L 11.16197864799641,46.18337307376681 L 11.162409744580156,46.183335220696755 L 11.162976052212416,46.183529379938996 L 11.163542450905592,46.18376095254265 L 11.163769128046548,46.18392170624486 L 11.167157491352706,46.18653665479259 L 11.167259530256297,46.186622936008156 L 11.181053612470008,46.20301965511792 L 11.18319842329036,46.20558427200228 L 11.183646269621946,46.20690773532956 L 11.183107626133156,46.20689104184791 L 11.180532341225602,46.20712470602274 L 11.17893773793294,46.20728562525805 L 11.176649902518111,46.20790524236899 L 11.171835730352122,46.211853445277086 L 11.171657332735071,46.212014341503384 L 11.171386714162885,46.21267199237577 L 11.171359127497675,46.21275352624566 L 11.171394160854563,46.212860855724905 L 11.171507789207412,46.212989198643925 L 11.171691952531017,46.21313870614764 L 11.172083315939346,46.213405781415474 L 11.172299699866516,46.2135501600347 L 11.172509429702245,46.21364967058537 L 11.172737898098369,46.21373083561159 L 11.172987257490059,46.21380710367938 L 11.17320474450298,46.213856955839105 L 11.173466895483855,46.213887969222775 L 11.173885940889152,46.213911499010266 L 11.174334140972116,46.2139344716096 L 11.174477730150958,46.21391824699982 L 11.17465448713481,46.21379787436196 L 11.174797229019248,46.213678166829084 L 11.175027083337987,46.21350727343896 L 11.176146723090612,46.21399447033991 L 11.176333446130725,46.21408541713432 L 11.176880201165297,46.21455201529568 L 11.176973890031176,46.214667239407895 L 11.17705187549132,46.214917762207904 L 11.177222649871913,46.21563001755375 L 11.177240823905409,46.216007683571384 L 11.177230235625826,46.21635439663769 L 11.17696140601407,46.22312316240679 L 11.176877257819218,46.22447929024109 L 11.176856257195283,46.224727200129294 L 11.176694048201309,46.22488779458302 L 11.176386894255248,46.225154647930005 L 11.17500935377672,46.22635091004962 L 11.174564267669673,46.22673739148345 L 11.172691176809986,46.22889256114997 L 11.176059599237211,46.231441035069004 L 11.183654656017815,46.22579782323266 L 11.2016509380793,46.2228840439271 L 11.200592939486032,46.22001994959555 L 11.196638290019537,46.20771174546973 L 11.19651964796644,46.20697151140817 L 11.196352100018455,46.205980209084295 L 11.192572081054033,46.199352141260135 L 11.187224252750658,46.19874448514182 L 11.179884112801037,46.193299028041 L 11.179243767090007,46.19266359847279 L 11.176186067511734,46.189101621716986 L 11.175335420549008,46.18794875649169 L 11.175346972819094,46.187870234779844 L 11.177458063172118,46.17649329166965 L 11.18079617800277,46.16458326711459 L 11.180861251178504,46.16343850731946 L 11.180867893285692,46.163311306499025 L 11.17907491337782,46.15780199139141 L 11.178011941566403,46.15692879285245 L 11.174037124788518,46.15646821604073 L 11.172097484717337,46.1560397745021 L 11.171509786955978,46.155576675273835 L 11.171254636274814,46.1547072848246 L 11.171254277997836,46.15420210902239 L 11.1922460786402,46.15390853026118 L 11.192762730501176,46.153933379250304 L 11.19335431846201,46.15400722093538 L 11.194058554144595,46.15412648858654 L 11.194401746943521,46.15427401284059 L 11.194918960855924,46.15480776474713 L 11.19572627950334,46.15541022592557 L 11.196320044324487,46.155820826289855 L 11.196475487825584,46.1558963996184 L 11.197437565844798,46.15608418008565 L 11.204693656946729,46.15749433870509 L 11.205415003723347,46.15751632272266 L 11.205847613049837,46.15732368489504 L 11.206101879843617,46.157197615695324 L 11.206796619573034,46.156717561614855 L 11.207539186042874,46.15620413472891 L 11.209941551485496,46.154538149612705 L 11.208595303596951,46.144434073033196 L 11.205915143471236,46.1422564959749 L 11.205350362750284,46.14177032759844 L 11.204812905758212,46.141269506646154 L 11.204218380368669,46.14067812065143 L 11.203692253829312,46.13993393141692 L 11.203231446082116,46.139164278124575 L 11.203070239321859,46.13870535383552 L 11.202799207803196,46.13766823174593 L 11.202613341328226,46.13711536992231 L 11.201701046429779,46.135197820341055 L 11.201587596552393,46.13499044687584 L 11.200999296962333,46.13414810994987 L 11.19942712251798,46.132338859930826 L 11.195665516983588,46.12951462926941 L 11.19501602406187,46.12919598270369 L 11.194313121034966,46.12885797322817 L 11.189713140457325,46.12682432336364 L 11.189436158961081,46.12615041573849 L 11.189061199281792,46.12569070039166 L 11.188630818908132,46.124990945505694 L 11.188515279814213,46.12447333895426 L 11.187322358904341,46.118608044836755 L 11.188602669286484,46.11061268898049 L 11.188701827850243,46.11047118129759 L 11.199229727847102,46.1065234238911 L 11.208378013646715,46.10808332291747 L 11.217070514613669,46.110319840274805 L 11.221215458091615,46.1086185664546 L 11.221509278167684,46.108306648372384 L 11.221583891490681,46.108201513519866 L 11.221688334806004,46.107770443894445 L 11.221921206649654,46.10507300110946 L 11.222006906688373,46.102859256578114 L 11.221453090820114,46.10007853206364 L 11.221281083561463,46.099397522724914 L 11.220543893982457,46.09735584400829 L 11.21977035354762,46.095457240690955 L 11.219845116614378,46.09534556052115 L 11.223728956224662,46.09066612883753 L 11.225169474333558,46.08979503750371 L 11.22583073892416,46.08978945553259 L 11.226324832414525,46.08986941147002 L 11.227162290011144,46.09006630052428 L 11.236460938036833,46.09594979209879 L 11.237300690018026,46.096707655090334 L 11.241074663386033,46.09865922808677 L 11.246966610500658,46.09935039269687 L 11.252363854119654,46.09995017812466 L 11.259317540463037,46.10096342878347 L 11.266764124012484,46.10449657885179 L 11.266107595753027,46.1030497258134 L 11.268221108013737,46.093151217772785 L 11.268306946161404,46.093005222656785 L 11.26946080695894,46.091256922564426 L 11.269697080223311,46.09100603823737 L 11.27490645518608,46.08961778540806 L 11.280782226192509,46.08812397297911 L 11.28523458292346,46.084662803137114 L 11.282131050013252,46.081013189380634 L 11.283497012150617,46.071895323655404 L 11.278871240003363,46.07431967271318 L 11.27717493900434,46.07561349363867 L 11.27145867808265,46.0746686048669 L 11.270159761102832,46.07426429251393 L 11.269381598793155,46.073999998365 L 11.268561575545318,46.07355218225919 L 11.268004225563747,46.073239881843286 L 11.26466592810618,46.07131360791944 L 11.25633841257531,46.063372349563416 L 11.257891342439196,46.052489427218894 L 11.259924343584329,46.04909701701806 L 11.260230463830409,46.04879837469276 L 11.2610690301935,46.04798687811487 L 11.26336315170406,46.046290317510426 L 11.265278558407783,46.04616744988584 L 11.267905720770136,46.045904376086504 L 11.268267137536197,46.0458249631485 L 11.269662061635737,46.045327308502515 L 11.271933612943757,46.044469943743394 L 11.274067932641367,46.04345801279501 L 11.283433435392734,46.03671067960508 L 11.283386177069417,46.036642942044416 L 11.2824024262139,46.036013836561615 L 11.27462034608388,46.03123962104745 L 11.273087128021936,46.03038521120538 L 11.273864182742683,46.02953819601551 L 11.274416844714398,46.02893638180409 L 11.274974428849681,46.028360803319025 L 11.276217324774752,46.0272817506956 L 11.277039109593193,46.02660399725216 L 11.272017913126673,46.02278829321617 L 11.271211189829128,46.02286643665788 L 11.26958989000968,46.02394570158436 L 11.267870743083252,46.026243518707105 L 11.267246946067182,46.0272919252785 L 11.26683206383163,46.028222335802596 L 11.259603445583954,46.032009260813176 L 11.258478432200063,46.03212297361294 L 11.250661280113984,46.03119385879966 L 11.246002625155722,46.02457297949219 L 11.245950789128372,46.024426700226336 L 11.2459727501241,46.02438942022095 L 11.249192043601328,46.02183985619903 L 11.250946349989214,46.020485536490206 L 11.253595662309289,46.01864878366286 L 11.253774120844003,46.018582977256635 L 11.25392436359459,46.018591792859674 L 11.254203121919426,46.01862417210622 L 11.254332492461169,46.01859911233554 L 11.255587029644152,46.018138534646496 L 11.256031024249396,46.017944053937306 L 11.256183165763092,46.01784809229675 L 11.25634629302686,46.017737240753206 L 11.256444791712491,46.01763706578097 L 11.259522491706083,46.01435935680905 L 11.260684847439641,46.01302327816217 L 11.237072275119276,46.01037746338966 L 11.233744755246693,46.008810557550106 L 11.232498282824245,45.99486351155469 L 11.233626990922078,45.99105806003991 L 11.23404232847121,45.99001326186258 L 11.235936059207896,45.98605317037856 L 11.236035425585017,45.98589675622512 L 11.236340528100577,45.985640978233675 L 11.236862402453387,45.98527092696169 L 11.237186321424558,45.985172547851384 L 11.237853597480933,45.98509197457518 L 11.240739329997238,45.985931969481186 L 11.24514578560043,45.98006071650608 L 11.244922718581112,45.97420372101024 L 11.241616861623106,45.96747144693965 L 11.234649968679292,45.95765374565959 L 11.233522960167056,45.956193061015284 L 11.232143628096246,45.95419235708994 L 11.232038478938462,45.95406418162386 L 11.230148848331536,45.952210198192724 L 11.22205393455716,45.945806820096244 L 11.221749622354096,45.94567023059379 L 11.216678698189954,45.94555050471124 L 11.215392016119141,45.94586492440249 L 11.214094060333629,45.94622043260379 L 11.20240495242859,45.94391874712751 L 11.202207992129663,45.94378650707196 L 11.198907699839806,45.94157598550019 L 11.19517539743125,45.939171755219135 L 11.193279837135291,45.937969421670864 L 11.19274808565981,45.93800361218871 L 11.192414221264398,45.93809144162308 L 11.19172866655766,45.93840551856659 L 11.191063567990337,45.93879835248727 L 11.186556268554964,45.94168009932266 L 11.185873844864386,45.94258580569351 L 11.185802031054571,45.94274638780551 L 11.185583310530426,45.94348644390239 L 11.185519261717731,45.944302361519846 L 11.185521920171249,45.94451582204675 L 11.182236359224616,45.944562860421215 L 11.16564839768801,45.943025737865746 L 11.159542101857385,45.939152056383556 L 11.158930255248361,45.9385130593366 L 11.15798044934535,45.93786144118802 L 11.147487802600793,45.93169649585584 L 11.147188058291757,45.93160911714325 L 11.145255362878043,45.931095606550606 L 11.124213741964281,45.92171619375106 L 11.116495659669182,45.92560256771546 L 11.106645554447402,45.928407960384995 L 11.103837363300919,45.928976085853655 L 11.103749884918694,45.92936462935667 L 11.10188981277523,45.941214460520605 L 11.101733908424663,45.94526137530944 L 11.100057840040472,45.945987611807794 L 11.09940109442222,45.94619430065693 L 11.098522632183192,45.946003069718564 L 11.094844150650308,45.94675749889241 L 11.094187140267993,45.94811741274094 L 11.094042189139087,45.948685875860484 L 11.094173094485587,45.9490926171241 L 11.094326799068778,45.949506038998685 L 11.094426399854695,45.94964930009409 L 11.094568153859617,45.949841648888075 L 11.094711067549555,45.94996654812369 L 11.095024791054744,45.950156610385555 L 11.09539788080737,45.95033216379561 L 11.095520784794463,45.950370682928174 L 11.095703005181557,45.95039845515492 L 11.097351530315287,45.950461064781685 L 11.098946846900743,45.950493217949784 L 11.09988108859309,45.95053479393984 L 11.102092512702752,45.950984366859686 L 11.103965964143185,45.95140482289281 L 11.104627991570196,45.951653972860214 L 11.105144909217529,45.95190566457657 L 11.105920373042148,45.95243311982888 L 11.106596657843046,45.95310591903173 L 11.107445713020097,45.9540462725006 L 11.107844813856376,45.95473035292445 L 11.107536271061544,45.96728908061859 L 11.105398695048168,45.96280354296515 L 11.103480292851525,45.95965785046662 L 11.103374705701974,45.95954827452445 L 11.09752124536977,45.95463039500697 L 11.094842851812134,45.954143085403054 L 11.093055877260047,45.95400056224796 L 11.092963564095866,45.95405600529618 L 11.09111071817107,45.9543026937449 L 11.089649223518148,45.95449528168662 L 11.08735193560736,45.95475807503002 L 11.079997498772702,45.954020414428754 L 11.078907047391818,45.953855694619314 L 11.078487915479878,45.953771045571294 L 11.07848190700102,45.9536774972751 L 11.078662217447345,45.95260269842146 L 11.077437066141972,45.953127086431465 L 11.07097566878584,45.957718752300686 L 11.07009382600463,45.95903167031604 L 11.069251318511366,45.964551367282894 L 11.069273510278343,45.96465608859851 L 11.07072107988427,45.96678468351997 L 11.06965539756302,45.967091460428044 L 11.055129051371837,45.960537227830194 z M 11.128557095050871,45.97496095010347 L 11.125576635157726,45.97462970389278 L 11.113342921537418,45.97325367529243 L 11.113078545544733,45.973169350369425 L 11.109785800793844,45.9574625284867 L 11.111863284590079,45.95398413407084 L 11.12614712309325,45.95446601551542 L 11.129636057904134,45.9555090187975 L 11.140271913519447,45.95912673752893 L 11.145681001894811,45.961440162952485 L 11.14455983156396,45.96445169701032 L 11.141067467713606,45.97132624740878 L 11.137492546581107,45.97184217066808 L 11.132699948594304,45.97358370337379 L 11.132817557201783,45.974661447863284 L 11.128557095050871,45.97496095010347 z\" /><path fill-rule=\"evenodd\" fill=\"#66cc99\" stroke=\"#555555\" stroke-width=\"0.008945677981932682\" opacity=\"0.6\" d=\"M 11.32703327779966,46.04909758095824 L 11.316629362375533,46.048916994156095 L 11.307552306611148,46.049206668569 L 11.302014464322347,46.061104926671625 L 11.314492895591824,46.060173791289095 L 11.334475693685063,46.050030378628584 L 11.32703327779966,46.04909758095824 z\" /></g></g></svg>"
          },
          "metadata": {
            "tags": []
          },
          "execution_count": 25
        }
      ]
    },
    {
      "cell_type": "markdown",
      "metadata": {
        "id": "cfHWS7Av-4Bc"
      },
      "source": [
        "## method 1 - dissolve"
      ]
    },
    {
      "cell_type": "code",
      "metadata": {
        "id": "BKtkq45NyRd1",
        "outputId": "81cb638d-0164-4141-8faa-7b336ee361df",
        "colab": {
          "base_uri": "https://localhost:8080/",
          "height": 156
        }
      },
      "source": [
        "%time\n",
        "touches_with_trento.append(municipalities_trentino[municipalities_trentino.COMUNE=='Trento']).dissolve(by='COD_PROV').geometry.values[0]"
      ],
      "execution_count": null,
      "outputs": [
        {
          "output_type": "stream",
          "text": [
            "CPU times: user 4 µs, sys: 0 ns, total: 4 µs\n",
            "Wall time: 7.15 µs\n"
          ],
          "name": "stdout"
        },
        {
          "output_type": "execute_result",
          "data": {
            "text/plain": [
              "<shapely.geometry.multipolygon.MultiPolygon at 0x7f9b95b4a550>"
            ],
            "image/svg+xml": "<svg xmlns=\"http://www.w3.org/2000/svg\" xmlns:xlink=\"http://www.w3.org/1999/xlink\" width=\"100.0\" height=\"100.0\" viewBox=\"10.90375786492534 45.89287747001402 0.44728389909663413 0.3551296353918971\" preserveAspectRatio=\"xMinYMin meet\"><g transform=\"matrix(1,0,0,-1,0,92.14088457541993)\"><g><path fill-rule=\"evenodd\" fill=\"#66cc99\" stroke=\"#555555\" stroke-width=\"0.008945677981932682\" opacity=\"0.6\" d=\"M 11.055129051371837,45.960537227830194 L 11.055846397774257,45.95998491188298 L 11.05666166797519,45.95920813925624 L 11.05775236885016,45.958147488146004 L 11.057566972947265,45.95292989209039 L 11.057031185306812,45.95177864332805 L 11.054186988859385,45.94962478432809 L 11.053152350033116,45.94934476726263 L 11.052835835946677,45.949302677716744 L 11.052116653779754,45.94925198778232 L 11.051655343197522,45.949179535809904 L 11.049799795490204,45.948541642630666 L 11.04348873952412,45.94622270585424 L 11.037258870063042,45.940855492218674 L 11.034867616638554,45.927282763766854 L 11.041148369314856,45.91853378213961 L 11.042520467901388,45.91707369634423 L 11.033599748257844,45.909443540350935 L 11.030834262285236,45.91075877247478 L 11.027149851026419,45.91344273009245 L 11.02760501497772,45.91454724313975 L 11.026669159554578,45.91538665191156 L 11.026579168118804,45.91545070133078 L 11.026538958148787,45.915479303218405 L 11.024727733108934,45.91671284284834 L 11.024328149234492,45.91687463424842 L 11.023005602760376,45.917385255744485 L 11.017875633651398,45.91670225852179 L 11.008857316738894,45.916929344077246 L 11.004634606380048,45.918248006043065 L 10.998558870112863,45.92063450507911 L 10.99802475725508,45.920934779752095 L 10.997603079447943,45.92104543596897 L 10.996717273953395,45.92124744941082 L 10.994023083701675,45.92182299043855 L 10.993371844052213,45.92188565480155 L 10.983593474983714,45.92158514553701 L 10.983186735169289,45.92074430098123 L 10.982882761159528,45.920073412239766 L 10.978971825019382,45.920576385545665 L 10.974268796568417,45.92318395674724 L 10.976761720103296,45.926012914241426 L 10.982547619697502,45.93370260085439 L 10.98391165632576,45.93545063715463 L 10.984682512192487,45.93624983433371 L 10.988228902896262,45.94152117881359 L 10.984429230459005,45.947276294436065 L 10.983911276948689,45.948043628159745 L 10.974878828330013,45.95853082359522 L 10.970871356790575,45.96269550676867 L 10.966440275541187,45.96716097747386 L 10.953351951180403,45.97194266262589 L 10.946174345031077,45.97518345914697 L 10.951865440092892,45.97862990626238 L 10.951886629363923,45.97875361681572 L 10.947060308617989,45.98433930971105 L 10.942469997051276,45.991746617050325 L 10.942617467751692,45.99286369168295 L 10.94323180879981,45.994329944122235 L 10.94711706153263,46.000307877596974 L 10.951540819248216,46.00696796716202 L 10.95227080410805,46.007864606227095 L 10.9531377945435,46.00894258255458 L 10.953710188499269,46.009803897090556 L 10.953916338860592,46.010181471916944 L 10.955818891182986,46.01532789964372 L 10.955999111746888,46.01587026072589 L 10.955670750549766,46.01676959998211 L 10.95466363638009,46.0183595305142 L 10.954187658117512,46.01879127678948 L 10.953272706468615,46.019534874985325 L 10.952475754266723,46.0198821880557 L 10.952447583729954,46.019789988708226 L 10.948708072788541,46.02174208095903 L 10.948257740536988,46.02200820849356 L 10.947734718835436,46.02244976532735 L 10.950262715001518,46.02573806429701 L 10.953557629211094,46.026429811926185 L 10.955959420214826,46.03230813404425 L 10.954446548154623,46.0327908623691 L 10.948149191335254,46.0346147905109 L 10.945827656511186,46.035238636997924 L 10.944134613271775,46.03565550875752 L 10.940730873701979,46.03688380600082 L 10.93991003876262,46.03822522297827 L 10.933435974824933,46.0487900303657 L 10.931812369759637,46.049563046020474 L 10.929770165494846,46.050951168682644 L 10.926301259987152,46.05332926966302 L 10.920999554988203,46.06178855160072 L 10.920432934344209,46.062748081792655 L 10.920323935262253,46.062934757358 L 10.9204109203992,46.064169966379716 L 10.920437277446789,46.06423742887262 L 10.920807394018004,46.06433988654762 L 10.92148901182096,46.06447719633232 L 10.92218829449303,46.064423738790346 L 10.928010735929359,46.062275436033424 L 10.928328830423098,46.06215313074941 L 10.928572403295906,46.061937023548026 L 10.930332408131328,46.055570968846965 L 10.932185603585056,46.058275379114804 L 10.931668845304237,46.06161854670262 L 10.9313170185726,46.06417577010344 L 10.93178692641133,46.064508057523 L 10.932540077659969,46.065025502032434 L 10.933347084560893,46.065539485843175 L 10.93471106087863,46.0663075494121 L 10.93889948999116,46.069155445361744 L 10.944229557937957,46.07298346501241 L 10.944608233328232,46.073303979772376 L 10.944858480332405,46.07355635916538 L 10.95298023880995,46.08362618649624 L 10.953086340449529,46.08377286694289 L 10.953197450041255,46.08395330409502 L 10.953298026401159,46.08510038257793 L 10.954243954896093,46.089226916548625 L 10.955544327269722,46.09395480361146 L 10.955634400720216,46.094090180405544 L 10.955756879143479,46.09421821887123 L 10.95584758722393,46.09429736370018 L 10.958746249879342,46.09668056162011 L 10.958927812597437,46.096823878060704 L 10.959051201227531,46.09686948441542 L 10.959212800225615,46.096866584900894 L 10.960716662997372,46.09675452239278 L 10.962112795796624,46.09664187708724 L 10.963131717926952,46.09654599901547 L 10.963951358457935,46.096452818224456 L 10.964347442567258,46.09668344059962 L 10.96481291642454,46.09697434193851 L 10.965331385114347,46.09734421638034 L 10.965801730777361,46.09768385696974 L 10.966211864111768,46.09811311896908 L 10.967851137005422,46.10005286032472 L 10.968227302596489,46.10182704831938 L 10.967510873352415,46.10561695472922 L 10.967549836232998,46.11009478632943 L 10.967594607944887,46.11272678306635 L 10.967702246310791,46.11406392995411 L 10.968790877228633,46.115140129428916 L 10.96938960414149,46.11556242480753 L 10.970597759410776,46.11637327359335 L 10.973186391937313,46.117964770497665 L 10.97484206468766,46.1189659044549 L 10.976217245820058,46.11975775184105 L 10.976603545343357,46.12040520609795 L 10.976855604498661,46.12082767034913 L 10.97847345262774,46.12358101777588 L 10.979382788252385,46.12521586969031 L 10.980337501858768,46.12761069639248 L 10.9811793992979,46.130069329811136 L 10.981819270289812,46.13156975940345 L 10.98464647940543,46.13661246292606 L 10.986280918917576,46.13865564326801 L 10.990545877854027,46.14142556539887 L 10.991201117926206,46.14189120170738 L 10.993074771012061,46.143128187462494 L 10.993936678566167,46.143605464917854 L 10.996513499968291,46.144715194775095 L 10.998973579283847,46.14433746801991 L 10.999264503198383,46.14414904785427 L 10.999508978325876,46.143985881932345 L 10.999835717492303,46.143707196593816 L 11.000141839658118,46.14335727896701 L 11.000637953078439,46.14330424469445 L 11.000869655388414,46.14329447337895 L 11.002672051237242,46.14341808095615 L 11.003322617515778,46.14349703315997 L 11.005786869159255,46.14466235128181 L 11.019095220693012,46.15051239574932 L 11.020913686277419,46.15128969487291 L 11.022024277388942,46.14910470354433 L 11.024874599267488,46.146856628226665 L 11.025124369408513,46.14669344231429 L 11.036919187996922,46.14180170038659 L 11.038015705344606,46.14155684627932 L 11.039780582713329,46.14123048784542 L 11.041070286684766,46.141006063130874 L 11.04633651153409,46.14145644264727 L 11.047109497658562,46.141655640231725 L 11.04719529669195,46.141686083071946 L 11.050555539410139,46.14479011158382 L 11.050691960074959,46.14508662037943 L 11.050615485343606,46.1451760089475 L 11.049497273253984,46.14590684942792 L 11.062032487158906,46.151782716685034 L 11.065405741906403,46.150781401158895 L 11.064634511859472,46.14459840482923 L 11.064479703919066,46.14448522444892 L 11.063771502526583,46.14244866752136 L 11.063712721537415,46.141957985422465 L 11.063854657104622,46.141341191416295 L 11.065355505838273,46.13783129133113 L 11.066278721446121,46.136256990793754 L 11.068413575968698,46.13420299970954 L 11.070553427677064,46.13216771504545 L 11.076379311672685,46.135356064570495 L 11.073226316477127,46.14055674782862 L 11.073170525142054,46.140709920924415 L 11.073072483281157,46.141656684154796 L 11.073036787024911,46.142352939847214 L 11.073283908679812,46.14283747196271 L 11.073842867735372,46.14379944401667 L 11.074502481734598,46.14489681586833 L 11.07477220999379,46.14529911295008 L 11.07510082726271,46.145727969177095 L 11.082966676562242,46.154249274338426 L 11.083120685445868,46.15441130964586 L 11.08324306737578,46.1545244474348 L 11.085240860041793,46.15539142220649 L 11.085956174053726,46.15548603068712 L 11.087607429152659,46.155695403663096 L 11.088097123213068,46.1557398188817 L 11.088878069128373,46.1557637001049 L 11.092261888021167,46.155756018805725 L 11.092830831812096,46.155917001943116 L 11.108419899912994,46.163098740931 L 11.109067750565776,46.16341368756189 L 11.111191496564095,46.166216819449865 L 11.111547765992114,46.17268556058734 L 11.11129910412045,46.174686267251744 L 11.1126294847723,46.17467200055732 L 11.11408462687467,46.17468420036816 L 11.114569145287057,46.17473195145383 L 11.121279741758562,46.176081284452884 L 11.121060421934754,46.17729694342744 L 11.120988343365875,46.177465021097944 L 11.1208901756029,46.177561827091175 L 11.12025152897991,46.17823214357107 L 11.121378348690198,46.18002094931669 L 11.122024410047331,46.18099446519298 L 11.122707772689544,46.182005622969285 L 11.12280373245592,46.182096039428366 L 11.124185453618582,46.18224297353641 L 11.124796096127987,46.182279682811135 L 11.125162647660655,46.18228176930707 L 11.125459614162699,46.18224229313456 L 11.12573023761204,46.18215022155967 L 11.125941775685078,46.182039099658176 L 11.131650210692495,46.17838331496514 L 11.136093621315894,46.18054264831074 L 11.136419299505008,46.182203244785946 L 11.136592371501694,46.18308039984106 L 11.139884265252826,46.18789909443541 L 11.140114577682652,46.18802767957819 L 11.14780117617438,46.18850686084821 L 11.150592913262168,46.18822377992376 L 11.155281291507416,46.1875721094363 L 11.156799534591535,46.18659365393928 L 11.156928732299276,46.18649619630472 L 11.15802041488402,46.18515496904992 L 11.160088082504789,46.184052436548875 L 11.16074507714013,46.18374859733214 L 11.161369868339873,46.18351964662122 L 11.16197864799641,46.18337307376681 L 11.162409744580156,46.183335220696755 L 11.162976052212416,46.183529379938996 L 11.163542450905592,46.18376095254265 L 11.163769128046548,46.18392170624486 L 11.167157491352706,46.18653665479259 L 11.167259530256297,46.186622936008156 L 11.181053612470008,46.20301965511792 L 11.18319842329036,46.20558427200228 L 11.183646269621946,46.20690773532956 L 11.183107626133156,46.20689104184791 L 11.180532341225602,46.20712470602274 L 11.17893773793294,46.20728562525805 L 11.176649902518111,46.20790524236899 L 11.171835730352122,46.211853445277086 L 11.171657332735071,46.212014341503384 L 11.171386714162885,46.21267199237577 L 11.171359127497675,46.21275352624566 L 11.171394160854563,46.212860855724905 L 11.171507789207412,46.212989198643925 L 11.171691952531017,46.21313870614764 L 11.172083315939346,46.213405781415474 L 11.172299699866516,46.2135501600347 L 11.172509429702245,46.21364967058537 L 11.172737898098369,46.21373083561159 L 11.172987257490059,46.21380710367938 L 11.17320474450298,46.213856955839105 L 11.173466895483855,46.213887969222775 L 11.173885940889152,46.213911499010266 L 11.174334140972116,46.2139344716096 L 11.174477730150958,46.21391824699982 L 11.17465448713481,46.21379787436196 L 11.174797229019248,46.213678166829084 L 11.175027083337987,46.21350727343896 L 11.176146723090612,46.21399447033991 L 11.176333446130725,46.21408541713432 L 11.176880201165297,46.21455201529568 L 11.176973890031176,46.214667239407895 L 11.17705187549132,46.214917762207904 L 11.177222649871913,46.21563001755375 L 11.177240823905409,46.216007683571384 L 11.177230235625826,46.21635439663769 L 11.17696140601407,46.22312316240679 L 11.176877257819218,46.22447929024109 L 11.176856257195283,46.224727200129294 L 11.176694048201309,46.22488779458302 L 11.176386894255248,46.225154647930005 L 11.17500935377672,46.22635091004962 L 11.174564267669673,46.22673739148345 L 11.172691176809986,46.22889256114997 L 11.176059599237211,46.231441035069004 L 11.183654656017815,46.22579782323266 L 11.2016509380793,46.2228840439271 L 11.200592939486032,46.22001994959555 L 11.196638290019537,46.20771174546973 L 11.19651964796644,46.20697151140817 L 11.196352100018455,46.205980209084295 L 11.192572081054033,46.199352141260135 L 11.187224252750658,46.19874448514182 L 11.179884112801037,46.193299028041 L 11.179243767090007,46.19266359847279 L 11.176186067511734,46.189101621716986 L 11.175335420549008,46.18794875649169 L 11.175346972819094,46.187870234779844 L 11.177458063172118,46.17649329166965 L 11.18079617800277,46.16458326711459 L 11.180861251178504,46.16343850731946 L 11.180867893285692,46.163311306499025 L 11.17907491337782,46.15780199139141 L 11.178011941566403,46.15692879285245 L 11.174037124788518,46.15646821604073 L 11.172097484717337,46.1560397745021 L 11.171509786955978,46.155576675273835 L 11.171254636274814,46.1547072848246 L 11.171254277997836,46.15420210902239 L 11.1922460786402,46.15390853026118 L 11.192762730501176,46.153933379250304 L 11.19335431846201,46.15400722093538 L 11.194058554144595,46.15412648858654 L 11.194401746943521,46.15427401284059 L 11.194918960855924,46.15480776474713 L 11.19572627950334,46.15541022592557 L 11.196320044324487,46.155820826289855 L 11.196475487825584,46.1558963996184 L 11.197437565844798,46.15608418008565 L 11.204693656946729,46.15749433870509 L 11.205415003723347,46.15751632272266 L 11.205847613049837,46.15732368489504 L 11.206101879843617,46.157197615695324 L 11.206796619573034,46.156717561614855 L 11.207539186042874,46.15620413472891 L 11.209941551485496,46.154538149612705 L 11.208595303596951,46.144434073033196 L 11.205915143471236,46.1422564959749 L 11.205350362750284,46.14177032759844 L 11.204812905758212,46.141269506646154 L 11.204218380368669,46.14067812065143 L 11.203692253829312,46.13993393141692 L 11.203231446082116,46.139164278124575 L 11.203070239321859,46.13870535383552 L 11.202799207803196,46.13766823174593 L 11.202613341328226,46.13711536992231 L 11.201701046429779,46.135197820341055 L 11.201587596552393,46.13499044687584 L 11.200999296962333,46.13414810994987 L 11.19942712251798,46.132338859930826 L 11.195665516983588,46.12951462926941 L 11.19501602406187,46.12919598270369 L 11.194313121034966,46.12885797322817 L 11.189713140457325,46.12682432336364 L 11.189436158961081,46.12615041573849 L 11.189061199281792,46.12569070039166 L 11.188630818908132,46.124990945505694 L 11.188515279814213,46.12447333895426 L 11.187322358904341,46.118608044836755 L 11.188602669286484,46.11061268898049 L 11.188701827850243,46.11047118129759 L 11.199229727847102,46.1065234238911 L 11.208378013646715,46.10808332291747 L 11.217070514613669,46.110319840274805 L 11.221215458091615,46.1086185664546 L 11.221509278167684,46.108306648372384 L 11.221583891490681,46.108201513519866 L 11.221688334806004,46.107770443894445 L 11.221921206649654,46.10507300110946 L 11.222006906688373,46.102859256578114 L 11.221453090820114,46.10007853206364 L 11.221281083561463,46.099397522724914 L 11.220543893982457,46.09735584400829 L 11.21977035354762,46.095457240690955 L 11.219845116614378,46.09534556052115 L 11.223728956224662,46.09066612883753 L 11.225169474333558,46.08979503750371 L 11.22583073892416,46.08978945553259 L 11.226324832414525,46.08986941147002 L 11.227162290011144,46.09006630052428 L 11.236460938036833,46.09594979209879 L 11.237300690018026,46.096707655090334 L 11.241074663386033,46.09865922808677 L 11.246966610500658,46.09935039269687 L 11.252363854119654,46.09995017812466 L 11.259317540463037,46.10096342878347 L 11.266764124012484,46.10449657885179 L 11.266107595753027,46.1030497258134 L 11.268221108013737,46.093151217772785 L 11.268306946161404,46.093005222656785 L 11.26946080695894,46.091256922564426 L 11.269697080223311,46.09100603823737 L 11.27490645518608,46.08961778540806 L 11.280782226192509,46.08812397297911 L 11.28523458292346,46.084662803137114 L 11.282131050013252,46.081013189380634 L 11.283497012150617,46.071895323655404 L 11.278871240003363,46.07431967271318 L 11.27717493900434,46.07561349363867 L 11.27145867808265,46.0746686048669 L 11.270159761102832,46.07426429251393 L 11.269381598793155,46.073999998365 L 11.268561575545318,46.07355218225919 L 11.268004225563747,46.073239881843286 L 11.26466592810618,46.07131360791944 L 11.25633841257531,46.063372349563416 L 11.257891342439196,46.052489427218894 L 11.259924343584329,46.04909701701806 L 11.260230463830409,46.04879837469276 L 11.2610690301935,46.04798687811487 L 11.26336315170406,46.046290317510426 L 11.265278558407783,46.04616744988584 L 11.267905720770136,46.045904376086504 L 11.268267137536197,46.0458249631485 L 11.269662061635737,46.045327308502515 L 11.271933612943757,46.044469943743394 L 11.274067932641367,46.04345801279501 L 11.283433435392734,46.03671067960508 L 11.283386177069417,46.036642942044416 L 11.2824024262139,46.036013836561615 L 11.27462034608388,46.03123962104745 L 11.273087128021936,46.03038521120538 L 11.273864182742683,46.02953819601551 L 11.274416844714398,46.02893638180409 L 11.274974428849681,46.028360803319025 L 11.276217324774752,46.0272817506956 L 11.277039109593193,46.02660399725216 L 11.272017913126673,46.02278829321617 L 11.271211189829128,46.02286643665788 L 11.26958989000968,46.02394570158436 L 11.267870743083252,46.026243518707105 L 11.267246946067182,46.0272919252785 L 11.26683206383163,46.028222335802596 L 11.259603445583954,46.032009260813176 L 11.258478432200063,46.03212297361294 L 11.250661280113984,46.03119385879966 L 11.246002625155722,46.02457297949219 L 11.245950789128372,46.024426700226336 L 11.2459727501241,46.02438942022095 L 11.249192043601328,46.02183985619903 L 11.250946349989214,46.020485536490206 L 11.253595662309289,46.01864878366286 L 11.253774120844003,46.018582977256635 L 11.25392436359459,46.018591792859674 L 11.254203121919426,46.01862417210622 L 11.254332492461169,46.01859911233554 L 11.255587029644152,46.018138534646496 L 11.256031024249396,46.017944053937306 L 11.256183165763092,46.01784809229675 L 11.25634629302686,46.017737240753206 L 11.256444791712491,46.01763706578097 L 11.259522491706083,46.01435935680905 L 11.260684847439641,46.01302327816217 L 11.237072275119276,46.01037746338966 L 11.233744755246693,46.008810557550106 L 11.232498282824245,45.99486351155469 L 11.233626990922078,45.99105806003991 L 11.23404232847121,45.99001326186258 L 11.235936059207896,45.98605317037856 L 11.236035425585017,45.98589675622512 L 11.236340528100577,45.985640978233675 L 11.236862402453387,45.98527092696169 L 11.237186321424558,45.985172547851384 L 11.237853597480933,45.98509197457518 L 11.240739329997238,45.985931969481186 L 11.24514578560043,45.98006071650608 L 11.244922718581112,45.97420372101024 L 11.241616861623106,45.96747144693965 L 11.234649968679292,45.95765374565959 L 11.233522960167056,45.956193061015284 L 11.232143628096246,45.95419235708994 L 11.232038478938462,45.95406418162386 L 11.230148848331536,45.952210198192724 L 11.22205393455716,45.945806820096244 L 11.221749622354096,45.94567023059379 L 11.216678698189954,45.94555050471124 L 11.215392016119141,45.94586492440249 L 11.214094060333629,45.94622043260379 L 11.20240495242859,45.94391874712751 L 11.202207992129663,45.94378650707196 L 11.198907699839806,45.94157598550019 L 11.19517539743125,45.939171755219135 L 11.193279837135291,45.937969421670864 L 11.19274808565981,45.93800361218871 L 11.192414221264398,45.93809144162308 L 11.19172866655766,45.93840551856659 L 11.191063567990337,45.93879835248727 L 11.186556268554964,45.94168009932266 L 11.185873844864386,45.94258580569351 L 11.185802031054571,45.94274638780551 L 11.185583310530426,45.94348644390239 L 11.185519261717731,45.944302361519846 L 11.185521920171249,45.94451582204675 L 11.182236359224616,45.944562860421215 L 11.16564839768801,45.943025737865746 L 11.159542101857385,45.939152056383556 L 11.158930255248361,45.9385130593366 L 11.15798044934535,45.93786144118802 L 11.147487802600793,45.93169649585584 L 11.147188058291757,45.93160911714325 L 11.145255362878043,45.931095606550606 L 11.124213741964281,45.92171619375106 L 11.116495659669182,45.92560256771546 L 11.106645554447402,45.928407960384995 L 11.103837363300919,45.928976085853655 L 11.103749884918694,45.92936462935667 L 11.10188981277523,45.941214460520605 L 11.101733908424663,45.94526137530944 L 11.100057840040472,45.945987611807794 L 11.09940109442222,45.94619430065693 L 11.098522632183192,45.946003069718564 L 11.094844150650308,45.94675749889241 L 11.094187140267993,45.94811741274094 L 11.094042189139087,45.948685875860484 L 11.094173094485587,45.9490926171241 L 11.094326799068778,45.949506038998685 L 11.094426399854695,45.94964930009409 L 11.094568153859617,45.949841648888075 L 11.094711067549555,45.94996654812369 L 11.095024791054744,45.950156610385555 L 11.09539788080737,45.95033216379561 L 11.095520784794463,45.950370682928174 L 11.095703005181557,45.95039845515492 L 11.097351530315287,45.950461064781685 L 11.098946846900743,45.950493217949784 L 11.09988108859309,45.95053479393984 L 11.102092512702752,45.950984366859686 L 11.103965964143185,45.95140482289281 L 11.104627991570196,45.951653972860214 L 11.105144909217529,45.95190566457657 L 11.105920373042148,45.95243311982888 L 11.106596657843046,45.95310591903173 L 11.107445713020097,45.9540462725006 L 11.107844813856376,45.95473035292445 L 11.107536271061544,45.96728908061859 L 11.105398695048168,45.96280354296515 L 11.103480292851525,45.95965785046662 L 11.103374705701974,45.95954827452445 L 11.09752124536977,45.95463039500697 L 11.094842851812134,45.954143085403054 L 11.093055877260047,45.95400056224796 L 11.092963564095866,45.95405600529618 L 11.09111071817107,45.9543026937449 L 11.089649223518148,45.95449528168662 L 11.08735193560736,45.95475807503002 L 11.079997498772702,45.954020414428754 L 11.078907047391818,45.953855694619314 L 11.078487915479878,45.953771045571294 L 11.07848190700102,45.9536774972751 L 11.078662217447345,45.95260269842146 L 11.077437066141972,45.953127086431465 L 11.07097566878584,45.957718752300686 L 11.07009382600463,45.95903167031604 L 11.069251318511366,45.964551367282894 L 11.069273510278343,45.96465608859851 L 11.07072107988427,45.96678468351997 L 11.06965539756302,45.967091460428044 L 11.055129051371837,45.960537227830194 z M 11.128557095050871,45.97496095010347 L 11.125576635157726,45.97462970389278 L 11.113342921537418,45.97325367529243 L 11.113078545544733,45.973169350369425 L 11.109785800793844,45.9574625284867 L 11.111863284590079,45.95398413407084 L 11.12614712309325,45.95446601551542 L 11.129636057904134,45.9555090187975 L 11.140271913519447,45.95912673752893 L 11.145681001894811,45.961440162952485 L 11.14455983156396,45.96445169701032 L 11.141067467713606,45.97132624740878 L 11.137492546581107,45.97184217066808 L 11.132699948594304,45.97358370337379 L 11.132817557201783,45.974661447863284 L 11.128557095050871,45.97496095010347 z\" /><path fill-rule=\"evenodd\" fill=\"#66cc99\" stroke=\"#555555\" stroke-width=\"0.008945677981932682\" opacity=\"0.6\" d=\"M 11.32703327779966,46.04909758095824 L 11.316629362375533,46.048916994156095 L 11.307552306611148,46.049206668569 L 11.302014464322347,46.061104926671625 L 11.314492895591824,46.060173791289095 L 11.334475693685063,46.050030378628584 L 11.32703327779966,46.04909758095824 z\" /></g></g></svg>"
          },
          "metadata": {
            "tags": []
          },
          "execution_count": 26
        }
      ]
    },
    {
      "cell_type": "code",
      "metadata": {
        "id": "2vPakH-e3cSC"
      },
      "source": [
        "aroud_trento_area = touches_with_trento.append(municipalities_trentino[municipalities_trentino.COMUNE=='Trento']).dissolve(by='COD_PROV').geometry.values[0]"
      ],
      "execution_count": null,
      "outputs": []
    },
    {
      "cell_type": "markdown",
      "metadata": {
        "id": "tydlMrhz_RZ1"
      },
      "source": [
        "# for each pharmacy contained in the macro-area, calculate how many libraries are within a 500m radius"
      ]
    },
    {
      "cell_type": "markdown",
      "metadata": {
        "id": "Jq0IIGBz_ZJd"
      },
      "source": [
        "## step 1 - geodataframe of the libraries\n",
        "note: there a lot of bad latitude and longitude in this dataset!!!"
      ]
    },
    {
      "cell_type": "code",
      "metadata": {
        "id": "Jn5ANEGMy_EX"
      },
      "source": [
        "libraries = pd.read_csv('http://opendata.anagrafe.iccu.sbn.it/territorio.zip', compression='zip', sep=';')"
      ],
      "execution_count": null,
      "outputs": []
    },
    {
      "cell_type": "code",
      "metadata": {
        "id": "NBhkwPSHyhgV"
      },
      "source": [
        "libraries['latitudine'] = pd.to_numeric(libraries.latitudine.str.replace(\",\",\".\"))\n",
        "libraries.longitudine = pd.to_numeric(libraries.longitudine.str.replace(\",\",\".\"))"
      ],
      "execution_count": null,
      "outputs": []
    },
    {
      "cell_type": "code",
      "metadata": {
        "id": "mguVLX5PzXfi"
      },
      "source": [
        "libraries = libraries[libraries.latitudine.isnull() == False]"
      ],
      "execution_count": null,
      "outputs": []
    },
    {
      "cell_type": "code",
      "metadata": {
        "id": "3dgnDdfjznD2"
      },
      "source": [
        "geo_libraries = gpd.GeoDataFrame(\n",
        "    libraries,\n",
        "    crs='EPSG:4326',\n",
        "    geometry=gpd.points_from_xy(libraries.longitudine, libraries.latitudine))"
      ],
      "execution_count": null,
      "outputs": []
    },
    {
      "cell_type": "code",
      "metadata": {
        "id": "ciKhbof83Xql",
        "outputId": "23ec51e6-0c29-4c6b-d44e-0dc2962aa121",
        "colab": {
          "base_uri": "https://localhost:8080/"
        }
      },
      "source": [
        "geo_libraries[geo_libraries.within(aroud_trento_area)].comune.unique()"
      ],
      "execution_count": null,
      "outputs": [
        {
          "output_type": "execute_result",
          "data": {
            "text/plain": [
              "array(['Albiano', 'Aldeno', 'Baselga di Pinè', 'Cavedine', 'Civezzano',\n",
              "       'Madruzzo', 'Lavis', 'Trento', 'Altopiano della Vigolana',\n",
              "       'Pergine Valsugana', 'Villa Lagarina', 'Besenello', 'Cimone',\n",
              "       'Garniga Terme', 'Giovo', 'Vallelaghi', \"Terre d'Adige\"],\n",
              "      dtype=object)"
            ]
          },
          "metadata": {
            "tags": []
          },
          "execution_count": 32
        }
      ]
    },
    {
      "cell_type": "markdown",
      "metadata": {
        "id": "EBn1LtUHaIdq"
      },
      "source": [
        ""
      ]
    },
    {
      "cell_type": "markdown",
      "metadata": {
        "id": "SlmpW8av_rtd"
      },
      "source": [
        "note: \n",
        "\n",
        "the answer confirms that there are a lot of *bad* latitude and longitude in the *dataset*\n",
        "\n",
        "Eg: Baselga di Pinè, Terre d'Adige and Madruzzo aren't bordering with Trento\n",
        "\n",
        "**We consire valid the dataset only for the geometries for educational purpouse**\n"
      ]
    },
    {
      "cell_type": "code",
      "metadata": {
        "id": "VLqaNg4t3p02"
      },
      "source": [
        "libraries_in_macroarea = geo_libraries[geo_libraries.within(aroud_trento_area)]"
      ],
      "execution_count": null,
      "outputs": []
    },
    {
      "cell_type": "code",
      "metadata": {
        "id": "PXhZRl_1BjRj",
        "outputId": "7589ec78-8596-4d40-f613-9839991dc1c0",
        "colab": {
          "base_uri": "https://localhost:8080/",
          "height": 121
        }
      },
      "source": [
        "libraries_in_macroarea.geometry.unary_union"
      ],
      "execution_count": null,
      "outputs": [
        {
          "output_type": "execute_result",
          "data": {
            "text/plain": [
              "<shapely.geometry.multipoint.MultiPoint at 0x7f9b9dc45358>"
            ],
            "image/svg+xml": "<svg xmlns=\"http://www.w3.org/2000/svg\" xmlns:xlink=\"http://www.w3.org/1999/xlink\" width=\"100.0\" height=\"100.0\" viewBox=\"10.940710756000001 45.904020456 0.31551238799999837 0.2664322880000043\" preserveAspectRatio=\"xMinYMin meet\"><g transform=\"matrix(1,0,0,-1,0,92.0744732)\"><g><circle cx=\"10.952396400000001\" cy=\"46.0471114\" r=\"0.00946537163999995\" stroke=\"#555555\" stroke-width=\"0.0031551238799999836\" fill=\"#66cc99\" opacity=\"0.6\" /><circle cx=\"10.971086099999999\" cy=\"45.9932857\" r=\"0.00946537163999995\" stroke=\"#555555\" stroke-width=\"0.0031551238799999836\" fill=\"#66cc99\" opacity=\"0.6\" /><circle cx=\"10.9804751\" cy=\"45.9773309\" r=\"0.00946537163999995\" stroke=\"#555555\" stroke-width=\"0.0031551238799999836\" fill=\"#66cc99\" opacity=\"0.6\" /><circle cx=\"10.982631199999998\" cy=\"46.0240381\" r=\"0.00946537163999995\" stroke=\"#555555\" stroke-width=\"0.0031551238799999836\" fill=\"#66cc99\" opacity=\"0.6\" /><circle cx=\"10.9832784\" cy=\"46.045601500000004\" r=\"0.00946537163999995\" stroke=\"#555555\" stroke-width=\"0.0031551238799999836\" fill=\"#66cc99\" opacity=\"0.6\" /><circle cx=\"10.988012300000001\" cy=\"46.0616752\" r=\"0.00946537163999995\" stroke=\"#555555\" stroke-width=\"0.0031551238799999836\" fill=\"#66cc99\" opacity=\"0.6\" /><circle cx=\"11.000475\" cy=\"46.07862\" r=\"0.00946537163999995\" stroke=\"#555555\" stroke-width=\"0.0031551238799999836\" fill=\"#66cc99\" opacity=\"0.6\" /><circle cx=\"11.0011645\" cy=\"46.07985\" r=\"0.00946537163999995\" stroke=\"#555555\" stroke-width=\"0.0031551238799999836\" fill=\"#66cc99\" opacity=\"0.6\" /><circle cx=\"11.031704300000001\" cy=\"45.9157061\" r=\"0.00946537163999995\" stroke=\"#555555\" stroke-width=\"0.0031551238799999836\" fill=\"#66cc99\" opacity=\"0.6\" /><circle cx=\"11.059819099999999\" cy=\"46.071704\" r=\"0.00946537163999995\" stroke=\"#555555\" stroke-width=\"0.0031551238799999836\" fill=\"#66cc99\" opacity=\"0.6\" /><circle cx=\"11.062968199999998\" cy=\"46.0857223\" r=\"0.00946537163999995\" stroke=\"#555555\" stroke-width=\"0.0031551238799999836\" fill=\"#66cc99\" opacity=\"0.6\" /><circle cx=\"11.0700402\" cy=\"45.98184570000001\" r=\"0.00946537163999995\" stroke=\"#555555\" stroke-width=\"0.0031551238799999836\" fill=\"#66cc99\" opacity=\"0.6\" /><circle cx=\"11.0860508\" cy=\"46.0011967\" r=\"0.00946537163999995\" stroke=\"#555555\" stroke-width=\"0.0031551238799999836\" fill=\"#66cc99\" opacity=\"0.6\" /><circle cx=\"11.090589999999999\" cy=\"45.9776331\" r=\"0.00946537163999995\" stroke=\"#555555\" stroke-width=\"0.0031551238799999836\" fill=\"#66cc99\" opacity=\"0.6\" /><circle cx=\"11.0945774\" cy=\"45.9766217\" r=\"0.00946537163999995\" stroke=\"#555555\" stroke-width=\"0.0031551238799999836\" fill=\"#66cc99\" opacity=\"0.6\" /><circle cx=\"11.0973529\" cy=\"46.1517608\" r=\"0.00946537163999995\" stroke=\"#555555\" stroke-width=\"0.0031551238799999836\" fill=\"#66cc99\" opacity=\"0.6\" /><circle cx=\"11.1053034\" cy=\"46.0371784\" r=\"0.00946537163999995\" stroke=\"#555555\" stroke-width=\"0.0031551238799999836\" fill=\"#66cc99\" opacity=\"0.6\" /><circle cx=\"11.1059023\" cy=\"46.017181799999996\" r=\"0.00946537163999995\" stroke=\"#555555\" stroke-width=\"0.0031551238799999836\" fill=\"#66cc99\" opacity=\"0.6\" /><circle cx=\"11.1097104\" cy=\"46.0883211\" r=\"0.00946537163999995\" stroke=\"#555555\" stroke-width=\"0.0031551238799999836\" fill=\"#66cc99\" opacity=\"0.6\" /><circle cx=\"11.112065199999998\" cy=\"46.1069336\" r=\"0.00946537163999995\" stroke=\"#555555\" stroke-width=\"0.0031551238799999836\" fill=\"#66cc99\" opacity=\"0.6\" /><circle cx=\"11.1136302\" cy=\"46.1382383\" r=\"0.00946537163999995\" stroke=\"#555555\" stroke-width=\"0.0031551238799999836\" fill=\"#66cc99\" opacity=\"0.6\" /><circle cx=\"11.115386500000001\" cy=\"46.09209439999999\" r=\"0.00946537163999995\" stroke=\"#555555\" stroke-width=\"0.0031551238799999836\" fill=\"#66cc99\" opacity=\"0.6\" /><circle cx=\"11.1156484\" cy=\"46.066345500000004\" r=\"0.00946537163999995\" stroke=\"#555555\" stroke-width=\"0.0031551238799999836\" fill=\"#66cc99\" opacity=\"0.6\" /><circle cx=\"11.1167189\" cy=\"46.1270989\" r=\"0.00946537163999995\" stroke=\"#555555\" stroke-width=\"0.0031551238799999836\" fill=\"#66cc99\" opacity=\"0.6\" /><circle cx=\"11.116866\" cy=\"46.0713523\" r=\"0.00946537163999995\" stroke=\"#555555\" stroke-width=\"0.0031551238799999836\" fill=\"#66cc99\" opacity=\"0.6\" /><circle cx=\"11.118169\" cy=\"46.0674137\" r=\"0.00946537163999995\" stroke=\"#555555\" stroke-width=\"0.0031551238799999836\" fill=\"#66cc99\" opacity=\"0.6\" /><circle cx=\"11.118526699999999\" cy=\"46.0741724\" r=\"0.00946537163999995\" stroke=\"#555555\" stroke-width=\"0.0031551238799999836\" fill=\"#66cc99\" opacity=\"0.6\" /><circle cx=\"11.118642800000002\" cy=\"46.0683966\" r=\"0.00946537163999995\" stroke=\"#555555\" stroke-width=\"0.0031551238799999836\" fill=\"#66cc99\" opacity=\"0.6\" /><circle cx=\"11.1196407\" cy=\"46.066763\" r=\"0.00946537163999995\" stroke=\"#555555\" stroke-width=\"0.0031551238799999836\" fill=\"#66cc99\" opacity=\"0.6\" /><circle cx=\"11.1203625\" cy=\"46.063566200000004\" r=\"0.00946537163999995\" stroke=\"#555555\" stroke-width=\"0.0031551238799999836\" fill=\"#66cc99\" opacity=\"0.6\" /><circle cx=\"11.1207899\" cy=\"46.0697505\" r=\"0.00946537163999995\" stroke=\"#555555\" stroke-width=\"0.0031551238799999836\" fill=\"#66cc99\" opacity=\"0.6\" /><circle cx=\"11.1210039\" cy=\"46.0696678\" r=\"0.00946537163999995\" stroke=\"#555555\" stroke-width=\"0.0031551238799999836\" fill=\"#66cc99\" opacity=\"0.6\" /><circle cx=\"11.121597\" cy=\"46.06284829999999\" r=\"0.00946537163999995\" stroke=\"#555555\" stroke-width=\"0.0031551238799999836\" fill=\"#66cc99\" opacity=\"0.6\" /><circle cx=\"11.1217289\" cy=\"46.067186\" r=\"0.00946537163999995\" stroke=\"#555555\" stroke-width=\"0.0031551238799999836\" fill=\"#66cc99\" opacity=\"0.6\" /><circle cx=\"11.1218254\" cy=\"46.0732112\" r=\"0.00946537163999995\" stroke=\"#555555\" stroke-width=\"0.0031551238799999836\" fill=\"#66cc99\" opacity=\"0.6\" /><circle cx=\"11.1221533\" cy=\"46.0746387\" r=\"0.00946537163999995\" stroke=\"#555555\" stroke-width=\"0.0031551238799999836\" fill=\"#66cc99\" opacity=\"0.6\" /><circle cx=\"11.122553300000002\" cy=\"46.071693100000005\" r=\"0.00946537163999995\" stroke=\"#555555\" stroke-width=\"0.0031551238799999836\" fill=\"#66cc99\" opacity=\"0.6\" /><circle cx=\"11.1228486\" cy=\"46.069925399999995\" r=\"0.00946537163999995\" stroke=\"#555555\" stroke-width=\"0.0031551238799999836\" fill=\"#66cc99\" opacity=\"0.6\" /><circle cx=\"11.123092199999999\" cy=\"46.07409929999999\" r=\"0.00946537163999995\" stroke=\"#555555\" stroke-width=\"0.0031551238799999836\" fill=\"#66cc99\" opacity=\"0.6\" /><circle cx=\"11.123271699999998\" cy=\"46.0699422\" r=\"0.00946537163999995\" stroke=\"#555555\" stroke-width=\"0.0031551238799999836\" fill=\"#66cc99\" opacity=\"0.6\" /><circle cx=\"11.1236871\" cy=\"46.060697999999995\" r=\"0.00946537163999995\" stroke=\"#555555\" stroke-width=\"0.0031551238799999836\" fill=\"#66cc99\" opacity=\"0.6\" /><circle cx=\"11.1239162\" cy=\"46.061812200000006\" r=\"0.00946537163999995\" stroke=\"#555555\" stroke-width=\"0.0031551238799999836\" fill=\"#66cc99\" opacity=\"0.6\" /><circle cx=\"11.1243443\" cy=\"46.0653509\" r=\"0.00946537163999995\" stroke=\"#555555\" stroke-width=\"0.0031551238799999836\" fill=\"#66cc99\" opacity=\"0.6\" /><circle cx=\"11.1244107\" cy=\"46.0627342\" r=\"0.00946537163999995\" stroke=\"#555555\" stroke-width=\"0.0031551238799999836\" fill=\"#66cc99\" opacity=\"0.6\" /><circle cx=\"11.124419999999999\" cy=\"46.066475\" r=\"0.00946537163999995\" stroke=\"#555555\" stroke-width=\"0.0031551238799999836\" fill=\"#66cc99\" opacity=\"0.6\" /><circle cx=\"11.1244888\" cy=\"46.0671047\" r=\"0.00946537163999995\" stroke=\"#555555\" stroke-width=\"0.0031551238799999836\" fill=\"#66cc99\" opacity=\"0.6\" /><circle cx=\"11.1247362\" cy=\"46.0646333\" r=\"0.00946537163999995\" stroke=\"#555555\" stroke-width=\"0.0031551238799999836\" fill=\"#66cc99\" opacity=\"0.6\" /><circle cx=\"11.126158300000002\" cy=\"46.0717312\" r=\"0.00946537163999995\" stroke=\"#555555\" stroke-width=\"0.0031551238799999836\" fill=\"#66cc99\" opacity=\"0.6\" /><circle cx=\"11.1263276\" cy=\"46.0683036\" r=\"0.00946537163999995\" stroke=\"#555555\" stroke-width=\"0.0031551238799999836\" fill=\"#66cc99\" opacity=\"0.6\" /><circle cx=\"11.1264232\" cy=\"46.0712839\" r=\"0.00946537163999995\" stroke=\"#555555\" stroke-width=\"0.0031551238799999836\" fill=\"#66cc99\" opacity=\"0.6\" /><circle cx=\"11.126688\" cy=\"46.0708365\" r=\"0.00946537163999995\" stroke=\"#555555\" stroke-width=\"0.0031551238799999836\" fill=\"#66cc99\" opacity=\"0.6\" /><circle cx=\"11.12792\" cy=\"46.06304960000001\" r=\"0.00946537163999995\" stroke=\"#555555\" stroke-width=\"0.0031551238799999836\" fill=\"#66cc99\" opacity=\"0.6\" /><circle cx=\"11.128359300000001\" cy=\"46.051868799999994\" r=\"0.00946537163999995\" stroke=\"#555555\" stroke-width=\"0.0031551238799999836\" fill=\"#66cc99\" opacity=\"0.6\" /><circle cx=\"11.1283852\" cy=\"46.00602670000001\" r=\"0.00946537163999995\" stroke=\"#555555\" stroke-width=\"0.0031551238799999836\" fill=\"#66cc99\" opacity=\"0.6\" /><circle cx=\"11.129969000000001\" cy=\"46.0755874\" r=\"0.00946537163999995\" stroke=\"#555555\" stroke-width=\"0.0031551238799999836\" fill=\"#66cc99\" opacity=\"0.6\" /><circle cx=\"11.131599000000001\" cy=\"46.090625\" r=\"0.00946537163999995\" stroke=\"#555555\" stroke-width=\"0.0031551238799999836\" fill=\"#66cc99\" opacity=\"0.6\" /><circle cx=\"11.1323245\" cy=\"46.06889210000001\" r=\"0.00946537163999995\" stroke=\"#555555\" stroke-width=\"0.0031551238799999836\" fill=\"#66cc99\" opacity=\"0.6\" /><circle cx=\"11.133355\" cy=\"46.040591\" r=\"0.00946537163999995\" stroke=\"#555555\" stroke-width=\"0.0031551238799999836\" fill=\"#66cc99\" opacity=\"0.6\" /><circle cx=\"11.1346961\" cy=\"46.0654071\" r=\"0.00946537163999995\" stroke=\"#555555\" stroke-width=\"0.0031551238799999836\" fill=\"#66cc99\" opacity=\"0.6\" /><circle cx=\"11.139383800000001\" cy=\"46.0540044\" r=\"0.00946537163999995\" stroke=\"#555555\" stroke-width=\"0.0031551238799999836\" fill=\"#66cc99\" opacity=\"0.6\" /><circle cx=\"11.140686267459161\" cy=\"46.043695380054245\" r=\"0.00946537163999995\" stroke=\"#555555\" stroke-width=\"0.0031551238799999836\" fill=\"#66cc99\" opacity=\"0.6\" /><circle cx=\"11.143429199999998\" cy=\"46.074447\" r=\"0.00946537163999995\" stroke=\"#555555\" stroke-width=\"0.0031551238799999836\" fill=\"#66cc99\" opacity=\"0.6\" /><circle cx=\"11.14485\" cy=\"46.10794\" r=\"0.00946537163999995\" stroke=\"#555555\" stroke-width=\"0.0031551238799999836\" fill=\"#66cc99\" opacity=\"0.6\" /><circle cx=\"11.14555\" cy=\"46.04786\" r=\"0.00946537163999995\" stroke=\"#555555\" stroke-width=\"0.0031551238799999836\" fill=\"#66cc99\" opacity=\"0.6\" /><circle cx=\"11.145905099999998\" cy=\"46.0490485\" r=\"0.00946537163999995\" stroke=\"#555555\" stroke-width=\"0.0031551238799999836\" fill=\"#66cc99\" opacity=\"0.6\" /><circle cx=\"11.1519847\" cy=\"46.0642652\" r=\"0.00946537163999995\" stroke=\"#555555\" stroke-width=\"0.0031551238799999836\" fill=\"#66cc99\" opacity=\"0.6\" /><circle cx=\"11.155707099999999\" cy=\"46.158767100000006\" r=\"0.00946537163999995\" stroke=\"#555555\" stroke-width=\"0.0031551238799999836\" fill=\"#66cc99\" opacity=\"0.6\" /><circle cx=\"11.181733900000001\" cy=\"46.088196\" r=\"0.00946537163999995\" stroke=\"#555555\" stroke-width=\"0.0031551238799999836\" fill=\"#66cc99\" opacity=\"0.6\" /><circle cx=\"11.196102400000001\" cy=\"46.144176\" r=\"0.00946537163999995\" stroke=\"#555555\" stroke-width=\"0.0031551238799999836\" fill=\"#66cc99\" opacity=\"0.6\" /><circle cx=\"11.1978004\" cy=\"46.005032799999995\" r=\"0.00946537163999995\" stroke=\"#555555\" stroke-width=\"0.0031551238799999836\" fill=\"#66cc99\" opacity=\"0.6\" /><circle cx=\"11.21976\" cy=\"45.99372\" r=\"0.00946537163999995\" stroke=\"#555555\" stroke-width=\"0.0031551238799999836\" fill=\"#66cc99\" opacity=\"0.6\" /><circle cx=\"11.223422300000001\" cy=\"46.0017124\" r=\"0.00946537163999995\" stroke=\"#555555\" stroke-width=\"0.0031551238799999836\" fill=\"#66cc99\" opacity=\"0.6\" /><circle cx=\"11.238681\" cy=\"46.0601066\" r=\"0.00946537163999995\" stroke=\"#555555\" stroke-width=\"0.0031551238799999836\" fill=\"#66cc99\" opacity=\"0.6\" /><circle cx=\"11.2428805\" cy=\"46.0625393\" r=\"0.00946537163999995\" stroke=\"#555555\" stroke-width=\"0.0031551238799999836\" fill=\"#66cc99\" opacity=\"0.6\" /><circle cx=\"11.2445375\" cy=\"46.06319509999999\" r=\"0.00946537163999995\" stroke=\"#555555\" stroke-width=\"0.0031551238799999836\" fill=\"#66cc99\" opacity=\"0.6\" /></g></g></svg>"
          },
          "metadata": {
            "tags": []
          },
          "execution_count": 34
        }
      ]
    },
    {
      "cell_type": "markdown",
      "metadata": {
        "id": "XwT0VETcW-TQ"
      },
      "source": [
        "## step 2 - obtain a layer with the areas (circles) of 500m radius from each libraries in macroarea"
      ]
    },
    {
      "cell_type": "markdown",
      "metadata": {
        "id": "lbJhdHBABrGm"
      },
      "source": [
        "we need to calculate the distance in **meters**"
      ]
    },
    {
      "cell_type": "code",
      "metadata": {
        "id": "rF56r_BeBuLQ"
      },
      "source": [
        "libraries_in_macroarea = libraries_in_macroarea.to_crs(epsg=32632)"
      ],
      "execution_count": null,
      "outputs": []
    },
    {
      "cell_type": "code",
      "metadata": {
        "id": "SdGsbudcVOK9"
      },
      "source": [
        "libraries_in_macroarea_500 =  libraries_in_macroarea"
      ],
      "execution_count": null,
      "outputs": []
    },
    {
      "cell_type": "code",
      "metadata": {
        "id": "G1pYsBuBVUo6"
      },
      "source": [
        "libraries_in_macroarea_500['geometry'] = libraries_in_macroarea.buffer(500)"
      ],
      "execution_count": null,
      "outputs": []
    },
    {
      "cell_type": "code",
      "metadata": {
        "id": "-UOan5kGCWh7",
        "outputId": "34516d0b-5b4d-43e5-a9eb-a646ed3e6253",
        "colab": {
          "base_uri": "https://localhost:8080/",
          "height": 293
        }
      },
      "source": [
        "libraries_in_macroarea_500.plot()"
      ],
      "execution_count": null,
      "outputs": [
        {
          "output_type": "execute_result",
          "data": {
            "text/plain": [
              "<matplotlib.axes._subplots.AxesSubplot at 0x7f9b958f9ac8>"
            ]
          },
          "metadata": {
            "tags": []
          },
          "execution_count": 38
        },
        {
          "output_type": "display_data",
          "data": {
            "image/png": "[encoded data removed]",
            "text/plain": [
              "<Figure size 432x288 with 1 Axes>"
            ]
          },
          "metadata": {
            "tags": [],
            "needs_background": "light"
          }
        }
      ]
    },
    {
      "cell_type": "markdown",
      "metadata": {
        "id": "Jpr2WcKbXH7Z"
      },
      "source": [
        "## step 3 - calculate how many lbiraries are 500m close to each phamarcy into macroarea"
      ]
    },
    {
      "cell_type": "code",
      "metadata": {
        "id": "RrCG3tfPYOvP"
      },
      "source": [
        "libraries500m_from_phamarcies = gpd.sjoin(libraries_in_macroarea_500 ,geo_phamarcies.to_crs(epsg=32632), how='inner', op='contains', lsuffix='library', rsuffix='pharmacy')"
      ],
      "execution_count": null,
      "outputs": []
    },
    {
      "cell_type": "code",
      "metadata": {
        "id": "LbU37GSBZjYB",
        "outputId": "a4f44a13-a34c-4188-c25a-553e64392a66",
        "colab": {
          "base_uri": "https://localhost:8080/",
          "height": 1000
        }
      },
      "source": [
        "libraries500m_from_phamarcies"
      ],
      "execution_count": null,
      "outputs": [
        {
          "output_type": "execute_result",
          "data": {
            "text/html": [
              "<div>\n",
              "<style scoped>\n",
              "    .dataframe tbody tr th:only-of-type {\n",
              "        vertical-align: middle;\n",
              "    }\n",
              "\n",
              "    .dataframe tbody tr th {\n",
              "        vertical-align: top;\n",
              "    }\n",
              "\n",
              "    .dataframe thead th {\n",
              "        text-align: right;\n",
              "    }\n",
              "</style>\n",
              "<table border=\"1\" class=\"dataframe\">\n",
              "  <thead>\n",
              "    <tr style=\"text-align: right;\">\n",
              "      <th></th>\n",
              "      <th>codice-isil</th>\n",
              "      <th>codice-sbn</th>\n",
              "      <th>denominazione</th>\n",
              "      <th>indirizzo</th>\n",
              "      <th>frazione</th>\n",
              "      <th>cap</th>\n",
              "      <th>comune</th>\n",
              "      <th>codice istat comune</th>\n",
              "      <th>provincia</th>\n",
              "      <th>regione</th>\n",
              "      <th>codice istat provincia</th>\n",
              "      <th>latitudine</th>\n",
              "      <th>longitudine</th>\n",
              "      <th>telefono</th>\n",
              "      <th>fax</th>\n",
              "      <th>email</th>\n",
              "      <th>url</th>\n",
              "      <th>geometry</th>\n",
              "      <th>index_pharmacy</th>\n",
              "      <th>COD_FARMACIA_OD</th>\n",
              "      <th>COD_FARMACIA</th>\n",
              "      <th>FARMACIA</th>\n",
              "      <th>IVA</th>\n",
              "      <th>CAP</th>\n",
              "      <th>COD_COMUNE</th>\n",
              "      <th>COMUNE</th>\n",
              "      <th>FRAZIONE</th>\n",
              "      <th>COD_PROVINCIA</th>\n",
              "      <th>PROVINCIA</th>\n",
              "      <th>COD_REGIONE</th>\n",
              "      <th>REGIONE</th>\n",
              "      <th>DATA_INIZIO</th>\n",
              "      <th>INDIRIZZO</th>\n",
              "      <th>TIPOLOGIA</th>\n",
              "      <th>LATITUDINE_P</th>\n",
              "      <th>LONGITUDINE_P</th>\n",
              "      <th>LATITUDINE_V</th>\n",
              "      <th>LONGITUDINE_V</th>\n",
              "    </tr>\n",
              "  </thead>\n",
              "  <tbody>\n",
              "    <tr>\n",
              "      <th>9851</th>\n",
              "      <td>IT-TN0005</td>\n",
              "      <td>NaN</td>\n",
              "      <td>Biblioteca Comunale di Albiano</td>\n",
              "      <td>via Pisetta 2</td>\n",
              "      <td>NaN</td>\n",
              "      <td>38041.0</td>\n",
              "      <td>Albiano</td>\n",
              "      <td>22002</td>\n",
              "      <td>Trento</td>\n",
              "      <td>TRENTINO-ALTO ADIGE/SÜDTIROL</td>\n",
              "      <td>22</td>\n",
              "      <td>46.144176</td>\n",
              "      <td>11.196102</td>\n",
              "      <td>+390461689033</td>\n",
              "      <td>NaN</td>\n",
              "      <td>NaN</td>\n",
              "      <td>NaN</td>\n",
              "      <td>POLYGON ((670105.475 5112411.036, 670103.068 5...</td>\n",
              "      <td>31</td>\n",
              "      <td>FAR042101004192</td>\n",
              "      <td>4192</td>\n",
              "      <td>CREMONESI</td>\n",
              "      <td>00828140228</td>\n",
              "      <td>38041</td>\n",
              "      <td>22002</td>\n",
              "      <td>ALBIANO</td>\n",
              "      <td>-</td>\n",
              "      <td>TN</td>\n",
              "      <td>TRENTO</td>\n",
              "      <td>42</td>\n",
              "      <td>PROV. AUTON. TRENTO</td>\n",
              "      <td>2013-03-01</td>\n",
              "      <td>VIA ROMA, 17A</td>\n",
              "      <td>ORDINARIA</td>\n",
              "      <td>46.144967</td>\n",
              "      <td>11.200060</td>\n",
              "      <td>46,1449671070267</td>\n",
              "      <td>11,2000600793698</td>\n",
              "    </tr>\n",
              "    <tr>\n",
              "      <th>9855</th>\n",
              "      <td>IT-TN0014</td>\n",
              "      <td>NaN</td>\n",
              "      <td>Biblioteca Pubblica Comunale di Baselga di Pinè</td>\n",
              "      <td>via del 26 Maggio 10</td>\n",
              "      <td>NaN</td>\n",
              "      <td>38042.0</td>\n",
              "      <td>Baselga di Pinè</td>\n",
              "      <td>22009</td>\n",
              "      <td>Trento</td>\n",
              "      <td>TRENTINO-ALTO ADIGE/SÜDTIROL</td>\n",
              "      <td>22</td>\n",
              "      <td>46.062539</td>\n",
              "      <td>11.242881</td>\n",
              "      <td>+390461557951</td>\n",
              "      <td>NaN</td>\n",
              "      <td>NaN</td>\n",
              "      <td>NaN</td>\n",
              "      <td>POLYGON ((673974.074 5103441.695, 673971.666 5...</td>\n",
              "      <td>13</td>\n",
              "      <td>FAR042101004174</td>\n",
              "      <td>4174</td>\n",
              "      <td>CRESCINI - DR.SSA TOGNANA</td>\n",
              "      <td>00051370229</td>\n",
              "      <td>38057</td>\n",
              "      <td>22139</td>\n",
              "      <td>PERGINE VALSUGANA</td>\n",
              "      <td>-</td>\n",
              "      <td>TN</td>\n",
              "      <td>TRENTO</td>\n",
              "      <td>42</td>\n",
              "      <td>PROV. AUTON. TRENTO</td>\n",
              "      <td>2005-01-01</td>\n",
              "      <td>PIAZZA SERRA, 8</td>\n",
              "      <td>ORDINARIA</td>\n",
              "      <td>46.061640</td>\n",
              "      <td>11.239847</td>\n",
              "      <td>46,0616404</td>\n",
              "      <td>11,2398474</td>\n",
              "    </tr>\n",
              "    <tr>\n",
              "      <th>9941</th>\n",
              "      <td>IT-TN0160</td>\n",
              "      <td>NaN</td>\n",
              "      <td>Biblioteca Pubblica Comunale di Pergine Valsugana</td>\n",
              "      <td>piazza Serra 11</td>\n",
              "      <td>NaN</td>\n",
              "      <td>38057.0</td>\n",
              "      <td>Pergine Valsugana</td>\n",
              "      <td>22139</td>\n",
              "      <td>Trento</td>\n",
              "      <td>TRENTINO-ALTO ADIGE/SÜDTIROL</td>\n",
              "      <td>22</td>\n",
              "      <td>46.060107</td>\n",
              "      <td>11.238681</td>\n",
              "      <td>+390461502390</td>\n",
              "      <td>+39 0461531755</td>\n",
              "      <td>NaN</td>\n",
              "      <td>NaN</td>\n",
              "      <td>POLYGON ((673656.881 5103162.258, 673654.473 5...</td>\n",
              "      <td>13</td>\n",
              "      <td>FAR042101004174</td>\n",
              "      <td>4174</td>\n",
              "      <td>CRESCINI - DR.SSA TOGNANA</td>\n",
              "      <td>00051370229</td>\n",
              "      <td>38057</td>\n",
              "      <td>22139</td>\n",
              "      <td>PERGINE VALSUGANA</td>\n",
              "      <td>-</td>\n",
              "      <td>TN</td>\n",
              "      <td>TRENTO</td>\n",
              "      <td>42</td>\n",
              "      <td>PROV. AUTON. TRENTO</td>\n",
              "      <td>2005-01-01</td>\n",
              "      <td>PIAZZA SERRA, 8</td>\n",
              "      <td>ORDINARIA</td>\n",
              "      <td>46.061640</td>\n",
              "      <td>11.239847</td>\n",
              "      <td>46,0616404</td>\n",
              "      <td>11,2398474</td>\n",
              "    </tr>\n",
              "    <tr>\n",
              "      <th>10031</th>\n",
              "      <td>IT-TN0588</td>\n",
              "      <td>NaN</td>\n",
              "      <td>Biblioteca dell'Istituto di istruzione Marie C...</td>\n",
              "      <td>Via San Pietro, 4</td>\n",
              "      <td>NaN</td>\n",
              "      <td>38057.0</td>\n",
              "      <td>Pergine Valsugana</td>\n",
              "      <td>22139</td>\n",
              "      <td>Trento</td>\n",
              "      <td>TRENTINO-ALTO ADIGE/SÜDTIROL</td>\n",
              "      <td>22</td>\n",
              "      <td>46.063195</td>\n",
              "      <td>11.244537</td>\n",
              "      <td>+39 0461511397</td>\n",
              "      <td>NaN</td>\n",
              "      <td>biblioteca@curiepergine.it</td>\n",
              "      <td>https://www.curiepergine.edu.it/</td>\n",
              "      <td>POLYGON ((674100.175 5103518.174, 674097.767 5...</td>\n",
              "      <td>13</td>\n",
              "      <td>FAR042101004174</td>\n",
              "      <td>4174</td>\n",
              "      <td>CRESCINI - DR.SSA TOGNANA</td>\n",
              "      <td>00051370229</td>\n",
              "      <td>38057</td>\n",
              "      <td>22139</td>\n",
              "      <td>PERGINE VALSUGANA</td>\n",
              "      <td>-</td>\n",
              "      <td>TN</td>\n",
              "      <td>TRENTO</td>\n",
              "      <td>42</td>\n",
              "      <td>PROV. AUTON. TRENTO</td>\n",
              "      <td>2005-01-01</td>\n",
              "      <td>PIAZZA SERRA, 8</td>\n",
              "      <td>ORDINARIA</td>\n",
              "      <td>46.061640</td>\n",
              "      <td>11.239847</td>\n",
              "      <td>46,0616404</td>\n",
              "      <td>11,2398474</td>\n",
              "    </tr>\n",
              "    <tr>\n",
              "      <th>9855</th>\n",
              "      <td>IT-TN0014</td>\n",
              "      <td>NaN</td>\n",
              "      <td>Biblioteca Pubblica Comunale di Baselga di Pinè</td>\n",
              "      <td>via del 26 Maggio 10</td>\n",
              "      <td>NaN</td>\n",
              "      <td>38042.0</td>\n",
              "      <td>Baselga di Pinè</td>\n",
              "      <td>22009</td>\n",
              "      <td>Trento</td>\n",
              "      <td>TRENTINO-ALTO ADIGE/SÜDTIROL</td>\n",
              "      <td>22</td>\n",
              "      <td>46.062539</td>\n",
              "      <td>11.242881</td>\n",
              "      <td>+390461557951</td>\n",
              "      <td>NaN</td>\n",
              "      <td>NaN</td>\n",
              "      <td>NaN</td>\n",
              "      <td>POLYGON ((673974.074 5103441.695, 673971.666 5...</td>\n",
              "      <td>67</td>\n",
              "      <td>FAR042101004228</td>\n",
              "      <td>4228</td>\n",
              "      <td>DE VARDA</td>\n",
              "      <td>00182490227</td>\n",
              "      <td>38057</td>\n",
              "      <td>22139</td>\n",
              "      <td>PERGINE VALSUGANA</td>\n",
              "      <td>-</td>\n",
              "      <td>TN</td>\n",
              "      <td>TRENTO</td>\n",
              "      <td>42</td>\n",
              "      <td>PROV. AUTON. TRENTO</td>\n",
              "      <td>2009-09-01</td>\n",
              "      <td>VIA CESARE BATTISTI, 26</td>\n",
              "      <td>ORDINARIA</td>\n",
              "      <td>46.061640</td>\n",
              "      <td>11.239847</td>\n",
              "      <td>46,0616404</td>\n",
              "      <td>11,2398474</td>\n",
              "    </tr>\n",
              "    <tr>\n",
              "      <th>...</th>\n",
              "      <td>...</td>\n",
              "      <td>...</td>\n",
              "      <td>...</td>\n",
              "      <td>...</td>\n",
              "      <td>...</td>\n",
              "      <td>...</td>\n",
              "      <td>...</td>\n",
              "      <td>...</td>\n",
              "      <td>...</td>\n",
              "      <td>...</td>\n",
              "      <td>...</td>\n",
              "      <td>...</td>\n",
              "      <td>...</td>\n",
              "      <td>...</td>\n",
              "      <td>...</td>\n",
              "      <td>...</td>\n",
              "      <td>...</td>\n",
              "      <td>...</td>\n",
              "      <td>...</td>\n",
              "      <td>...</td>\n",
              "      <td>...</td>\n",
              "      <td>...</td>\n",
              "      <td>...</td>\n",
              "      <td>...</td>\n",
              "      <td>...</td>\n",
              "      <td>...</td>\n",
              "      <td>...</td>\n",
              "      <td>...</td>\n",
              "      <td>...</td>\n",
              "      <td>...</td>\n",
              "      <td>...</td>\n",
              "      <td>...</td>\n",
              "      <td>...</td>\n",
              "      <td>...</td>\n",
              "      <td>...</td>\n",
              "      <td>...</td>\n",
              "      <td>...</td>\n",
              "      <td>...</td>\n",
              "    </tr>\n",
              "    <tr>\n",
              "      <th>9985</th>\n",
              "      <td>IT-TN0214</td>\n",
              "      <td>NaN</td>\n",
              "      <td>CONSIGLIO PER LA RICERCA IN AGRICOLTURA E ANAL...</td>\n",
              "      <td>piazza NICOLINI 6</td>\n",
              "      <td>NaN</td>\n",
              "      <td>38100.0</td>\n",
              "      <td>Trento</td>\n",
              "      <td>22205</td>\n",
              "      <td>Trento</td>\n",
              "      <td>TRENTINO-ALTO ADIGE/SÜDTIROL</td>\n",
              "      <td>22</td>\n",
              "      <td>46.049048</td>\n",
              "      <td>11.145905</td>\n",
              "      <td>0461381111</td>\n",
              "      <td>+39 0461381131</td>\n",
              "      <td>NaN</td>\n",
              "      <td>WWW.CREA.GOV.IT</td>\n",
              "      <td>POLYGON ((666514.146 5101735.841, 666511.738 5...</td>\n",
              "      <td>30</td>\n",
              "      <td>FAR042101004191</td>\n",
              "      <td>4191</td>\n",
              "      <td>VILLAZZANO DI BOLEGO PAOLO</td>\n",
              "      <td>01856020225</td>\n",
              "      <td>38123</td>\n",
              "      <td>22205</td>\n",
              "      <td>TRENTO</td>\n",
              "      <td>VILLAZZANO</td>\n",
              "      <td>TN</td>\n",
              "      <td>TRENTO</td>\n",
              "      <td>42</td>\n",
              "      <td>PROV. AUTON. TRENTO</td>\n",
              "      <td>2017-02-01</td>\n",
              "      <td>VIA TAMBOSI, 2</td>\n",
              "      <td>ORDINARIA</td>\n",
              "      <td>46.049783</td>\n",
              "      <td>11.143982</td>\n",
              "      <td>46,0497829</td>\n",
              "      <td>11,1439821</td>\n",
              "    </tr>\n",
              "    <tr>\n",
              "      <th>9992</th>\n",
              "      <td>IT-TN0227</td>\n",
              "      <td>NaN</td>\n",
              "      <td>Biblioteca Pubblica Comunale di Giovo</td>\n",
              "      <td>via Grec 2</td>\n",
              "      <td>NaN</td>\n",
              "      <td>38030.0</td>\n",
              "      <td>Giovo</td>\n",
              "      <td>22092</td>\n",
              "      <td>Trento</td>\n",
              "      <td>TRENTINO-ALTO ADIGE/SÜDTIROL</td>\n",
              "      <td>22</td>\n",
              "      <td>46.158767</td>\n",
              "      <td>11.155707</td>\n",
              "      <td>+390461684735</td>\n",
              "      <td>NaN</td>\n",
              "      <td>NaN</td>\n",
              "      <td>NaN</td>\n",
              "      <td>POLYGON ((666941.786 5113946.733, 666939.378 5...</td>\n",
              "      <td>69</td>\n",
              "      <td>FAR042101004230</td>\n",
              "      <td>4230</td>\n",
              "      <td>BERNARDIN ANDREA</td>\n",
              "      <td>02443000225</td>\n",
              "      <td>38030</td>\n",
              "      <td>22092</td>\n",
              "      <td>GIOVO</td>\n",
              "      <td>VERLA</td>\n",
              "      <td>TN</td>\n",
              "      <td>TRENTO</td>\n",
              "      <td>42</td>\n",
              "      <td>PROV. AUTON. TRENTO</td>\n",
              "      <td>2017-07-01</td>\n",
              "      <td>VIA AI MOLINI, 1</td>\n",
              "      <td>ORDINARIA</td>\n",
              "      <td>46.155879</td>\n",
              "      <td>11.152455</td>\n",
              "      <td>46,1558787</td>\n",
              "      <td>11,1524547</td>\n",
              "    </tr>\n",
              "    <tr>\n",
              "      <th>10002</th>\n",
              "      <td>IT-TN0239</td>\n",
              "      <td>NaN</td>\n",
              "      <td>Punto di Lettura di Terlago</td>\n",
              "      <td>via Roma 10</td>\n",
              "      <td>NaN</td>\n",
              "      <td>38096.0</td>\n",
              "      <td>Vallelaghi</td>\n",
              "      <td>22248</td>\n",
              "      <td>Trento</td>\n",
              "      <td>TRENTINO-ALTO ADIGE/SÜDTIROL</td>\n",
              "      <td>22</td>\n",
              "      <td>46.079850</td>\n",
              "      <td>11.001164</td>\n",
              "      <td>+390461860150</td>\n",
              "      <td>NaN</td>\n",
              "      <td>NaN</td>\n",
              "      <td>NaN</td>\n",
              "      <td>POLYGON ((655230.604 5104866.192, 655228.196 5...</td>\n",
              "      <td>93</td>\n",
              "      <td>FAR042101004256</td>\n",
              "      <td>4256</td>\n",
              "      <td>TURAZZA LUIGI</td>\n",
              "      <td>01794470227</td>\n",
              "      <td>38070</td>\n",
              "      <td>22215</td>\n",
              "      <td>VEZZANO</td>\n",
              "      <td>-</td>\n",
              "      <td>TN</td>\n",
              "      <td>TRENTO</td>\n",
              "      <td>42</td>\n",
              "      <td>PROV. AUTON. TRENTO</td>\n",
              "      <td>2009-09-01</td>\n",
              "      <td>VIA ROMA, 1</td>\n",
              "      <td>ORDINARIA</td>\n",
              "      <td>46.077904</td>\n",
              "      <td>10.999122</td>\n",
              "      <td>46,0779043256191</td>\n",
              "      <td>10,9991219054545</td>\n",
              "    </tr>\n",
              "    <tr>\n",
              "      <th>10015</th>\n",
              "      <td>IT-TN0258</td>\n",
              "      <td>NaN</td>\n",
              "      <td>Biblioteca Pubblica Comunale Vallelaghi</td>\n",
              "      <td>piazza San Valentino 3</td>\n",
              "      <td>NaN</td>\n",
              "      <td>38096.0</td>\n",
              "      <td>Vallelaghi</td>\n",
              "      <td>22248</td>\n",
              "      <td>Trento</td>\n",
              "      <td>TRENTINO-ALTO ADIGE/SÜDTIROL</td>\n",
              "      <td>22</td>\n",
              "      <td>46.078620</td>\n",
              "      <td>11.000475</td>\n",
              "      <td>+390461340072</td>\n",
              "      <td>NaN</td>\n",
              "      <td>NaN</td>\n",
              "      <td>NaN</td>\n",
              "      <td>POLYGON ((655180.730 5104728.190, 655178.323 5...</td>\n",
              "      <td>93</td>\n",
              "      <td>FAR042101004256</td>\n",
              "      <td>4256</td>\n",
              "      <td>TURAZZA LUIGI</td>\n",
              "      <td>01794470227</td>\n",
              "      <td>38070</td>\n",
              "      <td>22215</td>\n",
              "      <td>VEZZANO</td>\n",
              "      <td>-</td>\n",
              "      <td>TN</td>\n",
              "      <td>TRENTO</td>\n",
              "      <td>42</td>\n",
              "      <td>PROV. AUTON. TRENTO</td>\n",
              "      <td>2009-09-01</td>\n",
              "      <td>VIA ROMA, 1</td>\n",
              "      <td>ORDINARIA</td>\n",
              "      <td>46.077904</td>\n",
              "      <td>10.999122</td>\n",
              "      <td>46,0779043256191</td>\n",
              "      <td>10,9991219054545</td>\n",
              "    </tr>\n",
              "    <tr>\n",
              "      <th>10008</th>\n",
              "      <td>IT-TN0246</td>\n",
              "      <td>NaN</td>\n",
              "      <td>Biblioteca del servizio statistica</td>\n",
              "      <td>Via Brennero, 316</td>\n",
              "      <td>NaN</td>\n",
              "      <td>38100.0</td>\n",
              "      <td>Trento</td>\n",
              "      <td>22205</td>\n",
              "      <td>Trento</td>\n",
              "      <td>TRENTINO-ALTO ADIGE/SÜDTIROL</td>\n",
              "      <td>22</td>\n",
              "      <td>46.092094</td>\n",
              "      <td>11.115387</td>\n",
              "      <td>+39 0461497805</td>\n",
              "      <td>NaN</td>\n",
              "      <td>NaN</td>\n",
              "      <td>NaN</td>\n",
              "      <td>POLYGON ((664025.939 5106455.240, 664023.531 5...</td>\n",
              "      <td>89</td>\n",
              "      <td>FAR042101004252</td>\n",
              "      <td>4252</td>\n",
              "      <td>AI SOLTERI-GADOTTI ANDREA &amp;C.SNC</td>\n",
              "      <td>00171990229</td>\n",
              "      <td>38121</td>\n",
              "      <td>22205</td>\n",
              "      <td>TRENTO</td>\n",
              "      <td>-</td>\n",
              "      <td>TN</td>\n",
              "      <td>TRENTO</td>\n",
              "      <td>42</td>\n",
              "      <td>PROV. AUTON. TRENTO</td>\n",
              "      <td>2013-03-01</td>\n",
              "      <td>VIA R. LUNELLI, 9</td>\n",
              "      <td>ORDINARIA</td>\n",
              "      <td>46.092117</td>\n",
              "      <td>11.117460</td>\n",
              "      <td>46,09211699999999</td>\n",
              "      <td>11,11746</td>\n",
              "    </tr>\n",
              "  </tbody>\n",
              "</table>\n",
              "<p>136 rows × 38 columns</p>\n",
              "</div>"
            ],
            "text/plain": [
              "      codice-isil codice-sbn  ...       LATITUDINE_V     LONGITUDINE_V\n",
              "9851    IT-TN0005        NaN  ...   46,1449671070267  11,2000600793698\n",
              "9855    IT-TN0014        NaN  ...         46,0616404        11,2398474\n",
              "9941    IT-TN0160        NaN  ...         46,0616404        11,2398474\n",
              "10031   IT-TN0588        NaN  ...         46,0616404        11,2398474\n",
              "9855    IT-TN0014        NaN  ...         46,0616404        11,2398474\n",
              "...           ...        ...  ...                ...               ...\n",
              "9985    IT-TN0214        NaN  ...         46,0497829        11,1439821\n",
              "9992    IT-TN0227        NaN  ...         46,1558787        11,1524547\n",
              "10002   IT-TN0239        NaN  ...   46,0779043256191  10,9991219054545\n",
              "10015   IT-TN0258        NaN  ...   46,0779043256191  10,9991219054545\n",
              "10008   IT-TN0246        NaN  ...  46,09211699999999          11,11746\n",
              "\n",
              "[136 rows x 38 columns]"
            ]
          },
          "metadata": {
            "tags": []
          },
          "execution_count": 40
        }
      ]
    },
    {
      "cell_type": "markdown",
      "metadata": {
        "id": "8GkkjjAVZxpa"
      },
      "source": [
        "**note:**\n",
        "\n",
        "... there are **bad values** about latitude and logitude in **both** original **datasets**"
      ]
    },
    {
      "cell_type": "code",
      "metadata": {
        "id": "-pY3CjLnZeED",
        "outputId": "34424c53-a7fa-4a97-e72d-d85c51b186e5",
        "colab": {
          "base_uri": "https://localhost:8080/",
          "height": 394
        }
      },
      "source": [
        "libraries500m_from_phamarcies.groupby('comune').size().to_frame(\"size\").sort_values(['size', 'comune'], ascending=[False,True])"
      ],
      "execution_count": null,
      "outputs": [
        {
          "output_type": "execute_result",
          "data": {
            "text/html": [
              "<div>\n",
              "<style scoped>\n",
              "    .dataframe tbody tr th:only-of-type {\n",
              "        vertical-align: middle;\n",
              "    }\n",
              "\n",
              "    .dataframe tbody tr th {\n",
              "        vertical-align: top;\n",
              "    }\n",
              "\n",
              "    .dataframe thead th {\n",
              "        text-align: right;\n",
              "    }\n",
              "</style>\n",
              "<table border=\"1\" class=\"dataframe\">\n",
              "  <thead>\n",
              "    <tr style=\"text-align: right;\">\n",
              "      <th></th>\n",
              "      <th>size</th>\n",
              "    </tr>\n",
              "    <tr>\n",
              "      <th>comune</th>\n",
              "      <th></th>\n",
              "    </tr>\n",
              "  </thead>\n",
              "  <tbody>\n",
              "    <tr>\n",
              "      <th>Trento</th>\n",
              "      <td>115</td>\n",
              "    </tr>\n",
              "    <tr>\n",
              "      <th>Pergine Valsugana</th>\n",
              "      <td>8</td>\n",
              "    </tr>\n",
              "    <tr>\n",
              "      <th>Baselga di Pinè</th>\n",
              "      <td>4</td>\n",
              "    </tr>\n",
              "    <tr>\n",
              "      <th>Civezzano</th>\n",
              "      <td>2</td>\n",
              "    </tr>\n",
              "    <tr>\n",
              "      <th>Vallelaghi</th>\n",
              "      <td>2</td>\n",
              "    </tr>\n",
              "    <tr>\n",
              "      <th>Albiano</th>\n",
              "      <td>1</td>\n",
              "    </tr>\n",
              "    <tr>\n",
              "      <th>Altopiano della Vigolana</th>\n",
              "      <td>1</td>\n",
              "    </tr>\n",
              "    <tr>\n",
              "      <th>Cavedine</th>\n",
              "      <td>1</td>\n",
              "    </tr>\n",
              "    <tr>\n",
              "      <th>Giovo</th>\n",
              "      <td>1</td>\n",
              "    </tr>\n",
              "    <tr>\n",
              "      <th>Lavis</th>\n",
              "      <td>1</td>\n",
              "    </tr>\n",
              "  </tbody>\n",
              "</table>\n",
              "</div>"
            ],
            "text/plain": [
              "                          size\n",
              "comune                        \n",
              "Trento                     115\n",
              "Pergine Valsugana            8\n",
              "Baselga di Pinè              4\n",
              "Civezzano                    2\n",
              "Vallelaghi                   2\n",
              "Albiano                      1\n",
              "Altopiano della Vigolana     1\n",
              "Cavedine                     1\n",
              "Giovo                        1\n",
              "Lavis                        1"
            ]
          },
          "metadata": {
            "tags": []
          },
          "execution_count": 41
        }
      ]
    },
    {
      "cell_type": "markdown",
      "metadata": {
        "id": "hMb2kkRUaQzV"
      },
      "source": [
        "# create a polygon that contains all the pharmacies within a 2km radius of the Trento public library"
      ]
    },
    {
      "cell_type": "markdown",
      "metadata": {
        "id": "9EODvhKmaUoW"
      },
      "source": [
        "we need the geometry of the public library of Trento in meters\n"
      ]
    },
    {
      "cell_type": "code",
      "metadata": {
        "id": "vnNTjn-I_U6h"
      },
      "source": [
        "trento_public_library = geo_libraries[geo_libraries['codice-isil'] == 'IT-TN0121'].to_crs(epsg=32632).geometry.values[0]"
      ],
      "execution_count": null,
      "outputs": []
    },
    {
      "cell_type": "markdown",
      "metadata": {
        "id": "w5RoCdPFDY8h"
      },
      "source": [
        "## Solution 1"
      ]
    },
    {
      "cell_type": "markdown",
      "metadata": {
        "id": "mzYAn2ba_eMy"
      },
      "source": [
        "calculate the distance from the position for each phamarcy"
      ]
    },
    {
      "cell_type": "code",
      "metadata": {
        "id": "ltkqJ6sp6Q-J"
      },
      "source": [
        "geo_phamarcies['distance'] = geo_phamarcies.to_crs(epsg=32632).geometry.distance(trento_public_library)"
      ],
      "execution_count": null,
      "outputs": []
    },
    {
      "cell_type": "code",
      "metadata": {
        "id": "PCabbgFj7XIw"
      },
      "source": [
        "phamarcies_2000m_from_public_library_trento = geo_phamarcies[geo_phamarcies['distance'] < 2000.0]"
      ],
      "execution_count": null,
      "outputs": []
    },
    {
      "cell_type": "code",
      "metadata": {
        "id": "vBzRdOW7FPV9",
        "outputId": "79531be3-acb2-4161-c51e-6f794a02e31b",
        "colab": {
          "base_uri": "https://localhost:8080/",
          "height": 1000
        }
      },
      "source": [
        "phamarcies_2000m_from_public_library_trento"
      ],
      "execution_count": null,
      "outputs": [
        {
          "output_type": "execute_result",
          "data": {
            "text/html": [
              "<div>\n",
              "<style scoped>\n",
              "    .dataframe tbody tr th:only-of-type {\n",
              "        vertical-align: middle;\n",
              "    }\n",
              "\n",
              "    .dataframe tbody tr th {\n",
              "        vertical-align: top;\n",
              "    }\n",
              "\n",
              "    .dataframe thead th {\n",
              "        text-align: right;\n",
              "    }\n",
              "</style>\n",
              "<table border=\"1\" class=\"dataframe\">\n",
              "  <thead>\n",
              "    <tr style=\"text-align: right;\">\n",
              "      <th></th>\n",
              "      <th>COD_FARMACIA_OD</th>\n",
              "      <th>COD_FARMACIA</th>\n",
              "      <th>FARMACIA</th>\n",
              "      <th>IVA</th>\n",
              "      <th>CAP</th>\n",
              "      <th>COD_COMUNE</th>\n",
              "      <th>COMUNE</th>\n",
              "      <th>FRAZIONE</th>\n",
              "      <th>COD_PROVINCIA</th>\n",
              "      <th>PROVINCIA</th>\n",
              "      <th>COD_REGIONE</th>\n",
              "      <th>REGIONE</th>\n",
              "      <th>DATA_INIZIO</th>\n",
              "      <th>INDIRIZZO</th>\n",
              "      <th>TIPOLOGIA</th>\n",
              "      <th>LATITUDINE_P</th>\n",
              "      <th>LONGITUDINE_P</th>\n",
              "      <th>LATITUDINE_V</th>\n",
              "      <th>LONGITUDINE_V</th>\n",
              "      <th>geometry</th>\n",
              "      <th>distance</th>\n",
              "    </tr>\n",
              "  </thead>\n",
              "  <tbody>\n",
              "    <tr>\n",
              "      <th>17</th>\n",
              "      <td>FAR042101004178</td>\n",
              "      <td>4178</td>\n",
              "      <td>DALL'ARMI SNC PATTINI DR. ALBERTO E DR.SSA ALE...</td>\n",
              "      <td>00337140222</td>\n",
              "      <td>38122</td>\n",
              "      <td>22205</td>\n",
              "      <td>TRENTO</td>\n",
              "      <td>-</td>\n",
              "      <td>TN</td>\n",
              "      <td>TRENTO</td>\n",
              "      <td>42</td>\n",
              "      <td>PROV. AUTON. TRENTO</td>\n",
              "      <td>2017-02-01</td>\n",
              "      <td>PIAZZA DUOMO, 10</td>\n",
              "      <td>ORDINARIA</td>\n",
              "      <td>46.067619</td>\n",
              "      <td>11.121519</td>\n",
              "      <td>46,0676193498462</td>\n",
              "      <td>11,1215188143335</td>\n",
              "      <td>POINT (11.12152 46.06762)</td>\n",
              "      <td>243.486471</td>\n",
              "    </tr>\n",
              "    <tr>\n",
              "      <th>19</th>\n",
              "      <td>FAR042101004180</td>\n",
              "      <td>4180</td>\n",
              "      <td>DE BATTTAGLIA SNC</td>\n",
              "      <td>02099830222</td>\n",
              "      <td>38122</td>\n",
              "      <td>22205</td>\n",
              "      <td>TRENTO</td>\n",
              "      <td>-</td>\n",
              "      <td>TN</td>\n",
              "      <td>TRENTO</td>\n",
              "      <td>42</td>\n",
              "      <td>PROV. AUTON. TRENTO</td>\n",
              "      <td>2017-02-01</td>\n",
              "      <td>PIAZZA PASI, 20</td>\n",
              "      <td>ORDINARIA</td>\n",
              "      <td>46.062206</td>\n",
              "      <td>11.111765</td>\n",
              "      <td>46,0622059167663</td>\n",
              "      <td>11,1117645926563</td>\n",
              "      <td>POINT (11.11176 46.06221)</td>\n",
              "      <td>1091.193285</td>\n",
              "    </tr>\n",
              "    <tr>\n",
              "      <th>25</th>\n",
              "      <td>FAR042101004186</td>\n",
              "      <td>4186</td>\n",
              "      <td>BOLGHERA SNC</td>\n",
              "      <td>00166280222</td>\n",
              "      <td>38122</td>\n",
              "      <td>22205</td>\n",
              "      <td>TRENTO</td>\n",
              "      <td>-</td>\n",
              "      <td>TN</td>\n",
              "      <td>TRENTO</td>\n",
              "      <td>42</td>\n",
              "      <td>PROV. AUTON. TRENTO</td>\n",
              "      <td>2017-07-01</td>\n",
              "      <td>LARGO MEDAGLIE D'ORO, 8</td>\n",
              "      <td>ORDINARIA</td>\n",
              "      <td>46.057797</td>\n",
              "      <td>11.132752</td>\n",
              "      <td>46,0577971934673</td>\n",
              "      <td>11,1327523327511</td>\n",
              "      <td>POINT (11.13275 46.05780)</td>\n",
              "      <td>1619.147637</td>\n",
              "    </tr>\n",
              "    <tr>\n",
              "      <th>87</th>\n",
              "      <td>FAR042101004250</td>\n",
              "      <td>4250</td>\n",
              "      <td>LEPORE DR. MARCO</td>\n",
              "      <td>00639430222</td>\n",
              "      <td>38122</td>\n",
              "      <td>22205</td>\n",
              "      <td>TRENTO</td>\n",
              "      <td>-</td>\n",
              "      <td>TN</td>\n",
              "      <td>TRENTO</td>\n",
              "      <td>42</td>\n",
              "      <td>PROV. AUTON. TRENTO</td>\n",
              "      <td>2017-02-01</td>\n",
              "      <td>VIA MANZONI, 7/A</td>\n",
              "      <td>ORDINARIA</td>\n",
              "      <td>46.074813</td>\n",
              "      <td>11.125135</td>\n",
              "      <td>46,0748132409383</td>\n",
              "      <td>11,1251346567747</td>\n",
              "      <td>POINT (11.12513 46.07481)</td>\n",
              "      <td>655.432357</td>\n",
              "    </tr>\n",
              "    <tr>\n",
              "      <th>88</th>\n",
              "      <td>FAR042101004251</td>\n",
              "      <td>4251</td>\n",
              "      <td>ALLA MADONNA DR. GIANMARCO CASAGRANDE &amp; C. SNC</td>\n",
              "      <td>01735670224</td>\n",
              "      <td>38122</td>\n",
              "      <td>22205</td>\n",
              "      <td>TRENTO</td>\n",
              "      <td>-</td>\n",
              "      <td>TN</td>\n",
              "      <td>TRENTO</td>\n",
              "      <td>42</td>\n",
              "      <td>PROV. AUTON. TRENTO</td>\n",
              "      <td>2013-03-01</td>\n",
              "      <td>VIA G. MANCI, 42</td>\n",
              "      <td>ORDINARIA</td>\n",
              "      <td>46.062206</td>\n",
              "      <td>11.111765</td>\n",
              "      <td>46,0622059167663</td>\n",
              "      <td>11,1117645926563</td>\n",
              "      <td>POINT (11.11176 46.06221)</td>\n",
              "      <td>1091.193285</td>\n",
              "    </tr>\n",
              "    <tr>\n",
              "      <th>98</th>\n",
              "      <td>FAR042101004261</td>\n",
              "      <td>4261</td>\n",
              "      <td>SAN LORENZO</td>\n",
              "      <td>01709540221</td>\n",
              "      <td>38121</td>\n",
              "      <td>22205</td>\n",
              "      <td>TRENTO</td>\n",
              "      <td>-</td>\n",
              "      <td>TN</td>\n",
              "      <td>TRENTO</td>\n",
              "      <td>42</td>\n",
              "      <td>PROV. AUTON. TRENTO</td>\n",
              "      <td>2017-02-01</td>\n",
              "      <td>PIAZZA G. CANTORE, 1</td>\n",
              "      <td>ORDINARIA</td>\n",
              "      <td>46.069692</td>\n",
              "      <td>11.121089</td>\n",
              "      <td>46,0696924</td>\n",
              "      <td>11,1210886</td>\n",
              "      <td>POINT (11.12109 46.06969)</td>\n",
              "      <td>23.992939</td>\n",
              "    </tr>\n",
              "    <tr>\n",
              "      <th>101</th>\n",
              "      <td>FAR042101004264</td>\n",
              "      <td>4264</td>\n",
              "      <td>BETTA MARCO</td>\n",
              "      <td>01457840229</td>\n",
              "      <td>38123</td>\n",
              "      <td>22205</td>\n",
              "      <td>TRENTO</td>\n",
              "      <td>RAVINA</td>\n",
              "      <td>TN</td>\n",
              "      <td>TRENTO</td>\n",
              "      <td>42</td>\n",
              "      <td>PROV. AUTON. TRENTO</td>\n",
              "      <td>2017-02-01</td>\n",
              "      <td>VIA HERRSCHING, 1</td>\n",
              "      <td>ORDINARIA</td>\n",
              "      <td>46.062206</td>\n",
              "      <td>11.111765</td>\n",
              "      <td>46,0622059167663</td>\n",
              "      <td>11,1117645926563</td>\n",
              "      <td>POINT (11.11176 46.06221)</td>\n",
              "      <td>1091.193285</td>\n",
              "    </tr>\n",
              "    <tr>\n",
              "      <th>105</th>\n",
              "      <td>FAR042101004270</td>\n",
              "      <td>4270</td>\n",
              "      <td>FERRI</td>\n",
              "      <td>00661510222</td>\n",
              "      <td>38121</td>\n",
              "      <td>22205</td>\n",
              "      <td>TRENTO</td>\n",
              "      <td>MARTIGNANO</td>\n",
              "      <td>TN</td>\n",
              "      <td>TRENTO</td>\n",
              "      <td>42</td>\n",
              "      <td>PROV. AUTON. TRENTO</td>\n",
              "      <td>2013-03-01</td>\n",
              "      <td>VIA FORMIGHETA, 1</td>\n",
              "      <td>ORDINARIA</td>\n",
              "      <td>46.069692</td>\n",
              "      <td>11.121089</td>\n",
              "      <td>46,0696924</td>\n",
              "      <td>11,1210886</td>\n",
              "      <td>POINT (11.12109 46.06969)</td>\n",
              "      <td>23.992939</td>\n",
              "    </tr>\n",
              "    <tr>\n",
              "      <th>107</th>\n",
              "      <td>FAR042101004272</td>\n",
              "      <td>4272</td>\n",
              "      <td>DE GERLONI DR. PIER FRANCESCO</td>\n",
              "      <td>01229140221</td>\n",
              "      <td>38123</td>\n",
              "      <td>22205</td>\n",
              "      <td>TRENTO</td>\n",
              "      <td>SOPRAMONTE, 205 F</td>\n",
              "      <td>TN</td>\n",
              "      <td>TRENTO</td>\n",
              "      <td>42</td>\n",
              "      <td>PROV. AUTON. TRENTO</td>\n",
              "      <td>2013-03-01</td>\n",
              "      <td>LOC. SOPRAMONTE, 205 F</td>\n",
              "      <td>ORDINARIA</td>\n",
              "      <td>46.062206</td>\n",
              "      <td>11.111765</td>\n",
              "      <td>46,0622059167663</td>\n",
              "      <td>11,1117645926563</td>\n",
              "      <td>POINT (11.11176 46.06221)</td>\n",
              "      <td>1091.193285</td>\n",
              "    </tr>\n",
              "    <tr>\n",
              "      <th>117</th>\n",
              "      <td>FAR042101016627</td>\n",
              "      <td>16627</td>\n",
              "      <td>COMUNALE SAN GIUSEPPE</td>\n",
              "      <td>01581140223</td>\n",
              "      <td>38122</td>\n",
              "      <td>22205</td>\n",
              "      <td>TRENTO</td>\n",
              "      <td>-</td>\n",
              "      <td>TN</td>\n",
              "      <td>TRENTO</td>\n",
              "      <td>42</td>\n",
              "      <td>PROV. AUTON. TRENTO</td>\n",
              "      <td>2017-07-01</td>\n",
              "      <td>VIA VITTORIO VENETO, 39</td>\n",
              "      <td>ORDINARIA</td>\n",
              "      <td>46.058852</td>\n",
              "      <td>11.124785</td>\n",
              "      <td>46,05885165</td>\n",
              "      <td>11,1247846</td>\n",
              "      <td>POINT (11.12478 46.05885)</td>\n",
              "      <td>1250.157477</td>\n",
              "    </tr>\n",
              "    <tr>\n",
              "      <th>120</th>\n",
              "      <td>FAR042101016665</td>\n",
              "      <td>16665</td>\n",
              "      <td>Comunale N.5 S. Dona'</td>\n",
              "      <td>01581140223</td>\n",
              "      <td>38122</td>\n",
              "      <td>22205</td>\n",
              "      <td>TRENTO</td>\n",
              "      <td>S. Dona, 51</td>\n",
              "      <td>TN</td>\n",
              "      <td>TRENTO</td>\n",
              "      <td>42</td>\n",
              "      <td>PROV. AUTON. TRENTO</td>\n",
              "      <td>2017-07-01</td>\n",
              "      <td>LOC. SAN DONÀ, 50</td>\n",
              "      <td>ORDINARIA</td>\n",
              "      <td>46.062206</td>\n",
              "      <td>11.111765</td>\n",
              "      <td>46,0622059167663</td>\n",
              "      <td>11,1117645926563</td>\n",
              "      <td>POINT (11.11176 46.06221)</td>\n",
              "      <td>1091.193285</td>\n",
              "    </tr>\n",
              "    <tr>\n",
              "      <th>121</th>\n",
              "      <td>FAR042101016670</td>\n",
              "      <td>16670</td>\n",
              "      <td>COMUNALE N.3 PIO X</td>\n",
              "      <td>01581140223</td>\n",
              "      <td>38122</td>\n",
              "      <td>22205</td>\n",
              "      <td>TRENTO</td>\n",
              "      <td>-</td>\n",
              "      <td>TN</td>\n",
              "      <td>TRENTO</td>\n",
              "      <td>42</td>\n",
              "      <td>PROV. AUTON. TRENTO</td>\n",
              "      <td>2017-07-01</td>\n",
              "      <td>VIA SAN PIO X, 77</td>\n",
              "      <td>ORDINARIA</td>\n",
              "      <td>46.052494</td>\n",
              "      <td>11.119820</td>\n",
              "      <td>46,0524938275703</td>\n",
              "      <td>11,1198202997403</td>\n",
              "      <td>POINT (11.11982 46.05249)</td>\n",
              "      <td>1919.456072</td>\n",
              "    </tr>\n",
              "    <tr>\n",
              "      <th>124</th>\n",
              "      <td>FAR042101016677</td>\n",
              "      <td>16677</td>\n",
              "      <td>COMUNALE N.8 MADONNA BIANCA</td>\n",
              "      <td>01581140223</td>\n",
              "      <td>38123</td>\n",
              "      <td>22205</td>\n",
              "      <td>TRENTO</td>\n",
              "      <td>Mad. Bianca</td>\n",
              "      <td>TN</td>\n",
              "      <td>TRENTO</td>\n",
              "      <td>42</td>\n",
              "      <td>PROV. AUTON. TRENTO</td>\n",
              "      <td>2017-07-01</td>\n",
              "      <td>PIAZZALE EUROPA, 8</td>\n",
              "      <td>ORDINARIA</td>\n",
              "      <td>46.062206</td>\n",
              "      <td>11.111765</td>\n",
              "      <td>46,0622059167663</td>\n",
              "      <td>11,1117645926563</td>\n",
              "      <td>POINT (11.11176 46.06221)</td>\n",
              "      <td>1091.193285</td>\n",
              "    </tr>\n",
              "    <tr>\n",
              "      <th>127</th>\n",
              "      <td>FAR042101016698</td>\n",
              "      <td>16698</td>\n",
              "      <td>COMUNALE N.9 PIEDICASTELLO</td>\n",
              "      <td>01581140223</td>\n",
              "      <td>38122</td>\n",
              "      <td>22205</td>\n",
              "      <td>TRENTO</td>\n",
              "      <td>Piedicastello</td>\n",
              "      <td>TN</td>\n",
              "      <td>TRENTO</td>\n",
              "      <td>42</td>\n",
              "      <td>PROV. AUTON. TRENTO</td>\n",
              "      <td>2017-07-01</td>\n",
              "      <td>VIA BRESCIA, 19/A</td>\n",
              "      <td>ORDINARIA</td>\n",
              "      <td>46.070676</td>\n",
              "      <td>11.113415</td>\n",
              "      <td>46,0706761122494</td>\n",
              "      <td>11,1134151046456</td>\n",
              "      <td>POINT (11.11342 46.07068)</td>\n",
              "      <td>579.714133</td>\n",
              "    </tr>\n",
              "    <tr>\n",
              "      <th>157</th>\n",
              "      <td>FAR042101018168</td>\n",
              "      <td>18168</td>\n",
              "      <td>FARMACIE COMUNALI SPA</td>\n",
              "      <td>01581140223</td>\n",
              "      <td>38100</td>\n",
              "      <td>22205</td>\n",
              "      <td>TRENTO</td>\n",
              "      <td>-</td>\n",
              "      <td>TN</td>\n",
              "      <td>TRENTO</td>\n",
              "      <td>42</td>\n",
              "      <td>PROV. AUTON. TRENTO</td>\n",
              "      <td>2007-12-01</td>\n",
              "      <td>VIA ASILO PEDROTTI, 18</td>\n",
              "      <td>ORDINARIA</td>\n",
              "      <td>46.058922</td>\n",
              "      <td>11.125767</td>\n",
              "      <td>46,0589218431499</td>\n",
              "      <td>11,1257667774255</td>\n",
              "      <td>POINT (11.12577 46.05892)</td>\n",
              "      <td>1263.645206</td>\n",
              "    </tr>\n",
              "    <tr>\n",
              "      <th>158</th>\n",
              "      <td>FAR042101018181</td>\n",
              "      <td>18181</td>\n",
              "      <td>COMUNALE COGNOLA</td>\n",
              "      <td>01581140223</td>\n",
              "      <td>38121</td>\n",
              "      <td>22205</td>\n",
              "      <td>TRENTO</td>\n",
              "      <td>-</td>\n",
              "      <td>TN</td>\n",
              "      <td>TRENTO</td>\n",
              "      <td>42</td>\n",
              "      <td>PROV. AUTON. TRENTO</td>\n",
              "      <td>2017-07-01</td>\n",
              "      <td>P.ZZA DELL'ARGENTARIO, 10</td>\n",
              "      <td>ORDINARIA</td>\n",
              "      <td>46.062206</td>\n",
              "      <td>11.111765</td>\n",
              "      <td>46,0622059167663</td>\n",
              "      <td>11,1117645926563</td>\n",
              "      <td>POINT (11.11176 46.06221)</td>\n",
              "      <td>1091.193285</td>\n",
              "    </tr>\n",
              "    <tr>\n",
              "      <th>171</th>\n",
              "      <td>FAR042101018834</td>\n",
              "      <td>18834</td>\n",
              "      <td>CAMPAGNOLO</td>\n",
              "      <td>03673210617</td>\n",
              "      <td>38123</td>\n",
              "      <td>22205</td>\n",
              "      <td>TRENTO</td>\n",
              "      <td>Romagnano</td>\n",
              "      <td>TN</td>\n",
              "      <td>TRENTO</td>\n",
              "      <td>42</td>\n",
              "      <td>PROV. AUTON. TRENTO</td>\n",
              "      <td>2013-07-01</td>\n",
              "      <td>VIA ALLE SETTE FONTANE</td>\n",
              "      <td>ORDINARIA</td>\n",
              "      <td>46.069692</td>\n",
              "      <td>11.121089</td>\n",
              "      <td>46,0696924</td>\n",
              "      <td>11,1210886</td>\n",
              "      <td>POINT (11.12109 46.06969)</td>\n",
              "      <td>23.992939</td>\n",
              "    </tr>\n",
              "    <tr>\n",
              "      <th>173</th>\n",
              "      <td>FAR042101019298</td>\n",
              "      <td>19298</td>\n",
              "      <td>IGEA DEL DOTT. MOHAMMAD MAHLOUL EL ZENNAR</td>\n",
              "      <td>02431160221</td>\n",
              "      <td>38122</td>\n",
              "      <td>22205</td>\n",
              "      <td>TRENTO</td>\n",
              "      <td>-</td>\n",
              "      <td>TN</td>\n",
              "      <td>TRENTO</td>\n",
              "      <td>42</td>\n",
              "      <td>PROV. AUTON. TRENTO</td>\n",
              "      <td>2017-07-01</td>\n",
              "      <td>VIA MILANO, 68</td>\n",
              "      <td>ORDINARIA</td>\n",
              "      <td>46.060913</td>\n",
              "      <td>11.128076</td>\n",
              "      <td>46,06091319999999</td>\n",
              "      <td>11,1280755</td>\n",
              "      <td>POINT (11.12808 46.06091)</td>\n",
              "      <td>1132.464809</td>\n",
              "    </tr>\n",
              "    <tr>\n",
              "      <th>174</th>\n",
              "      <td>FAR042101019376</td>\n",
              "      <td>19376</td>\n",
              "      <td>DISPENSARIO DI NOGAREDO</td>\n",
              "      <td>01581140223</td>\n",
              "      <td>38060</td>\n",
              "      <td>22205</td>\n",
              "      <td>TRENTO</td>\n",
              "      <td>-</td>\n",
              "      <td>TN</td>\n",
              "      <td>TRENTO</td>\n",
              "      <td>42</td>\n",
              "      <td>PROV. AUTON. TRENTO</td>\n",
              "      <td>2016-12-01</td>\n",
              "      <td>VIA SAN BIAGIO, 4</td>\n",
              "      <td>DISPENSARIO</td>\n",
              "      <td>46.074779</td>\n",
              "      <td>11.121749</td>\n",
              "      <td>46,0747793</td>\n",
              "      <td>11,1217486</td>\n",
              "      <td>POINT (11.12175 46.07478)</td>\n",
              "      <td>563.824881</td>\n",
              "    </tr>\n",
              "  </tbody>\n",
              "</table>\n",
              "</div>"
            ],
            "text/plain": [
              "     COD_FARMACIA_OD  COD_FARMACIA  ...                   geometry     distance\n",
              "17   FAR042101004178          4178  ...  POINT (11.12152 46.06762)   243.486471\n",
              "19   FAR042101004180          4180  ...  POINT (11.11176 46.06221)  1091.193285\n",
              "25   FAR042101004186          4186  ...  POINT (11.13275 46.05780)  1619.147637\n",
              "87   FAR042101004250          4250  ...  POINT (11.12513 46.07481)   655.432357\n",
              "88   FAR042101004251          4251  ...  POINT (11.11176 46.06221)  1091.193285\n",
              "98   FAR042101004261          4261  ...  POINT (11.12109 46.06969)    23.992939\n",
              "101  FAR042101004264          4264  ...  POINT (11.11176 46.06221)  1091.193285\n",
              "105  FAR042101004270          4270  ...  POINT (11.12109 46.06969)    23.992939\n",
              "107  FAR042101004272          4272  ...  POINT (11.11176 46.06221)  1091.193285\n",
              "117  FAR042101016627         16627  ...  POINT (11.12478 46.05885)  1250.157477\n",
              "120  FAR042101016665         16665  ...  POINT (11.11176 46.06221)  1091.193285\n",
              "121  FAR042101016670         16670  ...  POINT (11.11982 46.05249)  1919.456072\n",
              "124  FAR042101016677         16677  ...  POINT (11.11176 46.06221)  1091.193285\n",
              "127  FAR042101016698         16698  ...  POINT (11.11342 46.07068)   579.714133\n",
              "157  FAR042101018168         18168  ...  POINT (11.12577 46.05892)  1263.645206\n",
              "158  FAR042101018181         18181  ...  POINT (11.11176 46.06221)  1091.193285\n",
              "171  FAR042101018834         18834  ...  POINT (11.12109 46.06969)    23.992939\n",
              "173  FAR042101019298         19298  ...  POINT (11.12808 46.06091)  1132.464809\n",
              "174  FAR042101019376         19376  ...  POINT (11.12175 46.07478)   563.824881\n",
              "\n",
              "[19 rows x 21 columns]"
            ]
          },
          "metadata": {
            "tags": []
          },
          "execution_count": 45
        }
      ]
    },
    {
      "cell_type": "markdown",
      "metadata": {
        "id": "FYh47iNvFW_9"
      },
      "source": [
        "## solution 2"
      ]
    },
    {
      "cell_type": "code",
      "metadata": {
        "id": "oH2sZt7bFbf4"
      },
      "source": [
        "trento_public_library_2k = trento_public_library.buffer(2000)"
      ],
      "execution_count": null,
      "outputs": []
    },
    {
      "cell_type": "code",
      "metadata": {
        "id": "3175_hLoFpHs",
        "outputId": "e0c4839a-0420-48df-a99d-9a23bba1c03d",
        "colab": {
          "base_uri": "https://localhost:8080/",
          "height": 321
        }
      },
      "source": [
        "trento_public_library_2k"
      ],
      "execution_count": null,
      "outputs": [
        {
          "output_type": "execute_result",
          "data": {
            "text/plain": [
              "<shapely.geometry.polygon.Polygon at 0x7f9b95937ba8>"
            ],
            "image/svg+xml": "<svg xmlns=\"http://www.w3.org/2000/svg\" xmlns:xlink=\"http://www.w3.org/1999/xlink\" width=\"300\" height=\"300\" viewBox=\"661849.8522484417 5101823.835611518 4320.0 4320.0\" preserveAspectRatio=\"xMinYMin meet\"><g transform=\"matrix(1,0,0,-1,0,10207967.671223035)\"><path fill-rule=\"evenodd\" fill=\"#66cc99\" stroke=\"#555555\" stroke-width=\"28.8\" opacity=\"0.6\" d=\"M 666009.8522484417,5103983.835611518 L 666000.221701786,5103787.801330859 L 665971.4228092481,5103593.654967485 L 665923.732919906,5103403.266257009 L 665857.6113134642,5103218.468746787 L 665773.6947771384,5103041.042137866 L 665672.7914730468,5102872.6951454785 L 665555.8731551671,5102715.049043191 L 665424.0658108147,5102569.6220491445 L 665278.638816769,5102437.814704792 L 665120.9927144808,5102320.896386912 L 664952.6457220936,5102219.99308282 L 664775.2191131718,5102136.076546495 L 664590.4216029505,5102069.954940053 L 664400.032892474,5102022.265050711 L 664205.8865291008,5101993.466158173 L 664009.8522484417,5101983.835611518 L 663813.8179677825,5101993.466158173 L 663619.6716044095,5102022.265050711 L 663429.2828939328,5102069.954940053 L 663244.4853837115,5102136.076546495 L 663067.0587747897,5102219.99308282 L 662898.7117824025,5102320.896386912 L 662741.0656801143,5102437.814704792 L 662595.6386860686,5102569.6220491445 L 662463.8313417162,5102715.049043191 L 662346.9130238366,5102872.6951454785 L 662246.0097197449,5103041.042137866 L 662162.0931834191,5103218.468746787 L 662095.9715769773,5103403.266257009 L 662048.2816876352,5103593.654967485 L 662019.4827950973,5103787.801330859 L 662009.8522484417,5103983.835611518 L 662019.4827950973,5104179.869892176 L 662048.2816876352,5104374.01625555 L 662095.9715769773,5104564.404966027 L 662162.0931834191,5104749.202476248 L 662246.0097197449,5104926.629085169 L 662346.9130238366,5105094.976077557 L 662463.8313417162,5105252.622179844 L 662595.6386860686,5105398.049173891 L 662741.0656801143,5105529.856518243 L 662898.7117824025,5105646.774836123 L 663067.0587747897,5105747.678140215 L 663244.4853837115,5105831.59467654 L 663429.2828939328,5105897.716282982 L 663619.6716044093,5105945.406172324 L 663813.8179677825,5105974.205064862 L 664009.8522484417,5105983.835611518 L 664205.8865291008,5105974.205064862 L 664400.0328924739,5105945.406172324 L 664590.4216029505,5105897.716282982 L 664775.2191131718,5105831.59467654 L 664952.6457220936,5105747.678140215 L 665120.9927144808,5105646.774836123 L 665278.638816769,5105529.856518243 L 665424.0658108147,5105398.049173891 L 665555.8731551671,5105252.622179844 L 665672.7914730468,5105094.976077557 L 665773.6947771384,5104926.629085169 L 665857.6113134642,5104749.202476248 L 665923.732919906,5104564.404966027 L 665971.4228092481,5104374.01625555 L 666000.221701786,5104179.869892176 L 666009.8522484417,5103983.835611518 z\" /></g></svg>"
          },
          "metadata": {
            "tags": []
          },
          "execution_count": 47
        }
      ]
    },
    {
      "cell_type": "code",
      "metadata": {
        "id": "qMgmBAu4FrNX"
      },
      "source": [
        "phamarcies_2000m_from_public_library_trento = geo_phamarcies[geo_phamarcies.to_crs(epsg=32632).within(trento_public_library_2k)]"
      ],
      "execution_count": null,
      "outputs": []
    },
    {
      "cell_type": "code",
      "metadata": {
        "id": "yP1XLdWVHZQh",
        "outputId": "ed51d5f6-e79a-49d1-b893-adeb45181694",
        "colab": {
          "base_uri": "https://localhost:8080/",
          "height": 1000
        }
      },
      "source": [
        "phamarcies_2000m_from_public_library_trento"
      ],
      "execution_count": null,
      "outputs": [
        {
          "output_type": "execute_result",
          "data": {
            "text/html": [
              "<div>\n",
              "<style scoped>\n",
              "    .dataframe tbody tr th:only-of-type {\n",
              "        vertical-align: middle;\n",
              "    }\n",
              "\n",
              "    .dataframe tbody tr th {\n",
              "        vertical-align: top;\n",
              "    }\n",
              "\n",
              "    .dataframe thead th {\n",
              "        text-align: right;\n",
              "    }\n",
              "</style>\n",
              "<table border=\"1\" class=\"dataframe\">\n",
              "  <thead>\n",
              "    <tr style=\"text-align: right;\">\n",
              "      <th></th>\n",
              "      <th>COD_FARMACIA_OD</th>\n",
              "      <th>COD_FARMACIA</th>\n",
              "      <th>FARMACIA</th>\n",
              "      <th>IVA</th>\n",
              "      <th>CAP</th>\n",
              "      <th>COD_COMUNE</th>\n",
              "      <th>COMUNE</th>\n",
              "      <th>FRAZIONE</th>\n",
              "      <th>COD_PROVINCIA</th>\n",
              "      <th>PROVINCIA</th>\n",
              "      <th>COD_REGIONE</th>\n",
              "      <th>REGIONE</th>\n",
              "      <th>DATA_INIZIO</th>\n",
              "      <th>INDIRIZZO</th>\n",
              "      <th>TIPOLOGIA</th>\n",
              "      <th>LATITUDINE_P</th>\n",
              "      <th>LONGITUDINE_P</th>\n",
              "      <th>LATITUDINE_V</th>\n",
              "      <th>LONGITUDINE_V</th>\n",
              "      <th>geometry</th>\n",
              "      <th>distance</th>\n",
              "    </tr>\n",
              "  </thead>\n",
              "  <tbody>\n",
              "    <tr>\n",
              "      <th>17</th>\n",
              "      <td>FAR042101004178</td>\n",
              "      <td>4178</td>\n",
              "      <td>DALL'ARMI SNC PATTINI DR. ALBERTO E DR.SSA ALE...</td>\n",
              "      <td>00337140222</td>\n",
              "      <td>38122</td>\n",
              "      <td>22205</td>\n",
              "      <td>TRENTO</td>\n",
              "      <td>-</td>\n",
              "      <td>TN</td>\n",
              "      <td>TRENTO</td>\n",
              "      <td>42</td>\n",
              "      <td>PROV. AUTON. TRENTO</td>\n",
              "      <td>2017-02-01</td>\n",
              "      <td>PIAZZA DUOMO, 10</td>\n",
              "      <td>ORDINARIA</td>\n",
              "      <td>46.067619</td>\n",
              "      <td>11.121519</td>\n",
              "      <td>46,0676193498462</td>\n",
              "      <td>11,1215188143335</td>\n",
              "      <td>POINT (11.12152 46.06762)</td>\n",
              "      <td>243.486471</td>\n",
              "    </tr>\n",
              "    <tr>\n",
              "      <th>19</th>\n",
              "      <td>FAR042101004180</td>\n",
              "      <td>4180</td>\n",
              "      <td>DE BATTTAGLIA SNC</td>\n",
              "      <td>02099830222</td>\n",
              "      <td>38122</td>\n",
              "      <td>22205</td>\n",
              "      <td>TRENTO</td>\n",
              "      <td>-</td>\n",
              "      <td>TN</td>\n",
              "      <td>TRENTO</td>\n",
              "      <td>42</td>\n",
              "      <td>PROV. AUTON. TRENTO</td>\n",
              "      <td>2017-02-01</td>\n",
              "      <td>PIAZZA PASI, 20</td>\n",
              "      <td>ORDINARIA</td>\n",
              "      <td>46.062206</td>\n",
              "      <td>11.111765</td>\n",
              "      <td>46,0622059167663</td>\n",
              "      <td>11,1117645926563</td>\n",
              "      <td>POINT (11.11176 46.06221)</td>\n",
              "      <td>1091.193285</td>\n",
              "    </tr>\n",
              "    <tr>\n",
              "      <th>25</th>\n",
              "      <td>FAR042101004186</td>\n",
              "      <td>4186</td>\n",
              "      <td>BOLGHERA SNC</td>\n",
              "      <td>00166280222</td>\n",
              "      <td>38122</td>\n",
              "      <td>22205</td>\n",
              "      <td>TRENTO</td>\n",
              "      <td>-</td>\n",
              "      <td>TN</td>\n",
              "      <td>TRENTO</td>\n",
              "      <td>42</td>\n",
              "      <td>PROV. AUTON. TRENTO</td>\n",
              "      <td>2017-07-01</td>\n",
              "      <td>LARGO MEDAGLIE D'ORO, 8</td>\n",
              "      <td>ORDINARIA</td>\n",
              "      <td>46.057797</td>\n",
              "      <td>11.132752</td>\n",
              "      <td>46,0577971934673</td>\n",
              "      <td>11,1327523327511</td>\n",
              "      <td>POINT (11.13275 46.05780)</td>\n",
              "      <td>1619.147637</td>\n",
              "    </tr>\n",
              "    <tr>\n",
              "      <th>87</th>\n",
              "      <td>FAR042101004250</td>\n",
              "      <td>4250</td>\n",
              "      <td>LEPORE DR. MARCO</td>\n",
              "      <td>00639430222</td>\n",
              "      <td>38122</td>\n",
              "      <td>22205</td>\n",
              "      <td>TRENTO</td>\n",
              "      <td>-</td>\n",
              "      <td>TN</td>\n",
              "      <td>TRENTO</td>\n",
              "      <td>42</td>\n",
              "      <td>PROV. AUTON. TRENTO</td>\n",
              "      <td>2017-02-01</td>\n",
              "      <td>VIA MANZONI, 7/A</td>\n",
              "      <td>ORDINARIA</td>\n",
              "      <td>46.074813</td>\n",
              "      <td>11.125135</td>\n",
              "      <td>46,0748132409383</td>\n",
              "      <td>11,1251346567747</td>\n",
              "      <td>POINT (11.12513 46.07481)</td>\n",
              "      <td>655.432357</td>\n",
              "    </tr>\n",
              "    <tr>\n",
              "      <th>88</th>\n",
              "      <td>FAR042101004251</td>\n",
              "      <td>4251</td>\n",
              "      <td>ALLA MADONNA DR. GIANMARCO CASAGRANDE &amp; C. SNC</td>\n",
              "      <td>01735670224</td>\n",
              "      <td>38122</td>\n",
              "      <td>22205</td>\n",
              "      <td>TRENTO</td>\n",
              "      <td>-</td>\n",
              "      <td>TN</td>\n",
              "      <td>TRENTO</td>\n",
              "      <td>42</td>\n",
              "      <td>PROV. AUTON. TRENTO</td>\n",
              "      <td>2013-03-01</td>\n",
              "      <td>VIA G. MANCI, 42</td>\n",
              "      <td>ORDINARIA</td>\n",
              "      <td>46.062206</td>\n",
              "      <td>11.111765</td>\n",
              "      <td>46,0622059167663</td>\n",
              "      <td>11,1117645926563</td>\n",
              "      <td>POINT (11.11176 46.06221)</td>\n",
              "      <td>1091.193285</td>\n",
              "    </tr>\n",
              "    <tr>\n",
              "      <th>98</th>\n",
              "      <td>FAR042101004261</td>\n",
              "      <td>4261</td>\n",
              "      <td>SAN LORENZO</td>\n",
              "      <td>01709540221</td>\n",
              "      <td>38121</td>\n",
              "      <td>22205</td>\n",
              "      <td>TRENTO</td>\n",
              "      <td>-</td>\n",
              "      <td>TN</td>\n",
              "      <td>TRENTO</td>\n",
              "      <td>42</td>\n",
              "      <td>PROV. AUTON. TRENTO</td>\n",
              "      <td>2017-02-01</td>\n",
              "      <td>PIAZZA G. CANTORE, 1</td>\n",
              "      <td>ORDINARIA</td>\n",
              "      <td>46.069692</td>\n",
              "      <td>11.121089</td>\n",
              "      <td>46,0696924</td>\n",
              "      <td>11,1210886</td>\n",
              "      <td>POINT (11.12109 46.06969)</td>\n",
              "      <td>23.992939</td>\n",
              "    </tr>\n",
              "    <tr>\n",
              "      <th>101</th>\n",
              "      <td>FAR042101004264</td>\n",
              "      <td>4264</td>\n",
              "      <td>BETTA MARCO</td>\n",
              "      <td>01457840229</td>\n",
              "      <td>38123</td>\n",
              "      <td>22205</td>\n",
              "      <td>TRENTO</td>\n",
              "      <td>RAVINA</td>\n",
              "      <td>TN</td>\n",
              "      <td>TRENTO</td>\n",
              "      <td>42</td>\n",
              "      <td>PROV. AUTON. TRENTO</td>\n",
              "      <td>2017-02-01</td>\n",
              "      <td>VIA HERRSCHING, 1</td>\n",
              "      <td>ORDINARIA</td>\n",
              "      <td>46.062206</td>\n",
              "      <td>11.111765</td>\n",
              "      <td>46,0622059167663</td>\n",
              "      <td>11,1117645926563</td>\n",
              "      <td>POINT (11.11176 46.06221)</td>\n",
              "      <td>1091.193285</td>\n",
              "    </tr>\n",
              "    <tr>\n",
              "      <th>105</th>\n",
              "      <td>FAR042101004270</td>\n",
              "      <td>4270</td>\n",
              "      <td>FERRI</td>\n",
              "      <td>00661510222</td>\n",
              "      <td>38121</td>\n",
              "      <td>22205</td>\n",
              "      <td>TRENTO</td>\n",
              "      <td>MARTIGNANO</td>\n",
              "      <td>TN</td>\n",
              "      <td>TRENTO</td>\n",
              "      <td>42</td>\n",
              "      <td>PROV. AUTON. TRENTO</td>\n",
              "      <td>2013-03-01</td>\n",
              "      <td>VIA FORMIGHETA, 1</td>\n",
              "      <td>ORDINARIA</td>\n",
              "      <td>46.069692</td>\n",
              "      <td>11.121089</td>\n",
              "      <td>46,0696924</td>\n",
              "      <td>11,1210886</td>\n",
              "      <td>POINT (11.12109 46.06969)</td>\n",
              "      <td>23.992939</td>\n",
              "    </tr>\n",
              "    <tr>\n",
              "      <th>107</th>\n",
              "      <td>FAR042101004272</td>\n",
              "      <td>4272</td>\n",
              "      <td>DE GERLONI DR. PIER FRANCESCO</td>\n",
              "      <td>01229140221</td>\n",
              "      <td>38123</td>\n",
              "      <td>22205</td>\n",
              "      <td>TRENTO</td>\n",
              "      <td>SOPRAMONTE, 205 F</td>\n",
              "      <td>TN</td>\n",
              "      <td>TRENTO</td>\n",
              "      <td>42</td>\n",
              "      <td>PROV. AUTON. TRENTO</td>\n",
              "      <td>2013-03-01</td>\n",
              "      <td>LOC. SOPRAMONTE, 205 F</td>\n",
              "      <td>ORDINARIA</td>\n",
              "      <td>46.062206</td>\n",
              "      <td>11.111765</td>\n",
              "      <td>46,0622059167663</td>\n",
              "      <td>11,1117645926563</td>\n",
              "      <td>POINT (11.11176 46.06221)</td>\n",
              "      <td>1091.193285</td>\n",
              "    </tr>\n",
              "    <tr>\n",
              "      <th>117</th>\n",
              "      <td>FAR042101016627</td>\n",
              "      <td>16627</td>\n",
              "      <td>COMUNALE SAN GIUSEPPE</td>\n",
              "      <td>01581140223</td>\n",
              "      <td>38122</td>\n",
              "      <td>22205</td>\n",
              "      <td>TRENTO</td>\n",
              "      <td>-</td>\n",
              "      <td>TN</td>\n",
              "      <td>TRENTO</td>\n",
              "      <td>42</td>\n",
              "      <td>PROV. AUTON. TRENTO</td>\n",
              "      <td>2017-07-01</td>\n",
              "      <td>VIA VITTORIO VENETO, 39</td>\n",
              "      <td>ORDINARIA</td>\n",
              "      <td>46.058852</td>\n",
              "      <td>11.124785</td>\n",
              "      <td>46,05885165</td>\n",
              "      <td>11,1247846</td>\n",
              "      <td>POINT (11.12478 46.05885)</td>\n",
              "      <td>1250.157477</td>\n",
              "    </tr>\n",
              "    <tr>\n",
              "      <th>120</th>\n",
              "      <td>FAR042101016665</td>\n",
              "      <td>16665</td>\n",
              "      <td>Comunale N.5 S. Dona'</td>\n",
              "      <td>01581140223</td>\n",
              "      <td>38122</td>\n",
              "      <td>22205</td>\n",
              "      <td>TRENTO</td>\n",
              "      <td>S. Dona, 51</td>\n",
              "      <td>TN</td>\n",
              "      <td>TRENTO</td>\n",
              "      <td>42</td>\n",
              "      <td>PROV. AUTON. TRENTO</td>\n",
              "      <td>2017-07-01</td>\n",
              "      <td>LOC. SAN DONÀ, 50</td>\n",
              "      <td>ORDINARIA</td>\n",
              "      <td>46.062206</td>\n",
              "      <td>11.111765</td>\n",
              "      <td>46,0622059167663</td>\n",
              "      <td>11,1117645926563</td>\n",
              "      <td>POINT (11.11176 46.06221)</td>\n",
              "      <td>1091.193285</td>\n",
              "    </tr>\n",
              "    <tr>\n",
              "      <th>121</th>\n",
              "      <td>FAR042101016670</td>\n",
              "      <td>16670</td>\n",
              "      <td>COMUNALE N.3 PIO X</td>\n",
              "      <td>01581140223</td>\n",
              "      <td>38122</td>\n",
              "      <td>22205</td>\n",
              "      <td>TRENTO</td>\n",
              "      <td>-</td>\n",
              "      <td>TN</td>\n",
              "      <td>TRENTO</td>\n",
              "      <td>42</td>\n",
              "      <td>PROV. AUTON. TRENTO</td>\n",
              "      <td>2017-07-01</td>\n",
              "      <td>VIA SAN PIO X, 77</td>\n",
              "      <td>ORDINARIA</td>\n",
              "      <td>46.052494</td>\n",
              "      <td>11.119820</td>\n",
              "      <td>46,0524938275703</td>\n",
              "      <td>11,1198202997403</td>\n",
              "      <td>POINT (11.11982 46.05249)</td>\n",
              "      <td>1919.456072</td>\n",
              "    </tr>\n",
              "    <tr>\n",
              "      <th>124</th>\n",
              "      <td>FAR042101016677</td>\n",
              "      <td>16677</td>\n",
              "      <td>COMUNALE N.8 MADONNA BIANCA</td>\n",
              "      <td>01581140223</td>\n",
              "      <td>38123</td>\n",
              "      <td>22205</td>\n",
              "      <td>TRENTO</td>\n",
              "      <td>Mad. Bianca</td>\n",
              "      <td>TN</td>\n",
              "      <td>TRENTO</td>\n",
              "      <td>42</td>\n",
              "      <td>PROV. AUTON. TRENTO</td>\n",
              "      <td>2017-07-01</td>\n",
              "      <td>PIAZZALE EUROPA, 8</td>\n",
              "      <td>ORDINARIA</td>\n",
              "      <td>46.062206</td>\n",
              "      <td>11.111765</td>\n",
              "      <td>46,0622059167663</td>\n",
              "      <td>11,1117645926563</td>\n",
              "      <td>POINT (11.11176 46.06221)</td>\n",
              "      <td>1091.193285</td>\n",
              "    </tr>\n",
              "    <tr>\n",
              "      <th>127</th>\n",
              "      <td>FAR042101016698</td>\n",
              "      <td>16698</td>\n",
              "      <td>COMUNALE N.9 PIEDICASTELLO</td>\n",
              "      <td>01581140223</td>\n",
              "      <td>38122</td>\n",
              "      <td>22205</td>\n",
              "      <td>TRENTO</td>\n",
              "      <td>Piedicastello</td>\n",
              "      <td>TN</td>\n",
              "      <td>TRENTO</td>\n",
              "      <td>42</td>\n",
              "      <td>PROV. AUTON. TRENTO</td>\n",
              "      <td>2017-07-01</td>\n",
              "      <td>VIA BRESCIA, 19/A</td>\n",
              "      <td>ORDINARIA</td>\n",
              "      <td>46.070676</td>\n",
              "      <td>11.113415</td>\n",
              "      <td>46,0706761122494</td>\n",
              "      <td>11,1134151046456</td>\n",
              "      <td>POINT (11.11342 46.07068)</td>\n",
              "      <td>579.714133</td>\n",
              "    </tr>\n",
              "    <tr>\n",
              "      <th>157</th>\n",
              "      <td>FAR042101018168</td>\n",
              "      <td>18168</td>\n",
              "      <td>FARMACIE COMUNALI SPA</td>\n",
              "      <td>01581140223</td>\n",
              "      <td>38100</td>\n",
              "      <td>22205</td>\n",
              "      <td>TRENTO</td>\n",
              "      <td>-</td>\n",
              "      <td>TN</td>\n",
              "      <td>TRENTO</td>\n",
              "      <td>42</td>\n",
              "      <td>PROV. AUTON. TRENTO</td>\n",
              "      <td>2007-12-01</td>\n",
              "      <td>VIA ASILO PEDROTTI, 18</td>\n",
              "      <td>ORDINARIA</td>\n",
              "      <td>46.058922</td>\n",
              "      <td>11.125767</td>\n",
              "      <td>46,0589218431499</td>\n",
              "      <td>11,1257667774255</td>\n",
              "      <td>POINT (11.12577 46.05892)</td>\n",
              "      <td>1263.645206</td>\n",
              "    </tr>\n",
              "    <tr>\n",
              "      <th>158</th>\n",
              "      <td>FAR042101018181</td>\n",
              "      <td>18181</td>\n",
              "      <td>COMUNALE COGNOLA</td>\n",
              "      <td>01581140223</td>\n",
              "      <td>38121</td>\n",
              "      <td>22205</td>\n",
              "      <td>TRENTO</td>\n",
              "      <td>-</td>\n",
              "      <td>TN</td>\n",
              "      <td>TRENTO</td>\n",
              "      <td>42</td>\n",
              "      <td>PROV. AUTON. TRENTO</td>\n",
              "      <td>2017-07-01</td>\n",
              "      <td>P.ZZA DELL'ARGENTARIO, 10</td>\n",
              "      <td>ORDINARIA</td>\n",
              "      <td>46.062206</td>\n",
              "      <td>11.111765</td>\n",
              "      <td>46,0622059167663</td>\n",
              "      <td>11,1117645926563</td>\n",
              "      <td>POINT (11.11176 46.06221)</td>\n",
              "      <td>1091.193285</td>\n",
              "    </tr>\n",
              "    <tr>\n",
              "      <th>171</th>\n",
              "      <td>FAR042101018834</td>\n",
              "      <td>18834</td>\n",
              "      <td>CAMPAGNOLO</td>\n",
              "      <td>03673210617</td>\n",
              "      <td>38123</td>\n",
              "      <td>22205</td>\n",
              "      <td>TRENTO</td>\n",
              "      <td>Romagnano</td>\n",
              "      <td>TN</td>\n",
              "      <td>TRENTO</td>\n",
              "      <td>42</td>\n",
              "      <td>PROV. AUTON. TRENTO</td>\n",
              "      <td>2013-07-01</td>\n",
              "      <td>VIA ALLE SETTE FONTANE</td>\n",
              "      <td>ORDINARIA</td>\n",
              "      <td>46.069692</td>\n",
              "      <td>11.121089</td>\n",
              "      <td>46,0696924</td>\n",
              "      <td>11,1210886</td>\n",
              "      <td>POINT (11.12109 46.06969)</td>\n",
              "      <td>23.992939</td>\n",
              "    </tr>\n",
              "    <tr>\n",
              "      <th>173</th>\n",
              "      <td>FAR042101019298</td>\n",
              "      <td>19298</td>\n",
              "      <td>IGEA DEL DOTT. MOHAMMAD MAHLOUL EL ZENNAR</td>\n",
              "      <td>02431160221</td>\n",
              "      <td>38122</td>\n",
              "      <td>22205</td>\n",
              "      <td>TRENTO</td>\n",
              "      <td>-</td>\n",
              "      <td>TN</td>\n",
              "      <td>TRENTO</td>\n",
              "      <td>42</td>\n",
              "      <td>PROV. AUTON. TRENTO</td>\n",
              "      <td>2017-07-01</td>\n",
              "      <td>VIA MILANO, 68</td>\n",
              "      <td>ORDINARIA</td>\n",
              "      <td>46.060913</td>\n",
              "      <td>11.128076</td>\n",
              "      <td>46,06091319999999</td>\n",
              "      <td>11,1280755</td>\n",
              "      <td>POINT (11.12808 46.06091)</td>\n",
              "      <td>1132.464809</td>\n",
              "    </tr>\n",
              "    <tr>\n",
              "      <th>174</th>\n",
              "      <td>FAR042101019376</td>\n",
              "      <td>19376</td>\n",
              "      <td>DISPENSARIO DI NOGAREDO</td>\n",
              "      <td>01581140223</td>\n",
              "      <td>38060</td>\n",
              "      <td>22205</td>\n",
              "      <td>TRENTO</td>\n",
              "      <td>-</td>\n",
              "      <td>TN</td>\n",
              "      <td>TRENTO</td>\n",
              "      <td>42</td>\n",
              "      <td>PROV. AUTON. TRENTO</td>\n",
              "      <td>2016-12-01</td>\n",
              "      <td>VIA SAN BIAGIO, 4</td>\n",
              "      <td>DISPENSARIO</td>\n",
              "      <td>46.074779</td>\n",
              "      <td>11.121749</td>\n",
              "      <td>46,0747793</td>\n",
              "      <td>11,1217486</td>\n",
              "      <td>POINT (11.12175 46.07478)</td>\n",
              "      <td>563.824881</td>\n",
              "    </tr>\n",
              "  </tbody>\n",
              "</table>\n",
              "</div>"
            ],
            "text/plain": [
              "     COD_FARMACIA_OD  COD_FARMACIA  ...                   geometry     distance\n",
              "17   FAR042101004178          4178  ...  POINT (11.12152 46.06762)   243.486471\n",
              "19   FAR042101004180          4180  ...  POINT (11.11176 46.06221)  1091.193285\n",
              "25   FAR042101004186          4186  ...  POINT (11.13275 46.05780)  1619.147637\n",
              "87   FAR042101004250          4250  ...  POINT (11.12513 46.07481)   655.432357\n",
              "88   FAR042101004251          4251  ...  POINT (11.11176 46.06221)  1091.193285\n",
              "98   FAR042101004261          4261  ...  POINT (11.12109 46.06969)    23.992939\n",
              "101  FAR042101004264          4264  ...  POINT (11.11176 46.06221)  1091.193285\n",
              "105  FAR042101004270          4270  ...  POINT (11.12109 46.06969)    23.992939\n",
              "107  FAR042101004272          4272  ...  POINT (11.11176 46.06221)  1091.193285\n",
              "117  FAR042101016627         16627  ...  POINT (11.12478 46.05885)  1250.157477\n",
              "120  FAR042101016665         16665  ...  POINT (11.11176 46.06221)  1091.193285\n",
              "121  FAR042101016670         16670  ...  POINT (11.11982 46.05249)  1919.456072\n",
              "124  FAR042101016677         16677  ...  POINT (11.11176 46.06221)  1091.193285\n",
              "127  FAR042101016698         16698  ...  POINT (11.11342 46.07068)   579.714133\n",
              "157  FAR042101018168         18168  ...  POINT (11.12577 46.05892)  1263.645206\n",
              "158  FAR042101018181         18181  ...  POINT (11.11176 46.06221)  1091.193285\n",
              "171  FAR042101018834         18834  ...  POINT (11.12109 46.06969)    23.992939\n",
              "173  FAR042101019298         19298  ...  POINT (11.12808 46.06091)  1132.464809\n",
              "174  FAR042101019376         19376  ...  POINT (11.12175 46.07478)   563.824881\n",
              "\n",
              "[19 rows x 21 columns]"
            ]
          },
          "metadata": {
            "tags": []
          },
          "execution_count": 49
        }
      ]
    },
    {
      "cell_type": "markdown",
      "metadata": {
        "id": "9ieJP60AHoNX"
      },
      "source": [
        "**note**:\n",
        "\n",
        "there are always data with wrong latitude and longitude\n",
        "\n",
        "Here how to find the rows with the duplicated geometries"
      ]
    },
    {
      "cell_type": "code",
      "metadata": {
        "id": "q4KrKu1kEnJU"
      },
      "source": [
        "onlygeometry_phamarcy = phamarcies_2000m_from_public_library_trento.geometry"
      ],
      "execution_count": null,
      "outputs": []
    },
    {
      "cell_type": "code",
      "metadata": {
        "id": "sv6sNGRMDj2q"
      },
      "source": [
        "toremove = phamarcies_2000m_from_public_library_trento[onlygeometry_phamarcy.isin(onlygeometry_phamarcy[onlygeometry.duplicated()])]"
      ],
      "execution_count": null,
      "outputs": []
    },
    {
      "cell_type": "code",
      "metadata": {
        "id": "Y-iGHn8yKu5y",
        "outputId": "5666a60c-e09c-4f54-d729-149bf628ec3c",
        "colab": {
          "base_uri": "https://localhost:8080/"
        }
      },
      "source": [
        "list(toremove.COD_FARMACIA_OD)"
      ],
      "execution_count": null,
      "outputs": [
        {
          "output_type": "execute_result",
          "data": {
            "text/plain": [
              "['FAR042101004180',\n",
              " 'FAR042101004251',\n",
              " 'FAR042101004261',\n",
              " 'FAR042101004264',\n",
              " 'FAR042101004270',\n",
              " 'FAR042101004272',\n",
              " 'FAR042101016665',\n",
              " 'FAR042101016677',\n",
              " 'FAR042101018181',\n",
              " 'FAR042101018834']"
            ]
          },
          "metadata": {
            "tags": []
          },
          "execution_count": 52
        }
      ]
    },
    {
      "cell_type": "code",
      "metadata": {
        "id": "_tDeUFbSIhO5"
      },
      "source": [
        "final_dataset = phamarcies_2000m_from_public_library_trento[~phamarcies_2000m_from_public_library_trento.COD_FARMACIA_OD.isin(list(toremove.COD_FARMACIA_OD))]"
      ],
      "execution_count": null,
      "outputs": []
    },
    {
      "cell_type": "code",
      "metadata": {
        "id": "-X0917m1K_FY"
      },
      "source": [
        "final_dataset = final_dataset.reset_index()"
      ],
      "execution_count": null,
      "outputs": []
    },
    {
      "cell_type": "markdown",
      "metadata": {
        "id": "kaSGdVMOPvqe"
      },
      "source": [
        "## convex hull\n",
        "\n",
        "![](https://media.geeksforgeeks.org/wp-content/uploads/ConvexHull.png)\n",
        "\n",
        "In geometry, the convex hull or convex envelope or convex closure of a shape is the smallest convex set that contains it. The convex hull may be defined either as the intersection of all convex sets containing a given subset of a Euclidean space, or equivalently as the set of all convex combinations of points in the subset. For a bounded subset of the plane, the convex hull may be visualized as the shape enclosed by a rubber band stretched around the subset. (source: [Wikipedia](https://en.wikipedia.org/wiki/Convex_hull))\n"
      ]
    },
    {
      "cell_type": "code",
      "metadata": {
        "id": "ob33T9VYCRbz",
        "outputId": "3b9624b6-fcf8-43bd-cb8f-e4e0778691f9",
        "colab": {
          "base_uri": "https://localhost:8080/",
          "height": 121
        }
      },
      "source": [
        "final_dataset.geometry.unary_union.convex_hull"
      ],
      "execution_count": null,
      "outputs": [
        {
          "output_type": "execute_result",
          "data": {
            "text/plain": [
              "<shapely.geometry.polygon.Polygon at 0x7f9b9589a940>"
            ],
            "image/svg+xml": "<svg xmlns=\"http://www.w3.org/2000/svg\" xmlns:xlink=\"http://www.w3.org/1999/xlink\" width=\"100.0\" height=\"100.0\" viewBox=\"11.112522328110881 46.051601051035576 0.021122781174938154 0.024104966437441533\" preserveAspectRatio=\"xMinYMin meet\"><g transform=\"matrix(1,0,0,-1,0,92.1273070685086)\"><path fill-rule=\"evenodd\" fill=\"#66cc99\" stroke=\"#555555\" stroke-width=\"0.00048209932874883067\" opacity=\"0.6\" d=\"M 11.1198202997403,46.052493827570295 L 11.1134151046456,46.0706761122494 L 11.121748599999998,46.074779299999996 L 11.1251346567747,46.0748132409383 L 11.1327523327511,46.057797193467295 L 11.1198202997403,46.052493827570295 z\" /></g></svg>"
          },
          "metadata": {
            "tags": []
          },
          "execution_count": 59
        }
      ]
    },
    {
      "cell_type": "markdown",
      "metadata": {
        "id": "XUhq42UtCV2p"
      },
      "source": [
        "# save the polygon in geopackage with the attribute \"description\" with value \"area of the pharmacies 2km from the Trento public libray\""
      ]
    },
    {
      "cell_type": "code",
      "metadata": {
        "id": "zywtgQW8CvKx"
      },
      "source": [
        "polygon = final_dataset.geometry.unary_union.convex_hull"
      ],
      "execution_count": null,
      "outputs": []
    },
    {
      "cell_type": "code",
      "metadata": {
        "id": "wOqb-mydCzVg"
      },
      "source": [
        "d = {'description': ['area of the pharmacies 2km from the Trento public libray'], 'geometry': [polygon]}"
      ],
      "execution_count": null,
      "outputs": []
    },
    {
      "cell_type": "code",
      "metadata": {
        "id": "aF2_FztAGQyH"
      },
      "source": [
        "phamarcies2k = gpd.GeoDataFrame(d, crs=final_dataset.crs)"
      ],
      "execution_count": null,
      "outputs": []
    },
    {
      "cell_type": "code",
      "metadata": {
        "id": "TetWBiclGSey"
      },
      "source": [
        "phamarcies2k.to_file(\"phamarcies2k_to_pl_trento.gpkg\",driver=\"GPKG\",layer='phamarcies')"
      ],
      "execution_count": null,
      "outputs": []
    },
    {
      "cell_type": "code",
      "metadata": {
        "id": "23lnYwhZPFJi",
        "outputId": "6305402b-3d9d-4d15-e138-cc9e7b027bb2",
        "colab": {
          "base_uri": "https://localhost:8080/",
          "height": 17
        }
      },
      "source": [
        "from google.colab import files\n",
        "files.download('phamarcies2k_to_pl_trento.gpkg')"
      ],
      "execution_count": null,
      "outputs": [
        {
          "output_type": "display_data",
          "data": {
            "application/javascript": [
              "\n",
              "    async function download(id, filename, size) {\n",
              "      if (!google.colab.kernel.accessAllowed) {\n",
              "        return;\n",
              "      }\n",
              "      const div = document.createElement('div');\n",
              "      const label = document.createElement('label');\n",
              "      label.textContent = `Downloading \"${filename}\": `;\n",
              "      div.appendChild(label);\n",
              "      const progress = document.createElement('progress');\n",
              "      progress.max = size;\n",
              "      div.appendChild(progress);\n",
              "      document.body.appendChild(div);\n",
              "\n",
              "      const buffers = [];\n",
              "      let downloaded = 0;\n",
              "\n",
              "      const channel = await google.colab.kernel.comms.open(id);\n",
              "      // Send a message to notify the kernel that we're ready.\n",
              "      channel.send({})\n",
              "\n",
              "      for await (const message of channel.messages) {\n",
              "        // Send a message to notify the kernel that we're ready.\n",
              "        channel.send({})\n",
              "        if (message.buffers) {\n",
              "          for (const buffer of message.buffers) {\n",
              "            buffers.push(buffer);\n",
              "            downloaded += buffer.byteLength;\n",
              "            progress.value = downloaded;\n",
              "          }\n",
              "        }\n",
              "      }\n",
              "      const blob = new Blob(buffers, {type: 'application/binary'});\n",
              "      const a = document.createElement('a');\n",
              "      a.href = window.URL.createObjectURL(blob);\n",
              "      a.download = filename;\n",
              "      div.appendChild(a);\n",
              "      a.click();\n",
              "      div.remove();\n",
              "    }\n",
              "  "
            ],
            "text/plain": [
              "<IPython.core.display.Javascript object>"
            ]
          },
          "metadata": {
            "tags": []
          }
        },
        {
          "output_type": "display_data",
          "data": {
            "application/javascript": [
              "download(\"download_ea6ddb71-8d24-456b-9f50-ef8842d1681e\", \"phamarcies2k_to_pl_trento.gpkg\", 98304)"
            ],
            "text/plain": [
              "<IPython.core.display.Javascript object>"
            ]
          },
          "metadata": {
            "tags": []
          }
        }
      ]
    }
  ]
}